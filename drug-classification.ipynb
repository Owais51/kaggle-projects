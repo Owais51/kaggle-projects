{
 "cells": [
  {
   "cell_type": "code",
   "execution_count": 1,
   "id": "0b0a6e5c",
   "metadata": {
    "_cell_guid": "b1076dfc-b9ad-4769-8c92-a6c4dae69d19",
    "_uuid": "8f2839f25d086af736a60e9eeb907d3b93b6e0e5",
    "execution": {
     "iopub.execute_input": "2023-01-25T05:17:39.459855Z",
     "iopub.status.busy": "2023-01-25T05:17:39.459003Z",
     "iopub.status.idle": "2023-01-25T05:17:39.469455Z",
     "shell.execute_reply": "2023-01-25T05:17:39.470173Z",
     "shell.execute_reply.started": "2022-02-28T13:02:28.750382Z"
    },
    "papermill": {
     "duration": 0.05447,
     "end_time": "2023-01-25T05:17:39.470508",
     "exception": false,
     "start_time": "2023-01-25T05:17:39.416038",
     "status": "completed"
    },
    "tags": []
   },
   "outputs": [
    {
     "name": "stdout",
     "output_type": "stream",
     "text": [
      "/kaggle/input/drug-classification/drug200.csv\n"
     ]
    }
   ],
   "source": [
    "# This Python 3 environment comes with many helpful analytics libraries installed\n",
    "# It is defined by the kaggle/python Docker image: https://github.com/kaggle/docker-python\n",
    "# For example, here's several helpful packages to load\n",
    "\n",
    "import numpy as np # linear algebra\n",
    "import pandas as pd # data processing, CSV file I/O (e.g. pd.read_csv)\n",
    "\n",
    "# Input data files are available in the read-only \"../input/\" directory\n",
    "# For example, running this (by clicking run or pressing Shift+Enter) will list all files under the input directory\n",
    "\n",
    "import os\n",
    "for dirname, _, filenames in os.walk('/kaggle/input'):\n",
    "    for filename in filenames:\n",
    "        print(os.path.join(dirname, filename))\n",
    "\n",
    "# You can write up to 20GB to the current directory (/kaggle/working/) that gets preserved as output when you create a version using \"Save & Run All\" \n",
    "# You can also write temporary files to /kaggle/temp/, but they won't be saved outside of the current session"
   ]
  },
  {
   "cell_type": "markdown",
   "id": "444adba7",
   "metadata": {
    "papermill": {
     "duration": 0.030981,
     "end_time": "2023-01-25T05:17:39.533912",
     "exception": false,
     "start_time": "2023-01-25T05:17:39.502931",
     "status": "completed"
    },
    "tags": []
   },
   "source": [
    "# The dataset given below is supervised learning, where a input data is provided to the model along with the output. The goal of supervised learning is to train the model so that it can predict the output when it is given new data."
   ]
  },
  {
   "cell_type": "code",
   "execution_count": 2,
   "id": "e3369c1c",
   "metadata": {
    "execution": {
     "iopub.execute_input": "2023-01-25T05:17:39.603833Z",
     "iopub.status.busy": "2023-01-25T05:17:39.602959Z",
     "iopub.status.idle": "2023-01-25T05:17:39.649198Z",
     "shell.execute_reply": "2023-01-25T05:17:39.649793Z",
     "shell.execute_reply.started": "2022-02-28T13:02:28.782034Z"
    },
    "papermill": {
     "duration": 0.084538,
     "end_time": "2023-01-25T05:17:39.649990",
     "exception": false,
     "start_time": "2023-01-25T05:17:39.565452",
     "status": "completed"
    },
    "tags": []
   },
   "outputs": [
    {
     "data": {
      "text/html": [
       "<div>\n",
       "<style scoped>\n",
       "    .dataframe tbody tr th:only-of-type {\n",
       "        vertical-align: middle;\n",
       "    }\n",
       "\n",
       "    .dataframe tbody tr th {\n",
       "        vertical-align: top;\n",
       "    }\n",
       "\n",
       "    .dataframe thead th {\n",
       "        text-align: right;\n",
       "    }\n",
       "</style>\n",
       "<table border=\"1\" class=\"dataframe\">\n",
       "  <thead>\n",
       "    <tr style=\"text-align: right;\">\n",
       "      <th></th>\n",
       "      <th>Age</th>\n",
       "      <th>Sex</th>\n",
       "      <th>BP</th>\n",
       "      <th>Cholesterol</th>\n",
       "      <th>Na_to_K</th>\n",
       "      <th>Drug</th>\n",
       "    </tr>\n",
       "  </thead>\n",
       "  <tbody>\n",
       "    <tr>\n",
       "      <th>0</th>\n",
       "      <td>23</td>\n",
       "      <td>F</td>\n",
       "      <td>HIGH</td>\n",
       "      <td>HIGH</td>\n",
       "      <td>25.355</td>\n",
       "      <td>DrugY</td>\n",
       "    </tr>\n",
       "    <tr>\n",
       "      <th>1</th>\n",
       "      <td>47</td>\n",
       "      <td>M</td>\n",
       "      <td>LOW</td>\n",
       "      <td>HIGH</td>\n",
       "      <td>13.093</td>\n",
       "      <td>drugC</td>\n",
       "    </tr>\n",
       "    <tr>\n",
       "      <th>2</th>\n",
       "      <td>47</td>\n",
       "      <td>M</td>\n",
       "      <td>LOW</td>\n",
       "      <td>HIGH</td>\n",
       "      <td>10.114</td>\n",
       "      <td>drugC</td>\n",
       "    </tr>\n",
       "    <tr>\n",
       "      <th>3</th>\n",
       "      <td>28</td>\n",
       "      <td>F</td>\n",
       "      <td>NORMAL</td>\n",
       "      <td>HIGH</td>\n",
       "      <td>7.798</td>\n",
       "      <td>drugX</td>\n",
       "    </tr>\n",
       "    <tr>\n",
       "      <th>4</th>\n",
       "      <td>61</td>\n",
       "      <td>F</td>\n",
       "      <td>LOW</td>\n",
       "      <td>HIGH</td>\n",
       "      <td>18.043</td>\n",
       "      <td>DrugY</td>\n",
       "    </tr>\n",
       "    <tr>\n",
       "      <th>...</th>\n",
       "      <td>...</td>\n",
       "      <td>...</td>\n",
       "      <td>...</td>\n",
       "      <td>...</td>\n",
       "      <td>...</td>\n",
       "      <td>...</td>\n",
       "    </tr>\n",
       "    <tr>\n",
       "      <th>195</th>\n",
       "      <td>56</td>\n",
       "      <td>F</td>\n",
       "      <td>LOW</td>\n",
       "      <td>HIGH</td>\n",
       "      <td>11.567</td>\n",
       "      <td>drugC</td>\n",
       "    </tr>\n",
       "    <tr>\n",
       "      <th>196</th>\n",
       "      <td>16</td>\n",
       "      <td>M</td>\n",
       "      <td>LOW</td>\n",
       "      <td>HIGH</td>\n",
       "      <td>12.006</td>\n",
       "      <td>drugC</td>\n",
       "    </tr>\n",
       "    <tr>\n",
       "      <th>197</th>\n",
       "      <td>52</td>\n",
       "      <td>M</td>\n",
       "      <td>NORMAL</td>\n",
       "      <td>HIGH</td>\n",
       "      <td>9.894</td>\n",
       "      <td>drugX</td>\n",
       "    </tr>\n",
       "    <tr>\n",
       "      <th>198</th>\n",
       "      <td>23</td>\n",
       "      <td>M</td>\n",
       "      <td>NORMAL</td>\n",
       "      <td>NORMAL</td>\n",
       "      <td>14.020</td>\n",
       "      <td>drugX</td>\n",
       "    </tr>\n",
       "    <tr>\n",
       "      <th>199</th>\n",
       "      <td>40</td>\n",
       "      <td>F</td>\n",
       "      <td>LOW</td>\n",
       "      <td>NORMAL</td>\n",
       "      <td>11.349</td>\n",
       "      <td>drugX</td>\n",
       "    </tr>\n",
       "  </tbody>\n",
       "</table>\n",
       "<p>200 rows × 6 columns</p>\n",
       "</div>"
      ],
      "text/plain": [
       "     Age Sex      BP Cholesterol  Na_to_K   Drug\n",
       "0     23   F    HIGH        HIGH   25.355  DrugY\n",
       "1     47   M     LOW        HIGH   13.093  drugC\n",
       "2     47   M     LOW        HIGH   10.114  drugC\n",
       "3     28   F  NORMAL        HIGH    7.798  drugX\n",
       "4     61   F     LOW        HIGH   18.043  DrugY\n",
       "..   ...  ..     ...         ...      ...    ...\n",
       "195   56   F     LOW        HIGH   11.567  drugC\n",
       "196   16   M     LOW        HIGH   12.006  drugC\n",
       "197   52   M  NORMAL        HIGH    9.894  drugX\n",
       "198   23   M  NORMAL      NORMAL   14.020  drugX\n",
       "199   40   F     LOW      NORMAL   11.349  drugX\n",
       "\n",
       "[200 rows x 6 columns]"
      ]
     },
     "execution_count": 2,
     "metadata": {},
     "output_type": "execute_result"
    }
   ],
   "source": [
    "data=pd.read_csv('/kaggle/input/drug-classification/drug200.csv')\n",
    "data"
   ]
  },
  {
   "cell_type": "code",
   "execution_count": 3,
   "id": "f2a9b85d",
   "metadata": {
    "execution": {
     "iopub.execute_input": "2023-01-25T05:17:39.728711Z",
     "iopub.status.busy": "2023-01-25T05:17:39.727760Z",
     "iopub.status.idle": "2023-01-25T05:17:39.731288Z",
     "shell.execute_reply": "2023-01-25T05:17:39.731871Z",
     "shell.execute_reply.started": "2022-02-28T13:02:28.824517Z"
    },
    "papermill": {
     "duration": 0.049377,
     "end_time": "2023-01-25T05:17:39.732069",
     "exception": false,
     "start_time": "2023-01-25T05:17:39.682692",
     "status": "completed"
    },
    "tags": []
   },
   "outputs": [
    {
     "data": {
      "text/html": [
       "<div>\n",
       "<style scoped>\n",
       "    .dataframe tbody tr th:only-of-type {\n",
       "        vertical-align: middle;\n",
       "    }\n",
       "\n",
       "    .dataframe tbody tr th {\n",
       "        vertical-align: top;\n",
       "    }\n",
       "\n",
       "    .dataframe thead th {\n",
       "        text-align: right;\n",
       "    }\n",
       "</style>\n",
       "<table border=\"1\" class=\"dataframe\">\n",
       "  <thead>\n",
       "    <tr style=\"text-align: right;\">\n",
       "      <th></th>\n",
       "      <th>Age</th>\n",
       "      <th>Sex</th>\n",
       "      <th>BP</th>\n",
       "      <th>Cholesterol</th>\n",
       "      <th>Na_to_K</th>\n",
       "      <th>Drug</th>\n",
       "    </tr>\n",
       "  </thead>\n",
       "  <tbody>\n",
       "    <tr>\n",
       "      <th>0</th>\n",
       "      <td>23</td>\n",
       "      <td>F</td>\n",
       "      <td>HIGH</td>\n",
       "      <td>HIGH</td>\n",
       "      <td>25.355</td>\n",
       "      <td>DrugY</td>\n",
       "    </tr>\n",
       "    <tr>\n",
       "      <th>1</th>\n",
       "      <td>47</td>\n",
       "      <td>M</td>\n",
       "      <td>LOW</td>\n",
       "      <td>HIGH</td>\n",
       "      <td>13.093</td>\n",
       "      <td>drugC</td>\n",
       "    </tr>\n",
       "    <tr>\n",
       "      <th>2</th>\n",
       "      <td>47</td>\n",
       "      <td>M</td>\n",
       "      <td>LOW</td>\n",
       "      <td>HIGH</td>\n",
       "      <td>10.114</td>\n",
       "      <td>drugC</td>\n",
       "    </tr>\n",
       "    <tr>\n",
       "      <th>3</th>\n",
       "      <td>28</td>\n",
       "      <td>F</td>\n",
       "      <td>NORMAL</td>\n",
       "      <td>HIGH</td>\n",
       "      <td>7.798</td>\n",
       "      <td>drugX</td>\n",
       "    </tr>\n",
       "    <tr>\n",
       "      <th>4</th>\n",
       "      <td>61</td>\n",
       "      <td>F</td>\n",
       "      <td>LOW</td>\n",
       "      <td>HIGH</td>\n",
       "      <td>18.043</td>\n",
       "      <td>DrugY</td>\n",
       "    </tr>\n",
       "  </tbody>\n",
       "</table>\n",
       "</div>"
      ],
      "text/plain": [
       "   Age Sex      BP Cholesterol  Na_to_K   Drug\n",
       "0   23   F    HIGH        HIGH   25.355  DrugY\n",
       "1   47   M     LOW        HIGH   13.093  drugC\n",
       "2   47   M     LOW        HIGH   10.114  drugC\n",
       "3   28   F  NORMAL        HIGH    7.798  drugX\n",
       "4   61   F     LOW        HIGH   18.043  DrugY"
      ]
     },
     "execution_count": 3,
     "metadata": {},
     "output_type": "execute_result"
    }
   ],
   "source": [
    "data.head(5)"
   ]
  },
  {
   "cell_type": "markdown",
   "id": "ba514143",
   "metadata": {
    "papermill": {
     "duration": 0.033447,
     "end_time": "2023-01-25T05:17:39.800847",
     "exception": false,
     "start_time": "2023-01-25T05:17:39.767400",
     "status": "completed"
    },
    "tags": []
   },
   "source": [
    "# Step 1:\n",
    "# The first step is to find the null values given in the data.        "
   ]
  },
  {
   "cell_type": "code",
   "execution_count": 4,
   "id": "9f73514c",
   "metadata": {
    "execution": {
     "iopub.execute_input": "2023-01-25T05:17:39.878043Z",
     "iopub.status.busy": "2023-01-25T05:17:39.874562Z",
     "iopub.status.idle": "2023-01-25T05:17:39.882897Z",
     "shell.execute_reply": "2023-01-25T05:17:39.882167Z",
     "shell.execute_reply.started": "2022-02-28T13:02:28.837973Z"
    },
    "papermill": {
     "duration": 0.047811,
     "end_time": "2023-01-25T05:17:39.883100",
     "exception": false,
     "start_time": "2023-01-25T05:17:39.835289",
     "status": "completed"
    },
    "tags": []
   },
   "outputs": [
    {
     "data": {
      "text/plain": [
       "Age            0\n",
       "Sex            0\n",
       "BP             0\n",
       "Cholesterol    0\n",
       "Na_to_K        0\n",
       "Drug           0\n",
       "dtype: int64"
      ]
     },
     "execution_count": 4,
     "metadata": {},
     "output_type": "execute_result"
    }
   ],
   "source": [
    "data.isnull().sum()"
   ]
  },
  {
   "cell_type": "markdown",
   "id": "42b961fb",
   "metadata": {
    "papermill": {
     "duration": 0.032645,
     "end_time": "2023-01-25T05:17:39.952994",
     "exception": false,
     "start_time": "2023-01-25T05:17:39.920349",
     "status": "completed"
    },
    "tags": []
   },
   "source": [
    "# Step 2:\n",
    "# Since there are no null values in the given data, we proceed to step 3.\n",
    "# Incase if there are any null values, we replace it with 0 or any other number or variable satisfying the given data. For example data.x=data.x.fillna(0), where x is an imaginary column."
   ]
  },
  {
   "cell_type": "code",
   "execution_count": 5,
   "id": "09f440de",
   "metadata": {
    "execution": {
     "iopub.execute_input": "2023-01-25T05:17:40.034062Z",
     "iopub.status.busy": "2023-01-25T05:17:40.033019Z",
     "iopub.status.idle": "2023-01-25T05:17:40.037230Z",
     "shell.execute_reply": "2023-01-25T05:17:40.037955Z",
     "shell.execute_reply.started": "2022-02-28T13:02:28.855542Z"
    },
    "papermill": {
     "duration": 0.049048,
     "end_time": "2023-01-25T05:17:40.038170",
     "exception": false,
     "start_time": "2023-01-25T05:17:39.989122",
     "status": "completed"
    },
    "tags": []
   },
   "outputs": [
    {
     "data": {
      "text/plain": [
       "(200, 6)"
      ]
     },
     "execution_count": 5,
     "metadata": {},
     "output_type": "execute_result"
    }
   ],
   "source": [
    "data.shape"
   ]
  },
  {
   "cell_type": "markdown",
   "id": "73a79b90",
   "metadata": {
    "papermill": {
     "duration": 0.034597,
     "end_time": "2023-01-25T05:17:40.112103",
     "exception": false,
     "start_time": "2023-01-25T05:17:40.077506",
     "status": "completed"
    },
    "tags": []
   },
   "source": [
    "# Step 3:\n",
    "# We drop the drug column as we have to predict which drug the patient needs."
   ]
  },
  {
   "cell_type": "code",
   "execution_count": 6,
   "id": "7f479cf5",
   "metadata": {
    "execution": {
     "iopub.execute_input": "2023-01-25T05:17:40.183753Z",
     "iopub.status.busy": "2023-01-25T05:17:40.182679Z",
     "iopub.status.idle": "2023-01-25T05:17:40.205881Z",
     "shell.execute_reply": "2023-01-25T05:17:40.205294Z",
     "shell.execute_reply.started": "2022-02-28T13:02:28.868520Z"
    },
    "papermill": {
     "duration": 0.059221,
     "end_time": "2023-01-25T05:17:40.206049",
     "exception": false,
     "start_time": "2023-01-25T05:17:40.146828",
     "status": "completed"
    },
    "tags": []
   },
   "outputs": [
    {
     "data": {
      "text/html": [
       "<div>\n",
       "<style scoped>\n",
       "    .dataframe tbody tr th:only-of-type {\n",
       "        vertical-align: middle;\n",
       "    }\n",
       "\n",
       "    .dataframe tbody tr th {\n",
       "        vertical-align: top;\n",
       "    }\n",
       "\n",
       "    .dataframe thead th {\n",
       "        text-align: right;\n",
       "    }\n",
       "</style>\n",
       "<table border=\"1\" class=\"dataframe\">\n",
       "  <thead>\n",
       "    <tr style=\"text-align: right;\">\n",
       "      <th></th>\n",
       "      <th>Age</th>\n",
       "      <th>Sex</th>\n",
       "      <th>BP</th>\n",
       "      <th>Cholesterol</th>\n",
       "      <th>Na_to_K</th>\n",
       "    </tr>\n",
       "  </thead>\n",
       "  <tbody>\n",
       "    <tr>\n",
       "      <th>0</th>\n",
       "      <td>23</td>\n",
       "      <td>F</td>\n",
       "      <td>HIGH</td>\n",
       "      <td>HIGH</td>\n",
       "      <td>25.355</td>\n",
       "    </tr>\n",
       "    <tr>\n",
       "      <th>1</th>\n",
       "      <td>47</td>\n",
       "      <td>M</td>\n",
       "      <td>LOW</td>\n",
       "      <td>HIGH</td>\n",
       "      <td>13.093</td>\n",
       "    </tr>\n",
       "    <tr>\n",
       "      <th>2</th>\n",
       "      <td>47</td>\n",
       "      <td>M</td>\n",
       "      <td>LOW</td>\n",
       "      <td>HIGH</td>\n",
       "      <td>10.114</td>\n",
       "    </tr>\n",
       "    <tr>\n",
       "      <th>3</th>\n",
       "      <td>28</td>\n",
       "      <td>F</td>\n",
       "      <td>NORMAL</td>\n",
       "      <td>HIGH</td>\n",
       "      <td>7.798</td>\n",
       "    </tr>\n",
       "    <tr>\n",
       "      <th>4</th>\n",
       "      <td>61</td>\n",
       "      <td>F</td>\n",
       "      <td>LOW</td>\n",
       "      <td>HIGH</td>\n",
       "      <td>18.043</td>\n",
       "    </tr>\n",
       "    <tr>\n",
       "      <th>...</th>\n",
       "      <td>...</td>\n",
       "      <td>...</td>\n",
       "      <td>...</td>\n",
       "      <td>...</td>\n",
       "      <td>...</td>\n",
       "    </tr>\n",
       "    <tr>\n",
       "      <th>195</th>\n",
       "      <td>56</td>\n",
       "      <td>F</td>\n",
       "      <td>LOW</td>\n",
       "      <td>HIGH</td>\n",
       "      <td>11.567</td>\n",
       "    </tr>\n",
       "    <tr>\n",
       "      <th>196</th>\n",
       "      <td>16</td>\n",
       "      <td>M</td>\n",
       "      <td>LOW</td>\n",
       "      <td>HIGH</td>\n",
       "      <td>12.006</td>\n",
       "    </tr>\n",
       "    <tr>\n",
       "      <th>197</th>\n",
       "      <td>52</td>\n",
       "      <td>M</td>\n",
       "      <td>NORMAL</td>\n",
       "      <td>HIGH</td>\n",
       "      <td>9.894</td>\n",
       "    </tr>\n",
       "    <tr>\n",
       "      <th>198</th>\n",
       "      <td>23</td>\n",
       "      <td>M</td>\n",
       "      <td>NORMAL</td>\n",
       "      <td>NORMAL</td>\n",
       "      <td>14.020</td>\n",
       "    </tr>\n",
       "    <tr>\n",
       "      <th>199</th>\n",
       "      <td>40</td>\n",
       "      <td>F</td>\n",
       "      <td>LOW</td>\n",
       "      <td>NORMAL</td>\n",
       "      <td>11.349</td>\n",
       "    </tr>\n",
       "  </tbody>\n",
       "</table>\n",
       "<p>200 rows × 5 columns</p>\n",
       "</div>"
      ],
      "text/plain": [
       "     Age Sex      BP Cholesterol  Na_to_K\n",
       "0     23   F    HIGH        HIGH   25.355\n",
       "1     47   M     LOW        HIGH   13.093\n",
       "2     47   M     LOW        HIGH   10.114\n",
       "3     28   F  NORMAL        HIGH    7.798\n",
       "4     61   F     LOW        HIGH   18.043\n",
       "..   ...  ..     ...         ...      ...\n",
       "195   56   F     LOW        HIGH   11.567\n",
       "196   16   M     LOW        HIGH   12.006\n",
       "197   52   M  NORMAL        HIGH    9.894\n",
       "198   23   M  NORMAL      NORMAL   14.020\n",
       "199   40   F     LOW      NORMAL   11.349\n",
       "\n",
       "[200 rows x 5 columns]"
      ]
     },
     "execution_count": 6,
     "metadata": {},
     "output_type": "execute_result"
    }
   ],
   "source": [
    "x=data.drop(columns=['Drug'])\n",
    "x"
   ]
  },
  {
   "cell_type": "markdown",
   "id": "8fb08a6f",
   "metadata": {
    "papermill": {
     "duration": 0.032809,
     "end_time": "2023-01-25T05:17:40.273342",
     "exception": false,
     "start_time": "2023-01-25T05:17:40.240533",
     "status": "completed"
    },
    "tags": []
   },
   "source": [
    "# Step 4:\n",
    "# Assign a different variable y in order to predict the type of drugs suitable for a person."
   ]
  },
  {
   "cell_type": "code",
   "execution_count": 7,
   "id": "a2de84e8",
   "metadata": {
    "execution": {
     "iopub.execute_input": "2023-01-25T05:17:40.350942Z",
     "iopub.status.busy": "2023-01-25T05:17:40.347022Z",
     "iopub.status.idle": "2023-01-25T05:17:40.353917Z",
     "shell.execute_reply": "2023-01-25T05:17:40.354477Z",
     "shell.execute_reply.started": "2022-02-28T13:02:28.898821Z"
    },
    "papermill": {
     "duration": 0.04659,
     "end_time": "2023-01-25T05:17:40.354695",
     "exception": false,
     "start_time": "2023-01-25T05:17:40.308105",
     "status": "completed"
    },
    "tags": []
   },
   "outputs": [
    {
     "data": {
      "text/plain": [
       "0      DrugY\n",
       "1      drugC\n",
       "2      drugC\n",
       "3      drugX\n",
       "4      DrugY\n",
       "       ...  \n",
       "195    drugC\n",
       "196    drugC\n",
       "197    drugX\n",
       "198    drugX\n",
       "199    drugX\n",
       "Name: Drug, Length: 200, dtype: object"
      ]
     },
     "execution_count": 7,
     "metadata": {},
     "output_type": "execute_result"
    }
   ],
   "source": [
    "y=data.Drug\n",
    "y"
   ]
  },
  {
   "cell_type": "markdown",
   "id": "62c92256",
   "metadata": {
    "papermill": {
     "duration": 0.036741,
     "end_time": "2023-01-25T05:17:40.429174",
     "exception": false,
     "start_time": "2023-01-25T05:17:40.392433",
     "status": "completed"
    },
    "tags": []
   },
   "source": [
    "# Step 5:\n",
    "# We split the data at train and test, where we first train the x data and the prediction will be prevailed in the testing part. The test we have assumed here to be 0.20, which means 20% of the data from the testing part and 80% of the data is taken from the training part."
   ]
  },
  {
   "cell_type": "code",
   "execution_count": 8,
   "id": "f8edae42",
   "metadata": {
    "execution": {
     "iopub.execute_input": "2023-01-25T05:17:40.503088Z",
     "iopub.status.busy": "2023-01-25T05:17:40.502324Z",
     "iopub.status.idle": "2023-01-25T05:17:41.692579Z",
     "shell.execute_reply": "2023-01-25T05:17:41.691938Z",
     "shell.execute_reply.started": "2022-02-28T13:02:28.911781Z"
    },
    "papermill": {
     "duration": 1.228892,
     "end_time": "2023-01-25T05:17:41.692792",
     "exception": false,
     "start_time": "2023-01-25T05:17:40.463900",
     "status": "completed"
    },
    "tags": []
   },
   "outputs": [],
   "source": [
    "from sklearn.model_selection import train_test_split\n",
    "x_train,x_test,y_train,y_test=train_test_split(x,y,test_size=0.20)"
   ]
  },
  {
   "cell_type": "code",
   "execution_count": 9,
   "id": "58f29020",
   "metadata": {
    "execution": {
     "iopub.execute_input": "2023-01-25T05:17:41.772252Z",
     "iopub.status.busy": "2023-01-25T05:17:41.771436Z",
     "iopub.status.idle": "2023-01-25T05:17:41.774431Z",
     "shell.execute_reply": "2023-01-25T05:17:41.774967Z",
     "shell.execute_reply.started": "2022-02-28T13:02:29.906117Z"
    },
    "papermill": {
     "duration": 0.046304,
     "end_time": "2023-01-25T05:17:41.775163",
     "exception": false,
     "start_time": "2023-01-25T05:17:41.728859",
     "status": "completed"
    },
    "tags": []
   },
   "outputs": [
    {
     "data": {
      "text/plain": [
       "(160, 5)"
      ]
     },
     "execution_count": 9,
     "metadata": {},
     "output_type": "execute_result"
    }
   ],
   "source": [
    "x_train.shape"
   ]
  },
  {
   "cell_type": "code",
   "execution_count": 10,
   "id": "8c774b2d",
   "metadata": {
    "execution": {
     "iopub.execute_input": "2023-01-25T05:17:41.851011Z",
     "iopub.status.busy": "2023-01-25T05:17:41.850205Z",
     "iopub.status.idle": "2023-01-25T05:17:41.853011Z",
     "shell.execute_reply": "2023-01-25T05:17:41.853508Z",
     "shell.execute_reply.started": "2022-02-28T13:02:29.913225Z"
    },
    "papermill": {
     "duration": 0.042789,
     "end_time": "2023-01-25T05:17:41.853714",
     "exception": false,
     "start_time": "2023-01-25T05:17:41.810925",
     "status": "completed"
    },
    "tags": []
   },
   "outputs": [
    {
     "data": {
      "text/plain": [
       "(160,)"
      ]
     },
     "execution_count": 10,
     "metadata": {},
     "output_type": "execute_result"
    }
   ],
   "source": [
    "y_train.shape"
   ]
  },
  {
   "cell_type": "code",
   "execution_count": 11,
   "id": "d080c577",
   "metadata": {
    "execution": {
     "iopub.execute_input": "2023-01-25T05:17:41.929995Z",
     "iopub.status.busy": "2023-01-25T05:17:41.929249Z",
     "iopub.status.idle": "2023-01-25T05:17:41.933191Z",
     "shell.execute_reply": "2023-01-25T05:17:41.932490Z",
     "shell.execute_reply.started": "2022-02-28T13:02:29.926494Z"
    },
    "papermill": {
     "duration": 0.045054,
     "end_time": "2023-01-25T05:17:41.933343",
     "exception": false,
     "start_time": "2023-01-25T05:17:41.888289",
     "status": "completed"
    },
    "tags": []
   },
   "outputs": [
    {
     "data": {
      "text/plain": [
       "(40, 5)"
      ]
     },
     "execution_count": 11,
     "metadata": {},
     "output_type": "execute_result"
    }
   ],
   "source": [
    "x_test.shape"
   ]
  },
  {
   "cell_type": "markdown",
   "id": "7a962277",
   "metadata": {
    "papermill": {
     "duration": 0.035181,
     "end_time": "2023-01-25T05:17:42.005230",
     "exception": false,
     "start_time": "2023-01-25T05:17:41.970049",
     "status": "completed"
    },
    "tags": []
   },
   "source": [
    "# Step 6:\n",
    "# Nominal data: It is the data that can be labelled or classified into mutually exclusive categories within a variable.\n",
    "# Ordinal data: It is a categorical, statistical data type where the variables have natural and ordered categories."
   ]
  },
  {
   "cell_type": "code",
   "execution_count": 12,
   "id": "6ed5ee2d",
   "metadata": {
    "execution": {
     "iopub.execute_input": "2023-01-25T05:17:42.090743Z",
     "iopub.status.busy": "2023-01-25T05:17:42.089967Z",
     "iopub.status.idle": "2023-01-25T05:17:42.094208Z",
     "shell.execute_reply": "2023-01-25T05:17:42.093695Z",
     "shell.execute_reply.started": "2022-02-28T13:02:29.940586Z"
    },
    "papermill": {
     "duration": 0.053062,
     "end_time": "2023-01-25T05:17:42.094365",
     "exception": false,
     "start_time": "2023-01-25T05:17:42.041303",
     "status": "completed"
    },
    "tags": []
   },
   "outputs": [
    {
     "data": {
      "text/html": [
       "<div>\n",
       "<style scoped>\n",
       "    .dataframe tbody tr th:only-of-type {\n",
       "        vertical-align: middle;\n",
       "    }\n",
       "\n",
       "    .dataframe tbody tr th {\n",
       "        vertical-align: top;\n",
       "    }\n",
       "\n",
       "    .dataframe thead th {\n",
       "        text-align: right;\n",
       "    }\n",
       "</style>\n",
       "<table border=\"1\" class=\"dataframe\">\n",
       "  <thead>\n",
       "    <tr style=\"text-align: right;\">\n",
       "      <th></th>\n",
       "      <th>Age</th>\n",
       "      <th>Sex</th>\n",
       "      <th>BP</th>\n",
       "      <th>Cholesterol</th>\n",
       "      <th>Na_to_K</th>\n",
       "    </tr>\n",
       "  </thead>\n",
       "  <tbody>\n",
       "    <tr>\n",
       "      <th>0</th>\n",
       "      <td>23</td>\n",
       "      <td>F</td>\n",
       "      <td>HIGH</td>\n",
       "      <td>HIGH</td>\n",
       "      <td>25.355</td>\n",
       "    </tr>\n",
       "    <tr>\n",
       "      <th>1</th>\n",
       "      <td>47</td>\n",
       "      <td>M</td>\n",
       "      <td>LOW</td>\n",
       "      <td>HIGH</td>\n",
       "      <td>13.093</td>\n",
       "    </tr>\n",
       "    <tr>\n",
       "      <th>2</th>\n",
       "      <td>47</td>\n",
       "      <td>M</td>\n",
       "      <td>LOW</td>\n",
       "      <td>HIGH</td>\n",
       "      <td>10.114</td>\n",
       "    </tr>\n",
       "    <tr>\n",
       "      <th>3</th>\n",
       "      <td>28</td>\n",
       "      <td>F</td>\n",
       "      <td>NORMAL</td>\n",
       "      <td>HIGH</td>\n",
       "      <td>7.798</td>\n",
       "    </tr>\n",
       "    <tr>\n",
       "      <th>4</th>\n",
       "      <td>61</td>\n",
       "      <td>F</td>\n",
       "      <td>LOW</td>\n",
       "      <td>HIGH</td>\n",
       "      <td>18.043</td>\n",
       "    </tr>\n",
       "  </tbody>\n",
       "</table>\n",
       "</div>"
      ],
      "text/plain": [
       "   Age Sex      BP Cholesterol  Na_to_K\n",
       "0   23   F    HIGH        HIGH   25.355\n",
       "1   47   M     LOW        HIGH   13.093\n",
       "2   47   M     LOW        HIGH   10.114\n",
       "3   28   F  NORMAL        HIGH    7.798\n",
       "4   61   F     LOW        HIGH   18.043"
      ]
     },
     "execution_count": 12,
     "metadata": {},
     "output_type": "execute_result"
    }
   ],
   "source": [
    "x.head(5)"
   ]
  },
  {
   "cell_type": "code",
   "execution_count": 13,
   "id": "0bb01adf",
   "metadata": {
    "execution": {
     "iopub.execute_input": "2023-01-25T05:17:42.170014Z",
     "iopub.status.busy": "2023-01-25T05:17:42.169239Z",
     "iopub.status.idle": "2023-01-25T05:17:42.173090Z",
     "shell.execute_reply": "2023-01-25T05:17:42.172535Z",
     "shell.execute_reply.started": "2022-02-28T13:02:29.958573Z"
    },
    "papermill": {
     "duration": 0.043944,
     "end_time": "2023-01-25T05:17:42.173250",
     "exception": false,
     "start_time": "2023-01-25T05:17:42.129306",
     "status": "completed"
    },
    "tags": []
   },
   "outputs": [],
   "source": [
    "nom_cols=[2]\n",
    "ord_cols=[1,3]"
   ]
  },
  {
   "cell_type": "markdown",
   "id": "001c3e52",
   "metadata": {
    "papermill": {
     "duration": 0.036815,
     "end_time": "2023-01-25T05:17:42.246249",
     "exception": false,
     "start_time": "2023-01-25T05:17:42.209434",
     "status": "completed"
    },
    "tags": []
   },
   "source": [
    "# Step 7:\n",
    "# One Hot Encoder: A one hot encoding is a representation of categorical variables as binary vectors. This first requires that the categorical values be mapped to integer values. Then, each integer value is represented as a binary vector that is all zero values except the index of the integer, which is marked with a 1\n",
    "\n",
    "# Ordinal Encoder: In ordinal encoding, each unique category value is assigned an integer value.\n",
    "# For example, “red” is 1, “green” is 2, and “blue” is 3.\n",
    "# This is called an ordinal encoding or an integer encoding and is easily reversible. "
   ]
  },
  {
   "cell_type": "code",
   "execution_count": 14,
   "id": "473458ee",
   "metadata": {
    "execution": {
     "iopub.execute_input": "2023-01-25T05:17:42.320827Z",
     "iopub.status.busy": "2023-01-25T05:17:42.319733Z",
     "iopub.status.idle": "2023-01-25T05:17:42.348576Z",
     "shell.execute_reply": "2023-01-25T05:17:42.347303Z",
     "shell.execute_reply.started": "2022-02-28T13:02:29.967433Z"
    },
    "papermill": {
     "duration": 0.06781,
     "end_time": "2023-01-25T05:17:42.349276",
     "exception": false,
     "start_time": "2023-01-25T05:17:42.281466",
     "status": "completed"
    },
    "tags": []
   },
   "outputs": [
    {
     "data": {
      "text/html": [
       "<style>div.sk-top-container {color: black;background-color: white;}div.sk-toggleable {background-color: white;}label.sk-toggleable__label {cursor: pointer;display: block;width: 100%;margin-bottom: 0;padding: 0.2em 0.3em;box-sizing: border-box;text-align: center;}div.sk-toggleable__content {max-height: 0;max-width: 0;overflow: hidden;text-align: left;background-color: #f0f8ff;}div.sk-toggleable__content pre {margin: 0.2em;color: black;border-radius: 0.25em;background-color: #f0f8ff;}input.sk-toggleable__control:checked~div.sk-toggleable__content {max-height: 200px;max-width: 100%;overflow: auto;}div.sk-estimator input.sk-toggleable__control:checked~label.sk-toggleable__label {background-color: #d4ebff;}div.sk-label input.sk-toggleable__control:checked~label.sk-toggleable__label {background-color: #d4ebff;}input.sk-hidden--visually {border: 0;clip: rect(1px 1px 1px 1px);clip: rect(1px, 1px, 1px, 1px);height: 1px;margin: -1px;overflow: hidden;padding: 0;position: absolute;width: 1px;}div.sk-estimator {font-family: monospace;background-color: #f0f8ff;margin: 0.25em 0.25em;border: 1px dotted black;border-radius: 0.25em;box-sizing: border-box;}div.sk-estimator:hover {background-color: #d4ebff;}div.sk-parallel-item::after {content: \"\";width: 100%;border-bottom: 1px solid gray;flex-grow: 1;}div.sk-label:hover label.sk-toggleable__label {background-color: #d4ebff;}div.sk-serial::before {content: \"\";position: absolute;border-left: 1px solid gray;box-sizing: border-box;top: 2em;bottom: 0;left: 50%;}div.sk-serial {display: flex;flex-direction: column;align-items: center;background-color: white;}div.sk-item {z-index: 1;}div.sk-parallel {display: flex;align-items: stretch;justify-content: center;background-color: white;}div.sk-parallel-item {display: flex;flex-direction: column;position: relative;background-color: white;}div.sk-parallel-item:first-child::after {align-self: flex-end;width: 50%;}div.sk-parallel-item:last-child::after {align-self: flex-start;width: 50%;}div.sk-parallel-item:only-child::after {width: 0;}div.sk-dashed-wrapped {border: 1px dashed gray;margin: 0.2em;box-sizing: border-box;padding-bottom: 0.1em;background-color: white;position: relative;}div.sk-label label {font-family: monospace;font-weight: bold;background-color: white;display: inline-block;line-height: 1.2em;}div.sk-label-container {position: relative;z-index: 2;text-align: center;}div.sk-container {display: inline-block;position: relative;}</style><div class=\"sk-top-container\"><div class=\"sk-container\"><div class=\"sk-item sk-dashed-wrapped\"><div class=\"sk-label-container\"><div class=\"sk-label sk-toggleable\"><input class=\"sk-toggleable__control sk-hidden--visually\" id=\"cac67a37-48f9-4c63-b3fd-f33bccf84745\" type=\"checkbox\" ><label class=\"sk-toggleable__label\" for=\"cac67a37-48f9-4c63-b3fd-f33bccf84745\">ColumnTransformer</label><div class=\"sk-toggleable__content\"><pre>ColumnTransformer(remainder='passthrough',\n",
       "                  transformers=[('onehotencoder', OneHotEncoder(sparse='false'),\n",
       "                                 [2]),\n",
       "                                ('ordinalencoder', OrdinalEncoder(), [1, 3])])</pre></div></div></div><div class=\"sk-parallel\"><div class=\"sk-parallel-item\"><div class=\"sk-item\"><div class=\"sk-label-container\"><div class=\"sk-label sk-toggleable\"><input class=\"sk-toggleable__control sk-hidden--visually\" id=\"ae5475e0-1d12-47d2-9502-3640aede0c90\" type=\"checkbox\" ><label class=\"sk-toggleable__label\" for=\"ae5475e0-1d12-47d2-9502-3640aede0c90\">onehotencoder</label><div class=\"sk-toggleable__content\"><pre>[2]</pre></div></div></div><div class=\"sk-serial\"><div class=\"sk-item\"><div class=\"sk-estimator sk-toggleable\"><input class=\"sk-toggleable__control sk-hidden--visually\" id=\"9eeebd46-1751-47d6-8899-95fb48160b54\" type=\"checkbox\" ><label class=\"sk-toggleable__label\" for=\"9eeebd46-1751-47d6-8899-95fb48160b54\">OneHotEncoder</label><div class=\"sk-toggleable__content\"><pre>OneHotEncoder(sparse='false')</pre></div></div></div></div></div></div><div class=\"sk-parallel-item\"><div class=\"sk-item\"><div class=\"sk-label-container\"><div class=\"sk-label sk-toggleable\"><input class=\"sk-toggleable__control sk-hidden--visually\" id=\"73d22958-1c5a-4c77-805b-4d43e3907eb7\" type=\"checkbox\" ><label class=\"sk-toggleable__label\" for=\"73d22958-1c5a-4c77-805b-4d43e3907eb7\">ordinalencoder</label><div class=\"sk-toggleable__content\"><pre>[1, 3]</pre></div></div></div><div class=\"sk-serial\"><div class=\"sk-item\"><div class=\"sk-estimator sk-toggleable\"><input class=\"sk-toggleable__control sk-hidden--visually\" id=\"d5e078cc-88da-4ebb-b218-b42627354614\" type=\"checkbox\" ><label class=\"sk-toggleable__label\" for=\"d5e078cc-88da-4ebb-b218-b42627354614\">OrdinalEncoder</label><div class=\"sk-toggleable__content\"><pre>OrdinalEncoder()</pre></div></div></div></div></div></div></div></div></div></div>"
      ],
      "text/plain": [
       "ColumnTransformer(remainder='passthrough',\n",
       "                  transformers=[('onehotencoder', OneHotEncoder(sparse='false'),\n",
       "                                 [2]),\n",
       "                                ('ordinalencoder', OrdinalEncoder(), [1, 3])])"
      ]
     },
     "execution_count": 14,
     "metadata": {},
     "output_type": "execute_result"
    }
   ],
   "source": [
    "from sklearn.preprocessing import OneHotEncoder,OrdinalEncoder\n",
    "from sklearn.compose import make_column_transformer\n",
    "from sklearn import set_config\n",
    "trans=make_column_transformer((OneHotEncoder(sparse='false'),nom_cols),(OrdinalEncoder(),ord_cols),\n",
    "                                                         remainder='passthrough')\n",
    "set_config(display='diagram')\n",
    "trans"
   ]
  },
  {
   "cell_type": "markdown",
   "id": "f1ded6c9",
   "metadata": {
    "papermill": {
     "duration": 0.03709,
     "end_time": "2023-01-25T05:17:42.424530",
     "exception": false,
     "start_time": "2023-01-25T05:17:42.387440",
     "status": "completed"
    },
    "tags": []
   },
   "source": [
    "# Make Column Transformer: This is a shorthand for the ColumnTransformer constructor; it does not require, and does not permit, naming the transformers."
   ]
  },
  {
   "cell_type": "code",
   "execution_count": 15,
   "id": "7e7e5fb9",
   "metadata": {
    "execution": {
     "iopub.execute_input": "2023-01-25T05:17:42.508858Z",
     "iopub.status.busy": "2023-01-25T05:17:42.507554Z",
     "iopub.status.idle": "2023-01-25T05:17:42.683399Z",
     "shell.execute_reply": "2023-01-25T05:17:42.683984Z",
     "shell.execute_reply.started": "2022-02-28T13:02:29.992098Z"
    },
    "papermill": {
     "duration": 0.220981,
     "end_time": "2023-01-25T05:17:42.684191",
     "exception": false,
     "start_time": "2023-01-25T05:17:42.463210",
     "status": "completed"
    },
    "tags": []
   },
   "outputs": [
    {
     "data": {
      "text/html": [
       "<style>div.sk-top-container {color: black;background-color: white;}div.sk-toggleable {background-color: white;}label.sk-toggleable__label {cursor: pointer;display: block;width: 100%;margin-bottom: 0;padding: 0.2em 0.3em;box-sizing: border-box;text-align: center;}div.sk-toggleable__content {max-height: 0;max-width: 0;overflow: hidden;text-align: left;background-color: #f0f8ff;}div.sk-toggleable__content pre {margin: 0.2em;color: black;border-radius: 0.25em;background-color: #f0f8ff;}input.sk-toggleable__control:checked~div.sk-toggleable__content {max-height: 200px;max-width: 100%;overflow: auto;}div.sk-estimator input.sk-toggleable__control:checked~label.sk-toggleable__label {background-color: #d4ebff;}div.sk-label input.sk-toggleable__control:checked~label.sk-toggleable__label {background-color: #d4ebff;}input.sk-hidden--visually {border: 0;clip: rect(1px 1px 1px 1px);clip: rect(1px, 1px, 1px, 1px);height: 1px;margin: -1px;overflow: hidden;padding: 0;position: absolute;width: 1px;}div.sk-estimator {font-family: monospace;background-color: #f0f8ff;margin: 0.25em 0.25em;border: 1px dotted black;border-radius: 0.25em;box-sizing: border-box;}div.sk-estimator:hover {background-color: #d4ebff;}div.sk-parallel-item::after {content: \"\";width: 100%;border-bottom: 1px solid gray;flex-grow: 1;}div.sk-label:hover label.sk-toggleable__label {background-color: #d4ebff;}div.sk-serial::before {content: \"\";position: absolute;border-left: 1px solid gray;box-sizing: border-box;top: 2em;bottom: 0;left: 50%;}div.sk-serial {display: flex;flex-direction: column;align-items: center;background-color: white;}div.sk-item {z-index: 1;}div.sk-parallel {display: flex;align-items: stretch;justify-content: center;background-color: white;}div.sk-parallel-item {display: flex;flex-direction: column;position: relative;background-color: white;}div.sk-parallel-item:first-child::after {align-self: flex-end;width: 50%;}div.sk-parallel-item:last-child::after {align-self: flex-start;width: 50%;}div.sk-parallel-item:only-child::after {width: 0;}div.sk-dashed-wrapped {border: 1px dashed gray;margin: 0.2em;box-sizing: border-box;padding-bottom: 0.1em;background-color: white;position: relative;}div.sk-label label {font-family: monospace;font-weight: bold;background-color: white;display: inline-block;line-height: 1.2em;}div.sk-label-container {position: relative;z-index: 2;text-align: center;}div.sk-container {display: inline-block;position: relative;}</style><div class=\"sk-top-container\"><div class=\"sk-container\"><div class=\"sk-item\"><div class=\"sk-estimator sk-toggleable\"><input class=\"sk-toggleable__control sk-hidden--visually\" id=\"a79d0d47-d023-43a7-a66a-1a404da24fdd\" type=\"checkbox\" checked><label class=\"sk-toggleable__label\" for=\"a79d0d47-d023-43a7-a66a-1a404da24fdd\">KNeighborsClassifier</label><div class=\"sk-toggleable__content\"><pre>KNeighborsClassifier(n_neighbors=11)</pre></div></div></div></div></div>"
      ],
      "text/plain": [
       "KNeighborsClassifier(n_neighbors=11)"
      ]
     },
     "execution_count": 15,
     "metadata": {},
     "output_type": "execute_result"
    }
   ],
   "source": [
    "from sklearn.neighbors import KNeighborsClassifier\n",
    "algorithm=KNeighborsClassifier(n_neighbors=11)\n",
    "algorithm"
   ]
  },
  {
   "cell_type": "markdown",
   "id": "0428aee0",
   "metadata": {
    "papermill": {
     "duration": 0.038039,
     "end_time": "2023-01-25T05:17:42.758193",
     "exception": false,
     "start_time": "2023-01-25T05:17:42.720154",
     "status": "completed"
    },
    "tags": []
   },
   "source": [
    "# K-Nearest Neighbour is one of the simplest Machine Learning algorithms based on Supervised Learning technique. K-NN algorithm assumes the similarity between the new case/data and available cases and put the new case into the category that is most similar to the available categories.\n"
   ]
  },
  {
   "cell_type": "code",
   "execution_count": 16,
   "id": "35d3c2ef",
   "metadata": {
    "execution": {
     "iopub.execute_input": "2023-01-25T05:17:42.864356Z",
     "iopub.status.busy": "2023-01-25T05:17:42.843485Z",
     "iopub.status.idle": "2023-01-25T05:17:42.880191Z",
     "shell.execute_reply": "2023-01-25T05:17:42.879479Z",
     "shell.execute_reply.started": "2022-02-28T13:02:30.133178Z"
    },
    "papermill": {
     "duration": 0.08525,
     "end_time": "2023-01-25T05:17:42.880357",
     "exception": false,
     "start_time": "2023-01-25T05:17:42.795107",
     "status": "completed"
    },
    "tags": []
   },
   "outputs": [
    {
     "data": {
      "text/html": [
       "<style>div.sk-top-container {color: black;background-color: white;}div.sk-toggleable {background-color: white;}label.sk-toggleable__label {cursor: pointer;display: block;width: 100%;margin-bottom: 0;padding: 0.2em 0.3em;box-sizing: border-box;text-align: center;}div.sk-toggleable__content {max-height: 0;max-width: 0;overflow: hidden;text-align: left;background-color: #f0f8ff;}div.sk-toggleable__content pre {margin: 0.2em;color: black;border-radius: 0.25em;background-color: #f0f8ff;}input.sk-toggleable__control:checked~div.sk-toggleable__content {max-height: 200px;max-width: 100%;overflow: auto;}div.sk-estimator input.sk-toggleable__control:checked~label.sk-toggleable__label {background-color: #d4ebff;}div.sk-label input.sk-toggleable__control:checked~label.sk-toggleable__label {background-color: #d4ebff;}input.sk-hidden--visually {border: 0;clip: rect(1px 1px 1px 1px);clip: rect(1px, 1px, 1px, 1px);height: 1px;margin: -1px;overflow: hidden;padding: 0;position: absolute;width: 1px;}div.sk-estimator {font-family: monospace;background-color: #f0f8ff;margin: 0.25em 0.25em;border: 1px dotted black;border-radius: 0.25em;box-sizing: border-box;}div.sk-estimator:hover {background-color: #d4ebff;}div.sk-parallel-item::after {content: \"\";width: 100%;border-bottom: 1px solid gray;flex-grow: 1;}div.sk-label:hover label.sk-toggleable__label {background-color: #d4ebff;}div.sk-serial::before {content: \"\";position: absolute;border-left: 1px solid gray;box-sizing: border-box;top: 2em;bottom: 0;left: 50%;}div.sk-serial {display: flex;flex-direction: column;align-items: center;background-color: white;}div.sk-item {z-index: 1;}div.sk-parallel {display: flex;align-items: stretch;justify-content: center;background-color: white;}div.sk-parallel-item {display: flex;flex-direction: column;position: relative;background-color: white;}div.sk-parallel-item:first-child::after {align-self: flex-end;width: 50%;}div.sk-parallel-item:last-child::after {align-self: flex-start;width: 50%;}div.sk-parallel-item:only-child::after {width: 0;}div.sk-dashed-wrapped {border: 1px dashed gray;margin: 0.2em;box-sizing: border-box;padding-bottom: 0.1em;background-color: white;position: relative;}div.sk-label label {font-family: monospace;font-weight: bold;background-color: white;display: inline-block;line-height: 1.2em;}div.sk-label-container {position: relative;z-index: 2;text-align: center;}div.sk-container {display: inline-block;position: relative;}</style><div class=\"sk-top-container\"><div class=\"sk-container\"><div class=\"sk-item sk-dashed-wrapped\"><div class=\"sk-label-container\"><div class=\"sk-label sk-toggleable\"><input class=\"sk-toggleable__control sk-hidden--visually\" id=\"8274a81b-b9be-4865-91d1-60fccbeee37d\" type=\"checkbox\" ><label class=\"sk-toggleable__label\" for=\"8274a81b-b9be-4865-91d1-60fccbeee37d\">Pipeline</label><div class=\"sk-toggleable__content\"><pre>Pipeline(steps=[('columntransformer',\n",
       "                 ColumnTransformer(remainder='passthrough',\n",
       "                                   transformers=[('onehotencoder',\n",
       "                                                  OneHotEncoder(sparse='false'),\n",
       "                                                  [2]),\n",
       "                                                 ('ordinalencoder',\n",
       "                                                  OrdinalEncoder(), [1, 3])])),\n",
       "                ('kneighborsclassifier', KNeighborsClassifier(n_neighbors=11))])</pre></div></div></div><div class=\"sk-serial\"><div class=\"sk-item sk-dashed-wrapped\"><div class=\"sk-label-container\"><div class=\"sk-label sk-toggleable\"><input class=\"sk-toggleable__control sk-hidden--visually\" id=\"d964dee7-1864-45be-92a7-4d580772e87f\" type=\"checkbox\" ><label class=\"sk-toggleable__label\" for=\"d964dee7-1864-45be-92a7-4d580772e87f\">columntransformer: ColumnTransformer</label><div class=\"sk-toggleable__content\"><pre>ColumnTransformer(remainder='passthrough',\n",
       "                  transformers=[('onehotencoder', OneHotEncoder(sparse='false'),\n",
       "                                 [2]),\n",
       "                                ('ordinalencoder', OrdinalEncoder(), [1, 3])])</pre></div></div></div><div class=\"sk-parallel\"><div class=\"sk-parallel-item\"><div class=\"sk-item\"><div class=\"sk-label-container\"><div class=\"sk-label sk-toggleable\"><input class=\"sk-toggleable__control sk-hidden--visually\" id=\"f1cd8638-d5e5-42a5-817a-198145af66b9\" type=\"checkbox\" ><label class=\"sk-toggleable__label\" for=\"f1cd8638-d5e5-42a5-817a-198145af66b9\">onehotencoder</label><div class=\"sk-toggleable__content\"><pre>[2]</pre></div></div></div><div class=\"sk-serial\"><div class=\"sk-item\"><div class=\"sk-estimator sk-toggleable\"><input class=\"sk-toggleable__control sk-hidden--visually\" id=\"5d3b5934-ac1e-44d1-9ab3-109e4b9b9e19\" type=\"checkbox\" ><label class=\"sk-toggleable__label\" for=\"5d3b5934-ac1e-44d1-9ab3-109e4b9b9e19\">OneHotEncoder</label><div class=\"sk-toggleable__content\"><pre>OneHotEncoder(sparse='false')</pre></div></div></div></div></div></div><div class=\"sk-parallel-item\"><div class=\"sk-item\"><div class=\"sk-label-container\"><div class=\"sk-label sk-toggleable\"><input class=\"sk-toggleable__control sk-hidden--visually\" id=\"ee32522b-8ce7-482b-b747-bd8f913dd69b\" type=\"checkbox\" ><label class=\"sk-toggleable__label\" for=\"ee32522b-8ce7-482b-b747-bd8f913dd69b\">ordinalencoder</label><div class=\"sk-toggleable__content\"><pre>[1, 3]</pre></div></div></div><div class=\"sk-serial\"><div class=\"sk-item\"><div class=\"sk-estimator sk-toggleable\"><input class=\"sk-toggleable__control sk-hidden--visually\" id=\"10e0d5c5-41c6-468d-8e24-7e59f7908ec0\" type=\"checkbox\" ><label class=\"sk-toggleable__label\" for=\"10e0d5c5-41c6-468d-8e24-7e59f7908ec0\">OrdinalEncoder</label><div class=\"sk-toggleable__content\"><pre>OrdinalEncoder()</pre></div></div></div></div></div></div></div></div><div class=\"sk-item\"><div class=\"sk-estimator sk-toggleable\"><input class=\"sk-toggleable__control sk-hidden--visually\" id=\"8137d85c-f310-4048-812a-a028ec009af0\" type=\"checkbox\" ><label class=\"sk-toggleable__label\" for=\"8137d85c-f310-4048-812a-a028ec009af0\">KNeighborsClassifier</label><div class=\"sk-toggleable__content\"><pre>KNeighborsClassifier(n_neighbors=11)</pre></div></div></div></div></div></div></div>"
      ],
      "text/plain": [
       "Pipeline(steps=[('columntransformer',\n",
       "                 ColumnTransformer(remainder='passthrough',\n",
       "                                   transformers=[('onehotencoder',\n",
       "                                                  OneHotEncoder(sparse='false'),\n",
       "                                                  [2]),\n",
       "                                                 ('ordinalencoder',\n",
       "                                                  OrdinalEncoder(), [1, 3])])),\n",
       "                ('kneighborsclassifier', KNeighborsClassifier(n_neighbors=11))])"
      ]
     },
     "execution_count": 16,
     "metadata": {},
     "output_type": "execute_result"
    }
   ],
   "source": [
    "from sklearn.pipeline import make_pipeline\n",
    "pipe=make_pipeline(trans,algorithm)\n",
    "pipe"
   ]
  },
  {
   "cell_type": "markdown",
   "id": "fb5c7e09",
   "metadata": {
    "papermill": {
     "duration": 0.039518,
     "end_time": "2023-01-25T05:17:42.958531",
     "exception": false,
     "start_time": "2023-01-25T05:17:42.919013",
     "status": "completed"
    },
    "tags": []
   },
   "source": [
    "# 'make_pipeline' is a utility function that is a shorthand for constructing pipelines. It takes a variable number of estimates and returns a pipeline by filling the names automatically."
   ]
  },
  {
   "cell_type": "code",
   "execution_count": 17,
   "id": "2ade4347",
   "metadata": {
    "execution": {
     "iopub.execute_input": "2023-01-25T05:17:43.036563Z",
     "iopub.status.busy": "2023-01-25T05:17:43.035823Z",
     "iopub.status.idle": "2023-01-25T05:17:43.079542Z",
     "shell.execute_reply": "2023-01-25T05:17:43.080112Z",
     "shell.execute_reply.started": "2022-02-28T13:02:30.166067Z"
    },
    "papermill": {
     "duration": 0.085117,
     "end_time": "2023-01-25T05:17:43.080319",
     "exception": false,
     "start_time": "2023-01-25T05:17:42.995202",
     "status": "completed"
    },
    "tags": []
   },
   "outputs": [
    {
     "data": {
      "text/html": [
       "<style>div.sk-top-container {color: black;background-color: white;}div.sk-toggleable {background-color: white;}label.sk-toggleable__label {cursor: pointer;display: block;width: 100%;margin-bottom: 0;padding: 0.2em 0.3em;box-sizing: border-box;text-align: center;}div.sk-toggleable__content {max-height: 0;max-width: 0;overflow: hidden;text-align: left;background-color: #f0f8ff;}div.sk-toggleable__content pre {margin: 0.2em;color: black;border-radius: 0.25em;background-color: #f0f8ff;}input.sk-toggleable__control:checked~div.sk-toggleable__content {max-height: 200px;max-width: 100%;overflow: auto;}div.sk-estimator input.sk-toggleable__control:checked~label.sk-toggleable__label {background-color: #d4ebff;}div.sk-label input.sk-toggleable__control:checked~label.sk-toggleable__label {background-color: #d4ebff;}input.sk-hidden--visually {border: 0;clip: rect(1px 1px 1px 1px);clip: rect(1px, 1px, 1px, 1px);height: 1px;margin: -1px;overflow: hidden;padding: 0;position: absolute;width: 1px;}div.sk-estimator {font-family: monospace;background-color: #f0f8ff;margin: 0.25em 0.25em;border: 1px dotted black;border-radius: 0.25em;box-sizing: border-box;}div.sk-estimator:hover {background-color: #d4ebff;}div.sk-parallel-item::after {content: \"\";width: 100%;border-bottom: 1px solid gray;flex-grow: 1;}div.sk-label:hover label.sk-toggleable__label {background-color: #d4ebff;}div.sk-serial::before {content: \"\";position: absolute;border-left: 1px solid gray;box-sizing: border-box;top: 2em;bottom: 0;left: 50%;}div.sk-serial {display: flex;flex-direction: column;align-items: center;background-color: white;}div.sk-item {z-index: 1;}div.sk-parallel {display: flex;align-items: stretch;justify-content: center;background-color: white;}div.sk-parallel-item {display: flex;flex-direction: column;position: relative;background-color: white;}div.sk-parallel-item:first-child::after {align-self: flex-end;width: 50%;}div.sk-parallel-item:last-child::after {align-self: flex-start;width: 50%;}div.sk-parallel-item:only-child::after {width: 0;}div.sk-dashed-wrapped {border: 1px dashed gray;margin: 0.2em;box-sizing: border-box;padding-bottom: 0.1em;background-color: white;position: relative;}div.sk-label label {font-family: monospace;font-weight: bold;background-color: white;display: inline-block;line-height: 1.2em;}div.sk-label-container {position: relative;z-index: 2;text-align: center;}div.sk-container {display: inline-block;position: relative;}</style><div class=\"sk-top-container\"><div class=\"sk-container\"><div class=\"sk-item sk-dashed-wrapped\"><div class=\"sk-label-container\"><div class=\"sk-label sk-toggleable\"><input class=\"sk-toggleable__control sk-hidden--visually\" id=\"f174688d-4599-4b52-979e-754e83ee98ae\" type=\"checkbox\" ><label class=\"sk-toggleable__label\" for=\"f174688d-4599-4b52-979e-754e83ee98ae\">Pipeline</label><div class=\"sk-toggleable__content\"><pre>Pipeline(steps=[('columntransformer',\n",
       "                 ColumnTransformer(remainder='passthrough',\n",
       "                                   transformers=[('onehotencoder',\n",
       "                                                  OneHotEncoder(sparse='false'),\n",
       "                                                  [2]),\n",
       "                                                 ('ordinalencoder',\n",
       "                                                  OrdinalEncoder(), [1, 3])])),\n",
       "                ('kneighborsclassifier', KNeighborsClassifier(n_neighbors=11))])</pre></div></div></div><div class=\"sk-serial\"><div class=\"sk-item sk-dashed-wrapped\"><div class=\"sk-label-container\"><div class=\"sk-label sk-toggleable\"><input class=\"sk-toggleable__control sk-hidden--visually\" id=\"abb7fd74-58a5-4e2c-a1a9-632f77225a65\" type=\"checkbox\" ><label class=\"sk-toggleable__label\" for=\"abb7fd74-58a5-4e2c-a1a9-632f77225a65\">columntransformer: ColumnTransformer</label><div class=\"sk-toggleable__content\"><pre>ColumnTransformer(remainder='passthrough',\n",
       "                  transformers=[('onehotencoder', OneHotEncoder(sparse='false'),\n",
       "                                 [2]),\n",
       "                                ('ordinalencoder', OrdinalEncoder(), [1, 3])])</pre></div></div></div><div class=\"sk-parallel\"><div class=\"sk-parallel-item\"><div class=\"sk-item\"><div class=\"sk-label-container\"><div class=\"sk-label sk-toggleable\"><input class=\"sk-toggleable__control sk-hidden--visually\" id=\"53adbf60-6ff4-4eb6-b916-7019c51c9cfb\" type=\"checkbox\" ><label class=\"sk-toggleable__label\" for=\"53adbf60-6ff4-4eb6-b916-7019c51c9cfb\">onehotencoder</label><div class=\"sk-toggleable__content\"><pre>[2]</pre></div></div></div><div class=\"sk-serial\"><div class=\"sk-item\"><div class=\"sk-estimator sk-toggleable\"><input class=\"sk-toggleable__control sk-hidden--visually\" id=\"0b09cb6b-4310-46dc-bff0-22621d70bd77\" type=\"checkbox\" ><label class=\"sk-toggleable__label\" for=\"0b09cb6b-4310-46dc-bff0-22621d70bd77\">OneHotEncoder</label><div class=\"sk-toggleable__content\"><pre>OneHotEncoder(sparse='false')</pre></div></div></div></div></div></div><div class=\"sk-parallel-item\"><div class=\"sk-item\"><div class=\"sk-label-container\"><div class=\"sk-label sk-toggleable\"><input class=\"sk-toggleable__control sk-hidden--visually\" id=\"fe700223-0378-4650-a90b-cb15257f6433\" type=\"checkbox\" ><label class=\"sk-toggleable__label\" for=\"fe700223-0378-4650-a90b-cb15257f6433\">ordinalencoder</label><div class=\"sk-toggleable__content\"><pre>[1, 3]</pre></div></div></div><div class=\"sk-serial\"><div class=\"sk-item\"><div class=\"sk-estimator sk-toggleable\"><input class=\"sk-toggleable__control sk-hidden--visually\" id=\"3fa78a80-a582-46ff-af0d-517b001c6484\" type=\"checkbox\" ><label class=\"sk-toggleable__label\" for=\"3fa78a80-a582-46ff-af0d-517b001c6484\">OrdinalEncoder</label><div class=\"sk-toggleable__content\"><pre>OrdinalEncoder()</pre></div></div></div></div></div></div></div></div><div class=\"sk-item\"><div class=\"sk-estimator sk-toggleable\"><input class=\"sk-toggleable__control sk-hidden--visually\" id=\"f0668191-ffde-416b-8a11-95fd6c271826\" type=\"checkbox\" ><label class=\"sk-toggleable__label\" for=\"f0668191-ffde-416b-8a11-95fd6c271826\">KNeighborsClassifier</label><div class=\"sk-toggleable__content\"><pre>KNeighborsClassifier(n_neighbors=11)</pre></div></div></div></div></div></div></div>"
      ],
      "text/plain": [
       "Pipeline(steps=[('columntransformer',\n",
       "                 ColumnTransformer(remainder='passthrough',\n",
       "                                   transformers=[('onehotencoder',\n",
       "                                                  OneHotEncoder(sparse='false'),\n",
       "                                                  [2]),\n",
       "                                                 ('ordinalencoder',\n",
       "                                                  OrdinalEncoder(), [1, 3])])),\n",
       "                ('kneighborsclassifier', KNeighborsClassifier(n_neighbors=11))])"
      ]
     },
     "execution_count": 17,
     "metadata": {},
     "output_type": "execute_result"
    }
   ],
   "source": [
    "pipe.fit(x_train,y_train)"
   ]
  },
  {
   "cell_type": "markdown",
   "id": "3529d974",
   "metadata": {
    "papermill": {
     "duration": 0.036813,
     "end_time": "2023-01-25T05:17:43.155917",
     "exception": false,
     "start_time": "2023-01-25T05:17:43.119104",
     "status": "completed"
    },
    "tags": []
   },
   "source": [
    "# We fit the pipe into the x_train and y_train data."
   ]
  },
  {
   "cell_type": "code",
   "execution_count": 18,
   "id": "f24bcc60",
   "metadata": {
    "execution": {
     "iopub.execute_input": "2023-01-25T05:17:43.234537Z",
     "iopub.status.busy": "2023-01-25T05:17:43.233566Z",
     "iopub.status.idle": "2023-01-25T05:17:43.246904Z",
     "shell.execute_reply": "2023-01-25T05:17:43.246263Z",
     "shell.execute_reply.started": "2022-02-28T13:02:30.205148Z"
    },
    "papermill": {
     "duration": 0.05431,
     "end_time": "2023-01-25T05:17:43.247065",
     "exception": false,
     "start_time": "2023-01-25T05:17:43.192755",
     "status": "completed"
    },
    "tags": []
   },
   "outputs": [
    {
     "data": {
      "text/plain": [
       "array(['drugX', 'drugA', 'DrugY', 'drugB', 'drugX', 'DrugY', 'drugX',\n",
       "       'DrugY', 'DrugY', 'DrugY', 'drugB', 'drugA', 'drugA', 'drugX',\n",
       "       'DrugY', 'DrugY', 'DrugY', 'drugX', 'drugX', 'DrugY', 'drugB',\n",
       "       'DrugY', 'drugA', 'drugA', 'drugX', 'DrugY', 'drugX', 'DrugY',\n",
       "       'DrugY', 'drugA', 'drugX', 'drugA', 'drugX', 'drugA', 'drugX',\n",
       "       'drugB', 'drugA', 'drugX', 'DrugY', 'DrugY'], dtype=object)"
      ]
     },
     "execution_count": 18,
     "metadata": {},
     "output_type": "execute_result"
    }
   ],
   "source": [
    "pred=pipe.predict(x_test)\n",
    "pred"
   ]
  },
  {
   "cell_type": "markdown",
   "id": "9e69bb5a",
   "metadata": {
    "papermill": {
     "duration": 0.038563,
     "end_time": "2023-01-25T05:17:43.325674",
     "exception": false,
     "start_time": "2023-01-25T05:17:43.287111",
     "status": "completed"
    },
    "tags": []
   },
   "source": [
    "# Since we have done the training part, we now move on to predict the testing part which is the x_test.Here the predicted value is based on the data we have taken for training and testing and the algorithms that are used in it."
   ]
  },
  {
   "cell_type": "code",
   "execution_count": 19,
   "id": "fb08bf14",
   "metadata": {
    "execution": {
     "iopub.execute_input": "2023-01-25T05:17:43.413814Z",
     "iopub.status.busy": "2023-01-25T05:17:43.412965Z",
     "iopub.status.idle": "2023-01-25T05:17:43.417239Z",
     "shell.execute_reply": "2023-01-25T05:17:43.416436Z",
     "shell.execute_reply.started": "2022-02-28T13:02:30.221515Z"
    },
    "papermill": {
     "duration": 0.051369,
     "end_time": "2023-01-25T05:17:43.417410",
     "exception": false,
     "start_time": "2023-01-25T05:17:43.366041",
     "status": "completed"
    },
    "tags": []
   },
   "outputs": [
    {
     "data": {
      "text/plain": [
       "138    drugB\n",
       "129    drugX\n",
       "121    DrugY\n",
       "158    drugC\n",
       "84     drugC\n",
       "130    DrugY\n",
       "105    drugX\n",
       "178    DrugY\n",
       "120    DrugY\n",
       "77     DrugY\n",
       "58     drugX\n",
       "91     DrugY\n",
       "146    drugX\n",
       "45     drugX\n",
       "25     DrugY\n",
       "192    DrugY\n",
       "13     DrugY\n",
       "30     drugX\n",
       "155    drugC\n",
       "40     DrugY\n",
       "193    drugC\n",
       "33     DrugY\n",
       "100    drugA\n",
       "7      drugC\n",
       "47     drugC\n",
       "154    DrugY\n",
       "136    drugB\n",
       "9      DrugY\n",
       "165    DrugY\n",
       "162    drugX\n",
       "191    drugA\n",
       "112    drugX\n",
       "86     drugX\n",
       "82     drugC\n",
       "56     drugB\n",
       "145    drugX\n",
       "3      drugX\n",
       "102    drugC\n",
       "134    DrugY\n",
       "4      DrugY\n",
       "Name: Drug, dtype: object"
      ]
     },
     "execution_count": 19,
     "metadata": {},
     "output_type": "execute_result"
    }
   ],
   "source": [
    "y_test                                # y_test is the actual value of the data."
   ]
  },
  {
   "cell_type": "markdown",
   "id": "c9b20901",
   "metadata": {
    "papermill": {
     "duration": 0.039717,
     "end_time": "2023-01-25T05:17:43.498131",
     "exception": false,
     "start_time": "2023-01-25T05:17:43.458414",
     "status": "completed"
    },
    "tags": []
   },
   "source": [
    "# Now we find out the accuracy with respect to the predicted value and the actual value (y_test) of the particular drug type."
   ]
  },
  {
   "cell_type": "code",
   "execution_count": 20,
   "id": "23ed188f",
   "metadata": {
    "execution": {
     "iopub.execute_input": "2023-01-25T05:17:43.588249Z",
     "iopub.status.busy": "2023-01-25T05:17:43.587444Z",
     "iopub.status.idle": "2023-01-25T05:17:43.590576Z",
     "shell.execute_reply": "2023-01-25T05:17:43.591220Z",
     "shell.execute_reply.started": "2022-02-28T13:02:30.236871Z"
    },
    "papermill": {
     "duration": 0.049902,
     "end_time": "2023-01-25T05:17:43.591427",
     "exception": false,
     "start_time": "2023-01-25T05:17:43.541525",
     "status": "completed"
    },
    "tags": []
   },
   "outputs": [
    {
     "data": {
      "text/plain": [
       "50.0"
      ]
     },
     "execution_count": 20,
     "metadata": {},
     "output_type": "execute_result"
    }
   ],
   "source": [
    "from sklearn.metrics import accuracy_score\n",
    "accuracy_score(pred,y_test)*100"
   ]
  },
  {
   "cell_type": "markdown",
   "id": "7e7d2a24",
   "metadata": {
    "papermill": {
     "duration": 0.040224,
     "end_time": "2023-01-25T05:17:43.673305",
     "exception": false,
     "start_time": "2023-01-25T05:17:43.633081",
     "status": "completed"
    },
    "tags": []
   },
   "source": [
    "# The predicted value is 70.0 which means 70% of the drug type is found to be correct and rest 30% is found to be incorrect.\n",
    "# Note: No data gives you 100% accuracy as it is irrelevant and it is impossible to accurate values of the given data."
   ]
  },
  {
   "cell_type": "code",
   "execution_count": 21,
   "id": "95b75405",
   "metadata": {
    "execution": {
     "iopub.execute_input": "2023-01-25T05:17:43.758782Z",
     "iopub.status.busy": "2023-01-25T05:17:43.757897Z",
     "iopub.status.idle": "2023-01-25T05:17:44.175221Z",
     "shell.execute_reply": "2023-01-25T05:17:44.174572Z",
     "shell.execute_reply.started": "2022-02-28T13:02:30.250904Z"
    },
    "papermill": {
     "duration": 0.461249,
     "end_time": "2023-01-25T05:17:44.175391",
     "exception": false,
     "start_time": "2023-01-25T05:17:43.714142",
     "status": "completed"
    },
    "tags": []
   },
   "outputs": [
    {
     "data": {
      "text/plain": [
       "<AxesSubplot:xlabel='Drug', ylabel='Count'>"
      ]
     },
     "execution_count": 21,
     "metadata": {},
     "output_type": "execute_result"
    },
    {
     "data": {
      "image/png": "[encoded data removed]",
      "text/plain": [
       "<Figure size 432x288 with 1 Axes>"
      ]
     },
     "metadata": {
      "needs_background": "light"
     },
     "output_type": "display_data"
    }
   ],
   "source": [
    "import seaborn as sns\n",
    "sns.histplot(data.Drug)"
   ]
  },
  {
   "cell_type": "markdown",
   "id": "546b7253",
   "metadata": {
    "papermill": {
     "duration": 0.040536,
     "end_time": "2023-01-25T05:17:44.255317",
     "exception": false,
     "start_time": "2023-01-25T05:17:44.214781",
     "status": "completed"
    },
    "tags": []
   },
   "source": [
    "# Random Over Sampler: Random oversampling involves randomly selecting examples from the minority class, with replacement, and adding them to the training dataset.\n",
    "# Since the drug type is not equally distributed we try oversample it in order to make equal number of samples in the respective drug.Since we are making only changes to the drug type we apply fit_resample() function."
   ]
  },
  {
   "cell_type": "code",
   "execution_count": 22,
   "id": "c4a2e123",
   "metadata": {
    "execution": {
     "iopub.execute_input": "2023-01-25T05:17:44.344984Z",
     "iopub.status.busy": "2023-01-25T05:17:44.344129Z",
     "iopub.status.idle": "2023-01-25T05:17:44.554262Z",
     "shell.execute_reply": "2023-01-25T05:17:44.553567Z",
     "shell.execute_reply.started": "2022-02-28T13:02:30.608396Z"
    },
    "papermill": {
     "duration": 0.256373,
     "end_time": "2023-01-25T05:17:44.554423",
     "exception": false,
     "start_time": "2023-01-25T05:17:44.298050",
     "status": "completed"
    },
    "tags": []
   },
   "outputs": [
    {
     "data": {
      "text/plain": [
       "DrugY    91\n",
       "drugC    91\n",
       "drugX    91\n",
       "drugA    91\n",
       "drugB    91\n",
       "Name: Drug, dtype: int64"
      ]
     },
     "execution_count": 22,
     "metadata": {},
     "output_type": "execute_result"
    }
   ],
   "source": [
    "from imblearn.over_sampling import RandomOverSampler\n",
    "over=RandomOverSampler()\n",
    "o_x,o_y=over.fit_resample(x,y)\n",
    "o_y.value_counts()"
   ]
  },
  {
   "cell_type": "markdown",
   "id": "e41e348c",
   "metadata": {
    "papermill": {
     "duration": 0.040641,
     "end_time": "2023-01-25T05:17:44.636271",
     "exception": false,
     "start_time": "2023-01-25T05:17:44.595630",
     "status": "completed"
    },
    "tags": []
   },
   "source": [
    "# SMOTE: Synthetic Minority Oversampling Technique\n",
    "# SMOTE is an oversampling technique where the synthetic samples are generated for the minority class. This algorithm helps to overcome the overfitting problem posed by random oversampling.\n",
    "# We import make_pipeline of the same library since we use SMOTE under the imblearn library."
   ]
  },
  {
   "cell_type": "code",
   "execution_count": 23,
   "id": "3afdd0f4",
   "metadata": {
    "execution": {
     "iopub.execute_input": "2023-01-25T05:17:44.750589Z",
     "iopub.status.busy": "2023-01-25T05:17:44.724494Z",
     "iopub.status.idle": "2023-01-25T05:17:44.758133Z",
     "shell.execute_reply": "2023-01-25T05:17:44.757560Z",
     "shell.execute_reply.started": "2022-02-28T13:02:30.779105Z"
    },
    "papermill": {
     "duration": 0.08087,
     "end_time": "2023-01-25T05:17:44.758289",
     "exception": false,
     "start_time": "2023-01-25T05:17:44.677419",
     "status": "completed"
    },
    "tags": []
   },
   "outputs": [
    {
     "data": {
      "text/html": [
       "<style>div.sk-top-container {color: black;background-color: white;}div.sk-toggleable {background-color: white;}label.sk-toggleable__label {cursor: pointer;display: block;width: 100%;margin-bottom: 0;padding: 0.2em 0.3em;box-sizing: border-box;text-align: center;}div.sk-toggleable__content {max-height: 0;max-width: 0;overflow: hidden;text-align: left;background-color: #f0f8ff;}div.sk-toggleable__content pre {margin: 0.2em;color: black;border-radius: 0.25em;background-color: #f0f8ff;}input.sk-toggleable__control:checked~div.sk-toggleable__content {max-height: 200px;max-width: 100%;overflow: auto;}div.sk-estimator input.sk-toggleable__control:checked~label.sk-toggleable__label {background-color: #d4ebff;}div.sk-label input.sk-toggleable__control:checked~label.sk-toggleable__label {background-color: #d4ebff;}input.sk-hidden--visually {border: 0;clip: rect(1px 1px 1px 1px);clip: rect(1px, 1px, 1px, 1px);height: 1px;margin: -1px;overflow: hidden;padding: 0;position: absolute;width: 1px;}div.sk-estimator {font-family: monospace;background-color: #f0f8ff;margin: 0.25em 0.25em;border: 1px dotted black;border-radius: 0.25em;box-sizing: border-box;}div.sk-estimator:hover {background-color: #d4ebff;}div.sk-parallel-item::after {content: \"\";width: 100%;border-bottom: 1px solid gray;flex-grow: 1;}div.sk-label:hover label.sk-toggleable__label {background-color: #d4ebff;}div.sk-serial::before {content: \"\";position: absolute;border-left: 1px solid gray;box-sizing: border-box;top: 2em;bottom: 0;left: 50%;}div.sk-serial {display: flex;flex-direction: column;align-items: center;background-color: white;}div.sk-item {z-index: 1;}div.sk-parallel {display: flex;align-items: stretch;justify-content: center;background-color: white;}div.sk-parallel-item {display: flex;flex-direction: column;position: relative;background-color: white;}div.sk-parallel-item:first-child::after {align-self: flex-end;width: 50%;}div.sk-parallel-item:last-child::after {align-self: flex-start;width: 50%;}div.sk-parallel-item:only-child::after {width: 0;}div.sk-dashed-wrapped {border: 1px dashed gray;margin: 0.2em;box-sizing: border-box;padding-bottom: 0.1em;background-color: white;position: relative;}div.sk-label label {font-family: monospace;font-weight: bold;background-color: white;display: inline-block;line-height: 1.2em;}div.sk-label-container {position: relative;z-index: 2;text-align: center;}div.sk-container {display: inline-block;position: relative;}</style><div class=\"sk-top-container\"><div class=\"sk-container\"><div class=\"sk-item sk-dashed-wrapped\"><div class=\"sk-label-container\"><div class=\"sk-label sk-toggleable\"><input class=\"sk-toggleable__control sk-hidden--visually\" id=\"742df32b-4ab6-492a-be13-fda971ff5e26\" type=\"checkbox\" ><label class=\"sk-toggleable__label\" for=\"742df32b-4ab6-492a-be13-fda971ff5e26\">Pipeline</label><div class=\"sk-toggleable__content\"><pre>Pipeline(steps=[('columntransformer',\n",
       "                 ColumnTransformer(remainder='passthrough',\n",
       "                                   transformers=[('onehotencoder',\n",
       "                                                  OneHotEncoder(sparse='false'),\n",
       "                                                  [2]),\n",
       "                                                 ('ordinalencoder',\n",
       "                                                  OrdinalEncoder(), [1, 3])])),\n",
       "                ('smote', SMOTE()),\n",
       "                ('kneighborsclassifier', KNeighborsClassifier(n_neighbors=11))])</pre></div></div></div><div class=\"sk-serial\"><div class=\"sk-item sk-dashed-wrapped\"><div class=\"sk-label-container\"><div class=\"sk-label sk-toggleable\"><input class=\"sk-toggleable__control sk-hidden--visually\" id=\"a6de1b16-ed4c-4c89-b838-b5679c837597\" type=\"checkbox\" ><label class=\"sk-toggleable__label\" for=\"a6de1b16-ed4c-4c89-b838-b5679c837597\">columntransformer: ColumnTransformer</label><div class=\"sk-toggleable__content\"><pre>ColumnTransformer(remainder='passthrough',\n",
       "                  transformers=[('onehotencoder', OneHotEncoder(sparse='false'),\n",
       "                                 [2]),\n",
       "                                ('ordinalencoder', OrdinalEncoder(), [1, 3])])</pre></div></div></div><div class=\"sk-parallel\"><div class=\"sk-parallel-item\"><div class=\"sk-item\"><div class=\"sk-label-container\"><div class=\"sk-label sk-toggleable\"><input class=\"sk-toggleable__control sk-hidden--visually\" id=\"6800f144-b876-4bb6-835f-60f65073d7d8\" type=\"checkbox\" ><label class=\"sk-toggleable__label\" for=\"6800f144-b876-4bb6-835f-60f65073d7d8\">onehotencoder</label><div class=\"sk-toggleable__content\"><pre>[2]</pre></div></div></div><div class=\"sk-serial\"><div class=\"sk-item\"><div class=\"sk-estimator sk-toggleable\"><input class=\"sk-toggleable__control sk-hidden--visually\" id=\"6a600f63-901c-4689-ace2-1c017d0d79a0\" type=\"checkbox\" ><label class=\"sk-toggleable__label\" for=\"6a600f63-901c-4689-ace2-1c017d0d79a0\">OneHotEncoder</label><div class=\"sk-toggleable__content\"><pre>OneHotEncoder(sparse='false')</pre></div></div></div></div></div></div><div class=\"sk-parallel-item\"><div class=\"sk-item\"><div class=\"sk-label-container\"><div class=\"sk-label sk-toggleable\"><input class=\"sk-toggleable__control sk-hidden--visually\" id=\"a2f9658a-9678-4e38-af1e-712c647eadeb\" type=\"checkbox\" ><label class=\"sk-toggleable__label\" for=\"a2f9658a-9678-4e38-af1e-712c647eadeb\">ordinalencoder</label><div class=\"sk-toggleable__content\"><pre>[1, 3]</pre></div></div></div><div class=\"sk-serial\"><div class=\"sk-item\"><div class=\"sk-estimator sk-toggleable\"><input class=\"sk-toggleable__control sk-hidden--visually\" id=\"8bea38ca-3b69-4f72-85f5-097ce4646200\" type=\"checkbox\" ><label class=\"sk-toggleable__label\" for=\"8bea38ca-3b69-4f72-85f5-097ce4646200\">OrdinalEncoder</label><div class=\"sk-toggleable__content\"><pre>OrdinalEncoder()</pre></div></div></div></div></div></div></div></div><div class=\"sk-item\"><div class=\"sk-estimator sk-toggleable\"><input class=\"sk-toggleable__control sk-hidden--visually\" id=\"61474478-609a-41a0-9bca-17c30cabb697\" type=\"checkbox\" ><label class=\"sk-toggleable__label\" for=\"61474478-609a-41a0-9bca-17c30cabb697\">SMOTE</label><div class=\"sk-toggleable__content\"><pre>SMOTE()</pre></div></div></div><div class=\"sk-item\"><div class=\"sk-estimator sk-toggleable\"><input class=\"sk-toggleable__control sk-hidden--visually\" id=\"7cdb55d1-75a2-4b66-a5cb-54e8f693f653\" type=\"checkbox\" ><label class=\"sk-toggleable__label\" for=\"7cdb55d1-75a2-4b66-a5cb-54e8f693f653\">KNeighborsClassifier</label><div class=\"sk-toggleable__content\"><pre>KNeighborsClassifier(n_neighbors=11)</pre></div></div></div></div></div></div></div>"
      ],
      "text/plain": [
       "Pipeline(steps=[('columntransformer',\n",
       "                 ColumnTransformer(remainder='passthrough',\n",
       "                                   transformers=[('onehotencoder',\n",
       "                                                  OneHotEncoder(sparse='false'),\n",
       "                                                  [2]),\n",
       "                                                 ('ordinalencoder',\n",
       "                                                  OrdinalEncoder(), [1, 3])])),\n",
       "                ('smote', SMOTE()),\n",
       "                ('kneighborsclassifier', KNeighborsClassifier(n_neighbors=11))])"
      ]
     },
     "execution_count": 23,
     "metadata": {},
     "output_type": "execute_result"
    }
   ],
   "source": [
    "from imblearn.over_sampling import SMOTE\n",
    "from imblearn.pipeline import make_pipeline\n",
    "s=SMOTE()\n",
    "n_pipe=make_pipeline(trans,s,algorithm)\n",
    "n_pipe"
   ]
  },
  {
   "cell_type": "code",
   "execution_count": 24,
   "id": "5d286303",
   "metadata": {
    "execution": {
     "iopub.execute_input": "2023-01-25T05:17:44.848327Z",
     "iopub.status.busy": "2023-01-25T05:17:44.847509Z",
     "iopub.status.idle": "2023-01-25T05:17:44.895336Z",
     "shell.execute_reply": "2023-01-25T05:17:44.894297Z",
     "shell.execute_reply.started": "2022-02-28T13:02:30.815010Z"
    },
    "papermill": {
     "duration": 0.095246,
     "end_time": "2023-01-25T05:17:44.895510",
     "exception": false,
     "start_time": "2023-01-25T05:17:44.800264",
     "status": "completed"
    },
    "tags": []
   },
   "outputs": [
    {
     "data": {
      "text/html": [
       "<style>div.sk-top-container {color: black;background-color: white;}div.sk-toggleable {background-color: white;}label.sk-toggleable__label {cursor: pointer;display: block;width: 100%;margin-bottom: 0;padding: 0.2em 0.3em;box-sizing: border-box;text-align: center;}div.sk-toggleable__content {max-height: 0;max-width: 0;overflow: hidden;text-align: left;background-color: #f0f8ff;}div.sk-toggleable__content pre {margin: 0.2em;color: black;border-radius: 0.25em;background-color: #f0f8ff;}input.sk-toggleable__control:checked~div.sk-toggleable__content {max-height: 200px;max-width: 100%;overflow: auto;}div.sk-estimator input.sk-toggleable__control:checked~label.sk-toggleable__label {background-color: #d4ebff;}div.sk-label input.sk-toggleable__control:checked~label.sk-toggleable__label {background-color: #d4ebff;}input.sk-hidden--visually {border: 0;clip: rect(1px 1px 1px 1px);clip: rect(1px, 1px, 1px, 1px);height: 1px;margin: -1px;overflow: hidden;padding: 0;position: absolute;width: 1px;}div.sk-estimator {font-family: monospace;background-color: #f0f8ff;margin: 0.25em 0.25em;border: 1px dotted black;border-radius: 0.25em;box-sizing: border-box;}div.sk-estimator:hover {background-color: #d4ebff;}div.sk-parallel-item::after {content: \"\";width: 100%;border-bottom: 1px solid gray;flex-grow: 1;}div.sk-label:hover label.sk-toggleable__label {background-color: #d4ebff;}div.sk-serial::before {content: \"\";position: absolute;border-left: 1px solid gray;box-sizing: border-box;top: 2em;bottom: 0;left: 50%;}div.sk-serial {display: flex;flex-direction: column;align-items: center;background-color: white;}div.sk-item {z-index: 1;}div.sk-parallel {display: flex;align-items: stretch;justify-content: center;background-color: white;}div.sk-parallel-item {display: flex;flex-direction: column;position: relative;background-color: white;}div.sk-parallel-item:first-child::after {align-self: flex-end;width: 50%;}div.sk-parallel-item:last-child::after {align-self: flex-start;width: 50%;}div.sk-parallel-item:only-child::after {width: 0;}div.sk-dashed-wrapped {border: 1px dashed gray;margin: 0.2em;box-sizing: border-box;padding-bottom: 0.1em;background-color: white;position: relative;}div.sk-label label {font-family: monospace;font-weight: bold;background-color: white;display: inline-block;line-height: 1.2em;}div.sk-label-container {position: relative;z-index: 2;text-align: center;}div.sk-container {display: inline-block;position: relative;}</style><div class=\"sk-top-container\"><div class=\"sk-container\"><div class=\"sk-item sk-dashed-wrapped\"><div class=\"sk-label-container\"><div class=\"sk-label sk-toggleable\"><input class=\"sk-toggleable__control sk-hidden--visually\" id=\"ffa6146a-b207-48a2-b3b8-65d501371ba5\" type=\"checkbox\" ><label class=\"sk-toggleable__label\" for=\"ffa6146a-b207-48a2-b3b8-65d501371ba5\">Pipeline</label><div class=\"sk-toggleable__content\"><pre>Pipeline(steps=[('columntransformer',\n",
       "                 ColumnTransformer(remainder='passthrough',\n",
       "                                   transformers=[('onehotencoder',\n",
       "                                                  OneHotEncoder(sparse='false'),\n",
       "                                                  [2]),\n",
       "                                                 ('ordinalencoder',\n",
       "                                                  OrdinalEncoder(), [1, 3])])),\n",
       "                ('smote', SMOTE()),\n",
       "                ('kneighborsclassifier', KNeighborsClassifier(n_neighbors=11))])</pre></div></div></div><div class=\"sk-serial\"><div class=\"sk-item sk-dashed-wrapped\"><div class=\"sk-label-container\"><div class=\"sk-label sk-toggleable\"><input class=\"sk-toggleable__control sk-hidden--visually\" id=\"22ccd912-99a2-42b2-9925-35cc622a3258\" type=\"checkbox\" ><label class=\"sk-toggleable__label\" for=\"22ccd912-99a2-42b2-9925-35cc622a3258\">columntransformer: ColumnTransformer</label><div class=\"sk-toggleable__content\"><pre>ColumnTransformer(remainder='passthrough',\n",
       "                  transformers=[('onehotencoder', OneHotEncoder(sparse='false'),\n",
       "                                 [2]),\n",
       "                                ('ordinalencoder', OrdinalEncoder(), [1, 3])])</pre></div></div></div><div class=\"sk-parallel\"><div class=\"sk-parallel-item\"><div class=\"sk-item\"><div class=\"sk-label-container\"><div class=\"sk-label sk-toggleable\"><input class=\"sk-toggleable__control sk-hidden--visually\" id=\"e45325e2-d97d-453b-b2af-90126252ceb8\" type=\"checkbox\" ><label class=\"sk-toggleable__label\" for=\"e45325e2-d97d-453b-b2af-90126252ceb8\">onehotencoder</label><div class=\"sk-toggleable__content\"><pre>[2]</pre></div></div></div><div class=\"sk-serial\"><div class=\"sk-item\"><div class=\"sk-estimator sk-toggleable\"><input class=\"sk-toggleable__control sk-hidden--visually\" id=\"83d4fa34-ddbc-48de-833d-52e1425d85de\" type=\"checkbox\" ><label class=\"sk-toggleable__label\" for=\"83d4fa34-ddbc-48de-833d-52e1425d85de\">OneHotEncoder</label><div class=\"sk-toggleable__content\"><pre>OneHotEncoder(sparse='false')</pre></div></div></div></div></div></div><div class=\"sk-parallel-item\"><div class=\"sk-item\"><div class=\"sk-label-container\"><div class=\"sk-label sk-toggleable\"><input class=\"sk-toggleable__control sk-hidden--visually\" id=\"a427046a-4ca2-4f0f-a560-67ffc81b0ae5\" type=\"checkbox\" ><label class=\"sk-toggleable__label\" for=\"a427046a-4ca2-4f0f-a560-67ffc81b0ae5\">ordinalencoder</label><div class=\"sk-toggleable__content\"><pre>[1, 3]</pre></div></div></div><div class=\"sk-serial\"><div class=\"sk-item\"><div class=\"sk-estimator sk-toggleable\"><input class=\"sk-toggleable__control sk-hidden--visually\" id=\"76e79e24-c13b-467e-88de-15ffe8e3d18f\" type=\"checkbox\" ><label class=\"sk-toggleable__label\" for=\"76e79e24-c13b-467e-88de-15ffe8e3d18f\">OrdinalEncoder</label><div class=\"sk-toggleable__content\"><pre>OrdinalEncoder()</pre></div></div></div></div></div></div></div></div><div class=\"sk-item\"><div class=\"sk-estimator sk-toggleable\"><input class=\"sk-toggleable__control sk-hidden--visually\" id=\"0b84bdcc-121d-4376-ba28-40479ae681f1\" type=\"checkbox\" ><label class=\"sk-toggleable__label\" for=\"0b84bdcc-121d-4376-ba28-40479ae681f1\">SMOTE</label><div class=\"sk-toggleable__content\"><pre>SMOTE()</pre></div></div></div><div class=\"sk-item\"><div class=\"sk-estimator sk-toggleable\"><input class=\"sk-toggleable__control sk-hidden--visually\" id=\"2206d5f1-2687-43d9-821b-b4cef5db42e5\" type=\"checkbox\" ><label class=\"sk-toggleable__label\" for=\"2206d5f1-2687-43d9-821b-b4cef5db42e5\">KNeighborsClassifier</label><div class=\"sk-toggleable__content\"><pre>KNeighborsClassifier(n_neighbors=11)</pre></div></div></div></div></div></div></div>"
      ],
      "text/plain": [
       "Pipeline(steps=[('columntransformer',\n",
       "                 ColumnTransformer(remainder='passthrough',\n",
       "                                   transformers=[('onehotencoder',\n",
       "                                                  OneHotEncoder(sparse='false'),\n",
       "                                                  [2]),\n",
       "                                                 ('ordinalencoder',\n",
       "                                                  OrdinalEncoder(), [1, 3])])),\n",
       "                ('smote', SMOTE()),\n",
       "                ('kneighborsclassifier', KNeighborsClassifier(n_neighbors=11))])"
      ]
     },
     "execution_count": 24,
     "metadata": {},
     "output_type": "execute_result"
    }
   ],
   "source": [
    "n_pipe.fit(x_train,y_train)"
   ]
  },
  {
   "cell_type": "code",
   "execution_count": 25,
   "id": "8c8ec602",
   "metadata": {
    "execution": {
     "iopub.execute_input": "2023-01-25T05:17:44.987890Z",
     "iopub.status.busy": "2023-01-25T05:17:44.987182Z",
     "iopub.status.idle": "2023-01-25T05:17:44.997455Z",
     "shell.execute_reply": "2023-01-25T05:17:44.998013Z",
     "shell.execute_reply.started": "2022-02-28T13:02:30.864365Z"
    },
    "papermill": {
     "duration": 0.060749,
     "end_time": "2023-01-25T05:17:44.998204",
     "exception": false,
     "start_time": "2023-01-25T05:17:44.937455",
     "status": "completed"
    },
    "tags": []
   },
   "outputs": [
    {
     "data": {
      "text/plain": [
       "array(['drugC', 'drugA', 'drugC', 'drugB', 'drugC', 'DrugY', 'drugX',\n",
       "       'DrugY', 'DrugY', 'DrugY', 'drugB', 'drugA', 'drugA', 'drugX',\n",
       "       'DrugY', 'drugB', 'DrugY', 'drugX', 'drugC', 'DrugY', 'drugB',\n",
       "       'DrugY', 'drugA', 'drugC', 'drugB', 'DrugY', 'drugC', 'DrugY',\n",
       "       'DrugY', 'drugA', 'drugC', 'drugC', 'drugC', 'drugA', 'drugX',\n",
       "       'drugB', 'drugC', 'drugC', 'DrugY', 'DrugY'], dtype=object)"
      ]
     },
     "execution_count": 25,
     "metadata": {},
     "output_type": "execute_result"
    }
   ],
   "source": [
    "pred_n=n_pipe.predict(x_test)\n",
    "pred_n"
   ]
  },
  {
   "cell_type": "code",
   "execution_count": 26,
   "id": "b8378597",
   "metadata": {
    "execution": {
     "iopub.execute_input": "2023-01-25T05:17:45.085516Z",
     "iopub.status.busy": "2023-01-25T05:17:45.084731Z",
     "iopub.status.idle": "2023-01-25T05:17:45.090760Z",
     "shell.execute_reply": "2023-01-25T05:17:45.091369Z",
     "shell.execute_reply.started": "2022-02-28T13:02:30.880021Z"
    },
    "papermill": {
     "duration": 0.051746,
     "end_time": "2023-01-25T05:17:45.091548",
     "exception": false,
     "start_time": "2023-01-25T05:17:45.039802",
     "status": "completed"
    },
    "tags": []
   },
   "outputs": [
    {
     "data": {
      "text/plain": [
       "52.5"
      ]
     },
     "execution_count": 26,
     "metadata": {},
     "output_type": "execute_result"
    }
   ],
   "source": [
    "accuracy_score(pred_n,y_test)*100"
   ]
  },
  {
   "cell_type": "markdown",
   "id": "983055d9",
   "metadata": {
    "papermill": {
     "duration": 0.042801,
     "end_time": "2023-01-25T05:17:45.177008",
     "exception": false,
     "start_time": "2023-01-25T05:17:45.134207",
     "status": "completed"
    },
    "tags": []
   },
   "source": [
    "# Plot Confusion Matrix: The confusion matrix is a 2 dimensional array comparing predicted category labels to the true label. For binary classification, these are the True Positive, True Negative, False Positive and False Negative categories."
   ]
  },
  {
   "cell_type": "code",
   "execution_count": 27,
   "id": "1756178c",
   "metadata": {
    "execution": {
     "iopub.execute_input": "2023-01-25T05:17:45.267141Z",
     "iopub.status.busy": "2023-01-25T05:17:45.266351Z",
     "iopub.status.idle": "2023-01-25T05:17:45.624441Z",
     "shell.execute_reply": "2023-01-25T05:17:45.623704Z",
     "shell.execute_reply.started": "2022-02-28T13:02:30.892482Z"
    },
    "papermill": {
     "duration": 0.40588,
     "end_time": "2023-01-25T05:17:45.624615",
     "exception": false,
     "start_time": "2023-01-25T05:17:45.218735",
     "status": "completed"
    },
    "tags": []
   },
   "outputs": [
    {
     "data": {
      "text/plain": [
       "<sklearn.metrics._plot.confusion_matrix.ConfusionMatrixDisplay at 0x7f5225948210>"
      ]
     },
     "execution_count": 27,
     "metadata": {},
     "output_type": "execute_result"
    },
    {
     "data": {
      "image/png": "[encoded data removed]",
      "text/plain": [
       "<Figure size 432x288 with 2 Axes>"
      ]
     },
     "metadata": {
      "needs_background": "light"
     },
     "output_type": "display_data"
    }
   ],
   "source": [
    "from sklearn.metrics import plot_confusion_matrix\n",
    "plot_confusion_matrix(n_pipe,x_test,y_test)"
   ]
  },
  {
   "cell_type": "markdown",
   "id": "51b590c0",
   "metadata": {
    "papermill": {
     "duration": 0.04081,
     "end_time": "2023-01-25T05:17:45.708835",
     "exception": false,
     "start_time": "2023-01-25T05:17:45.668025",
     "status": "completed"
    },
    "tags": []
   },
   "source": [
    "# Lets predict the drug type the person needs with respect to his/her assesment."
   ]
  },
  {
   "cell_type": "code",
   "execution_count": 28,
   "id": "6140ceec",
   "metadata": {
    "execution": {
     "iopub.execute_input": "2023-01-25T05:17:45.809456Z",
     "iopub.status.busy": "2023-01-25T05:17:45.808147Z",
     "iopub.status.idle": "2023-01-25T05:17:45.820449Z",
     "shell.execute_reply": "2023-01-25T05:17:45.820960Z",
     "shell.execute_reply.started": "2022-02-28T13:02:31.218131Z"
    },
    "papermill": {
     "duration": 0.070706,
     "end_time": "2023-01-25T05:17:45.821160",
     "exception": false,
     "start_time": "2023-01-25T05:17:45.750454",
     "status": "completed"
    },
    "tags": []
   },
   "outputs": [
    {
     "name": "stderr",
     "output_type": "stream",
     "text": [
      "/opt/conda/lib/python3.7/site-packages/sklearn/utils/validation.py:72: FutureWarning: Beginning in version 0.22, arrays of bytes/strings will be converted to decimal numbers if dtype='numeric'. It is recommended that you convert the array to a float dtype before using it in scikit-learn, for example by using your_array = your_array.astype(np.float64).\n",
      "  return f(**kwargs)\n",
      "/opt/conda/lib/python3.7/site-packages/sklearn/utils/validation.py:72: FutureWarning: Beginning in version 0.22, arrays of bytes/strings will be converted to decimal numbers if dtype='numeric'. It is recommended that you convert the array to a float dtype before using it in scikit-learn, for example by using your_array = your_array.astype(np.float64).\n",
      "  return f(**kwargs)\n"
     ]
    },
    {
     "data": {
      "text/plain": [
       "array(['DrugY'], dtype=object)"
      ]
     },
     "execution_count": 28,
     "metadata": {},
     "output_type": "execute_result"
    }
   ],
   "source": [
    "import numpy as np\n",
    "new=np.array([51,'F','LOW','HIGH',20.000]).reshape(1,5)\n",
    "pipe.predict(new)"
   ]
  },
  {
   "cell_type": "code",
   "execution_count": 29,
   "id": "923b29b3",
   "metadata": {
    "execution": {
     "iopub.execute_input": "2023-01-25T05:17:45.931169Z",
     "iopub.status.busy": "2023-01-25T05:17:45.930277Z",
     "iopub.status.idle": "2023-01-25T05:17:45.942199Z",
     "shell.execute_reply": "2023-01-25T05:17:45.941418Z",
     "shell.execute_reply.started": "2022-02-28T13:02:31.233779Z"
    },
    "papermill": {
     "duration": 0.062487,
     "end_time": "2023-01-25T05:17:45.942415",
     "exception": false,
     "start_time": "2023-01-25T05:17:45.879928",
     "status": "completed"
    },
    "tags": []
   },
   "outputs": [
    {
     "name": "stderr",
     "output_type": "stream",
     "text": [
      "/opt/conda/lib/python3.7/site-packages/sklearn/utils/validation.py:72: FutureWarning: Beginning in version 0.22, arrays of bytes/strings will be converted to decimal numbers if dtype='numeric'. It is recommended that you convert the array to a float dtype before using it in scikit-learn, for example by using your_array = your_array.astype(np.float64).\n",
      "  return f(**kwargs)\n",
      "/opt/conda/lib/python3.7/site-packages/sklearn/utils/validation.py:72: FutureWarning: Beginning in version 0.22, arrays of bytes/strings will be converted to decimal numbers if dtype='numeric'. It is recommended that you convert the array to a float dtype before using it in scikit-learn, for example by using your_array = your_array.astype(np.float64).\n",
      "  return f(**kwargs)\n"
     ]
    },
    {
     "data": {
      "text/plain": [
       "array(['drugA'], dtype=object)"
      ]
     },
     "execution_count": 29,
     "metadata": {},
     "output_type": "execute_result"
    }
   ],
   "source": [
    "new_1=np.array([32,'M','NORMAL','HIGH',10.511]).reshape(1,5)\n",
    "pipe.predict(new_1)"
   ]
  },
  {
   "cell_type": "code",
   "execution_count": null,
   "id": "07bd00f1",
   "metadata": {
    "papermill": {
     "duration": 0.043923,
     "end_time": "2023-01-25T05:17:46.029879",
     "exception": false,
     "start_time": "2023-01-25T05:17:45.985956",
     "status": "completed"
    },
    "tags": []
   },
   "outputs": [],
   "source": []
  }
 ],
 "metadata": {
  "kernelspec": {
   "display_name": "Python 3",
   "language": "python",
   "name": "python3"
  },
  "language_info": {
   "codemirror_mode": {
    "name": "ipython",
    "version": 3
   },
   "file_extension": ".py",
   "mimetype": "text/x-python",
   "name": "python",
   "nbconvert_exporter": "python",
   "pygments_lexer": "ipython3",
   "version": "3.7.12"
  },
  "papermill": {
   "default_parameters": {},
   "duration": 18.272991,
   "end_time": "2023-01-25T05:17:46.886407",
   "environment_variables": {},
   "exception": null,
   "input_path": "__notebook__.ipynb",
   "output_path": "__notebook__.ipynb",
   "parameters": {},
   "start_time": "2023-01-25T05:17:28.613416",
   "version": "2.3.3"
  }
 },
 "nbformat": 4,
 "nbformat_minor": 5
}
