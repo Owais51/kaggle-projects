{
 "cells": [
  {
   "cell_type": "code",
   "execution_count": 1,
   "id": "a7f96443",
   "metadata": {
    "_cell_guid": "b1076dfc-b9ad-4769-8c92-a6c4dae69d19",
    "_uuid": "8f2839f25d086af736a60e9eeb907d3b93b6e0e5",
    "execution": {
     "iopub.execute_input": "2023-01-25T05:18:37.653303Z",
     "iopub.status.busy": "2023-01-25T05:18:37.652040Z",
     "iopub.status.idle": "2023-01-25T05:18:37.666634Z",
     "shell.execute_reply": "2023-01-25T05:18:37.667215Z",
     "shell.execute_reply.started": "2022-02-28T12:19:35.518162Z"
    },
    "papermill": {
     "duration": 0.055652,
     "end_time": "2023-01-25T05:18:37.667502",
     "exception": false,
     "start_time": "2023-01-25T05:18:37.611850",
     "status": "completed"
    },
    "tags": []
   },
   "outputs": [
    {
     "name": "stdout",
     "output_type": "stream",
     "text": [
      "/kaggle/input/new-york-city-airbnb-open-data/AB_NYC_2019.csv\n",
      "/kaggle/input/new-york-city-airbnb-open-data/New_York_City_.png\n"
     ]
    }
   ],
   "source": [
    "# This Python 3 environment comes with many helpful analytics libraries installed\n",
    "# It is defined by the kaggle/python Docker image: https://github.com/kaggle/docker-python\n",
    "# For example, here's several helpful packages to load\n",
    "\n",
    "import numpy as np # linear algebra\n",
    "import pandas as pd # data processing, CSV file I/O (e.g. pd.read_csv)\n",
    "\n",
    "# Input data files are available in the read-only \"../input/\" directory\n",
    "# For example, running this (by clicking run or pressing Shift+Enter) will list all files under the input directory\n",
    "\n",
    "import os\n",
    "for dirname, _, filenames in os.walk('/kaggle/input'):\n",
    "    for filename in filenames:\n",
    "        print(os.path.join(dirname, filename))\n",
    "\n",
    "# You can write up to 20GB to the current directory (/kaggle/working/) that gets preserved as output when you create a version using \"Save & Run All\" \n",
    "# You can also write temporary files to /kaggle/temp/, but they won't be saved outside of the current session"
   ]
  },
  {
   "cell_type": "markdown",
   "id": "b3050c7f",
   "metadata": {
    "papermill": {
     "duration": 0.035452,
     "end_time": "2023-01-25T05:18:37.738750",
     "exception": false,
     "start_time": "2023-01-25T05:18:37.703298",
     "status": "completed"
    },
    "tags": []
   },
   "source": [
    "# The dataset given below is supervised learning, where a input data is provided to the model along with the output. The goal of supervised learning is to train the model so that it can predict the output when it is given new data."
   ]
  },
  {
   "cell_type": "code",
   "execution_count": 2,
   "id": "3541ba18",
   "metadata": {
    "execution": {
     "iopub.execute_input": "2023-01-25T05:18:37.813040Z",
     "iopub.status.busy": "2023-01-25T05:18:37.812113Z",
     "iopub.status.idle": "2023-01-25T05:18:38.099257Z",
     "shell.execute_reply": "2023-01-25T05:18:38.099760Z",
     "shell.execute_reply.started": "2022-02-28T12:19:35.556177Z"
    },
    "papermill": {
     "duration": 0.32457,
     "end_time": "2023-01-25T05:18:38.099948",
     "exception": false,
     "start_time": "2023-01-25T05:18:37.775378",
     "status": "completed"
    },
    "tags": []
   },
   "outputs": [
    {
     "data": {
      "text/html": [
       "<div>\n",
       "<style scoped>\n",
       "    .dataframe tbody tr th:only-of-type {\n",
       "        vertical-align: middle;\n",
       "    }\n",
       "\n",
       "    .dataframe tbody tr th {\n",
       "        vertical-align: top;\n",
       "    }\n",
       "\n",
       "    .dataframe thead th {\n",
       "        text-align: right;\n",
       "    }\n",
       "</style>\n",
       "<table border=\"1\" class=\"dataframe\">\n",
       "  <thead>\n",
       "    <tr style=\"text-align: right;\">\n",
       "      <th></th>\n",
       "      <th>id</th>\n",
       "      <th>name</th>\n",
       "      <th>host_id</th>\n",
       "      <th>host_name</th>\n",
       "      <th>neighbourhood_group</th>\n",
       "      <th>neighbourhood</th>\n",
       "      <th>latitude</th>\n",
       "      <th>longitude</th>\n",
       "      <th>room_type</th>\n",
       "      <th>price</th>\n",
       "      <th>minimum_nights</th>\n",
       "      <th>number_of_reviews</th>\n",
       "      <th>last_review</th>\n",
       "      <th>reviews_per_month</th>\n",
       "      <th>calculated_host_listings_count</th>\n",
       "      <th>availability_365</th>\n",
       "    </tr>\n",
       "  </thead>\n",
       "  <tbody>\n",
       "    <tr>\n",
       "      <th>0</th>\n",
       "      <td>2539</td>\n",
       "      <td>Clean &amp; quiet apt home by the park</td>\n",
       "      <td>2787</td>\n",
       "      <td>John</td>\n",
       "      <td>Brooklyn</td>\n",
       "      <td>Kensington</td>\n",
       "      <td>40.64749</td>\n",
       "      <td>-73.97237</td>\n",
       "      <td>Private room</td>\n",
       "      <td>149</td>\n",
       "      <td>1</td>\n",
       "      <td>9</td>\n",
       "      <td>2018-10-19</td>\n",
       "      <td>0.21</td>\n",
       "      <td>6</td>\n",
       "      <td>365</td>\n",
       "    </tr>\n",
       "    <tr>\n",
       "      <th>1</th>\n",
       "      <td>2595</td>\n",
       "      <td>Skylit Midtown Castle</td>\n",
       "      <td>2845</td>\n",
       "      <td>Jennifer</td>\n",
       "      <td>Manhattan</td>\n",
       "      <td>Midtown</td>\n",
       "      <td>40.75362</td>\n",
       "      <td>-73.98377</td>\n",
       "      <td>Entire home/apt</td>\n",
       "      <td>225</td>\n",
       "      <td>1</td>\n",
       "      <td>45</td>\n",
       "      <td>2019-05-21</td>\n",
       "      <td>0.38</td>\n",
       "      <td>2</td>\n",
       "      <td>355</td>\n",
       "    </tr>\n",
       "    <tr>\n",
       "      <th>2</th>\n",
       "      <td>3647</td>\n",
       "      <td>THE VILLAGE OF HARLEM....NEW YORK !</td>\n",
       "      <td>4632</td>\n",
       "      <td>Elisabeth</td>\n",
       "      <td>Manhattan</td>\n",
       "      <td>Harlem</td>\n",
       "      <td>40.80902</td>\n",
       "      <td>-73.94190</td>\n",
       "      <td>Private room</td>\n",
       "      <td>150</td>\n",
       "      <td>3</td>\n",
       "      <td>0</td>\n",
       "      <td>NaN</td>\n",
       "      <td>NaN</td>\n",
       "      <td>1</td>\n",
       "      <td>365</td>\n",
       "    </tr>\n",
       "    <tr>\n",
       "      <th>3</th>\n",
       "      <td>3831</td>\n",
       "      <td>Cozy Entire Floor of Brownstone</td>\n",
       "      <td>4869</td>\n",
       "      <td>LisaRoxanne</td>\n",
       "      <td>Brooklyn</td>\n",
       "      <td>Clinton Hill</td>\n",
       "      <td>40.68514</td>\n",
       "      <td>-73.95976</td>\n",
       "      <td>Entire home/apt</td>\n",
       "      <td>89</td>\n",
       "      <td>1</td>\n",
       "      <td>270</td>\n",
       "      <td>2019-07-05</td>\n",
       "      <td>4.64</td>\n",
       "      <td>1</td>\n",
       "      <td>194</td>\n",
       "    </tr>\n",
       "    <tr>\n",
       "      <th>4</th>\n",
       "      <td>5022</td>\n",
       "      <td>Entire Apt: Spacious Studio/Loft by central park</td>\n",
       "      <td>7192</td>\n",
       "      <td>Laura</td>\n",
       "      <td>Manhattan</td>\n",
       "      <td>East Harlem</td>\n",
       "      <td>40.79851</td>\n",
       "      <td>-73.94399</td>\n",
       "      <td>Entire home/apt</td>\n",
       "      <td>80</td>\n",
       "      <td>10</td>\n",
       "      <td>9</td>\n",
       "      <td>2018-11-19</td>\n",
       "      <td>0.10</td>\n",
       "      <td>1</td>\n",
       "      <td>0</td>\n",
       "    </tr>\n",
       "    <tr>\n",
       "      <th>...</th>\n",
       "      <td>...</td>\n",
       "      <td>...</td>\n",
       "      <td>...</td>\n",
       "      <td>...</td>\n",
       "      <td>...</td>\n",
       "      <td>...</td>\n",
       "      <td>...</td>\n",
       "      <td>...</td>\n",
       "      <td>...</td>\n",
       "      <td>...</td>\n",
       "      <td>...</td>\n",
       "      <td>...</td>\n",
       "      <td>...</td>\n",
       "      <td>...</td>\n",
       "      <td>...</td>\n",
       "      <td>...</td>\n",
       "    </tr>\n",
       "    <tr>\n",
       "      <th>48890</th>\n",
       "      <td>36484665</td>\n",
       "      <td>Charming one bedroom - newly renovated rowhouse</td>\n",
       "      <td>8232441</td>\n",
       "      <td>Sabrina</td>\n",
       "      <td>Brooklyn</td>\n",
       "      <td>Bedford-Stuyvesant</td>\n",
       "      <td>40.67853</td>\n",
       "      <td>-73.94995</td>\n",
       "      <td>Private room</td>\n",
       "      <td>70</td>\n",
       "      <td>2</td>\n",
       "      <td>0</td>\n",
       "      <td>NaN</td>\n",
       "      <td>NaN</td>\n",
       "      <td>2</td>\n",
       "      <td>9</td>\n",
       "    </tr>\n",
       "    <tr>\n",
       "      <th>48891</th>\n",
       "      <td>36485057</td>\n",
       "      <td>Affordable room in Bushwick/East Williamsburg</td>\n",
       "      <td>6570630</td>\n",
       "      <td>Marisol</td>\n",
       "      <td>Brooklyn</td>\n",
       "      <td>Bushwick</td>\n",
       "      <td>40.70184</td>\n",
       "      <td>-73.93317</td>\n",
       "      <td>Private room</td>\n",
       "      <td>40</td>\n",
       "      <td>4</td>\n",
       "      <td>0</td>\n",
       "      <td>NaN</td>\n",
       "      <td>NaN</td>\n",
       "      <td>2</td>\n",
       "      <td>36</td>\n",
       "    </tr>\n",
       "    <tr>\n",
       "      <th>48892</th>\n",
       "      <td>36485431</td>\n",
       "      <td>Sunny Studio at Historical Neighborhood</td>\n",
       "      <td>23492952</td>\n",
       "      <td>Ilgar &amp; Aysel</td>\n",
       "      <td>Manhattan</td>\n",
       "      <td>Harlem</td>\n",
       "      <td>40.81475</td>\n",
       "      <td>-73.94867</td>\n",
       "      <td>Entire home/apt</td>\n",
       "      <td>115</td>\n",
       "      <td>10</td>\n",
       "      <td>0</td>\n",
       "      <td>NaN</td>\n",
       "      <td>NaN</td>\n",
       "      <td>1</td>\n",
       "      <td>27</td>\n",
       "    </tr>\n",
       "    <tr>\n",
       "      <th>48893</th>\n",
       "      <td>36485609</td>\n",
       "      <td>43rd St. Time Square-cozy single bed</td>\n",
       "      <td>30985759</td>\n",
       "      <td>Taz</td>\n",
       "      <td>Manhattan</td>\n",
       "      <td>Hell's Kitchen</td>\n",
       "      <td>40.75751</td>\n",
       "      <td>-73.99112</td>\n",
       "      <td>Shared room</td>\n",
       "      <td>55</td>\n",
       "      <td>1</td>\n",
       "      <td>0</td>\n",
       "      <td>NaN</td>\n",
       "      <td>NaN</td>\n",
       "      <td>6</td>\n",
       "      <td>2</td>\n",
       "    </tr>\n",
       "    <tr>\n",
       "      <th>48894</th>\n",
       "      <td>36487245</td>\n",
       "      <td>Trendy duplex in the very heart of Hell's Kitchen</td>\n",
       "      <td>68119814</td>\n",
       "      <td>Christophe</td>\n",
       "      <td>Manhattan</td>\n",
       "      <td>Hell's Kitchen</td>\n",
       "      <td>40.76404</td>\n",
       "      <td>-73.98933</td>\n",
       "      <td>Private room</td>\n",
       "      <td>90</td>\n",
       "      <td>7</td>\n",
       "      <td>0</td>\n",
       "      <td>NaN</td>\n",
       "      <td>NaN</td>\n",
       "      <td>1</td>\n",
       "      <td>23</td>\n",
       "    </tr>\n",
       "  </tbody>\n",
       "</table>\n",
       "<p>48895 rows × 16 columns</p>\n",
       "</div>"
      ],
      "text/plain": [
       "             id                                               name   host_id  \\\n",
       "0          2539                 Clean & quiet apt home by the park      2787   \n",
       "1          2595                              Skylit Midtown Castle      2845   \n",
       "2          3647                THE VILLAGE OF HARLEM....NEW YORK !      4632   \n",
       "3          3831                    Cozy Entire Floor of Brownstone      4869   \n",
       "4          5022   Entire Apt: Spacious Studio/Loft by central park      7192   \n",
       "...         ...                                                ...       ...   \n",
       "48890  36484665    Charming one bedroom - newly renovated rowhouse   8232441   \n",
       "48891  36485057      Affordable room in Bushwick/East Williamsburg   6570630   \n",
       "48892  36485431            Sunny Studio at Historical Neighborhood  23492952   \n",
       "48893  36485609               43rd St. Time Square-cozy single bed  30985759   \n",
       "48894  36487245  Trendy duplex in the very heart of Hell's Kitchen  68119814   \n",
       "\n",
       "           host_name neighbourhood_group       neighbourhood  latitude  \\\n",
       "0               John            Brooklyn          Kensington  40.64749   \n",
       "1           Jennifer           Manhattan             Midtown  40.75362   \n",
       "2          Elisabeth           Manhattan              Harlem  40.80902   \n",
       "3        LisaRoxanne            Brooklyn        Clinton Hill  40.68514   \n",
       "4              Laura           Manhattan         East Harlem  40.79851   \n",
       "...              ...                 ...                 ...       ...   \n",
       "48890        Sabrina            Brooklyn  Bedford-Stuyvesant  40.67853   \n",
       "48891        Marisol            Brooklyn            Bushwick  40.70184   \n",
       "48892  Ilgar & Aysel           Manhattan              Harlem  40.81475   \n",
       "48893            Taz           Manhattan      Hell's Kitchen  40.75751   \n",
       "48894     Christophe           Manhattan      Hell's Kitchen  40.76404   \n",
       "\n",
       "       longitude        room_type  price  minimum_nights  number_of_reviews  \\\n",
       "0      -73.97237     Private room    149               1                  9   \n",
       "1      -73.98377  Entire home/apt    225               1                 45   \n",
       "2      -73.94190     Private room    150               3                  0   \n",
       "3      -73.95976  Entire home/apt     89               1                270   \n",
       "4      -73.94399  Entire home/apt     80              10                  9   \n",
       "...          ...              ...    ...             ...                ...   \n",
       "48890  -73.94995     Private room     70               2                  0   \n",
       "48891  -73.93317     Private room     40               4                  0   \n",
       "48892  -73.94867  Entire home/apt    115              10                  0   \n",
       "48893  -73.99112      Shared room     55               1                  0   \n",
       "48894  -73.98933     Private room     90               7                  0   \n",
       "\n",
       "      last_review  reviews_per_month  calculated_host_listings_count  \\\n",
       "0      2018-10-19               0.21                               6   \n",
       "1      2019-05-21               0.38                               2   \n",
       "2             NaN                NaN                               1   \n",
       "3      2019-07-05               4.64                               1   \n",
       "4      2018-11-19               0.10                               1   \n",
       "...           ...                ...                             ...   \n",
       "48890         NaN                NaN                               2   \n",
       "48891         NaN                NaN                               2   \n",
       "48892         NaN                NaN                               1   \n",
       "48893         NaN                NaN                               6   \n",
       "48894         NaN                NaN                               1   \n",
       "\n",
       "       availability_365  \n",
       "0                   365  \n",
       "1                   355  \n",
       "2                   365  \n",
       "3                   194  \n",
       "4                     0  \n",
       "...                 ...  \n",
       "48890                 9  \n",
       "48891                36  \n",
       "48892                27  \n",
       "48893                 2  \n",
       "48894                23  \n",
       "\n",
       "[48895 rows x 16 columns]"
      ]
     },
     "execution_count": 2,
     "metadata": {},
     "output_type": "execute_result"
    }
   ],
   "source": [
    "data=pd.read_csv('/kaggle/input/new-york-city-airbnb-open-data/AB_NYC_2019.csv')\n",
    "data"
   ]
  },
  {
   "cell_type": "code",
   "execution_count": 3,
   "id": "d82be10e",
   "metadata": {
    "execution": {
     "iopub.execute_input": "2023-01-25T05:18:38.173605Z",
     "iopub.status.busy": "2023-01-25T05:18:38.172654Z",
     "iopub.status.idle": "2023-01-25T05:18:38.189224Z",
     "shell.execute_reply": "2023-01-25T05:18:38.189671Z",
     "shell.execute_reply.started": "2022-02-28T12:19:35.855568Z"
    },
    "papermill": {
     "duration": 0.05508,
     "end_time": "2023-01-25T05:18:38.189859",
     "exception": false,
     "start_time": "2023-01-25T05:18:38.134779",
     "status": "completed"
    },
    "tags": []
   },
   "outputs": [
    {
     "data": {
      "text/html": [
       "<div>\n",
       "<style scoped>\n",
       "    .dataframe tbody tr th:only-of-type {\n",
       "        vertical-align: middle;\n",
       "    }\n",
       "\n",
       "    .dataframe tbody tr th {\n",
       "        vertical-align: top;\n",
       "    }\n",
       "\n",
       "    .dataframe thead th {\n",
       "        text-align: right;\n",
       "    }\n",
       "</style>\n",
       "<table border=\"1\" class=\"dataframe\">\n",
       "  <thead>\n",
       "    <tr style=\"text-align: right;\">\n",
       "      <th></th>\n",
       "      <th>id</th>\n",
       "      <th>name</th>\n",
       "      <th>host_id</th>\n",
       "      <th>host_name</th>\n",
       "      <th>neighbourhood_group</th>\n",
       "      <th>neighbourhood</th>\n",
       "      <th>latitude</th>\n",
       "      <th>longitude</th>\n",
       "      <th>room_type</th>\n",
       "      <th>price</th>\n",
       "      <th>minimum_nights</th>\n",
       "      <th>number_of_reviews</th>\n",
       "      <th>last_review</th>\n",
       "      <th>reviews_per_month</th>\n",
       "      <th>calculated_host_listings_count</th>\n",
       "      <th>availability_365</th>\n",
       "    </tr>\n",
       "  </thead>\n",
       "  <tbody>\n",
       "    <tr>\n",
       "      <th>0</th>\n",
       "      <td>2539</td>\n",
       "      <td>Clean &amp; quiet apt home by the park</td>\n",
       "      <td>2787</td>\n",
       "      <td>John</td>\n",
       "      <td>Brooklyn</td>\n",
       "      <td>Kensington</td>\n",
       "      <td>40.64749</td>\n",
       "      <td>-73.97237</td>\n",
       "      <td>Private room</td>\n",
       "      <td>149</td>\n",
       "      <td>1</td>\n",
       "      <td>9</td>\n",
       "      <td>2018-10-19</td>\n",
       "      <td>0.21</td>\n",
       "      <td>6</td>\n",
       "      <td>365</td>\n",
       "    </tr>\n",
       "    <tr>\n",
       "      <th>1</th>\n",
       "      <td>2595</td>\n",
       "      <td>Skylit Midtown Castle</td>\n",
       "      <td>2845</td>\n",
       "      <td>Jennifer</td>\n",
       "      <td>Manhattan</td>\n",
       "      <td>Midtown</td>\n",
       "      <td>40.75362</td>\n",
       "      <td>-73.98377</td>\n",
       "      <td>Entire home/apt</td>\n",
       "      <td>225</td>\n",
       "      <td>1</td>\n",
       "      <td>45</td>\n",
       "      <td>2019-05-21</td>\n",
       "      <td>0.38</td>\n",
       "      <td>2</td>\n",
       "      <td>355</td>\n",
       "    </tr>\n",
       "    <tr>\n",
       "      <th>2</th>\n",
       "      <td>3647</td>\n",
       "      <td>THE VILLAGE OF HARLEM....NEW YORK !</td>\n",
       "      <td>4632</td>\n",
       "      <td>Elisabeth</td>\n",
       "      <td>Manhattan</td>\n",
       "      <td>Harlem</td>\n",
       "      <td>40.80902</td>\n",
       "      <td>-73.94190</td>\n",
       "      <td>Private room</td>\n",
       "      <td>150</td>\n",
       "      <td>3</td>\n",
       "      <td>0</td>\n",
       "      <td>NaN</td>\n",
       "      <td>NaN</td>\n",
       "      <td>1</td>\n",
       "      <td>365</td>\n",
       "    </tr>\n",
       "    <tr>\n",
       "      <th>3</th>\n",
       "      <td>3831</td>\n",
       "      <td>Cozy Entire Floor of Brownstone</td>\n",
       "      <td>4869</td>\n",
       "      <td>LisaRoxanne</td>\n",
       "      <td>Brooklyn</td>\n",
       "      <td>Clinton Hill</td>\n",
       "      <td>40.68514</td>\n",
       "      <td>-73.95976</td>\n",
       "      <td>Entire home/apt</td>\n",
       "      <td>89</td>\n",
       "      <td>1</td>\n",
       "      <td>270</td>\n",
       "      <td>2019-07-05</td>\n",
       "      <td>4.64</td>\n",
       "      <td>1</td>\n",
       "      <td>194</td>\n",
       "    </tr>\n",
       "    <tr>\n",
       "      <th>4</th>\n",
       "      <td>5022</td>\n",
       "      <td>Entire Apt: Spacious Studio/Loft by central park</td>\n",
       "      <td>7192</td>\n",
       "      <td>Laura</td>\n",
       "      <td>Manhattan</td>\n",
       "      <td>East Harlem</td>\n",
       "      <td>40.79851</td>\n",
       "      <td>-73.94399</td>\n",
       "      <td>Entire home/apt</td>\n",
       "      <td>80</td>\n",
       "      <td>10</td>\n",
       "      <td>9</td>\n",
       "      <td>2018-11-19</td>\n",
       "      <td>0.10</td>\n",
       "      <td>1</td>\n",
       "      <td>0</td>\n",
       "    </tr>\n",
       "  </tbody>\n",
       "</table>\n",
       "</div>"
      ],
      "text/plain": [
       "     id                                              name  host_id  \\\n",
       "0  2539                Clean & quiet apt home by the park     2787   \n",
       "1  2595                             Skylit Midtown Castle     2845   \n",
       "2  3647               THE VILLAGE OF HARLEM....NEW YORK !     4632   \n",
       "3  3831                   Cozy Entire Floor of Brownstone     4869   \n",
       "4  5022  Entire Apt: Spacious Studio/Loft by central park     7192   \n",
       "\n",
       "     host_name neighbourhood_group neighbourhood  latitude  longitude  \\\n",
       "0         John            Brooklyn    Kensington  40.64749  -73.97237   \n",
       "1     Jennifer           Manhattan       Midtown  40.75362  -73.98377   \n",
       "2    Elisabeth           Manhattan        Harlem  40.80902  -73.94190   \n",
       "3  LisaRoxanne            Brooklyn  Clinton Hill  40.68514  -73.95976   \n",
       "4        Laura           Manhattan   East Harlem  40.79851  -73.94399   \n",
       "\n",
       "         room_type  price  minimum_nights  number_of_reviews last_review  \\\n",
       "0     Private room    149               1                  9  2018-10-19   \n",
       "1  Entire home/apt    225               1                 45  2019-05-21   \n",
       "2     Private room    150               3                  0         NaN   \n",
       "3  Entire home/apt     89               1                270  2019-07-05   \n",
       "4  Entire home/apt     80              10                  9  2018-11-19   \n",
       "\n",
       "   reviews_per_month  calculated_host_listings_count  availability_365  \n",
       "0               0.21                               6               365  \n",
       "1               0.38                               2               355  \n",
       "2                NaN                               1               365  \n",
       "3               4.64                               1               194  \n",
       "4               0.10                               1                 0  "
      ]
     },
     "execution_count": 3,
     "metadata": {},
     "output_type": "execute_result"
    }
   ],
   "source": [
    "data.head(5)"
   ]
  },
  {
   "cell_type": "code",
   "execution_count": 4,
   "id": "44c2b7e0",
   "metadata": {
    "execution": {
     "iopub.execute_input": "2023-01-25T05:18:38.264639Z",
     "iopub.status.busy": "2023-01-25T05:18:38.263684Z",
     "iopub.status.idle": "2023-01-25T05:18:38.291803Z",
     "shell.execute_reply": "2023-01-25T05:18:38.292325Z",
     "shell.execute_reply.started": "2022-02-28T12:19:35.881194Z"
    },
    "papermill": {
     "duration": 0.067161,
     "end_time": "2023-01-25T05:18:38.292520",
     "exception": false,
     "start_time": "2023-01-25T05:18:38.225359",
     "status": "completed"
    },
    "tags": []
   },
   "outputs": [],
   "source": [
    "data=data[data[('host_name')].map(data['host_name'].value_counts())>100]\n",
    "data=data[data[('neighbourhood')].map(data['neighbourhood'].value_counts())>100]"
   ]
  },
  {
   "cell_type": "markdown",
   "id": "d85f5706",
   "metadata": {
    "papermill": {
     "duration": 0.035209,
     "end_time": "2023-01-25T05:18:38.363029",
     "exception": false,
     "start_time": "2023-01-25T05:18:38.327820",
     "status": "completed"
    },
    "tags": []
   },
   "source": [
    "# We use Power Transformer to reduce the mean square error as much as possible and eventually any distribution of the price will be however transformed into standard normal distribution.Here we are transforming only for the price."
   ]
  },
  {
   "cell_type": "code",
   "execution_count": 5,
   "id": "6ee5c684",
   "metadata": {
    "execution": {
     "iopub.execute_input": "2023-01-25T05:18:38.438997Z",
     "iopub.status.busy": "2023-01-25T05:18:38.438299Z",
     "iopub.status.idle": "2023-01-25T05:18:39.828947Z",
     "shell.execute_reply": "2023-01-25T05:18:39.828237Z",
     "shell.execute_reply.started": "2022-02-28T12:19:35.921235Z"
    },
    "papermill": {
     "duration": 1.430567,
     "end_time": "2023-01-25T05:18:39.829103",
     "exception": false,
     "start_time": "2023-01-25T05:18:38.398536",
     "status": "completed"
    },
    "tags": []
   },
   "outputs": [
    {
     "name": "stderr",
     "output_type": "stream",
     "text": [
      "/opt/conda/lib/python3.7/site-packages/seaborn/distributions.py:2619: FutureWarning: `distplot` is a deprecated function and will be removed in a future version. Please adapt your code to use either `displot` (a figure-level function with similar flexibility) or `histplot` (an axes-level function for histograms).\n",
      "  warnings.warn(msg, FutureWarning)\n"
     ]
    },
    {
     "data": {
      "text/plain": [
       "<AxesSubplot:xlabel='price', ylabel='Density'>"
      ]
     },
     "execution_count": 5,
     "metadata": {},
     "output_type": "execute_result"
    },
    {
     "data": {
      "image/png": "[encoded data removed]",
      "text/plain": [
       "<Figure size 432x288 with 1 Axes>"
      ]
     },
     "metadata": {
      "needs_background": "light"
     },
     "output_type": "display_data"
    }
   ],
   "source": [
    "from sklearn.preprocessing import PowerTransformer\n",
    "import seaborn as sns\n",
    "p=PowerTransformer()\n",
    "data['price']=p.fit_transform(data[['price']])\n",
    "sns.distplot(data.price)"
   ]
  },
  {
   "cell_type": "code",
   "execution_count": 6,
   "id": "ac87fa0f",
   "metadata": {
    "execution": {
     "iopub.execute_input": "2023-01-25T05:18:39.910598Z",
     "iopub.status.busy": "2023-01-25T05:18:39.909539Z",
     "iopub.status.idle": "2023-01-25T05:18:39.912334Z",
     "shell.execute_reply": "2023-01-25T05:18:39.911763Z",
     "shell.execute_reply.started": "2022-02-28T12:19:37.584228Z"
    },
    "papermill": {
     "duration": 0.044763,
     "end_time": "2023-01-25T05:18:39.912489",
     "exception": false,
     "start_time": "2023-01-25T05:18:39.867726",
     "status": "completed"
    },
    "tags": []
   },
   "outputs": [],
   "source": [
    "#from sklearn.preprocessing import FunctionTransformer\n",
    "#f=FunctionTransformer(np.log1p)\n",
    "#data['price']=f.fit_transform(data[['price']])\n",
    "#sns.distplot(data.price)"
   ]
  },
  {
   "cell_type": "markdown",
   "id": "57d9fecd",
   "metadata": {
    "papermill": {
     "duration": 0.037184,
     "end_time": "2023-01-25T05:18:39.986851",
     "exception": false,
     "start_time": "2023-01-25T05:18:39.949667",
     "status": "completed"
    },
    "tags": []
   },
   "source": [
    "# Standard Scaler works similar like Power Transformer, the only change in the Standard Scaler is that the distribution remains the same and the values get scaled-up."
   ]
  },
  {
   "cell_type": "code",
   "execution_count": 7,
   "id": "f8ba7e06",
   "metadata": {
    "execution": {
     "iopub.execute_input": "2023-01-25T05:18:40.071446Z",
     "iopub.status.busy": "2023-01-25T05:18:40.070451Z",
     "iopub.status.idle": "2023-01-25T05:18:40.442062Z",
     "shell.execute_reply": "2023-01-25T05:18:40.442517Z",
     "shell.execute_reply.started": "2022-02-28T12:19:37.591069Z"
    },
    "papermill": {
     "duration": 0.418053,
     "end_time": "2023-01-25T05:18:40.442705",
     "exception": false,
     "start_time": "2023-01-25T05:18:40.024652",
     "status": "completed"
    },
    "tags": []
   },
   "outputs": [
    {
     "name": "stderr",
     "output_type": "stream",
     "text": [
      "/opt/conda/lib/python3.7/site-packages/seaborn/distributions.py:2619: FutureWarning: `distplot` is a deprecated function and will be removed in a future version. Please adapt your code to use either `displot` (a figure-level function with similar flexibility) or `histplot` (an axes-level function for histograms).\n",
      "  warnings.warn(msg, FutureWarning)\n"
     ]
    },
    {
     "data": {
      "text/plain": [
       "<AxesSubplot:xlabel='price', ylabel='Density'>"
      ]
     },
     "execution_count": 7,
     "metadata": {},
     "output_type": "execute_result"
    },
    {
     "data": {
      "image/png": "[encoded data removed]",
      "text/plain": [
       "<Figure size 432x288 with 1 Axes>"
      ]
     },
     "metadata": {
      "needs_background": "light"
     },
     "output_type": "display_data"
    }
   ],
   "source": [
    "from sklearn.preprocessing import StandardScaler\n",
    "s=StandardScaler()\n",
    "data['price']=s.fit_transform(data[['price']])\n",
    "sns.distplot(data.price)"
   ]
  },
  {
   "cell_type": "code",
   "execution_count": 8,
   "id": "c3a2aad3",
   "metadata": {
    "execution": {
     "iopub.execute_input": "2023-01-25T05:18:40.526491Z",
     "iopub.status.busy": "2023-01-25T05:18:40.525756Z",
     "iopub.status.idle": "2023-01-25T05:18:40.531638Z",
     "shell.execute_reply": "2023-01-25T05:18:40.532208Z",
     "shell.execute_reply.started": "2022-02-28T12:19:38.018242Z"
    },
    "papermill": {
     "duration": 0.050779,
     "end_time": "2023-01-25T05:18:40.532432",
     "exception": false,
     "start_time": "2023-01-25T05:18:40.481653",
     "status": "completed"
    },
    "tags": []
   },
   "outputs": [],
   "source": [
    "data.name=data.name.fillna('0')\n",
    "data.host_name=data.host_name.fillna('0')\n",
    "data.price=data.price.fillna(0)\n",
    "data.last_review=data.last_review.fillna(0)\n",
    "data.reviews_per_month=data.reviews_per_month.fillna(0)"
   ]
  },
  {
   "cell_type": "markdown",
   "id": "e9d94f4d",
   "metadata": {
    "papermill": {
     "duration": 0.038323,
     "end_time": "2023-01-25T05:18:40.609894",
     "exception": false,
     "start_time": "2023-01-25T05:18:40.571571",
     "status": "completed"
    },
    "tags": []
   },
   "source": [
    "# Step 1:¶\n",
    "# The first step is to find the null values given in the data."
   ]
  },
  {
   "cell_type": "code",
   "execution_count": 9,
   "id": "edc23c9f",
   "metadata": {
    "execution": {
     "iopub.execute_input": "2023-01-25T05:18:40.696712Z",
     "iopub.status.busy": "2023-01-25T05:18:40.695759Z",
     "iopub.status.idle": "2023-01-25T05:18:40.701541Z",
     "shell.execute_reply": "2023-01-25T05:18:40.702040Z",
     "shell.execute_reply.started": "2022-02-28T12:19:38.032461Z"
    },
    "papermill": {
     "duration": 0.052279,
     "end_time": "2023-01-25T05:18:40.702203",
     "exception": false,
     "start_time": "2023-01-25T05:18:40.649924",
     "status": "completed"
    },
    "tags": []
   },
   "outputs": [
    {
     "data": {
      "text/plain": [
       "id                                0\n",
       "name                              0\n",
       "host_id                           0\n",
       "host_name                         0\n",
       "neighbourhood_group               0\n",
       "neighbourhood                     0\n",
       "latitude                          0\n",
       "longitude                         0\n",
       "room_type                         0\n",
       "price                             0\n",
       "minimum_nights                    0\n",
       "number_of_reviews                 0\n",
       "last_review                       0\n",
       "reviews_per_month                 0\n",
       "calculated_host_listings_count    0\n",
       "availability_365                  0\n",
       "dtype: int64"
      ]
     },
     "execution_count": 9,
     "metadata": {},
     "output_type": "execute_result"
    }
   ],
   "source": [
    "data.isnull().sum()"
   ]
  },
  {
   "cell_type": "markdown",
   "id": "b3fa2437",
   "metadata": {
    "papermill": {
     "duration": 0.039347,
     "end_time": "2023-01-25T05:18:40.780516",
     "exception": false,
     "start_time": "2023-01-25T05:18:40.741169",
     "status": "completed"
    },
    "tags": []
   },
   "source": [
    "# Step 2:\n",
    "# Since there are null values in the given data, we proceed to we replace it with 0 or any other number or variable satisfying the given data before starting step 1. For example data.x=data.x.fillna(0), where x is an imaginary column."
   ]
  },
  {
   "cell_type": "code",
   "execution_count": 10,
   "id": "cc9f7067",
   "metadata": {
    "execution": {
     "iopub.execute_input": "2023-01-25T05:18:40.863589Z",
     "iopub.status.busy": "2023-01-25T05:18:40.862912Z",
     "iopub.status.idle": "2023-01-25T05:18:40.868397Z",
     "shell.execute_reply": "2023-01-25T05:18:40.867717Z",
     "shell.execute_reply.started": "2022-02-28T12:19:38.057041Z"
    },
    "papermill": {
     "duration": 0.047939,
     "end_time": "2023-01-25T05:18:40.868546",
     "exception": false,
     "start_time": "2023-01-25T05:18:40.820607",
     "status": "completed"
    },
    "tags": []
   },
   "outputs": [
    {
     "data": {
      "text/plain": [
       "(6329, 16)"
      ]
     },
     "execution_count": 10,
     "metadata": {},
     "output_type": "execute_result"
    }
   ],
   "source": [
    "data.shape"
   ]
  },
  {
   "cell_type": "markdown",
   "id": "c48f7d92",
   "metadata": {
    "papermill": {
     "duration": 0.040077,
     "end_time": "2023-01-25T05:18:40.948357",
     "exception": false,
     "start_time": "2023-01-25T05:18:40.908280",
     "status": "completed"
    },
    "tags": []
   },
   "source": [
    "# Step 3:\n",
    "# We drop some certain columns to predict the prices of airbnb."
   ]
  },
  {
   "cell_type": "code",
   "execution_count": 11,
   "id": "7707d02e",
   "metadata": {
    "execution": {
     "iopub.execute_input": "2023-01-25T05:18:41.033674Z",
     "iopub.status.busy": "2023-01-25T05:18:41.032706Z",
     "iopub.status.idle": "2023-01-25T05:18:41.053162Z",
     "shell.execute_reply": "2023-01-25T05:18:41.053699Z",
     "shell.execute_reply.started": "2022-02-28T12:19:38.066326Z"
    },
    "papermill": {
     "duration": 0.065193,
     "end_time": "2023-01-25T05:18:41.053889",
     "exception": false,
     "start_time": "2023-01-25T05:18:40.988696",
     "status": "completed"
    },
    "tags": []
   },
   "outputs": [
    {
     "data": {
      "text/html": [
       "<div>\n",
       "<style scoped>\n",
       "    .dataframe tbody tr th:only-of-type {\n",
       "        vertical-align: middle;\n",
       "    }\n",
       "\n",
       "    .dataframe tbody tr th {\n",
       "        vertical-align: top;\n",
       "    }\n",
       "\n",
       "    .dataframe thead th {\n",
       "        text-align: right;\n",
       "    }\n",
       "</style>\n",
       "<table border=\"1\" class=\"dataframe\">\n",
       "  <thead>\n",
       "    <tr style=\"text-align: right;\">\n",
       "      <th></th>\n",
       "      <th>id</th>\n",
       "      <th>host_id</th>\n",
       "      <th>host_name</th>\n",
       "      <th>neighbourhood_group</th>\n",
       "      <th>neighbourhood</th>\n",
       "      <th>latitude</th>\n",
       "      <th>longitude</th>\n",
       "      <th>room_type</th>\n",
       "      <th>minimum_nights</th>\n",
       "      <th>number_of_reviews</th>\n",
       "      <th>reviews_per_month</th>\n",
       "      <th>calculated_host_listings_count</th>\n",
       "      <th>availability_365</th>\n",
       "    </tr>\n",
       "  </thead>\n",
       "  <tbody>\n",
       "    <tr>\n",
       "      <th>1</th>\n",
       "      <td>2595</td>\n",
       "      <td>2845</td>\n",
       "      <td>Jennifer</td>\n",
       "      <td>Manhattan</td>\n",
       "      <td>Midtown</td>\n",
       "      <td>40.75362</td>\n",
       "      <td>-73.98377</td>\n",
       "      <td>Entire home/apt</td>\n",
       "      <td>1</td>\n",
       "      <td>45</td>\n",
       "      <td>0.38</td>\n",
       "      <td>2</td>\n",
       "      <td>355</td>\n",
       "    </tr>\n",
       "    <tr>\n",
       "      <th>4</th>\n",
       "      <td>5022</td>\n",
       "      <td>7192</td>\n",
       "      <td>Laura</td>\n",
       "      <td>Manhattan</td>\n",
       "      <td>East Harlem</td>\n",
       "      <td>40.79851</td>\n",
       "      <td>-73.94399</td>\n",
       "      <td>Entire home/apt</td>\n",
       "      <td>10</td>\n",
       "      <td>9</td>\n",
       "      <td>0.10</td>\n",
       "      <td>1</td>\n",
       "      <td>0</td>\n",
       "    </tr>\n",
       "    <tr>\n",
       "      <th>5</th>\n",
       "      <td>5099</td>\n",
       "      <td>7322</td>\n",
       "      <td>Chris</td>\n",
       "      <td>Manhattan</td>\n",
       "      <td>Murray Hill</td>\n",
       "      <td>40.74767</td>\n",
       "      <td>-73.97500</td>\n",
       "      <td>Entire home/apt</td>\n",
       "      <td>3</td>\n",
       "      <td>74</td>\n",
       "      <td>0.59</td>\n",
       "      <td>1</td>\n",
       "      <td>129</td>\n",
       "    </tr>\n",
       "    <tr>\n",
       "      <th>32</th>\n",
       "      <td>9782</td>\n",
       "      <td>32169</td>\n",
       "      <td>Andrea</td>\n",
       "      <td>Brooklyn</td>\n",
       "      <td>Greenpoint</td>\n",
       "      <td>40.72219</td>\n",
       "      <td>-73.93762</td>\n",
       "      <td>Private room</td>\n",
       "      <td>4</td>\n",
       "      <td>197</td>\n",
       "      <td>1.65</td>\n",
       "      <td>3</td>\n",
       "      <td>284</td>\n",
       "    </tr>\n",
       "    <tr>\n",
       "      <th>39</th>\n",
       "      <td>12048</td>\n",
       "      <td>7549</td>\n",
       "      <td>Ben</td>\n",
       "      <td>Manhattan</td>\n",
       "      <td>Lower East Side</td>\n",
       "      <td>40.71401</td>\n",
       "      <td>-73.98917</td>\n",
       "      <td>Shared room</td>\n",
       "      <td>1</td>\n",
       "      <td>214</td>\n",
       "      <td>1.81</td>\n",
       "      <td>4</td>\n",
       "      <td>188</td>\n",
       "    </tr>\n",
       "    <tr>\n",
       "      <th>...</th>\n",
       "      <td>...</td>\n",
       "      <td>...</td>\n",
       "      <td>...</td>\n",
       "      <td>...</td>\n",
       "      <td>...</td>\n",
       "      <td>...</td>\n",
       "      <td>...</td>\n",
       "      <td>...</td>\n",
       "      <td>...</td>\n",
       "      <td>...</td>\n",
       "      <td>...</td>\n",
       "      <td>...</td>\n",
       "      <td>...</td>\n",
       "    </tr>\n",
       "    <tr>\n",
       "      <th>48853</th>\n",
       "      <td>36455917</td>\n",
       "      <td>274103383</td>\n",
       "      <td>Jennifer</td>\n",
       "      <td>Manhattan</td>\n",
       "      <td>West Village</td>\n",
       "      <td>40.73444</td>\n",
       "      <td>-74.00335</td>\n",
       "      <td>Private room</td>\n",
       "      <td>2</td>\n",
       "      <td>0</td>\n",
       "      <td>0.00</td>\n",
       "      <td>1</td>\n",
       "      <td>84</td>\n",
       "    </tr>\n",
       "    <tr>\n",
       "      <th>48864</th>\n",
       "      <td>36471896</td>\n",
       "      <td>23548340</td>\n",
       "      <td>Sarah</td>\n",
       "      <td>Manhattan</td>\n",
       "      <td>Upper East Side</td>\n",
       "      <td>40.77192</td>\n",
       "      <td>-73.95369</td>\n",
       "      <td>Private room</td>\n",
       "      <td>1</td>\n",
       "      <td>0</td>\n",
       "      <td>0.00</td>\n",
       "      <td>1</td>\n",
       "      <td>2</td>\n",
       "    </tr>\n",
       "    <tr>\n",
       "      <th>48872</th>\n",
       "      <td>36476675</td>\n",
       "      <td>8636072</td>\n",
       "      <td>Ben</td>\n",
       "      <td>Manhattan</td>\n",
       "      <td>Hell's Kitchen</td>\n",
       "      <td>40.76236</td>\n",
       "      <td>-73.99255</td>\n",
       "      <td>Entire home/apt</td>\n",
       "      <td>3</td>\n",
       "      <td>0</td>\n",
       "      <td>0.00</td>\n",
       "      <td>1</td>\n",
       "      <td>9</td>\n",
       "    </tr>\n",
       "    <tr>\n",
       "      <th>48876</th>\n",
       "      <td>36478357</td>\n",
       "      <td>177932088</td>\n",
       "      <td>Joseph</td>\n",
       "      <td>Manhattan</td>\n",
       "      <td>Harlem</td>\n",
       "      <td>40.80953</td>\n",
       "      <td>-73.95410</td>\n",
       "      <td>Private room</td>\n",
       "      <td>1</td>\n",
       "      <td>0</td>\n",
       "      <td>0.00</td>\n",
       "      <td>1</td>\n",
       "      <td>26</td>\n",
       "    </tr>\n",
       "    <tr>\n",
       "      <th>48884</th>\n",
       "      <td>36482783</td>\n",
       "      <td>274307600</td>\n",
       "      <td>Jonathan</td>\n",
       "      <td>Brooklyn</td>\n",
       "      <td>Williamsburg</td>\n",
       "      <td>40.71790</td>\n",
       "      <td>-73.96238</td>\n",
       "      <td>Private room</td>\n",
       "      <td>7</td>\n",
       "      <td>0</td>\n",
       "      <td>0.00</td>\n",
       "      <td>1</td>\n",
       "      <td>341</td>\n",
       "    </tr>\n",
       "  </tbody>\n",
       "</table>\n",
       "<p>6329 rows × 13 columns</p>\n",
       "</div>"
      ],
      "text/plain": [
       "             id    host_id host_name neighbourhood_group    neighbourhood  \\\n",
       "1          2595       2845  Jennifer           Manhattan          Midtown   \n",
       "4          5022       7192     Laura           Manhattan      East Harlem   \n",
       "5          5099       7322     Chris           Manhattan      Murray Hill   \n",
       "32         9782      32169    Andrea            Brooklyn       Greenpoint   \n",
       "39        12048       7549       Ben           Manhattan  Lower East Side   \n",
       "...         ...        ...       ...                 ...              ...   \n",
       "48853  36455917  274103383  Jennifer           Manhattan     West Village   \n",
       "48864  36471896   23548340     Sarah           Manhattan  Upper East Side   \n",
       "48872  36476675    8636072       Ben           Manhattan   Hell's Kitchen   \n",
       "48876  36478357  177932088    Joseph           Manhattan           Harlem   \n",
       "48884  36482783  274307600  Jonathan            Brooklyn     Williamsburg   \n",
       "\n",
       "       latitude  longitude        room_type  minimum_nights  \\\n",
       "1      40.75362  -73.98377  Entire home/apt               1   \n",
       "4      40.79851  -73.94399  Entire home/apt              10   \n",
       "5      40.74767  -73.97500  Entire home/apt               3   \n",
       "32     40.72219  -73.93762     Private room               4   \n",
       "39     40.71401  -73.98917      Shared room               1   \n",
       "...         ...        ...              ...             ...   \n",
       "48853  40.73444  -74.00335     Private room               2   \n",
       "48864  40.77192  -73.95369     Private room               1   \n",
       "48872  40.76236  -73.99255  Entire home/apt               3   \n",
       "48876  40.80953  -73.95410     Private room               1   \n",
       "48884  40.71790  -73.96238     Private room               7   \n",
       "\n",
       "       number_of_reviews  reviews_per_month  calculated_host_listings_count  \\\n",
       "1                     45               0.38                               2   \n",
       "4                      9               0.10                               1   \n",
       "5                     74               0.59                               1   \n",
       "32                   197               1.65                               3   \n",
       "39                   214               1.81                               4   \n",
       "...                  ...                ...                             ...   \n",
       "48853                  0               0.00                               1   \n",
       "48864                  0               0.00                               1   \n",
       "48872                  0               0.00                               1   \n",
       "48876                  0               0.00                               1   \n",
       "48884                  0               0.00                               1   \n",
       "\n",
       "       availability_365  \n",
       "1                   355  \n",
       "4                     0  \n",
       "5                   129  \n",
       "32                  284  \n",
       "39                  188  \n",
       "...                 ...  \n",
       "48853                84  \n",
       "48864                 2  \n",
       "48872                 9  \n",
       "48876                26  \n",
       "48884               341  \n",
       "\n",
       "[6329 rows x 13 columns]"
      ]
     },
     "execution_count": 11,
     "metadata": {},
     "output_type": "execute_result"
    }
   ],
   "source": [
    "x=data.drop(columns=['last_review','price','name'])\n",
    "x"
   ]
  },
  {
   "cell_type": "markdown",
   "id": "b73409f1",
   "metadata": {
    "papermill": {
     "duration": 0.039214,
     "end_time": "2023-01-25T05:18:41.133819",
     "exception": false,
     "start_time": "2023-01-25T05:18:41.094605",
     "status": "completed"
    },
    "tags": []
   },
   "source": [
    "# Step 4:¶\n",
    "# Assign a different variable y in order to predict the suitable prices for the airbnb."
   ]
  },
  {
   "cell_type": "code",
   "execution_count": 12,
   "id": "1e9143ad",
   "metadata": {
    "execution": {
     "iopub.execute_input": "2023-01-25T05:18:41.220990Z",
     "iopub.status.busy": "2023-01-25T05:18:41.220184Z",
     "iopub.status.idle": "2023-01-25T05:18:41.224050Z",
     "shell.execute_reply": "2023-01-25T05:18:41.224521Z",
     "shell.execute_reply.started": "2022-02-28T12:19:38.101846Z"
    },
    "papermill": {
     "duration": 0.051556,
     "end_time": "2023-01-25T05:18:41.224701",
     "exception": false,
     "start_time": "2023-01-25T05:18:41.173145",
     "status": "completed"
    },
    "tags": []
   },
   "outputs": [
    {
     "data": {
      "text/plain": [
       "1     0.792509\n",
       "4    -0.692906\n",
       "5     0.632539\n",
       "32   -1.276959\n",
       "39   -1.792355\n",
       "Name: price, dtype: float64"
      ]
     },
     "execution_count": 12,
     "metadata": {},
     "output_type": "execute_result"
    }
   ],
   "source": [
    "y=data.price\n",
    "y.head()"
   ]
  },
  {
   "cell_type": "markdown",
   "id": "3b360e9e",
   "metadata": {
    "papermill": {
     "duration": 0.039948,
     "end_time": "2023-01-25T05:18:41.305881",
     "exception": false,
     "start_time": "2023-01-25T05:18:41.265933",
     "status": "completed"
    },
    "tags": []
   },
   "source": [
    "# Step 5:\n",
    "# We split the data at train and test, where we first train the x data and the prediction will be prevailed in the testing part. The test we have assumed here to be 0.30, which means 30% of the data from the testing part and 70% of the data is taken from the training part."
   ]
  },
  {
   "cell_type": "code",
   "execution_count": 13,
   "id": "14935ca3",
   "metadata": {
    "execution": {
     "iopub.execute_input": "2023-01-25T05:18:41.390431Z",
     "iopub.status.busy": "2023-01-25T05:18:41.389733Z",
     "iopub.status.idle": "2023-01-25T05:18:41.437564Z",
     "shell.execute_reply": "2023-01-25T05:18:41.436952Z",
     "shell.execute_reply.started": "2022-02-28T12:19:38.110975Z"
    },
    "papermill": {
     "duration": 0.091738,
     "end_time": "2023-01-25T05:18:41.437708",
     "exception": false,
     "start_time": "2023-01-25T05:18:41.345970",
     "status": "completed"
    },
    "tags": []
   },
   "outputs": [],
   "source": [
    "from sklearn.model_selection import train_test_split\n",
    "x_train,x_test,y_train,y_test=train_test_split(x,y,test_size=0.30)"
   ]
  },
  {
   "cell_type": "code",
   "execution_count": 14,
   "id": "a4a9c74c",
   "metadata": {
    "execution": {
     "iopub.execute_input": "2023-01-25T05:18:41.523804Z",
     "iopub.status.busy": "2023-01-25T05:18:41.522814Z",
     "iopub.status.idle": "2023-01-25T05:18:41.526726Z",
     "shell.execute_reply": "2023-01-25T05:18:41.526192Z",
     "shell.execute_reply.started": "2022-02-28T12:19:38.174094Z"
    },
    "papermill": {
     "duration": 0.048924,
     "end_time": "2023-01-25T05:18:41.526885",
     "exception": false,
     "start_time": "2023-01-25T05:18:41.477961",
     "status": "completed"
    },
    "tags": []
   },
   "outputs": [
    {
     "data": {
      "text/plain": [
       "(4430, 13)"
      ]
     },
     "execution_count": 14,
     "metadata": {},
     "output_type": "execute_result"
    }
   ],
   "source": [
    "x_train.shape"
   ]
  },
  {
   "cell_type": "code",
   "execution_count": 15,
   "id": "e7095219",
   "metadata": {
    "execution": {
     "iopub.execute_input": "2023-01-25T05:18:41.613439Z",
     "iopub.status.busy": "2023-01-25T05:18:41.612520Z",
     "iopub.status.idle": "2023-01-25T05:18:41.615656Z",
     "shell.execute_reply": "2023-01-25T05:18:41.616181Z",
     "shell.execute_reply.started": "2022-02-28T12:19:38.182165Z"
    },
    "papermill": {
     "duration": 0.049055,
     "end_time": "2023-01-25T05:18:41.616353",
     "exception": false,
     "start_time": "2023-01-25T05:18:41.567298",
     "status": "completed"
    },
    "tags": []
   },
   "outputs": [
    {
     "data": {
      "text/plain": [
       "(1899, 13)"
      ]
     },
     "execution_count": 15,
     "metadata": {},
     "output_type": "execute_result"
    }
   ],
   "source": [
    "x_test.shape"
   ]
  },
  {
   "cell_type": "markdown",
   "id": "40a9c1b0",
   "metadata": {
    "papermill": {
     "duration": 0.040093,
     "end_time": "2023-01-25T05:18:41.697719",
     "exception": false,
     "start_time": "2023-01-25T05:18:41.657626",
     "status": "completed"
    },
    "tags": []
   },
   "source": [
    "# Step 6:¶\n",
    "# Nominal data: It is the data that can be labelled or classified into mutually exclusive categories within a variable.\n",
    "# Ordinal data: It is a categorical, statistical data type where the variables have natural and ordered categories."
   ]
  },
  {
   "cell_type": "code",
   "execution_count": 16,
   "id": "75db5856",
   "metadata": {
    "execution": {
     "iopub.execute_input": "2023-01-25T05:18:41.794401Z",
     "iopub.status.busy": "2023-01-25T05:18:41.793727Z",
     "iopub.status.idle": "2023-01-25T05:18:41.796982Z",
     "shell.execute_reply": "2023-01-25T05:18:41.796349Z",
     "shell.execute_reply.started": "2022-02-28T12:19:38.194884Z"
    },
    "papermill": {
     "duration": 0.058481,
     "end_time": "2023-01-25T05:18:41.797122",
     "exception": false,
     "start_time": "2023-01-25T05:18:41.738641",
     "status": "completed"
    },
    "tags": []
   },
   "outputs": [
    {
     "data": {
      "text/html": [
       "<div>\n",
       "<style scoped>\n",
       "    .dataframe tbody tr th:only-of-type {\n",
       "        vertical-align: middle;\n",
       "    }\n",
       "\n",
       "    .dataframe tbody tr th {\n",
       "        vertical-align: top;\n",
       "    }\n",
       "\n",
       "    .dataframe thead th {\n",
       "        text-align: right;\n",
       "    }\n",
       "</style>\n",
       "<table border=\"1\" class=\"dataframe\">\n",
       "  <thead>\n",
       "    <tr style=\"text-align: right;\">\n",
       "      <th></th>\n",
       "      <th>id</th>\n",
       "      <th>host_id</th>\n",
       "      <th>host_name</th>\n",
       "      <th>neighbourhood_group</th>\n",
       "      <th>neighbourhood</th>\n",
       "      <th>latitude</th>\n",
       "      <th>longitude</th>\n",
       "      <th>room_type</th>\n",
       "      <th>minimum_nights</th>\n",
       "      <th>number_of_reviews</th>\n",
       "      <th>reviews_per_month</th>\n",
       "      <th>calculated_host_listings_count</th>\n",
       "      <th>availability_365</th>\n",
       "    </tr>\n",
       "  </thead>\n",
       "  <tbody>\n",
       "    <tr>\n",
       "      <th>1</th>\n",
       "      <td>2595</td>\n",
       "      <td>2845</td>\n",
       "      <td>Jennifer</td>\n",
       "      <td>Manhattan</td>\n",
       "      <td>Midtown</td>\n",
       "      <td>40.75362</td>\n",
       "      <td>-73.98377</td>\n",
       "      <td>Entire home/apt</td>\n",
       "      <td>1</td>\n",
       "      <td>45</td>\n",
       "      <td>0.38</td>\n",
       "      <td>2</td>\n",
       "      <td>355</td>\n",
       "    </tr>\n",
       "    <tr>\n",
       "      <th>4</th>\n",
       "      <td>5022</td>\n",
       "      <td>7192</td>\n",
       "      <td>Laura</td>\n",
       "      <td>Manhattan</td>\n",
       "      <td>East Harlem</td>\n",
       "      <td>40.79851</td>\n",
       "      <td>-73.94399</td>\n",
       "      <td>Entire home/apt</td>\n",
       "      <td>10</td>\n",
       "      <td>9</td>\n",
       "      <td>0.10</td>\n",
       "      <td>1</td>\n",
       "      <td>0</td>\n",
       "    </tr>\n",
       "    <tr>\n",
       "      <th>5</th>\n",
       "      <td>5099</td>\n",
       "      <td>7322</td>\n",
       "      <td>Chris</td>\n",
       "      <td>Manhattan</td>\n",
       "      <td>Murray Hill</td>\n",
       "      <td>40.74767</td>\n",
       "      <td>-73.97500</td>\n",
       "      <td>Entire home/apt</td>\n",
       "      <td>3</td>\n",
       "      <td>74</td>\n",
       "      <td>0.59</td>\n",
       "      <td>1</td>\n",
       "      <td>129</td>\n",
       "    </tr>\n",
       "    <tr>\n",
       "      <th>32</th>\n",
       "      <td>9782</td>\n",
       "      <td>32169</td>\n",
       "      <td>Andrea</td>\n",
       "      <td>Brooklyn</td>\n",
       "      <td>Greenpoint</td>\n",
       "      <td>40.72219</td>\n",
       "      <td>-73.93762</td>\n",
       "      <td>Private room</td>\n",
       "      <td>4</td>\n",
       "      <td>197</td>\n",
       "      <td>1.65</td>\n",
       "      <td>3</td>\n",
       "      <td>284</td>\n",
       "    </tr>\n",
       "    <tr>\n",
       "      <th>39</th>\n",
       "      <td>12048</td>\n",
       "      <td>7549</td>\n",
       "      <td>Ben</td>\n",
       "      <td>Manhattan</td>\n",
       "      <td>Lower East Side</td>\n",
       "      <td>40.71401</td>\n",
       "      <td>-73.98917</td>\n",
       "      <td>Shared room</td>\n",
       "      <td>1</td>\n",
       "      <td>214</td>\n",
       "      <td>1.81</td>\n",
       "      <td>4</td>\n",
       "      <td>188</td>\n",
       "    </tr>\n",
       "  </tbody>\n",
       "</table>\n",
       "</div>"
      ],
      "text/plain": [
       "       id  host_id host_name neighbourhood_group    neighbourhood  latitude  \\\n",
       "1    2595     2845  Jennifer           Manhattan          Midtown  40.75362   \n",
       "4    5022     7192     Laura           Manhattan      East Harlem  40.79851   \n",
       "5    5099     7322     Chris           Manhattan      Murray Hill  40.74767   \n",
       "32   9782    32169    Andrea            Brooklyn       Greenpoint  40.72219   \n",
       "39  12048     7549       Ben           Manhattan  Lower East Side  40.71401   \n",
       "\n",
       "    longitude        room_type  minimum_nights  number_of_reviews  \\\n",
       "1   -73.98377  Entire home/apt               1                 45   \n",
       "4   -73.94399  Entire home/apt              10                  9   \n",
       "5   -73.97500  Entire home/apt               3                 74   \n",
       "32  -73.93762     Private room               4                197   \n",
       "39  -73.98917      Shared room               1                214   \n",
       "\n",
       "    reviews_per_month  calculated_host_listings_count  availability_365  \n",
       "1                0.38                               2               355  \n",
       "4                0.10                               1                 0  \n",
       "5                0.59                               1               129  \n",
       "32               1.65                               3               284  \n",
       "39               1.81                               4               188  "
      ]
     },
     "execution_count": 16,
     "metadata": {},
     "output_type": "execute_result"
    }
   ],
   "source": [
    "x.head(5)"
   ]
  },
  {
   "cell_type": "code",
   "execution_count": 17,
   "id": "d6716695",
   "metadata": {
    "execution": {
     "iopub.execute_input": "2023-01-25T05:18:41.884788Z",
     "iopub.status.busy": "2023-01-25T05:18:41.884111Z",
     "iopub.status.idle": "2023-01-25T05:18:41.887413Z",
     "shell.execute_reply": "2023-01-25T05:18:41.886732Z",
     "shell.execute_reply.started": "2022-02-28T12:19:38.223253Z"
    },
    "papermill": {
     "duration": 0.048953,
     "end_time": "2023-01-25T05:18:41.887556",
     "exception": false,
     "start_time": "2023-01-25T05:18:41.838603",
     "status": "completed"
    },
    "tags": []
   },
   "outputs": [],
   "source": [
    "nom_cols=[2,3,4]\n",
    "ord_cols=[7]\n",
    "num_cols=[0,1,5,6,8,9,10,11,12]"
   ]
  },
  {
   "cell_type": "markdown",
   "id": "112f7162",
   "metadata": {
    "papermill": {
     "duration": 0.042075,
     "end_time": "2023-01-25T05:18:41.971135",
     "exception": false,
     "start_time": "2023-01-25T05:18:41.929060",
     "status": "completed"
    },
    "tags": []
   },
   "source": [
    "# Step 7:\n",
    "# One Hot Encoder: A one hot encoding is a representation of categorical variables as binary vectors. This first requires that the categorical values be mapped to integer values. Then, each integer value is represented as a binary vector that is all zero values except the index of the integer, which is marked with a 1\n",
    "# Ordinal Encoder: In ordinal encoding, each unique category value is assigned an integer value.¶\n",
    "# For example, “red” is 1, “green” is 2, and “blue” is 3.This is called an ordinal encoding or an integer encoding and is easily reversible."
   ]
  },
  {
   "cell_type": "code",
   "execution_count": 18,
   "id": "914e07ea",
   "metadata": {
    "execution": {
     "iopub.execute_input": "2023-01-25T05:18:42.061143Z",
     "iopub.status.busy": "2023-01-25T05:18:42.060246Z",
     "iopub.status.idle": "2023-01-25T05:18:42.079410Z",
     "shell.execute_reply": "2023-01-25T05:18:42.078897Z",
     "shell.execute_reply.started": "2022-02-28T12:19:38.234381Z"
    },
    "papermill": {
     "duration": 0.067065,
     "end_time": "2023-01-25T05:18:42.079565",
     "exception": false,
     "start_time": "2023-01-25T05:18:42.012500",
     "status": "completed"
    },
    "tags": []
   },
   "outputs": [
    {
     "data": {
      "text/html": [
       "<style>div.sk-top-container {color: black;background-color: white;}div.sk-toggleable {background-color: white;}label.sk-toggleable__label {cursor: pointer;display: block;width: 100%;margin-bottom: 0;padding: 0.2em 0.3em;box-sizing: border-box;text-align: center;}div.sk-toggleable__content {max-height: 0;max-width: 0;overflow: hidden;text-align: left;background-color: #f0f8ff;}div.sk-toggleable__content pre {margin: 0.2em;color: black;border-radius: 0.25em;background-color: #f0f8ff;}input.sk-toggleable__control:checked~div.sk-toggleable__content {max-height: 200px;max-width: 100%;overflow: auto;}div.sk-estimator input.sk-toggleable__control:checked~label.sk-toggleable__label {background-color: #d4ebff;}div.sk-label input.sk-toggleable__control:checked~label.sk-toggleable__label {background-color: #d4ebff;}input.sk-hidden--visually {border: 0;clip: rect(1px 1px 1px 1px);clip: rect(1px, 1px, 1px, 1px);height: 1px;margin: -1px;overflow: hidden;padding: 0;position: absolute;width: 1px;}div.sk-estimator {font-family: monospace;background-color: #f0f8ff;margin: 0.25em 0.25em;border: 1px dotted black;border-radius: 0.25em;box-sizing: border-box;}div.sk-estimator:hover {background-color: #d4ebff;}div.sk-parallel-item::after {content: \"\";width: 100%;border-bottom: 1px solid gray;flex-grow: 1;}div.sk-label:hover label.sk-toggleable__label {background-color: #d4ebff;}div.sk-serial::before {content: \"\";position: absolute;border-left: 1px solid gray;box-sizing: border-box;top: 2em;bottom: 0;left: 50%;}div.sk-serial {display: flex;flex-direction: column;align-items: center;background-color: white;}div.sk-item {z-index: 1;}div.sk-parallel {display: flex;align-items: stretch;justify-content: center;background-color: white;}div.sk-parallel-item {display: flex;flex-direction: column;position: relative;background-color: white;}div.sk-parallel-item:first-child::after {align-self: flex-end;width: 50%;}div.sk-parallel-item:last-child::after {align-self: flex-start;width: 50%;}div.sk-parallel-item:only-child::after {width: 0;}div.sk-dashed-wrapped {border: 1px dashed gray;margin: 0.2em;box-sizing: border-box;padding-bottom: 0.1em;background-color: white;position: relative;}div.sk-label label {font-family: monospace;font-weight: bold;background-color: white;display: inline-block;line-height: 1.2em;}div.sk-label-container {position: relative;z-index: 2;text-align: center;}div.sk-container {display: inline-block;position: relative;}</style><div class=\"sk-top-container\"><div class=\"sk-container\"><div class=\"sk-item sk-dashed-wrapped\"><div class=\"sk-label-container\"><div class=\"sk-label sk-toggleable\"><input class=\"sk-toggleable__control sk-hidden--visually\" id=\"66074248-72df-4d61-b71d-753e7c5d75d6\" type=\"checkbox\" ><label class=\"sk-toggleable__label\" for=\"66074248-72df-4d61-b71d-753e7c5d75d6\">ColumnTransformer</label><div class=\"sk-toggleable__content\"><pre>ColumnTransformer(remainder='passthrough',\n",
       "                  transformers=[('onehotencoder', OneHotEncoder(sparse='false'),\n",
       "                                 [2, 3, 4]),\n",
       "                                ('ordinalencoder', OrdinalEncoder(), [7]),\n",
       "                                ('standardscaler', StandardScaler(),\n",
       "                                 [0, 1, 5, 6, 8, 9, 10, 11, 12])])</pre></div></div></div><div class=\"sk-parallel\"><div class=\"sk-parallel-item\"><div class=\"sk-item\"><div class=\"sk-label-container\"><div class=\"sk-label sk-toggleable\"><input class=\"sk-toggleable__control sk-hidden--visually\" id=\"dcc68151-7d69-4681-a08d-d3c5edad5f45\" type=\"checkbox\" ><label class=\"sk-toggleable__label\" for=\"dcc68151-7d69-4681-a08d-d3c5edad5f45\">onehotencoder</label><div class=\"sk-toggleable__content\"><pre>[2, 3, 4]</pre></div></div></div><div class=\"sk-serial\"><div class=\"sk-item\"><div class=\"sk-estimator sk-toggleable\"><input class=\"sk-toggleable__control sk-hidden--visually\" id=\"f91c6133-0817-41da-826c-5e26823b35bc\" type=\"checkbox\" ><label class=\"sk-toggleable__label\" for=\"f91c6133-0817-41da-826c-5e26823b35bc\">OneHotEncoder</label><div class=\"sk-toggleable__content\"><pre>OneHotEncoder(sparse='false')</pre></div></div></div></div></div></div><div class=\"sk-parallel-item\"><div class=\"sk-item\"><div class=\"sk-label-container\"><div class=\"sk-label sk-toggleable\"><input class=\"sk-toggleable__control sk-hidden--visually\" id=\"b1fe0826-de49-4e94-8892-9b0bf405c7f6\" type=\"checkbox\" ><label class=\"sk-toggleable__label\" for=\"b1fe0826-de49-4e94-8892-9b0bf405c7f6\">ordinalencoder</label><div class=\"sk-toggleable__content\"><pre>[7]</pre></div></div></div><div class=\"sk-serial\"><div class=\"sk-item\"><div class=\"sk-estimator sk-toggleable\"><input class=\"sk-toggleable__control sk-hidden--visually\" id=\"62e31de8-9726-44ad-860b-d0b2a08873c4\" type=\"checkbox\" ><label class=\"sk-toggleable__label\" for=\"62e31de8-9726-44ad-860b-d0b2a08873c4\">OrdinalEncoder</label><div class=\"sk-toggleable__content\"><pre>OrdinalEncoder()</pre></div></div></div></div></div></div><div class=\"sk-parallel-item\"><div class=\"sk-item\"><div class=\"sk-label-container\"><div class=\"sk-label sk-toggleable\"><input class=\"sk-toggleable__control sk-hidden--visually\" id=\"50c9752c-b50c-4023-8f8e-d62d614993a0\" type=\"checkbox\" ><label class=\"sk-toggleable__label\" for=\"50c9752c-b50c-4023-8f8e-d62d614993a0\">standardscaler</label><div class=\"sk-toggleable__content\"><pre>[0, 1, 5, 6, 8, 9, 10, 11, 12]</pre></div></div></div><div class=\"sk-serial\"><div class=\"sk-item\"><div class=\"sk-estimator sk-toggleable\"><input class=\"sk-toggleable__control sk-hidden--visually\" id=\"98c36fb4-2142-49e9-a45e-7dbed5e5be2a\" type=\"checkbox\" ><label class=\"sk-toggleable__label\" for=\"98c36fb4-2142-49e9-a45e-7dbed5e5be2a\">StandardScaler</label><div class=\"sk-toggleable__content\"><pre>StandardScaler()</pre></div></div></div></div></div></div></div></div></div></div>"
      ],
      "text/plain": [
       "ColumnTransformer(remainder='passthrough',\n",
       "                  transformers=[('onehotencoder', OneHotEncoder(sparse='false'),\n",
       "                                 [2, 3, 4]),\n",
       "                                ('ordinalencoder', OrdinalEncoder(), [7]),\n",
       "                                ('standardscaler', StandardScaler(),\n",
       "                                 [0, 1, 5, 6, 8, 9, 10, 11, 12])])"
      ]
     },
     "execution_count": 18,
     "metadata": {},
     "output_type": "execute_result"
    }
   ],
   "source": [
    "from sklearn.preprocessing import OneHotEncoder,OrdinalEncoder\n",
    "from sklearn.compose import make_column_transformer\n",
    "from sklearn import set_config\n",
    "trans=make_column_transformer((OneHotEncoder(sparse='false'),nom_cols),(OrdinalEncoder(),ord_cols),(StandardScaler(),num_cols),remainder='passthrough')\n",
    "set_config(display='diagram')\n",
    "trans"
   ]
  },
  {
   "cell_type": "markdown",
   "id": "21e3d55e",
   "metadata": {
    "papermill": {
     "duration": 0.041864,
     "end_time": "2023-01-25T05:18:42.163300",
     "exception": false,
     "start_time": "2023-01-25T05:18:42.121436",
     "status": "completed"
    },
    "tags": []
   },
   "source": [
    "# Make Column Transformer: This is a shorthand for the ColumnTransformer constructor; it does not require, and does not permit, naming the transformers."
   ]
  },
  {
   "cell_type": "code",
   "execution_count": 19,
   "id": "1e20ab4a",
   "metadata": {
    "execution": {
     "iopub.execute_input": "2023-01-25T05:18:42.251666Z",
     "iopub.status.busy": "2023-01-25T05:18:42.249955Z",
     "iopub.status.idle": "2023-01-25T05:18:42.372274Z",
     "shell.execute_reply": "2023-01-25T05:18:42.372759Z",
     "shell.execute_reply.started": "2022-02-28T12:19:38.263453Z"
    },
    "papermill": {
     "duration": 0.167857,
     "end_time": "2023-01-25T05:18:42.372943",
     "exception": false,
     "start_time": "2023-01-25T05:18:42.205086",
     "status": "completed"
    },
    "tags": []
   },
   "outputs": [
    {
     "data": {
      "text/html": [
       "<style>div.sk-top-container {color: black;background-color: white;}div.sk-toggleable {background-color: white;}label.sk-toggleable__label {cursor: pointer;display: block;width: 100%;margin-bottom: 0;padding: 0.2em 0.3em;box-sizing: border-box;text-align: center;}div.sk-toggleable__content {max-height: 0;max-width: 0;overflow: hidden;text-align: left;background-color: #f0f8ff;}div.sk-toggleable__content pre {margin: 0.2em;color: black;border-radius: 0.25em;background-color: #f0f8ff;}input.sk-toggleable__control:checked~div.sk-toggleable__content {max-height: 200px;max-width: 100%;overflow: auto;}div.sk-estimator input.sk-toggleable__control:checked~label.sk-toggleable__label {background-color: #d4ebff;}div.sk-label input.sk-toggleable__control:checked~label.sk-toggleable__label {background-color: #d4ebff;}input.sk-hidden--visually {border: 0;clip: rect(1px 1px 1px 1px);clip: rect(1px, 1px, 1px, 1px);height: 1px;margin: -1px;overflow: hidden;padding: 0;position: absolute;width: 1px;}div.sk-estimator {font-family: monospace;background-color: #f0f8ff;margin: 0.25em 0.25em;border: 1px dotted black;border-radius: 0.25em;box-sizing: border-box;}div.sk-estimator:hover {background-color: #d4ebff;}div.sk-parallel-item::after {content: \"\";width: 100%;border-bottom: 1px solid gray;flex-grow: 1;}div.sk-label:hover label.sk-toggleable__label {background-color: #d4ebff;}div.sk-serial::before {content: \"\";position: absolute;border-left: 1px solid gray;box-sizing: border-box;top: 2em;bottom: 0;left: 50%;}div.sk-serial {display: flex;flex-direction: column;align-items: center;background-color: white;}div.sk-item {z-index: 1;}div.sk-parallel {display: flex;align-items: stretch;justify-content: center;background-color: white;}div.sk-parallel-item {display: flex;flex-direction: column;position: relative;background-color: white;}div.sk-parallel-item:first-child::after {align-self: flex-end;width: 50%;}div.sk-parallel-item:last-child::after {align-self: flex-start;width: 50%;}div.sk-parallel-item:only-child::after {width: 0;}div.sk-dashed-wrapped {border: 1px dashed gray;margin: 0.2em;box-sizing: border-box;padding-bottom: 0.1em;background-color: white;position: relative;}div.sk-label label {font-family: monospace;font-weight: bold;background-color: white;display: inline-block;line-height: 1.2em;}div.sk-label-container {position: relative;z-index: 2;text-align: center;}div.sk-container {display: inline-block;position: relative;}</style><div class=\"sk-top-container\"><div class=\"sk-container\"><div class=\"sk-item\"><div class=\"sk-estimator sk-toggleable\"><input class=\"sk-toggleable__control sk-hidden--visually\" id=\"5c31f43e-d043-4220-baf0-ded8f4aebc08\" type=\"checkbox\" checked><label class=\"sk-toggleable__label\" for=\"5c31f43e-d043-4220-baf0-ded8f4aebc08\">KNeighborsRegressor</label><div class=\"sk-toggleable__content\"><pre>KNeighborsRegressor(n_neighbors=300)</pre></div></div></div></div></div>"
      ],
      "text/plain": [
       "KNeighborsRegressor(n_neighbors=300)"
      ]
     },
     "execution_count": 19,
     "metadata": {},
     "output_type": "execute_result"
    }
   ],
   "source": [
    "from sklearn.neighbors import KNeighborsRegressor\n",
    "algo=KNeighborsRegressor(n_neighbors=300)\n",
    "algo"
   ]
  },
  {
   "cell_type": "markdown",
   "id": "1305e4a4",
   "metadata": {
    "papermill": {
     "duration": 0.041674,
     "end_time": "2023-01-25T05:18:42.456855",
     "exception": false,
     "start_time": "2023-01-25T05:18:42.415181",
     "status": "completed"
    },
    "tags": []
   },
   "source": [
    "# K-Nearest Neighbour is one of the simplest Machine Learning algorithms based on Supervised Learning technique. K-NN algorithm assumes the similarity between the new case/data and available cases and put the new case into the category that is most similar to the available categories."
   ]
  },
  {
   "cell_type": "code",
   "execution_count": 20,
   "id": "14728239",
   "metadata": {
    "execution": {
     "iopub.execute_input": "2023-01-25T05:18:42.544079Z",
     "iopub.status.busy": "2023-01-25T05:18:42.543447Z",
     "iopub.status.idle": "2023-01-25T05:18:42.585327Z",
     "shell.execute_reply": "2023-01-25T05:18:42.584803Z",
     "shell.execute_reply.started": "2022-02-28T12:19:38.414952Z"
    },
    "papermill": {
     "duration": 0.086298,
     "end_time": "2023-01-25T05:18:42.585470",
     "exception": false,
     "start_time": "2023-01-25T05:18:42.499172",
     "status": "completed"
    },
    "tags": []
   },
   "outputs": [
    {
     "data": {
      "text/html": [
       "<style>div.sk-top-container {color: black;background-color: white;}div.sk-toggleable {background-color: white;}label.sk-toggleable__label {cursor: pointer;display: block;width: 100%;margin-bottom: 0;padding: 0.2em 0.3em;box-sizing: border-box;text-align: center;}div.sk-toggleable__content {max-height: 0;max-width: 0;overflow: hidden;text-align: left;background-color: #f0f8ff;}div.sk-toggleable__content pre {margin: 0.2em;color: black;border-radius: 0.25em;background-color: #f0f8ff;}input.sk-toggleable__control:checked~div.sk-toggleable__content {max-height: 200px;max-width: 100%;overflow: auto;}div.sk-estimator input.sk-toggleable__control:checked~label.sk-toggleable__label {background-color: #d4ebff;}div.sk-label input.sk-toggleable__control:checked~label.sk-toggleable__label {background-color: #d4ebff;}input.sk-hidden--visually {border: 0;clip: rect(1px 1px 1px 1px);clip: rect(1px, 1px, 1px, 1px);height: 1px;margin: -1px;overflow: hidden;padding: 0;position: absolute;width: 1px;}div.sk-estimator {font-family: monospace;background-color: #f0f8ff;margin: 0.25em 0.25em;border: 1px dotted black;border-radius: 0.25em;box-sizing: border-box;}div.sk-estimator:hover {background-color: #d4ebff;}div.sk-parallel-item::after {content: \"\";width: 100%;border-bottom: 1px solid gray;flex-grow: 1;}div.sk-label:hover label.sk-toggleable__label {background-color: #d4ebff;}div.sk-serial::before {content: \"\";position: absolute;border-left: 1px solid gray;box-sizing: border-box;top: 2em;bottom: 0;left: 50%;}div.sk-serial {display: flex;flex-direction: column;align-items: center;background-color: white;}div.sk-item {z-index: 1;}div.sk-parallel {display: flex;align-items: stretch;justify-content: center;background-color: white;}div.sk-parallel-item {display: flex;flex-direction: column;position: relative;background-color: white;}div.sk-parallel-item:first-child::after {align-self: flex-end;width: 50%;}div.sk-parallel-item:last-child::after {align-self: flex-start;width: 50%;}div.sk-parallel-item:only-child::after {width: 0;}div.sk-dashed-wrapped {border: 1px dashed gray;margin: 0.2em;box-sizing: border-box;padding-bottom: 0.1em;background-color: white;position: relative;}div.sk-label label {font-family: monospace;font-weight: bold;background-color: white;display: inline-block;line-height: 1.2em;}div.sk-label-container {position: relative;z-index: 2;text-align: center;}div.sk-container {display: inline-block;position: relative;}</style><div class=\"sk-top-container\"><div class=\"sk-container\"><div class=\"sk-item sk-dashed-wrapped\"><div class=\"sk-label-container\"><div class=\"sk-label sk-toggleable\"><input class=\"sk-toggleable__control sk-hidden--visually\" id=\"3c24eb76-a394-489e-8de2-eb2b388b973f\" type=\"checkbox\" ><label class=\"sk-toggleable__label\" for=\"3c24eb76-a394-489e-8de2-eb2b388b973f\">Pipeline</label><div class=\"sk-toggleable__content\"><pre>Pipeline(steps=[('columntransformer',\n",
       "                 ColumnTransformer(remainder='passthrough',\n",
       "                                   transformers=[('onehotencoder',\n",
       "                                                  OneHotEncoder(sparse='false'),\n",
       "                                                  [2, 3, 4]),\n",
       "                                                 ('ordinalencoder',\n",
       "                                                  OrdinalEncoder(), [7]),\n",
       "                                                 ('standardscaler',\n",
       "                                                  StandardScaler(),\n",
       "                                                  [0, 1, 5, 6, 8, 9, 10, 11,\n",
       "                                                   12])])),\n",
       "                ('kneighborsregressor', KNeighborsRegressor(n_neighbors=300))])</pre></div></div></div><div class=\"sk-serial\"><div class=\"sk-item sk-dashed-wrapped\"><div class=\"sk-label-container\"><div class=\"sk-label sk-toggleable\"><input class=\"sk-toggleable__control sk-hidden--visually\" id=\"8bbf99e4-16b0-49c4-9036-70eba3ce8000\" type=\"checkbox\" ><label class=\"sk-toggleable__label\" for=\"8bbf99e4-16b0-49c4-9036-70eba3ce8000\">columntransformer: ColumnTransformer</label><div class=\"sk-toggleable__content\"><pre>ColumnTransformer(remainder='passthrough',\n",
       "                  transformers=[('onehotencoder', OneHotEncoder(sparse='false'),\n",
       "                                 [2, 3, 4]),\n",
       "                                ('ordinalencoder', OrdinalEncoder(), [7]),\n",
       "                                ('standardscaler', StandardScaler(),\n",
       "                                 [0, 1, 5, 6, 8, 9, 10, 11, 12])])</pre></div></div></div><div class=\"sk-parallel\"><div class=\"sk-parallel-item\"><div class=\"sk-item\"><div class=\"sk-label-container\"><div class=\"sk-label sk-toggleable\"><input class=\"sk-toggleable__control sk-hidden--visually\" id=\"0f54a74c-4695-4826-89ad-997321a52e40\" type=\"checkbox\" ><label class=\"sk-toggleable__label\" for=\"0f54a74c-4695-4826-89ad-997321a52e40\">onehotencoder</label><div class=\"sk-toggleable__content\"><pre>[2, 3, 4]</pre></div></div></div><div class=\"sk-serial\"><div class=\"sk-item\"><div class=\"sk-estimator sk-toggleable\"><input class=\"sk-toggleable__control sk-hidden--visually\" id=\"166fc631-594d-44f2-b256-ffb4e6858310\" type=\"checkbox\" ><label class=\"sk-toggleable__label\" for=\"166fc631-594d-44f2-b256-ffb4e6858310\">OneHotEncoder</label><div class=\"sk-toggleable__content\"><pre>OneHotEncoder(sparse='false')</pre></div></div></div></div></div></div><div class=\"sk-parallel-item\"><div class=\"sk-item\"><div class=\"sk-label-container\"><div class=\"sk-label sk-toggleable\"><input class=\"sk-toggleable__control sk-hidden--visually\" id=\"bca3d18a-3884-4d97-95bb-35b8e3b2b024\" type=\"checkbox\" ><label class=\"sk-toggleable__label\" for=\"bca3d18a-3884-4d97-95bb-35b8e3b2b024\">ordinalencoder</label><div class=\"sk-toggleable__content\"><pre>[7]</pre></div></div></div><div class=\"sk-serial\"><div class=\"sk-item\"><div class=\"sk-estimator sk-toggleable\"><input class=\"sk-toggleable__control sk-hidden--visually\" id=\"5d71e738-8c0a-4a9b-8a5a-a56f33534156\" type=\"checkbox\" ><label class=\"sk-toggleable__label\" for=\"5d71e738-8c0a-4a9b-8a5a-a56f33534156\">OrdinalEncoder</label><div class=\"sk-toggleable__content\"><pre>OrdinalEncoder()</pre></div></div></div></div></div></div><div class=\"sk-parallel-item\"><div class=\"sk-item\"><div class=\"sk-label-container\"><div class=\"sk-label sk-toggleable\"><input class=\"sk-toggleable__control sk-hidden--visually\" id=\"bcf524b6-dea9-4b5a-af6d-ec1f05f8a0f4\" type=\"checkbox\" ><label class=\"sk-toggleable__label\" for=\"bcf524b6-dea9-4b5a-af6d-ec1f05f8a0f4\">standardscaler</label><div class=\"sk-toggleable__content\"><pre>[0, 1, 5, 6, 8, 9, 10, 11, 12]</pre></div></div></div><div class=\"sk-serial\"><div class=\"sk-item\"><div class=\"sk-estimator sk-toggleable\"><input class=\"sk-toggleable__control sk-hidden--visually\" id=\"bfb5ec05-837b-4736-8692-bd505d8d0b94\" type=\"checkbox\" ><label class=\"sk-toggleable__label\" for=\"bfb5ec05-837b-4736-8692-bd505d8d0b94\">StandardScaler</label><div class=\"sk-toggleable__content\"><pre>StandardScaler()</pre></div></div></div></div></div></div></div></div><div class=\"sk-item\"><div class=\"sk-estimator sk-toggleable\"><input class=\"sk-toggleable__control sk-hidden--visually\" id=\"931a9928-2281-4ebc-84fd-1229dcee3aeb\" type=\"checkbox\" ><label class=\"sk-toggleable__label\" for=\"931a9928-2281-4ebc-84fd-1229dcee3aeb\">KNeighborsRegressor</label><div class=\"sk-toggleable__content\"><pre>KNeighborsRegressor(n_neighbors=300)</pre></div></div></div></div></div></div></div>"
      ],
      "text/plain": [
       "Pipeline(steps=[('columntransformer',\n",
       "                 ColumnTransformer(remainder='passthrough',\n",
       "                                   transformers=[('onehotencoder',\n",
       "                                                  OneHotEncoder(sparse='false'),\n",
       "                                                  [2, 3, 4]),\n",
       "                                                 ('ordinalencoder',\n",
       "                                                  OrdinalEncoder(), [7]),\n",
       "                                                 ('standardscaler',\n",
       "                                                  StandardScaler(),\n",
       "                                                  [0, 1, 5, 6, 8, 9, 10, 11,\n",
       "                                                   12])])),\n",
       "                ('kneighborsregressor', KNeighborsRegressor(n_neighbors=300))])"
      ]
     },
     "execution_count": 20,
     "metadata": {},
     "output_type": "execute_result"
    }
   ],
   "source": [
    "from sklearn.pipeline import make_pipeline\n",
    "pipe=make_pipeline(trans,algo)\n",
    "pipe"
   ]
  },
  {
   "cell_type": "markdown",
   "id": "2558db9e",
   "metadata": {
    "papermill": {
     "duration": 0.042572,
     "end_time": "2023-01-25T05:18:42.671003",
     "exception": false,
     "start_time": "2023-01-25T05:18:42.628431",
     "status": "completed"
    },
    "tags": []
   },
   "source": [
    "# 'make_pipeline' is a utility function that is a shorthand for constructing pipelines. It takes a variable number of estimates and returns a pipeline by filling the names automatically."
   ]
  },
  {
   "cell_type": "code",
   "execution_count": 21,
   "id": "af803825",
   "metadata": {
    "execution": {
     "iopub.execute_input": "2023-01-25T05:18:42.760231Z",
     "iopub.status.busy": "2023-01-25T05:18:42.759580Z",
     "iopub.status.idle": "2023-01-25T05:18:42.822521Z",
     "shell.execute_reply": "2023-01-25T05:18:42.822991Z",
     "shell.execute_reply.started": "2022-02-28T12:19:38.471184Z"
    },
    "papermill": {
     "duration": 0.109253,
     "end_time": "2023-01-25T05:18:42.823174",
     "exception": false,
     "start_time": "2023-01-25T05:18:42.713921",
     "status": "completed"
    },
    "tags": []
   },
   "outputs": [
    {
     "data": {
      "text/html": [
       "<style>div.sk-top-container {color: black;background-color: white;}div.sk-toggleable {background-color: white;}label.sk-toggleable__label {cursor: pointer;display: block;width: 100%;margin-bottom: 0;padding: 0.2em 0.3em;box-sizing: border-box;text-align: center;}div.sk-toggleable__content {max-height: 0;max-width: 0;overflow: hidden;text-align: left;background-color: #f0f8ff;}div.sk-toggleable__content pre {margin: 0.2em;color: black;border-radius: 0.25em;background-color: #f0f8ff;}input.sk-toggleable__control:checked~div.sk-toggleable__content {max-height: 200px;max-width: 100%;overflow: auto;}div.sk-estimator input.sk-toggleable__control:checked~label.sk-toggleable__label {background-color: #d4ebff;}div.sk-label input.sk-toggleable__control:checked~label.sk-toggleable__label {background-color: #d4ebff;}input.sk-hidden--visually {border: 0;clip: rect(1px 1px 1px 1px);clip: rect(1px, 1px, 1px, 1px);height: 1px;margin: -1px;overflow: hidden;padding: 0;position: absolute;width: 1px;}div.sk-estimator {font-family: monospace;background-color: #f0f8ff;margin: 0.25em 0.25em;border: 1px dotted black;border-radius: 0.25em;box-sizing: border-box;}div.sk-estimator:hover {background-color: #d4ebff;}div.sk-parallel-item::after {content: \"\";width: 100%;border-bottom: 1px solid gray;flex-grow: 1;}div.sk-label:hover label.sk-toggleable__label {background-color: #d4ebff;}div.sk-serial::before {content: \"\";position: absolute;border-left: 1px solid gray;box-sizing: border-box;top: 2em;bottom: 0;left: 50%;}div.sk-serial {display: flex;flex-direction: column;align-items: center;background-color: white;}div.sk-item {z-index: 1;}div.sk-parallel {display: flex;align-items: stretch;justify-content: center;background-color: white;}div.sk-parallel-item {display: flex;flex-direction: column;position: relative;background-color: white;}div.sk-parallel-item:first-child::after {align-self: flex-end;width: 50%;}div.sk-parallel-item:last-child::after {align-self: flex-start;width: 50%;}div.sk-parallel-item:only-child::after {width: 0;}div.sk-dashed-wrapped {border: 1px dashed gray;margin: 0.2em;box-sizing: border-box;padding-bottom: 0.1em;background-color: white;position: relative;}div.sk-label label {font-family: monospace;font-weight: bold;background-color: white;display: inline-block;line-height: 1.2em;}div.sk-label-container {position: relative;z-index: 2;text-align: center;}div.sk-container {display: inline-block;position: relative;}</style><div class=\"sk-top-container\"><div class=\"sk-container\"><div class=\"sk-item sk-dashed-wrapped\"><div class=\"sk-label-container\"><div class=\"sk-label sk-toggleable\"><input class=\"sk-toggleable__control sk-hidden--visually\" id=\"0485885a-f16e-467f-a99b-f08db0286188\" type=\"checkbox\" ><label class=\"sk-toggleable__label\" for=\"0485885a-f16e-467f-a99b-f08db0286188\">Pipeline</label><div class=\"sk-toggleable__content\"><pre>Pipeline(steps=[('columntransformer',\n",
       "                 ColumnTransformer(remainder='passthrough',\n",
       "                                   transformers=[('onehotencoder',\n",
       "                                                  OneHotEncoder(sparse='false'),\n",
       "                                                  [2, 3, 4]),\n",
       "                                                 ('ordinalencoder',\n",
       "                                                  OrdinalEncoder(), [7]),\n",
       "                                                 ('standardscaler',\n",
       "                                                  StandardScaler(),\n",
       "                                                  [0, 1, 5, 6, 8, 9, 10, 11,\n",
       "                                                   12])])),\n",
       "                ('kneighborsregressor', KNeighborsRegressor(n_neighbors=300))])</pre></div></div></div><div class=\"sk-serial\"><div class=\"sk-item sk-dashed-wrapped\"><div class=\"sk-label-container\"><div class=\"sk-label sk-toggleable\"><input class=\"sk-toggleable__control sk-hidden--visually\" id=\"042dc1d6-601f-4b79-ba39-96f6d657ded6\" type=\"checkbox\" ><label class=\"sk-toggleable__label\" for=\"042dc1d6-601f-4b79-ba39-96f6d657ded6\">columntransformer: ColumnTransformer</label><div class=\"sk-toggleable__content\"><pre>ColumnTransformer(remainder='passthrough',\n",
       "                  transformers=[('onehotencoder', OneHotEncoder(sparse='false'),\n",
       "                                 [2, 3, 4]),\n",
       "                                ('ordinalencoder', OrdinalEncoder(), [7]),\n",
       "                                ('standardscaler', StandardScaler(),\n",
       "                                 [0, 1, 5, 6, 8, 9, 10, 11, 12])])</pre></div></div></div><div class=\"sk-parallel\"><div class=\"sk-parallel-item\"><div class=\"sk-item\"><div class=\"sk-label-container\"><div class=\"sk-label sk-toggleable\"><input class=\"sk-toggleable__control sk-hidden--visually\" id=\"87a534a0-dbf3-47f7-a7cd-fab80f717fc5\" type=\"checkbox\" ><label class=\"sk-toggleable__label\" for=\"87a534a0-dbf3-47f7-a7cd-fab80f717fc5\">onehotencoder</label><div class=\"sk-toggleable__content\"><pre>[2, 3, 4]</pre></div></div></div><div class=\"sk-serial\"><div class=\"sk-item\"><div class=\"sk-estimator sk-toggleable\"><input class=\"sk-toggleable__control sk-hidden--visually\" id=\"90596d60-5489-4b33-9002-6df2e3e7ec0a\" type=\"checkbox\" ><label class=\"sk-toggleable__label\" for=\"90596d60-5489-4b33-9002-6df2e3e7ec0a\">OneHotEncoder</label><div class=\"sk-toggleable__content\"><pre>OneHotEncoder(sparse='false')</pre></div></div></div></div></div></div><div class=\"sk-parallel-item\"><div class=\"sk-item\"><div class=\"sk-label-container\"><div class=\"sk-label sk-toggleable\"><input class=\"sk-toggleable__control sk-hidden--visually\" id=\"ab834497-21f8-460d-bf21-dc4c7e7f731e\" type=\"checkbox\" ><label class=\"sk-toggleable__label\" for=\"ab834497-21f8-460d-bf21-dc4c7e7f731e\">ordinalencoder</label><div class=\"sk-toggleable__content\"><pre>[7]</pre></div></div></div><div class=\"sk-serial\"><div class=\"sk-item\"><div class=\"sk-estimator sk-toggleable\"><input class=\"sk-toggleable__control sk-hidden--visually\" id=\"090af8c9-902e-4910-9cd6-9300dd4b9a19\" type=\"checkbox\" ><label class=\"sk-toggleable__label\" for=\"090af8c9-902e-4910-9cd6-9300dd4b9a19\">OrdinalEncoder</label><div class=\"sk-toggleable__content\"><pre>OrdinalEncoder()</pre></div></div></div></div></div></div><div class=\"sk-parallel-item\"><div class=\"sk-item\"><div class=\"sk-label-container\"><div class=\"sk-label sk-toggleable\"><input class=\"sk-toggleable__control sk-hidden--visually\" id=\"5b6864cb-0580-4b92-9901-87b4e934c4ce\" type=\"checkbox\" ><label class=\"sk-toggleable__label\" for=\"5b6864cb-0580-4b92-9901-87b4e934c4ce\">standardscaler</label><div class=\"sk-toggleable__content\"><pre>[0, 1, 5, 6, 8, 9, 10, 11, 12]</pre></div></div></div><div class=\"sk-serial\"><div class=\"sk-item\"><div class=\"sk-estimator sk-toggleable\"><input class=\"sk-toggleable__control sk-hidden--visually\" id=\"babfaf39-cefb-43e5-aa4a-b4e0b561d6e0\" type=\"checkbox\" ><label class=\"sk-toggleable__label\" for=\"babfaf39-cefb-43e5-aa4a-b4e0b561d6e0\">StandardScaler</label><div class=\"sk-toggleable__content\"><pre>StandardScaler()</pre></div></div></div></div></div></div></div></div><div class=\"sk-item\"><div class=\"sk-estimator sk-toggleable\"><input class=\"sk-toggleable__control sk-hidden--visually\" id=\"79bf4f33-2465-48ec-942a-edd76327e48f\" type=\"checkbox\" ><label class=\"sk-toggleable__label\" for=\"79bf4f33-2465-48ec-942a-edd76327e48f\">KNeighborsRegressor</label><div class=\"sk-toggleable__content\"><pre>KNeighborsRegressor(n_neighbors=300)</pre></div></div></div></div></div></div></div>"
      ],
      "text/plain": [
       "Pipeline(steps=[('columntransformer',\n",
       "                 ColumnTransformer(remainder='passthrough',\n",
       "                                   transformers=[('onehotencoder',\n",
       "                                                  OneHotEncoder(sparse='false'),\n",
       "                                                  [2, 3, 4]),\n",
       "                                                 ('ordinalencoder',\n",
       "                                                  OrdinalEncoder(), [7]),\n",
       "                                                 ('standardscaler',\n",
       "                                                  StandardScaler(),\n",
       "                                                  [0, 1, 5, 6, 8, 9, 10, 11,\n",
       "                                                   12])])),\n",
       "                ('kneighborsregressor', KNeighborsRegressor(n_neighbors=300))])"
      ]
     },
     "execution_count": 21,
     "metadata": {},
     "output_type": "execute_result"
    }
   ],
   "source": [
    "pipe.fit(x_train,y_train)"
   ]
  },
  {
   "cell_type": "markdown",
   "id": "879f3401",
   "metadata": {
    "papermill": {
     "duration": 0.042992,
     "end_time": "2023-01-25T05:18:42.909160",
     "exception": false,
     "start_time": "2023-01-25T05:18:42.866168",
     "status": "completed"
    },
    "tags": []
   },
   "source": [
    "# We fit the pipe into the x_train and y_train data."
   ]
  },
  {
   "cell_type": "code",
   "execution_count": 22,
   "id": "ced6d0b0",
   "metadata": {
    "execution": {
     "iopub.execute_input": "2023-01-25T05:18:42.998066Z",
     "iopub.status.busy": "2023-01-25T05:18:42.997392Z",
     "iopub.status.idle": "2023-01-25T05:18:43.926631Z",
     "shell.execute_reply": "2023-01-25T05:18:43.926106Z",
     "shell.execute_reply.started": "2022-02-28T12:19:38.551795Z"
    },
    "papermill": {
     "duration": 0.974371,
     "end_time": "2023-01-25T05:18:43.926775",
     "exception": false,
     "start_time": "2023-01-25T05:18:42.952404",
     "status": "completed"
    },
    "tags": []
   },
   "outputs": [
    {
     "data": {
      "text/plain": [
       "array([-0.75465893,  0.05846681, -0.40166347, ...,  0.37649709,\n",
       "       -0.98757079, -0.31005433])"
      ]
     },
     "execution_count": 22,
     "metadata": {},
     "output_type": "execute_result"
    }
   ],
   "source": [
    "pred=pipe.predict(x_test)\n",
    "pred"
   ]
  },
  {
   "cell_type": "markdown",
   "id": "636f8e5f",
   "metadata": {
    "papermill": {
     "duration": 0.04347,
     "end_time": "2023-01-25T05:18:44.014139",
     "exception": false,
     "start_time": "2023-01-25T05:18:43.970669",
     "status": "completed"
    },
    "tags": []
   },
   "source": [
    "# Since we have done the training part, we now move on to predict the testing part which is the x_test.Here the predicted value is based on the data we have taken for training and testing and the algorithms that are used in it."
   ]
  },
  {
   "cell_type": "code",
   "execution_count": 23,
   "id": "130e353c",
   "metadata": {
    "execution": {
     "iopub.execute_input": "2023-01-25T05:18:44.108921Z",
     "iopub.status.busy": "2023-01-25T05:18:44.108212Z",
     "iopub.status.idle": "2023-01-25T05:18:44.110667Z",
     "shell.execute_reply": "2023-01-25T05:18:44.111249Z",
     "shell.execute_reply.started": "2022-02-28T12:19:39.254534Z"
    },
    "papermill": {
     "duration": 0.053472,
     "end_time": "2023-01-25T05:18:44.111408",
     "exception": false,
     "start_time": "2023-01-25T05:18:44.057936",
     "status": "completed"
    },
    "tags": []
   },
   "outputs": [
    {
     "data": {
      "text/plain": [
       "15661   -2.272418\n",
       "5944     0.102819\n",
       "23369   -1.461916\n",
       "21193    0.027454\n",
       "3703     0.632539\n",
       "           ...   \n",
       "32431    0.323061\n",
       "7196     0.081734\n",
       "27883    1.541204\n",
       "25312   -1.276959\n",
       "42683   -0.356721\n",
       "Name: price, Length: 1899, dtype: float64"
      ]
     },
     "execution_count": 23,
     "metadata": {},
     "output_type": "execute_result"
    }
   ],
   "source": [
    "y_test                                                          # y_test is the actual value of the data."
   ]
  },
  {
   "cell_type": "markdown",
   "id": "078bc8e7",
   "metadata": {
    "papermill": {
     "duration": 0.043634,
     "end_time": "2023-01-25T05:18:44.198548",
     "exception": false,
     "start_time": "2023-01-25T05:18:44.154914",
     "status": "completed"
    },
    "tags": []
   },
   "source": [
    "# Now we find out the accuracy with respect to the predicted value and the actual value (y_test) of the particular drug type."
   ]
  },
  {
   "cell_type": "code",
   "execution_count": 24,
   "id": "f07877cb",
   "metadata": {
    "execution": {
     "iopub.execute_input": "2023-01-25T05:18:44.292207Z",
     "iopub.status.busy": "2023-01-25T05:18:44.288523Z",
     "iopub.status.idle": "2023-01-25T05:18:44.296021Z",
     "shell.execute_reply": "2023-01-25T05:18:44.295493Z",
     "shell.execute_reply.started": "2022-02-28T12:19:39.264582Z"
    },
    "papermill": {
     "duration": 0.053842,
     "end_time": "2023-01-25T05:18:44.296173",
     "exception": false,
     "start_time": "2023-01-25T05:18:44.242331",
     "status": "completed"
    },
    "tags": []
   },
   "outputs": [
    {
     "data": {
      "text/plain": [
       "0.5634237533166065"
      ]
     },
     "execution_count": 24,
     "metadata": {},
     "output_type": "execute_result"
    }
   ],
   "source": [
    "from sklearn.metrics import mean_squared_error\n",
    "mean_squared_error(pred,y_test)"
   ]
  },
  {
   "cell_type": "markdown",
   "id": "0e8abf76",
   "metadata": {
    "papermill": {
     "duration": 0.044021,
     "end_time": "2023-01-25T05:18:44.385492",
     "exception": false,
     "start_time": "2023-01-25T05:18:44.341471",
     "status": "completed"
    },
    "tags": []
   },
   "source": [
    "# Linear Regression: It is a machine learning algorithm based on supervised learning. It performs a regression task. Regression models a target prediction value based on independent variables. It is mostly used for finding out the relationship between variables and forecasting.\n",
    "# Decision Tree: It is a decision-making tool that uses a flowchart-like tree structure or is a model of decisions and all of their possible results, including outcomes, input costs, and utility.\n",
    "# Voting Regressor: It is an ensemble meta-estimator that fits several base regressors, each on the whole dataset. Then it averages the individual predictions to form a final prediction."
   ]
  },
  {
   "cell_type": "code",
   "execution_count": 25,
   "id": "24b31fc3",
   "metadata": {
    "execution": {
     "iopub.execute_input": "2023-01-25T05:18:44.479082Z",
     "iopub.status.busy": "2023-01-25T05:18:44.478384Z",
     "iopub.status.idle": "2023-01-25T05:18:44.526099Z",
     "shell.execute_reply": "2023-01-25T05:18:44.526688Z",
     "shell.execute_reply.started": "2022-02-28T12:19:39.276322Z"
    },
    "papermill": {
     "duration": 0.09695,
     "end_time": "2023-01-25T05:18:44.526881",
     "exception": false,
     "start_time": "2023-01-25T05:18:44.429931",
     "status": "completed"
    },
    "tags": []
   },
   "outputs": [],
   "source": [
    "from sklearn.linear_model import LinearRegression\n",
    "from sklearn.tree import DecisionTreeRegressor\n",
    "from sklearn.ensemble import VotingRegressor"
   ]
  },
  {
   "cell_type": "code",
   "execution_count": 26,
   "id": "5ff393f4",
   "metadata": {
    "execution": {
     "iopub.execute_input": "2023-01-25T05:18:44.620020Z",
     "iopub.status.busy": "2023-01-25T05:18:44.619322Z",
     "iopub.status.idle": "2023-01-25T05:18:44.621748Z",
     "shell.execute_reply": "2023-01-25T05:18:44.622311Z",
     "shell.execute_reply.started": "2022-02-28T12:19:39.337212Z"
    },
    "papermill": {
     "duration": 0.051403,
     "end_time": "2023-01-25T05:18:44.622477",
     "exception": false,
     "start_time": "2023-01-25T05:18:44.571074",
     "status": "completed"
    },
    "tags": []
   },
   "outputs": [],
   "source": [
    "algo1=LinearRegression()\n",
    "algo2=DecisionTreeRegressor()"
   ]
  },
  {
   "cell_type": "code",
   "execution_count": 27,
   "id": "2383618b",
   "metadata": {
    "execution": {
     "iopub.execute_input": "2023-01-25T05:18:44.716419Z",
     "iopub.status.busy": "2023-01-25T05:18:44.715655Z",
     "iopub.status.idle": "2023-01-25T05:18:44.719125Z",
     "shell.execute_reply": "2023-01-25T05:18:44.718554Z",
     "shell.execute_reply.started": "2022-02-28T12:19:39.344853Z"
    },
    "papermill": {
     "duration": 0.052686,
     "end_time": "2023-01-25T05:18:44.719270",
     "exception": false,
     "start_time": "2023-01-25T05:18:44.666584",
     "status": "completed"
    },
    "tags": []
   },
   "outputs": [],
   "source": [
    "vote=VotingRegressor(estimators=[('x1',algo),('x2',algo1),('x3',algo2)],verbose=True)"
   ]
  },
  {
   "cell_type": "code",
   "execution_count": 28,
   "id": "7cc7abe7",
   "metadata": {
    "execution": {
     "iopub.execute_input": "2023-01-25T05:18:44.817467Z",
     "iopub.status.busy": "2023-01-25T05:18:44.816759Z",
     "iopub.status.idle": "2023-01-25T05:18:44.893214Z",
     "shell.execute_reply": "2023-01-25T05:18:44.892566Z",
     "shell.execute_reply.started": "2022-02-28T12:19:39.362409Z"
    },
    "papermill": {
     "duration": 0.130099,
     "end_time": "2023-01-25T05:18:44.893356",
     "exception": false,
     "start_time": "2023-01-25T05:18:44.763257",
     "status": "completed"
    },
    "tags": []
   },
   "outputs": [
    {
     "data": {
      "text/html": [
       "<style>div.sk-top-container {color: black;background-color: white;}div.sk-toggleable {background-color: white;}label.sk-toggleable__label {cursor: pointer;display: block;width: 100%;margin-bottom: 0;padding: 0.2em 0.3em;box-sizing: border-box;text-align: center;}div.sk-toggleable__content {max-height: 0;max-width: 0;overflow: hidden;text-align: left;background-color: #f0f8ff;}div.sk-toggleable__content pre {margin: 0.2em;color: black;border-radius: 0.25em;background-color: #f0f8ff;}input.sk-toggleable__control:checked~div.sk-toggleable__content {max-height: 200px;max-width: 100%;overflow: auto;}div.sk-estimator input.sk-toggleable__control:checked~label.sk-toggleable__label {background-color: #d4ebff;}div.sk-label input.sk-toggleable__control:checked~label.sk-toggleable__label {background-color: #d4ebff;}input.sk-hidden--visually {border: 0;clip: rect(1px 1px 1px 1px);clip: rect(1px, 1px, 1px, 1px);height: 1px;margin: -1px;overflow: hidden;padding: 0;position: absolute;width: 1px;}div.sk-estimator {font-family: monospace;background-color: #f0f8ff;margin: 0.25em 0.25em;border: 1px dotted black;border-radius: 0.25em;box-sizing: border-box;}div.sk-estimator:hover {background-color: #d4ebff;}div.sk-parallel-item::after {content: \"\";width: 100%;border-bottom: 1px solid gray;flex-grow: 1;}div.sk-label:hover label.sk-toggleable__label {background-color: #d4ebff;}div.sk-serial::before {content: \"\";position: absolute;border-left: 1px solid gray;box-sizing: border-box;top: 2em;bottom: 0;left: 50%;}div.sk-serial {display: flex;flex-direction: column;align-items: center;background-color: white;}div.sk-item {z-index: 1;}div.sk-parallel {display: flex;align-items: stretch;justify-content: center;background-color: white;}div.sk-parallel-item {display: flex;flex-direction: column;position: relative;background-color: white;}div.sk-parallel-item:first-child::after {align-self: flex-end;width: 50%;}div.sk-parallel-item:last-child::after {align-self: flex-start;width: 50%;}div.sk-parallel-item:only-child::after {width: 0;}div.sk-dashed-wrapped {border: 1px dashed gray;margin: 0.2em;box-sizing: border-box;padding-bottom: 0.1em;background-color: white;position: relative;}div.sk-label label {font-family: monospace;font-weight: bold;background-color: white;display: inline-block;line-height: 1.2em;}div.sk-label-container {position: relative;z-index: 2;text-align: center;}div.sk-container {display: inline-block;position: relative;}</style><div class=\"sk-top-container\"><div class=\"sk-container\"><div class=\"sk-item sk-dashed-wrapped\"><div class=\"sk-label-container\"><div class=\"sk-label sk-toggleable\"><input class=\"sk-toggleable__control sk-hidden--visually\" id=\"0b25cd09-3c5a-4f9a-984d-33d2e00e31cb\" type=\"checkbox\" ><label class=\"sk-toggleable__label\" for=\"0b25cd09-3c5a-4f9a-984d-33d2e00e31cb\">Pipeline</label><div class=\"sk-toggleable__content\"><pre>Pipeline(steps=[('columntransformer',\n",
       "                 ColumnTransformer(remainder='passthrough',\n",
       "                                   transformers=[('onehotencoder',\n",
       "                                                  OneHotEncoder(sparse='false'),\n",
       "                                                  [2, 3, 4]),\n",
       "                                                 ('ordinalencoder',\n",
       "                                                  OrdinalEncoder(), [7]),\n",
       "                                                 ('standardscaler',\n",
       "                                                  StandardScaler(),\n",
       "                                                  [0, 1, 5, 6, 8, 9, 10, 11,\n",
       "                                                   12])])),\n",
       "                ('votingregressor',\n",
       "                 VotingRegressor(estimators=[('x1',\n",
       "                                              KNeighborsRegressor(n_neighbors=300)),\n",
       "                                             ('x2', LinearRegression()),\n",
       "                                             ('x3', DecisionTreeRegressor())],\n",
       "                                 verbose=True))])</pre></div></div></div><div class=\"sk-serial\"><div class=\"sk-item sk-dashed-wrapped\"><div class=\"sk-label-container\"><div class=\"sk-label sk-toggleable\"><input class=\"sk-toggleable__control sk-hidden--visually\" id=\"f4a731a7-9850-4fac-89d7-59f14844ffcc\" type=\"checkbox\" ><label class=\"sk-toggleable__label\" for=\"f4a731a7-9850-4fac-89d7-59f14844ffcc\">columntransformer: ColumnTransformer</label><div class=\"sk-toggleable__content\"><pre>ColumnTransformer(remainder='passthrough',\n",
       "                  transformers=[('onehotencoder', OneHotEncoder(sparse='false'),\n",
       "                                 [2, 3, 4]),\n",
       "                                ('ordinalencoder', OrdinalEncoder(), [7]),\n",
       "                                ('standardscaler', StandardScaler(),\n",
       "                                 [0, 1, 5, 6, 8, 9, 10, 11, 12])])</pre></div></div></div><div class=\"sk-parallel\"><div class=\"sk-parallel-item\"><div class=\"sk-item\"><div class=\"sk-label-container\"><div class=\"sk-label sk-toggleable\"><input class=\"sk-toggleable__control sk-hidden--visually\" id=\"26b8d54b-445a-4fd6-ba97-ff4c4a858438\" type=\"checkbox\" ><label class=\"sk-toggleable__label\" for=\"26b8d54b-445a-4fd6-ba97-ff4c4a858438\">onehotencoder</label><div class=\"sk-toggleable__content\"><pre>[2, 3, 4]</pre></div></div></div><div class=\"sk-serial\"><div class=\"sk-item\"><div class=\"sk-estimator sk-toggleable\"><input class=\"sk-toggleable__control sk-hidden--visually\" id=\"df2b9dea-6330-4df2-b2a2-7140ca796b8a\" type=\"checkbox\" ><label class=\"sk-toggleable__label\" for=\"df2b9dea-6330-4df2-b2a2-7140ca796b8a\">OneHotEncoder</label><div class=\"sk-toggleable__content\"><pre>OneHotEncoder(sparse='false')</pre></div></div></div></div></div></div><div class=\"sk-parallel-item\"><div class=\"sk-item\"><div class=\"sk-label-container\"><div class=\"sk-label sk-toggleable\"><input class=\"sk-toggleable__control sk-hidden--visually\" id=\"a55b3ec2-4cb5-4446-9565-c3e9d85a5dd3\" type=\"checkbox\" ><label class=\"sk-toggleable__label\" for=\"a55b3ec2-4cb5-4446-9565-c3e9d85a5dd3\">ordinalencoder</label><div class=\"sk-toggleable__content\"><pre>[7]</pre></div></div></div><div class=\"sk-serial\"><div class=\"sk-item\"><div class=\"sk-estimator sk-toggleable\"><input class=\"sk-toggleable__control sk-hidden--visually\" id=\"766ae6ec-d3af-48e2-a45a-19274f6552bc\" type=\"checkbox\" ><label class=\"sk-toggleable__label\" for=\"766ae6ec-d3af-48e2-a45a-19274f6552bc\">OrdinalEncoder</label><div class=\"sk-toggleable__content\"><pre>OrdinalEncoder()</pre></div></div></div></div></div></div><div class=\"sk-parallel-item\"><div class=\"sk-item\"><div class=\"sk-label-container\"><div class=\"sk-label sk-toggleable\"><input class=\"sk-toggleable__control sk-hidden--visually\" id=\"93f59d8d-b9bf-4638-a7c0-22a0366c477a\" type=\"checkbox\" ><label class=\"sk-toggleable__label\" for=\"93f59d8d-b9bf-4638-a7c0-22a0366c477a\">standardscaler</label><div class=\"sk-toggleable__content\"><pre>[0, 1, 5, 6, 8, 9, 10, 11, 12]</pre></div></div></div><div class=\"sk-serial\"><div class=\"sk-item\"><div class=\"sk-estimator sk-toggleable\"><input class=\"sk-toggleable__control sk-hidden--visually\" id=\"b91ae77f-ce50-4f7f-8fcc-0eab0fe05111\" type=\"checkbox\" ><label class=\"sk-toggleable__label\" for=\"b91ae77f-ce50-4f7f-8fcc-0eab0fe05111\">StandardScaler</label><div class=\"sk-toggleable__content\"><pre>StandardScaler()</pre></div></div></div></div></div></div></div></div><div class=\"sk-item sk-dashed-wrapped\"><div class=\"sk-label-container\"><div class=\"sk-label sk-toggleable\"><input class=\"sk-toggleable__control sk-hidden--visually\" id=\"869a98f8-ac55-4af2-93c7-e0bd8a6dc036\" type=\"checkbox\" ><label class=\"sk-toggleable__label\" for=\"869a98f8-ac55-4af2-93c7-e0bd8a6dc036\">votingregressor: VotingRegressor</label><div class=\"sk-toggleable__content\"><pre>VotingRegressor(estimators=[('x1', KNeighborsRegressor(n_neighbors=300)),\n",
       "                            ('x2', LinearRegression()),\n",
       "                            ('x3', DecisionTreeRegressor())],\n",
       "                verbose=True)</pre></div></div></div><div class=\"sk-parallel\"><div class=\"sk-parallel-item\"><div class=\"sk-item\"><div class=\"sk-label-container\"><div class=\"sk-label sk-toggleable\"><label>x1</label></div></div><div class=\"sk-serial\"><div class=\"sk-item\"><div class=\"sk-estimator sk-toggleable\"><input class=\"sk-toggleable__control sk-hidden--visually\" id=\"99f0dc8a-3828-41f5-be65-40ea22f3707c\" type=\"checkbox\" ><label class=\"sk-toggleable__label\" for=\"99f0dc8a-3828-41f5-be65-40ea22f3707c\">KNeighborsRegressor</label><div class=\"sk-toggleable__content\"><pre>KNeighborsRegressor(n_neighbors=300)</pre></div></div></div></div></div></div><div class=\"sk-parallel-item\"><div class=\"sk-item\"><div class=\"sk-label-container\"><div class=\"sk-label sk-toggleable\"><label>x2</label></div></div><div class=\"sk-serial\"><div class=\"sk-item\"><div class=\"sk-estimator sk-toggleable\"><input class=\"sk-toggleable__control sk-hidden--visually\" id=\"e52f07ce-f2da-4661-a7e0-ad9b512795cf\" type=\"checkbox\" ><label class=\"sk-toggleable__label\" for=\"e52f07ce-f2da-4661-a7e0-ad9b512795cf\">LinearRegression</label><div class=\"sk-toggleable__content\"><pre>LinearRegression()</pre></div></div></div></div></div></div><div class=\"sk-parallel-item\"><div class=\"sk-item\"><div class=\"sk-label-container\"><div class=\"sk-label sk-toggleable\"><label>x3</label></div></div><div class=\"sk-serial\"><div class=\"sk-item\"><div class=\"sk-estimator sk-toggleable\"><input class=\"sk-toggleable__control sk-hidden--visually\" id=\"e7954871-80e4-4fd4-9e4b-c0ed9ad1c6f9\" type=\"checkbox\" ><label class=\"sk-toggleable__label\" for=\"e7954871-80e4-4fd4-9e4b-c0ed9ad1c6f9\">DecisionTreeRegressor</label><div class=\"sk-toggleable__content\"><pre>DecisionTreeRegressor()</pre></div></div></div></div></div></div></div></div></div></div></div></div>"
      ],
      "text/plain": [
       "Pipeline(steps=[('columntransformer',\n",
       "                 ColumnTransformer(remainder='passthrough',\n",
       "                                   transformers=[('onehotencoder',\n",
       "                                                  OneHotEncoder(sparse='false'),\n",
       "                                                  [2, 3, 4]),\n",
       "                                                 ('ordinalencoder',\n",
       "                                                  OrdinalEncoder(), [7]),\n",
       "                                                 ('standardscaler',\n",
       "                                                  StandardScaler(),\n",
       "                                                  [0, 1, 5, 6, 8, 9, 10, 11,\n",
       "                                                   12])])),\n",
       "                ('votingregressor',\n",
       "                 VotingRegressor(estimators=[('x1',\n",
       "                                              KNeighborsRegressor(n_neighbors=300)),\n",
       "                                             ('x2', LinearRegression()),\n",
       "                                             ('x3', DecisionTreeRegressor())],\n",
       "                                 verbose=True))])"
      ]
     },
     "execution_count": 28,
     "metadata": {},
     "output_type": "execute_result"
    }
   ],
   "source": [
    "pipe_v=make_pipeline(trans,vote)\n",
    "pipe_v"
   ]
  },
  {
   "cell_type": "code",
   "execution_count": 29,
   "id": "1799f49e",
   "metadata": {
    "execution": {
     "iopub.execute_input": "2023-01-25T05:18:44.995624Z",
     "iopub.status.busy": "2023-01-25T05:18:44.989865Z",
     "iopub.status.idle": "2023-01-25T05:18:45.383364Z",
     "shell.execute_reply": "2023-01-25T05:18:45.382730Z",
     "shell.execute_reply.started": "2022-02-28T12:19:39.478740Z"
    },
    "papermill": {
     "duration": 0.444909,
     "end_time": "2023-01-25T05:18:45.383503",
     "exception": false,
     "start_time": "2023-01-25T05:18:44.938594",
     "status": "completed"
    },
    "tags": []
   },
   "outputs": [
    {
     "name": "stdout",
     "output_type": "stream",
     "text": [
      "[Voting] ....................... (1 of 3) Processing x1, total=   0.0s\n",
      "[Voting] ....................... (2 of 3) Processing x2, total=   0.0s\n",
      "[Voting] ....................... (3 of 3) Processing x3, total=   0.3s\n"
     ]
    },
    {
     "data": {
      "text/html": [
       "<style>div.sk-top-container {color: black;background-color: white;}div.sk-toggleable {background-color: white;}label.sk-toggleable__label {cursor: pointer;display: block;width: 100%;margin-bottom: 0;padding: 0.2em 0.3em;box-sizing: border-box;text-align: center;}div.sk-toggleable__content {max-height: 0;max-width: 0;overflow: hidden;text-align: left;background-color: #f0f8ff;}div.sk-toggleable__content pre {margin: 0.2em;color: black;border-radius: 0.25em;background-color: #f0f8ff;}input.sk-toggleable__control:checked~div.sk-toggleable__content {max-height: 200px;max-width: 100%;overflow: auto;}div.sk-estimator input.sk-toggleable__control:checked~label.sk-toggleable__label {background-color: #d4ebff;}div.sk-label input.sk-toggleable__control:checked~label.sk-toggleable__label {background-color: #d4ebff;}input.sk-hidden--visually {border: 0;clip: rect(1px 1px 1px 1px);clip: rect(1px, 1px, 1px, 1px);height: 1px;margin: -1px;overflow: hidden;padding: 0;position: absolute;width: 1px;}div.sk-estimator {font-family: monospace;background-color: #f0f8ff;margin: 0.25em 0.25em;border: 1px dotted black;border-radius: 0.25em;box-sizing: border-box;}div.sk-estimator:hover {background-color: #d4ebff;}div.sk-parallel-item::after {content: \"\";width: 100%;border-bottom: 1px solid gray;flex-grow: 1;}div.sk-label:hover label.sk-toggleable__label {background-color: #d4ebff;}div.sk-serial::before {content: \"\";position: absolute;border-left: 1px solid gray;box-sizing: border-box;top: 2em;bottom: 0;left: 50%;}div.sk-serial {display: flex;flex-direction: column;align-items: center;background-color: white;}div.sk-item {z-index: 1;}div.sk-parallel {display: flex;align-items: stretch;justify-content: center;background-color: white;}div.sk-parallel-item {display: flex;flex-direction: column;position: relative;background-color: white;}div.sk-parallel-item:first-child::after {align-self: flex-end;width: 50%;}div.sk-parallel-item:last-child::after {align-self: flex-start;width: 50%;}div.sk-parallel-item:only-child::after {width: 0;}div.sk-dashed-wrapped {border: 1px dashed gray;margin: 0.2em;box-sizing: border-box;padding-bottom: 0.1em;background-color: white;position: relative;}div.sk-label label {font-family: monospace;font-weight: bold;background-color: white;display: inline-block;line-height: 1.2em;}div.sk-label-container {position: relative;z-index: 2;text-align: center;}div.sk-container {display: inline-block;position: relative;}</style><div class=\"sk-top-container\"><div class=\"sk-container\"><div class=\"sk-item sk-dashed-wrapped\"><div class=\"sk-label-container\"><div class=\"sk-label sk-toggleable\"><input class=\"sk-toggleable__control sk-hidden--visually\" id=\"ec8b7832-1929-491b-a49e-6fd9fc260e56\" type=\"checkbox\" ><label class=\"sk-toggleable__label\" for=\"ec8b7832-1929-491b-a49e-6fd9fc260e56\">Pipeline</label><div class=\"sk-toggleable__content\"><pre>Pipeline(steps=[('columntransformer',\n",
       "                 ColumnTransformer(remainder='passthrough',\n",
       "                                   transformers=[('onehotencoder',\n",
       "                                                  OneHotEncoder(sparse='false'),\n",
       "                                                  [2, 3, 4]),\n",
       "                                                 ('ordinalencoder',\n",
       "                                                  OrdinalEncoder(), [7]),\n",
       "                                                 ('standardscaler',\n",
       "                                                  StandardScaler(),\n",
       "                                                  [0, 1, 5, 6, 8, 9, 10, 11,\n",
       "                                                   12])])),\n",
       "                ('votingregressor',\n",
       "                 VotingRegressor(estimators=[('x1',\n",
       "                                              KNeighborsRegressor(n_neighbors=300)),\n",
       "                                             ('x2', LinearRegression()),\n",
       "                                             ('x3', DecisionTreeRegressor())],\n",
       "                                 verbose=True))])</pre></div></div></div><div class=\"sk-serial\"><div class=\"sk-item sk-dashed-wrapped\"><div class=\"sk-label-container\"><div class=\"sk-label sk-toggleable\"><input class=\"sk-toggleable__control sk-hidden--visually\" id=\"b3d7ed94-1fb1-4a0d-ab63-154e3012c149\" type=\"checkbox\" ><label class=\"sk-toggleable__label\" for=\"b3d7ed94-1fb1-4a0d-ab63-154e3012c149\">columntransformer: ColumnTransformer</label><div class=\"sk-toggleable__content\"><pre>ColumnTransformer(remainder='passthrough',\n",
       "                  transformers=[('onehotencoder', OneHotEncoder(sparse='false'),\n",
       "                                 [2, 3, 4]),\n",
       "                                ('ordinalencoder', OrdinalEncoder(), [7]),\n",
       "                                ('standardscaler', StandardScaler(),\n",
       "                                 [0, 1, 5, 6, 8, 9, 10, 11, 12])])</pre></div></div></div><div class=\"sk-parallel\"><div class=\"sk-parallel-item\"><div class=\"sk-item\"><div class=\"sk-label-container\"><div class=\"sk-label sk-toggleable\"><input class=\"sk-toggleable__control sk-hidden--visually\" id=\"8d7a3712-e4d7-4e8e-af1a-aa82f2673999\" type=\"checkbox\" ><label class=\"sk-toggleable__label\" for=\"8d7a3712-e4d7-4e8e-af1a-aa82f2673999\">onehotencoder</label><div class=\"sk-toggleable__content\"><pre>[2, 3, 4]</pre></div></div></div><div class=\"sk-serial\"><div class=\"sk-item\"><div class=\"sk-estimator sk-toggleable\"><input class=\"sk-toggleable__control sk-hidden--visually\" id=\"0a73c460-c782-4cfc-8364-c85bf8941dd6\" type=\"checkbox\" ><label class=\"sk-toggleable__label\" for=\"0a73c460-c782-4cfc-8364-c85bf8941dd6\">OneHotEncoder</label><div class=\"sk-toggleable__content\"><pre>OneHotEncoder(sparse='false')</pre></div></div></div></div></div></div><div class=\"sk-parallel-item\"><div class=\"sk-item\"><div class=\"sk-label-container\"><div class=\"sk-label sk-toggleable\"><input class=\"sk-toggleable__control sk-hidden--visually\" id=\"2d27200b-d651-4dca-bd14-f269e5d05021\" type=\"checkbox\" ><label class=\"sk-toggleable__label\" for=\"2d27200b-d651-4dca-bd14-f269e5d05021\">ordinalencoder</label><div class=\"sk-toggleable__content\"><pre>[7]</pre></div></div></div><div class=\"sk-serial\"><div class=\"sk-item\"><div class=\"sk-estimator sk-toggleable\"><input class=\"sk-toggleable__control sk-hidden--visually\" id=\"ee004e5e-ce86-4a16-bd82-9d5f483d2201\" type=\"checkbox\" ><label class=\"sk-toggleable__label\" for=\"ee004e5e-ce86-4a16-bd82-9d5f483d2201\">OrdinalEncoder</label><div class=\"sk-toggleable__content\"><pre>OrdinalEncoder()</pre></div></div></div></div></div></div><div class=\"sk-parallel-item\"><div class=\"sk-item\"><div class=\"sk-label-container\"><div class=\"sk-label sk-toggleable\"><input class=\"sk-toggleable__control sk-hidden--visually\" id=\"b4d86fe6-3891-40f9-b92e-3cd800e34d2c\" type=\"checkbox\" ><label class=\"sk-toggleable__label\" for=\"b4d86fe6-3891-40f9-b92e-3cd800e34d2c\">standardscaler</label><div class=\"sk-toggleable__content\"><pre>[0, 1, 5, 6, 8, 9, 10, 11, 12]</pre></div></div></div><div class=\"sk-serial\"><div class=\"sk-item\"><div class=\"sk-estimator sk-toggleable\"><input class=\"sk-toggleable__control sk-hidden--visually\" id=\"fe1b0aa2-7cb0-4594-bced-56ecb2f9c1ca\" type=\"checkbox\" ><label class=\"sk-toggleable__label\" for=\"fe1b0aa2-7cb0-4594-bced-56ecb2f9c1ca\">StandardScaler</label><div class=\"sk-toggleable__content\"><pre>StandardScaler()</pre></div></div></div></div></div></div></div></div><div class=\"sk-item sk-dashed-wrapped\"><div class=\"sk-label-container\"><div class=\"sk-label sk-toggleable\"><input class=\"sk-toggleable__control sk-hidden--visually\" id=\"f7c8be18-f280-487e-afdb-e5e44f09d8c4\" type=\"checkbox\" ><label class=\"sk-toggleable__label\" for=\"f7c8be18-f280-487e-afdb-e5e44f09d8c4\">votingregressor: VotingRegressor</label><div class=\"sk-toggleable__content\"><pre>VotingRegressor(estimators=[('x1', KNeighborsRegressor(n_neighbors=300)),\n",
       "                            ('x2', LinearRegression()),\n",
       "                            ('x3', DecisionTreeRegressor())],\n",
       "                verbose=True)</pre></div></div></div><div class=\"sk-parallel\"><div class=\"sk-parallel-item\"><div class=\"sk-item\"><div class=\"sk-label-container\"><div class=\"sk-label sk-toggleable\"><label>x1</label></div></div><div class=\"sk-serial\"><div class=\"sk-item\"><div class=\"sk-estimator sk-toggleable\"><input class=\"sk-toggleable__control sk-hidden--visually\" id=\"ba2f3c48-58f3-49c0-8528-e99249b7f776\" type=\"checkbox\" ><label class=\"sk-toggleable__label\" for=\"ba2f3c48-58f3-49c0-8528-e99249b7f776\">KNeighborsRegressor</label><div class=\"sk-toggleable__content\"><pre>KNeighborsRegressor(n_neighbors=300)</pre></div></div></div></div></div></div><div class=\"sk-parallel-item\"><div class=\"sk-item\"><div class=\"sk-label-container\"><div class=\"sk-label sk-toggleable\"><label>x2</label></div></div><div class=\"sk-serial\"><div class=\"sk-item\"><div class=\"sk-estimator sk-toggleable\"><input class=\"sk-toggleable__control sk-hidden--visually\" id=\"1ed67e6d-e30a-45f3-813d-17dc6681ee51\" type=\"checkbox\" ><label class=\"sk-toggleable__label\" for=\"1ed67e6d-e30a-45f3-813d-17dc6681ee51\">LinearRegression</label><div class=\"sk-toggleable__content\"><pre>LinearRegression()</pre></div></div></div></div></div></div><div class=\"sk-parallel-item\"><div class=\"sk-item\"><div class=\"sk-label-container\"><div class=\"sk-label sk-toggleable\"><label>x3</label></div></div><div class=\"sk-serial\"><div class=\"sk-item\"><div class=\"sk-estimator sk-toggleable\"><input class=\"sk-toggleable__control sk-hidden--visually\" id=\"aeae9cf8-a933-47aa-acea-5b9688eb077b\" type=\"checkbox\" ><label class=\"sk-toggleable__label\" for=\"aeae9cf8-a933-47aa-acea-5b9688eb077b\">DecisionTreeRegressor</label><div class=\"sk-toggleable__content\"><pre>DecisionTreeRegressor()</pre></div></div></div></div></div></div></div></div></div></div></div></div>"
      ],
      "text/plain": [
       "Pipeline(steps=[('columntransformer',\n",
       "                 ColumnTransformer(remainder='passthrough',\n",
       "                                   transformers=[('onehotencoder',\n",
       "                                                  OneHotEncoder(sparse='false'),\n",
       "                                                  [2, 3, 4]),\n",
       "                                                 ('ordinalencoder',\n",
       "                                                  OrdinalEncoder(), [7]),\n",
       "                                                 ('standardscaler',\n",
       "                                                  StandardScaler(),\n",
       "                                                  [0, 1, 5, 6, 8, 9, 10, 11,\n",
       "                                                   12])])),\n",
       "                ('votingregressor',\n",
       "                 VotingRegressor(estimators=[('x1',\n",
       "                                              KNeighborsRegressor(n_neighbors=300)),\n",
       "                                             ('x2', LinearRegression()),\n",
       "                                             ('x3', DecisionTreeRegressor())],\n",
       "                                 verbose=True))])"
      ]
     },
     "execution_count": 29,
     "metadata": {},
     "output_type": "execute_result"
    }
   ],
   "source": [
    "pipe_v.fit(x_train,y_train)"
   ]
  },
  {
   "cell_type": "code",
   "execution_count": 30,
   "id": "624cf4aa",
   "metadata": {
    "execution": {
     "iopub.execute_input": "2023-01-25T05:18:45.488503Z",
     "iopub.status.busy": "2023-01-25T05:18:45.487121Z",
     "iopub.status.idle": "2023-01-25T05:18:46.420452Z",
     "shell.execute_reply": "2023-01-25T05:18:46.419947Z",
     "shell.execute_reply.started": "2022-02-28T12:19:39.848009Z"
    },
    "papermill": {
     "duration": 0.990811,
     "end_time": "2023-01-25T05:18:46.420597",
     "exception": false,
     "start_time": "2023-01-25T05:18:45.429786",
     "status": "completed"
    },
    "tags": []
   },
   "outputs": [
    {
     "data": {
      "text/plain": [
       "array([-1.33470342,  0.83593677, -1.32009702, ...,  0.57293169,\n",
       "       -1.4532089 , -0.16421037])"
      ]
     },
     "execution_count": 30,
     "metadata": {},
     "output_type": "execute_result"
    }
   ],
   "source": [
    "pred_v=pipe_v.predict(x_test)\n",
    "pred_v"
   ]
  },
  {
   "cell_type": "code",
   "execution_count": 31,
   "id": "0d50ea2b",
   "metadata": {
    "execution": {
     "iopub.execute_input": "2023-01-25T05:18:46.519765Z",
     "iopub.status.busy": "2023-01-25T05:18:46.518955Z",
     "iopub.status.idle": "2023-01-25T05:18:46.522203Z",
     "shell.execute_reply": "2023-01-25T05:18:46.522693Z",
     "shell.execute_reply.started": "2022-02-28T12:19:40.528542Z"
    },
    "papermill": {
     "duration": 0.056165,
     "end_time": "2023-01-25T05:18:46.522902",
     "exception": false,
     "start_time": "2023-01-25T05:18:46.466737",
     "status": "completed"
    },
    "tags": []
   },
   "outputs": [
    {
     "data": {
      "text/plain": [
       "39.836960602156765"
      ]
     },
     "execution_count": 31,
     "metadata": {},
     "output_type": "execute_result"
    }
   ],
   "source": [
    "mean_squared_error(pred_v,y_test)*100"
   ]
  },
  {
   "cell_type": "markdown",
   "id": "98fd0abe",
   "metadata": {
    "papermill": {
     "duration": 0.046094,
     "end_time": "2023-01-25T05:18:46.615131",
     "exception": false,
     "start_time": "2023-01-25T05:18:46.569037",
     "status": "completed"
    },
    "tags": []
   },
   "source": [
    "# Random Forest Regressor: It is an ensemble technique capable of performing both regression and classification tasks with the use of multiple decision trees and a technique called Bootstrap and Aggregation, commonly known as bagging. The basic idea behind this is to combine multiple decision trees in determining the final output rather than relying on individual decision trees. "
   ]
  },
  {
   "cell_type": "code",
   "execution_count": 32,
   "id": "a0844d70",
   "metadata": {
    "execution": {
     "iopub.execute_input": "2023-01-25T05:18:46.713547Z",
     "iopub.status.busy": "2023-01-25T05:18:46.712525Z",
     "iopub.status.idle": "2023-01-25T05:18:46.715007Z",
     "shell.execute_reply": "2023-01-25T05:18:46.715674Z",
     "shell.execute_reply.started": "2022-02-28T12:19:40.538881Z"
    },
    "papermill": {
     "duration": 0.054271,
     "end_time": "2023-01-25T05:18:46.715874",
     "exception": false,
     "start_time": "2023-01-25T05:18:46.661603",
     "status": "completed"
    },
    "tags": []
   },
   "outputs": [],
   "source": [
    "from sklearn.ensemble import RandomForestRegressor\n",
    "forest=RandomForestRegressor(n_estimators=300)"
   ]
  },
  {
   "cell_type": "code",
   "execution_count": 33,
   "id": "fb8ea123",
   "metadata": {
    "execution": {
     "iopub.execute_input": "2023-01-25T05:18:46.880405Z",
     "iopub.status.busy": "2023-01-25T05:18:46.858327Z",
     "iopub.status.idle": "2023-01-25T05:18:46.883924Z",
     "shell.execute_reply": "2023-01-25T05:18:46.884418Z",
     "shell.execute_reply.started": "2022-02-28T12:19:40.550409Z"
    },
    "papermill": {
     "duration": 0.111459,
     "end_time": "2023-01-25T05:18:46.884590",
     "exception": false,
     "start_time": "2023-01-25T05:18:46.773131",
     "status": "completed"
    },
    "tags": []
   },
   "outputs": [
    {
     "data": {
      "text/html": [
       "<style>div.sk-top-container {color: black;background-color: white;}div.sk-toggleable {background-color: white;}label.sk-toggleable__label {cursor: pointer;display: block;width: 100%;margin-bottom: 0;padding: 0.2em 0.3em;box-sizing: border-box;text-align: center;}div.sk-toggleable__content {max-height: 0;max-width: 0;overflow: hidden;text-align: left;background-color: #f0f8ff;}div.sk-toggleable__content pre {margin: 0.2em;color: black;border-radius: 0.25em;background-color: #f0f8ff;}input.sk-toggleable__control:checked~div.sk-toggleable__content {max-height: 200px;max-width: 100%;overflow: auto;}div.sk-estimator input.sk-toggleable__control:checked~label.sk-toggleable__label {background-color: #d4ebff;}div.sk-label input.sk-toggleable__control:checked~label.sk-toggleable__label {background-color: #d4ebff;}input.sk-hidden--visually {border: 0;clip: rect(1px 1px 1px 1px);clip: rect(1px, 1px, 1px, 1px);height: 1px;margin: -1px;overflow: hidden;padding: 0;position: absolute;width: 1px;}div.sk-estimator {font-family: monospace;background-color: #f0f8ff;margin: 0.25em 0.25em;border: 1px dotted black;border-radius: 0.25em;box-sizing: border-box;}div.sk-estimator:hover {background-color: #d4ebff;}div.sk-parallel-item::after {content: \"\";width: 100%;border-bottom: 1px solid gray;flex-grow: 1;}div.sk-label:hover label.sk-toggleable__label {background-color: #d4ebff;}div.sk-serial::before {content: \"\";position: absolute;border-left: 1px solid gray;box-sizing: border-box;top: 2em;bottom: 0;left: 50%;}div.sk-serial {display: flex;flex-direction: column;align-items: center;background-color: white;}div.sk-item {z-index: 1;}div.sk-parallel {display: flex;align-items: stretch;justify-content: center;background-color: white;}div.sk-parallel-item {display: flex;flex-direction: column;position: relative;background-color: white;}div.sk-parallel-item:first-child::after {align-self: flex-end;width: 50%;}div.sk-parallel-item:last-child::after {align-self: flex-start;width: 50%;}div.sk-parallel-item:only-child::after {width: 0;}div.sk-dashed-wrapped {border: 1px dashed gray;margin: 0.2em;box-sizing: border-box;padding-bottom: 0.1em;background-color: white;position: relative;}div.sk-label label {font-family: monospace;font-weight: bold;background-color: white;display: inline-block;line-height: 1.2em;}div.sk-label-container {position: relative;z-index: 2;text-align: center;}div.sk-container {display: inline-block;position: relative;}</style><div class=\"sk-top-container\"><div class=\"sk-container\"><div class=\"sk-item sk-dashed-wrapped\"><div class=\"sk-label-container\"><div class=\"sk-label sk-toggleable\"><input class=\"sk-toggleable__control sk-hidden--visually\" id=\"3bb25e01-1336-4e5e-90c2-fec135447759\" type=\"checkbox\" ><label class=\"sk-toggleable__label\" for=\"3bb25e01-1336-4e5e-90c2-fec135447759\">Pipeline</label><div class=\"sk-toggleable__content\"><pre>Pipeline(steps=[('columntransformer',\n",
       "                 ColumnTransformer(remainder='passthrough',\n",
       "                                   transformers=[('onehotencoder',\n",
       "                                                  OneHotEncoder(sparse='false'),\n",
       "                                                  [2, 3, 4]),\n",
       "                                                 ('ordinalencoder',\n",
       "                                                  OrdinalEncoder(), [7]),\n",
       "                                                 ('standardscaler',\n",
       "                                                  StandardScaler(),\n",
       "                                                  [0, 1, 5, 6, 8, 9, 10, 11,\n",
       "                                                   12])])),\n",
       "                ('randomforestregressor',\n",
       "                 RandomForestRegressor(n_estimators=300))])</pre></div></div></div><div class=\"sk-serial\"><div class=\"sk-item sk-dashed-wrapped\"><div class=\"sk-label-container\"><div class=\"sk-label sk-toggleable\"><input class=\"sk-toggleable__control sk-hidden--visually\" id=\"4091e7c9-633e-48c5-b0fb-4a0ce46ab085\" type=\"checkbox\" ><label class=\"sk-toggleable__label\" for=\"4091e7c9-633e-48c5-b0fb-4a0ce46ab085\">columntransformer: ColumnTransformer</label><div class=\"sk-toggleable__content\"><pre>ColumnTransformer(remainder='passthrough',\n",
       "                  transformers=[('onehotencoder', OneHotEncoder(sparse='false'),\n",
       "                                 [2, 3, 4]),\n",
       "                                ('ordinalencoder', OrdinalEncoder(), [7]),\n",
       "                                ('standardscaler', StandardScaler(),\n",
       "                                 [0, 1, 5, 6, 8, 9, 10, 11, 12])])</pre></div></div></div><div class=\"sk-parallel\"><div class=\"sk-parallel-item\"><div class=\"sk-item\"><div class=\"sk-label-container\"><div class=\"sk-label sk-toggleable\"><input class=\"sk-toggleable__control sk-hidden--visually\" id=\"678c9f80-42d3-4a35-9a6d-b51b0ef66b3c\" type=\"checkbox\" ><label class=\"sk-toggleable__label\" for=\"678c9f80-42d3-4a35-9a6d-b51b0ef66b3c\">onehotencoder</label><div class=\"sk-toggleable__content\"><pre>[2, 3, 4]</pre></div></div></div><div class=\"sk-serial\"><div class=\"sk-item\"><div class=\"sk-estimator sk-toggleable\"><input class=\"sk-toggleable__control sk-hidden--visually\" id=\"1710e927-bd00-44cb-ba0a-a73c78aa6842\" type=\"checkbox\" ><label class=\"sk-toggleable__label\" for=\"1710e927-bd00-44cb-ba0a-a73c78aa6842\">OneHotEncoder</label><div class=\"sk-toggleable__content\"><pre>OneHotEncoder(sparse='false')</pre></div></div></div></div></div></div><div class=\"sk-parallel-item\"><div class=\"sk-item\"><div class=\"sk-label-container\"><div class=\"sk-label sk-toggleable\"><input class=\"sk-toggleable__control sk-hidden--visually\" id=\"917fc424-862b-4ac5-93ab-29dc593f5127\" type=\"checkbox\" ><label class=\"sk-toggleable__label\" for=\"917fc424-862b-4ac5-93ab-29dc593f5127\">ordinalencoder</label><div class=\"sk-toggleable__content\"><pre>[7]</pre></div></div></div><div class=\"sk-serial\"><div class=\"sk-item\"><div class=\"sk-estimator sk-toggleable\"><input class=\"sk-toggleable__control sk-hidden--visually\" id=\"10ddbe25-8658-44e0-8612-2edcc361c1d5\" type=\"checkbox\" ><label class=\"sk-toggleable__label\" for=\"10ddbe25-8658-44e0-8612-2edcc361c1d5\">OrdinalEncoder</label><div class=\"sk-toggleable__content\"><pre>OrdinalEncoder()</pre></div></div></div></div></div></div><div class=\"sk-parallel-item\"><div class=\"sk-item\"><div class=\"sk-label-container\"><div class=\"sk-label sk-toggleable\"><input class=\"sk-toggleable__control sk-hidden--visually\" id=\"3752d7ee-0267-4cc7-a3de-b01c5fcea4d9\" type=\"checkbox\" ><label class=\"sk-toggleable__label\" for=\"3752d7ee-0267-4cc7-a3de-b01c5fcea4d9\">standardscaler</label><div class=\"sk-toggleable__content\"><pre>[0, 1, 5, 6, 8, 9, 10, 11, 12]</pre></div></div></div><div class=\"sk-serial\"><div class=\"sk-item\"><div class=\"sk-estimator sk-toggleable\"><input class=\"sk-toggleable__control sk-hidden--visually\" id=\"547b21da-2436-4312-b95b-da884ffb3a88\" type=\"checkbox\" ><label class=\"sk-toggleable__label\" for=\"547b21da-2436-4312-b95b-da884ffb3a88\">StandardScaler</label><div class=\"sk-toggleable__content\"><pre>StandardScaler()</pre></div></div></div></div></div></div></div></div><div class=\"sk-item\"><div class=\"sk-estimator sk-toggleable\"><input class=\"sk-toggleable__control sk-hidden--visually\" id=\"9cca1d3e-5c4e-4c8a-8a56-fb8f59d91b2c\" type=\"checkbox\" ><label class=\"sk-toggleable__label\" for=\"9cca1d3e-5c4e-4c8a-8a56-fb8f59d91b2c\">RandomForestRegressor</label><div class=\"sk-toggleable__content\"><pre>RandomForestRegressor(n_estimators=300)</pre></div></div></div></div></div></div></div>"
      ],
      "text/plain": [
       "Pipeline(steps=[('columntransformer',\n",
       "                 ColumnTransformer(remainder='passthrough',\n",
       "                                   transformers=[('onehotencoder',\n",
       "                                                  OneHotEncoder(sparse='false'),\n",
       "                                                  [2, 3, 4]),\n",
       "                                                 ('ordinalencoder',\n",
       "                                                  OrdinalEncoder(), [7]),\n",
       "                                                 ('standardscaler',\n",
       "                                                  StandardScaler(),\n",
       "                                                  [0, 1, 5, 6, 8, 9, 10, 11,\n",
       "                                                   12])])),\n",
       "                ('randomforestregressor',\n",
       "                 RandomForestRegressor(n_estimators=300))])"
      ]
     },
     "execution_count": 33,
     "metadata": {},
     "output_type": "execute_result"
    }
   ],
   "source": [
    "pipe_f=make_pipeline(trans,forest)\n",
    "pipe_f"
   ]
  },
  {
   "cell_type": "code",
   "execution_count": 34,
   "id": "7d6e1f3b",
   "metadata": {
    "execution": {
     "iopub.execute_input": "2023-01-25T05:18:46.982681Z",
     "iopub.status.busy": "2023-01-25T05:18:46.982057Z",
     "iopub.status.idle": "2023-01-25T05:19:37.137141Z",
     "shell.execute_reply": "2023-01-25T05:19:37.137667Z",
     "shell.execute_reply.started": "2022-02-28T12:19:40.613303Z"
    },
    "papermill": {
     "duration": 50.205735,
     "end_time": "2023-01-25T05:19:37.137872",
     "exception": false,
     "start_time": "2023-01-25T05:18:46.932137",
     "status": "completed"
    },
    "tags": []
   },
   "outputs": [
    {
     "data": {
      "text/html": [
       "<style>div.sk-top-container {color: black;background-color: white;}div.sk-toggleable {background-color: white;}label.sk-toggleable__label {cursor: pointer;display: block;width: 100%;margin-bottom: 0;padding: 0.2em 0.3em;box-sizing: border-box;text-align: center;}div.sk-toggleable__content {max-height: 0;max-width: 0;overflow: hidden;text-align: left;background-color: #f0f8ff;}div.sk-toggleable__content pre {margin: 0.2em;color: black;border-radius: 0.25em;background-color: #f0f8ff;}input.sk-toggleable__control:checked~div.sk-toggleable__content {max-height: 200px;max-width: 100%;overflow: auto;}div.sk-estimator input.sk-toggleable__control:checked~label.sk-toggleable__label {background-color: #d4ebff;}div.sk-label input.sk-toggleable__control:checked~label.sk-toggleable__label {background-color: #d4ebff;}input.sk-hidden--visually {border: 0;clip: rect(1px 1px 1px 1px);clip: rect(1px, 1px, 1px, 1px);height: 1px;margin: -1px;overflow: hidden;padding: 0;position: absolute;width: 1px;}div.sk-estimator {font-family: monospace;background-color: #f0f8ff;margin: 0.25em 0.25em;border: 1px dotted black;border-radius: 0.25em;box-sizing: border-box;}div.sk-estimator:hover {background-color: #d4ebff;}div.sk-parallel-item::after {content: \"\";width: 100%;border-bottom: 1px solid gray;flex-grow: 1;}div.sk-label:hover label.sk-toggleable__label {background-color: #d4ebff;}div.sk-serial::before {content: \"\";position: absolute;border-left: 1px solid gray;box-sizing: border-box;top: 2em;bottom: 0;left: 50%;}div.sk-serial {display: flex;flex-direction: column;align-items: center;background-color: white;}div.sk-item {z-index: 1;}div.sk-parallel {display: flex;align-items: stretch;justify-content: center;background-color: white;}div.sk-parallel-item {display: flex;flex-direction: column;position: relative;background-color: white;}div.sk-parallel-item:first-child::after {align-self: flex-end;width: 50%;}div.sk-parallel-item:last-child::after {align-self: flex-start;width: 50%;}div.sk-parallel-item:only-child::after {width: 0;}div.sk-dashed-wrapped {border: 1px dashed gray;margin: 0.2em;box-sizing: border-box;padding-bottom: 0.1em;background-color: white;position: relative;}div.sk-label label {font-family: monospace;font-weight: bold;background-color: white;display: inline-block;line-height: 1.2em;}div.sk-label-container {position: relative;z-index: 2;text-align: center;}div.sk-container {display: inline-block;position: relative;}</style><div class=\"sk-top-container\"><div class=\"sk-container\"><div class=\"sk-item sk-dashed-wrapped\"><div class=\"sk-label-container\"><div class=\"sk-label sk-toggleable\"><input class=\"sk-toggleable__control sk-hidden--visually\" id=\"099ed5e0-3d4e-4f40-bd11-2b1c84199ad5\" type=\"checkbox\" ><label class=\"sk-toggleable__label\" for=\"099ed5e0-3d4e-4f40-bd11-2b1c84199ad5\">Pipeline</label><div class=\"sk-toggleable__content\"><pre>Pipeline(steps=[('columntransformer',\n",
       "                 ColumnTransformer(remainder='passthrough',\n",
       "                                   transformers=[('onehotencoder',\n",
       "                                                  OneHotEncoder(sparse='false'),\n",
       "                                                  [2, 3, 4]),\n",
       "                                                 ('ordinalencoder',\n",
       "                                                  OrdinalEncoder(), [7]),\n",
       "                                                 ('standardscaler',\n",
       "                                                  StandardScaler(),\n",
       "                                                  [0, 1, 5, 6, 8, 9, 10, 11,\n",
       "                                                   12])])),\n",
       "                ('randomforestregressor',\n",
       "                 RandomForestRegressor(n_estimators=300))])</pre></div></div></div><div class=\"sk-serial\"><div class=\"sk-item sk-dashed-wrapped\"><div class=\"sk-label-container\"><div class=\"sk-label sk-toggleable\"><input class=\"sk-toggleable__control sk-hidden--visually\" id=\"a9ff4084-16b4-4486-bcc8-c5bf2a5760e6\" type=\"checkbox\" ><label class=\"sk-toggleable__label\" for=\"a9ff4084-16b4-4486-bcc8-c5bf2a5760e6\">columntransformer: ColumnTransformer</label><div class=\"sk-toggleable__content\"><pre>ColumnTransformer(remainder='passthrough',\n",
       "                  transformers=[('onehotencoder', OneHotEncoder(sparse='false'),\n",
       "                                 [2, 3, 4]),\n",
       "                                ('ordinalencoder', OrdinalEncoder(), [7]),\n",
       "                                ('standardscaler', StandardScaler(),\n",
       "                                 [0, 1, 5, 6, 8, 9, 10, 11, 12])])</pre></div></div></div><div class=\"sk-parallel\"><div class=\"sk-parallel-item\"><div class=\"sk-item\"><div class=\"sk-label-container\"><div class=\"sk-label sk-toggleable\"><input class=\"sk-toggleable__control sk-hidden--visually\" id=\"fa480be1-96d1-4a1c-829f-de3841f5bfc4\" type=\"checkbox\" ><label class=\"sk-toggleable__label\" for=\"fa480be1-96d1-4a1c-829f-de3841f5bfc4\">onehotencoder</label><div class=\"sk-toggleable__content\"><pre>[2, 3, 4]</pre></div></div></div><div class=\"sk-serial\"><div class=\"sk-item\"><div class=\"sk-estimator sk-toggleable\"><input class=\"sk-toggleable__control sk-hidden--visually\" id=\"cb07b453-6297-450c-a1f9-ce81e79fea20\" type=\"checkbox\" ><label class=\"sk-toggleable__label\" for=\"cb07b453-6297-450c-a1f9-ce81e79fea20\">OneHotEncoder</label><div class=\"sk-toggleable__content\"><pre>OneHotEncoder(sparse='false')</pre></div></div></div></div></div></div><div class=\"sk-parallel-item\"><div class=\"sk-item\"><div class=\"sk-label-container\"><div class=\"sk-label sk-toggleable\"><input class=\"sk-toggleable__control sk-hidden--visually\" id=\"265f1a43-b602-42c9-86e4-a07131e0fd49\" type=\"checkbox\" ><label class=\"sk-toggleable__label\" for=\"265f1a43-b602-42c9-86e4-a07131e0fd49\">ordinalencoder</label><div class=\"sk-toggleable__content\"><pre>[7]</pre></div></div></div><div class=\"sk-serial\"><div class=\"sk-item\"><div class=\"sk-estimator sk-toggleable\"><input class=\"sk-toggleable__control sk-hidden--visually\" id=\"510f86bd-02ee-46ef-8055-3c06177af460\" type=\"checkbox\" ><label class=\"sk-toggleable__label\" for=\"510f86bd-02ee-46ef-8055-3c06177af460\">OrdinalEncoder</label><div class=\"sk-toggleable__content\"><pre>OrdinalEncoder()</pre></div></div></div></div></div></div><div class=\"sk-parallel-item\"><div class=\"sk-item\"><div class=\"sk-label-container\"><div class=\"sk-label sk-toggleable\"><input class=\"sk-toggleable__control sk-hidden--visually\" id=\"25f67730-c11b-482e-a171-e4ed7c3e884f\" type=\"checkbox\" ><label class=\"sk-toggleable__label\" for=\"25f67730-c11b-482e-a171-e4ed7c3e884f\">standardscaler</label><div class=\"sk-toggleable__content\"><pre>[0, 1, 5, 6, 8, 9, 10, 11, 12]</pre></div></div></div><div class=\"sk-serial\"><div class=\"sk-item\"><div class=\"sk-estimator sk-toggleable\"><input class=\"sk-toggleable__control sk-hidden--visually\" id=\"ff04366c-55c5-4e8f-be3d-67d16bca51b7\" type=\"checkbox\" ><label class=\"sk-toggleable__label\" for=\"ff04366c-55c5-4e8f-be3d-67d16bca51b7\">StandardScaler</label><div class=\"sk-toggleable__content\"><pre>StandardScaler()</pre></div></div></div></div></div></div></div></div><div class=\"sk-item\"><div class=\"sk-estimator sk-toggleable\"><input class=\"sk-toggleable__control sk-hidden--visually\" id=\"db92ff95-045d-4e7d-b6f1-6c5fbe8f34e5\" type=\"checkbox\" ><label class=\"sk-toggleable__label\" for=\"db92ff95-045d-4e7d-b6f1-6c5fbe8f34e5\">RandomForestRegressor</label><div class=\"sk-toggleable__content\"><pre>RandomForestRegressor(n_estimators=300)</pre></div></div></div></div></div></div></div>"
      ],
      "text/plain": [
       "Pipeline(steps=[('columntransformer',\n",
       "                 ColumnTransformer(remainder='passthrough',\n",
       "                                   transformers=[('onehotencoder',\n",
       "                                                  OneHotEncoder(sparse='false'),\n",
       "                                                  [2, 3, 4]),\n",
       "                                                 ('ordinalencoder',\n",
       "                                                  OrdinalEncoder(), [7]),\n",
       "                                                 ('standardscaler',\n",
       "                                                  StandardScaler(),\n",
       "                                                  [0, 1, 5, 6, 8, 9, 10, 11,\n",
       "                                                   12])])),\n",
       "                ('randomforestregressor',\n",
       "                 RandomForestRegressor(n_estimators=300))])"
      ]
     },
     "execution_count": 34,
     "metadata": {},
     "output_type": "execute_result"
    }
   ],
   "source": [
    "pipe_f.fit(x_train,y_train)"
   ]
  },
  {
   "cell_type": "code",
   "execution_count": 35,
   "id": "9eeadae3",
   "metadata": {
    "execution": {
     "iopub.execute_input": "2023-01-25T05:19:37.239491Z",
     "iopub.status.busy": "2023-01-25T05:19:37.238038Z",
     "iopub.status.idle": "2023-01-25T05:19:37.419294Z",
     "shell.execute_reply": "2023-01-25T05:19:37.419941Z",
     "shell.execute_reply.started": "2022-02-28T12:20:23.151739Z"
    },
    "papermill": {
     "duration": 0.23421,
     "end_time": "2023-01-25T05:19:37.420131",
     "exception": false,
     "start_time": "2023-01-25T05:19:37.185921",
     "status": "completed"
    },
    "tags": []
   },
   "outputs": [
    {
     "data": {
      "text/plain": [
       "array([-1.66095455,  0.77740156, -1.08867544, ...,  0.55770097,\n",
       "       -1.4542722 ,  0.03068099])"
      ]
     },
     "execution_count": 35,
     "metadata": {},
     "output_type": "execute_result"
    }
   ],
   "source": [
    "pred_f=pipe_f.predict(x_test)\n",
    "pred_f"
   ]
  },
  {
   "cell_type": "code",
   "execution_count": 36,
   "id": "5f681f6d",
   "metadata": {
    "execution": {
     "iopub.execute_input": "2023-01-25T05:19:37.521161Z",
     "iopub.status.busy": "2023-01-25T05:19:37.520203Z",
     "iopub.status.idle": "2023-01-25T05:19:37.526298Z",
     "shell.execute_reply": "2023-01-25T05:19:37.526892Z",
     "shell.execute_reply.started": "2022-02-28T12:20:23.325941Z"
    },
    "papermill": {
     "duration": 0.058214,
     "end_time": "2023-01-25T05:19:37.527072",
     "exception": false,
     "start_time": "2023-01-25T05:19:37.468858",
     "status": "completed"
    },
    "tags": []
   },
   "outputs": [
    {
     "data": {
      "text/plain": [
       "0.3215480431991638"
      ]
     },
     "execution_count": 36,
     "metadata": {},
     "output_type": "execute_result"
    }
   ],
   "source": [
    "mean_squared_error(pred_f,y_test)"
   ]
  },
  {
   "cell_type": "code",
   "execution_count": null,
   "id": "5f4d73a3",
   "metadata": {
    "papermill": {
     "duration": 0.047569,
     "end_time": "2023-01-25T05:19:37.622804",
     "exception": false,
     "start_time": "2023-01-25T05:19:37.575235",
     "status": "completed"
    },
    "tags": []
   },
   "outputs": [],
   "source": []
  }
 ],
 "metadata": {
  "kernelspec": {
   "display_name": "Python 3",
   "language": "python",
   "name": "python3"
  },
  "language_info": {
   "codemirror_mode": {
    "name": "ipython",
    "version": 3
   },
   "file_extension": ".py",
   "mimetype": "text/x-python",
   "name": "python",
   "nbconvert_exporter": "python",
   "pygments_lexer": "ipython3",
   "version": "3.7.12"
  },
  "papermill": {
   "default_parameters": {},
   "duration": 69.895609,
   "end_time": "2023-01-25T05:19:38.382558",
   "environment_variables": {},
   "exception": null,
   "input_path": "__notebook__.ipynb",
   "output_path": "__notebook__.ipynb",
   "parameters": {},
   "start_time": "2023-01-25T05:18:28.486949",
   "version": "2.3.3"
  }
 },
 "nbformat": 4,
 "nbformat_minor": 5
}
