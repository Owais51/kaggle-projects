{
 "cells": [
  {
   "cell_type": "code",
   "execution_count": 1,
   "id": "43ae765f",
   "metadata": {
    "_cell_guid": "b1076dfc-b9ad-4769-8c92-a6c4dae69d19",
    "_uuid": "8f2839f25d086af736a60e9eeb907d3b93b6e0e5",
    "execution": {
     "iopub.execute_input": "2023-01-25T05:20:48.980645Z",
     "iopub.status.busy": "2023-01-25T05:20:48.976077Z",
     "iopub.status.idle": "2023-01-25T05:20:48.994003Z",
     "shell.execute_reply": "2023-01-25T05:20:48.994678Z",
     "shell.execute_reply.started": "2022-01-31T12:27:40.073199Z"
    },
    "papermill": {
     "duration": 0.078735,
     "end_time": "2023-01-25T05:20:48.994995",
     "exception": false,
     "start_time": "2023-01-25T05:20:48.916260",
     "status": "completed"
    },
    "tags": []
   },
   "outputs": [
    {
     "name": "stdout",
     "output_type": "stream",
     "text": [
      "/kaggle/input/heart-failure-prediction/heart.csv\n"
     ]
    }
   ],
   "source": [
    "# This Python 3 environment comes with many helpful analytics libraries installed\n",
    "# It is defined by the kaggle/python Docker image: https://github.com/kaggle/docker-python\n",
    "# For example, here's several helpful packages to load\n",
    "\n",
    "import numpy as np # linear algebra\n",
    "import pandas as pd # data processing, CSV file I/O (e.g. pd.read_csv)\n",
    "\n",
    "# Input data files are available in the read-only \"../input/\" directory\n",
    "# For example, running this (by clicking run or pressing Shift+Enter) will list all files under the input directory\n",
    "\n",
    "import os\n",
    "for dirname, _, filenames in os.walk('/kaggle/input'):\n",
    "    for filename in filenames:\n",
    "        print(os.path.join(dirname, filename))\n",
    "\n",
    "# You can write up to 20GB to the current directory (/kaggle/working/) that gets preserved as output when you create a version using \"Save & Run All\" \n",
    "# You can also write temporary files to /kaggle/temp/, but they won't be saved outside of the current session"
   ]
  },
  {
   "cell_type": "code",
   "execution_count": 2,
   "id": "3a3d7c23",
   "metadata": {
    "execution": {
     "iopub.execute_input": "2023-01-25T05:20:49.101254Z",
     "iopub.status.busy": "2023-01-25T05:20:49.100515Z",
     "iopub.status.idle": "2023-01-25T05:20:49.155475Z",
     "shell.execute_reply": "2023-01-25T05:20:49.156100Z",
     "shell.execute_reply.started": "2022-01-31T12:27:40.120131Z"
    },
    "papermill": {
     "duration": 0.110507,
     "end_time": "2023-01-25T05:20:49.156291",
     "exception": false,
     "start_time": "2023-01-25T05:20:49.045784",
     "status": "completed"
    },
    "tags": []
   },
   "outputs": [
    {
     "data": {
      "text/html": [
       "<div>\n",
       "<style scoped>\n",
       "    .dataframe tbody tr th:only-of-type {\n",
       "        vertical-align: middle;\n",
       "    }\n",
       "\n",
       "    .dataframe tbody tr th {\n",
       "        vertical-align: top;\n",
       "    }\n",
       "\n",
       "    .dataframe thead th {\n",
       "        text-align: right;\n",
       "    }\n",
       "</style>\n",
       "<table border=\"1\" class=\"dataframe\">\n",
       "  <thead>\n",
       "    <tr style=\"text-align: right;\">\n",
       "      <th></th>\n",
       "      <th>Age</th>\n",
       "      <th>Sex</th>\n",
       "      <th>ChestPainType</th>\n",
       "      <th>RestingBP</th>\n",
       "      <th>Cholesterol</th>\n",
       "      <th>FastingBS</th>\n",
       "      <th>RestingECG</th>\n",
       "      <th>MaxHR</th>\n",
       "      <th>ExerciseAngina</th>\n",
       "      <th>Oldpeak</th>\n",
       "      <th>ST_Slope</th>\n",
       "      <th>HeartDisease</th>\n",
       "    </tr>\n",
       "  </thead>\n",
       "  <tbody>\n",
       "    <tr>\n",
       "      <th>0</th>\n",
       "      <td>40</td>\n",
       "      <td>M</td>\n",
       "      <td>ATA</td>\n",
       "      <td>140</td>\n",
       "      <td>289</td>\n",
       "      <td>0</td>\n",
       "      <td>Normal</td>\n",
       "      <td>172</td>\n",
       "      <td>N</td>\n",
       "      <td>0.0</td>\n",
       "      <td>Up</td>\n",
       "      <td>0</td>\n",
       "    </tr>\n",
       "    <tr>\n",
       "      <th>1</th>\n",
       "      <td>49</td>\n",
       "      <td>F</td>\n",
       "      <td>NAP</td>\n",
       "      <td>160</td>\n",
       "      <td>180</td>\n",
       "      <td>0</td>\n",
       "      <td>Normal</td>\n",
       "      <td>156</td>\n",
       "      <td>N</td>\n",
       "      <td>1.0</td>\n",
       "      <td>Flat</td>\n",
       "      <td>1</td>\n",
       "    </tr>\n",
       "    <tr>\n",
       "      <th>2</th>\n",
       "      <td>37</td>\n",
       "      <td>M</td>\n",
       "      <td>ATA</td>\n",
       "      <td>130</td>\n",
       "      <td>283</td>\n",
       "      <td>0</td>\n",
       "      <td>ST</td>\n",
       "      <td>98</td>\n",
       "      <td>N</td>\n",
       "      <td>0.0</td>\n",
       "      <td>Up</td>\n",
       "      <td>0</td>\n",
       "    </tr>\n",
       "    <tr>\n",
       "      <th>3</th>\n",
       "      <td>48</td>\n",
       "      <td>F</td>\n",
       "      <td>ASY</td>\n",
       "      <td>138</td>\n",
       "      <td>214</td>\n",
       "      <td>0</td>\n",
       "      <td>Normal</td>\n",
       "      <td>108</td>\n",
       "      <td>Y</td>\n",
       "      <td>1.5</td>\n",
       "      <td>Flat</td>\n",
       "      <td>1</td>\n",
       "    </tr>\n",
       "    <tr>\n",
       "      <th>4</th>\n",
       "      <td>54</td>\n",
       "      <td>M</td>\n",
       "      <td>NAP</td>\n",
       "      <td>150</td>\n",
       "      <td>195</td>\n",
       "      <td>0</td>\n",
       "      <td>Normal</td>\n",
       "      <td>122</td>\n",
       "      <td>N</td>\n",
       "      <td>0.0</td>\n",
       "      <td>Up</td>\n",
       "      <td>0</td>\n",
       "    </tr>\n",
       "    <tr>\n",
       "      <th>...</th>\n",
       "      <td>...</td>\n",
       "      <td>...</td>\n",
       "      <td>...</td>\n",
       "      <td>...</td>\n",
       "      <td>...</td>\n",
       "      <td>...</td>\n",
       "      <td>...</td>\n",
       "      <td>...</td>\n",
       "      <td>...</td>\n",
       "      <td>...</td>\n",
       "      <td>...</td>\n",
       "      <td>...</td>\n",
       "    </tr>\n",
       "    <tr>\n",
       "      <th>913</th>\n",
       "      <td>45</td>\n",
       "      <td>M</td>\n",
       "      <td>TA</td>\n",
       "      <td>110</td>\n",
       "      <td>264</td>\n",
       "      <td>0</td>\n",
       "      <td>Normal</td>\n",
       "      <td>132</td>\n",
       "      <td>N</td>\n",
       "      <td>1.2</td>\n",
       "      <td>Flat</td>\n",
       "      <td>1</td>\n",
       "    </tr>\n",
       "    <tr>\n",
       "      <th>914</th>\n",
       "      <td>68</td>\n",
       "      <td>M</td>\n",
       "      <td>ASY</td>\n",
       "      <td>144</td>\n",
       "      <td>193</td>\n",
       "      <td>1</td>\n",
       "      <td>Normal</td>\n",
       "      <td>141</td>\n",
       "      <td>N</td>\n",
       "      <td>3.4</td>\n",
       "      <td>Flat</td>\n",
       "      <td>1</td>\n",
       "    </tr>\n",
       "    <tr>\n",
       "      <th>915</th>\n",
       "      <td>57</td>\n",
       "      <td>M</td>\n",
       "      <td>ASY</td>\n",
       "      <td>130</td>\n",
       "      <td>131</td>\n",
       "      <td>0</td>\n",
       "      <td>Normal</td>\n",
       "      <td>115</td>\n",
       "      <td>Y</td>\n",
       "      <td>1.2</td>\n",
       "      <td>Flat</td>\n",
       "      <td>1</td>\n",
       "    </tr>\n",
       "    <tr>\n",
       "      <th>916</th>\n",
       "      <td>57</td>\n",
       "      <td>F</td>\n",
       "      <td>ATA</td>\n",
       "      <td>130</td>\n",
       "      <td>236</td>\n",
       "      <td>0</td>\n",
       "      <td>LVH</td>\n",
       "      <td>174</td>\n",
       "      <td>N</td>\n",
       "      <td>0.0</td>\n",
       "      <td>Flat</td>\n",
       "      <td>1</td>\n",
       "    </tr>\n",
       "    <tr>\n",
       "      <th>917</th>\n",
       "      <td>38</td>\n",
       "      <td>M</td>\n",
       "      <td>NAP</td>\n",
       "      <td>138</td>\n",
       "      <td>175</td>\n",
       "      <td>0</td>\n",
       "      <td>Normal</td>\n",
       "      <td>173</td>\n",
       "      <td>N</td>\n",
       "      <td>0.0</td>\n",
       "      <td>Up</td>\n",
       "      <td>0</td>\n",
       "    </tr>\n",
       "  </tbody>\n",
       "</table>\n",
       "<p>918 rows × 12 columns</p>\n",
       "</div>"
      ],
      "text/plain": [
       "     Age Sex ChestPainType  RestingBP  Cholesterol  FastingBS RestingECG  \\\n",
       "0     40   M           ATA        140          289          0     Normal   \n",
       "1     49   F           NAP        160          180          0     Normal   \n",
       "2     37   M           ATA        130          283          0         ST   \n",
       "3     48   F           ASY        138          214          0     Normal   \n",
       "4     54   M           NAP        150          195          0     Normal   \n",
       "..   ...  ..           ...        ...          ...        ...        ...   \n",
       "913   45   M            TA        110          264          0     Normal   \n",
       "914   68   M           ASY        144          193          1     Normal   \n",
       "915   57   M           ASY        130          131          0     Normal   \n",
       "916   57   F           ATA        130          236          0        LVH   \n",
       "917   38   M           NAP        138          175          0     Normal   \n",
       "\n",
       "     MaxHR ExerciseAngina  Oldpeak ST_Slope  HeartDisease  \n",
       "0      172              N      0.0       Up             0  \n",
       "1      156              N      1.0     Flat             1  \n",
       "2       98              N      0.0       Up             0  \n",
       "3      108              Y      1.5     Flat             1  \n",
       "4      122              N      0.0       Up             0  \n",
       "..     ...            ...      ...      ...           ...  \n",
       "913    132              N      1.2     Flat             1  \n",
       "914    141              N      3.4     Flat             1  \n",
       "915    115              Y      1.2     Flat             1  \n",
       "916    174              N      0.0     Flat             1  \n",
       "917    173              N      0.0       Up             0  \n",
       "\n",
       "[918 rows x 12 columns]"
      ]
     },
     "execution_count": 2,
     "metadata": {},
     "output_type": "execute_result"
    }
   ],
   "source": [
    "data=pd.read_csv('/kaggle/input/heart-failure-prediction/heart.csv')\n",
    "data\n"
   ]
  },
  {
   "cell_type": "code",
   "execution_count": null,
   "id": "1268c8a8",
   "metadata": {
    "papermill": {
     "duration": 0.04915,
     "end_time": "2023-01-25T05:20:49.257183",
     "exception": false,
     "start_time": "2023-01-25T05:20:49.208033",
     "status": "completed"
    },
    "tags": []
   },
   "outputs": [],
   "source": []
  },
  {
   "cell_type": "code",
   "execution_count": 3,
   "id": "0c2c9a7c",
   "metadata": {
    "execution": {
     "iopub.execute_input": "2023-01-25T05:20:49.360340Z",
     "iopub.status.busy": "2023-01-25T05:20:49.359325Z",
     "iopub.status.idle": "2023-01-25T05:20:49.373239Z",
     "shell.execute_reply": "2023-01-25T05:20:49.373722Z",
     "shell.execute_reply.started": "2022-01-31T12:27:40.183295Z"
    },
    "papermill": {
     "duration": 0.067252,
     "end_time": "2023-01-25T05:20:49.373916",
     "exception": false,
     "start_time": "2023-01-25T05:20:49.306664",
     "status": "completed"
    },
    "tags": []
   },
   "outputs": [
    {
     "data": {
      "text/html": [
       "<div>\n",
       "<style scoped>\n",
       "    .dataframe tbody tr th:only-of-type {\n",
       "        vertical-align: middle;\n",
       "    }\n",
       "\n",
       "    .dataframe tbody tr th {\n",
       "        vertical-align: top;\n",
       "    }\n",
       "\n",
       "    .dataframe thead th {\n",
       "        text-align: right;\n",
       "    }\n",
       "</style>\n",
       "<table border=\"1\" class=\"dataframe\">\n",
       "  <thead>\n",
       "    <tr style=\"text-align: right;\">\n",
       "      <th></th>\n",
       "      <th>Age</th>\n",
       "      <th>Sex</th>\n",
       "      <th>ChestPainType</th>\n",
       "      <th>RestingBP</th>\n",
       "      <th>Cholesterol</th>\n",
       "      <th>FastingBS</th>\n",
       "      <th>RestingECG</th>\n",
       "      <th>MaxHR</th>\n",
       "      <th>ExerciseAngina</th>\n",
       "      <th>Oldpeak</th>\n",
       "      <th>ST_Slope</th>\n",
       "      <th>HeartDisease</th>\n",
       "    </tr>\n",
       "  </thead>\n",
       "  <tbody>\n",
       "    <tr>\n",
       "      <th>0</th>\n",
       "      <td>40</td>\n",
       "      <td>M</td>\n",
       "      <td>ATA</td>\n",
       "      <td>140</td>\n",
       "      <td>289</td>\n",
       "      <td>0</td>\n",
       "      <td>Normal</td>\n",
       "      <td>172</td>\n",
       "      <td>N</td>\n",
       "      <td>0.0</td>\n",
       "      <td>Up</td>\n",
       "      <td>0</td>\n",
       "    </tr>\n",
       "    <tr>\n",
       "      <th>1</th>\n",
       "      <td>49</td>\n",
       "      <td>F</td>\n",
       "      <td>NAP</td>\n",
       "      <td>160</td>\n",
       "      <td>180</td>\n",
       "      <td>0</td>\n",
       "      <td>Normal</td>\n",
       "      <td>156</td>\n",
       "      <td>N</td>\n",
       "      <td>1.0</td>\n",
       "      <td>Flat</td>\n",
       "      <td>1</td>\n",
       "    </tr>\n",
       "  </tbody>\n",
       "</table>\n",
       "</div>"
      ],
      "text/plain": [
       "   Age Sex ChestPainType  RestingBP  Cholesterol  FastingBS RestingECG  MaxHR  \\\n",
       "0   40   M           ATA        140          289          0     Normal    172   \n",
       "1   49   F           NAP        160          180          0     Normal    156   \n",
       "\n",
       "  ExerciseAngina  Oldpeak ST_Slope  HeartDisease  \n",
       "0              N      0.0       Up             0  \n",
       "1              N      1.0     Flat             1  "
      ]
     },
     "execution_count": 3,
     "metadata": {},
     "output_type": "execute_result"
    }
   ],
   "source": [
    "data.head(2)"
   ]
  },
  {
   "cell_type": "code",
   "execution_count": 4,
   "id": "e5dc4a53",
   "metadata": {
    "execution": {
     "iopub.execute_input": "2023-01-25T05:20:49.480906Z",
     "iopub.status.busy": "2023-01-25T05:20:49.479859Z",
     "iopub.status.idle": "2023-01-25T05:20:49.489384Z",
     "shell.execute_reply": "2023-01-25T05:20:49.489909Z",
     "shell.execute_reply.started": "2022-01-31T12:27:40.204952Z"
    },
    "papermill": {
     "duration": 0.06392,
     "end_time": "2023-01-25T05:20:49.490102",
     "exception": false,
     "start_time": "2023-01-25T05:20:49.426182",
     "status": "completed"
    },
    "tags": []
   },
   "outputs": [
    {
     "data": {
      "text/plain": [
       "Age               0\n",
       "Sex               0\n",
       "ChestPainType     0\n",
       "RestingBP         0\n",
       "Cholesterol       0\n",
       "FastingBS         0\n",
       "RestingECG        0\n",
       "MaxHR             0\n",
       "ExerciseAngina    0\n",
       "Oldpeak           0\n",
       "ST_Slope          0\n",
       "HeartDisease      0\n",
       "dtype: int64"
      ]
     },
     "execution_count": 4,
     "metadata": {},
     "output_type": "execute_result"
    }
   ],
   "source": [
    "data.isnull().sum()"
   ]
  },
  {
   "cell_type": "markdown",
   "id": "433fe9a4",
   "metadata": {
    "execution": {
     "iopub.execute_input": "2022-01-04T12:49:49.390146Z",
     "iopub.status.busy": "2022-01-04T12:49:49.389293Z",
     "iopub.status.idle": "2022-01-04T12:49:49.399769Z",
     "shell.execute_reply": "2022-01-04T12:49:49.398769Z",
     "shell.execute_reply.started": "2022-01-04T12:49:49.3901Z"
    },
    "papermill": {
     "duration": 0.050097,
     "end_time": "2023-01-25T05:20:49.591583",
     "exception": false,
     "start_time": "2023-01-25T05:20:49.541486",
     "status": "completed"
    },
    "tags": []
   },
   "source": [
    "data.isnull().sum()"
   ]
  },
  {
   "cell_type": "code",
   "execution_count": 5,
   "id": "3e13a7f5",
   "metadata": {
    "execution": {
     "iopub.execute_input": "2023-01-25T05:20:49.698345Z",
     "iopub.status.busy": "2023-01-25T05:20:49.697314Z",
     "iopub.status.idle": "2023-01-25T05:20:49.702764Z",
     "shell.execute_reply": "2023-01-25T05:20:49.703210Z",
     "shell.execute_reply.started": "2022-01-31T12:27:40.221368Z"
    },
    "papermill": {
     "duration": 0.059688,
     "end_time": "2023-01-25T05:20:49.703399",
     "exception": false,
     "start_time": "2023-01-25T05:20:49.643711",
     "status": "completed"
    },
    "tags": []
   },
   "outputs": [
    {
     "data": {
      "text/plain": [
       "(918, 12)"
      ]
     },
     "execution_count": 5,
     "metadata": {},
     "output_type": "execute_result"
    }
   ],
   "source": [
    "data.shape"
   ]
  },
  {
   "cell_type": "code",
   "execution_count": 6,
   "id": "fd3c8436",
   "metadata": {
    "execution": {
     "iopub.execute_input": "2023-01-25T05:20:49.813380Z",
     "iopub.status.busy": "2023-01-25T05:20:49.812632Z",
     "iopub.status.idle": "2023-01-25T05:20:49.834846Z",
     "shell.execute_reply": "2023-01-25T05:20:49.835325Z",
     "shell.execute_reply.started": "2022-01-31T12:27:40.233695Z"
    },
    "papermill": {
     "duration": 0.081757,
     "end_time": "2023-01-25T05:20:49.835510",
     "exception": false,
     "start_time": "2023-01-25T05:20:49.753753",
     "status": "completed"
    },
    "tags": []
   },
   "outputs": [
    {
     "data": {
      "text/html": [
       "<div>\n",
       "<style scoped>\n",
       "    .dataframe tbody tr th:only-of-type {\n",
       "        vertical-align: middle;\n",
       "    }\n",
       "\n",
       "    .dataframe tbody tr th {\n",
       "        vertical-align: top;\n",
       "    }\n",
       "\n",
       "    .dataframe thead th {\n",
       "        text-align: right;\n",
       "    }\n",
       "</style>\n",
       "<table border=\"1\" class=\"dataframe\">\n",
       "  <thead>\n",
       "    <tr style=\"text-align: right;\">\n",
       "      <th></th>\n",
       "      <th>Age</th>\n",
       "      <th>Sex</th>\n",
       "      <th>ChestPainType</th>\n",
       "      <th>RestingBP</th>\n",
       "      <th>Cholesterol</th>\n",
       "      <th>FastingBS</th>\n",
       "      <th>RestingECG</th>\n",
       "      <th>MaxHR</th>\n",
       "      <th>ExerciseAngina</th>\n",
       "      <th>Oldpeak</th>\n",
       "      <th>ST_Slope</th>\n",
       "    </tr>\n",
       "  </thead>\n",
       "  <tbody>\n",
       "    <tr>\n",
       "      <th>0</th>\n",
       "      <td>40</td>\n",
       "      <td>M</td>\n",
       "      <td>ATA</td>\n",
       "      <td>140</td>\n",
       "      <td>289</td>\n",
       "      <td>0</td>\n",
       "      <td>Normal</td>\n",
       "      <td>172</td>\n",
       "      <td>N</td>\n",
       "      <td>0.0</td>\n",
       "      <td>Up</td>\n",
       "    </tr>\n",
       "    <tr>\n",
       "      <th>1</th>\n",
       "      <td>49</td>\n",
       "      <td>F</td>\n",
       "      <td>NAP</td>\n",
       "      <td>160</td>\n",
       "      <td>180</td>\n",
       "      <td>0</td>\n",
       "      <td>Normal</td>\n",
       "      <td>156</td>\n",
       "      <td>N</td>\n",
       "      <td>1.0</td>\n",
       "      <td>Flat</td>\n",
       "    </tr>\n",
       "    <tr>\n",
       "      <th>2</th>\n",
       "      <td>37</td>\n",
       "      <td>M</td>\n",
       "      <td>ATA</td>\n",
       "      <td>130</td>\n",
       "      <td>283</td>\n",
       "      <td>0</td>\n",
       "      <td>ST</td>\n",
       "      <td>98</td>\n",
       "      <td>N</td>\n",
       "      <td>0.0</td>\n",
       "      <td>Up</td>\n",
       "    </tr>\n",
       "    <tr>\n",
       "      <th>3</th>\n",
       "      <td>48</td>\n",
       "      <td>F</td>\n",
       "      <td>ASY</td>\n",
       "      <td>138</td>\n",
       "      <td>214</td>\n",
       "      <td>0</td>\n",
       "      <td>Normal</td>\n",
       "      <td>108</td>\n",
       "      <td>Y</td>\n",
       "      <td>1.5</td>\n",
       "      <td>Flat</td>\n",
       "    </tr>\n",
       "    <tr>\n",
       "      <th>4</th>\n",
       "      <td>54</td>\n",
       "      <td>M</td>\n",
       "      <td>NAP</td>\n",
       "      <td>150</td>\n",
       "      <td>195</td>\n",
       "      <td>0</td>\n",
       "      <td>Normal</td>\n",
       "      <td>122</td>\n",
       "      <td>N</td>\n",
       "      <td>0.0</td>\n",
       "      <td>Up</td>\n",
       "    </tr>\n",
       "    <tr>\n",
       "      <th>...</th>\n",
       "      <td>...</td>\n",
       "      <td>...</td>\n",
       "      <td>...</td>\n",
       "      <td>...</td>\n",
       "      <td>...</td>\n",
       "      <td>...</td>\n",
       "      <td>...</td>\n",
       "      <td>...</td>\n",
       "      <td>...</td>\n",
       "      <td>...</td>\n",
       "      <td>...</td>\n",
       "    </tr>\n",
       "    <tr>\n",
       "      <th>913</th>\n",
       "      <td>45</td>\n",
       "      <td>M</td>\n",
       "      <td>TA</td>\n",
       "      <td>110</td>\n",
       "      <td>264</td>\n",
       "      <td>0</td>\n",
       "      <td>Normal</td>\n",
       "      <td>132</td>\n",
       "      <td>N</td>\n",
       "      <td>1.2</td>\n",
       "      <td>Flat</td>\n",
       "    </tr>\n",
       "    <tr>\n",
       "      <th>914</th>\n",
       "      <td>68</td>\n",
       "      <td>M</td>\n",
       "      <td>ASY</td>\n",
       "      <td>144</td>\n",
       "      <td>193</td>\n",
       "      <td>1</td>\n",
       "      <td>Normal</td>\n",
       "      <td>141</td>\n",
       "      <td>N</td>\n",
       "      <td>3.4</td>\n",
       "      <td>Flat</td>\n",
       "    </tr>\n",
       "    <tr>\n",
       "      <th>915</th>\n",
       "      <td>57</td>\n",
       "      <td>M</td>\n",
       "      <td>ASY</td>\n",
       "      <td>130</td>\n",
       "      <td>131</td>\n",
       "      <td>0</td>\n",
       "      <td>Normal</td>\n",
       "      <td>115</td>\n",
       "      <td>Y</td>\n",
       "      <td>1.2</td>\n",
       "      <td>Flat</td>\n",
       "    </tr>\n",
       "    <tr>\n",
       "      <th>916</th>\n",
       "      <td>57</td>\n",
       "      <td>F</td>\n",
       "      <td>ATA</td>\n",
       "      <td>130</td>\n",
       "      <td>236</td>\n",
       "      <td>0</td>\n",
       "      <td>LVH</td>\n",
       "      <td>174</td>\n",
       "      <td>N</td>\n",
       "      <td>0.0</td>\n",
       "      <td>Flat</td>\n",
       "    </tr>\n",
       "    <tr>\n",
       "      <th>917</th>\n",
       "      <td>38</td>\n",
       "      <td>M</td>\n",
       "      <td>NAP</td>\n",
       "      <td>138</td>\n",
       "      <td>175</td>\n",
       "      <td>0</td>\n",
       "      <td>Normal</td>\n",
       "      <td>173</td>\n",
       "      <td>N</td>\n",
       "      <td>0.0</td>\n",
       "      <td>Up</td>\n",
       "    </tr>\n",
       "  </tbody>\n",
       "</table>\n",
       "<p>918 rows × 11 columns</p>\n",
       "</div>"
      ],
      "text/plain": [
       "     Age Sex ChestPainType  RestingBP  Cholesterol  FastingBS RestingECG  \\\n",
       "0     40   M           ATA        140          289          0     Normal   \n",
       "1     49   F           NAP        160          180          0     Normal   \n",
       "2     37   M           ATA        130          283          0         ST   \n",
       "3     48   F           ASY        138          214          0     Normal   \n",
       "4     54   M           NAP        150          195          0     Normal   \n",
       "..   ...  ..           ...        ...          ...        ...        ...   \n",
       "913   45   M            TA        110          264          0     Normal   \n",
       "914   68   M           ASY        144          193          1     Normal   \n",
       "915   57   M           ASY        130          131          0     Normal   \n",
       "916   57   F           ATA        130          236          0        LVH   \n",
       "917   38   M           NAP        138          175          0     Normal   \n",
       "\n",
       "     MaxHR ExerciseAngina  Oldpeak ST_Slope  \n",
       "0      172              N      0.0       Up  \n",
       "1      156              N      1.0     Flat  \n",
       "2       98              N      0.0       Up  \n",
       "3      108              Y      1.5     Flat  \n",
       "4      122              N      0.0       Up  \n",
       "..     ...            ...      ...      ...  \n",
       "913    132              N      1.2     Flat  \n",
       "914    141              N      3.4     Flat  \n",
       "915    115              Y      1.2     Flat  \n",
       "916    174              N      0.0     Flat  \n",
       "917    173              N      0.0       Up  \n",
       "\n",
       "[918 rows x 11 columns]"
      ]
     },
     "execution_count": 6,
     "metadata": {},
     "output_type": "execute_result"
    }
   ],
   "source": [
    "x=data.drop(columns=['HeartDisease'])\n",
    "x"
   ]
  },
  {
   "cell_type": "code",
   "execution_count": 7,
   "id": "d97347bf",
   "metadata": {
    "execution": {
     "iopub.execute_input": "2023-01-25T05:20:49.941628Z",
     "iopub.status.busy": "2023-01-25T05:20:49.940644Z",
     "iopub.status.idle": "2023-01-25T05:20:49.947124Z",
     "shell.execute_reply": "2023-01-25T05:20:49.947624Z",
     "shell.execute_reply.started": "2022-01-31T12:27:40.273997Z"
    },
    "papermill": {
     "duration": 0.060981,
     "end_time": "2023-01-25T05:20:49.947811",
     "exception": false,
     "start_time": "2023-01-25T05:20:49.886830",
     "status": "completed"
    },
    "tags": []
   },
   "outputs": [
    {
     "data": {
      "text/plain": [
       "0    0\n",
       "1    1\n",
       "2    0\n",
       "3    1\n",
       "4    0\n",
       "Name: HeartDisease, dtype: int64"
      ]
     },
     "execution_count": 7,
     "metadata": {},
     "output_type": "execute_result"
    }
   ],
   "source": [
    "y=data.HeartDisease\n",
    "y.head()"
   ]
  },
  {
   "cell_type": "code",
   "execution_count": 8,
   "id": "ab2fa12d",
   "metadata": {
    "execution": {
     "iopub.execute_input": "2023-01-25T05:20:50.056993Z",
     "iopub.status.busy": "2023-01-25T05:20:50.056266Z",
     "iopub.status.idle": "2023-01-25T05:20:51.241377Z",
     "shell.execute_reply": "2023-01-25T05:20:51.240136Z",
     "shell.execute_reply.started": "2022-01-31T12:27:40.286696Z"
    },
    "papermill": {
     "duration": 1.241795,
     "end_time": "2023-01-25T05:20:51.241589",
     "exception": false,
     "start_time": "2023-01-25T05:20:49.999794",
     "status": "completed"
    },
    "tags": []
   },
   "outputs": [],
   "source": [
    "from sklearn.model_selection import train_test_split\n",
    "x_train,x_test,y_train,y_test=train_test_split(x,y,test_size=0.35)"
   ]
  },
  {
   "cell_type": "code",
   "execution_count": 9,
   "id": "834d4a13",
   "metadata": {
    "execution": {
     "iopub.execute_input": "2023-01-25T05:20:51.352833Z",
     "iopub.status.busy": "2023-01-25T05:20:51.351947Z",
     "iopub.status.idle": "2023-01-25T05:20:51.355318Z",
     "shell.execute_reply": "2023-01-25T05:20:51.355873Z",
     "shell.execute_reply.started": "2022-01-31T12:27:41.417768Z"
    },
    "papermill": {
     "duration": 0.062036,
     "end_time": "2023-01-25T05:20:51.356079",
     "exception": false,
     "start_time": "2023-01-25T05:20:51.294043",
     "status": "completed"
    },
    "tags": []
   },
   "outputs": [
    {
     "data": {
      "text/plain": [
       "(596, 11)"
      ]
     },
     "execution_count": 9,
     "metadata": {},
     "output_type": "execute_result"
    }
   ],
   "source": [
    "x_train.shape"
   ]
  },
  {
   "cell_type": "code",
   "execution_count": 10,
   "id": "6bdd4757",
   "metadata": {
    "execution": {
     "iopub.execute_input": "2023-01-25T05:20:51.468695Z",
     "iopub.status.busy": "2023-01-25T05:20:51.467718Z",
     "iopub.status.idle": "2023-01-25T05:20:51.471176Z",
     "shell.execute_reply": "2023-01-25T05:20:51.471693Z",
     "shell.execute_reply.started": "2022-01-31T12:27:41.427190Z"
    },
    "papermill": {
     "duration": 0.062167,
     "end_time": "2023-01-25T05:20:51.471874",
     "exception": false,
     "start_time": "2023-01-25T05:20:51.409707",
     "status": "completed"
    },
    "tags": []
   },
   "outputs": [
    {
     "data": {
      "text/plain": [
       "(322, 11)"
      ]
     },
     "execution_count": 10,
     "metadata": {},
     "output_type": "execute_result"
    }
   ],
   "source": [
    "x_test.shape"
   ]
  },
  {
   "cell_type": "code",
   "execution_count": 11,
   "id": "91058d7d",
   "metadata": {
    "execution": {
     "iopub.execute_input": "2023-01-25T05:20:51.579611Z",
     "iopub.status.busy": "2023-01-25T05:20:51.578591Z",
     "iopub.status.idle": "2023-01-25T05:20:51.587076Z",
     "shell.execute_reply": "2023-01-25T05:20:51.587660Z",
     "shell.execute_reply.started": "2022-01-31T12:27:41.438521Z"
    },
    "papermill": {
     "duration": 0.064551,
     "end_time": "2023-01-25T05:20:51.587847",
     "exception": false,
     "start_time": "2023-01-25T05:20:51.523296",
     "status": "completed"
    },
    "tags": []
   },
   "outputs": [
    {
     "data": {
      "text/plain": [
       "array(['ATA', 'NAP', 'ASY', 'TA'], dtype=object)"
      ]
     },
     "execution_count": 11,
     "metadata": {},
     "output_type": "execute_result"
    }
   ],
   "source": [
    "x.ChestPainType.unique()"
   ]
  },
  {
   "cell_type": "code",
   "execution_count": 12,
   "id": "7924db71",
   "metadata": {
    "execution": {
     "iopub.execute_input": "2023-01-25T05:20:51.697448Z",
     "iopub.status.busy": "2023-01-25T05:20:51.696451Z",
     "iopub.status.idle": "2023-01-25T05:20:51.703658Z",
     "shell.execute_reply": "2023-01-25T05:20:51.703004Z",
     "shell.execute_reply.started": "2022-01-31T12:27:41.452942Z"
    },
    "papermill": {
     "duration": 0.063238,
     "end_time": "2023-01-25T05:20:51.703805",
     "exception": false,
     "start_time": "2023-01-25T05:20:51.640567",
     "status": "completed"
    },
    "tags": []
   },
   "outputs": [
    {
     "data": {
      "text/plain": [
       "array(['Normal', 'ST', 'LVH'], dtype=object)"
      ]
     },
     "execution_count": 12,
     "metadata": {},
     "output_type": "execute_result"
    }
   ],
   "source": [
    "x.RestingECG.unique()"
   ]
  },
  {
   "cell_type": "code",
   "execution_count": 13,
   "id": "56b939bb",
   "metadata": {
    "execution": {
     "iopub.execute_input": "2023-01-25T05:20:51.813563Z",
     "iopub.status.busy": "2023-01-25T05:20:51.812545Z",
     "iopub.status.idle": "2023-01-25T05:20:51.826929Z",
     "shell.execute_reply": "2023-01-25T05:20:51.827490Z",
     "shell.execute_reply.started": "2022-01-31T12:27:41.465104Z"
    },
    "papermill": {
     "duration": 0.071205,
     "end_time": "2023-01-25T05:20:51.827701",
     "exception": false,
     "start_time": "2023-01-25T05:20:51.756496",
     "status": "completed"
    },
    "tags": []
   },
   "outputs": [
    {
     "data": {
      "text/html": [
       "<div>\n",
       "<style scoped>\n",
       "    .dataframe tbody tr th:only-of-type {\n",
       "        vertical-align: middle;\n",
       "    }\n",
       "\n",
       "    .dataframe tbody tr th {\n",
       "        vertical-align: top;\n",
       "    }\n",
       "\n",
       "    .dataframe thead th {\n",
       "        text-align: right;\n",
       "    }\n",
       "</style>\n",
       "<table border=\"1\" class=\"dataframe\">\n",
       "  <thead>\n",
       "    <tr style=\"text-align: right;\">\n",
       "      <th></th>\n",
       "      <th>Age</th>\n",
       "      <th>Sex</th>\n",
       "      <th>ChestPainType</th>\n",
       "      <th>RestingBP</th>\n",
       "      <th>Cholesterol</th>\n",
       "      <th>FastingBS</th>\n",
       "      <th>RestingECG</th>\n",
       "      <th>MaxHR</th>\n",
       "      <th>ExerciseAngina</th>\n",
       "      <th>Oldpeak</th>\n",
       "      <th>ST_Slope</th>\n",
       "    </tr>\n",
       "  </thead>\n",
       "  <tbody>\n",
       "    <tr>\n",
       "      <th>0</th>\n",
       "      <td>40</td>\n",
       "      <td>M</td>\n",
       "      <td>ATA</td>\n",
       "      <td>140</td>\n",
       "      <td>289</td>\n",
       "      <td>0</td>\n",
       "      <td>Normal</td>\n",
       "      <td>172</td>\n",
       "      <td>N</td>\n",
       "      <td>0.0</td>\n",
       "      <td>Up</td>\n",
       "    </tr>\n",
       "    <tr>\n",
       "      <th>1</th>\n",
       "      <td>49</td>\n",
       "      <td>F</td>\n",
       "      <td>NAP</td>\n",
       "      <td>160</td>\n",
       "      <td>180</td>\n",
       "      <td>0</td>\n",
       "      <td>Normal</td>\n",
       "      <td>156</td>\n",
       "      <td>N</td>\n",
       "      <td>1.0</td>\n",
       "      <td>Flat</td>\n",
       "    </tr>\n",
       "    <tr>\n",
       "      <th>2</th>\n",
       "      <td>37</td>\n",
       "      <td>M</td>\n",
       "      <td>ATA</td>\n",
       "      <td>130</td>\n",
       "      <td>283</td>\n",
       "      <td>0</td>\n",
       "      <td>ST</td>\n",
       "      <td>98</td>\n",
       "      <td>N</td>\n",
       "      <td>0.0</td>\n",
       "      <td>Up</td>\n",
       "    </tr>\n",
       "    <tr>\n",
       "      <th>3</th>\n",
       "      <td>48</td>\n",
       "      <td>F</td>\n",
       "      <td>ASY</td>\n",
       "      <td>138</td>\n",
       "      <td>214</td>\n",
       "      <td>0</td>\n",
       "      <td>Normal</td>\n",
       "      <td>108</td>\n",
       "      <td>Y</td>\n",
       "      <td>1.5</td>\n",
       "      <td>Flat</td>\n",
       "    </tr>\n",
       "    <tr>\n",
       "      <th>4</th>\n",
       "      <td>54</td>\n",
       "      <td>M</td>\n",
       "      <td>NAP</td>\n",
       "      <td>150</td>\n",
       "      <td>195</td>\n",
       "      <td>0</td>\n",
       "      <td>Normal</td>\n",
       "      <td>122</td>\n",
       "      <td>N</td>\n",
       "      <td>0.0</td>\n",
       "      <td>Up</td>\n",
       "    </tr>\n",
       "  </tbody>\n",
       "</table>\n",
       "</div>"
      ],
      "text/plain": [
       "   Age Sex ChestPainType  RestingBP  Cholesterol  FastingBS RestingECG  MaxHR  \\\n",
       "0   40   M           ATA        140          289          0     Normal    172   \n",
       "1   49   F           NAP        160          180          0     Normal    156   \n",
       "2   37   M           ATA        130          283          0         ST     98   \n",
       "3   48   F           ASY        138          214          0     Normal    108   \n",
       "4   54   M           NAP        150          195          0     Normal    122   \n",
       "\n",
       "  ExerciseAngina  Oldpeak ST_Slope  \n",
       "0              N      0.0       Up  \n",
       "1              N      1.0     Flat  \n",
       "2              N      0.0       Up  \n",
       "3              Y      1.5     Flat  \n",
       "4              N      0.0       Up  "
      ]
     },
     "execution_count": 13,
     "metadata": {},
     "output_type": "execute_result"
    }
   ],
   "source": [
    "x.head(5)"
   ]
  },
  {
   "cell_type": "code",
   "execution_count": 14,
   "id": "34f11d83",
   "metadata": {
    "execution": {
     "iopub.execute_input": "2023-01-25T05:20:51.939279Z",
     "iopub.status.busy": "2023-01-25T05:20:51.938570Z",
     "iopub.status.idle": "2023-01-25T05:20:51.942496Z",
     "shell.execute_reply": "2023-01-25T05:20:51.943052Z",
     "shell.execute_reply.started": "2022-01-31T12:27:41.489534Z"
    },
    "papermill": {
     "duration": 0.061497,
     "end_time": "2023-01-25T05:20:51.943238",
     "exception": false,
     "start_time": "2023-01-25T05:20:51.881741",
     "status": "completed"
    },
    "tags": []
   },
   "outputs": [],
   "source": [
    "nom_cols=[2,6,10]\n",
    "ord_cols=[1,8]"
   ]
  },
  {
   "cell_type": "code",
   "execution_count": 15,
   "id": "e2035bac",
   "metadata": {
    "execution": {
     "iopub.execute_input": "2023-01-25T05:20:52.055783Z",
     "iopub.status.busy": "2023-01-25T05:20:52.055081Z",
     "iopub.status.idle": "2023-01-25T05:20:52.078583Z",
     "shell.execute_reply": "2023-01-25T05:20:52.078040Z",
     "shell.execute_reply.started": "2022-01-31T12:27:41.495183Z"
    },
    "papermill": {
     "duration": 0.08044,
     "end_time": "2023-01-25T05:20:52.078741",
     "exception": false,
     "start_time": "2023-01-25T05:20:51.998301",
     "status": "completed"
    },
    "tags": []
   },
   "outputs": [
    {
     "data": {
      "text/html": [
       "<style>div.sk-top-container {color: black;background-color: white;}div.sk-toggleable {background-color: white;}label.sk-toggleable__label {cursor: pointer;display: block;width: 100%;margin-bottom: 0;padding: 0.2em 0.3em;box-sizing: border-box;text-align: center;}div.sk-toggleable__content {max-height: 0;max-width: 0;overflow: hidden;text-align: left;background-color: #f0f8ff;}div.sk-toggleable__content pre {margin: 0.2em;color: black;border-radius: 0.25em;background-color: #f0f8ff;}input.sk-toggleable__control:checked~div.sk-toggleable__content {max-height: 200px;max-width: 100%;overflow: auto;}div.sk-estimator input.sk-toggleable__control:checked~label.sk-toggleable__label {background-color: #d4ebff;}div.sk-label input.sk-toggleable__control:checked~label.sk-toggleable__label {background-color: #d4ebff;}input.sk-hidden--visually {border: 0;clip: rect(1px 1px 1px 1px);clip: rect(1px, 1px, 1px, 1px);height: 1px;margin: -1px;overflow: hidden;padding: 0;position: absolute;width: 1px;}div.sk-estimator {font-family: monospace;background-color: #f0f8ff;margin: 0.25em 0.25em;border: 1px dotted black;border-radius: 0.25em;box-sizing: border-box;}div.sk-estimator:hover {background-color: #d4ebff;}div.sk-parallel-item::after {content: \"\";width: 100%;border-bottom: 1px solid gray;flex-grow: 1;}div.sk-label:hover label.sk-toggleable__label {background-color: #d4ebff;}div.sk-serial::before {content: \"\";position: absolute;border-left: 1px solid gray;box-sizing: border-box;top: 2em;bottom: 0;left: 50%;}div.sk-serial {display: flex;flex-direction: column;align-items: center;background-color: white;}div.sk-item {z-index: 1;}div.sk-parallel {display: flex;align-items: stretch;justify-content: center;background-color: white;}div.sk-parallel-item {display: flex;flex-direction: column;position: relative;background-color: white;}div.sk-parallel-item:first-child::after {align-self: flex-end;width: 50%;}div.sk-parallel-item:last-child::after {align-self: flex-start;width: 50%;}div.sk-parallel-item:only-child::after {width: 0;}div.sk-dashed-wrapped {border: 1px dashed gray;margin: 0.2em;box-sizing: border-box;padding-bottom: 0.1em;background-color: white;position: relative;}div.sk-label label {font-family: monospace;font-weight: bold;background-color: white;display: inline-block;line-height: 1.2em;}div.sk-label-container {position: relative;z-index: 2;text-align: center;}div.sk-container {display: inline-block;position: relative;}</style><div class=\"sk-top-container\"><div class=\"sk-container\"><div class=\"sk-item sk-dashed-wrapped\"><div class=\"sk-label-container\"><div class=\"sk-label sk-toggleable\"><input class=\"sk-toggleable__control sk-hidden--visually\" id=\"8ed97c63-e2f5-4461-8ae4-bc3a78477825\" type=\"checkbox\" ><label class=\"sk-toggleable__label\" for=\"8ed97c63-e2f5-4461-8ae4-bc3a78477825\">ColumnTransformer</label><div class=\"sk-toggleable__content\"><pre>ColumnTransformer(remainder='passthrough',\n",
       "                  transformers=[('onehotencoder', OneHotEncoder(sparse='false'),\n",
       "                                 [2, 6, 10]),\n",
       "                                ('ordinalencoder', OrdinalEncoder(), [1, 8])])</pre></div></div></div><div class=\"sk-parallel\"><div class=\"sk-parallel-item\"><div class=\"sk-item\"><div class=\"sk-label-container\"><div class=\"sk-label sk-toggleable\"><input class=\"sk-toggleable__control sk-hidden--visually\" id=\"09afcd61-beef-4947-be19-3346e34d469e\" type=\"checkbox\" ><label class=\"sk-toggleable__label\" for=\"09afcd61-beef-4947-be19-3346e34d469e\">onehotencoder</label><div class=\"sk-toggleable__content\"><pre>[2, 6, 10]</pre></div></div></div><div class=\"sk-serial\"><div class=\"sk-item\"><div class=\"sk-estimator sk-toggleable\"><input class=\"sk-toggleable__control sk-hidden--visually\" id=\"65354fa4-1c4a-44af-8d66-b79cdaa421b3\" type=\"checkbox\" ><label class=\"sk-toggleable__label\" for=\"65354fa4-1c4a-44af-8d66-b79cdaa421b3\">OneHotEncoder</label><div class=\"sk-toggleable__content\"><pre>OneHotEncoder(sparse='false')</pre></div></div></div></div></div></div><div class=\"sk-parallel-item\"><div class=\"sk-item\"><div class=\"sk-label-container\"><div class=\"sk-label sk-toggleable\"><input class=\"sk-toggleable__control sk-hidden--visually\" id=\"50460f95-ced3-4311-b535-5efb49ed19ca\" type=\"checkbox\" ><label class=\"sk-toggleable__label\" for=\"50460f95-ced3-4311-b535-5efb49ed19ca\">ordinalencoder</label><div class=\"sk-toggleable__content\"><pre>[1, 8]</pre></div></div></div><div class=\"sk-serial\"><div class=\"sk-item\"><div class=\"sk-estimator sk-toggleable\"><input class=\"sk-toggleable__control sk-hidden--visually\" id=\"e3ed713a-88c6-421a-800b-b3972300db57\" type=\"checkbox\" ><label class=\"sk-toggleable__label\" for=\"e3ed713a-88c6-421a-800b-b3972300db57\">OrdinalEncoder</label><div class=\"sk-toggleable__content\"><pre>OrdinalEncoder()</pre></div></div></div></div></div></div></div></div></div></div>"
      ],
      "text/plain": [
       "ColumnTransformer(remainder='passthrough',\n",
       "                  transformers=[('onehotencoder', OneHotEncoder(sparse='false'),\n",
       "                                 [2, 6, 10]),\n",
       "                                ('ordinalencoder', OrdinalEncoder(), [1, 8])])"
      ]
     },
     "execution_count": 15,
     "metadata": {},
     "output_type": "execute_result"
    }
   ],
   "source": [
    "from sklearn.preprocessing import OneHotEncoder,OrdinalEncoder\n",
    "from sklearn.compose import make_column_transformer\n",
    "from sklearn import set_config\n",
    "trans=make_column_transformer((OneHotEncoder(sparse='false'),nom_cols),(OrdinalEncoder(),ord_cols),\n",
    "                                                         remainder='passthrough')\n",
    "set_config(display='diagram')\n",
    "trans"
   ]
  },
  {
   "cell_type": "code",
   "execution_count": 16,
   "id": "0d9d4f13",
   "metadata": {
    "execution": {
     "iopub.execute_input": "2023-01-25T05:20:52.194768Z",
     "iopub.status.busy": "2023-01-25T05:20:52.193961Z",
     "iopub.status.idle": "2023-01-25T05:20:52.345074Z",
     "shell.execute_reply": "2023-01-25T05:20:52.344439Z",
     "shell.execute_reply.started": "2022-01-31T12:27:41.528470Z"
    },
    "papermill": {
     "duration": 0.210484,
     "end_time": "2023-01-25T05:20:52.345228",
     "exception": false,
     "start_time": "2023-01-25T05:20:52.134744",
     "status": "completed"
    },
    "tags": []
   },
   "outputs": [
    {
     "data": {
      "text/html": [
       "<style>div.sk-top-container {color: black;background-color: white;}div.sk-toggleable {background-color: white;}label.sk-toggleable__label {cursor: pointer;display: block;width: 100%;margin-bottom: 0;padding: 0.2em 0.3em;box-sizing: border-box;text-align: center;}div.sk-toggleable__content {max-height: 0;max-width: 0;overflow: hidden;text-align: left;background-color: #f0f8ff;}div.sk-toggleable__content pre {margin: 0.2em;color: black;border-radius: 0.25em;background-color: #f0f8ff;}input.sk-toggleable__control:checked~div.sk-toggleable__content {max-height: 200px;max-width: 100%;overflow: auto;}div.sk-estimator input.sk-toggleable__control:checked~label.sk-toggleable__label {background-color: #d4ebff;}div.sk-label input.sk-toggleable__control:checked~label.sk-toggleable__label {background-color: #d4ebff;}input.sk-hidden--visually {border: 0;clip: rect(1px 1px 1px 1px);clip: rect(1px, 1px, 1px, 1px);height: 1px;margin: -1px;overflow: hidden;padding: 0;position: absolute;width: 1px;}div.sk-estimator {font-family: monospace;background-color: #f0f8ff;margin: 0.25em 0.25em;border: 1px dotted black;border-radius: 0.25em;box-sizing: border-box;}div.sk-estimator:hover {background-color: #d4ebff;}div.sk-parallel-item::after {content: \"\";width: 100%;border-bottom: 1px solid gray;flex-grow: 1;}div.sk-label:hover label.sk-toggleable__label {background-color: #d4ebff;}div.sk-serial::before {content: \"\";position: absolute;border-left: 1px solid gray;box-sizing: border-box;top: 2em;bottom: 0;left: 50%;}div.sk-serial {display: flex;flex-direction: column;align-items: center;background-color: white;}div.sk-item {z-index: 1;}div.sk-parallel {display: flex;align-items: stretch;justify-content: center;background-color: white;}div.sk-parallel-item {display: flex;flex-direction: column;position: relative;background-color: white;}div.sk-parallel-item:first-child::after {align-self: flex-end;width: 50%;}div.sk-parallel-item:last-child::after {align-self: flex-start;width: 50%;}div.sk-parallel-item:only-child::after {width: 0;}div.sk-dashed-wrapped {border: 1px dashed gray;margin: 0.2em;box-sizing: border-box;padding-bottom: 0.1em;background-color: white;position: relative;}div.sk-label label {font-family: monospace;font-weight: bold;background-color: white;display: inline-block;line-height: 1.2em;}div.sk-label-container {position: relative;z-index: 2;text-align: center;}div.sk-container {display: inline-block;position: relative;}</style><div class=\"sk-top-container\"><div class=\"sk-container\"><div class=\"sk-item\"><div class=\"sk-estimator sk-toggleable\"><input class=\"sk-toggleable__control sk-hidden--visually\" id=\"6da1c7d8-8f10-4da5-8c3c-df749e03565f\" type=\"checkbox\" checked><label class=\"sk-toggleable__label\" for=\"6da1c7d8-8f10-4da5-8c3c-df749e03565f\">KNeighborsClassifier</label><div class=\"sk-toggleable__content\"><pre>KNeighborsClassifier(n_neighbors=30)</pre></div></div></div></div></div>"
      ],
      "text/plain": [
       "KNeighborsClassifier(n_neighbors=30)"
      ]
     },
     "execution_count": 16,
     "metadata": {},
     "output_type": "execute_result"
    }
   ],
   "source": [
    "from sklearn.neighbors import KNeighborsClassifier\n",
    "algorithm=KNeighborsClassifier(n_neighbors=30)\n",
    "algorithm"
   ]
  },
  {
   "cell_type": "code",
   "execution_count": 17,
   "id": "ab924942",
   "metadata": {
    "execution": {
     "iopub.execute_input": "2023-01-25T05:20:52.480319Z",
     "iopub.status.busy": "2023-01-25T05:20:52.469576Z",
     "iopub.status.idle": "2023-01-25T05:20:52.496803Z",
     "shell.execute_reply": "2023-01-25T05:20:52.497387Z",
     "shell.execute_reply.started": "2022-01-31T12:27:41.674410Z"
    },
    "papermill": {
     "duration": 0.096232,
     "end_time": "2023-01-25T05:20:52.497613",
     "exception": false,
     "start_time": "2023-01-25T05:20:52.401381",
     "status": "completed"
    },
    "tags": []
   },
   "outputs": [
    {
     "data": {
      "text/html": [
       "<style>div.sk-top-container {color: black;background-color: white;}div.sk-toggleable {background-color: white;}label.sk-toggleable__label {cursor: pointer;display: block;width: 100%;margin-bottom: 0;padding: 0.2em 0.3em;box-sizing: border-box;text-align: center;}div.sk-toggleable__content {max-height: 0;max-width: 0;overflow: hidden;text-align: left;background-color: #f0f8ff;}div.sk-toggleable__content pre {margin: 0.2em;color: black;border-radius: 0.25em;background-color: #f0f8ff;}input.sk-toggleable__control:checked~div.sk-toggleable__content {max-height: 200px;max-width: 100%;overflow: auto;}div.sk-estimator input.sk-toggleable__control:checked~label.sk-toggleable__label {background-color: #d4ebff;}div.sk-label input.sk-toggleable__control:checked~label.sk-toggleable__label {background-color: #d4ebff;}input.sk-hidden--visually {border: 0;clip: rect(1px 1px 1px 1px);clip: rect(1px, 1px, 1px, 1px);height: 1px;margin: -1px;overflow: hidden;padding: 0;position: absolute;width: 1px;}div.sk-estimator {font-family: monospace;background-color: #f0f8ff;margin: 0.25em 0.25em;border: 1px dotted black;border-radius: 0.25em;box-sizing: border-box;}div.sk-estimator:hover {background-color: #d4ebff;}div.sk-parallel-item::after {content: \"\";width: 100%;border-bottom: 1px solid gray;flex-grow: 1;}div.sk-label:hover label.sk-toggleable__label {background-color: #d4ebff;}div.sk-serial::before {content: \"\";position: absolute;border-left: 1px solid gray;box-sizing: border-box;top: 2em;bottom: 0;left: 50%;}div.sk-serial {display: flex;flex-direction: column;align-items: center;background-color: white;}div.sk-item {z-index: 1;}div.sk-parallel {display: flex;align-items: stretch;justify-content: center;background-color: white;}div.sk-parallel-item {display: flex;flex-direction: column;position: relative;background-color: white;}div.sk-parallel-item:first-child::after {align-self: flex-end;width: 50%;}div.sk-parallel-item:last-child::after {align-self: flex-start;width: 50%;}div.sk-parallel-item:only-child::after {width: 0;}div.sk-dashed-wrapped {border: 1px dashed gray;margin: 0.2em;box-sizing: border-box;padding-bottom: 0.1em;background-color: white;position: relative;}div.sk-label label {font-family: monospace;font-weight: bold;background-color: white;display: inline-block;line-height: 1.2em;}div.sk-label-container {position: relative;z-index: 2;text-align: center;}div.sk-container {display: inline-block;position: relative;}</style><div class=\"sk-top-container\"><div class=\"sk-container\"><div class=\"sk-item sk-dashed-wrapped\"><div class=\"sk-label-container\"><div class=\"sk-label sk-toggleable\"><input class=\"sk-toggleable__control sk-hidden--visually\" id=\"4ca400bb-a038-4d30-beb5-f99d369a580c\" type=\"checkbox\" ><label class=\"sk-toggleable__label\" for=\"4ca400bb-a038-4d30-beb5-f99d369a580c\">Pipeline</label><div class=\"sk-toggleable__content\"><pre>Pipeline(steps=[('columntransformer',\n",
       "                 ColumnTransformer(remainder='passthrough',\n",
       "                                   transformers=[('onehotencoder',\n",
       "                                                  OneHotEncoder(sparse='false'),\n",
       "                                                  [2, 6, 10]),\n",
       "                                                 ('ordinalencoder',\n",
       "                                                  OrdinalEncoder(), [1, 8])])),\n",
       "                ('kneighborsclassifier', KNeighborsClassifier(n_neighbors=30))])</pre></div></div></div><div class=\"sk-serial\"><div class=\"sk-item sk-dashed-wrapped\"><div class=\"sk-label-container\"><div class=\"sk-label sk-toggleable\"><input class=\"sk-toggleable__control sk-hidden--visually\" id=\"e6e0c693-9c3d-4a01-8961-9159181ec8f6\" type=\"checkbox\" ><label class=\"sk-toggleable__label\" for=\"e6e0c693-9c3d-4a01-8961-9159181ec8f6\">columntransformer: ColumnTransformer</label><div class=\"sk-toggleable__content\"><pre>ColumnTransformer(remainder='passthrough',\n",
       "                  transformers=[('onehotencoder', OneHotEncoder(sparse='false'),\n",
       "                                 [2, 6, 10]),\n",
       "                                ('ordinalencoder', OrdinalEncoder(), [1, 8])])</pre></div></div></div><div class=\"sk-parallel\"><div class=\"sk-parallel-item\"><div class=\"sk-item\"><div class=\"sk-label-container\"><div class=\"sk-label sk-toggleable\"><input class=\"sk-toggleable__control sk-hidden--visually\" id=\"454225ce-3c92-4434-a920-c89063824c95\" type=\"checkbox\" ><label class=\"sk-toggleable__label\" for=\"454225ce-3c92-4434-a920-c89063824c95\">onehotencoder</label><div class=\"sk-toggleable__content\"><pre>[2, 6, 10]</pre></div></div></div><div class=\"sk-serial\"><div class=\"sk-item\"><div class=\"sk-estimator sk-toggleable\"><input class=\"sk-toggleable__control sk-hidden--visually\" id=\"3a07d8d5-59ea-4124-b329-466911a16cfd\" type=\"checkbox\" ><label class=\"sk-toggleable__label\" for=\"3a07d8d5-59ea-4124-b329-466911a16cfd\">OneHotEncoder</label><div class=\"sk-toggleable__content\"><pre>OneHotEncoder(sparse='false')</pre></div></div></div></div></div></div><div class=\"sk-parallel-item\"><div class=\"sk-item\"><div class=\"sk-label-container\"><div class=\"sk-label sk-toggleable\"><input class=\"sk-toggleable__control sk-hidden--visually\" id=\"e38e559b-7335-4f7f-8661-13b87ee6b18d\" type=\"checkbox\" ><label class=\"sk-toggleable__label\" for=\"e38e559b-7335-4f7f-8661-13b87ee6b18d\">ordinalencoder</label><div class=\"sk-toggleable__content\"><pre>[1, 8]</pre></div></div></div><div class=\"sk-serial\"><div class=\"sk-item\"><div class=\"sk-estimator sk-toggleable\"><input class=\"sk-toggleable__control sk-hidden--visually\" id=\"5573af10-9322-4046-ba61-fbb9678a5627\" type=\"checkbox\" ><label class=\"sk-toggleable__label\" for=\"5573af10-9322-4046-ba61-fbb9678a5627\">OrdinalEncoder</label><div class=\"sk-toggleable__content\"><pre>OrdinalEncoder()</pre></div></div></div></div></div></div></div></div><div class=\"sk-item\"><div class=\"sk-estimator sk-toggleable\"><input class=\"sk-toggleable__control sk-hidden--visually\" id=\"722b0d44-a551-4de9-9a84-d60871adf4e3\" type=\"checkbox\" ><label class=\"sk-toggleable__label\" for=\"722b0d44-a551-4de9-9a84-d60871adf4e3\">KNeighborsClassifier</label><div class=\"sk-toggleable__content\"><pre>KNeighborsClassifier(n_neighbors=30)</pre></div></div></div></div></div></div></div>"
      ],
      "text/plain": [
       "Pipeline(steps=[('columntransformer',\n",
       "                 ColumnTransformer(remainder='passthrough',\n",
       "                                   transformers=[('onehotencoder',\n",
       "                                                  OneHotEncoder(sparse='false'),\n",
       "                                                  [2, 6, 10]),\n",
       "                                                 ('ordinalencoder',\n",
       "                                                  OrdinalEncoder(), [1, 8])])),\n",
       "                ('kneighborsclassifier', KNeighborsClassifier(n_neighbors=30))])"
      ]
     },
     "execution_count": 17,
     "metadata": {},
     "output_type": "execute_result"
    }
   ],
   "source": [
    "from sklearn.pipeline import make_pipeline\n",
    "pipe=make_pipeline(trans,algorithm)\n",
    "pipe"
   ]
  },
  {
   "cell_type": "code",
   "execution_count": 18,
   "id": "0cf15dd7",
   "metadata": {
    "execution": {
     "iopub.execute_input": "2023-01-25T05:20:52.611321Z",
     "iopub.status.busy": "2023-01-25T05:20:52.610243Z",
     "iopub.status.idle": "2023-01-25T05:20:52.654916Z",
     "shell.execute_reply": "2023-01-25T05:20:52.655388Z",
     "shell.execute_reply.started": "2022-01-31T12:27:41.718893Z"
    },
    "papermill": {
     "duration": 0.103138,
     "end_time": "2023-01-25T05:20:52.655627",
     "exception": false,
     "start_time": "2023-01-25T05:20:52.552489",
     "status": "completed"
    },
    "tags": []
   },
   "outputs": [
    {
     "data": {
      "text/html": [
       "<style>div.sk-top-container {color: black;background-color: white;}div.sk-toggleable {background-color: white;}label.sk-toggleable__label {cursor: pointer;display: block;width: 100%;margin-bottom: 0;padding: 0.2em 0.3em;box-sizing: border-box;text-align: center;}div.sk-toggleable__content {max-height: 0;max-width: 0;overflow: hidden;text-align: left;background-color: #f0f8ff;}div.sk-toggleable__content pre {margin: 0.2em;color: black;border-radius: 0.25em;background-color: #f0f8ff;}input.sk-toggleable__control:checked~div.sk-toggleable__content {max-height: 200px;max-width: 100%;overflow: auto;}div.sk-estimator input.sk-toggleable__control:checked~label.sk-toggleable__label {background-color: #d4ebff;}div.sk-label input.sk-toggleable__control:checked~label.sk-toggleable__label {background-color: #d4ebff;}input.sk-hidden--visually {border: 0;clip: rect(1px 1px 1px 1px);clip: rect(1px, 1px, 1px, 1px);height: 1px;margin: -1px;overflow: hidden;padding: 0;position: absolute;width: 1px;}div.sk-estimator {font-family: monospace;background-color: #f0f8ff;margin: 0.25em 0.25em;border: 1px dotted black;border-radius: 0.25em;box-sizing: border-box;}div.sk-estimator:hover {background-color: #d4ebff;}div.sk-parallel-item::after {content: \"\";width: 100%;border-bottom: 1px solid gray;flex-grow: 1;}div.sk-label:hover label.sk-toggleable__label {background-color: #d4ebff;}div.sk-serial::before {content: \"\";position: absolute;border-left: 1px solid gray;box-sizing: border-box;top: 2em;bottom: 0;left: 50%;}div.sk-serial {display: flex;flex-direction: column;align-items: center;background-color: white;}div.sk-item {z-index: 1;}div.sk-parallel {display: flex;align-items: stretch;justify-content: center;background-color: white;}div.sk-parallel-item {display: flex;flex-direction: column;position: relative;background-color: white;}div.sk-parallel-item:first-child::after {align-self: flex-end;width: 50%;}div.sk-parallel-item:last-child::after {align-self: flex-start;width: 50%;}div.sk-parallel-item:only-child::after {width: 0;}div.sk-dashed-wrapped {border: 1px dashed gray;margin: 0.2em;box-sizing: border-box;padding-bottom: 0.1em;background-color: white;position: relative;}div.sk-label label {font-family: monospace;font-weight: bold;background-color: white;display: inline-block;line-height: 1.2em;}div.sk-label-container {position: relative;z-index: 2;text-align: center;}div.sk-container {display: inline-block;position: relative;}</style><div class=\"sk-top-container\"><div class=\"sk-container\"><div class=\"sk-item sk-dashed-wrapped\"><div class=\"sk-label-container\"><div class=\"sk-label sk-toggleable\"><input class=\"sk-toggleable__control sk-hidden--visually\" id=\"925b09fa-0ce5-4956-9ee0-66fcda17141a\" type=\"checkbox\" ><label class=\"sk-toggleable__label\" for=\"925b09fa-0ce5-4956-9ee0-66fcda17141a\">Pipeline</label><div class=\"sk-toggleable__content\"><pre>Pipeline(steps=[('columntransformer',\n",
       "                 ColumnTransformer(remainder='passthrough',\n",
       "                                   transformers=[('onehotencoder',\n",
       "                                                  OneHotEncoder(sparse='false'),\n",
       "                                                  [2, 6, 10]),\n",
       "                                                 ('ordinalencoder',\n",
       "                                                  OrdinalEncoder(), [1, 8])])),\n",
       "                ('kneighborsclassifier', KNeighborsClassifier(n_neighbors=30))])</pre></div></div></div><div class=\"sk-serial\"><div class=\"sk-item sk-dashed-wrapped\"><div class=\"sk-label-container\"><div class=\"sk-label sk-toggleable\"><input class=\"sk-toggleable__control sk-hidden--visually\" id=\"e9ec61ae-b525-4374-93fb-c05cf0d5428c\" type=\"checkbox\" ><label class=\"sk-toggleable__label\" for=\"e9ec61ae-b525-4374-93fb-c05cf0d5428c\">columntransformer: ColumnTransformer</label><div class=\"sk-toggleable__content\"><pre>ColumnTransformer(remainder='passthrough',\n",
       "                  transformers=[('onehotencoder', OneHotEncoder(sparse='false'),\n",
       "                                 [2, 6, 10]),\n",
       "                                ('ordinalencoder', OrdinalEncoder(), [1, 8])])</pre></div></div></div><div class=\"sk-parallel\"><div class=\"sk-parallel-item\"><div class=\"sk-item\"><div class=\"sk-label-container\"><div class=\"sk-label sk-toggleable\"><input class=\"sk-toggleable__control sk-hidden--visually\" id=\"7b91de6c-6262-487b-a798-38d368f5f723\" type=\"checkbox\" ><label class=\"sk-toggleable__label\" for=\"7b91de6c-6262-487b-a798-38d368f5f723\">onehotencoder</label><div class=\"sk-toggleable__content\"><pre>[2, 6, 10]</pre></div></div></div><div class=\"sk-serial\"><div class=\"sk-item\"><div class=\"sk-estimator sk-toggleable\"><input class=\"sk-toggleable__control sk-hidden--visually\" id=\"893844d3-36a6-4080-a93f-5b5b882c0b56\" type=\"checkbox\" ><label class=\"sk-toggleable__label\" for=\"893844d3-36a6-4080-a93f-5b5b882c0b56\">OneHotEncoder</label><div class=\"sk-toggleable__content\"><pre>OneHotEncoder(sparse='false')</pre></div></div></div></div></div></div><div class=\"sk-parallel-item\"><div class=\"sk-item\"><div class=\"sk-label-container\"><div class=\"sk-label sk-toggleable\"><input class=\"sk-toggleable__control sk-hidden--visually\" id=\"da97220a-a1be-4e17-9f6a-f56c7ef64923\" type=\"checkbox\" ><label class=\"sk-toggleable__label\" for=\"da97220a-a1be-4e17-9f6a-f56c7ef64923\">ordinalencoder</label><div class=\"sk-toggleable__content\"><pre>[1, 8]</pre></div></div></div><div class=\"sk-serial\"><div class=\"sk-item\"><div class=\"sk-estimator sk-toggleable\"><input class=\"sk-toggleable__control sk-hidden--visually\" id=\"ff375db7-e62d-44b4-8ffd-98ee3faec950\" type=\"checkbox\" ><label class=\"sk-toggleable__label\" for=\"ff375db7-e62d-44b4-8ffd-98ee3faec950\">OrdinalEncoder</label><div class=\"sk-toggleable__content\"><pre>OrdinalEncoder()</pre></div></div></div></div></div></div></div></div><div class=\"sk-item\"><div class=\"sk-estimator sk-toggleable\"><input class=\"sk-toggleable__control sk-hidden--visually\" id=\"9f882e08-51f7-4605-b72d-5745b4eb37de\" type=\"checkbox\" ><label class=\"sk-toggleable__label\" for=\"9f882e08-51f7-4605-b72d-5745b4eb37de\">KNeighborsClassifier</label><div class=\"sk-toggleable__content\"><pre>KNeighborsClassifier(n_neighbors=30)</pre></div></div></div></div></div></div></div>"
      ],
      "text/plain": [
       "Pipeline(steps=[('columntransformer',\n",
       "                 ColumnTransformer(remainder='passthrough',\n",
       "                                   transformers=[('onehotencoder',\n",
       "                                                  OneHotEncoder(sparse='false'),\n",
       "                                                  [2, 6, 10]),\n",
       "                                                 ('ordinalencoder',\n",
       "                                                  OrdinalEncoder(), [1, 8])])),\n",
       "                ('kneighborsclassifier', KNeighborsClassifier(n_neighbors=30))])"
      ]
     },
     "execution_count": 18,
     "metadata": {},
     "output_type": "execute_result"
    }
   ],
   "source": [
    "pipe.fit(x_train,y_train)"
   ]
  },
  {
   "cell_type": "code",
   "execution_count": 19,
   "id": "503dc0af",
   "metadata": {
    "execution": {
     "iopub.execute_input": "2023-01-25T05:20:52.769274Z",
     "iopub.status.busy": "2023-01-25T05:20:52.768258Z",
     "iopub.status.idle": "2023-01-25T05:20:52.794140Z",
     "shell.execute_reply": "2023-01-25T05:20:52.794649Z",
     "shell.execute_reply.started": "2022-01-31T12:27:41.774181Z"
    },
    "papermill": {
     "duration": 0.084181,
     "end_time": "2023-01-25T05:20:52.794838",
     "exception": false,
     "start_time": "2023-01-25T05:20:52.710657",
     "status": "completed"
    },
    "tags": []
   },
   "outputs": [
    {
     "data": {
      "text/plain": [
       "array([0, 1, 1, 0, 0, 0, 0, 0, 1, 1, 0, 1, 1, 1, 0, 0, 1, 1, 1, 1, 1, 0,\n",
       "       0, 0, 0, 1, 0, 1, 0, 0, 1, 1, 1, 1, 1, 1, 0, 0, 1, 0, 1, 1, 0, 1,\n",
       "       0, 0, 1, 1, 0, 0, 1, 1, 0, 0, 0, 0, 0, 0, 0, 1, 0, 1, 1, 0, 0, 1,\n",
       "       1, 1, 1, 0, 0, 0, 1, 0, 1, 1, 1, 0, 1, 1, 0, 0, 1, 1, 1, 0, 1, 1,\n",
       "       0, 0, 1, 0, 0, 1, 1, 0, 0, 1, 0, 1, 0, 0, 1, 0, 0, 0, 0, 1, 1, 1,\n",
       "       0, 1, 0, 1, 1, 1, 0, 0, 1, 1, 0, 1, 1, 0, 1, 0, 0, 0, 1, 1, 1, 1,\n",
       "       1, 1, 0, 1, 1, 0, 1, 0, 1, 1, 1, 1, 1, 0, 0, 1, 0, 0, 0, 0, 0, 1,\n",
       "       0, 1, 0, 0, 1, 1, 0, 1, 1, 1, 1, 1, 0, 0, 1, 1, 1, 1, 1, 1, 1, 0,\n",
       "       1, 0, 1, 1, 0, 0, 0, 1, 0, 1, 0, 0, 0, 1, 1, 1, 0, 1, 0, 1, 1, 1,\n",
       "       0, 1, 0, 0, 0, 1, 0, 1, 0, 1, 0, 1, 1, 1, 0, 1, 1, 0, 1, 1, 1, 1,\n",
       "       1, 1, 1, 1, 0, 0, 1, 1, 1, 0, 1, 0, 0, 0, 1, 1, 0, 1, 1, 1, 1, 1,\n",
       "       1, 0, 0, 0, 1, 0, 1, 0, 0, 0, 1, 0, 1, 1, 1, 1, 1, 1, 1, 1, 1, 1,\n",
       "       1, 0, 1, 1, 0, 1, 0, 0, 0, 1, 1, 0, 1, 0, 1, 1, 1, 0, 1, 0, 0, 1,\n",
       "       0, 1, 1, 1, 1, 1, 1, 0, 1, 1, 1, 0, 1, 1, 1, 0, 0, 0, 1, 1, 1, 1,\n",
       "       0, 1, 0, 1, 1, 1, 1, 1, 1, 0, 1, 1, 0, 1])"
      ]
     },
     "execution_count": 19,
     "metadata": {},
     "output_type": "execute_result"
    }
   ],
   "source": [
    "pred=pipe.predict(x_test)\n",
    "pred"
   ]
  },
  {
   "cell_type": "code",
   "execution_count": 20,
   "id": "4dc776bc",
   "metadata": {
    "execution": {
     "iopub.execute_input": "2023-01-25T05:20:52.908783Z",
     "iopub.status.busy": "2023-01-25T05:20:52.907767Z",
     "iopub.status.idle": "2023-01-25T05:20:52.914315Z",
     "shell.execute_reply": "2023-01-25T05:20:52.914822Z",
     "shell.execute_reply.started": "2022-01-31T12:27:41.810374Z"
    },
    "papermill": {
     "duration": 0.065261,
     "end_time": "2023-01-25T05:20:52.915009",
     "exception": false,
     "start_time": "2023-01-25T05:20:52.849748",
     "status": "completed"
    },
    "tags": []
   },
   "outputs": [
    {
     "data": {
      "text/plain": [
       "43     0\n",
       "482    1\n",
       "177    0\n",
       "608    1\n",
       "834    0\n",
       "      ..\n",
       "909    1\n",
       "350    1\n",
       "545    0\n",
       "35     0\n",
       "277    1\n",
       "Name: HeartDisease, Length: 322, dtype: int64"
      ]
     },
     "execution_count": 20,
     "metadata": {},
     "output_type": "execute_result"
    }
   ],
   "source": [
    "y_test"
   ]
  },
  {
   "cell_type": "code",
   "execution_count": 21,
   "id": "c4e731af",
   "metadata": {
    "execution": {
     "iopub.execute_input": "2023-01-25T05:20:53.031159Z",
     "iopub.status.busy": "2023-01-25T05:20:53.030152Z",
     "iopub.status.idle": "2023-01-25T05:20:53.036449Z",
     "shell.execute_reply": "2023-01-25T05:20:53.036936Z",
     "shell.execute_reply.started": "2022-01-31T12:27:41.819743Z"
    },
    "papermill": {
     "duration": 0.067194,
     "end_time": "2023-01-25T05:20:53.037134",
     "exception": false,
     "start_time": "2023-01-25T05:20:52.969940",
     "status": "completed"
    },
    "tags": []
   },
   "outputs": [
    {
     "data": {
      "text/plain": [
       "69.87577639751554"
      ]
     },
     "execution_count": 21,
     "metadata": {},
     "output_type": "execute_result"
    }
   ],
   "source": [
    "from sklearn.metrics import accuracy_score\n",
    "accuracy_score(pred,y_test)*100"
   ]
  },
  {
   "cell_type": "raw",
   "id": "9156b114",
   "metadata": {
    "papermill": {
     "duration": 0.055906,
     "end_time": "2023-01-25T05:20:53.149651",
     "exception": false,
     "start_time": "2023-01-25T05:20:53.093745",
     "status": "completed"
    },
    "tags": []
   },
   "source": [
    "\n"
   ]
  },
  {
   "cell_type": "raw",
   "id": "3fdbe600",
   "metadata": {
    "execution": {
     "iopub.execute_input": "2022-01-05T13:31:13.877118Z",
     "iopub.status.busy": "2022-01-05T13:31:13.876542Z",
     "iopub.status.idle": "2022-01-05T13:31:14.196118Z",
     "shell.execute_reply": "2022-01-05T13:31:14.195534Z",
     "shell.execute_reply.started": "2022-01-05T13:31:13.877082Z"
    },
    "papermill": {
     "duration": 0.055765,
     "end_time": "2023-01-25T05:20:53.261132",
     "exception": false,
     "start_time": "2023-01-25T05:20:53.205367",
     "status": "completed"
    },
    "tags": []
   },
   "source": []
  },
  {
   "cell_type": "code",
   "execution_count": 22,
   "id": "ec8c11ea",
   "metadata": {
    "execution": {
     "iopub.execute_input": "2023-01-25T05:20:53.376599Z",
     "iopub.status.busy": "2023-01-25T05:20:53.375548Z",
     "iopub.status.idle": "2023-01-25T05:20:53.817708Z",
     "shell.execute_reply": "2023-01-25T05:20:53.817148Z",
     "shell.execute_reply.started": "2022-01-31T12:27:41.834561Z"
    },
    "papermill": {
     "duration": 0.501283,
     "end_time": "2023-01-25T05:20:53.817866",
     "exception": false,
     "start_time": "2023-01-25T05:20:53.316583",
     "status": "completed"
    },
    "tags": []
   },
   "outputs": [
    {
     "data": {
      "text/plain": [
       "<AxesSubplot:xlabel='HeartDisease', ylabel='Count'>"
      ]
     },
     "execution_count": 22,
     "metadata": {},
     "output_type": "execute_result"
    },
    {
     "data": {
      "image/png": "[encoded data removed]",
      "text/plain": [
       "<Figure size 432x288 with 1 Axes>"
      ]
     },
     "metadata": {
      "needs_background": "light"
     },
     "output_type": "display_data"
    }
   ],
   "source": [
    "import seaborn as sns\n",
    "sns.histplot(data.HeartDisease)"
   ]
  },
  {
   "cell_type": "code",
   "execution_count": 23,
   "id": "1006a840",
   "metadata": {
    "execution": {
     "iopub.execute_input": "2023-01-25T05:20:53.936409Z",
     "iopub.status.busy": "2023-01-25T05:20:53.935396Z",
     "iopub.status.idle": "2023-01-25T05:20:54.202984Z",
     "shell.execute_reply": "2023-01-25T05:20:54.203498Z",
     "shell.execute_reply.started": "2022-01-31T12:27:42.307639Z"
    },
    "papermill": {
     "duration": 0.328198,
     "end_time": "2023-01-25T05:20:54.203710",
     "exception": false,
     "start_time": "2023-01-25T05:20:53.875512",
     "status": "completed"
    },
    "tags": []
   },
   "outputs": [
    {
     "name": "stderr",
     "output_type": "stream",
     "text": [
      "/opt/conda/lib/python3.7/site-packages/seaborn/distributions.py:2619: FutureWarning: `distplot` is a deprecated function and will be removed in a future version. Please adapt your code to use either `displot` (a figure-level function with similar flexibility) or `histplot` (an axes-level function for histograms).\n",
      "  warnings.warn(msg, FutureWarning)\n"
     ]
    },
    {
     "data": {
      "text/plain": [
       "<AxesSubplot:xlabel='HeartDisease', ylabel='Density'>"
      ]
     },
     "execution_count": 23,
     "metadata": {},
     "output_type": "execute_result"
    },
    {
     "data": {
      "image/png": "[encoded data removed]",
      "text/plain": [
       "<Figure size 432x288 with 1 Axes>"
      ]
     },
     "metadata": {
      "needs_background": "light"
     },
     "output_type": "display_data"
    }
   ],
   "source": [
    "import seaborn as sns\n",
    "sns.distplot(data.HeartDisease)"
   ]
  },
  {
   "cell_type": "code",
   "execution_count": 24,
   "id": "273d1b79",
   "metadata": {
    "execution": {
     "iopub.execute_input": "2023-01-25T05:20:54.325633Z",
     "iopub.status.busy": "2023-01-25T05:20:54.324664Z",
     "iopub.status.idle": "2023-01-25T05:20:54.668476Z",
     "shell.execute_reply": "2023-01-25T05:20:54.667855Z",
     "shell.execute_reply.started": "2022-01-31T12:27:42.610711Z"
    },
    "papermill": {
     "duration": 0.406145,
     "end_time": "2023-01-25T05:20:54.668666",
     "exception": false,
     "start_time": "2023-01-25T05:20:54.262521",
     "status": "completed"
    },
    "tags": []
   },
   "outputs": [
    {
     "data": {
      "text/plain": [
       "<seaborn.axisgrid.FacetGrid at 0x7f8a0ce9a150>"
      ]
     },
     "execution_count": 24,
     "metadata": {},
     "output_type": "execute_result"
    },
    {
     "data": {
      "image/png": "[encoded data removed]",
      "text/plain": [
       "<Figure size 360x360 with 1 Axes>"
      ]
     },
     "metadata": {
      "needs_background": "light"
     },
     "output_type": "display_data"
    }
   ],
   "source": [
    "import seaborn as sns\n",
    "sns.displot(data.HeartDisease)"
   ]
  },
  {
   "cell_type": "code",
   "execution_count": 25,
   "id": "a457e12b",
   "metadata": {
    "execution": {
     "iopub.execute_input": "2023-01-25T05:20:54.792561Z",
     "iopub.status.busy": "2023-01-25T05:20:54.791555Z",
     "iopub.status.idle": "2023-01-25T05:20:55.001259Z",
     "shell.execute_reply": "2023-01-25T05:20:55.000702Z",
     "shell.execute_reply.started": "2022-01-31T12:27:43.002997Z"
    },
    "papermill": {
     "duration": 0.272198,
     "end_time": "2023-01-25T05:20:55.001428",
     "exception": false,
     "start_time": "2023-01-25T05:20:54.729230",
     "status": "completed"
    },
    "tags": []
   },
   "outputs": [
    {
     "data": {
      "text/plain": [
       "0    508\n",
       "1    508\n",
       "Name: HeartDisease, dtype: int64"
      ]
     },
     "execution_count": 25,
     "metadata": {},
     "output_type": "execute_result"
    }
   ],
   "source": [
    "from imblearn.over_sampling import RandomOverSampler\n",
    "over=RandomOverSampler()\n",
    "o_x,o_y=over.fit_resample(x,y)\n",
    "o_y.value_counts()"
   ]
  },
  {
   "cell_type": "code",
   "execution_count": 26,
   "id": "be2eab60",
   "metadata": {
    "execution": {
     "iopub.execute_input": "2023-01-25T05:20:55.133897Z",
     "iopub.status.busy": "2023-01-25T05:20:55.133180Z",
     "iopub.status.idle": "2023-01-25T05:20:55.166868Z",
     "shell.execute_reply": "2023-01-25T05:20:55.166141Z",
     "shell.execute_reply.started": "2022-01-31T12:27:43.199933Z"
    },
    "papermill": {
     "duration": 0.103101,
     "end_time": "2023-01-25T05:20:55.167022",
     "exception": false,
     "start_time": "2023-01-25T05:20:55.063921",
     "status": "completed"
    },
    "tags": []
   },
   "outputs": [
    {
     "data": {
      "text/html": [
       "<style>div.sk-top-container {color: black;background-color: white;}div.sk-toggleable {background-color: white;}label.sk-toggleable__label {cursor: pointer;display: block;width: 100%;margin-bottom: 0;padding: 0.2em 0.3em;box-sizing: border-box;text-align: center;}div.sk-toggleable__content {max-height: 0;max-width: 0;overflow: hidden;text-align: left;background-color: #f0f8ff;}div.sk-toggleable__content pre {margin: 0.2em;color: black;border-radius: 0.25em;background-color: #f0f8ff;}input.sk-toggleable__control:checked~div.sk-toggleable__content {max-height: 200px;max-width: 100%;overflow: auto;}div.sk-estimator input.sk-toggleable__control:checked~label.sk-toggleable__label {background-color: #d4ebff;}div.sk-label input.sk-toggleable__control:checked~label.sk-toggleable__label {background-color: #d4ebff;}input.sk-hidden--visually {border: 0;clip: rect(1px 1px 1px 1px);clip: rect(1px, 1px, 1px, 1px);height: 1px;margin: -1px;overflow: hidden;padding: 0;position: absolute;width: 1px;}div.sk-estimator {font-family: monospace;background-color: #f0f8ff;margin: 0.25em 0.25em;border: 1px dotted black;border-radius: 0.25em;box-sizing: border-box;}div.sk-estimator:hover {background-color: #d4ebff;}div.sk-parallel-item::after {content: \"\";width: 100%;border-bottom: 1px solid gray;flex-grow: 1;}div.sk-label:hover label.sk-toggleable__label {background-color: #d4ebff;}div.sk-serial::before {content: \"\";position: absolute;border-left: 1px solid gray;box-sizing: border-box;top: 2em;bottom: 0;left: 50%;}div.sk-serial {display: flex;flex-direction: column;align-items: center;background-color: white;}div.sk-item {z-index: 1;}div.sk-parallel {display: flex;align-items: stretch;justify-content: center;background-color: white;}div.sk-parallel-item {display: flex;flex-direction: column;position: relative;background-color: white;}div.sk-parallel-item:first-child::after {align-self: flex-end;width: 50%;}div.sk-parallel-item:last-child::after {align-self: flex-start;width: 50%;}div.sk-parallel-item:only-child::after {width: 0;}div.sk-dashed-wrapped {border: 1px dashed gray;margin: 0.2em;box-sizing: border-box;padding-bottom: 0.1em;background-color: white;position: relative;}div.sk-label label {font-family: monospace;font-weight: bold;background-color: white;display: inline-block;line-height: 1.2em;}div.sk-label-container {position: relative;z-index: 2;text-align: center;}div.sk-container {display: inline-block;position: relative;}</style><div class=\"sk-top-container\"><div class=\"sk-container\"><div class=\"sk-item sk-dashed-wrapped\"><div class=\"sk-label-container\"><div class=\"sk-label sk-toggleable\"><input class=\"sk-toggleable__control sk-hidden--visually\" id=\"7b8fc204-df23-4a3f-9593-8cd49ddb7b14\" type=\"checkbox\" ><label class=\"sk-toggleable__label\" for=\"7b8fc204-df23-4a3f-9593-8cd49ddb7b14\">Pipeline</label><div class=\"sk-toggleable__content\"><pre>Pipeline(steps=[('columntransformer',\n",
       "                 ColumnTransformer(remainder='passthrough',\n",
       "                                   transformers=[('onehotencoder',\n",
       "                                                  OneHotEncoder(sparse='false'),\n",
       "                                                  [2, 6, 10]),\n",
       "                                                 ('ordinalencoder',\n",
       "                                                  OrdinalEncoder(), [1, 8])])),\n",
       "                ('smote', SMOTE()),\n",
       "                ('kneighborsclassifier', KNeighborsClassifier(n_neighbors=30))])</pre></div></div></div><div class=\"sk-serial\"><div class=\"sk-item sk-dashed-wrapped\"><div class=\"sk-label-container\"><div class=\"sk-label sk-toggleable\"><input class=\"sk-toggleable__control sk-hidden--visually\" id=\"2643cef3-7576-4fc5-b4d4-d893a7b95f10\" type=\"checkbox\" ><label class=\"sk-toggleable__label\" for=\"2643cef3-7576-4fc5-b4d4-d893a7b95f10\">columntransformer: ColumnTransformer</label><div class=\"sk-toggleable__content\"><pre>ColumnTransformer(remainder='passthrough',\n",
       "                  transformers=[('onehotencoder', OneHotEncoder(sparse='false'),\n",
       "                                 [2, 6, 10]),\n",
       "                                ('ordinalencoder', OrdinalEncoder(), [1, 8])])</pre></div></div></div><div class=\"sk-parallel\"><div class=\"sk-parallel-item\"><div class=\"sk-item\"><div class=\"sk-label-container\"><div class=\"sk-label sk-toggleable\"><input class=\"sk-toggleable__control sk-hidden--visually\" id=\"38ae5499-d5e3-4362-8256-b85b4cab8596\" type=\"checkbox\" ><label class=\"sk-toggleable__label\" for=\"38ae5499-d5e3-4362-8256-b85b4cab8596\">onehotencoder</label><div class=\"sk-toggleable__content\"><pre>[2, 6, 10]</pre></div></div></div><div class=\"sk-serial\"><div class=\"sk-item\"><div class=\"sk-estimator sk-toggleable\"><input class=\"sk-toggleable__control sk-hidden--visually\" id=\"eadda8f1-5b4d-4539-a11b-e9364d307683\" type=\"checkbox\" ><label class=\"sk-toggleable__label\" for=\"eadda8f1-5b4d-4539-a11b-e9364d307683\">OneHotEncoder</label><div class=\"sk-toggleable__content\"><pre>OneHotEncoder(sparse='false')</pre></div></div></div></div></div></div><div class=\"sk-parallel-item\"><div class=\"sk-item\"><div class=\"sk-label-container\"><div class=\"sk-label sk-toggleable\"><input class=\"sk-toggleable__control sk-hidden--visually\" id=\"1f300588-020b-4e5f-b259-ec710794f89a\" type=\"checkbox\" ><label class=\"sk-toggleable__label\" for=\"1f300588-020b-4e5f-b259-ec710794f89a\">ordinalencoder</label><div class=\"sk-toggleable__content\"><pre>[1, 8]</pre></div></div></div><div class=\"sk-serial\"><div class=\"sk-item\"><div class=\"sk-estimator sk-toggleable\"><input class=\"sk-toggleable__control sk-hidden--visually\" id=\"fa0eaca4-857f-48cf-ae64-ddb89f49aad0\" type=\"checkbox\" ><label class=\"sk-toggleable__label\" for=\"fa0eaca4-857f-48cf-ae64-ddb89f49aad0\">OrdinalEncoder</label><div class=\"sk-toggleable__content\"><pre>OrdinalEncoder()</pre></div></div></div></div></div></div></div></div><div class=\"sk-item\"><div class=\"sk-estimator sk-toggleable\"><input class=\"sk-toggleable__control sk-hidden--visually\" id=\"c2f8fc42-7d66-4aab-982b-e9352976d61d\" type=\"checkbox\" ><label class=\"sk-toggleable__label\" for=\"c2f8fc42-7d66-4aab-982b-e9352976d61d\">SMOTE</label><div class=\"sk-toggleable__content\"><pre>SMOTE()</pre></div></div></div><div class=\"sk-item\"><div class=\"sk-estimator sk-toggleable\"><input class=\"sk-toggleable__control sk-hidden--visually\" id=\"e1cb5f21-b9b8-4c3e-bcb5-6f6eec4ccc64\" type=\"checkbox\" ><label class=\"sk-toggleable__label\" for=\"e1cb5f21-b9b8-4c3e-bcb5-6f6eec4ccc64\">KNeighborsClassifier</label><div class=\"sk-toggleable__content\"><pre>KNeighborsClassifier(n_neighbors=30)</pre></div></div></div></div></div></div></div>"
      ],
      "text/plain": [
       "Pipeline(steps=[('columntransformer',\n",
       "                 ColumnTransformer(remainder='passthrough',\n",
       "                                   transformers=[('onehotencoder',\n",
       "                                                  OneHotEncoder(sparse='false'),\n",
       "                                                  [2, 6, 10]),\n",
       "                                                 ('ordinalencoder',\n",
       "                                                  OrdinalEncoder(), [1, 8])])),\n",
       "                ('smote', SMOTE()),\n",
       "                ('kneighborsclassifier', KNeighborsClassifier(n_neighbors=30))])"
      ]
     },
     "execution_count": 26,
     "metadata": {},
     "output_type": "execute_result"
    }
   ],
   "source": [
    "from imblearn.over_sampling import SMOTE\n",
    "from imblearn.pipeline import make_pipeline\n",
    "s=SMOTE()\n",
    "n_pipe=make_pipeline(trans,s,algorithm)\n",
    "n_pipe"
   ]
  },
  {
   "cell_type": "code",
   "execution_count": 27,
   "id": "952b33cb",
   "metadata": {
    "execution": {
     "iopub.execute_input": "2023-01-25T05:20:55.295015Z",
     "iopub.status.busy": "2023-01-25T05:20:55.292879Z",
     "iopub.status.idle": "2023-01-25T05:20:55.340120Z",
     "shell.execute_reply": "2023-01-25T05:20:55.339480Z",
     "shell.execute_reply.started": "2022-01-31T12:27:43.244680Z"
    },
    "papermill": {
     "duration": 0.112904,
     "end_time": "2023-01-25T05:20:55.340272",
     "exception": false,
     "start_time": "2023-01-25T05:20:55.227368",
     "status": "completed"
    },
    "tags": []
   },
   "outputs": [
    {
     "data": {
      "text/html": [
       "<style>div.sk-top-container {color: black;background-color: white;}div.sk-toggleable {background-color: white;}label.sk-toggleable__label {cursor: pointer;display: block;width: 100%;margin-bottom: 0;padding: 0.2em 0.3em;box-sizing: border-box;text-align: center;}div.sk-toggleable__content {max-height: 0;max-width: 0;overflow: hidden;text-align: left;background-color: #f0f8ff;}div.sk-toggleable__content pre {margin: 0.2em;color: black;border-radius: 0.25em;background-color: #f0f8ff;}input.sk-toggleable__control:checked~div.sk-toggleable__content {max-height: 200px;max-width: 100%;overflow: auto;}div.sk-estimator input.sk-toggleable__control:checked~label.sk-toggleable__label {background-color: #d4ebff;}div.sk-label input.sk-toggleable__control:checked~label.sk-toggleable__label {background-color: #d4ebff;}input.sk-hidden--visually {border: 0;clip: rect(1px 1px 1px 1px);clip: rect(1px, 1px, 1px, 1px);height: 1px;margin: -1px;overflow: hidden;padding: 0;position: absolute;width: 1px;}div.sk-estimator {font-family: monospace;background-color: #f0f8ff;margin: 0.25em 0.25em;border: 1px dotted black;border-radius: 0.25em;box-sizing: border-box;}div.sk-estimator:hover {background-color: #d4ebff;}div.sk-parallel-item::after {content: \"\";width: 100%;border-bottom: 1px solid gray;flex-grow: 1;}div.sk-label:hover label.sk-toggleable__label {background-color: #d4ebff;}div.sk-serial::before {content: \"\";position: absolute;border-left: 1px solid gray;box-sizing: border-box;top: 2em;bottom: 0;left: 50%;}div.sk-serial {display: flex;flex-direction: column;align-items: center;background-color: white;}div.sk-item {z-index: 1;}div.sk-parallel {display: flex;align-items: stretch;justify-content: center;background-color: white;}div.sk-parallel-item {display: flex;flex-direction: column;position: relative;background-color: white;}div.sk-parallel-item:first-child::after {align-self: flex-end;width: 50%;}div.sk-parallel-item:last-child::after {align-self: flex-start;width: 50%;}div.sk-parallel-item:only-child::after {width: 0;}div.sk-dashed-wrapped {border: 1px dashed gray;margin: 0.2em;box-sizing: border-box;padding-bottom: 0.1em;background-color: white;position: relative;}div.sk-label label {font-family: monospace;font-weight: bold;background-color: white;display: inline-block;line-height: 1.2em;}div.sk-label-container {position: relative;z-index: 2;text-align: center;}div.sk-container {display: inline-block;position: relative;}</style><div class=\"sk-top-container\"><div class=\"sk-container\"><div class=\"sk-item sk-dashed-wrapped\"><div class=\"sk-label-container\"><div class=\"sk-label sk-toggleable\"><input class=\"sk-toggleable__control sk-hidden--visually\" id=\"f5ead820-7260-4bf2-9ff6-c58732686c68\" type=\"checkbox\" ><label class=\"sk-toggleable__label\" for=\"f5ead820-7260-4bf2-9ff6-c58732686c68\">Pipeline</label><div class=\"sk-toggleable__content\"><pre>Pipeline(steps=[('columntransformer',\n",
       "                 ColumnTransformer(remainder='passthrough',\n",
       "                                   transformers=[('onehotencoder',\n",
       "                                                  OneHotEncoder(sparse='false'),\n",
       "                                                  [2, 6, 10]),\n",
       "                                                 ('ordinalencoder',\n",
       "                                                  OrdinalEncoder(), [1, 8])])),\n",
       "                ('smote', SMOTE()),\n",
       "                ('kneighborsclassifier', KNeighborsClassifier(n_neighbors=30))])</pre></div></div></div><div class=\"sk-serial\"><div class=\"sk-item sk-dashed-wrapped\"><div class=\"sk-label-container\"><div class=\"sk-label sk-toggleable\"><input class=\"sk-toggleable__control sk-hidden--visually\" id=\"4ebf9ab0-95b7-4b1c-b203-e46b8acced1a\" type=\"checkbox\" ><label class=\"sk-toggleable__label\" for=\"4ebf9ab0-95b7-4b1c-b203-e46b8acced1a\">columntransformer: ColumnTransformer</label><div class=\"sk-toggleable__content\"><pre>ColumnTransformer(remainder='passthrough',\n",
       "                  transformers=[('onehotencoder', OneHotEncoder(sparse='false'),\n",
       "                                 [2, 6, 10]),\n",
       "                                ('ordinalencoder', OrdinalEncoder(), [1, 8])])</pre></div></div></div><div class=\"sk-parallel\"><div class=\"sk-parallel-item\"><div class=\"sk-item\"><div class=\"sk-label-container\"><div class=\"sk-label sk-toggleable\"><input class=\"sk-toggleable__control sk-hidden--visually\" id=\"b00edcf7-0d41-4aef-8409-9f8e8338e1f6\" type=\"checkbox\" ><label class=\"sk-toggleable__label\" for=\"b00edcf7-0d41-4aef-8409-9f8e8338e1f6\">onehotencoder</label><div class=\"sk-toggleable__content\"><pre>[2, 6, 10]</pre></div></div></div><div class=\"sk-serial\"><div class=\"sk-item\"><div class=\"sk-estimator sk-toggleable\"><input class=\"sk-toggleable__control sk-hidden--visually\" id=\"76403ed2-2589-4aaf-9e3a-f3b25cf1a546\" type=\"checkbox\" ><label class=\"sk-toggleable__label\" for=\"76403ed2-2589-4aaf-9e3a-f3b25cf1a546\">OneHotEncoder</label><div class=\"sk-toggleable__content\"><pre>OneHotEncoder(sparse='false')</pre></div></div></div></div></div></div><div class=\"sk-parallel-item\"><div class=\"sk-item\"><div class=\"sk-label-container\"><div class=\"sk-label sk-toggleable\"><input class=\"sk-toggleable__control sk-hidden--visually\" id=\"ce267623-11b3-4a2d-bb96-e1b64f49c9e8\" type=\"checkbox\" ><label class=\"sk-toggleable__label\" for=\"ce267623-11b3-4a2d-bb96-e1b64f49c9e8\">ordinalencoder</label><div class=\"sk-toggleable__content\"><pre>[1, 8]</pre></div></div></div><div class=\"sk-serial\"><div class=\"sk-item\"><div class=\"sk-estimator sk-toggleable\"><input class=\"sk-toggleable__control sk-hidden--visually\" id=\"b005de87-a9b3-494d-9a02-638d978b41fc\" type=\"checkbox\" ><label class=\"sk-toggleable__label\" for=\"b005de87-a9b3-494d-9a02-638d978b41fc\">OrdinalEncoder</label><div class=\"sk-toggleable__content\"><pre>OrdinalEncoder()</pre></div></div></div></div></div></div></div></div><div class=\"sk-item\"><div class=\"sk-estimator sk-toggleable\"><input class=\"sk-toggleable__control sk-hidden--visually\" id=\"dcfe1537-7d8e-4f5a-a3cb-1c2c4bfd0d88\" type=\"checkbox\" ><label class=\"sk-toggleable__label\" for=\"dcfe1537-7d8e-4f5a-a3cb-1c2c4bfd0d88\">SMOTE</label><div class=\"sk-toggleable__content\"><pre>SMOTE()</pre></div></div></div><div class=\"sk-item\"><div class=\"sk-estimator sk-toggleable\"><input class=\"sk-toggleable__control sk-hidden--visually\" id=\"6959a527-9258-4588-be31-c95ce394c2a2\" type=\"checkbox\" ><label class=\"sk-toggleable__label\" for=\"6959a527-9258-4588-be31-c95ce394c2a2\">KNeighborsClassifier</label><div class=\"sk-toggleable__content\"><pre>KNeighborsClassifier(n_neighbors=30)</pre></div></div></div></div></div></div></div>"
      ],
      "text/plain": [
       "Pipeline(steps=[('columntransformer',\n",
       "                 ColumnTransformer(remainder='passthrough',\n",
       "                                   transformers=[('onehotencoder',\n",
       "                                                  OneHotEncoder(sparse='false'),\n",
       "                                                  [2, 6, 10]),\n",
       "                                                 ('ordinalencoder',\n",
       "                                                  OrdinalEncoder(), [1, 8])])),\n",
       "                ('smote', SMOTE()),\n",
       "                ('kneighborsclassifier', KNeighborsClassifier(n_neighbors=30))])"
      ]
     },
     "execution_count": 27,
     "metadata": {},
     "output_type": "execute_result"
    }
   ],
   "source": [
    "n_pipe.fit(x_train,y_train)\n"
   ]
  },
  {
   "cell_type": "code",
   "execution_count": 28,
   "id": "37628eda",
   "metadata": {
    "execution": {
     "iopub.execute_input": "2023-01-25T05:20:55.474658Z",
     "iopub.status.busy": "2023-01-25T05:20:55.470688Z",
     "iopub.status.idle": "2023-01-25T05:20:55.495939Z",
     "shell.execute_reply": "2023-01-25T05:20:55.495294Z",
     "shell.execute_reply.started": "2022-01-31T12:27:43.302652Z"
    },
    "papermill": {
     "duration": 0.093968,
     "end_time": "2023-01-25T05:20:55.496128",
     "exception": false,
     "start_time": "2023-01-25T05:20:55.402160",
     "status": "completed"
    },
    "tags": []
   },
   "outputs": [
    {
     "data": {
      "text/plain": [
       "array([0, 1, 0, 0, 0, 0, 0, 0, 1, 1, 0, 1, 1, 1, 0, 0, 1, 1, 1, 1, 1, 0,\n",
       "       0, 0, 0, 0, 0, 0, 0, 0, 1, 1, 1, 1, 1, 0, 0, 0, 1, 0, 1, 1, 0, 1,\n",
       "       0, 0, 1, 1, 0, 0, 1, 1, 0, 0, 0, 0, 0, 0, 0, 1, 0, 1, 1, 0, 0, 1,\n",
       "       1, 1, 1, 0, 0, 0, 0, 0, 0, 1, 1, 0, 1, 0, 0, 0, 1, 1, 1, 0, 1, 1,\n",
       "       0, 0, 1, 0, 0, 1, 1, 0, 0, 1, 0, 1, 0, 0, 0, 0, 0, 0, 0, 1, 0, 1,\n",
       "       0, 1, 0, 1, 1, 1, 0, 0, 1, 1, 0, 1, 1, 0, 1, 0, 0, 0, 1, 0, 1, 1,\n",
       "       1, 1, 0, 1, 1, 0, 1, 0, 1, 1, 1, 1, 1, 0, 0, 1, 0, 0, 0, 0, 0, 1,\n",
       "       0, 0, 0, 0, 1, 0, 0, 1, 1, 0, 0, 1, 0, 0, 1, 1, 1, 0, 1, 1, 1, 0,\n",
       "       1, 0, 1, 1, 0, 0, 0, 1, 0, 1, 0, 0, 0, 0, 0, 0, 0, 1, 0, 1, 1, 1,\n",
       "       0, 1, 0, 0, 0, 1, 0, 0, 0, 1, 0, 1, 1, 0, 0, 0, 0, 0, 1, 0, 1, 1,\n",
       "       1, 0, 1, 1, 0, 0, 1, 1, 1, 0, 1, 0, 0, 0, 1, 1, 0, 0, 1, 0, 1, 1,\n",
       "       1, 0, 0, 0, 1, 0, 1, 0, 0, 0, 1, 0, 1, 1, 1, 1, 1, 1, 0, 0, 1, 1,\n",
       "       1, 0, 1, 1, 0, 1, 0, 0, 0, 1, 1, 0, 1, 0, 1, 1, 1, 0, 1, 0, 0, 1,\n",
       "       0, 1, 1, 1, 1, 1, 0, 0, 1, 1, 1, 0, 1, 1, 1, 0, 0, 0, 0, 1, 0, 1,\n",
       "       0, 1, 0, 0, 1, 1, 1, 1, 1, 0, 1, 0, 0, 1])"
      ]
     },
     "execution_count": 28,
     "metadata": {},
     "output_type": "execute_result"
    }
   ],
   "source": [
    "pred_n=n_pipe.predict(x_test)\n",
    "pred_n"
   ]
  },
  {
   "cell_type": "code",
   "execution_count": 29,
   "id": "b6c0e4b5",
   "metadata": {
    "execution": {
     "iopub.execute_input": "2023-01-25T05:20:55.625203Z",
     "iopub.status.busy": "2023-01-25T05:20:55.624246Z",
     "iopub.status.idle": "2023-01-25T05:20:55.627829Z",
     "shell.execute_reply": "2023-01-25T05:20:55.628368Z",
     "shell.execute_reply.started": "2022-01-31T12:27:43.339353Z"
    },
    "papermill": {
     "duration": 0.070828,
     "end_time": "2023-01-25T05:20:55.628636",
     "exception": false,
     "start_time": "2023-01-25T05:20:55.557808",
     "status": "completed"
    },
    "tags": []
   },
   "outputs": [
    {
     "data": {
      "text/plain": [
       "71.42857142857143"
      ]
     },
     "execution_count": 29,
     "metadata": {},
     "output_type": "execute_result"
    }
   ],
   "source": [
    "accuracy_score(pred_n,y_test)*100"
   ]
  },
  {
   "cell_type": "code",
   "execution_count": 30,
   "id": "d46fd09f",
   "metadata": {
    "execution": {
     "iopub.execute_input": "2023-01-25T05:20:55.763597Z",
     "iopub.status.busy": "2023-01-25T05:20:55.762797Z",
     "iopub.status.idle": "2023-01-25T05:20:56.050775Z",
     "shell.execute_reply": "2023-01-25T05:20:56.051308Z",
     "shell.execute_reply.started": "2022-01-31T12:27:43.348894Z"
    },
    "papermill": {
     "duration": 0.360809,
     "end_time": "2023-01-25T05:20:56.051498",
     "exception": false,
     "start_time": "2023-01-25T05:20:55.690689",
     "status": "completed"
    },
    "tags": []
   },
   "outputs": [
    {
     "data": {
      "text/plain": [
       "<sklearn.metrics._plot.confusion_matrix.ConfusionMatrixDisplay at 0x7f8a0ccfec10>"
      ]
     },
     "execution_count": 30,
     "metadata": {},
     "output_type": "execute_result"
    },
    {
     "data": {
      "image/png": "[encoded data removed]",
      "text/plain": [
       "<Figure size 432x288 with 2 Axes>"
      ]
     },
     "metadata": {
      "needs_background": "light"
     },
     "output_type": "display_data"
    }
   ],
   "source": [
    "from sklearn.metrics import plot_confusion_matrix\n",
    "plot_confusion_matrix(n_pipe,x_test,y_test)"
   ]
  },
  {
   "cell_type": "code",
   "execution_count": 31,
   "id": "97a32a5a",
   "metadata": {
    "execution": {
     "iopub.execute_input": "2023-01-25T05:20:56.183284Z",
     "iopub.status.busy": "2023-01-25T05:20:56.182229Z",
     "iopub.status.idle": "2023-01-25T05:20:56.195462Z",
     "shell.execute_reply": "2023-01-25T05:20:56.194867Z",
     "shell.execute_reply.started": "2022-01-31T12:27:43.668957Z"
    },
    "papermill": {
     "duration": 0.08226,
     "end_time": "2023-01-25T05:20:56.195642",
     "exception": false,
     "start_time": "2023-01-25T05:20:56.113382",
     "status": "completed"
    },
    "tags": []
   },
   "outputs": [
    {
     "data": {
      "text/html": [
       "<div>\n",
       "<style scoped>\n",
       "    .dataframe tbody tr th:only-of-type {\n",
       "        vertical-align: middle;\n",
       "    }\n",
       "\n",
       "    .dataframe tbody tr th {\n",
       "        vertical-align: top;\n",
       "    }\n",
       "\n",
       "    .dataframe thead th {\n",
       "        text-align: right;\n",
       "    }\n",
       "</style>\n",
       "<table border=\"1\" class=\"dataframe\">\n",
       "  <thead>\n",
       "    <tr style=\"text-align: right;\">\n",
       "      <th></th>\n",
       "      <th>Age</th>\n",
       "      <th>Sex</th>\n",
       "      <th>ChestPainType</th>\n",
       "      <th>RestingBP</th>\n",
       "      <th>Cholesterol</th>\n",
       "      <th>FastingBS</th>\n",
       "      <th>RestingECG</th>\n",
       "      <th>MaxHR</th>\n",
       "      <th>ExerciseAngina</th>\n",
       "      <th>Oldpeak</th>\n",
       "      <th>ST_Slope</th>\n",
       "      <th>HeartDisease</th>\n",
       "    </tr>\n",
       "  </thead>\n",
       "  <tbody>\n",
       "    <tr>\n",
       "      <th>0</th>\n",
       "      <td>40</td>\n",
       "      <td>M</td>\n",
       "      <td>ATA</td>\n",
       "      <td>140</td>\n",
       "      <td>289</td>\n",
       "      <td>0</td>\n",
       "      <td>Normal</td>\n",
       "      <td>172</td>\n",
       "      <td>N</td>\n",
       "      <td>0.0</td>\n",
       "      <td>Up</td>\n",
       "      <td>0</td>\n",
       "    </tr>\n",
       "    <tr>\n",
       "      <th>1</th>\n",
       "      <td>49</td>\n",
       "      <td>F</td>\n",
       "      <td>NAP</td>\n",
       "      <td>160</td>\n",
       "      <td>180</td>\n",
       "      <td>0</td>\n",
       "      <td>Normal</td>\n",
       "      <td>156</td>\n",
       "      <td>N</td>\n",
       "      <td>1.0</td>\n",
       "      <td>Flat</td>\n",
       "      <td>1</td>\n",
       "    </tr>\n",
       "    <tr>\n",
       "      <th>2</th>\n",
       "      <td>37</td>\n",
       "      <td>M</td>\n",
       "      <td>ATA</td>\n",
       "      <td>130</td>\n",
       "      <td>283</td>\n",
       "      <td>0</td>\n",
       "      <td>ST</td>\n",
       "      <td>98</td>\n",
       "      <td>N</td>\n",
       "      <td>0.0</td>\n",
       "      <td>Up</td>\n",
       "      <td>0</td>\n",
       "    </tr>\n",
       "    <tr>\n",
       "      <th>3</th>\n",
       "      <td>48</td>\n",
       "      <td>F</td>\n",
       "      <td>ASY</td>\n",
       "      <td>138</td>\n",
       "      <td>214</td>\n",
       "      <td>0</td>\n",
       "      <td>Normal</td>\n",
       "      <td>108</td>\n",
       "      <td>Y</td>\n",
       "      <td>1.5</td>\n",
       "      <td>Flat</td>\n",
       "      <td>1</td>\n",
       "    </tr>\n",
       "    <tr>\n",
       "      <th>4</th>\n",
       "      <td>54</td>\n",
       "      <td>M</td>\n",
       "      <td>NAP</td>\n",
       "      <td>150</td>\n",
       "      <td>195</td>\n",
       "      <td>0</td>\n",
       "      <td>Normal</td>\n",
       "      <td>122</td>\n",
       "      <td>N</td>\n",
       "      <td>0.0</td>\n",
       "      <td>Up</td>\n",
       "      <td>0</td>\n",
       "    </tr>\n",
       "  </tbody>\n",
       "</table>\n",
       "</div>"
      ],
      "text/plain": [
       "   Age Sex ChestPainType  RestingBP  Cholesterol  FastingBS RestingECG  MaxHR  \\\n",
       "0   40   M           ATA        140          289          0     Normal    172   \n",
       "1   49   F           NAP        160          180          0     Normal    156   \n",
       "2   37   M           ATA        130          283          0         ST     98   \n",
       "3   48   F           ASY        138          214          0     Normal    108   \n",
       "4   54   M           NAP        150          195          0     Normal    122   \n",
       "\n",
       "  ExerciseAngina  Oldpeak ST_Slope  HeartDisease  \n",
       "0              N      0.0       Up             0  \n",
       "1              N      1.0     Flat             1  \n",
       "2              N      0.0       Up             0  \n",
       "3              Y      1.5     Flat             1  \n",
       "4              N      0.0       Up             0  "
      ]
     },
     "execution_count": 31,
     "metadata": {},
     "output_type": "execute_result"
    }
   ],
   "source": [
    "data.head(5)"
   ]
  },
  {
   "cell_type": "raw",
   "id": "77006f73",
   "metadata": {
    "papermill": {
     "duration": 0.062354,
     "end_time": "2023-01-25T05:20:56.320422",
     "exception": false,
     "start_time": "2023-01-25T05:20:56.258068",
     "status": "completed"
    },
    "tags": []
   },
   "source": []
  },
  {
   "cell_type": "code",
   "execution_count": 32,
   "id": "f546fe6a",
   "metadata": {
    "execution": {
     "iopub.execute_input": "2023-01-25T05:20:56.460114Z",
     "iopub.status.busy": "2023-01-25T05:20:56.459237Z",
     "iopub.status.idle": "2023-01-25T05:20:56.469676Z",
     "shell.execute_reply": "2023-01-25T05:20:56.470348Z",
     "shell.execute_reply.started": "2022-01-31T12:27:43.688455Z"
    },
    "papermill": {
     "duration": 0.083815,
     "end_time": "2023-01-25T05:20:56.470555",
     "exception": false,
     "start_time": "2023-01-25T05:20:56.386740",
     "status": "completed"
    },
    "tags": []
   },
   "outputs": [
    {
     "name": "stderr",
     "output_type": "stream",
     "text": [
      "/opt/conda/lib/python3.7/site-packages/sklearn/utils/validation.py:72: FutureWarning: Beginning in version 0.22, arrays of bytes/strings will be converted to decimal numbers if dtype='numeric'. It is recommended that you convert the array to a float dtype before using it in scikit-learn, for example by using your_array = your_array.astype(np.float64).\n",
      "  return f(**kwargs)\n",
      "/opt/conda/lib/python3.7/site-packages/sklearn/utils/validation.py:72: FutureWarning: Beginning in version 0.22, arrays of bytes/strings will be converted to decimal numbers if dtype='numeric'. It is recommended that you convert the array to a float dtype before using it in scikit-learn, for example by using your_array = your_array.astype(np.float64).\n",
      "  return f(**kwargs)\n"
     ]
    },
    {
     "data": {
      "text/plain": [
       "array([1])"
      ]
     },
     "execution_count": 32,
     "metadata": {},
     "output_type": "execute_result"
    }
   ],
   "source": [
    "import numpy as np\n",
    "new=np.array([20,'M','ASY',140,200,0,'Normal',100,'Y',1.2,'Flat']).reshape(1,11)\n",
    "pipe.predict(new)"
   ]
  },
  {
   "cell_type": "code",
   "execution_count": 33,
   "id": "11942ffc",
   "metadata": {
    "execution": {
     "iopub.execute_input": "2023-01-25T05:20:56.617793Z",
     "iopub.status.busy": "2023-01-25T05:20:56.617102Z",
     "iopub.status.idle": "2023-01-25T05:20:56.621727Z",
     "shell.execute_reply": "2023-01-25T05:20:56.621188Z",
     "shell.execute_reply.started": "2022-01-31T12:27:43.711980Z"
    },
    "papermill": {
     "duration": 0.085818,
     "end_time": "2023-01-25T05:20:56.621884",
     "exception": false,
     "start_time": "2023-01-25T05:20:56.536066",
     "status": "completed"
    },
    "tags": []
   },
   "outputs": [
    {
     "data": {
      "text/html": [
       "<div>\n",
       "<style scoped>\n",
       "    .dataframe tbody tr th:only-of-type {\n",
       "        vertical-align: middle;\n",
       "    }\n",
       "\n",
       "    .dataframe tbody tr th {\n",
       "        vertical-align: top;\n",
       "    }\n",
       "\n",
       "    .dataframe thead th {\n",
       "        text-align: right;\n",
       "    }\n",
       "</style>\n",
       "<table border=\"1\" class=\"dataframe\">\n",
       "  <thead>\n",
       "    <tr style=\"text-align: right;\">\n",
       "      <th></th>\n",
       "      <th>Age</th>\n",
       "      <th>Sex</th>\n",
       "      <th>ChestPainType</th>\n",
       "      <th>RestingBP</th>\n",
       "      <th>Cholesterol</th>\n",
       "      <th>FastingBS</th>\n",
       "      <th>RestingECG</th>\n",
       "      <th>MaxHR</th>\n",
       "      <th>ExerciseAngina</th>\n",
       "      <th>Oldpeak</th>\n",
       "      <th>ST_Slope</th>\n",
       "    </tr>\n",
       "  </thead>\n",
       "  <tbody>\n",
       "    <tr>\n",
       "      <th>0</th>\n",
       "      <td>40</td>\n",
       "      <td>M</td>\n",
       "      <td>ATA</td>\n",
       "      <td>140</td>\n",
       "      <td>289</td>\n",
       "      <td>0</td>\n",
       "      <td>Normal</td>\n",
       "      <td>172</td>\n",
       "      <td>N</td>\n",
       "      <td>0.0</td>\n",
       "      <td>Up</td>\n",
       "    </tr>\n",
       "    <tr>\n",
       "      <th>1</th>\n",
       "      <td>49</td>\n",
       "      <td>F</td>\n",
       "      <td>NAP</td>\n",
       "      <td>160</td>\n",
       "      <td>180</td>\n",
       "      <td>0</td>\n",
       "      <td>Normal</td>\n",
       "      <td>156</td>\n",
       "      <td>N</td>\n",
       "      <td>1.0</td>\n",
       "      <td>Flat</td>\n",
       "    </tr>\n",
       "    <tr>\n",
       "      <th>2</th>\n",
       "      <td>37</td>\n",
       "      <td>M</td>\n",
       "      <td>ATA</td>\n",
       "      <td>130</td>\n",
       "      <td>283</td>\n",
       "      <td>0</td>\n",
       "      <td>ST</td>\n",
       "      <td>98</td>\n",
       "      <td>N</td>\n",
       "      <td>0.0</td>\n",
       "      <td>Up</td>\n",
       "    </tr>\n",
       "    <tr>\n",
       "      <th>3</th>\n",
       "      <td>48</td>\n",
       "      <td>F</td>\n",
       "      <td>ASY</td>\n",
       "      <td>138</td>\n",
       "      <td>214</td>\n",
       "      <td>0</td>\n",
       "      <td>Normal</td>\n",
       "      <td>108</td>\n",
       "      <td>Y</td>\n",
       "      <td>1.5</td>\n",
       "      <td>Flat</td>\n",
       "    </tr>\n",
       "    <tr>\n",
       "      <th>4</th>\n",
       "      <td>54</td>\n",
       "      <td>M</td>\n",
       "      <td>NAP</td>\n",
       "      <td>150</td>\n",
       "      <td>195</td>\n",
       "      <td>0</td>\n",
       "      <td>Normal</td>\n",
       "      <td>122</td>\n",
       "      <td>N</td>\n",
       "      <td>0.0</td>\n",
       "      <td>Up</td>\n",
       "    </tr>\n",
       "    <tr>\n",
       "      <th>5</th>\n",
       "      <td>39</td>\n",
       "      <td>M</td>\n",
       "      <td>NAP</td>\n",
       "      <td>120</td>\n",
       "      <td>339</td>\n",
       "      <td>0</td>\n",
       "      <td>Normal</td>\n",
       "      <td>170</td>\n",
       "      <td>N</td>\n",
       "      <td>0.0</td>\n",
       "      <td>Up</td>\n",
       "    </tr>\n",
       "    <tr>\n",
       "      <th>6</th>\n",
       "      <td>45</td>\n",
       "      <td>F</td>\n",
       "      <td>ATA</td>\n",
       "      <td>130</td>\n",
       "      <td>237</td>\n",
       "      <td>0</td>\n",
       "      <td>Normal</td>\n",
       "      <td>170</td>\n",
       "      <td>N</td>\n",
       "      <td>0.0</td>\n",
       "      <td>Up</td>\n",
       "    </tr>\n",
       "    <tr>\n",
       "      <th>7</th>\n",
       "      <td>54</td>\n",
       "      <td>M</td>\n",
       "      <td>ATA</td>\n",
       "      <td>110</td>\n",
       "      <td>208</td>\n",
       "      <td>0</td>\n",
       "      <td>Normal</td>\n",
       "      <td>142</td>\n",
       "      <td>N</td>\n",
       "      <td>0.0</td>\n",
       "      <td>Up</td>\n",
       "    </tr>\n",
       "    <tr>\n",
       "      <th>8</th>\n",
       "      <td>37</td>\n",
       "      <td>M</td>\n",
       "      <td>ASY</td>\n",
       "      <td>140</td>\n",
       "      <td>207</td>\n",
       "      <td>0</td>\n",
       "      <td>Normal</td>\n",
       "      <td>130</td>\n",
       "      <td>Y</td>\n",
       "      <td>1.5</td>\n",
       "      <td>Flat</td>\n",
       "    </tr>\n",
       "    <tr>\n",
       "      <th>9</th>\n",
       "      <td>48</td>\n",
       "      <td>F</td>\n",
       "      <td>ATA</td>\n",
       "      <td>120</td>\n",
       "      <td>284</td>\n",
       "      <td>0</td>\n",
       "      <td>Normal</td>\n",
       "      <td>120</td>\n",
       "      <td>N</td>\n",
       "      <td>0.0</td>\n",
       "      <td>Up</td>\n",
       "    </tr>\n",
       "  </tbody>\n",
       "</table>\n",
       "</div>"
      ],
      "text/plain": [
       "   Age Sex ChestPainType  RestingBP  Cholesterol  FastingBS RestingECG  MaxHR  \\\n",
       "0   40   M           ATA        140          289          0     Normal    172   \n",
       "1   49   F           NAP        160          180          0     Normal    156   \n",
       "2   37   M           ATA        130          283          0         ST     98   \n",
       "3   48   F           ASY        138          214          0     Normal    108   \n",
       "4   54   M           NAP        150          195          0     Normal    122   \n",
       "5   39   M           NAP        120          339          0     Normal    170   \n",
       "6   45   F           ATA        130          237          0     Normal    170   \n",
       "7   54   M           ATA        110          208          0     Normal    142   \n",
       "8   37   M           ASY        140          207          0     Normal    130   \n",
       "9   48   F           ATA        120          284          0     Normal    120   \n",
       "\n",
       "  ExerciseAngina  Oldpeak ST_Slope  \n",
       "0              N      0.0       Up  \n",
       "1              N      1.0     Flat  \n",
       "2              N      0.0       Up  \n",
       "3              Y      1.5     Flat  \n",
       "4              N      0.0       Up  \n",
       "5              N      0.0       Up  \n",
       "6              N      0.0       Up  \n",
       "7              N      0.0       Up  \n",
       "8              Y      1.5     Flat  \n",
       "9              N      0.0       Up  "
      ]
     },
     "execution_count": 33,
     "metadata": {},
     "output_type": "execute_result"
    }
   ],
   "source": [
    "x.head(10)"
   ]
  },
  {
   "cell_type": "code",
   "execution_count": 34,
   "id": "f6d35719",
   "metadata": {
    "execution": {
     "iopub.execute_input": "2023-01-25T05:20:56.760125Z",
     "iopub.status.busy": "2023-01-25T05:20:56.759068Z",
     "iopub.status.idle": "2023-01-25T05:20:56.766036Z",
     "shell.execute_reply": "2023-01-25T05:20:56.766731Z",
     "shell.execute_reply.started": "2022-01-31T12:27:43.732762Z"
    },
    "papermill": {
     "duration": 0.081141,
     "end_time": "2023-01-25T05:20:56.766922",
     "exception": false,
     "start_time": "2023-01-25T05:20:56.685781",
     "status": "completed"
    },
    "tags": []
   },
   "outputs": [
    {
     "name": "stderr",
     "output_type": "stream",
     "text": [
      "/opt/conda/lib/python3.7/site-packages/sklearn/utils/validation.py:72: FutureWarning: Beginning in version 0.22, arrays of bytes/strings will be converted to decimal numbers if dtype='numeric'. It is recommended that you convert the array to a float dtype before using it in scikit-learn, for example by using your_array = your_array.astype(np.float64).\n",
      "  return f(**kwargs)\n",
      "/opt/conda/lib/python3.7/site-packages/sklearn/utils/validation.py:72: FutureWarning: Beginning in version 0.22, arrays of bytes/strings will be converted to decimal numbers if dtype='numeric'. It is recommended that you convert the array to a float dtype before using it in scikit-learn, for example by using your_array = your_array.astype(np.float64).\n",
      "  return f(**kwargs)\n"
     ]
    },
    {
     "data": {
      "text/plain": [
       "array([0])"
      ]
     },
     "execution_count": 34,
     "metadata": {},
     "output_type": "execute_result"
    }
   ],
   "source": [
    "new_1=np.array([36,'F','ASY',160,270,0,'Normal',150,'Y',1.2,'Flat']).reshape(1,11)\n",
    "pipe.predict(new_1)"
   ]
  },
  {
   "cell_type": "code",
   "execution_count": 35,
   "id": "81bbad56",
   "metadata": {
    "execution": {
     "iopub.execute_input": "2023-01-25T05:20:56.902546Z",
     "iopub.status.busy": "2023-01-25T05:20:56.901860Z",
     "iopub.status.idle": "2023-01-25T05:20:56.905600Z",
     "shell.execute_reply": "2023-01-25T05:20:56.906239Z",
     "shell.execute_reply.started": "2022-01-31T12:27:43.746911Z"
    },
    "papermill": {
     "duration": 0.073477,
     "end_time": "2023-01-25T05:20:56.906424",
     "exception": false,
     "start_time": "2023-01-25T05:20:56.832947",
     "status": "completed"
    },
    "tags": []
   },
   "outputs": [],
   "source": [
    "from sklearn.neighbors import KNeighborsClassifier\n",
    "from sklearn.tree import DecisionTreeClassifier\n",
    "from sklearn.linear_model import LogisticRegression\n",
    "from sklearn.ensemble import VotingClassifier"
   ]
  },
  {
   "cell_type": "code",
   "execution_count": 36,
   "id": "4774eda1",
   "metadata": {
    "execution": {
     "iopub.execute_input": "2023-01-25T05:20:57.041221Z",
     "iopub.status.busy": "2023-01-25T05:20:57.039569Z",
     "iopub.status.idle": "2023-01-25T05:20:57.045224Z",
     "shell.execute_reply": "2023-01-25T05:20:57.045768Z",
     "shell.execute_reply.started": "2022-01-31T12:27:43.755638Z"
    },
    "papermill": {
     "duration": 0.074237,
     "end_time": "2023-01-25T05:20:57.045953",
     "exception": false,
     "start_time": "2023-01-25T05:20:56.971716",
     "status": "completed"
    },
    "tags": []
   },
   "outputs": [],
   "source": [
    "algorithm1=LogisticRegression(solver='liblinear')\n",
    "algorithm2=KNeighborsClassifier()\n",
    "algorithm3=DecisionTreeClassifier()"
   ]
  },
  {
   "cell_type": "code",
   "execution_count": 37,
   "id": "bdf4ad17",
   "metadata": {
    "execution": {
     "iopub.execute_input": "2023-01-25T05:20:57.182206Z",
     "iopub.status.busy": "2023-01-25T05:20:57.181472Z",
     "iopub.status.idle": "2023-01-25T05:20:57.184245Z",
     "shell.execute_reply": "2023-01-25T05:20:57.183678Z",
     "shell.execute_reply.started": "2022-01-31T12:27:43.769043Z"
    },
    "papermill": {
     "duration": 0.073265,
     "end_time": "2023-01-25T05:20:57.184403",
     "exception": false,
     "start_time": "2023-01-25T05:20:57.111138",
     "status": "completed"
    },
    "tags": []
   },
   "outputs": [],
   "source": [
    "vote=VotingClassifier(estimators=[('x1',algorithm1),('x2',algorithm2),('x3',algorithm3)],voting='soft',verbose=True)"
   ]
  },
  {
   "cell_type": "code",
   "execution_count": 38,
   "id": "b56a71d5",
   "metadata": {
    "execution": {
     "iopub.execute_input": "2023-01-25T05:20:57.323361Z",
     "iopub.status.busy": "2023-01-25T05:20:57.317606Z",
     "iopub.status.idle": "2023-01-25T05:20:57.404368Z",
     "shell.execute_reply": "2023-01-25T05:20:57.403671Z",
     "shell.execute_reply.started": "2022-01-31T12:27:43.780926Z"
    },
    "papermill": {
     "duration": 0.154896,
     "end_time": "2023-01-25T05:20:57.404522",
     "exception": false,
     "start_time": "2023-01-25T05:20:57.249626",
     "status": "completed"
    },
    "tags": []
   },
   "outputs": [
    {
     "data": {
      "text/html": [
       "<style>div.sk-top-container {color: black;background-color: white;}div.sk-toggleable {background-color: white;}label.sk-toggleable__label {cursor: pointer;display: block;width: 100%;margin-bottom: 0;padding: 0.2em 0.3em;box-sizing: border-box;text-align: center;}div.sk-toggleable__content {max-height: 0;max-width: 0;overflow: hidden;text-align: left;background-color: #f0f8ff;}div.sk-toggleable__content pre {margin: 0.2em;color: black;border-radius: 0.25em;background-color: #f0f8ff;}input.sk-toggleable__control:checked~div.sk-toggleable__content {max-height: 200px;max-width: 100%;overflow: auto;}div.sk-estimator input.sk-toggleable__control:checked~label.sk-toggleable__label {background-color: #d4ebff;}div.sk-label input.sk-toggleable__control:checked~label.sk-toggleable__label {background-color: #d4ebff;}input.sk-hidden--visually {border: 0;clip: rect(1px 1px 1px 1px);clip: rect(1px, 1px, 1px, 1px);height: 1px;margin: -1px;overflow: hidden;padding: 0;position: absolute;width: 1px;}div.sk-estimator {font-family: monospace;background-color: #f0f8ff;margin: 0.25em 0.25em;border: 1px dotted black;border-radius: 0.25em;box-sizing: border-box;}div.sk-estimator:hover {background-color: #d4ebff;}div.sk-parallel-item::after {content: \"\";width: 100%;border-bottom: 1px solid gray;flex-grow: 1;}div.sk-label:hover label.sk-toggleable__label {background-color: #d4ebff;}div.sk-serial::before {content: \"\";position: absolute;border-left: 1px solid gray;box-sizing: border-box;top: 2em;bottom: 0;left: 50%;}div.sk-serial {display: flex;flex-direction: column;align-items: center;background-color: white;}div.sk-item {z-index: 1;}div.sk-parallel {display: flex;align-items: stretch;justify-content: center;background-color: white;}div.sk-parallel-item {display: flex;flex-direction: column;position: relative;background-color: white;}div.sk-parallel-item:first-child::after {align-self: flex-end;width: 50%;}div.sk-parallel-item:last-child::after {align-self: flex-start;width: 50%;}div.sk-parallel-item:only-child::after {width: 0;}div.sk-dashed-wrapped {border: 1px dashed gray;margin: 0.2em;box-sizing: border-box;padding-bottom: 0.1em;background-color: white;position: relative;}div.sk-label label {font-family: monospace;font-weight: bold;background-color: white;display: inline-block;line-height: 1.2em;}div.sk-label-container {position: relative;z-index: 2;text-align: center;}div.sk-container {display: inline-block;position: relative;}</style><div class=\"sk-top-container\"><div class=\"sk-container\"><div class=\"sk-item sk-dashed-wrapped\"><div class=\"sk-label-container\"><div class=\"sk-label sk-toggleable\"><input class=\"sk-toggleable__control sk-hidden--visually\" id=\"d85a191b-3a93-4723-80a8-d4bd67ec1f80\" type=\"checkbox\" ><label class=\"sk-toggleable__label\" for=\"d85a191b-3a93-4723-80a8-d4bd67ec1f80\">Pipeline</label><div class=\"sk-toggleable__content\"><pre>Pipeline(steps=[('columntransformer',\n",
       "                 ColumnTransformer(remainder='passthrough',\n",
       "                                   transformers=[('onehotencoder',\n",
       "                                                  OneHotEncoder(sparse='false'),\n",
       "                                                  [2, 6, 10]),\n",
       "                                                 ('ordinalencoder',\n",
       "                                                  OrdinalEncoder(), [1, 8])])),\n",
       "                ('votingclassifier',\n",
       "                 VotingClassifier(estimators=[('x1',\n",
       "                                               LogisticRegression(solver='liblinear')),\n",
       "                                              ('x2', KNeighborsClassifier()),\n",
       "                                              ('x3', DecisionTreeClassifier())],\n",
       "                                  verbose=True, voting='soft'))])</pre></div></div></div><div class=\"sk-serial\"><div class=\"sk-item sk-dashed-wrapped\"><div class=\"sk-label-container\"><div class=\"sk-label sk-toggleable\"><input class=\"sk-toggleable__control sk-hidden--visually\" id=\"d38a2ee3-b352-4218-834b-eb30c939b232\" type=\"checkbox\" ><label class=\"sk-toggleable__label\" for=\"d38a2ee3-b352-4218-834b-eb30c939b232\">columntransformer: ColumnTransformer</label><div class=\"sk-toggleable__content\"><pre>ColumnTransformer(remainder='passthrough',\n",
       "                  transformers=[('onehotencoder', OneHotEncoder(sparse='false'),\n",
       "                                 [2, 6, 10]),\n",
       "                                ('ordinalencoder', OrdinalEncoder(), [1, 8])])</pre></div></div></div><div class=\"sk-parallel\"><div class=\"sk-parallel-item\"><div class=\"sk-item\"><div class=\"sk-label-container\"><div class=\"sk-label sk-toggleable\"><input class=\"sk-toggleable__control sk-hidden--visually\" id=\"41ec3ab1-b45d-4fd2-a32d-b93a135b6634\" type=\"checkbox\" ><label class=\"sk-toggleable__label\" for=\"41ec3ab1-b45d-4fd2-a32d-b93a135b6634\">onehotencoder</label><div class=\"sk-toggleable__content\"><pre>[2, 6, 10]</pre></div></div></div><div class=\"sk-serial\"><div class=\"sk-item\"><div class=\"sk-estimator sk-toggleable\"><input class=\"sk-toggleable__control sk-hidden--visually\" id=\"343c389b-3250-4367-90da-4be09ee10db0\" type=\"checkbox\" ><label class=\"sk-toggleable__label\" for=\"343c389b-3250-4367-90da-4be09ee10db0\">OneHotEncoder</label><div class=\"sk-toggleable__content\"><pre>OneHotEncoder(sparse='false')</pre></div></div></div></div></div></div><div class=\"sk-parallel-item\"><div class=\"sk-item\"><div class=\"sk-label-container\"><div class=\"sk-label sk-toggleable\"><input class=\"sk-toggleable__control sk-hidden--visually\" id=\"b3150cfa-0160-4ee8-a123-671a1d1feaca\" type=\"checkbox\" ><label class=\"sk-toggleable__label\" for=\"b3150cfa-0160-4ee8-a123-671a1d1feaca\">ordinalencoder</label><div class=\"sk-toggleable__content\"><pre>[1, 8]</pre></div></div></div><div class=\"sk-serial\"><div class=\"sk-item\"><div class=\"sk-estimator sk-toggleable\"><input class=\"sk-toggleable__control sk-hidden--visually\" id=\"04410dc5-9aef-4d87-b59f-83a7e6248e64\" type=\"checkbox\" ><label class=\"sk-toggleable__label\" for=\"04410dc5-9aef-4d87-b59f-83a7e6248e64\">OrdinalEncoder</label><div class=\"sk-toggleable__content\"><pre>OrdinalEncoder()</pre></div></div></div></div></div></div></div></div><div class=\"sk-item sk-dashed-wrapped\"><div class=\"sk-label-container\"><div class=\"sk-label sk-toggleable\"><input class=\"sk-toggleable__control sk-hidden--visually\" id=\"82443911-15be-4c60-84db-03ea2401c0ec\" type=\"checkbox\" ><label class=\"sk-toggleable__label\" for=\"82443911-15be-4c60-84db-03ea2401c0ec\">votingclassifier: VotingClassifier</label><div class=\"sk-toggleable__content\"><pre>VotingClassifier(estimators=[('x1', LogisticRegression(solver='liblinear')),\n",
       "                             ('x2', KNeighborsClassifier()),\n",
       "                             ('x3', DecisionTreeClassifier())],\n",
       "                 verbose=True, voting='soft')</pre></div></div></div><div class=\"sk-parallel\"><div class=\"sk-parallel-item\"><div class=\"sk-item\"><div class=\"sk-label-container\"><div class=\"sk-label sk-toggleable\"><label>x1</label></div></div><div class=\"sk-serial\"><div class=\"sk-item\"><div class=\"sk-estimator sk-toggleable\"><input class=\"sk-toggleable__control sk-hidden--visually\" id=\"a6d75883-40e8-4b3f-9a09-9a6118e8ab26\" type=\"checkbox\" ><label class=\"sk-toggleable__label\" for=\"a6d75883-40e8-4b3f-9a09-9a6118e8ab26\">LogisticRegression</label><div class=\"sk-toggleable__content\"><pre>LogisticRegression(solver='liblinear')</pre></div></div></div></div></div></div><div class=\"sk-parallel-item\"><div class=\"sk-item\"><div class=\"sk-label-container\"><div class=\"sk-label sk-toggleable\"><label>x2</label></div></div><div class=\"sk-serial\"><div class=\"sk-item\"><div class=\"sk-estimator sk-toggleable\"><input class=\"sk-toggleable__control sk-hidden--visually\" id=\"ffd7a348-5d64-4e61-87c0-f5ecccc1de49\" type=\"checkbox\" ><label class=\"sk-toggleable__label\" for=\"ffd7a348-5d64-4e61-87c0-f5ecccc1de49\">KNeighborsClassifier</label><div class=\"sk-toggleable__content\"><pre>KNeighborsClassifier()</pre></div></div></div></div></div></div><div class=\"sk-parallel-item\"><div class=\"sk-item\"><div class=\"sk-label-container\"><div class=\"sk-label sk-toggleable\"><label>x3</label></div></div><div class=\"sk-serial\"><div class=\"sk-item\"><div class=\"sk-estimator sk-toggleable\"><input class=\"sk-toggleable__control sk-hidden--visually\" id=\"70842e16-396b-4777-9437-f731d0ef9612\" type=\"checkbox\" ><label class=\"sk-toggleable__label\" for=\"70842e16-396b-4777-9437-f731d0ef9612\">DecisionTreeClassifier</label><div class=\"sk-toggleable__content\"><pre>DecisionTreeClassifier()</pre></div></div></div></div></div></div></div></div></div></div></div></div>"
      ],
      "text/plain": [
       "Pipeline(steps=[('columntransformer',\n",
       "                 ColumnTransformer(remainder='passthrough',\n",
       "                                   transformers=[('onehotencoder',\n",
       "                                                  OneHotEncoder(sparse='false'),\n",
       "                                                  [2, 6, 10]),\n",
       "                                                 ('ordinalencoder',\n",
       "                                                  OrdinalEncoder(), [1, 8])])),\n",
       "                ('votingclassifier',\n",
       "                 VotingClassifier(estimators=[('x1',\n",
       "                                               LogisticRegression(solver='liblinear')),\n",
       "                                              ('x2', KNeighborsClassifier()),\n",
       "                                              ('x3', DecisionTreeClassifier())],\n",
       "                                  verbose=True, voting='soft'))])"
      ]
     },
     "execution_count": 38,
     "metadata": {},
     "output_type": "execute_result"
    }
   ],
   "source": [
    "pipe_1=make_pipeline(trans,vote)\n",
    "pipe_1"
   ]
  },
  {
   "cell_type": "code",
   "execution_count": 39,
   "id": "9283e230",
   "metadata": {
    "execution": {
     "iopub.execute_input": "2023-01-25T05:20:57.548849Z",
     "iopub.status.busy": "2023-01-25T05:20:57.545164Z",
     "iopub.status.idle": "2023-01-25T05:20:57.649106Z",
     "shell.execute_reply": "2023-01-25T05:20:57.648390Z",
     "shell.execute_reply.started": "2022-01-31T12:27:43.889334Z"
    },
    "papermill": {
     "duration": 0.179238,
     "end_time": "2023-01-25T05:20:57.649254",
     "exception": false,
     "start_time": "2023-01-25T05:20:57.470016",
     "status": "completed"
    },
    "tags": []
   },
   "outputs": [
    {
     "name": "stdout",
     "output_type": "stream",
     "text": [
      "[Voting] ....................... (1 of 3) Processing x1, total=   0.0s\n",
      "[Voting] ....................... (2 of 3) Processing x2, total=   0.0s\n",
      "[Voting] ....................... (3 of 3) Processing x3, total=   0.0s\n"
     ]
    },
    {
     "data": {
      "text/html": [
       "<style>div.sk-top-container {color: black;background-color: white;}div.sk-toggleable {background-color: white;}label.sk-toggleable__label {cursor: pointer;display: block;width: 100%;margin-bottom: 0;padding: 0.2em 0.3em;box-sizing: border-box;text-align: center;}div.sk-toggleable__content {max-height: 0;max-width: 0;overflow: hidden;text-align: left;background-color: #f0f8ff;}div.sk-toggleable__content pre {margin: 0.2em;color: black;border-radius: 0.25em;background-color: #f0f8ff;}input.sk-toggleable__control:checked~div.sk-toggleable__content {max-height: 200px;max-width: 100%;overflow: auto;}div.sk-estimator input.sk-toggleable__control:checked~label.sk-toggleable__label {background-color: #d4ebff;}div.sk-label input.sk-toggleable__control:checked~label.sk-toggleable__label {background-color: #d4ebff;}input.sk-hidden--visually {border: 0;clip: rect(1px 1px 1px 1px);clip: rect(1px, 1px, 1px, 1px);height: 1px;margin: -1px;overflow: hidden;padding: 0;position: absolute;width: 1px;}div.sk-estimator {font-family: monospace;background-color: #f0f8ff;margin: 0.25em 0.25em;border: 1px dotted black;border-radius: 0.25em;box-sizing: border-box;}div.sk-estimator:hover {background-color: #d4ebff;}div.sk-parallel-item::after {content: \"\";width: 100%;border-bottom: 1px solid gray;flex-grow: 1;}div.sk-label:hover label.sk-toggleable__label {background-color: #d4ebff;}div.sk-serial::before {content: \"\";position: absolute;border-left: 1px solid gray;box-sizing: border-box;top: 2em;bottom: 0;left: 50%;}div.sk-serial {display: flex;flex-direction: column;align-items: center;background-color: white;}div.sk-item {z-index: 1;}div.sk-parallel {display: flex;align-items: stretch;justify-content: center;background-color: white;}div.sk-parallel-item {display: flex;flex-direction: column;position: relative;background-color: white;}div.sk-parallel-item:first-child::after {align-self: flex-end;width: 50%;}div.sk-parallel-item:last-child::after {align-self: flex-start;width: 50%;}div.sk-parallel-item:only-child::after {width: 0;}div.sk-dashed-wrapped {border: 1px dashed gray;margin: 0.2em;box-sizing: border-box;padding-bottom: 0.1em;background-color: white;position: relative;}div.sk-label label {font-family: monospace;font-weight: bold;background-color: white;display: inline-block;line-height: 1.2em;}div.sk-label-container {position: relative;z-index: 2;text-align: center;}div.sk-container {display: inline-block;position: relative;}</style><div class=\"sk-top-container\"><div class=\"sk-container\"><div class=\"sk-item sk-dashed-wrapped\"><div class=\"sk-label-container\"><div class=\"sk-label sk-toggleable\"><input class=\"sk-toggleable__control sk-hidden--visually\" id=\"724022f7-4409-4f7a-a181-c767961efa35\" type=\"checkbox\" ><label class=\"sk-toggleable__label\" for=\"724022f7-4409-4f7a-a181-c767961efa35\">Pipeline</label><div class=\"sk-toggleable__content\"><pre>Pipeline(steps=[('columntransformer',\n",
       "                 ColumnTransformer(remainder='passthrough',\n",
       "                                   transformers=[('onehotencoder',\n",
       "                                                  OneHotEncoder(sparse='false'),\n",
       "                                                  [2, 6, 10]),\n",
       "                                                 ('ordinalencoder',\n",
       "                                                  OrdinalEncoder(), [1, 8])])),\n",
       "                ('votingclassifier',\n",
       "                 VotingClassifier(estimators=[('x1',\n",
       "                                               LogisticRegression(solver='liblinear')),\n",
       "                                              ('x2', KNeighborsClassifier()),\n",
       "                                              ('x3', DecisionTreeClassifier())],\n",
       "                                  verbose=True, voting='soft'))])</pre></div></div></div><div class=\"sk-serial\"><div class=\"sk-item sk-dashed-wrapped\"><div class=\"sk-label-container\"><div class=\"sk-label sk-toggleable\"><input class=\"sk-toggleable__control sk-hidden--visually\" id=\"3f8f5859-8814-4914-9627-683748be3a8b\" type=\"checkbox\" ><label class=\"sk-toggleable__label\" for=\"3f8f5859-8814-4914-9627-683748be3a8b\">columntransformer: ColumnTransformer</label><div class=\"sk-toggleable__content\"><pre>ColumnTransformer(remainder='passthrough',\n",
       "                  transformers=[('onehotencoder', OneHotEncoder(sparse='false'),\n",
       "                                 [2, 6, 10]),\n",
       "                                ('ordinalencoder', OrdinalEncoder(), [1, 8])])</pre></div></div></div><div class=\"sk-parallel\"><div class=\"sk-parallel-item\"><div class=\"sk-item\"><div class=\"sk-label-container\"><div class=\"sk-label sk-toggleable\"><input class=\"sk-toggleable__control sk-hidden--visually\" id=\"52d661ce-0b4f-4f0d-a694-8debf0ef8281\" type=\"checkbox\" ><label class=\"sk-toggleable__label\" for=\"52d661ce-0b4f-4f0d-a694-8debf0ef8281\">onehotencoder</label><div class=\"sk-toggleable__content\"><pre>[2, 6, 10]</pre></div></div></div><div class=\"sk-serial\"><div class=\"sk-item\"><div class=\"sk-estimator sk-toggleable\"><input class=\"sk-toggleable__control sk-hidden--visually\" id=\"c63300e2-937c-4cec-87c1-7a0d943c272c\" type=\"checkbox\" ><label class=\"sk-toggleable__label\" for=\"c63300e2-937c-4cec-87c1-7a0d943c272c\">OneHotEncoder</label><div class=\"sk-toggleable__content\"><pre>OneHotEncoder(sparse='false')</pre></div></div></div></div></div></div><div class=\"sk-parallel-item\"><div class=\"sk-item\"><div class=\"sk-label-container\"><div class=\"sk-label sk-toggleable\"><input class=\"sk-toggleable__control sk-hidden--visually\" id=\"ec928fca-e768-466a-a48a-8175eb0fa295\" type=\"checkbox\" ><label class=\"sk-toggleable__label\" for=\"ec928fca-e768-466a-a48a-8175eb0fa295\">ordinalencoder</label><div class=\"sk-toggleable__content\"><pre>[1, 8]</pre></div></div></div><div class=\"sk-serial\"><div class=\"sk-item\"><div class=\"sk-estimator sk-toggleable\"><input class=\"sk-toggleable__control sk-hidden--visually\" id=\"5f3c7720-4f38-4b56-80b4-1d89a9a67753\" type=\"checkbox\" ><label class=\"sk-toggleable__label\" for=\"5f3c7720-4f38-4b56-80b4-1d89a9a67753\">OrdinalEncoder</label><div class=\"sk-toggleable__content\"><pre>OrdinalEncoder()</pre></div></div></div></div></div></div></div></div><div class=\"sk-item sk-dashed-wrapped\"><div class=\"sk-label-container\"><div class=\"sk-label sk-toggleable\"><input class=\"sk-toggleable__control sk-hidden--visually\" id=\"62d4ccb9-3ad2-4ad7-819c-65e8fa56193d\" type=\"checkbox\" ><label class=\"sk-toggleable__label\" for=\"62d4ccb9-3ad2-4ad7-819c-65e8fa56193d\">votingclassifier: VotingClassifier</label><div class=\"sk-toggleable__content\"><pre>VotingClassifier(estimators=[('x1', LogisticRegression(solver='liblinear')),\n",
       "                             ('x2', KNeighborsClassifier()),\n",
       "                             ('x3', DecisionTreeClassifier())],\n",
       "                 verbose=True, voting='soft')</pre></div></div></div><div class=\"sk-parallel\"><div class=\"sk-parallel-item\"><div class=\"sk-item\"><div class=\"sk-label-container\"><div class=\"sk-label sk-toggleable\"><label>x1</label></div></div><div class=\"sk-serial\"><div class=\"sk-item\"><div class=\"sk-estimator sk-toggleable\"><input class=\"sk-toggleable__control sk-hidden--visually\" id=\"afc455cc-21c7-4418-a721-9e3be5cef331\" type=\"checkbox\" ><label class=\"sk-toggleable__label\" for=\"afc455cc-21c7-4418-a721-9e3be5cef331\">LogisticRegression</label><div class=\"sk-toggleable__content\"><pre>LogisticRegression(solver='liblinear')</pre></div></div></div></div></div></div><div class=\"sk-parallel-item\"><div class=\"sk-item\"><div class=\"sk-label-container\"><div class=\"sk-label sk-toggleable\"><label>x2</label></div></div><div class=\"sk-serial\"><div class=\"sk-item\"><div class=\"sk-estimator sk-toggleable\"><input class=\"sk-toggleable__control sk-hidden--visually\" id=\"dc80fb2d-9ab1-4e2f-8c09-22648196fb7a\" type=\"checkbox\" ><label class=\"sk-toggleable__label\" for=\"dc80fb2d-9ab1-4e2f-8c09-22648196fb7a\">KNeighborsClassifier</label><div class=\"sk-toggleable__content\"><pre>KNeighborsClassifier()</pre></div></div></div></div></div></div><div class=\"sk-parallel-item\"><div class=\"sk-item\"><div class=\"sk-label-container\"><div class=\"sk-label sk-toggleable\"><label>x3</label></div></div><div class=\"sk-serial\"><div class=\"sk-item\"><div class=\"sk-estimator sk-toggleable\"><input class=\"sk-toggleable__control sk-hidden--visually\" id=\"47d6a3ee-afee-4350-b96a-f46ddeb31e6c\" type=\"checkbox\" ><label class=\"sk-toggleable__label\" for=\"47d6a3ee-afee-4350-b96a-f46ddeb31e6c\">DecisionTreeClassifier</label><div class=\"sk-toggleable__content\"><pre>DecisionTreeClassifier()</pre></div></div></div></div></div></div></div></div></div></div></div></div>"
      ],
      "text/plain": [
       "Pipeline(steps=[('columntransformer',\n",
       "                 ColumnTransformer(remainder='passthrough',\n",
       "                                   transformers=[('onehotencoder',\n",
       "                                                  OneHotEncoder(sparse='false'),\n",
       "                                                  [2, 6, 10]),\n",
       "                                                 ('ordinalencoder',\n",
       "                                                  OrdinalEncoder(), [1, 8])])),\n",
       "                ('votingclassifier',\n",
       "                 VotingClassifier(estimators=[('x1',\n",
       "                                               LogisticRegression(solver='liblinear')),\n",
       "                                              ('x2', KNeighborsClassifier()),\n",
       "                                              ('x3', DecisionTreeClassifier())],\n",
       "                                  verbose=True, voting='soft'))])"
      ]
     },
     "execution_count": 39,
     "metadata": {},
     "output_type": "execute_result"
    }
   ],
   "source": [
    "pipe_1.fit(x_train,y_train)"
   ]
  },
  {
   "cell_type": "code",
   "execution_count": 40,
   "id": "82ce0888",
   "metadata": {
    "execution": {
     "iopub.execute_input": "2023-01-25T05:20:57.786736Z",
     "iopub.status.busy": "2023-01-25T05:20:57.785935Z",
     "iopub.status.idle": "2023-01-25T05:20:57.799661Z",
     "shell.execute_reply": "2023-01-25T05:20:57.800143Z",
     "shell.execute_reply.started": "2022-01-31T12:27:44.051664Z"
    },
    "papermill": {
     "duration": 0.084069,
     "end_time": "2023-01-25T05:20:57.800327",
     "exception": false,
     "start_time": "2023-01-25T05:20:57.716258",
     "status": "completed"
    },
    "tags": []
   },
   "outputs": [
    {
     "data": {
      "text/plain": [
       "array([0, 0, 0, 1, 0, 0, 1, 0, 0, 1, 0, 0, 1, 1, 0, 0, 1, 1, 0, 1, 1, 1,\n",
       "       0, 0, 0, 0, 1, 1, 0, 0, 1, 0, 1, 0, 0, 1, 0, 0, 1, 0, 1, 1, 1, 1,\n",
       "       0, 0, 0, 1, 0, 0, 1, 1, 0, 0, 0, 0, 0, 0, 0, 1, 1, 1, 1, 0, 0, 1,\n",
       "       1, 0, 1, 0, 0, 0, 1, 1, 1, 1, 0, 1, 0, 1, 1, 0, 1, 1, 1, 0, 1, 0,\n",
       "       1, 0, 0, 1, 1, 1, 1, 1, 0, 1, 1, 1, 0, 1, 1, 0, 0, 1, 1, 1, 0, 0,\n",
       "       1, 1, 1, 1, 1, 1, 0, 0, 1, 1, 0, 0, 1, 0, 1, 0, 0, 1, 1, 1, 1, 1,\n",
       "       1, 1, 0, 1, 1, 1, 1, 0, 0, 1, 1, 1, 1, 1, 0, 1, 0, 0, 1, 0, 0, 1,\n",
       "       0, 1, 1, 0, 1, 0, 0, 1, 1, 0, 0, 1, 0, 0, 0, 1, 0, 0, 1, 1, 0, 1,\n",
       "       0, 0, 1, 1, 0, 0, 0, 0, 0, 0, 0, 0, 0, 0, 1, 1, 0, 1, 0, 1, 1, 0,\n",
       "       0, 1, 0, 0, 0, 1, 0, 0, 0, 1, 1, 0, 1, 0, 1, 1, 0, 0, 1, 1, 1, 1,\n",
       "       1, 0, 0, 0, 0, 0, 1, 0, 1, 0, 1, 0, 1, 1, 1, 0, 1, 1, 1, 0, 1, 0,\n",
       "       0, 1, 0, 1, 1, 0, 1, 0, 0, 0, 1, 1, 1, 1, 1, 1, 0, 1, 0, 0, 1, 1,\n",
       "       1, 0, 1, 1, 0, 1, 1, 0, 0, 1, 1, 0, 1, 0, 1, 1, 1, 0, 1, 0, 0, 1,\n",
       "       0, 1, 0, 0, 1, 0, 1, 0, 1, 1, 1, 0, 1, 1, 1, 0, 0, 0, 0, 1, 1, 0,\n",
       "       0, 1, 0, 1, 1, 1, 1, 1, 1, 1, 1, 0, 0, 1])"
      ]
     },
     "execution_count": 40,
     "metadata": {},
     "output_type": "execute_result"
    }
   ],
   "source": [
    "pred1=pipe_1.predict(x_test)\n",
    "pred1"
   ]
  },
  {
   "cell_type": "code",
   "execution_count": 41,
   "id": "be8d1419",
   "metadata": {
    "execution": {
     "iopub.execute_input": "2023-01-25T05:20:57.942460Z",
     "iopub.status.busy": "2023-01-25T05:20:57.941727Z",
     "iopub.status.idle": "2023-01-25T05:20:57.946305Z",
     "shell.execute_reply": "2023-01-25T05:20:57.946782Z",
     "shell.execute_reply.started": "2022-01-31T12:27:44.075123Z"
    },
    "papermill": {
     "duration": 0.077551,
     "end_time": "2023-01-25T05:20:57.946965",
     "exception": false,
     "start_time": "2023-01-25T05:20:57.869414",
     "status": "completed"
    },
    "tags": []
   },
   "outputs": [
    {
     "data": {
      "text/plain": [
       "83.85093167701864"
      ]
     },
     "execution_count": 41,
     "metadata": {},
     "output_type": "execute_result"
    }
   ],
   "source": [
    "accuracy_score(pred1,y_test)*100"
   ]
  },
  {
   "cell_type": "code",
   "execution_count": 42,
   "id": "e47126b8",
   "metadata": {
    "execution": {
     "iopub.execute_input": "2023-01-25T05:20:58.083412Z",
     "iopub.status.busy": "2023-01-25T05:20:58.082778Z",
     "iopub.status.idle": "2023-01-25T05:20:58.136514Z",
     "shell.execute_reply": "2023-01-25T05:20:58.135738Z",
     "shell.execute_reply.started": "2022-01-31T12:27:44.083688Z"
    },
    "papermill": {
     "duration": 0.123084,
     "end_time": "2023-01-25T05:20:58.136704",
     "exception": false,
     "start_time": "2023-01-25T05:20:58.013620",
     "status": "completed"
    },
    "tags": []
   },
   "outputs": [
    {
     "data": {
      "text/html": [
       "<style>div.sk-top-container {color: black;background-color: white;}div.sk-toggleable {background-color: white;}label.sk-toggleable__label {cursor: pointer;display: block;width: 100%;margin-bottom: 0;padding: 0.2em 0.3em;box-sizing: border-box;text-align: center;}div.sk-toggleable__content {max-height: 0;max-width: 0;overflow: hidden;text-align: left;background-color: #f0f8ff;}div.sk-toggleable__content pre {margin: 0.2em;color: black;border-radius: 0.25em;background-color: #f0f8ff;}input.sk-toggleable__control:checked~div.sk-toggleable__content {max-height: 200px;max-width: 100%;overflow: auto;}div.sk-estimator input.sk-toggleable__control:checked~label.sk-toggleable__label {background-color: #d4ebff;}div.sk-label input.sk-toggleable__control:checked~label.sk-toggleable__label {background-color: #d4ebff;}input.sk-hidden--visually {border: 0;clip: rect(1px 1px 1px 1px);clip: rect(1px, 1px, 1px, 1px);height: 1px;margin: -1px;overflow: hidden;padding: 0;position: absolute;width: 1px;}div.sk-estimator {font-family: monospace;background-color: #f0f8ff;margin: 0.25em 0.25em;border: 1px dotted black;border-radius: 0.25em;box-sizing: border-box;}div.sk-estimator:hover {background-color: #d4ebff;}div.sk-parallel-item::after {content: \"\";width: 100%;border-bottom: 1px solid gray;flex-grow: 1;}div.sk-label:hover label.sk-toggleable__label {background-color: #d4ebff;}div.sk-serial::before {content: \"\";position: absolute;border-left: 1px solid gray;box-sizing: border-box;top: 2em;bottom: 0;left: 50%;}div.sk-serial {display: flex;flex-direction: column;align-items: center;background-color: white;}div.sk-item {z-index: 1;}div.sk-parallel {display: flex;align-items: stretch;justify-content: center;background-color: white;}div.sk-parallel-item {display: flex;flex-direction: column;position: relative;background-color: white;}div.sk-parallel-item:first-child::after {align-self: flex-end;width: 50%;}div.sk-parallel-item:last-child::after {align-self: flex-start;width: 50%;}div.sk-parallel-item:only-child::after {width: 0;}div.sk-dashed-wrapped {border: 1px dashed gray;margin: 0.2em;box-sizing: border-box;padding-bottom: 0.1em;background-color: white;position: relative;}div.sk-label label {font-family: monospace;font-weight: bold;background-color: white;display: inline-block;line-height: 1.2em;}div.sk-label-container {position: relative;z-index: 2;text-align: center;}div.sk-container {display: inline-block;position: relative;}</style><div class=\"sk-top-container\"><div class=\"sk-container\"><div class=\"sk-item sk-dashed-wrapped\"><div class=\"sk-label-container\"><div class=\"sk-label sk-toggleable\"><input class=\"sk-toggleable__control sk-hidden--visually\" id=\"7b6f41bf-8aad-4cc8-b5b3-c96c137ae1f7\" type=\"checkbox\" ><label class=\"sk-toggleable__label\" for=\"7b6f41bf-8aad-4cc8-b5b3-c96c137ae1f7\">Pipeline</label><div class=\"sk-toggleable__content\"><pre>Pipeline(steps=[('columntransformer',\n",
       "                 ColumnTransformer(remainder='passthrough',\n",
       "                                   transformers=[('onehotencoder',\n",
       "                                                  OneHotEncoder(sparse='false'),\n",
       "                                                  [2, 6, 10]),\n",
       "                                                 ('ordinalencoder',\n",
       "                                                  OrdinalEncoder(), [1, 8])])),\n",
       "                ('gridsearchcv',\n",
       "                 GridSearchCV(estimator=DecisionTreeClassifier(),\n",
       "                              param_grid={'criterion': ['gini', 'entropy'],\n",
       "                                          'max_depth': [None, 2, 5, 10],\n",
       "                                          'min_samples_split': [2, 10, 100]},\n",
       "                              verbose=3))])</pre></div></div></div><div class=\"sk-serial\"><div class=\"sk-item sk-dashed-wrapped\"><div class=\"sk-label-container\"><div class=\"sk-label sk-toggleable\"><input class=\"sk-toggleable__control sk-hidden--visually\" id=\"78e3305c-49e2-4138-b30c-9645d68db021\" type=\"checkbox\" ><label class=\"sk-toggleable__label\" for=\"78e3305c-49e2-4138-b30c-9645d68db021\">columntransformer: ColumnTransformer</label><div class=\"sk-toggleable__content\"><pre>ColumnTransformer(remainder='passthrough',\n",
       "                  transformers=[('onehotencoder', OneHotEncoder(sparse='false'),\n",
       "                                 [2, 6, 10]),\n",
       "                                ('ordinalencoder', OrdinalEncoder(), [1, 8])])</pre></div></div></div><div class=\"sk-parallel\"><div class=\"sk-parallel-item\"><div class=\"sk-item\"><div class=\"sk-label-container\"><div class=\"sk-label sk-toggleable\"><input class=\"sk-toggleable__control sk-hidden--visually\" id=\"9ddfe8cb-66a9-4e91-8cf7-4d304f179654\" type=\"checkbox\" ><label class=\"sk-toggleable__label\" for=\"9ddfe8cb-66a9-4e91-8cf7-4d304f179654\">onehotencoder</label><div class=\"sk-toggleable__content\"><pre>[2, 6, 10]</pre></div></div></div><div class=\"sk-serial\"><div class=\"sk-item\"><div class=\"sk-estimator sk-toggleable\"><input class=\"sk-toggleable__control sk-hidden--visually\" id=\"6c5faccc-f2a2-43d9-84a9-fdb7b63c3726\" type=\"checkbox\" ><label class=\"sk-toggleable__label\" for=\"6c5faccc-f2a2-43d9-84a9-fdb7b63c3726\">OneHotEncoder</label><div class=\"sk-toggleable__content\"><pre>OneHotEncoder(sparse='false')</pre></div></div></div></div></div></div><div class=\"sk-parallel-item\"><div class=\"sk-item\"><div class=\"sk-label-container\"><div class=\"sk-label sk-toggleable\"><input class=\"sk-toggleable__control sk-hidden--visually\" id=\"3c53e6f2-0188-4a48-84a4-8de86adc2d95\" type=\"checkbox\" ><label class=\"sk-toggleable__label\" for=\"3c53e6f2-0188-4a48-84a4-8de86adc2d95\">ordinalencoder</label><div class=\"sk-toggleable__content\"><pre>[1, 8]</pre></div></div></div><div class=\"sk-serial\"><div class=\"sk-item\"><div class=\"sk-estimator sk-toggleable\"><input class=\"sk-toggleable__control sk-hidden--visually\" id=\"ed1b9b0e-48fd-4204-a73b-0962eba3b464\" type=\"checkbox\" ><label class=\"sk-toggleable__label\" for=\"ed1b9b0e-48fd-4204-a73b-0962eba3b464\">OrdinalEncoder</label><div class=\"sk-toggleable__content\"><pre>OrdinalEncoder()</pre></div></div></div></div></div></div></div></div><div class=\"sk-item sk-dashed-wrapped\"><div class=\"sk-label-container\"><div class=\"sk-label sk-toggleable\"><input class=\"sk-toggleable__control sk-hidden--visually\" id=\"b25755cb-9a2c-4500-afc1-3e14e64c2ced\" type=\"checkbox\" ><label class=\"sk-toggleable__label\" for=\"b25755cb-9a2c-4500-afc1-3e14e64c2ced\">gridsearchcv: GridSearchCV</label><div class=\"sk-toggleable__content\"><pre>GridSearchCV(estimator=DecisionTreeClassifier(),\n",
       "             param_grid={'criterion': ['gini', 'entropy'],\n",
       "                         'max_depth': [None, 2, 5, 10],\n",
       "                         'min_samples_split': [2, 10, 100]},\n",
       "             verbose=3)</pre></div></div></div><div class=\"sk-parallel\"><div class=\"sk-parallel-item\"><div class=\"sk-item\"><div class=\"sk-serial\"><div class=\"sk-item\"><div class=\"sk-estimator sk-toggleable\"><input class=\"sk-toggleable__control sk-hidden--visually\" id=\"2edbeaa6-5870-4b7b-aafb-d7f40a2d143c\" type=\"checkbox\" ><label class=\"sk-toggleable__label\" for=\"2edbeaa6-5870-4b7b-aafb-d7f40a2d143c\">DecisionTreeClassifier</label><div class=\"sk-toggleable__content\"><pre>DecisionTreeClassifier()</pre></div></div></div></div></div></div></div></div></div></div></div></div>"
      ],
      "text/plain": [
       "Pipeline(steps=[('columntransformer',\n",
       "                 ColumnTransformer(remainder='passthrough',\n",
       "                                   transformers=[('onehotencoder',\n",
       "                                                  OneHotEncoder(sparse='false'),\n",
       "                                                  [2, 6, 10]),\n",
       "                                                 ('ordinalencoder',\n",
       "                                                  OrdinalEncoder(), [1, 8])])),\n",
       "                ('gridsearchcv',\n",
       "                 GridSearchCV(estimator=DecisionTreeClassifier(),\n",
       "                              param_grid={'criterion': ['gini', 'entropy'],\n",
       "                                          'max_depth': [None, 2, 5, 10],\n",
       "                                          'min_samples_split': [2, 10, 100]},\n",
       "                              verbose=3))])"
      ]
     },
     "execution_count": 42,
     "metadata": {},
     "output_type": "execute_result"
    }
   ],
   "source": [
    "from sklearn.model_selection import GridSearchCV\n",
    "from sklearn.tree import DecisionTreeClassifier\n",
    "params={'criterion':['gini','entropy'],'max_depth':[None,2,5,10],'min_samples_split':[2,10,100]}\n",
    "pipe_z=make_pipeline(trans,GridSearchCV(algorithm3,params,verbose=3,refit=True))\n",
    "pipe_z"
   ]
  },
  {
   "cell_type": "code",
   "execution_count": 43,
   "id": "9b020327",
   "metadata": {
    "execution": {
     "iopub.execute_input": "2023-01-25T05:20:58.281929Z",
     "iopub.status.busy": "2023-01-25T05:20:58.280879Z",
     "iopub.status.idle": "2023-01-25T05:20:58.789993Z",
     "shell.execute_reply": "2023-01-25T05:20:58.790503Z",
     "shell.execute_reply.started": "2022-01-31T12:27:44.154921Z"
    },
    "papermill": {
     "duration": 0.584128,
     "end_time": "2023-01-25T05:20:58.790718",
     "exception": false,
     "start_time": "2023-01-25T05:20:58.206590",
     "status": "completed"
    },
    "tags": []
   },
   "outputs": [
    {
     "name": "stdout",
     "output_type": "stream",
     "text": [
      "Fitting 5 folds for each of 24 candidates, totalling 120 fits\n",
      "[CV] criterion=gini, max_depth=None, min_samples_split=2 .............\n",
      "[CV]  criterion=gini, max_depth=None, min_samples_split=2, score=0.767, total=   0.0s\n",
      "[CV] criterion=gini, max_depth=None, min_samples_split=2 .............\n",
      "[CV]  criterion=gini, max_depth=None, min_samples_split=2, score=0.807, total=   0.0s\n",
      "[CV] criterion=gini, max_depth=None, min_samples_split=2 .............\n",
      "[CV]  criterion=gini, max_depth=None, min_samples_split=2, score=0.731, total=   0.0s\n",
      "[CV] criterion=gini, max_depth=None, min_samples_split=2 .............\n",
      "[CV]  criterion=gini, max_depth=None, min_samples_split=2, score=0.832, total=   0.0s\n",
      "[CV] criterion=gini, max_depth=None, min_samples_split=2 .............\n",
      "[CV]  criterion=gini, max_depth=None, min_samples_split=2, score=0.840, total=   0.0s\n",
      "[CV] criterion=gini, max_depth=None, min_samples_split=10 ............\n",
      "[CV]  criterion=gini, max_depth=None, min_samples_split=10, score=0.783, total=   0.0s\n",
      "[CV] criterion=gini, max_depth=None, min_samples_split=10 ............\n",
      "[CV]  criterion=gini, max_depth=None, min_samples_split=10, score=0.849, total=   0.0s\n",
      "[CV] criterion=gini, max_depth=None, min_samples_split=10 ............\n",
      "[CV]  criterion=gini, max_depth=None, min_samples_split=10, score=0.748, total=   0.0s\n",
      "[CV] criterion=gini, max_depth=None, min_samples_split=10 ............\n",
      "[CV]  criterion=gini, max_depth=None, min_samples_split=10, score=0.824, total=   0.0s\n",
      "[CV] criterion=gini, max_depth=None, min_samples_split=10 ............\n",
      "[CV]  criterion=gini, max_depth=None, min_samples_split=10, score=0.874, total=   0.0s\n",
      "[CV] criterion=gini, max_depth=None, min_samples_split=100 ...........\n",
      "[CV]  criterion=gini, max_depth=None, min_samples_split=100, score=0.817, total=   0.0s\n",
      "[CV] criterion=gini, max_depth=None, min_samples_split=100 ...........\n",
      "[CV]  criterion=gini, max_depth=None, min_samples_split=100, score=0.857, total=   0.0s\n",
      "[CV] criterion=gini, max_depth=None, min_samples_split=100 ...........\n",
      "[CV]  criterion=gini, max_depth=None, min_samples_split=100, score=0.798, total=   0.0s\n",
      "[CV] criterion=gini, max_depth=None, min_samples_split=100 ...........\n",
      "[CV]  criterion=gini, max_depth=None, min_samples_split=100, score=0.857, total=   0.0s\n",
      "[CV] criterion=gini, max_depth=None, min_samples_split=100 ...........\n",
      "[CV]  criterion=gini, max_depth=None, min_samples_split=100, score=0.857, total=   0.0s\n",
      "[CV] criterion=gini, max_depth=2, min_samples_split=2 ................\n",
      "[CV]  criterion=gini, max_depth=2, min_samples_split=2, score=0.817, total=   0.0s\n",
      "[CV] criterion=gini, max_depth=2, min_samples_split=2 ................\n",
      "[CV]  criterion=gini, max_depth=2, min_samples_split=2, score=0.857, total=   0.0s\n",
      "[CV] criterion=gini, max_depth=2, min_samples_split=2 ................\n",
      "[CV]  criterion=gini, max_depth=2, min_samples_split=2, score=0.807, total=   0.0s\n",
      "[CV] criterion=gini, max_depth=2, min_samples_split=2 ................\n",
      "[CV]  criterion=gini, max_depth=2, min_samples_split=2, score=0.857, total=   0.0s\n",
      "[CV] criterion=gini, max_depth=2, min_samples_split=2 ................\n",
      "[CV]  criterion=gini, max_depth=2, min_samples_split=2, score=0.857, total=   0.0s\n",
      "[CV] criterion=gini, max_depth=2, min_samples_split=10 ...............\n",
      "[CV]  criterion=gini, max_depth=2, min_samples_split=10, score=0.817, total=   0.0s\n",
      "[CV] criterion=gini, max_depth=2, min_samples_split=10 ...............\n",
      "[CV]  criterion=gini, max_depth=2, min_samples_split=10, score=0.857, total=   0.0s\n",
      "[CV] criterion=gini, max_depth=2, min_samples_split=10 ...............\n",
      "[CV]  criterion=gini, max_depth=2, min_samples_split=10, score=0.807, total=   0.0s\n",
      "[CV] criterion=gini, max_depth=2, min_samples_split=10 ...............\n",
      "[CV]  criterion=gini, max_depth=2, min_samples_split=10, score=0.857, total=   0.0s\n",
      "[CV] criterion=gini, max_depth=2, min_samples_split=10 ...............\n",
      "[CV]  criterion=gini, max_depth=2, min_samples_split=10, score=0.857, total=   0.0s\n",
      "[CV] criterion=gini, max_depth=2, min_samples_split=100 ..............\n",
      "[CV]  criterion=gini, max_depth=2, min_samples_split=100, score=0.817, total=   0.0s\n",
      "[CV] criterion=gini, max_depth=2, min_samples_split=100 ..............\n",
      "[CV]  criterion=gini, max_depth=2, min_samples_split=100, score=0.857, total=   0.0s\n",
      "[CV] criterion=gini, max_depth=2, min_samples_split=100 ..............\n",
      "[CV]  criterion=gini, max_depth=2, min_samples_split=100, score=0.807, total=   0.0s\n",
      "[CV] criterion=gini, max_depth=2, min_samples_split=100 ..............\n",
      "[CV]  criterion=gini, max_depth=2, min_samples_split=100, score=0.857, total=   0.0s\n",
      "[CV] criterion=gini, max_depth=2, min_samples_split=100 ..............\n",
      "[CV]  criterion=gini, max_depth=2, min_samples_split=100, score=0.857, total=   0.0s\n",
      "[CV] criterion=gini, max_depth=5, min_samples_split=2 ................\n",
      "[CV]  criterion=gini, max_depth=5, min_samples_split=2, score=0.758, total=   0.0s\n",
      "[CV] criterion=gini, max_depth=5, min_samples_split=2 ................\n",
      "[CV]  criterion=gini, max_depth=5, min_samples_split=2, score=0.866, total=   0.0s\n",
      "[CV] criterion=gini, max_depth=5, min_samples_split=2 ................\n",
      "[CV]  criterion=gini, max_depth=5, min_samples_split=2, score=0.807, total=   0.0s\n",
      "[CV] criterion=gini, max_depth=5, min_samples_split=2 ................\n",
      "[CV]  criterion=gini, max_depth=5, min_samples_split=2, score=0.899, total=   0.0s\n",
      "[CV] criterion=gini, max_depth=5, min_samples_split=2 ................\n",
      "[CV]  criterion=gini, max_depth=5, min_samples_split=2, score=0.857, total=   0.0s\n",
      "[CV] criterion=gini, max_depth=5, min_samples_split=10 ...............\n",
      "[CV]  criterion=gini, max_depth=5, min_samples_split=10, score=0.750, total=   0.0s\n",
      "[CV] criterion=gini, max_depth=5, min_samples_split=10 ...............\n",
      "[CV]  criterion=gini, max_depth=5, min_samples_split=10, score=0.874, total=   0.0s\n",
      "[CV] criterion=gini, max_depth=5, min_samples_split=10 ...............\n",
      "[CV]  criterion=gini, max_depth=5, min_samples_split=10, score=0.790, total=   0.0s\n",
      "[CV] criterion=gini, max_depth=5, min_samples_split=10 ...............\n",
      "[CV]  criterion=gini, max_depth=5, min_samples_split=10, score=0.899, total=   0.0s\n",
      "[CV] criterion=gini, max_depth=5, min_samples_split=10 ...............\n",
      "[CV]  criterion=gini, max_depth=5, min_samples_split=10, score=0.874, total=   0.0s\n",
      "[CV] criterion=gini, max_depth=5, min_samples_split=100 ..............\n",
      "[CV]  criterion=gini, max_depth=5, min_samples_split=100, score=0.817, total=   0.0s\n",
      "[CV] criterion=gini, max_depth=5, min_samples_split=100 ..............\n",
      "[CV]  criterion=gini, max_depth=5, min_samples_split=100, score=0.857, total=   0.0s\n",
      "[CV] criterion=gini, max_depth=5, min_samples_split=100 ..............\n",
      "[CV]  criterion=gini, max_depth=5, min_samples_split=100, score=0.798, total=   0.0s\n",
      "[CV] criterion=gini, max_depth=5, min_samples_split=100 ..............\n",
      "[CV]  criterion=gini, max_depth=5, min_samples_split=100, score=0.857, total=   0.0s\n",
      "[CV] criterion=gini, max_depth=5, min_samples_split=100 ..............\n",
      "[CV]  criterion=gini, max_depth=5, min_samples_split=100, score=0.857, total=   0.0s\n",
      "[CV] criterion=gini, max_depth=10, min_samples_split=2 ...............\n",
      "[CV]  criterion=gini, max_depth=10, min_samples_split=2, score=0.800, total=   0.0s\n",
      "[CV] criterion=gini, max_depth=10, min_samples_split=2 ...............\n",
      "[CV]  criterion=gini, max_depth=10, min_samples_split=2, score=0.857, total=   0.0s\n",
      "[CV] criterion=gini, max_depth=10, min_samples_split=2 ...............\n",
      "[CV]  criterion=gini, max_depth=10, min_samples_split=2, score=0.739, total=   0.0s\n",
      "[CV] criterion=gini, max_depth=10, min_samples_split=2 ...............\n",
      "[CV]  criterion=gini, max_depth=10, min_samples_split=2, score=0.807, total=   0.0s\n",
      "[CV] criterion=gini, max_depth=10, min_samples_split=2 ...............\n",
      "[CV]  criterion=gini, max_depth=10, min_samples_split=2, score=0.857, total=   0.0s\n",
      "[CV] criterion=gini, max_depth=10, min_samples_split=10 ..............\n",
      "[CV]  criterion=gini, max_depth=10, min_samples_split=10, score=0.783, total=   0.0s\n",
      "[CV] criterion=gini, max_depth=10, min_samples_split=10 ..............\n",
      "[CV]  criterion=gini, max_depth=10, min_samples_split=10, score=0.866, total=   0.0s\n",
      "[CV] criterion=gini, max_depth=10, min_samples_split=10 ..............\n",
      "[CV]  criterion=gini, max_depth=10, min_samples_split=10, score=0.748, total=   0.0s\n",
      "[CV] criterion=gini, max_depth=10, min_samples_split=10 ..............\n",
      "[CV]  criterion=gini, max_depth=10, min_samples_split=10, score=0.824, total=   0.0s\n",
      "[CV] criterion=gini, max_depth=10, min_samples_split=10 ..............\n",
      "[CV]  criterion=gini, max_depth=10, min_samples_split=10, score=0.882, total=   0.0s\n",
      "[CV] criterion=gini, max_depth=10, min_samples_split=100 .............\n"
     ]
    },
    {
     "name": "stderr",
     "output_type": "stream",
     "text": [
      "[Parallel(n_jobs=1)]: Using backend SequentialBackend with 1 concurrent workers.\n",
      "[Parallel(n_jobs=1)]: Done   1 out of   1 | elapsed:    0.0s remaining:    0.0s\n",
      "[Parallel(n_jobs=1)]: Done   2 out of   2 | elapsed:    0.0s remaining:    0.0s\n"
     ]
    },
    {
     "name": "stdout",
     "output_type": "stream",
     "text": [
      "[CV]  criterion=gini, max_depth=10, min_samples_split=100, score=0.817, total=   0.0s\n",
      "[CV] criterion=gini, max_depth=10, min_samples_split=100 .............\n",
      "[CV]  criterion=gini, max_depth=10, min_samples_split=100, score=0.857, total=   0.0s\n",
      "[CV] criterion=gini, max_depth=10, min_samples_split=100 .............\n",
      "[CV]  criterion=gini, max_depth=10, min_samples_split=100, score=0.798, total=   0.0s\n",
      "[CV] criterion=gini, max_depth=10, min_samples_split=100 .............\n",
      "[CV]  criterion=gini, max_depth=10, min_samples_split=100, score=0.857, total=   0.0s\n",
      "[CV] criterion=gini, max_depth=10, min_samples_split=100 .............\n",
      "[CV]  criterion=gini, max_depth=10, min_samples_split=100, score=0.857, total=   0.0s\n",
      "[CV] criterion=entropy, max_depth=None, min_samples_split=2 ..........\n",
      "[CV]  criterion=entropy, max_depth=None, min_samples_split=2, score=0.733, total=   0.0s\n",
      "[CV] criterion=entropy, max_depth=None, min_samples_split=2 ..........\n",
      "[CV]  criterion=entropy, max_depth=None, min_samples_split=2, score=0.815, total=   0.0s\n",
      "[CV] criterion=entropy, max_depth=None, min_samples_split=2 ..........\n",
      "[CV]  criterion=entropy, max_depth=None, min_samples_split=2, score=0.748, total=   0.0s\n",
      "[CV] criterion=entropy, max_depth=None, min_samples_split=2 ..........\n",
      "[CV]  criterion=entropy, max_depth=None, min_samples_split=2, score=0.815, total=   0.0s\n",
      "[CV] criterion=entropy, max_depth=None, min_samples_split=2 ..........\n",
      "[CV]  criterion=entropy, max_depth=None, min_samples_split=2, score=0.899, total=   0.0s\n",
      "[CV] criterion=entropy, max_depth=None, min_samples_split=10 .........\n",
      "[CV]  criterion=entropy, max_depth=None, min_samples_split=10, score=0.783, total=   0.0s\n",
      "[CV] criterion=entropy, max_depth=None, min_samples_split=10 .........\n",
      "[CV]  criterion=entropy, max_depth=None, min_samples_split=10, score=0.840, total=   0.0s\n",
      "[CV] criterion=entropy, max_depth=None, min_samples_split=10 .........\n",
      "[CV]  criterion=entropy, max_depth=None, min_samples_split=10, score=0.731, total=   0.0s\n",
      "[CV] criterion=entropy, max_depth=None, min_samples_split=10 .........\n",
      "[CV]  criterion=entropy, max_depth=None, min_samples_split=10, score=0.849, total=   0.0s\n",
      "[CV] criterion=entropy, max_depth=None, min_samples_split=10 .........\n",
      "[CV]  criterion=entropy, max_depth=None, min_samples_split=10, score=0.874, total=   0.0s\n",
      "[CV] criterion=entropy, max_depth=None, min_samples_split=100 ........\n",
      "[CV]  criterion=entropy, max_depth=None, min_samples_split=100, score=0.800, total=   0.0s\n",
      "[CV] criterion=entropy, max_depth=None, min_samples_split=100 ........\n",
      "[CV]  criterion=entropy, max_depth=None, min_samples_split=100, score=0.840, total=   0.0s\n",
      "[CV] criterion=entropy, max_depth=None, min_samples_split=100 ........\n",
      "[CV]  criterion=entropy, max_depth=None, min_samples_split=100, score=0.773, total=   0.0s\n",
      "[CV] criterion=entropy, max_depth=None, min_samples_split=100 ........\n",
      "[CV]  criterion=entropy, max_depth=None, min_samples_split=100, score=0.857, total=   0.0s\n",
      "[CV] criterion=entropy, max_depth=None, min_samples_split=100 ........\n",
      "[CV]  criterion=entropy, max_depth=None, min_samples_split=100, score=0.857, total=   0.0s\n",
      "[CV] criterion=entropy, max_depth=2, min_samples_split=2 .............\n",
      "[CV]  criterion=entropy, max_depth=2, min_samples_split=2, score=0.800, total=   0.0s\n",
      "[CV] criterion=entropy, max_depth=2, min_samples_split=2 .............\n",
      "[CV]  criterion=entropy, max_depth=2, min_samples_split=2, score=0.857, total=   0.0s\n",
      "[CV] criterion=entropy, max_depth=2, min_samples_split=2 .............\n",
      "[CV]  criterion=entropy, max_depth=2, min_samples_split=2, score=0.765, total=   0.0s\n",
      "[CV] criterion=entropy, max_depth=2, min_samples_split=2 .............\n",
      "[CV]  criterion=entropy, max_depth=2, min_samples_split=2, score=0.857, total=   0.0s\n",
      "[CV] criterion=entropy, max_depth=2, min_samples_split=2 .............\n",
      "[CV]  criterion=entropy, max_depth=2, min_samples_split=2, score=0.857, total=   0.0s\n",
      "[CV] criterion=entropy, max_depth=2, min_samples_split=10 ............\n",
      "[CV]  criterion=entropy, max_depth=2, min_samples_split=10, score=0.800, total=   0.0s\n",
      "[CV] criterion=entropy, max_depth=2, min_samples_split=10 ............\n",
      "[CV]  criterion=entropy, max_depth=2, min_samples_split=10, score=0.857, total=   0.0s\n",
      "[CV] criterion=entropy, max_depth=2, min_samples_split=10 ............\n",
      "[CV]  criterion=entropy, max_depth=2, min_samples_split=10, score=0.765, total=   0.0s\n",
      "[CV] criterion=entropy, max_depth=2, min_samples_split=10 ............\n",
      "[CV]  criterion=entropy, max_depth=2, min_samples_split=10, score=0.857, total=   0.0s\n",
      "[CV] criterion=entropy, max_depth=2, min_samples_split=10 ............\n",
      "[CV]  criterion=entropy, max_depth=2, min_samples_split=10, score=0.857, total=   0.0s\n",
      "[CV] criterion=entropy, max_depth=2, min_samples_split=100 ...........\n",
      "[CV]  criterion=entropy, max_depth=2, min_samples_split=100, score=0.800, total=   0.0s\n",
      "[CV] criterion=entropy, max_depth=2, min_samples_split=100 ...........\n",
      "[CV]  criterion=entropy, max_depth=2, min_samples_split=100, score=0.857, total=   0.0s\n",
      "[CV] criterion=entropy, max_depth=2, min_samples_split=100 ...........\n",
      "[CV]  criterion=entropy, max_depth=2, min_samples_split=100, score=0.765, total=   0.0s\n",
      "[CV] criterion=entropy, max_depth=2, min_samples_split=100 ...........\n",
      "[CV]  criterion=entropy, max_depth=2, min_samples_split=100, score=0.857, total=   0.0s\n",
      "[CV] criterion=entropy, max_depth=2, min_samples_split=100 ...........\n",
      "[CV]  criterion=entropy, max_depth=2, min_samples_split=100, score=0.857, total=   0.0s\n",
      "[CV] criterion=entropy, max_depth=5, min_samples_split=2 .............\n",
      "[CV]  criterion=entropy, max_depth=5, min_samples_split=2, score=0.775, total=   0.0s\n",
      "[CV] criterion=entropy, max_depth=5, min_samples_split=2 .............\n",
      "[CV]  criterion=entropy, max_depth=5, min_samples_split=2, score=0.866, total=   0.0s\n",
      "[CV] criterion=entropy, max_depth=5, min_samples_split=2 .............\n",
      "[CV]  criterion=entropy, max_depth=5, min_samples_split=2, score=0.782, total=   0.0s\n",
      "[CV] criterion=entropy, max_depth=5, min_samples_split=2 .............\n",
      "[CV]  criterion=entropy, max_depth=5, min_samples_split=2, score=0.891, total=   0.0s\n",
      "[CV] criterion=entropy, max_depth=5, min_samples_split=2 .............\n",
      "[CV]  criterion=entropy, max_depth=5, min_samples_split=2, score=0.874, total=   0.0s\n",
      "[CV] criterion=entropy, max_depth=5, min_samples_split=10 ............\n",
      "[CV]  criterion=entropy, max_depth=5, min_samples_split=10, score=0.783, total=   0.0s\n",
      "[CV] criterion=entropy, max_depth=5, min_samples_split=10 ............\n",
      "[CV]  criterion=entropy, max_depth=5, min_samples_split=10, score=0.866, total=   0.0s\n",
      "[CV] criterion=entropy, max_depth=5, min_samples_split=10 ............\n",
      "[CV]  criterion=entropy, max_depth=5, min_samples_split=10, score=0.798, total=   0.0s\n",
      "[CV] criterion=entropy, max_depth=5, min_samples_split=10 ............\n",
      "[CV]  criterion=entropy, max_depth=5, min_samples_split=10, score=0.891, total=   0.0s\n",
      "[CV] criterion=entropy, max_depth=5, min_samples_split=10 ............\n",
      "[CV]  criterion=entropy, max_depth=5, min_samples_split=10, score=0.866, total=   0.0s\n",
      "[CV] criterion=entropy, max_depth=5, min_samples_split=100 ...........\n",
      "[CV]  criterion=entropy, max_depth=5, min_samples_split=100, score=0.800, total=   0.0s\n",
      "[CV] criterion=entropy, max_depth=5, min_samples_split=100 ...........\n",
      "[CV]  criterion=entropy, max_depth=5, min_samples_split=100, score=0.857, total=   0.0s\n",
      "[CV] criterion=entropy, max_depth=5, min_samples_split=100 ...........\n",
      "[CV]  criterion=entropy, max_depth=5, min_samples_split=100, score=0.773, total=   0.0s\n",
      "[CV] criterion=entropy, max_depth=5, min_samples_split=100 ...........\n",
      "[CV]  criterion=entropy, max_depth=5, min_samples_split=100, score=0.857, total=   0.0s\n",
      "[CV] criterion=entropy, max_depth=5, min_samples_split=100 ...........\n",
      "[CV]  criterion=entropy, max_depth=5, min_samples_split=100, score=0.857, total=   0.0s\n",
      "[CV] criterion=entropy, max_depth=10, min_samples_split=2 ............\n",
      "[CV]  criterion=entropy, max_depth=10, min_samples_split=2, score=0.750, total=   0.0s\n",
      "[CV] criterion=entropy, max_depth=10, min_samples_split=2 ............\n",
      "[CV]  criterion=entropy, max_depth=10, min_samples_split=2, score=0.824, total=   0.0s\n",
      "[CV] criterion=entropy, max_depth=10, min_samples_split=2 ............\n",
      "[CV]  criterion=entropy, max_depth=10, min_samples_split=2, score=0.739, total=   0.0s\n",
      "[CV] criterion=entropy, max_depth=10, min_samples_split=2 ............\n",
      "[CV]  criterion=entropy, max_depth=10, min_samples_split=2, score=0.840, total=   0.0s\n",
      "[CV] criterion=entropy, max_depth=10, min_samples_split=2 ............\n",
      "[CV]  criterion=entropy, max_depth=10, min_samples_split=2, score=0.891, total=   0.0s\n",
      "[CV] criterion=entropy, max_depth=10, min_samples_split=10 ...........\n",
      "[CV]  criterion=entropy, max_depth=10, min_samples_split=10, score=0.783, total=   0.0s\n",
      "[CV] criterion=entropy, max_depth=10, min_samples_split=10 ...........\n",
      "[CV]  criterion=entropy, max_depth=10, min_samples_split=10, score=0.840, total=   0.0s\n",
      "[CV] criterion=entropy, max_depth=10, min_samples_split=10 ...........\n",
      "[CV]  criterion=entropy, max_depth=10, min_samples_split=10, score=0.731, total=   0.0s\n",
      "[CV] criterion=entropy, max_depth=10, min_samples_split=10 ...........\n",
      "[CV]  criterion=entropy, max_depth=10, min_samples_split=10, score=0.866, total=   0.0s\n",
      "[CV] criterion=entropy, max_depth=10, min_samples_split=10 ...........\n",
      "[CV]  criterion=entropy, max_depth=10, min_samples_split=10, score=0.874, total=   0.0s\n",
      "[CV] criterion=entropy, max_depth=10, min_samples_split=100 ..........\n",
      "[CV]  criterion=entropy, max_depth=10, min_samples_split=100, score=0.800, total=   0.0s\n",
      "[CV] criterion=entropy, max_depth=10, min_samples_split=100 ..........\n",
      "[CV]  criterion=entropy, max_depth=10, min_samples_split=100, score=0.840, total=   0.0s\n",
      "[CV] criterion=entropy, max_depth=10, min_samples_split=100 ..........\n",
      "[CV]  criterion=entropy, max_depth=10, min_samples_split=100, score=0.773, total=   0.0s\n",
      "[CV] criterion=entropy, max_depth=10, min_samples_split=100 ..........\n",
      "[CV]  criterion=entropy, max_depth=10, min_samples_split=100, score=0.857, total=   0.0s\n",
      "[CV] criterion=entropy, max_depth=10, min_samples_split=100 ..........\n",
      "[CV]  criterion=entropy, max_depth=10, min_samples_split=100, score=0.857, total=   0.0s\n"
     ]
    },
    {
     "name": "stderr",
     "output_type": "stream",
     "text": [
      "[Parallel(n_jobs=1)]: Done 120 out of 120 | elapsed:    0.4s finished\n"
     ]
    },
    {
     "data": {
      "text/html": [
       "<style>div.sk-top-container {color: black;background-color: white;}div.sk-toggleable {background-color: white;}label.sk-toggleable__label {cursor: pointer;display: block;width: 100%;margin-bottom: 0;padding: 0.2em 0.3em;box-sizing: border-box;text-align: center;}div.sk-toggleable__content {max-height: 0;max-width: 0;overflow: hidden;text-align: left;background-color: #f0f8ff;}div.sk-toggleable__content pre {margin: 0.2em;color: black;border-radius: 0.25em;background-color: #f0f8ff;}input.sk-toggleable__control:checked~div.sk-toggleable__content {max-height: 200px;max-width: 100%;overflow: auto;}div.sk-estimator input.sk-toggleable__control:checked~label.sk-toggleable__label {background-color: #d4ebff;}div.sk-label input.sk-toggleable__control:checked~label.sk-toggleable__label {background-color: #d4ebff;}input.sk-hidden--visually {border: 0;clip: rect(1px 1px 1px 1px);clip: rect(1px, 1px, 1px, 1px);height: 1px;margin: -1px;overflow: hidden;padding: 0;position: absolute;width: 1px;}div.sk-estimator {font-family: monospace;background-color: #f0f8ff;margin: 0.25em 0.25em;border: 1px dotted black;border-radius: 0.25em;box-sizing: border-box;}div.sk-estimator:hover {background-color: #d4ebff;}div.sk-parallel-item::after {content: \"\";width: 100%;border-bottom: 1px solid gray;flex-grow: 1;}div.sk-label:hover label.sk-toggleable__label {background-color: #d4ebff;}div.sk-serial::before {content: \"\";position: absolute;border-left: 1px solid gray;box-sizing: border-box;top: 2em;bottom: 0;left: 50%;}div.sk-serial {display: flex;flex-direction: column;align-items: center;background-color: white;}div.sk-item {z-index: 1;}div.sk-parallel {display: flex;align-items: stretch;justify-content: center;background-color: white;}div.sk-parallel-item {display: flex;flex-direction: column;position: relative;background-color: white;}div.sk-parallel-item:first-child::after {align-self: flex-end;width: 50%;}div.sk-parallel-item:last-child::after {align-self: flex-start;width: 50%;}div.sk-parallel-item:only-child::after {width: 0;}div.sk-dashed-wrapped {border: 1px dashed gray;margin: 0.2em;box-sizing: border-box;padding-bottom: 0.1em;background-color: white;position: relative;}div.sk-label label {font-family: monospace;font-weight: bold;background-color: white;display: inline-block;line-height: 1.2em;}div.sk-label-container {position: relative;z-index: 2;text-align: center;}div.sk-container {display: inline-block;position: relative;}</style><div class=\"sk-top-container\"><div class=\"sk-container\"><div class=\"sk-item sk-dashed-wrapped\"><div class=\"sk-label-container\"><div class=\"sk-label sk-toggleable\"><input class=\"sk-toggleable__control sk-hidden--visually\" id=\"3c531378-c1dc-4571-8668-c711bd441b10\" type=\"checkbox\" ><label class=\"sk-toggleable__label\" for=\"3c531378-c1dc-4571-8668-c711bd441b10\">Pipeline</label><div class=\"sk-toggleable__content\"><pre>Pipeline(steps=[('columntransformer',\n",
       "                 ColumnTransformer(remainder='passthrough',\n",
       "                                   transformers=[('onehotencoder',\n",
       "                                                  OneHotEncoder(sparse='false'),\n",
       "                                                  [2, 6, 10]),\n",
       "                                                 ('ordinalencoder',\n",
       "                                                  OrdinalEncoder(), [1, 8])])),\n",
       "                ('gridsearchcv',\n",
       "                 GridSearchCV(estimator=DecisionTreeClassifier(),\n",
       "                              param_grid={'criterion': ['gini', 'entropy'],\n",
       "                                          'max_depth': [None, 2, 5, 10],\n",
       "                                          'min_samples_split': [2, 10, 100]},\n",
       "                              verbose=3))])</pre></div></div></div><div class=\"sk-serial\"><div class=\"sk-item sk-dashed-wrapped\"><div class=\"sk-label-container\"><div class=\"sk-label sk-toggleable\"><input class=\"sk-toggleable__control sk-hidden--visually\" id=\"c4197bb4-ebf8-4b1b-b7db-03fc68d78121\" type=\"checkbox\" ><label class=\"sk-toggleable__label\" for=\"c4197bb4-ebf8-4b1b-b7db-03fc68d78121\">columntransformer: ColumnTransformer</label><div class=\"sk-toggleable__content\"><pre>ColumnTransformer(remainder='passthrough',\n",
       "                  transformers=[('onehotencoder', OneHotEncoder(sparse='false'),\n",
       "                                 [2, 6, 10]),\n",
       "                                ('ordinalencoder', OrdinalEncoder(), [1, 8])])</pre></div></div></div><div class=\"sk-parallel\"><div class=\"sk-parallel-item\"><div class=\"sk-item\"><div class=\"sk-label-container\"><div class=\"sk-label sk-toggleable\"><input class=\"sk-toggleable__control sk-hidden--visually\" id=\"379fc4fd-b929-4d2e-933e-21e567e3f316\" type=\"checkbox\" ><label class=\"sk-toggleable__label\" for=\"379fc4fd-b929-4d2e-933e-21e567e3f316\">onehotencoder</label><div class=\"sk-toggleable__content\"><pre>[2, 6, 10]</pre></div></div></div><div class=\"sk-serial\"><div class=\"sk-item\"><div class=\"sk-estimator sk-toggleable\"><input class=\"sk-toggleable__control sk-hidden--visually\" id=\"05a87d5c-6db0-4c34-b18a-54b1c56b4780\" type=\"checkbox\" ><label class=\"sk-toggleable__label\" for=\"05a87d5c-6db0-4c34-b18a-54b1c56b4780\">OneHotEncoder</label><div class=\"sk-toggleable__content\"><pre>OneHotEncoder(sparse='false')</pre></div></div></div></div></div></div><div class=\"sk-parallel-item\"><div class=\"sk-item\"><div class=\"sk-label-container\"><div class=\"sk-label sk-toggleable\"><input class=\"sk-toggleable__control sk-hidden--visually\" id=\"39870a52-c317-410e-baea-728d91d2b281\" type=\"checkbox\" ><label class=\"sk-toggleable__label\" for=\"39870a52-c317-410e-baea-728d91d2b281\">ordinalencoder</label><div class=\"sk-toggleable__content\"><pre>[1, 8]</pre></div></div></div><div class=\"sk-serial\"><div class=\"sk-item\"><div class=\"sk-estimator sk-toggleable\"><input class=\"sk-toggleable__control sk-hidden--visually\" id=\"b4f82e5a-81e3-4290-bcc0-6fcecb1f5eef\" type=\"checkbox\" ><label class=\"sk-toggleable__label\" for=\"b4f82e5a-81e3-4290-bcc0-6fcecb1f5eef\">OrdinalEncoder</label><div class=\"sk-toggleable__content\"><pre>OrdinalEncoder()</pre></div></div></div></div></div></div></div></div><div class=\"sk-item sk-dashed-wrapped\"><div class=\"sk-label-container\"><div class=\"sk-label sk-toggleable\"><input class=\"sk-toggleable__control sk-hidden--visually\" id=\"70a57114-105e-42a8-bc95-528641e34758\" type=\"checkbox\" ><label class=\"sk-toggleable__label\" for=\"70a57114-105e-42a8-bc95-528641e34758\">gridsearchcv: GridSearchCV</label><div class=\"sk-toggleable__content\"><pre>GridSearchCV(estimator=DecisionTreeClassifier(),\n",
       "             param_grid={'criterion': ['gini', 'entropy'],\n",
       "                         'max_depth': [None, 2, 5, 10],\n",
       "                         'min_samples_split': [2, 10, 100]},\n",
       "             verbose=3)</pre></div></div></div><div class=\"sk-parallel\"><div class=\"sk-parallel-item\"><div class=\"sk-item\"><div class=\"sk-serial\"><div class=\"sk-item\"><div class=\"sk-estimator sk-toggleable\"><input class=\"sk-toggleable__control sk-hidden--visually\" id=\"800d3bd0-ad34-40f5-9890-f5fddb87b65f\" type=\"checkbox\" ><label class=\"sk-toggleable__label\" for=\"800d3bd0-ad34-40f5-9890-f5fddb87b65f\">DecisionTreeClassifier</label><div class=\"sk-toggleable__content\"><pre>DecisionTreeClassifier()</pre></div></div></div></div></div></div></div></div></div></div></div></div>"
      ],
      "text/plain": [
       "Pipeline(steps=[('columntransformer',\n",
       "                 ColumnTransformer(remainder='passthrough',\n",
       "                                   transformers=[('onehotencoder',\n",
       "                                                  OneHotEncoder(sparse='false'),\n",
       "                                                  [2, 6, 10]),\n",
       "                                                 ('ordinalencoder',\n",
       "                                                  OrdinalEncoder(), [1, 8])])),\n",
       "                ('gridsearchcv',\n",
       "                 GridSearchCV(estimator=DecisionTreeClassifier(),\n",
       "                              param_grid={'criterion': ['gini', 'entropy'],\n",
       "                                          'max_depth': [None, 2, 5, 10],\n",
       "                                          'min_samples_split': [2, 10, 100]},\n",
       "                              verbose=3))])"
      ]
     },
     "execution_count": 43,
     "metadata": {},
     "output_type": "execute_result"
    }
   ],
   "source": [
    "pipe_z.fit(x_train,y_train)"
   ]
  },
  {
   "cell_type": "code",
   "execution_count": 44,
   "id": "c795f63b",
   "metadata": {
    "execution": {
     "iopub.execute_input": "2023-01-25T05:20:58.962122Z",
     "iopub.status.busy": "2023-01-25T05:20:58.959279Z",
     "iopub.status.idle": "2023-01-25T05:20:58.968406Z",
     "shell.execute_reply": "2023-01-25T05:20:58.967667Z",
     "shell.execute_reply.started": "2022-01-31T12:27:44.642935Z"
    },
    "papermill": {
     "duration": 0.103481,
     "end_time": "2023-01-25T05:20:58.968617",
     "exception": false,
     "start_time": "2023-01-25T05:20:58.865136",
     "status": "completed"
    },
    "tags": []
   },
   "outputs": [
    {
     "data": {
      "text/plain": [
       "array([0, 0, 0, 1, 0, 0, 1, 0, 0, 1, 1, 0, 1, 1, 0, 0, 1, 1, 0, 1, 1, 1,\n",
       "       0, 0, 0, 0, 0, 1, 0, 0, 1, 1, 1, 0, 0, 1, 0, 0, 1, 0, 1, 1, 0, 1,\n",
       "       0, 0, 0, 1, 0, 0, 1, 1, 0, 0, 0, 0, 0, 0, 0, 1, 1, 1, 1, 0, 0, 1,\n",
       "       1, 1, 1, 0, 0, 0, 1, 1, 1, 1, 0, 1, 0, 1, 1, 0, 1, 1, 1, 0, 1, 0,\n",
       "       0, 0, 0, 1, 1, 1, 1, 1, 0, 1, 1, 1, 1, 1, 1, 0, 0, 0, 0, 0, 0, 0,\n",
       "       1, 1, 1, 1, 0, 1, 0, 0, 1, 1, 0, 0, 1, 0, 1, 0, 0, 1, 1, 1, 1, 1,\n",
       "       1, 1, 0, 1, 1, 0, 1, 0, 0, 0, 1, 1, 1, 1, 0, 0, 1, 0, 1, 0, 0, 1,\n",
       "       0, 1, 1, 0, 1, 0, 0, 1, 1, 0, 0, 1, 1, 0, 1, 1, 0, 0, 1, 1, 0, 1,\n",
       "       0, 0, 1, 1, 0, 0, 0, 0, 0, 0, 0, 0, 0, 0, 1, 1, 0, 1, 0, 1, 1, 0,\n",
       "       0, 1, 0, 0, 0, 1, 0, 0, 0, 1, 1, 0, 1, 0, 1, 1, 0, 0, 1, 1, 1, 1,\n",
       "       1, 0, 0, 0, 0, 0, 1, 0, 0, 0, 1, 0, 0, 1, 1, 0, 1, 1, 1, 0, 1, 0,\n",
       "       0, 1, 0, 1, 1, 0, 1, 0, 0, 0, 1, 0, 1, 1, 1, 1, 0, 1, 0, 0, 1, 1,\n",
       "       1, 0, 1, 1, 0, 1, 1, 1, 0, 1, 1, 0, 1, 0, 1, 1, 1, 0, 0, 0, 0, 0,\n",
       "       0, 1, 0, 0, 1, 0, 1, 0, 1, 1, 1, 0, 1, 1, 1, 0, 1, 0, 0, 1, 1, 0,\n",
       "       0, 1, 0, 1, 1, 1, 1, 1, 1, 1, 1, 0, 0, 1])"
      ]
     },
     "execution_count": 44,
     "metadata": {},
     "output_type": "execute_result"
    }
   ],
   "source": [
    "pred_2=pipe_z.predict(x_test)\n",
    "pred_2"
   ]
  },
  {
   "cell_type": "code",
   "execution_count": 45,
   "id": "933d3763",
   "metadata": {
    "execution": {
     "iopub.execute_input": "2023-01-25T05:20:59.117654Z",
     "iopub.status.busy": "2023-01-25T05:20:59.116572Z",
     "iopub.status.idle": "2023-01-25T05:20:59.120034Z",
     "shell.execute_reply": "2023-01-25T05:20:59.120562Z",
     "shell.execute_reply.started": "2022-01-31T12:27:44.659279Z"
    },
    "papermill": {
     "duration": 0.082017,
     "end_time": "2023-01-25T05:20:59.120741",
     "exception": false,
     "start_time": "2023-01-25T05:20:59.038724",
     "status": "completed"
    },
    "tags": []
   },
   "outputs": [
    {
     "data": {
      "text/plain": [
       "81.36645962732919"
      ]
     },
     "execution_count": 45,
     "metadata": {},
     "output_type": "execute_result"
    }
   ],
   "source": [
    "accuracy_score(pred_2,y_test)*100"
   ]
  },
  {
   "cell_type": "code",
   "execution_count": 46,
   "id": "104d925d",
   "metadata": {
    "execution": {
     "iopub.execute_input": "2023-01-25T05:20:59.270823Z",
     "iopub.status.busy": "2023-01-25T05:20:59.269673Z",
     "iopub.status.idle": "2023-01-25T05:20:59.274893Z",
     "shell.execute_reply": "2023-01-25T05:20:59.274217Z",
     "shell.execute_reply.started": "2022-01-31T12:27:44.668299Z"
    },
    "papermill": {
     "duration": 0.082626,
     "end_time": "2023-01-25T05:20:59.275042",
     "exception": false,
     "start_time": "2023-01-25T05:20:59.192416",
     "status": "completed"
    },
    "tags": []
   },
   "outputs": [
    {
     "data": {
      "text/plain": [
       "{'criterion': 'entropy', 'max_depth': 5, 'min_samples_split': 10}"
      ]
     },
     "execution_count": 46,
     "metadata": {},
     "output_type": "execute_result"
    }
   ],
   "source": [
    "pipe_z.named_steps['gridsearchcv'].best_params_"
   ]
  },
  {
   "cell_type": "code",
   "execution_count": 47,
   "id": "e1efe80c",
   "metadata": {
    "execution": {
     "iopub.execute_input": "2023-01-25T05:20:59.458175Z",
     "iopub.status.busy": "2023-01-25T05:20:59.442251Z",
     "iopub.status.idle": "2023-01-25T05:20:59.477946Z",
     "shell.execute_reply": "2023-01-25T05:20:59.477218Z",
     "shell.execute_reply.started": "2022-01-31T12:27:44.684257Z"
    },
    "papermill": {
     "duration": 0.132494,
     "end_time": "2023-01-25T05:20:59.478096",
     "exception": false,
     "start_time": "2023-01-25T05:20:59.345602",
     "status": "completed"
    },
    "tags": []
   },
   "outputs": [
    {
     "data": {
      "text/html": [
       "<style>div.sk-top-container {color: black;background-color: white;}div.sk-toggleable {background-color: white;}label.sk-toggleable__label {cursor: pointer;display: block;width: 100%;margin-bottom: 0;padding: 0.2em 0.3em;box-sizing: border-box;text-align: center;}div.sk-toggleable__content {max-height: 0;max-width: 0;overflow: hidden;text-align: left;background-color: #f0f8ff;}div.sk-toggleable__content pre {margin: 0.2em;color: black;border-radius: 0.25em;background-color: #f0f8ff;}input.sk-toggleable__control:checked~div.sk-toggleable__content {max-height: 200px;max-width: 100%;overflow: auto;}div.sk-estimator input.sk-toggleable__control:checked~label.sk-toggleable__label {background-color: #d4ebff;}div.sk-label input.sk-toggleable__control:checked~label.sk-toggleable__label {background-color: #d4ebff;}input.sk-hidden--visually {border: 0;clip: rect(1px 1px 1px 1px);clip: rect(1px, 1px, 1px, 1px);height: 1px;margin: -1px;overflow: hidden;padding: 0;position: absolute;width: 1px;}div.sk-estimator {font-family: monospace;background-color: #f0f8ff;margin: 0.25em 0.25em;border: 1px dotted black;border-radius: 0.25em;box-sizing: border-box;}div.sk-estimator:hover {background-color: #d4ebff;}div.sk-parallel-item::after {content: \"\";width: 100%;border-bottom: 1px solid gray;flex-grow: 1;}div.sk-label:hover label.sk-toggleable__label {background-color: #d4ebff;}div.sk-serial::before {content: \"\";position: absolute;border-left: 1px solid gray;box-sizing: border-box;top: 2em;bottom: 0;left: 50%;}div.sk-serial {display: flex;flex-direction: column;align-items: center;background-color: white;}div.sk-item {z-index: 1;}div.sk-parallel {display: flex;align-items: stretch;justify-content: center;background-color: white;}div.sk-parallel-item {display: flex;flex-direction: column;position: relative;background-color: white;}div.sk-parallel-item:first-child::after {align-self: flex-end;width: 50%;}div.sk-parallel-item:last-child::after {align-self: flex-start;width: 50%;}div.sk-parallel-item:only-child::after {width: 0;}div.sk-dashed-wrapped {border: 1px dashed gray;margin: 0.2em;box-sizing: border-box;padding-bottom: 0.1em;background-color: white;position: relative;}div.sk-label label {font-family: monospace;font-weight: bold;background-color: white;display: inline-block;line-height: 1.2em;}div.sk-label-container {position: relative;z-index: 2;text-align: center;}div.sk-container {display: inline-block;position: relative;}</style><div class=\"sk-top-container\"><div class=\"sk-container\"><div class=\"sk-item sk-dashed-wrapped\"><div class=\"sk-label-container\"><div class=\"sk-label sk-toggleable\"><input class=\"sk-toggleable__control sk-hidden--visually\" id=\"9096b0e1-2211-43a3-b0f0-8482b87c4366\" type=\"checkbox\" ><label class=\"sk-toggleable__label\" for=\"9096b0e1-2211-43a3-b0f0-8482b87c4366\">Pipeline</label><div class=\"sk-toggleable__content\"><pre>Pipeline(steps=[('columntransformer',\n",
       "                 ColumnTransformer(remainder='passthrough',\n",
       "                                   transformers=[('onehotencoder',\n",
       "                                                  OneHotEncoder(sparse='false'),\n",
       "                                                  [2, 6, 10]),\n",
       "                                                 ('ordinalencoder',\n",
       "                                                  OrdinalEncoder(), [1, 8])])),\n",
       "                ('gridsearchcv',\n",
       "                 GridSearchCV(estimator=DecisionTreeClassifier(),\n",
       "                              param_grid={'criterion': ['entropy'],\n",
       "                                          'max_depth': [5],\n",
       "                                          'min_samples_split': [2]},\n",
       "                              verbose=3))])</pre></div></div></div><div class=\"sk-serial\"><div class=\"sk-item sk-dashed-wrapped\"><div class=\"sk-label-container\"><div class=\"sk-label sk-toggleable\"><input class=\"sk-toggleable__control sk-hidden--visually\" id=\"80bfc6a2-f413-4b8a-b43f-b6e0b931de98\" type=\"checkbox\" ><label class=\"sk-toggleable__label\" for=\"80bfc6a2-f413-4b8a-b43f-b6e0b931de98\">columntransformer: ColumnTransformer</label><div class=\"sk-toggleable__content\"><pre>ColumnTransformer(remainder='passthrough',\n",
       "                  transformers=[('onehotencoder', OneHotEncoder(sparse='false'),\n",
       "                                 [2, 6, 10]),\n",
       "                                ('ordinalencoder', OrdinalEncoder(), [1, 8])])</pre></div></div></div><div class=\"sk-parallel\"><div class=\"sk-parallel-item\"><div class=\"sk-item\"><div class=\"sk-label-container\"><div class=\"sk-label sk-toggleable\"><input class=\"sk-toggleable__control sk-hidden--visually\" id=\"b71465db-afb2-41f7-8741-32b5fe3e7479\" type=\"checkbox\" ><label class=\"sk-toggleable__label\" for=\"b71465db-afb2-41f7-8741-32b5fe3e7479\">onehotencoder</label><div class=\"sk-toggleable__content\"><pre>[2, 6, 10]</pre></div></div></div><div class=\"sk-serial\"><div class=\"sk-item\"><div class=\"sk-estimator sk-toggleable\"><input class=\"sk-toggleable__control sk-hidden--visually\" id=\"6014c767-3d8e-4575-9f99-e75d002933a9\" type=\"checkbox\" ><label class=\"sk-toggleable__label\" for=\"6014c767-3d8e-4575-9f99-e75d002933a9\">OneHotEncoder</label><div class=\"sk-toggleable__content\"><pre>OneHotEncoder(sparse='false')</pre></div></div></div></div></div></div><div class=\"sk-parallel-item\"><div class=\"sk-item\"><div class=\"sk-label-container\"><div class=\"sk-label sk-toggleable\"><input class=\"sk-toggleable__control sk-hidden--visually\" id=\"6c960309-1dae-48c4-84fb-a86248236dc6\" type=\"checkbox\" ><label class=\"sk-toggleable__label\" for=\"6c960309-1dae-48c4-84fb-a86248236dc6\">ordinalencoder</label><div class=\"sk-toggleable__content\"><pre>[1, 8]</pre></div></div></div><div class=\"sk-serial\"><div class=\"sk-item\"><div class=\"sk-estimator sk-toggleable\"><input class=\"sk-toggleable__control sk-hidden--visually\" id=\"6cfb4d0e-2e45-4646-a4b6-fbfc0849580a\" type=\"checkbox\" ><label class=\"sk-toggleable__label\" for=\"6cfb4d0e-2e45-4646-a4b6-fbfc0849580a\">OrdinalEncoder</label><div class=\"sk-toggleable__content\"><pre>OrdinalEncoder()</pre></div></div></div></div></div></div></div></div><div class=\"sk-item sk-dashed-wrapped\"><div class=\"sk-label-container\"><div class=\"sk-label sk-toggleable\"><input class=\"sk-toggleable__control sk-hidden--visually\" id=\"018e9f9c-49df-4dc5-af3a-a0d91a2d83b5\" type=\"checkbox\" ><label class=\"sk-toggleable__label\" for=\"018e9f9c-49df-4dc5-af3a-a0d91a2d83b5\">gridsearchcv: GridSearchCV</label><div class=\"sk-toggleable__content\"><pre>GridSearchCV(estimator=DecisionTreeClassifier(),\n",
       "             param_grid={'criterion': ['entropy'], 'max_depth': [5],\n",
       "                         'min_samples_split': [2]},\n",
       "             verbose=3)</pre></div></div></div><div class=\"sk-parallel\"><div class=\"sk-parallel-item\"><div class=\"sk-item\"><div class=\"sk-serial\"><div class=\"sk-item\"><div class=\"sk-estimator sk-toggleable\"><input class=\"sk-toggleable__control sk-hidden--visually\" id=\"55a455ae-cac1-4f03-90b9-b787c9573594\" type=\"checkbox\" ><label class=\"sk-toggleable__label\" for=\"55a455ae-cac1-4f03-90b9-b787c9573594\">DecisionTreeClassifier</label><div class=\"sk-toggleable__content\"><pre>DecisionTreeClassifier()</pre></div></div></div></div></div></div></div></div></div></div></div></div>"
      ],
      "text/plain": [
       "Pipeline(steps=[('columntransformer',\n",
       "                 ColumnTransformer(remainder='passthrough',\n",
       "                                   transformers=[('onehotencoder',\n",
       "                                                  OneHotEncoder(sparse='false'),\n",
       "                                                  [2, 6, 10]),\n",
       "                                                 ('ordinalencoder',\n",
       "                                                  OrdinalEncoder(), [1, 8])])),\n",
       "                ('gridsearchcv',\n",
       "                 GridSearchCV(estimator=DecisionTreeClassifier(),\n",
       "                              param_grid={'criterion': ['entropy'],\n",
       "                                          'max_depth': [5],\n",
       "                                          'min_samples_split': [2]},\n",
       "                              verbose=3))])"
      ]
     },
     "execution_count": 47,
     "metadata": {},
     "output_type": "execute_result"
    }
   ],
   "source": [
    "params_1={'criterion':['entropy'],'max_depth':[5],'min_samples_split':[2]}\n",
    "pipe_x=make_pipeline(trans,GridSearchCV(algorithm3,params_1,verbose=3,refit=True))\n",
    "pipe_x"
   ]
  },
  {
   "cell_type": "code",
   "execution_count": 48,
   "id": "f0d5e3c2",
   "metadata": {
    "execution": {
     "iopub.execute_input": "2023-01-25T05:20:59.632700Z",
     "iopub.status.busy": "2023-01-25T05:20:59.631929Z",
     "iopub.status.idle": "2023-01-25T05:20:59.712870Z",
     "shell.execute_reply": "2023-01-25T05:20:59.713400Z",
     "shell.execute_reply.started": "2022-01-31T12:27:44.749130Z"
    },
    "papermill": {
     "duration": 0.161536,
     "end_time": "2023-01-25T05:20:59.713600",
     "exception": false,
     "start_time": "2023-01-25T05:20:59.552064",
     "status": "completed"
    },
    "tags": []
   },
   "outputs": [
    {
     "name": "stdout",
     "output_type": "stream",
     "text": [
      "Fitting 5 folds for each of 1 candidates, totalling 5 fits\n",
      "[CV] criterion=entropy, max_depth=5, min_samples_split=2 .............\n",
      "[CV]  criterion=entropy, max_depth=5, min_samples_split=2, score=0.783, total=   0.0s\n",
      "[CV] criterion=entropy, max_depth=5, min_samples_split=2 .............\n",
      "[CV]  criterion=entropy, max_depth=5, min_samples_split=2, score=0.882, total=   0.0s\n",
      "[CV] criterion=entropy, max_depth=5, min_samples_split=2 .............\n",
      "[CV]  criterion=entropy, max_depth=5, min_samples_split=2, score=0.782, total=   0.0s\n",
      "[CV] criterion=entropy, max_depth=5, min_samples_split=2 .............\n",
      "[CV]  criterion=entropy, max_depth=5, min_samples_split=2, score=0.891, total=   0.0s\n",
      "[CV] criterion=entropy, max_depth=5, min_samples_split=2 .............\n",
      "[CV]  criterion=entropy, max_depth=5, min_samples_split=2, score=0.857, total=   0.0s\n"
     ]
    },
    {
     "name": "stderr",
     "output_type": "stream",
     "text": [
      "[Parallel(n_jobs=1)]: Using backend SequentialBackend with 1 concurrent workers.\n",
      "[Parallel(n_jobs=1)]: Done   1 out of   1 | elapsed:    0.0s remaining:    0.0s\n",
      "[Parallel(n_jobs=1)]: Done   2 out of   2 | elapsed:    0.0s remaining:    0.0s\n",
      "[Parallel(n_jobs=1)]: Done   5 out of   5 | elapsed:    0.0s finished\n"
     ]
    },
    {
     "data": {
      "text/html": [
       "<style>div.sk-top-container {color: black;background-color: white;}div.sk-toggleable {background-color: white;}label.sk-toggleable__label {cursor: pointer;display: block;width: 100%;margin-bottom: 0;padding: 0.2em 0.3em;box-sizing: border-box;text-align: center;}div.sk-toggleable__content {max-height: 0;max-width: 0;overflow: hidden;text-align: left;background-color: #f0f8ff;}div.sk-toggleable__content pre {margin: 0.2em;color: black;border-radius: 0.25em;background-color: #f0f8ff;}input.sk-toggleable__control:checked~div.sk-toggleable__content {max-height: 200px;max-width: 100%;overflow: auto;}div.sk-estimator input.sk-toggleable__control:checked~label.sk-toggleable__label {background-color: #d4ebff;}div.sk-label input.sk-toggleable__control:checked~label.sk-toggleable__label {background-color: #d4ebff;}input.sk-hidden--visually {border: 0;clip: rect(1px 1px 1px 1px);clip: rect(1px, 1px, 1px, 1px);height: 1px;margin: -1px;overflow: hidden;padding: 0;position: absolute;width: 1px;}div.sk-estimator {font-family: monospace;background-color: #f0f8ff;margin: 0.25em 0.25em;border: 1px dotted black;border-radius: 0.25em;box-sizing: border-box;}div.sk-estimator:hover {background-color: #d4ebff;}div.sk-parallel-item::after {content: \"\";width: 100%;border-bottom: 1px solid gray;flex-grow: 1;}div.sk-label:hover label.sk-toggleable__label {background-color: #d4ebff;}div.sk-serial::before {content: \"\";position: absolute;border-left: 1px solid gray;box-sizing: border-box;top: 2em;bottom: 0;left: 50%;}div.sk-serial {display: flex;flex-direction: column;align-items: center;background-color: white;}div.sk-item {z-index: 1;}div.sk-parallel {display: flex;align-items: stretch;justify-content: center;background-color: white;}div.sk-parallel-item {display: flex;flex-direction: column;position: relative;background-color: white;}div.sk-parallel-item:first-child::after {align-self: flex-end;width: 50%;}div.sk-parallel-item:last-child::after {align-self: flex-start;width: 50%;}div.sk-parallel-item:only-child::after {width: 0;}div.sk-dashed-wrapped {border: 1px dashed gray;margin: 0.2em;box-sizing: border-box;padding-bottom: 0.1em;background-color: white;position: relative;}div.sk-label label {font-family: monospace;font-weight: bold;background-color: white;display: inline-block;line-height: 1.2em;}div.sk-label-container {position: relative;z-index: 2;text-align: center;}div.sk-container {display: inline-block;position: relative;}</style><div class=\"sk-top-container\"><div class=\"sk-container\"><div class=\"sk-item sk-dashed-wrapped\"><div class=\"sk-label-container\"><div class=\"sk-label sk-toggleable\"><input class=\"sk-toggleable__control sk-hidden--visually\" id=\"98c594b3-bf41-4782-84b2-568f01a9b74c\" type=\"checkbox\" ><label class=\"sk-toggleable__label\" for=\"98c594b3-bf41-4782-84b2-568f01a9b74c\">Pipeline</label><div class=\"sk-toggleable__content\"><pre>Pipeline(steps=[('columntransformer',\n",
       "                 ColumnTransformer(remainder='passthrough',\n",
       "                                   transformers=[('onehotencoder',\n",
       "                                                  OneHotEncoder(sparse='false'),\n",
       "                                                  [2, 6, 10]),\n",
       "                                                 ('ordinalencoder',\n",
       "                                                  OrdinalEncoder(), [1, 8])])),\n",
       "                ('gridsearchcv',\n",
       "                 GridSearchCV(estimator=DecisionTreeClassifier(),\n",
       "                              param_grid={'criterion': ['entropy'],\n",
       "                                          'max_depth': [5],\n",
       "                                          'min_samples_split': [2]},\n",
       "                              verbose=3))])</pre></div></div></div><div class=\"sk-serial\"><div class=\"sk-item sk-dashed-wrapped\"><div class=\"sk-label-container\"><div class=\"sk-label sk-toggleable\"><input class=\"sk-toggleable__control sk-hidden--visually\" id=\"f46ca99b-3e01-429a-9864-e56c01a8d84c\" type=\"checkbox\" ><label class=\"sk-toggleable__label\" for=\"f46ca99b-3e01-429a-9864-e56c01a8d84c\">columntransformer: ColumnTransformer</label><div class=\"sk-toggleable__content\"><pre>ColumnTransformer(remainder='passthrough',\n",
       "                  transformers=[('onehotencoder', OneHotEncoder(sparse='false'),\n",
       "                                 [2, 6, 10]),\n",
       "                                ('ordinalencoder', OrdinalEncoder(), [1, 8])])</pre></div></div></div><div class=\"sk-parallel\"><div class=\"sk-parallel-item\"><div class=\"sk-item\"><div class=\"sk-label-container\"><div class=\"sk-label sk-toggleable\"><input class=\"sk-toggleable__control sk-hidden--visually\" id=\"c913e93b-002f-4a6a-8b4b-dcbfdd44c89d\" type=\"checkbox\" ><label class=\"sk-toggleable__label\" for=\"c913e93b-002f-4a6a-8b4b-dcbfdd44c89d\">onehotencoder</label><div class=\"sk-toggleable__content\"><pre>[2, 6, 10]</pre></div></div></div><div class=\"sk-serial\"><div class=\"sk-item\"><div class=\"sk-estimator sk-toggleable\"><input class=\"sk-toggleable__control sk-hidden--visually\" id=\"6594f924-476b-48ce-90bf-43f2da2c0915\" type=\"checkbox\" ><label class=\"sk-toggleable__label\" for=\"6594f924-476b-48ce-90bf-43f2da2c0915\">OneHotEncoder</label><div class=\"sk-toggleable__content\"><pre>OneHotEncoder(sparse='false')</pre></div></div></div></div></div></div><div class=\"sk-parallel-item\"><div class=\"sk-item\"><div class=\"sk-label-container\"><div class=\"sk-label sk-toggleable\"><input class=\"sk-toggleable__control sk-hidden--visually\" id=\"0f5c3784-0b6a-4904-8a28-7246bf3e4c10\" type=\"checkbox\" ><label class=\"sk-toggleable__label\" for=\"0f5c3784-0b6a-4904-8a28-7246bf3e4c10\">ordinalencoder</label><div class=\"sk-toggleable__content\"><pre>[1, 8]</pre></div></div></div><div class=\"sk-serial\"><div class=\"sk-item\"><div class=\"sk-estimator sk-toggleable\"><input class=\"sk-toggleable__control sk-hidden--visually\" id=\"d72ba82b-d284-4f59-9ed9-e716d122944e\" type=\"checkbox\" ><label class=\"sk-toggleable__label\" for=\"d72ba82b-d284-4f59-9ed9-e716d122944e\">OrdinalEncoder</label><div class=\"sk-toggleable__content\"><pre>OrdinalEncoder()</pre></div></div></div></div></div></div></div></div><div class=\"sk-item sk-dashed-wrapped\"><div class=\"sk-label-container\"><div class=\"sk-label sk-toggleable\"><input class=\"sk-toggleable__control sk-hidden--visually\" id=\"1a097d04-68a0-43a9-b301-ba75208e4504\" type=\"checkbox\" ><label class=\"sk-toggleable__label\" for=\"1a097d04-68a0-43a9-b301-ba75208e4504\">gridsearchcv: GridSearchCV</label><div class=\"sk-toggleable__content\"><pre>GridSearchCV(estimator=DecisionTreeClassifier(),\n",
       "             param_grid={'criterion': ['entropy'], 'max_depth': [5],\n",
       "                         'min_samples_split': [2]},\n",
       "             verbose=3)</pre></div></div></div><div class=\"sk-parallel\"><div class=\"sk-parallel-item\"><div class=\"sk-item\"><div class=\"sk-serial\"><div class=\"sk-item\"><div class=\"sk-estimator sk-toggleable\"><input class=\"sk-toggleable__control sk-hidden--visually\" id=\"2cda5f42-c3ee-4ea4-a43e-6aa00ef9c539\" type=\"checkbox\" ><label class=\"sk-toggleable__label\" for=\"2cda5f42-c3ee-4ea4-a43e-6aa00ef9c539\">DecisionTreeClassifier</label><div class=\"sk-toggleable__content\"><pre>DecisionTreeClassifier()</pre></div></div></div></div></div></div></div></div></div></div></div></div>"
      ],
      "text/plain": [
       "Pipeline(steps=[('columntransformer',\n",
       "                 ColumnTransformer(remainder='passthrough',\n",
       "                                   transformers=[('onehotencoder',\n",
       "                                                  OneHotEncoder(sparse='false'),\n",
       "                                                  [2, 6, 10]),\n",
       "                                                 ('ordinalencoder',\n",
       "                                                  OrdinalEncoder(), [1, 8])])),\n",
       "                ('gridsearchcv',\n",
       "                 GridSearchCV(estimator=DecisionTreeClassifier(),\n",
       "                              param_grid={'criterion': ['entropy'],\n",
       "                                          'max_depth': [5],\n",
       "                                          'min_samples_split': [2]},\n",
       "                              verbose=3))])"
      ]
     },
     "execution_count": 48,
     "metadata": {},
     "output_type": "execute_result"
    }
   ],
   "source": [
    "pipe_x.fit(x_train,y_train)"
   ]
  },
  {
   "cell_type": "code",
   "execution_count": 49,
   "id": "57f4b9c3",
   "metadata": {
    "execution": {
     "iopub.execute_input": "2023-01-25T05:20:59.870515Z",
     "iopub.status.busy": "2023-01-25T05:20:59.861960Z",
     "iopub.status.idle": "2023-01-25T05:20:59.873714Z",
     "shell.execute_reply": "2023-01-25T05:20:59.874250Z",
     "shell.execute_reply.started": "2022-01-31T12:27:44.850964Z"
    },
    "papermill": {
     "duration": 0.087672,
     "end_time": "2023-01-25T05:20:59.874435",
     "exception": false,
     "start_time": "2023-01-25T05:20:59.786763",
     "status": "completed"
    },
    "tags": []
   },
   "outputs": [
    {
     "data": {
      "text/plain": [
       "array([0, 0, 0, 1, 0, 0, 1, 0, 0, 1, 1, 0, 1, 1, 0, 0, 1, 1, 0, 1, 1, 1,\n",
       "       0, 0, 0, 0, 0, 1, 0, 0, 1, 1, 1, 0, 0, 1, 0, 0, 1, 0, 1, 1, 0, 1,\n",
       "       0, 0, 0, 1, 0, 0, 1, 1, 0, 0, 0, 0, 0, 0, 0, 1, 1, 1, 1, 0, 0, 1,\n",
       "       1, 1, 1, 0, 0, 0, 1, 1, 1, 1, 0, 1, 0, 1, 1, 0, 1, 1, 1, 0, 1, 0,\n",
       "       0, 0, 0, 1, 1, 1, 1, 1, 0, 1, 1, 1, 1, 1, 1, 0, 0, 0, 0, 0, 0, 0,\n",
       "       1, 1, 1, 1, 0, 1, 0, 0, 1, 1, 0, 0, 1, 0, 1, 0, 0, 1, 1, 1, 1, 1,\n",
       "       1, 1, 0, 1, 1, 0, 1, 0, 0, 0, 1, 1, 1, 1, 0, 0, 1, 0, 1, 0, 0, 1,\n",
       "       0, 1, 1, 0, 1, 0, 0, 1, 1, 0, 0, 1, 1, 0, 1, 1, 0, 0, 1, 1, 0, 1,\n",
       "       0, 0, 1, 1, 0, 0, 0, 0, 0, 0, 0, 0, 0, 0, 1, 1, 0, 1, 0, 1, 0, 0,\n",
       "       0, 1, 0, 0, 0, 1, 0, 0, 0, 1, 1, 0, 1, 0, 1, 1, 0, 0, 1, 1, 1, 1,\n",
       "       1, 0, 0, 0, 0, 0, 1, 0, 0, 0, 1, 0, 0, 1, 1, 0, 1, 1, 1, 0, 1, 0,\n",
       "       0, 1, 0, 1, 1, 0, 1, 0, 0, 0, 1, 0, 1, 1, 1, 1, 0, 1, 0, 0, 1, 1,\n",
       "       1, 0, 1, 1, 0, 1, 1, 0, 0, 1, 1, 0, 1, 0, 1, 1, 1, 0, 0, 0, 0, 0,\n",
       "       0, 1, 0, 0, 1, 0, 1, 0, 1, 1, 1, 0, 1, 1, 1, 0, 1, 0, 0, 1, 1, 0,\n",
       "       0, 1, 0, 1, 1, 1, 1, 1, 1, 1, 1, 0, 0, 1])"
      ]
     },
     "execution_count": 49,
     "metadata": {},
     "output_type": "execute_result"
    }
   ],
   "source": [
    "pred_3=pipe_x.predict(x_test)\n",
    "pred_3"
   ]
  },
  {
   "cell_type": "code",
   "execution_count": 50,
   "id": "204238b9",
   "metadata": {
    "execution": {
     "iopub.execute_input": "2023-01-25T05:21:00.030570Z",
     "iopub.status.busy": "2023-01-25T05:21:00.029894Z",
     "iopub.status.idle": "2023-01-25T05:21:00.032372Z",
     "shell.execute_reply": "2023-01-25T05:21:00.032930Z",
     "shell.execute_reply.started": "2022-01-31T12:27:44.869170Z"
    },
    "papermill": {
     "duration": 0.082922,
     "end_time": "2023-01-25T05:21:00.033104",
     "exception": false,
     "start_time": "2023-01-25T05:20:59.950182",
     "status": "completed"
    },
    "tags": []
   },
   "outputs": [
    {
     "data": {
      "text/plain": [
       "80.74534161490683"
      ]
     },
     "execution_count": 50,
     "metadata": {},
     "output_type": "execute_result"
    }
   ],
   "source": [
    "accuracy_score(pred_3,y_test)*100"
   ]
  },
  {
   "cell_type": "code",
   "execution_count": 51,
   "id": "cfc18c65",
   "metadata": {
    "execution": {
     "iopub.execute_input": "2023-01-25T05:21:00.183396Z",
     "iopub.status.busy": "2023-01-25T05:21:00.182759Z",
     "iopub.status.idle": "2023-01-25T05:21:00.236017Z",
     "shell.execute_reply": "2023-01-25T05:21:00.235264Z",
     "shell.execute_reply.started": "2022-01-31T12:27:44.879173Z"
    },
    "papermill": {
     "duration": 0.12953,
     "end_time": "2023-01-25T05:21:00.236174",
     "exception": false,
     "start_time": "2023-01-25T05:21:00.106644",
     "status": "completed"
    },
    "tags": []
   },
   "outputs": [
    {
     "data": {
      "text/html": [
       "<style>div.sk-top-container {color: black;background-color: white;}div.sk-toggleable {background-color: white;}label.sk-toggleable__label {cursor: pointer;display: block;width: 100%;margin-bottom: 0;padding: 0.2em 0.3em;box-sizing: border-box;text-align: center;}div.sk-toggleable__content {max-height: 0;max-width: 0;overflow: hidden;text-align: left;background-color: #f0f8ff;}div.sk-toggleable__content pre {margin: 0.2em;color: black;border-radius: 0.25em;background-color: #f0f8ff;}input.sk-toggleable__control:checked~div.sk-toggleable__content {max-height: 200px;max-width: 100%;overflow: auto;}div.sk-estimator input.sk-toggleable__control:checked~label.sk-toggleable__label {background-color: #d4ebff;}div.sk-label input.sk-toggleable__control:checked~label.sk-toggleable__label {background-color: #d4ebff;}input.sk-hidden--visually {border: 0;clip: rect(1px 1px 1px 1px);clip: rect(1px, 1px, 1px, 1px);height: 1px;margin: -1px;overflow: hidden;padding: 0;position: absolute;width: 1px;}div.sk-estimator {font-family: monospace;background-color: #f0f8ff;margin: 0.25em 0.25em;border: 1px dotted black;border-radius: 0.25em;box-sizing: border-box;}div.sk-estimator:hover {background-color: #d4ebff;}div.sk-parallel-item::after {content: \"\";width: 100%;border-bottom: 1px solid gray;flex-grow: 1;}div.sk-label:hover label.sk-toggleable__label {background-color: #d4ebff;}div.sk-serial::before {content: \"\";position: absolute;border-left: 1px solid gray;box-sizing: border-box;top: 2em;bottom: 0;left: 50%;}div.sk-serial {display: flex;flex-direction: column;align-items: center;background-color: white;}div.sk-item {z-index: 1;}div.sk-parallel {display: flex;align-items: stretch;justify-content: center;background-color: white;}div.sk-parallel-item {display: flex;flex-direction: column;position: relative;background-color: white;}div.sk-parallel-item:first-child::after {align-self: flex-end;width: 50%;}div.sk-parallel-item:last-child::after {align-self: flex-start;width: 50%;}div.sk-parallel-item:only-child::after {width: 0;}div.sk-dashed-wrapped {border: 1px dashed gray;margin: 0.2em;box-sizing: border-box;padding-bottom: 0.1em;background-color: white;position: relative;}div.sk-label label {font-family: monospace;font-weight: bold;background-color: white;display: inline-block;line-height: 1.2em;}div.sk-label-container {position: relative;z-index: 2;text-align: center;}div.sk-container {display: inline-block;position: relative;}</style><div class=\"sk-top-container\"><div class=\"sk-container\"><div class=\"sk-item sk-dashed-wrapped\"><div class=\"sk-label-container\"><div class=\"sk-label sk-toggleable\"><input class=\"sk-toggleable__control sk-hidden--visually\" id=\"b6db0163-cb48-403f-a342-10776973d787\" type=\"checkbox\" ><label class=\"sk-toggleable__label\" for=\"b6db0163-cb48-403f-a342-10776973d787\">Pipeline</label><div class=\"sk-toggleable__content\"><pre>Pipeline(steps=[('columntransformer',\n",
       "                 ColumnTransformer(remainder='passthrough',\n",
       "                                   transformers=[('onehotencoder',\n",
       "                                                  OneHotEncoder(sparse='false'),\n",
       "                                                  [2, 6, 10]),\n",
       "                                                 ('ordinalencoder',\n",
       "                                                  OrdinalEncoder(), [1, 8])])),\n",
       "                ('randomizedsearchcv',\n",
       "                 RandomizedSearchCV(estimator=DecisionTreeClassifier(),\n",
       "                                    param_distributions={'criterion': ['gini',\n",
       "                                                                       'entropy'],\n",
       "                                                         'max_depth': [None, 2,\n",
       "                                                                       5, 10],\n",
       "                                                         'min_samples_split': [2,\n",
       "                                                                               10,\n",
       "                                                                               100]},\n",
       "                                    verbose=3))])</pre></div></div></div><div class=\"sk-serial\"><div class=\"sk-item sk-dashed-wrapped\"><div class=\"sk-label-container\"><div class=\"sk-label sk-toggleable\"><input class=\"sk-toggleable__control sk-hidden--visually\" id=\"7995ca8b-f84b-45ee-99b2-7cc03e9ff723\" type=\"checkbox\" ><label class=\"sk-toggleable__label\" for=\"7995ca8b-f84b-45ee-99b2-7cc03e9ff723\">columntransformer: ColumnTransformer</label><div class=\"sk-toggleable__content\"><pre>ColumnTransformer(remainder='passthrough',\n",
       "                  transformers=[('onehotencoder', OneHotEncoder(sparse='false'),\n",
       "                                 [2, 6, 10]),\n",
       "                                ('ordinalencoder', OrdinalEncoder(), [1, 8])])</pre></div></div></div><div class=\"sk-parallel\"><div class=\"sk-parallel-item\"><div class=\"sk-item\"><div class=\"sk-label-container\"><div class=\"sk-label sk-toggleable\"><input class=\"sk-toggleable__control sk-hidden--visually\" id=\"ddde850d-5448-4faf-9b5e-2bd838613f4c\" type=\"checkbox\" ><label class=\"sk-toggleable__label\" for=\"ddde850d-5448-4faf-9b5e-2bd838613f4c\">onehotencoder</label><div class=\"sk-toggleable__content\"><pre>[2, 6, 10]</pre></div></div></div><div class=\"sk-serial\"><div class=\"sk-item\"><div class=\"sk-estimator sk-toggleable\"><input class=\"sk-toggleable__control sk-hidden--visually\" id=\"896bcbdc-f7e5-4193-979d-6ebc59c6f724\" type=\"checkbox\" ><label class=\"sk-toggleable__label\" for=\"896bcbdc-f7e5-4193-979d-6ebc59c6f724\">OneHotEncoder</label><div class=\"sk-toggleable__content\"><pre>OneHotEncoder(sparse='false')</pre></div></div></div></div></div></div><div class=\"sk-parallel-item\"><div class=\"sk-item\"><div class=\"sk-label-container\"><div class=\"sk-label sk-toggleable\"><input class=\"sk-toggleable__control sk-hidden--visually\" id=\"29409183-dc9b-4949-842b-0e736f02fa95\" type=\"checkbox\" ><label class=\"sk-toggleable__label\" for=\"29409183-dc9b-4949-842b-0e736f02fa95\">ordinalencoder</label><div class=\"sk-toggleable__content\"><pre>[1, 8]</pre></div></div></div><div class=\"sk-serial\"><div class=\"sk-item\"><div class=\"sk-estimator sk-toggleable\"><input class=\"sk-toggleable__control sk-hidden--visually\" id=\"71deee18-6150-44ae-830a-06e135a0d917\" type=\"checkbox\" ><label class=\"sk-toggleable__label\" for=\"71deee18-6150-44ae-830a-06e135a0d917\">OrdinalEncoder</label><div class=\"sk-toggleable__content\"><pre>OrdinalEncoder()</pre></div></div></div></div></div></div></div></div><div class=\"sk-item sk-dashed-wrapped\"><div class=\"sk-label-container\"><div class=\"sk-label sk-toggleable\"><input class=\"sk-toggleable__control sk-hidden--visually\" id=\"42d3d66c-79f7-4261-beec-1ebc2cbec415\" type=\"checkbox\" ><label class=\"sk-toggleable__label\" for=\"42d3d66c-79f7-4261-beec-1ebc2cbec415\">randomizedsearchcv: RandomizedSearchCV</label><div class=\"sk-toggleable__content\"><pre>RandomizedSearchCV(estimator=DecisionTreeClassifier(),\n",
       "                   param_distributions={'criterion': ['gini', 'entropy'],\n",
       "                                        'max_depth': [None, 2, 5, 10],\n",
       "                                        'min_samples_split': [2, 10, 100]},\n",
       "                   verbose=3)</pre></div></div></div><div class=\"sk-parallel\"><div class=\"sk-parallel-item\"><div class=\"sk-item\"><div class=\"sk-serial\"><div class=\"sk-item\"><div class=\"sk-estimator sk-toggleable\"><input class=\"sk-toggleable__control sk-hidden--visually\" id=\"8f69b839-d14c-4742-87a4-f0a04d9ef679\" type=\"checkbox\" ><label class=\"sk-toggleable__label\" for=\"8f69b839-d14c-4742-87a4-f0a04d9ef679\">DecisionTreeClassifier</label><div class=\"sk-toggleable__content\"><pre>DecisionTreeClassifier()</pre></div></div></div></div></div></div></div></div></div></div></div></div>"
      ],
      "text/plain": [
       "Pipeline(steps=[('columntransformer',\n",
       "                 ColumnTransformer(remainder='passthrough',\n",
       "                                   transformers=[('onehotencoder',\n",
       "                                                  OneHotEncoder(sparse='false'),\n",
       "                                                  [2, 6, 10]),\n",
       "                                                 ('ordinalencoder',\n",
       "                                                  OrdinalEncoder(), [1, 8])])),\n",
       "                ('randomizedsearchcv',\n",
       "                 RandomizedSearchCV(estimator=DecisionTreeClassifier(),\n",
       "                                    param_distributions={'criterion': ['gini',\n",
       "                                                                       'entropy'],\n",
       "                                                         'max_depth': [None, 2,\n",
       "                                                                       5, 10],\n",
       "                                                         'min_samples_split': [2,\n",
       "                                                                               10,\n",
       "                                                                               100]},\n",
       "                                    verbose=3))])"
      ]
     },
     "execution_count": 51,
     "metadata": {},
     "output_type": "execute_result"
    }
   ],
   "source": [
    "from sklearn.model_selection import RandomizedSearchCV\n",
    "from sklearn.tree import DecisionTreeClassifier\n",
    "params_2={'criterion':['gini','entropy'],'max_depth':[None,2,5,10],'min_samples_split':[2,10,100]}\n",
    "pipe_y=make_pipeline(trans,RandomizedSearchCV(algorithm3,params_2,verbose=3,refit=True))\n",
    "pipe_y"
   ]
  },
  {
   "cell_type": "code",
   "execution_count": 52,
   "id": "b426f664",
   "metadata": {
    "execution": {
     "iopub.execute_input": "2023-01-25T05:21:00.396196Z",
     "iopub.status.busy": "2023-01-25T05:21:00.390428Z",
     "iopub.status.idle": "2023-01-25T05:21:00.641603Z",
     "shell.execute_reply": "2023-01-25T05:21:00.642156Z",
     "shell.execute_reply.started": "2022-01-31T12:27:44.948092Z"
    },
    "papermill": {
     "duration": 0.329132,
     "end_time": "2023-01-25T05:21:00.642354",
     "exception": false,
     "start_time": "2023-01-25T05:21:00.313222",
     "status": "completed"
    },
    "tags": []
   },
   "outputs": [
    {
     "name": "stdout",
     "output_type": "stream",
     "text": [
      "Fitting 5 folds for each of 10 candidates, totalling 50 fits\n",
      "[CV] min_samples_split=10, max_depth=2, criterion=gini ...............\n",
      "[CV]  min_samples_split=10, max_depth=2, criterion=gini, score=0.817, total=   0.0s\n",
      "[CV] min_samples_split=10, max_depth=2, criterion=gini ...............\n",
      "[CV]  min_samples_split=10, max_depth=2, criterion=gini, score=0.857, total=   0.0s\n",
      "[CV] min_samples_split=10, max_depth=2, criterion=gini ...............\n",
      "[CV]  min_samples_split=10, max_depth=2, criterion=gini, score=0.807, total=   0.0s\n",
      "[CV] min_samples_split=10, max_depth=2, criterion=gini ...............\n",
      "[CV]  min_samples_split=10, max_depth=2, criterion=gini, score=0.857, total=   0.0s\n",
      "[CV] min_samples_split=10, max_depth=2, criterion=gini ...............\n",
      "[CV]  min_samples_split=10, max_depth=2, criterion=gini, score=0.857, total=   0.0s\n",
      "[CV] min_samples_split=100, max_depth=None, criterion=gini ...........\n",
      "[CV]  min_samples_split=100, max_depth=None, criterion=gini, score=0.817, total=   0.0s\n",
      "[CV] min_samples_split=100, max_depth=None, criterion=gini ...........\n",
      "[CV]  min_samples_split=100, max_depth=None, criterion=gini, score=0.857, total=   0.0s\n",
      "[CV] min_samples_split=100, max_depth=None, criterion=gini ...........\n",
      "[CV]  min_samples_split=100, max_depth=None, criterion=gini, score=0.798, total=   0.0s\n",
      "[CV] min_samples_split=100, max_depth=None, criterion=gini ...........\n",
      "[CV]  min_samples_split=100, max_depth=None, criterion=gini, score=0.857, total=   0.0s\n",
      "[CV] min_samples_split=100, max_depth=None, criterion=gini ...........\n",
      "[CV]  min_samples_split=100, max_depth=None, criterion=gini, score=0.857, total=   0.0s\n",
      "[CV] min_samples_split=2, max_depth=10, criterion=gini ...............\n",
      "[CV]  min_samples_split=2, max_depth=10, criterion=gini, score=0.783, total=   0.0s\n",
      "[CV] min_samples_split=2, max_depth=10, criterion=gini ...............\n",
      "[CV]  min_samples_split=2, max_depth=10, criterion=gini, score=0.840, total=   0.0s\n",
      "[CV] min_samples_split=2, max_depth=10, criterion=gini ...............\n",
      "[CV]  min_samples_split=2, max_depth=10, criterion=gini, score=0.756, total=   0.0s\n",
      "[CV] min_samples_split=2, max_depth=10, criterion=gini ...............\n",
      "[CV]  min_samples_split=2, max_depth=10, criterion=gini, score=0.832, total=   0.0s\n",
      "[CV] min_samples_split=2, max_depth=10, criterion=gini ...............\n",
      "[CV]  min_samples_split=2, max_depth=10, criterion=gini, score=0.882, total=   0.0s\n",
      "[CV] min_samples_split=100, max_depth=5, criterion=gini ..............\n",
      "[CV]  min_samples_split=100, max_depth=5, criterion=gini, score=0.817, total=   0.0s\n",
      "[CV] min_samples_split=100, max_depth=5, criterion=gini ..............\n",
      "[CV]  min_samples_split=100, max_depth=5, criterion=gini, score=0.857, total=   0.0s\n",
      "[CV] min_samples_split=100, max_depth=5, criterion=gini ..............\n",
      "[CV]  min_samples_split=100, max_depth=5, criterion=gini, score=0.798, total=   0.0s\n",
      "[CV] min_samples_split=100, max_depth=5, criterion=gini ..............\n",
      "[CV]  min_samples_split=100, max_depth=5, criterion=gini, score=0.857, total=   0.0s\n",
      "[CV] min_samples_split=100, max_depth=5, criterion=gini ..............\n",
      "[CV]  min_samples_split=100, max_depth=5, criterion=gini, score=0.857, total=   0.0s\n",
      "[CV] min_samples_split=10, max_depth=None, criterion=gini ............\n",
      "[CV]  min_samples_split=10, max_depth=None, criterion=gini, score=0.783, total=   0.0s\n",
      "[CV] min_samples_split=10, max_depth=None, criterion=gini ............\n",
      "[CV]  min_samples_split=10, max_depth=None, criterion=gini, score=0.840, total=   0.0s\n",
      "[CV] min_samples_split=10, max_depth=None, criterion=gini ............\n",
      "[CV]  min_samples_split=10, max_depth=None, criterion=gini, score=0.739, total=   0.0s\n",
      "[CV] min_samples_split=10, max_depth=None, criterion=gini ............\n",
      "[CV]  min_samples_split=10, max_depth=None, criterion=gini, score=0.840, total=   0.0s\n",
      "[CV] min_samples_split=10, max_depth=None, criterion=gini ............\n",
      "[CV]  min_samples_split=10, max_depth=None, criterion=gini, score=0.874, total=   0.0s\n",
      "[CV] min_samples_split=100, max_depth=2, criterion=gini ..............\n",
      "[CV]  min_samples_split=100, max_depth=2, criterion=gini, score=0.817, total=   0.0s\n",
      "[CV] min_samples_split=100, max_depth=2, criterion=gini ..............\n",
      "[CV]  min_samples_split=100, max_depth=2, criterion=gini, score=0.857, total=   0.0s\n",
      "[CV] min_samples_split=100, max_depth=2, criterion=gini ..............\n",
      "[CV]  min_samples_split=100, max_depth=2, criterion=gini, score=0.807, total=   0.0s\n",
      "[CV] min_samples_split=100, max_depth=2, criterion=gini ..............\n",
      "[CV]  min_samples_split=100, max_depth=2, criterion=gini, score=0.857, total=   0.0s\n",
      "[CV] min_samples_split=100, max_depth=2, criterion=gini ..............\n",
      "[CV]  min_samples_split=100, max_depth=2, criterion=gini, score=0.857, total=   0.0s\n",
      "[CV] min_samples_split=2, max_depth=2, criterion=entropy .............\n",
      "[CV]  min_samples_split=2, max_depth=2, criterion=entropy, score=0.800, total=   0.0s\n",
      "[CV] min_samples_split=2, max_depth=2, criterion=entropy .............\n",
      "[CV]  min_samples_split=2, max_depth=2, criterion=entropy, score=0.857, total=   0.0s\n",
      "[CV] min_samples_split=2, max_depth=2, criterion=entropy .............\n",
      "[CV]  min_samples_split=2, max_depth=2, criterion=entropy, score=0.765, total=   0.0s\n",
      "[CV] min_samples_split=2, max_depth=2, criterion=entropy .............\n",
      "[CV]  min_samples_split=2, max_depth=2, criterion=entropy, score=0.857, total=   0.0s\n",
      "[CV] min_samples_split=2, max_depth=2, criterion=entropy .............\n",
      "[CV]  min_samples_split=2, max_depth=2, criterion=entropy, score=0.857, total=   0.0s\n",
      "[CV] min_samples_split=2, max_depth=2, criterion=gini ................\n",
      "[CV]  min_samples_split=2, max_depth=2, criterion=gini, score=0.817, total=   0.0s\n",
      "[CV] min_samples_split=2, max_depth=2, criterion=gini ................\n",
      "[CV]  min_samples_split=2, max_depth=2, criterion=gini, score=0.857, total=   0.0s\n",
      "[CV] min_samples_split=2, max_depth=2, criterion=gini ................\n",
      "[CV]  min_samples_split=2, max_depth=2, criterion=gini, score=0.807, total=   0.0s\n",
      "[CV] min_samples_split=2, max_depth=2, criterion=gini ................\n",
      "[CV]  min_samples_split=2, max_depth=2, criterion=gini, score=0.857, total=   0.0s\n",
      "[CV] min_samples_split=2, max_depth=2, criterion=gini ................\n",
      "[CV]  min_samples_split=2, max_depth=2, criterion=gini, score=0.857, total=   0.0s\n",
      "[CV] min_samples_split=10, max_depth=10, criterion=gini ..............\n",
      "[CV]  min_samples_split=10, max_depth=10, criterion=gini, score=0.783, total=   0.0s\n",
      "[CV] min_samples_split=10, max_depth=10, criterion=gini ..............\n",
      "[CV]  min_samples_split=10, max_depth=10, criterion=gini, score=0.874, total=   0.0s\n",
      "[CV] min_samples_split=10, max_depth=10, criterion=gini ..............\n",
      "[CV]  min_samples_split=10, max_depth=10, criterion=gini, score=0.739, total=   0.0s\n",
      "[CV] min_samples_split=10, max_depth=10, criterion=gini ..............\n",
      "[CV]  min_samples_split=10, max_depth=10, criterion=gini, score=0.824, total=   0.0s\n",
      "[CV] min_samples_split=10, max_depth=10, criterion=gini ..............\n",
      "[CV]  min_samples_split=10, max_depth=10, criterion=gini, score=0.874, total=   0.0s\n",
      "[CV] min_samples_split=100, max_depth=5, criterion=entropy ...........\n",
      "[CV]  min_samples_split=100, max_depth=5, criterion=entropy, score=0.800, total=   0.0s\n",
      "[CV] min_samples_split=100, max_depth=5, criterion=entropy ...........\n",
      "[CV]  min_samples_split=100, max_depth=5, criterion=entropy, score=0.857, total=   0.0s\n",
      "[CV] min_samples_split=100, max_depth=5, criterion=entropy ...........\n",
      "[CV]  min_samples_split=100, max_depth=5, criterion=entropy, score=0.773, total=   0.0s\n",
      "[CV] min_samples_split=100, max_depth=5, criterion=entropy ...........\n",
      "[CV]  min_samples_split=100, max_depth=5, criterion=entropy, score=0.857, total=   0.0s\n",
      "[CV] min_samples_split=100, max_depth=5, criterion=entropy ...........\n",
      "[CV]  min_samples_split=100, max_depth=5, criterion=entropy, score=0.857, total=   0.0s\n"
     ]
    },
    {
     "name": "stderr",
     "output_type": "stream",
     "text": [
      "[Parallel(n_jobs=1)]: Using backend SequentialBackend with 1 concurrent workers.\n",
      "[Parallel(n_jobs=1)]: Done   1 out of   1 | elapsed:    0.0s remaining:    0.0s\n",
      "[Parallel(n_jobs=1)]: Done   2 out of   2 | elapsed:    0.0s remaining:    0.0s\n",
      "[Parallel(n_jobs=1)]: Done  50 out of  50 | elapsed:    0.2s finished\n"
     ]
    },
    {
     "data": {
      "text/html": [
       "<style>div.sk-top-container {color: black;background-color: white;}div.sk-toggleable {background-color: white;}label.sk-toggleable__label {cursor: pointer;display: block;width: 100%;margin-bottom: 0;padding: 0.2em 0.3em;box-sizing: border-box;text-align: center;}div.sk-toggleable__content {max-height: 0;max-width: 0;overflow: hidden;text-align: left;background-color: #f0f8ff;}div.sk-toggleable__content pre {margin: 0.2em;color: black;border-radius: 0.25em;background-color: #f0f8ff;}input.sk-toggleable__control:checked~div.sk-toggleable__content {max-height: 200px;max-width: 100%;overflow: auto;}div.sk-estimator input.sk-toggleable__control:checked~label.sk-toggleable__label {background-color: #d4ebff;}div.sk-label input.sk-toggleable__control:checked~label.sk-toggleable__label {background-color: #d4ebff;}input.sk-hidden--visually {border: 0;clip: rect(1px 1px 1px 1px);clip: rect(1px, 1px, 1px, 1px);height: 1px;margin: -1px;overflow: hidden;padding: 0;position: absolute;width: 1px;}div.sk-estimator {font-family: monospace;background-color: #f0f8ff;margin: 0.25em 0.25em;border: 1px dotted black;border-radius: 0.25em;box-sizing: border-box;}div.sk-estimator:hover {background-color: #d4ebff;}div.sk-parallel-item::after {content: \"\";width: 100%;border-bottom: 1px solid gray;flex-grow: 1;}div.sk-label:hover label.sk-toggleable__label {background-color: #d4ebff;}div.sk-serial::before {content: \"\";position: absolute;border-left: 1px solid gray;box-sizing: border-box;top: 2em;bottom: 0;left: 50%;}div.sk-serial {display: flex;flex-direction: column;align-items: center;background-color: white;}div.sk-item {z-index: 1;}div.sk-parallel {display: flex;align-items: stretch;justify-content: center;background-color: white;}div.sk-parallel-item {display: flex;flex-direction: column;position: relative;background-color: white;}div.sk-parallel-item:first-child::after {align-self: flex-end;width: 50%;}div.sk-parallel-item:last-child::after {align-self: flex-start;width: 50%;}div.sk-parallel-item:only-child::after {width: 0;}div.sk-dashed-wrapped {border: 1px dashed gray;margin: 0.2em;box-sizing: border-box;padding-bottom: 0.1em;background-color: white;position: relative;}div.sk-label label {font-family: monospace;font-weight: bold;background-color: white;display: inline-block;line-height: 1.2em;}div.sk-label-container {position: relative;z-index: 2;text-align: center;}div.sk-container {display: inline-block;position: relative;}</style><div class=\"sk-top-container\"><div class=\"sk-container\"><div class=\"sk-item sk-dashed-wrapped\"><div class=\"sk-label-container\"><div class=\"sk-label sk-toggleable\"><input class=\"sk-toggleable__control sk-hidden--visually\" id=\"aa28b532-2044-44ee-9ca1-fe54a4b950e7\" type=\"checkbox\" ><label class=\"sk-toggleable__label\" for=\"aa28b532-2044-44ee-9ca1-fe54a4b950e7\">Pipeline</label><div class=\"sk-toggleable__content\"><pre>Pipeline(steps=[('columntransformer',\n",
       "                 ColumnTransformer(remainder='passthrough',\n",
       "                                   transformers=[('onehotencoder',\n",
       "                                                  OneHotEncoder(sparse='false'),\n",
       "                                                  [2, 6, 10]),\n",
       "                                                 ('ordinalencoder',\n",
       "                                                  OrdinalEncoder(), [1, 8])])),\n",
       "                ('randomizedsearchcv',\n",
       "                 RandomizedSearchCV(estimator=DecisionTreeClassifier(),\n",
       "                                    param_distributions={'criterion': ['gini',\n",
       "                                                                       'entropy'],\n",
       "                                                         'max_depth': [None, 2,\n",
       "                                                                       5, 10],\n",
       "                                                         'min_samples_split': [2,\n",
       "                                                                               10,\n",
       "                                                                               100]},\n",
       "                                    verbose=3))])</pre></div></div></div><div class=\"sk-serial\"><div class=\"sk-item sk-dashed-wrapped\"><div class=\"sk-label-container\"><div class=\"sk-label sk-toggleable\"><input class=\"sk-toggleable__control sk-hidden--visually\" id=\"7fbffc4a-161a-4a36-a200-80517f3c2f1d\" type=\"checkbox\" ><label class=\"sk-toggleable__label\" for=\"7fbffc4a-161a-4a36-a200-80517f3c2f1d\">columntransformer: ColumnTransformer</label><div class=\"sk-toggleable__content\"><pre>ColumnTransformer(remainder='passthrough',\n",
       "                  transformers=[('onehotencoder', OneHotEncoder(sparse='false'),\n",
       "                                 [2, 6, 10]),\n",
       "                                ('ordinalencoder', OrdinalEncoder(), [1, 8])])</pre></div></div></div><div class=\"sk-parallel\"><div class=\"sk-parallel-item\"><div class=\"sk-item\"><div class=\"sk-label-container\"><div class=\"sk-label sk-toggleable\"><input class=\"sk-toggleable__control sk-hidden--visually\" id=\"61c86f9c-fcf1-4f83-9ce9-720a63952187\" type=\"checkbox\" ><label class=\"sk-toggleable__label\" for=\"61c86f9c-fcf1-4f83-9ce9-720a63952187\">onehotencoder</label><div class=\"sk-toggleable__content\"><pre>[2, 6, 10]</pre></div></div></div><div class=\"sk-serial\"><div class=\"sk-item\"><div class=\"sk-estimator sk-toggleable\"><input class=\"sk-toggleable__control sk-hidden--visually\" id=\"76945b67-5d80-48a3-8749-031497305ee5\" type=\"checkbox\" ><label class=\"sk-toggleable__label\" for=\"76945b67-5d80-48a3-8749-031497305ee5\">OneHotEncoder</label><div class=\"sk-toggleable__content\"><pre>OneHotEncoder(sparse='false')</pre></div></div></div></div></div></div><div class=\"sk-parallel-item\"><div class=\"sk-item\"><div class=\"sk-label-container\"><div class=\"sk-label sk-toggleable\"><input class=\"sk-toggleable__control sk-hidden--visually\" id=\"b5069b51-6030-4439-bf4a-b26c0304ede7\" type=\"checkbox\" ><label class=\"sk-toggleable__label\" for=\"b5069b51-6030-4439-bf4a-b26c0304ede7\">ordinalencoder</label><div class=\"sk-toggleable__content\"><pre>[1, 8]</pre></div></div></div><div class=\"sk-serial\"><div class=\"sk-item\"><div class=\"sk-estimator sk-toggleable\"><input class=\"sk-toggleable__control sk-hidden--visually\" id=\"906a24b4-82d6-48bf-9e8d-ed02884a253a\" type=\"checkbox\" ><label class=\"sk-toggleable__label\" for=\"906a24b4-82d6-48bf-9e8d-ed02884a253a\">OrdinalEncoder</label><div class=\"sk-toggleable__content\"><pre>OrdinalEncoder()</pre></div></div></div></div></div></div></div></div><div class=\"sk-item sk-dashed-wrapped\"><div class=\"sk-label-container\"><div class=\"sk-label sk-toggleable\"><input class=\"sk-toggleable__control sk-hidden--visually\" id=\"8da24875-4b23-4efc-b291-aee4248f7c4d\" type=\"checkbox\" ><label class=\"sk-toggleable__label\" for=\"8da24875-4b23-4efc-b291-aee4248f7c4d\">randomizedsearchcv: RandomizedSearchCV</label><div class=\"sk-toggleable__content\"><pre>RandomizedSearchCV(estimator=DecisionTreeClassifier(),\n",
       "                   param_distributions={'criterion': ['gini', 'entropy'],\n",
       "                                        'max_depth': [None, 2, 5, 10],\n",
       "                                        'min_samples_split': [2, 10, 100]},\n",
       "                   verbose=3)</pre></div></div></div><div class=\"sk-parallel\"><div class=\"sk-parallel-item\"><div class=\"sk-item\"><div class=\"sk-serial\"><div class=\"sk-item\"><div class=\"sk-estimator sk-toggleable\"><input class=\"sk-toggleable__control sk-hidden--visually\" id=\"251e46a4-f24e-40ba-b89c-8b21892f6bbb\" type=\"checkbox\" ><label class=\"sk-toggleable__label\" for=\"251e46a4-f24e-40ba-b89c-8b21892f6bbb\">DecisionTreeClassifier</label><div class=\"sk-toggleable__content\"><pre>DecisionTreeClassifier()</pre></div></div></div></div></div></div></div></div></div></div></div></div>"
      ],
      "text/plain": [
       "Pipeline(steps=[('columntransformer',\n",
       "                 ColumnTransformer(remainder='passthrough',\n",
       "                                   transformers=[('onehotencoder',\n",
       "                                                  OneHotEncoder(sparse='false'),\n",
       "                                                  [2, 6, 10]),\n",
       "                                                 ('ordinalencoder',\n",
       "                                                  OrdinalEncoder(), [1, 8])])),\n",
       "                ('randomizedsearchcv',\n",
       "                 RandomizedSearchCV(estimator=DecisionTreeClassifier(),\n",
       "                                    param_distributions={'criterion': ['gini',\n",
       "                                                                       'entropy'],\n",
       "                                                         'max_depth': [None, 2,\n",
       "                                                                       5, 10],\n",
       "                                                         'min_samples_split': [2,\n",
       "                                                                               10,\n",
       "                                                                               100]},\n",
       "                                    verbose=3))])"
      ]
     },
     "execution_count": 52,
     "metadata": {},
     "output_type": "execute_result"
    }
   ],
   "source": [
    "pipe_y.fit(x_train,y_train)"
   ]
  },
  {
   "cell_type": "code",
   "execution_count": 53,
   "id": "e9bf1c7e",
   "metadata": {
    "execution": {
     "iopub.execute_input": "2023-01-25T05:21:00.801584Z",
     "iopub.status.busy": "2023-01-25T05:21:00.800574Z",
     "iopub.status.idle": "2023-01-25T05:21:00.809792Z",
     "shell.execute_reply": "2023-01-25T05:21:00.809190Z",
     "shell.execute_reply.started": "2022-01-31T12:27:45.191735Z"
    },
    "papermill": {
     "duration": 0.09148,
     "end_time": "2023-01-25T05:21:00.809957",
     "exception": false,
     "start_time": "2023-01-25T05:21:00.718477",
     "status": "completed"
    },
    "tags": []
   },
   "outputs": [
    {
     "data": {
      "text/plain": [
       "array([0, 0, 0, 1, 0, 0, 1, 0, 0, 1, 0, 0, 1, 1, 0, 0, 1, 1, 0, 1, 1, 1,\n",
       "       0, 0, 0, 0, 0, 1, 0, 0, 1, 0, 0, 0, 1, 1, 0, 0, 1, 0, 1, 1, 0, 1,\n",
       "       0, 0, 0, 1, 0, 0, 1, 1, 0, 0, 0, 0, 0, 0, 0, 1, 0, 1, 1, 0, 1, 1,\n",
       "       1, 1, 1, 0, 0, 0, 0, 1, 1, 1, 0, 0, 0, 1, 1, 0, 1, 1, 1, 0, 1, 0,\n",
       "       0, 0, 0, 1, 1, 1, 1, 1, 0, 1, 1, 1, 0, 1, 1, 0, 0, 0, 0, 0, 0, 1,\n",
       "       1, 1, 1, 0, 0, 1, 0, 0, 1, 1, 0, 0, 1, 0, 1, 0, 0, 1, 1, 1, 1, 1,\n",
       "       1, 1, 0, 1, 1, 0, 1, 0, 0, 0, 0, 0, 1, 0, 0, 0, 0, 0, 1, 0, 0, 1,\n",
       "       0, 1, 1, 0, 1, 1, 0, 1, 1, 0, 0, 1, 0, 0, 1, 1, 0, 0, 1, 1, 0, 0,\n",
       "       0, 0, 1, 1, 0, 0, 0, 0, 0, 0, 0, 0, 0, 0, 0, 1, 0, 1, 0, 1, 1, 0,\n",
       "       0, 1, 0, 0, 0, 1, 0, 0, 0, 1, 1, 0, 1, 0, 0, 1, 0, 0, 1, 1, 0, 1,\n",
       "       0, 0, 0, 0, 0, 0, 1, 0, 0, 0, 1, 0, 0, 1, 1, 1, 1, 1, 1, 0, 1, 0,\n",
       "       0, 0, 0, 0, 1, 0, 1, 0, 0, 0, 1, 0, 1, 1, 1, 1, 0, 1, 0, 0, 1, 1,\n",
       "       1, 0, 1, 1, 0, 1, 1, 0, 0, 1, 1, 0, 1, 0, 1, 1, 1, 0, 1, 0, 0, 1,\n",
       "       1, 1, 0, 0, 1, 0, 1, 0, 1, 1, 1, 0, 0, 1, 1, 0, 0, 0, 0, 1, 1, 0,\n",
       "       0, 0, 0, 1, 1, 1, 1, 1, 1, 1, 1, 0, 0, 1])"
      ]
     },
     "execution_count": 53,
     "metadata": {},
     "output_type": "execute_result"
    }
   ],
   "source": [
    "pred_3=pipe_y.predict(x_test)\n",
    "pred_3"
   ]
  },
  {
   "cell_type": "code",
   "execution_count": 54,
   "id": "545c2be8",
   "metadata": {
    "execution": {
     "iopub.execute_input": "2023-01-25T05:21:00.969174Z",
     "iopub.status.busy": "2023-01-25T05:21:00.968022Z",
     "iopub.status.idle": "2023-01-25T05:21:00.973305Z",
     "shell.execute_reply": "2023-01-25T05:21:00.972659Z",
     "shell.execute_reply.started": "2022-01-31T12:27:45.206809Z"
    },
    "papermill": {
     "duration": 0.087366,
     "end_time": "2023-01-25T05:21:00.973451",
     "exception": false,
     "start_time": "2023-01-25T05:21:00.886085",
     "status": "completed"
    },
    "tags": []
   },
   "outputs": [
    {
     "data": {
      "text/plain": [
       "79.5031055900621"
      ]
     },
     "execution_count": 54,
     "metadata": {},
     "output_type": "execute_result"
    }
   ],
   "source": [
    "accuracy_score(pred_3,y_test)*100"
   ]
  },
  {
   "cell_type": "code",
   "execution_count": 55,
   "id": "ac807bec",
   "metadata": {
    "execution": {
     "iopub.execute_input": "2023-01-25T05:21:01.132312Z",
     "iopub.status.busy": "2023-01-25T05:21:01.131470Z",
     "iopub.status.idle": "2023-01-25T05:21:01.135379Z",
     "shell.execute_reply": "2023-01-25T05:21:01.134851Z",
     "shell.execute_reply.started": "2022-01-31T12:27:45.218303Z"
    },
    "papermill": {
     "duration": 0.086227,
     "end_time": "2023-01-25T05:21:01.135546",
     "exception": false,
     "start_time": "2023-01-25T05:21:01.049319",
     "status": "completed"
    },
    "tags": []
   },
   "outputs": [
    {
     "data": {
      "text/plain": [
       "{'min_samples_split': 10, 'max_depth': 2, 'criterion': 'gini'}"
      ]
     },
     "execution_count": 55,
     "metadata": {},
     "output_type": "execute_result"
    }
   ],
   "source": [
    "pipe_y.named_steps['randomizedsearchcv'].best_params_"
   ]
  },
  {
   "cell_type": "code",
   "execution_count": 56,
   "id": "e7d42765",
   "metadata": {
    "execution": {
     "iopub.execute_input": "2023-01-25T05:21:01.299094Z",
     "iopub.status.busy": "2023-01-25T05:21:01.293378Z",
     "iopub.status.idle": "2023-01-25T05:21:01.349054Z",
     "shell.execute_reply": "2023-01-25T05:21:01.349569Z",
     "shell.execute_reply.started": "2022-01-31T12:27:45.229482Z"
    },
    "papermill": {
     "duration": 0.13567,
     "end_time": "2023-01-25T05:21:01.349753",
     "exception": false,
     "start_time": "2023-01-25T05:21:01.214083",
     "status": "completed"
    },
    "tags": []
   },
   "outputs": [
    {
     "data": {
      "text/html": [
       "<style>div.sk-top-container {color: black;background-color: white;}div.sk-toggleable {background-color: white;}label.sk-toggleable__label {cursor: pointer;display: block;width: 100%;margin-bottom: 0;padding: 0.2em 0.3em;box-sizing: border-box;text-align: center;}div.sk-toggleable__content {max-height: 0;max-width: 0;overflow: hidden;text-align: left;background-color: #f0f8ff;}div.sk-toggleable__content pre {margin: 0.2em;color: black;border-radius: 0.25em;background-color: #f0f8ff;}input.sk-toggleable__control:checked~div.sk-toggleable__content {max-height: 200px;max-width: 100%;overflow: auto;}div.sk-estimator input.sk-toggleable__control:checked~label.sk-toggleable__label {background-color: #d4ebff;}div.sk-label input.sk-toggleable__control:checked~label.sk-toggleable__label {background-color: #d4ebff;}input.sk-hidden--visually {border: 0;clip: rect(1px 1px 1px 1px);clip: rect(1px, 1px, 1px, 1px);height: 1px;margin: -1px;overflow: hidden;padding: 0;position: absolute;width: 1px;}div.sk-estimator {font-family: monospace;background-color: #f0f8ff;margin: 0.25em 0.25em;border: 1px dotted black;border-radius: 0.25em;box-sizing: border-box;}div.sk-estimator:hover {background-color: #d4ebff;}div.sk-parallel-item::after {content: \"\";width: 100%;border-bottom: 1px solid gray;flex-grow: 1;}div.sk-label:hover label.sk-toggleable__label {background-color: #d4ebff;}div.sk-serial::before {content: \"\";position: absolute;border-left: 1px solid gray;box-sizing: border-box;top: 2em;bottom: 0;left: 50%;}div.sk-serial {display: flex;flex-direction: column;align-items: center;background-color: white;}div.sk-item {z-index: 1;}div.sk-parallel {display: flex;align-items: stretch;justify-content: center;background-color: white;}div.sk-parallel-item {display: flex;flex-direction: column;position: relative;background-color: white;}div.sk-parallel-item:first-child::after {align-self: flex-end;width: 50%;}div.sk-parallel-item:last-child::after {align-self: flex-start;width: 50%;}div.sk-parallel-item:only-child::after {width: 0;}div.sk-dashed-wrapped {border: 1px dashed gray;margin: 0.2em;box-sizing: border-box;padding-bottom: 0.1em;background-color: white;position: relative;}div.sk-label label {font-family: monospace;font-weight: bold;background-color: white;display: inline-block;line-height: 1.2em;}div.sk-label-container {position: relative;z-index: 2;text-align: center;}div.sk-container {display: inline-block;position: relative;}</style><div class=\"sk-top-container\"><div class=\"sk-container\"><div class=\"sk-item sk-dashed-wrapped\"><div class=\"sk-label-container\"><div class=\"sk-label sk-toggleable\"><input class=\"sk-toggleable__control sk-hidden--visually\" id=\"d2c6bfd8-4734-41d1-a1cb-1ec45564d966\" type=\"checkbox\" ><label class=\"sk-toggleable__label\" for=\"d2c6bfd8-4734-41d1-a1cb-1ec45564d966\">Pipeline</label><div class=\"sk-toggleable__content\"><pre>Pipeline(steps=[('columntransformer',\n",
       "                 ColumnTransformer(remainder='passthrough',\n",
       "                                   transformers=[('onehotencoder',\n",
       "                                                  OneHotEncoder(sparse='false'),\n",
       "                                                  [2, 6, 10]),\n",
       "                                                 ('ordinalencoder',\n",
       "                                                  OrdinalEncoder(), [1, 8])])),\n",
       "                ('randomizedsearchcv',\n",
       "                 RandomizedSearchCV(estimator=DecisionTreeClassifier(),\n",
       "                                    param_distributions={'criterion': ['gini',\n",
       "                                                                       'entropy'],\n",
       "                                                         'max_depth': [None, 2,\n",
       "                                                                       5, 10],\n",
       "                                                         'min_samples_split': [2,\n",
       "                                                                               10,\n",
       "                                                                               100]},\n",
       "                                    verbose=3))])</pre></div></div></div><div class=\"sk-serial\"><div class=\"sk-item sk-dashed-wrapped\"><div class=\"sk-label-container\"><div class=\"sk-label sk-toggleable\"><input class=\"sk-toggleable__control sk-hidden--visually\" id=\"73614f4b-deca-42fa-b4bd-779a6798c34d\" type=\"checkbox\" ><label class=\"sk-toggleable__label\" for=\"73614f4b-deca-42fa-b4bd-779a6798c34d\">columntransformer: ColumnTransformer</label><div class=\"sk-toggleable__content\"><pre>ColumnTransformer(remainder='passthrough',\n",
       "                  transformers=[('onehotencoder', OneHotEncoder(sparse='false'),\n",
       "                                 [2, 6, 10]),\n",
       "                                ('ordinalencoder', OrdinalEncoder(), [1, 8])])</pre></div></div></div><div class=\"sk-parallel\"><div class=\"sk-parallel-item\"><div class=\"sk-item\"><div class=\"sk-label-container\"><div class=\"sk-label sk-toggleable\"><input class=\"sk-toggleable__control sk-hidden--visually\" id=\"59068df0-f1bf-44ba-ae50-fdef53dbf937\" type=\"checkbox\" ><label class=\"sk-toggleable__label\" for=\"59068df0-f1bf-44ba-ae50-fdef53dbf937\">onehotencoder</label><div class=\"sk-toggleable__content\"><pre>[2, 6, 10]</pre></div></div></div><div class=\"sk-serial\"><div class=\"sk-item\"><div class=\"sk-estimator sk-toggleable\"><input class=\"sk-toggleable__control sk-hidden--visually\" id=\"c3efec2f-95a6-497b-a532-c1ee5a772350\" type=\"checkbox\" ><label class=\"sk-toggleable__label\" for=\"c3efec2f-95a6-497b-a532-c1ee5a772350\">OneHotEncoder</label><div class=\"sk-toggleable__content\"><pre>OneHotEncoder(sparse='false')</pre></div></div></div></div></div></div><div class=\"sk-parallel-item\"><div class=\"sk-item\"><div class=\"sk-label-container\"><div class=\"sk-label sk-toggleable\"><input class=\"sk-toggleable__control sk-hidden--visually\" id=\"e4428598-2e9f-4c64-ba05-fb18b1879f8c\" type=\"checkbox\" ><label class=\"sk-toggleable__label\" for=\"e4428598-2e9f-4c64-ba05-fb18b1879f8c\">ordinalencoder</label><div class=\"sk-toggleable__content\"><pre>[1, 8]</pre></div></div></div><div class=\"sk-serial\"><div class=\"sk-item\"><div class=\"sk-estimator sk-toggleable\"><input class=\"sk-toggleable__control sk-hidden--visually\" id=\"5e8fbb99-1878-4d55-87a9-9574939e5a0b\" type=\"checkbox\" ><label class=\"sk-toggleable__label\" for=\"5e8fbb99-1878-4d55-87a9-9574939e5a0b\">OrdinalEncoder</label><div class=\"sk-toggleable__content\"><pre>OrdinalEncoder()</pre></div></div></div></div></div></div></div></div><div class=\"sk-item sk-dashed-wrapped\"><div class=\"sk-label-container\"><div class=\"sk-label sk-toggleable\"><input class=\"sk-toggleable__control sk-hidden--visually\" id=\"38f5c581-301b-4d08-a36a-b64e5f427ad8\" type=\"checkbox\" ><label class=\"sk-toggleable__label\" for=\"38f5c581-301b-4d08-a36a-b64e5f427ad8\">randomizedsearchcv: RandomizedSearchCV</label><div class=\"sk-toggleable__content\"><pre>RandomizedSearchCV(estimator=DecisionTreeClassifier(),\n",
       "                   param_distributions={'criterion': ['gini', 'entropy'],\n",
       "                                        'max_depth': [None, 2, 5, 10],\n",
       "                                        'min_samples_split': [2, 10, 100]},\n",
       "                   verbose=3)</pre></div></div></div><div class=\"sk-parallel\"><div class=\"sk-parallel-item\"><div class=\"sk-item\"><div class=\"sk-serial\"><div class=\"sk-item\"><div class=\"sk-estimator sk-toggleable\"><input class=\"sk-toggleable__control sk-hidden--visually\" id=\"236f588e-d871-4396-8929-7a9662199ca8\" type=\"checkbox\" ><label class=\"sk-toggleable__label\" for=\"236f588e-d871-4396-8929-7a9662199ca8\">DecisionTreeClassifier</label><div class=\"sk-toggleable__content\"><pre>DecisionTreeClassifier()</pre></div></div></div></div></div></div></div></div></div></div></div></div>"
      ],
      "text/plain": [
       "Pipeline(steps=[('columntransformer',\n",
       "                 ColumnTransformer(remainder='passthrough',\n",
       "                                   transformers=[('onehotencoder',\n",
       "                                                  OneHotEncoder(sparse='false'),\n",
       "                                                  [2, 6, 10]),\n",
       "                                                 ('ordinalencoder',\n",
       "                                                  OrdinalEncoder(), [1, 8])])),\n",
       "                ('randomizedsearchcv',\n",
       "                 RandomizedSearchCV(estimator=DecisionTreeClassifier(),\n",
       "                                    param_distributions={'criterion': ['gini',\n",
       "                                                                       'entropy'],\n",
       "                                                         'max_depth': [None, 2,\n",
       "                                                                       5, 10],\n",
       "                                                         'min_samples_split': [2,\n",
       "                                                                               10,\n",
       "                                                                               100]},\n",
       "                                    verbose=3))])"
      ]
     },
     "execution_count": 56,
     "metadata": {},
     "output_type": "execute_result"
    }
   ],
   "source": [
    "from sklearn.model_selection import RandomizedSearchCV\n",
    "from sklearn.tree import DecisionTreeClassifier\n",
    "params_3={'criterion':['entropy'],'max_depth':[5],'min_samples_split':[2]}\n",
    "pipe_w=make_pipeline(trans,RandomizedSearchCV(algorithm3,params_2,verbose=3,refit=True))\n",
    "pipe_w"
   ]
  },
  {
   "cell_type": "code",
   "execution_count": 57,
   "id": "c5c095a5",
   "metadata": {
    "execution": {
     "iopub.execute_input": "2023-01-25T05:21:01.511300Z",
     "iopub.status.busy": "2023-01-25T05:21:01.510590Z",
     "iopub.status.idle": "2023-01-25T05:21:01.765442Z",
     "shell.execute_reply": "2023-01-25T05:21:01.764743Z",
     "shell.execute_reply.started": "2022-01-31T12:27:45.299725Z"
    },
    "papermill": {
     "duration": 0.336327,
     "end_time": "2023-01-25T05:21:01.765609",
     "exception": false,
     "start_time": "2023-01-25T05:21:01.429282",
     "status": "completed"
    },
    "tags": []
   },
   "outputs": [
    {
     "name": "stdout",
     "output_type": "stream",
     "text": [
      "Fitting 5 folds for each of 10 candidates, totalling 50 fits\n",
      "[CV] min_samples_split=100, max_depth=5, criterion=gini ..............\n",
      "[CV]  min_samples_split=100, max_depth=5, criterion=gini, score=0.817, total=   0.0s\n",
      "[CV] min_samples_split=100, max_depth=5, criterion=gini ..............\n",
      "[CV]  min_samples_split=100, max_depth=5, criterion=gini, score=0.857, total=   0.0s\n",
      "[CV] min_samples_split=100, max_depth=5, criterion=gini ..............\n",
      "[CV]  min_samples_split=100, max_depth=5, criterion=gini, score=0.798, total=   0.0s\n",
      "[CV] min_samples_split=100, max_depth=5, criterion=gini ..............\n",
      "[CV]  min_samples_split=100, max_depth=5, criterion=gini, score=0.857, total=   0.0s\n",
      "[CV] min_samples_split=100, max_depth=5, criterion=gini ..............\n",
      "[CV]  min_samples_split=100, max_depth=5, criterion=gini, score=0.857, total=   0.0s\n",
      "[CV] min_samples_split=2, max_depth=5, criterion=gini ................\n",
      "[CV]  min_samples_split=2, max_depth=5, criterion=gini, score=0.758, total=   0.0s\n",
      "[CV] min_samples_split=2, max_depth=5, criterion=gini ................\n",
      "[CV]  min_samples_split=2, max_depth=5, criterion=gini, score=0.874, total=   0.0s\n",
      "[CV] min_samples_split=2, max_depth=5, criterion=gini ................\n",
      "[CV]  min_samples_split=2, max_depth=5, criterion=gini, score=0.798, total=   0.0s\n",
      "[CV] min_samples_split=2, max_depth=5, criterion=gini ................\n",
      "[CV]  min_samples_split=2, max_depth=5, criterion=gini, score=0.899, total=   0.0s\n",
      "[CV] min_samples_split=2, max_depth=5, criterion=gini ................\n",
      "[CV]  min_samples_split=2, max_depth=5, criterion=gini, score=0.882, total=   0.0s\n",
      "[CV] min_samples_split=2, max_depth=10, criterion=entropy ............\n",
      "[CV]  min_samples_split=2, max_depth=10, criterion=entropy, score=0.742, total=   0.0s\n",
      "[CV] min_samples_split=2, max_depth=10, criterion=entropy ............\n",
      "[CV]  min_samples_split=2, max_depth=10, criterion=entropy, score=0.840, total=   0.0s\n",
      "[CV] min_samples_split=2, max_depth=10, criterion=entropy ............\n",
      "[CV]  min_samples_split=2, max_depth=10, criterion=entropy, score=0.739, total=   0.0s\n",
      "[CV] min_samples_split=2, max_depth=10, criterion=entropy ............\n",
      "[CV]  min_samples_split=2, max_depth=10, criterion=entropy, score=0.815, total=   0.0s\n",
      "[CV] min_samples_split=2, max_depth=10, criterion=entropy ............\n",
      "[CV]  min_samples_split=2, max_depth=10, criterion=entropy, score=0.891, total=   0.0s\n",
      "[CV] min_samples_split=2, max_depth=2, criterion=entropy .............\n",
      "[CV]  min_samples_split=2, max_depth=2, criterion=entropy, score=0.800, total=   0.0s\n",
      "[CV] min_samples_split=2, max_depth=2, criterion=entropy .............\n",
      "[CV]  min_samples_split=2, max_depth=2, criterion=entropy, score=0.857, total=   0.0s\n",
      "[CV] min_samples_split=2, max_depth=2, criterion=entropy .............\n",
      "[CV]  min_samples_split=2, max_depth=2, criterion=entropy, score=0.765, total=   0.0s\n",
      "[CV] min_samples_split=2, max_depth=2, criterion=entropy .............\n",
      "[CV]  min_samples_split=2, max_depth=2, criterion=entropy, score=0.857, total=   0.0s\n",
      "[CV] min_samples_split=2, max_depth=2, criterion=entropy .............\n",
      "[CV]  min_samples_split=2, max_depth=2, criterion=entropy, score=0.857, total=   0.0s\n",
      "[CV] min_samples_split=2, max_depth=None, criterion=entropy ..........\n",
      "[CV]  min_samples_split=2, max_depth=None, criterion=entropy, score=0.758, total=   0.0s\n",
      "[CV] min_samples_split=2, max_depth=None, criterion=entropy ..........\n",
      "[CV]  min_samples_split=2, max_depth=None, criterion=entropy, score=0.832, total=   0.0s\n",
      "[CV] min_samples_split=2, max_depth=None, criterion=entropy ..........\n",
      "[CV]  min_samples_split=2, max_depth=None, criterion=entropy, score=0.790, total=   0.0s\n",
      "[CV] min_samples_split=2, max_depth=None, criterion=entropy ..........\n",
      "[CV]  min_samples_split=2, max_depth=None, criterion=entropy, score=0.815, total=   0.0s\n",
      "[CV] min_samples_split=2, max_depth=None, criterion=entropy ..........\n",
      "[CV]  min_samples_split=2, max_depth=None, criterion=entropy, score=0.899, total=   0.0s\n",
      "[CV] min_samples_split=10, max_depth=None, criterion=gini ............\n",
      "[CV]  min_samples_split=10, max_depth=None, criterion=gini, score=0.783, total=   0.0s\n",
      "[CV] min_samples_split=10, max_depth=None, criterion=gini ............\n",
      "[CV]  min_samples_split=10, max_depth=None, criterion=gini, score=0.840, total=   0.0s\n",
      "[CV] min_samples_split=10, max_depth=None, criterion=gini ............\n",
      "[CV]  min_samples_split=10, max_depth=None, criterion=gini, score=0.756, total=   0.0s\n",
      "[CV] min_samples_split=10, max_depth=None, criterion=gini ............\n",
      "[CV]  min_samples_split=10, max_depth=None, criterion=gini, score=0.824, total=   0.0s\n",
      "[CV] min_samples_split=10, max_depth=None, criterion=gini ............\n",
      "[CV]  min_samples_split=10, max_depth=None, criterion=gini, score=0.882, total=   0.0s\n",
      "[CV] min_samples_split=100, max_depth=2, criterion=entropy ...........\n",
      "[CV]  min_samples_split=100, max_depth=2, criterion=entropy, score=0.800, total=   0.0s\n",
      "[CV] min_samples_split=100, max_depth=2, criterion=entropy ...........\n",
      "[CV]  min_samples_split=100, max_depth=2, criterion=entropy, score=0.857, total=   0.0s\n",
      "[CV] min_samples_split=100, max_depth=2, criterion=entropy ...........\n",
      "[CV]  min_samples_split=100, max_depth=2, criterion=entropy, score=0.765, total=   0.0s\n",
      "[CV] min_samples_split=100, max_depth=2, criterion=entropy ...........\n",
      "[CV]  min_samples_split=100, max_depth=2, criterion=entropy, score=0.857, total=   0.0s\n",
      "[CV] min_samples_split=100, max_depth=2, criterion=entropy ...........\n",
      "[CV]  min_samples_split=100, max_depth=2, criterion=entropy, score=0.857, total=   0.0s\n",
      "[CV] min_samples_split=100, max_depth=10, criterion=entropy ..........\n",
      "[CV]  min_samples_split=100, max_depth=10, criterion=entropy, score=0.800, total=   0.0s\n",
      "[CV] min_samples_split=100, max_depth=10, criterion=entropy ..........\n",
      "[CV]  min_samples_split=100, max_depth=10, criterion=entropy, score=0.840, total=   0.0s\n",
      "[CV] min_samples_split=100, max_depth=10, criterion=entropy ..........\n",
      "[CV]  min_samples_split=100, max_depth=10, criterion=entropy, score=0.773, total=   0.0s\n",
      "[CV] min_samples_split=100, max_depth=10, criterion=entropy ..........\n",
      "[CV]  min_samples_split=100, max_depth=10, criterion=entropy, score=0.857, total=   0.0s\n",
      "[CV] min_samples_split=100, max_depth=10, criterion=entropy ..........\n",
      "[CV]  min_samples_split=100, max_depth=10, criterion=entropy, score=0.857, total=   0.0s\n",
      "[CV] min_samples_split=10, max_depth=10, criterion=gini ..............\n",
      "[CV]  min_samples_split=10, max_depth=10, criterion=gini, score=0.783, total=   0.0s\n",
      "[CV] min_samples_split=10, max_depth=10, criterion=gini ..............\n",
      "[CV]  min_samples_split=10, max_depth=10, criterion=gini, score=0.874, total=   0.0s\n",
      "[CV] min_samples_split=10, max_depth=10, criterion=gini ..............\n",
      "[CV]  min_samples_split=10, max_depth=10, criterion=gini, score=0.765, total=   0.0s\n",
      "[CV] min_samples_split=10, max_depth=10, criterion=gini ..............\n",
      "[CV]  min_samples_split=10, max_depth=10, criterion=gini, score=0.824, total=   0.0s\n",
      "[CV] min_samples_split=10, max_depth=10, criterion=gini ..............\n",
      "[CV]  min_samples_split=10, max_depth=10, criterion=gini, score=0.874, total=   0.0s\n",
      "[CV] min_samples_split=10, max_depth=2, criterion=entropy ............\n",
      "[CV]  min_samples_split=10, max_depth=2, criterion=entropy, score=0.800, total=   0.0s\n",
      "[CV] min_samples_split=10, max_depth=2, criterion=entropy ............\n",
      "[CV]  min_samples_split=10, max_depth=2, criterion=entropy, score=0.857, total=   0.0s\n",
      "[CV] min_samples_split=10, max_depth=2, criterion=entropy ............\n",
      "[CV]  min_samples_split=10, max_depth=2, criterion=entropy, score=0.765, total=   0.0s\n",
      "[CV] min_samples_split=10, max_depth=2, criterion=entropy ............\n",
      "[CV]  min_samples_split=10, max_depth=2, criterion=entropy, score=0.857, total=   0.0s\n",
      "[CV] min_samples_split=10, max_depth=2, criterion=entropy ............\n",
      "[CV]  min_samples_split=10, max_depth=2, criterion=entropy, score=0.857, total=   0.0s\n"
     ]
    },
    {
     "name": "stderr",
     "output_type": "stream",
     "text": [
      "[Parallel(n_jobs=1)]: Using backend SequentialBackend with 1 concurrent workers.\n",
      "[Parallel(n_jobs=1)]: Done   1 out of   1 | elapsed:    0.0s remaining:    0.0s\n",
      "[Parallel(n_jobs=1)]: Done   2 out of   2 | elapsed:    0.0s remaining:    0.0s\n",
      "[Parallel(n_jobs=1)]: Done  50 out of  50 | elapsed:    0.2s finished\n"
     ]
    },
    {
     "data": {
      "text/html": [
       "<style>div.sk-top-container {color: black;background-color: white;}div.sk-toggleable {background-color: white;}label.sk-toggleable__label {cursor: pointer;display: block;width: 100%;margin-bottom: 0;padding: 0.2em 0.3em;box-sizing: border-box;text-align: center;}div.sk-toggleable__content {max-height: 0;max-width: 0;overflow: hidden;text-align: left;background-color: #f0f8ff;}div.sk-toggleable__content pre {margin: 0.2em;color: black;border-radius: 0.25em;background-color: #f0f8ff;}input.sk-toggleable__control:checked~div.sk-toggleable__content {max-height: 200px;max-width: 100%;overflow: auto;}div.sk-estimator input.sk-toggleable__control:checked~label.sk-toggleable__label {background-color: #d4ebff;}div.sk-label input.sk-toggleable__control:checked~label.sk-toggleable__label {background-color: #d4ebff;}input.sk-hidden--visually {border: 0;clip: rect(1px 1px 1px 1px);clip: rect(1px, 1px, 1px, 1px);height: 1px;margin: -1px;overflow: hidden;padding: 0;position: absolute;width: 1px;}div.sk-estimator {font-family: monospace;background-color: #f0f8ff;margin: 0.25em 0.25em;border: 1px dotted black;border-radius: 0.25em;box-sizing: border-box;}div.sk-estimator:hover {background-color: #d4ebff;}div.sk-parallel-item::after {content: \"\";width: 100%;border-bottom: 1px solid gray;flex-grow: 1;}div.sk-label:hover label.sk-toggleable__label {background-color: #d4ebff;}div.sk-serial::before {content: \"\";position: absolute;border-left: 1px solid gray;box-sizing: border-box;top: 2em;bottom: 0;left: 50%;}div.sk-serial {display: flex;flex-direction: column;align-items: center;background-color: white;}div.sk-item {z-index: 1;}div.sk-parallel {display: flex;align-items: stretch;justify-content: center;background-color: white;}div.sk-parallel-item {display: flex;flex-direction: column;position: relative;background-color: white;}div.sk-parallel-item:first-child::after {align-self: flex-end;width: 50%;}div.sk-parallel-item:last-child::after {align-self: flex-start;width: 50%;}div.sk-parallel-item:only-child::after {width: 0;}div.sk-dashed-wrapped {border: 1px dashed gray;margin: 0.2em;box-sizing: border-box;padding-bottom: 0.1em;background-color: white;position: relative;}div.sk-label label {font-family: monospace;font-weight: bold;background-color: white;display: inline-block;line-height: 1.2em;}div.sk-label-container {position: relative;z-index: 2;text-align: center;}div.sk-container {display: inline-block;position: relative;}</style><div class=\"sk-top-container\"><div class=\"sk-container\"><div class=\"sk-item sk-dashed-wrapped\"><div class=\"sk-label-container\"><div class=\"sk-label sk-toggleable\"><input class=\"sk-toggleable__control sk-hidden--visually\" id=\"362821b4-661c-4271-b462-4572dd91eccd\" type=\"checkbox\" ><label class=\"sk-toggleable__label\" for=\"362821b4-661c-4271-b462-4572dd91eccd\">Pipeline</label><div class=\"sk-toggleable__content\"><pre>Pipeline(steps=[('columntransformer',\n",
       "                 ColumnTransformer(remainder='passthrough',\n",
       "                                   transformers=[('onehotencoder',\n",
       "                                                  OneHotEncoder(sparse='false'),\n",
       "                                                  [2, 6, 10]),\n",
       "                                                 ('ordinalencoder',\n",
       "                                                  OrdinalEncoder(), [1, 8])])),\n",
       "                ('randomizedsearchcv',\n",
       "                 RandomizedSearchCV(estimator=DecisionTreeClassifier(),\n",
       "                                    param_distributions={'criterion': ['gini',\n",
       "                                                                       'entropy'],\n",
       "                                                         'max_depth': [None, 2,\n",
       "                                                                       5, 10],\n",
       "                                                         'min_samples_split': [2,\n",
       "                                                                               10,\n",
       "                                                                               100]},\n",
       "                                    verbose=3))])</pre></div></div></div><div class=\"sk-serial\"><div class=\"sk-item sk-dashed-wrapped\"><div class=\"sk-label-container\"><div class=\"sk-label sk-toggleable\"><input class=\"sk-toggleable__control sk-hidden--visually\" id=\"d35b8fb0-7540-49a0-ae02-572a160a7a65\" type=\"checkbox\" ><label class=\"sk-toggleable__label\" for=\"d35b8fb0-7540-49a0-ae02-572a160a7a65\">columntransformer: ColumnTransformer</label><div class=\"sk-toggleable__content\"><pre>ColumnTransformer(remainder='passthrough',\n",
       "                  transformers=[('onehotencoder', OneHotEncoder(sparse='false'),\n",
       "                                 [2, 6, 10]),\n",
       "                                ('ordinalencoder', OrdinalEncoder(), [1, 8])])</pre></div></div></div><div class=\"sk-parallel\"><div class=\"sk-parallel-item\"><div class=\"sk-item\"><div class=\"sk-label-container\"><div class=\"sk-label sk-toggleable\"><input class=\"sk-toggleable__control sk-hidden--visually\" id=\"0f39f8cb-ba98-4b93-a091-316d71ec2746\" type=\"checkbox\" ><label class=\"sk-toggleable__label\" for=\"0f39f8cb-ba98-4b93-a091-316d71ec2746\">onehotencoder</label><div class=\"sk-toggleable__content\"><pre>[2, 6, 10]</pre></div></div></div><div class=\"sk-serial\"><div class=\"sk-item\"><div class=\"sk-estimator sk-toggleable\"><input class=\"sk-toggleable__control sk-hidden--visually\" id=\"ad1d2fae-d33a-4f8b-bf18-ab3047d619b4\" type=\"checkbox\" ><label class=\"sk-toggleable__label\" for=\"ad1d2fae-d33a-4f8b-bf18-ab3047d619b4\">OneHotEncoder</label><div class=\"sk-toggleable__content\"><pre>OneHotEncoder(sparse='false')</pre></div></div></div></div></div></div><div class=\"sk-parallel-item\"><div class=\"sk-item\"><div class=\"sk-label-container\"><div class=\"sk-label sk-toggleable\"><input class=\"sk-toggleable__control sk-hidden--visually\" id=\"a8bbc125-ff33-48c5-85b4-41a74c2f0517\" type=\"checkbox\" ><label class=\"sk-toggleable__label\" for=\"a8bbc125-ff33-48c5-85b4-41a74c2f0517\">ordinalencoder</label><div class=\"sk-toggleable__content\"><pre>[1, 8]</pre></div></div></div><div class=\"sk-serial\"><div class=\"sk-item\"><div class=\"sk-estimator sk-toggleable\"><input class=\"sk-toggleable__control sk-hidden--visually\" id=\"bf0f14e6-11f4-4520-8476-f8a2b6c96a10\" type=\"checkbox\" ><label class=\"sk-toggleable__label\" for=\"bf0f14e6-11f4-4520-8476-f8a2b6c96a10\">OrdinalEncoder</label><div class=\"sk-toggleable__content\"><pre>OrdinalEncoder()</pre></div></div></div></div></div></div></div></div><div class=\"sk-item sk-dashed-wrapped\"><div class=\"sk-label-container\"><div class=\"sk-label sk-toggleable\"><input class=\"sk-toggleable__control sk-hidden--visually\" id=\"c7691079-89c4-4e9f-9149-018c34ef637c\" type=\"checkbox\" ><label class=\"sk-toggleable__label\" for=\"c7691079-89c4-4e9f-9149-018c34ef637c\">randomizedsearchcv: RandomizedSearchCV</label><div class=\"sk-toggleable__content\"><pre>RandomizedSearchCV(estimator=DecisionTreeClassifier(),\n",
       "                   param_distributions={'criterion': ['gini', 'entropy'],\n",
       "                                        'max_depth': [None, 2, 5, 10],\n",
       "                                        'min_samples_split': [2, 10, 100]},\n",
       "                   verbose=3)</pre></div></div></div><div class=\"sk-parallel\"><div class=\"sk-parallel-item\"><div class=\"sk-item\"><div class=\"sk-serial\"><div class=\"sk-item\"><div class=\"sk-estimator sk-toggleable\"><input class=\"sk-toggleable__control sk-hidden--visually\" id=\"6722ff13-3f6c-4499-a891-3ba9f4dee746\" type=\"checkbox\" ><label class=\"sk-toggleable__label\" for=\"6722ff13-3f6c-4499-a891-3ba9f4dee746\">DecisionTreeClassifier</label><div class=\"sk-toggleable__content\"><pre>DecisionTreeClassifier()</pre></div></div></div></div></div></div></div></div></div></div></div></div>"
      ],
      "text/plain": [
       "Pipeline(steps=[('columntransformer',\n",
       "                 ColumnTransformer(remainder='passthrough',\n",
       "                                   transformers=[('onehotencoder',\n",
       "                                                  OneHotEncoder(sparse='false'),\n",
       "                                                  [2, 6, 10]),\n",
       "                                                 ('ordinalencoder',\n",
       "                                                  OrdinalEncoder(), [1, 8])])),\n",
       "                ('randomizedsearchcv',\n",
       "                 RandomizedSearchCV(estimator=DecisionTreeClassifier(),\n",
       "                                    param_distributions={'criterion': ['gini',\n",
       "                                                                       'entropy'],\n",
       "                                                         'max_depth': [None, 2,\n",
       "                                                                       5, 10],\n",
       "                                                         'min_samples_split': [2,\n",
       "                                                                               10,\n",
       "                                                                               100]},\n",
       "                                    verbose=3))])"
      ]
     },
     "execution_count": 57,
     "metadata": {},
     "output_type": "execute_result"
    }
   ],
   "source": [
    "pipe_w.fit(x_train,y_train)"
   ]
  },
  {
   "cell_type": "code",
   "execution_count": 58,
   "id": "5bb74e11",
   "metadata": {
    "execution": {
     "iopub.execute_input": "2023-01-25T05:21:01.928848Z",
     "iopub.status.busy": "2023-01-25T05:21:01.928150Z",
     "iopub.status.idle": "2023-01-25T05:21:01.937554Z",
     "shell.execute_reply": "2023-01-25T05:21:01.938091Z",
     "shell.execute_reply.started": "2022-01-31T12:27:45.544567Z"
    },
    "papermill": {
     "duration": 0.094496,
     "end_time": "2023-01-25T05:21:01.938291",
     "exception": false,
     "start_time": "2023-01-25T05:21:01.843795",
     "status": "completed"
    },
    "tags": []
   },
   "outputs": [
    {
     "data": {
      "text/plain": [
       "array([0, 0, 0, 1, 0, 0, 1, 0, 0, 1, 0, 0, 1, 1, 0, 0, 1, 1, 0, 1, 1, 1,\n",
       "       0, 0, 0, 0, 1, 1, 0, 0, 1, 0, 1, 0, 0, 1, 0, 0, 1, 0, 1, 1, 1, 1,\n",
       "       0, 0, 0, 1, 0, 0, 1, 1, 0, 0, 0, 0, 0, 0, 0, 1, 1, 1, 1, 0, 0, 1,\n",
       "       1, 1, 1, 0, 0, 0, 0, 1, 1, 1, 0, 0, 0, 1, 1, 0, 1, 1, 1, 0, 1, 0,\n",
       "       0, 0, 0, 1, 1, 1, 1, 1, 0, 1, 1, 1, 1, 1, 1, 0, 0, 0, 0, 0, 0, 0,\n",
       "       1, 1, 1, 1, 0, 1, 0, 0, 1, 1, 0, 0, 1, 0, 1, 0, 0, 1, 1, 1, 1, 1,\n",
       "       1, 1, 0, 1, 1, 0, 1, 0, 0, 0, 1, 0, 1, 1, 0, 0, 0, 0, 1, 0, 0, 1,\n",
       "       0, 1, 1, 0, 1, 0, 0, 1, 1, 0, 0, 1, 1, 0, 0, 1, 0, 0, 1, 1, 0, 0,\n",
       "       0, 0, 1, 1, 0, 0, 0, 0, 0, 0, 0, 0, 0, 0, 0, 1, 0, 1, 0, 1, 0, 0,\n",
       "       0, 1, 0, 0, 0, 1, 0, 0, 0, 1, 1, 0, 1, 0, 0, 1, 0, 0, 1, 1, 0, 1,\n",
       "       0, 0, 0, 0, 0, 0, 1, 0, 0, 0, 1, 0, 0, 1, 1, 0, 1, 1, 1, 0, 1, 0,\n",
       "       0, 0, 0, 0, 1, 0, 1, 0, 0, 0, 1, 0, 1, 1, 1, 1, 0, 1, 0, 0, 1, 1,\n",
       "       1, 0, 1, 1, 0, 1, 1, 0, 0, 1, 1, 0, 1, 0, 1, 1, 1, 0, 0, 0, 0, 0,\n",
       "       0, 1, 0, 0, 1, 0, 1, 0, 1, 1, 1, 0, 0, 1, 1, 0, 0, 0, 0, 1, 1, 0,\n",
       "       0, 0, 0, 1, 1, 1, 1, 1, 1, 1, 1, 0, 0, 1])"
      ]
     },
     "execution_count": 58,
     "metadata": {},
     "output_type": "execute_result"
    }
   ],
   "source": [
    "pred_4=pipe_w.predict(x_test)\n",
    "pred_4"
   ]
  },
  {
   "cell_type": "code",
   "execution_count": 59,
   "id": "a740a82c",
   "metadata": {
    "execution": {
     "iopub.execute_input": "2023-01-25T05:21:02.105475Z",
     "iopub.status.busy": "2023-01-25T05:21:02.103684Z",
     "iopub.status.idle": "2023-01-25T05:21:02.109563Z",
     "shell.execute_reply": "2023-01-25T05:21:02.110034Z",
     "shell.execute_reply.started": "2022-01-31T12:27:45.564525Z"
    },
    "papermill": {
     "duration": 0.091509,
     "end_time": "2023-01-25T05:21:02.110216",
     "exception": false,
     "start_time": "2023-01-25T05:21:02.018707",
     "status": "completed"
    },
    "tags": []
   },
   "outputs": [
    {
     "data": {
      "text/plain": [
       "78.57142857142857"
      ]
     },
     "execution_count": 59,
     "metadata": {},
     "output_type": "execute_result"
    }
   ],
   "source": [
    "accuracy_score(pred_4,y_test)*100"
   ]
  },
  {
   "cell_type": "code",
   "execution_count": 60,
   "id": "f07daa7a",
   "metadata": {
    "execution": {
     "iopub.execute_input": "2023-01-25T05:21:02.272877Z",
     "iopub.status.busy": "2023-01-25T05:21:02.272226Z",
     "iopub.status.idle": "2023-01-25T05:21:02.274756Z",
     "shell.execute_reply": "2023-01-25T05:21:02.275218Z",
     "shell.execute_reply.started": "2022-01-31T12:27:45.573223Z"
    },
    "papermill": {
     "duration": 0.086651,
     "end_time": "2023-01-25T05:21:02.275397",
     "exception": false,
     "start_time": "2023-01-25T05:21:02.188746",
     "status": "completed"
    },
    "tags": []
   },
   "outputs": [],
   "source": [
    "from sklearn.ensemble import RandomForestClassifier\n",
    "forest=RandomForestClassifier(n_estimators=400)"
   ]
  },
  {
   "cell_type": "code",
   "execution_count": 61,
   "id": "e068077b",
   "metadata": {
    "execution": {
     "iopub.execute_input": "2023-01-25T05:21:02.445657Z",
     "iopub.status.busy": "2023-01-25T05:21:02.444912Z",
     "iopub.status.idle": "2023-01-25T05:21:02.475506Z",
     "shell.execute_reply": "2023-01-25T05:21:02.476032Z",
     "shell.execute_reply.started": "2022-01-31T12:27:45.582016Z"
    },
    "papermill": {
     "duration": 0.121298,
     "end_time": "2023-01-25T05:21:02.476224",
     "exception": false,
     "start_time": "2023-01-25T05:21:02.354926",
     "status": "completed"
    },
    "tags": []
   },
   "outputs": [
    {
     "data": {
      "text/html": [
       "<style>div.sk-top-container {color: black;background-color: white;}div.sk-toggleable {background-color: white;}label.sk-toggleable__label {cursor: pointer;display: block;width: 100%;margin-bottom: 0;padding: 0.2em 0.3em;box-sizing: border-box;text-align: center;}div.sk-toggleable__content {max-height: 0;max-width: 0;overflow: hidden;text-align: left;background-color: #f0f8ff;}div.sk-toggleable__content pre {margin: 0.2em;color: black;border-radius: 0.25em;background-color: #f0f8ff;}input.sk-toggleable__control:checked~div.sk-toggleable__content {max-height: 200px;max-width: 100%;overflow: auto;}div.sk-estimator input.sk-toggleable__control:checked~label.sk-toggleable__label {background-color: #d4ebff;}div.sk-label input.sk-toggleable__control:checked~label.sk-toggleable__label {background-color: #d4ebff;}input.sk-hidden--visually {border: 0;clip: rect(1px 1px 1px 1px);clip: rect(1px, 1px, 1px, 1px);height: 1px;margin: -1px;overflow: hidden;padding: 0;position: absolute;width: 1px;}div.sk-estimator {font-family: monospace;background-color: #f0f8ff;margin: 0.25em 0.25em;border: 1px dotted black;border-radius: 0.25em;box-sizing: border-box;}div.sk-estimator:hover {background-color: #d4ebff;}div.sk-parallel-item::after {content: \"\";width: 100%;border-bottom: 1px solid gray;flex-grow: 1;}div.sk-label:hover label.sk-toggleable__label {background-color: #d4ebff;}div.sk-serial::before {content: \"\";position: absolute;border-left: 1px solid gray;box-sizing: border-box;top: 2em;bottom: 0;left: 50%;}div.sk-serial {display: flex;flex-direction: column;align-items: center;background-color: white;}div.sk-item {z-index: 1;}div.sk-parallel {display: flex;align-items: stretch;justify-content: center;background-color: white;}div.sk-parallel-item {display: flex;flex-direction: column;position: relative;background-color: white;}div.sk-parallel-item:first-child::after {align-self: flex-end;width: 50%;}div.sk-parallel-item:last-child::after {align-self: flex-start;width: 50%;}div.sk-parallel-item:only-child::after {width: 0;}div.sk-dashed-wrapped {border: 1px dashed gray;margin: 0.2em;box-sizing: border-box;padding-bottom: 0.1em;background-color: white;position: relative;}div.sk-label label {font-family: monospace;font-weight: bold;background-color: white;display: inline-block;line-height: 1.2em;}div.sk-label-container {position: relative;z-index: 2;text-align: center;}div.sk-container {display: inline-block;position: relative;}</style><div class=\"sk-top-container\"><div class=\"sk-container\"><div class=\"sk-item sk-dashed-wrapped\"><div class=\"sk-label-container\"><div class=\"sk-label sk-toggleable\"><input class=\"sk-toggleable__control sk-hidden--visually\" id=\"92550d88-b5dd-4313-befc-2d42e525d677\" type=\"checkbox\" ><label class=\"sk-toggleable__label\" for=\"92550d88-b5dd-4313-befc-2d42e525d677\">Pipeline</label><div class=\"sk-toggleable__content\"><pre>Pipeline(steps=[('columntransformer',\n",
       "                 ColumnTransformer(remainder='passthrough',\n",
       "                                   transformers=[('onehotencoder',\n",
       "                                                  OneHotEncoder(sparse='false'),\n",
       "                                                  [2, 6, 10]),\n",
       "                                                 ('ordinalencoder',\n",
       "                                                  OrdinalEncoder(), [1, 8])])),\n",
       "                ('randomforestclassifier',\n",
       "                 RandomForestClassifier(n_estimators=400))])</pre></div></div></div><div class=\"sk-serial\"><div class=\"sk-item sk-dashed-wrapped\"><div class=\"sk-label-container\"><div class=\"sk-label sk-toggleable\"><input class=\"sk-toggleable__control sk-hidden--visually\" id=\"e729a48b-f036-4cec-bef4-3f08af49f843\" type=\"checkbox\" ><label class=\"sk-toggleable__label\" for=\"e729a48b-f036-4cec-bef4-3f08af49f843\">columntransformer: ColumnTransformer</label><div class=\"sk-toggleable__content\"><pre>ColumnTransformer(remainder='passthrough',\n",
       "                  transformers=[('onehotencoder', OneHotEncoder(sparse='false'),\n",
       "                                 [2, 6, 10]),\n",
       "                                ('ordinalencoder', OrdinalEncoder(), [1, 8])])</pre></div></div></div><div class=\"sk-parallel\"><div class=\"sk-parallel-item\"><div class=\"sk-item\"><div class=\"sk-label-container\"><div class=\"sk-label sk-toggleable\"><input class=\"sk-toggleable__control sk-hidden--visually\" id=\"cd3cd805-0a4d-4456-be02-e6153dc7d9b6\" type=\"checkbox\" ><label class=\"sk-toggleable__label\" for=\"cd3cd805-0a4d-4456-be02-e6153dc7d9b6\">onehotencoder</label><div class=\"sk-toggleable__content\"><pre>[2, 6, 10]</pre></div></div></div><div class=\"sk-serial\"><div class=\"sk-item\"><div class=\"sk-estimator sk-toggleable\"><input class=\"sk-toggleable__control sk-hidden--visually\" id=\"a6d1c69e-a6fe-4bf0-a5b1-15a09a6f31e5\" type=\"checkbox\" ><label class=\"sk-toggleable__label\" for=\"a6d1c69e-a6fe-4bf0-a5b1-15a09a6f31e5\">OneHotEncoder</label><div class=\"sk-toggleable__content\"><pre>OneHotEncoder(sparse='false')</pre></div></div></div></div></div></div><div class=\"sk-parallel-item\"><div class=\"sk-item\"><div class=\"sk-label-container\"><div class=\"sk-label sk-toggleable\"><input class=\"sk-toggleable__control sk-hidden--visually\" id=\"47e94576-02fa-4cd5-9e7a-c4af2d8de21b\" type=\"checkbox\" ><label class=\"sk-toggleable__label\" for=\"47e94576-02fa-4cd5-9e7a-c4af2d8de21b\">ordinalencoder</label><div class=\"sk-toggleable__content\"><pre>[1, 8]</pre></div></div></div><div class=\"sk-serial\"><div class=\"sk-item\"><div class=\"sk-estimator sk-toggleable\"><input class=\"sk-toggleable__control sk-hidden--visually\" id=\"500fd21e-2c74-41d5-ab30-6cb081f65022\" type=\"checkbox\" ><label class=\"sk-toggleable__label\" for=\"500fd21e-2c74-41d5-ab30-6cb081f65022\">OrdinalEncoder</label><div class=\"sk-toggleable__content\"><pre>OrdinalEncoder()</pre></div></div></div></div></div></div></div></div><div class=\"sk-item\"><div class=\"sk-estimator sk-toggleable\"><input class=\"sk-toggleable__control sk-hidden--visually\" id=\"be4dedb6-4e68-4001-a1fe-5092847d8abe\" type=\"checkbox\" ><label class=\"sk-toggleable__label\" for=\"be4dedb6-4e68-4001-a1fe-5092847d8abe\">RandomForestClassifier</label><div class=\"sk-toggleable__content\"><pre>RandomForestClassifier(n_estimators=400)</pre></div></div></div></div></div></div></div>"
      ],
      "text/plain": [
       "Pipeline(steps=[('columntransformer',\n",
       "                 ColumnTransformer(remainder='passthrough',\n",
       "                                   transformers=[('onehotencoder',\n",
       "                                                  OneHotEncoder(sparse='false'),\n",
       "                                                  [2, 6, 10]),\n",
       "                                                 ('ordinalencoder',\n",
       "                                                  OrdinalEncoder(), [1, 8])])),\n",
       "                ('randomforestclassifier',\n",
       "                 RandomForestClassifier(n_estimators=400))])"
      ]
     },
     "execution_count": 61,
     "metadata": {},
     "output_type": "execute_result"
    }
   ],
   "source": [
    "pipe_f=make_pipeline(trans,forest)\n",
    "pipe_f"
   ]
  },
  {
   "cell_type": "code",
   "execution_count": 62,
   "id": "b9128959",
   "metadata": {
    "execution": {
     "iopub.execute_input": "2023-01-25T05:21:02.643939Z",
     "iopub.status.busy": "2023-01-25T05:21:02.643221Z",
     "iopub.status.idle": "2023-01-25T05:21:03.442804Z",
     "shell.execute_reply": "2023-01-25T05:21:03.442103Z",
     "shell.execute_reply.started": "2022-01-31T12:27:45.634771Z"
    },
    "papermill": {
     "duration": 0.886492,
     "end_time": "2023-01-25T05:21:03.442958",
     "exception": false,
     "start_time": "2023-01-25T05:21:02.556466",
     "status": "completed"
    },
    "tags": []
   },
   "outputs": [
    {
     "data": {
      "text/html": [
       "<style>div.sk-top-container {color: black;background-color: white;}div.sk-toggleable {background-color: white;}label.sk-toggleable__label {cursor: pointer;display: block;width: 100%;margin-bottom: 0;padding: 0.2em 0.3em;box-sizing: border-box;text-align: center;}div.sk-toggleable__content {max-height: 0;max-width: 0;overflow: hidden;text-align: left;background-color: #f0f8ff;}div.sk-toggleable__content pre {margin: 0.2em;color: black;border-radius: 0.25em;background-color: #f0f8ff;}input.sk-toggleable__control:checked~div.sk-toggleable__content {max-height: 200px;max-width: 100%;overflow: auto;}div.sk-estimator input.sk-toggleable__control:checked~label.sk-toggleable__label {background-color: #d4ebff;}div.sk-label input.sk-toggleable__control:checked~label.sk-toggleable__label {background-color: #d4ebff;}input.sk-hidden--visually {border: 0;clip: rect(1px 1px 1px 1px);clip: rect(1px, 1px, 1px, 1px);height: 1px;margin: -1px;overflow: hidden;padding: 0;position: absolute;width: 1px;}div.sk-estimator {font-family: monospace;background-color: #f0f8ff;margin: 0.25em 0.25em;border: 1px dotted black;border-radius: 0.25em;box-sizing: border-box;}div.sk-estimator:hover {background-color: #d4ebff;}div.sk-parallel-item::after {content: \"\";width: 100%;border-bottom: 1px solid gray;flex-grow: 1;}div.sk-label:hover label.sk-toggleable__label {background-color: #d4ebff;}div.sk-serial::before {content: \"\";position: absolute;border-left: 1px solid gray;box-sizing: border-box;top: 2em;bottom: 0;left: 50%;}div.sk-serial {display: flex;flex-direction: column;align-items: center;background-color: white;}div.sk-item {z-index: 1;}div.sk-parallel {display: flex;align-items: stretch;justify-content: center;background-color: white;}div.sk-parallel-item {display: flex;flex-direction: column;position: relative;background-color: white;}div.sk-parallel-item:first-child::after {align-self: flex-end;width: 50%;}div.sk-parallel-item:last-child::after {align-self: flex-start;width: 50%;}div.sk-parallel-item:only-child::after {width: 0;}div.sk-dashed-wrapped {border: 1px dashed gray;margin: 0.2em;box-sizing: border-box;padding-bottom: 0.1em;background-color: white;position: relative;}div.sk-label label {font-family: monospace;font-weight: bold;background-color: white;display: inline-block;line-height: 1.2em;}div.sk-label-container {position: relative;z-index: 2;text-align: center;}div.sk-container {display: inline-block;position: relative;}</style><div class=\"sk-top-container\"><div class=\"sk-container\"><div class=\"sk-item sk-dashed-wrapped\"><div class=\"sk-label-container\"><div class=\"sk-label sk-toggleable\"><input class=\"sk-toggleable__control sk-hidden--visually\" id=\"cad6f6c3-f9a5-42c5-b854-eae526e7a3ec\" type=\"checkbox\" ><label class=\"sk-toggleable__label\" for=\"cad6f6c3-f9a5-42c5-b854-eae526e7a3ec\">Pipeline</label><div class=\"sk-toggleable__content\"><pre>Pipeline(steps=[('columntransformer',\n",
       "                 ColumnTransformer(remainder='passthrough',\n",
       "                                   transformers=[('onehotencoder',\n",
       "                                                  OneHotEncoder(sparse='false'),\n",
       "                                                  [2, 6, 10]),\n",
       "                                                 ('ordinalencoder',\n",
       "                                                  OrdinalEncoder(), [1, 8])])),\n",
       "                ('randomforestclassifier',\n",
       "                 RandomForestClassifier(n_estimators=400))])</pre></div></div></div><div class=\"sk-serial\"><div class=\"sk-item sk-dashed-wrapped\"><div class=\"sk-label-container\"><div class=\"sk-label sk-toggleable\"><input class=\"sk-toggleable__control sk-hidden--visually\" id=\"597ec4e5-d0b3-4268-855d-46223c78d534\" type=\"checkbox\" ><label class=\"sk-toggleable__label\" for=\"597ec4e5-d0b3-4268-855d-46223c78d534\">columntransformer: ColumnTransformer</label><div class=\"sk-toggleable__content\"><pre>ColumnTransformer(remainder='passthrough',\n",
       "                  transformers=[('onehotencoder', OneHotEncoder(sparse='false'),\n",
       "                                 [2, 6, 10]),\n",
       "                                ('ordinalencoder', OrdinalEncoder(), [1, 8])])</pre></div></div></div><div class=\"sk-parallel\"><div class=\"sk-parallel-item\"><div class=\"sk-item\"><div class=\"sk-label-container\"><div class=\"sk-label sk-toggleable\"><input class=\"sk-toggleable__control sk-hidden--visually\" id=\"8a2c430a-af86-4f33-b464-c0269fd7f557\" type=\"checkbox\" ><label class=\"sk-toggleable__label\" for=\"8a2c430a-af86-4f33-b464-c0269fd7f557\">onehotencoder</label><div class=\"sk-toggleable__content\"><pre>[2, 6, 10]</pre></div></div></div><div class=\"sk-serial\"><div class=\"sk-item\"><div class=\"sk-estimator sk-toggleable\"><input class=\"sk-toggleable__control sk-hidden--visually\" id=\"2ab7f186-de84-4a57-8cb2-fd591e4a4394\" type=\"checkbox\" ><label class=\"sk-toggleable__label\" for=\"2ab7f186-de84-4a57-8cb2-fd591e4a4394\">OneHotEncoder</label><div class=\"sk-toggleable__content\"><pre>OneHotEncoder(sparse='false')</pre></div></div></div></div></div></div><div class=\"sk-parallel-item\"><div class=\"sk-item\"><div class=\"sk-label-container\"><div class=\"sk-label sk-toggleable\"><input class=\"sk-toggleable__control sk-hidden--visually\" id=\"102cd7a1-2d5a-4b2f-8668-b829179a2bdd\" type=\"checkbox\" ><label class=\"sk-toggleable__label\" for=\"102cd7a1-2d5a-4b2f-8668-b829179a2bdd\">ordinalencoder</label><div class=\"sk-toggleable__content\"><pre>[1, 8]</pre></div></div></div><div class=\"sk-serial\"><div class=\"sk-item\"><div class=\"sk-estimator sk-toggleable\"><input class=\"sk-toggleable__control sk-hidden--visually\" id=\"7ab19c63-2b58-4883-ba52-bca446c856ce\" type=\"checkbox\" ><label class=\"sk-toggleable__label\" for=\"7ab19c63-2b58-4883-ba52-bca446c856ce\">OrdinalEncoder</label><div class=\"sk-toggleable__content\"><pre>OrdinalEncoder()</pre></div></div></div></div></div></div></div></div><div class=\"sk-item\"><div class=\"sk-estimator sk-toggleable\"><input class=\"sk-toggleable__control sk-hidden--visually\" id=\"2361f9d3-e40c-4661-a31b-d9ee59c2fa1f\" type=\"checkbox\" ><label class=\"sk-toggleable__label\" for=\"2361f9d3-e40c-4661-a31b-d9ee59c2fa1f\">RandomForestClassifier</label><div class=\"sk-toggleable__content\"><pre>RandomForestClassifier(n_estimators=400)</pre></div></div></div></div></div></div></div>"
      ],
      "text/plain": [
       "Pipeline(steps=[('columntransformer',\n",
       "                 ColumnTransformer(remainder='passthrough',\n",
       "                                   transformers=[('onehotencoder',\n",
       "                                                  OneHotEncoder(sparse='false'),\n",
       "                                                  [2, 6, 10]),\n",
       "                                                 ('ordinalencoder',\n",
       "                                                  OrdinalEncoder(), [1, 8])])),\n",
       "                ('randomforestclassifier',\n",
       "                 RandomForestClassifier(n_estimators=400))])"
      ]
     },
     "execution_count": 62,
     "metadata": {},
     "output_type": "execute_result"
    }
   ],
   "source": [
    "pipe_f.fit(x_train,y_train)"
   ]
  },
  {
   "cell_type": "code",
   "execution_count": 63,
   "id": "b29d738f",
   "metadata": {
    "execution": {
     "iopub.execute_input": "2023-01-25T05:21:03.613873Z",
     "iopub.status.busy": "2023-01-25T05:21:03.613160Z",
     "iopub.status.idle": "2023-01-25T05:21:03.674756Z",
     "shell.execute_reply": "2023-01-25T05:21:03.674086Z",
     "shell.execute_reply.started": "2022-01-31T12:27:46.588948Z"
    },
    "papermill": {
     "duration": 0.147574,
     "end_time": "2023-01-25T05:21:03.674912",
     "exception": false,
     "start_time": "2023-01-25T05:21:03.527338",
     "status": "completed"
    },
    "tags": []
   },
   "outputs": [
    {
     "data": {
      "text/plain": [
       "array([0, 0, 0, 1, 0, 0, 1, 0, 0, 1, 0, 0, 1, 1, 0, 0, 1, 1, 0, 1, 1, 1,\n",
       "       0, 0, 0, 0, 0, 1, 0, 0, 1, 1, 1, 0, 0, 1, 0, 0, 1, 0, 1, 1, 1, 1,\n",
       "       0, 0, 0, 1, 0, 0, 1, 1, 0, 0, 0, 0, 0, 0, 0, 1, 1, 1, 1, 0, 0, 1,\n",
       "       1, 1, 1, 0, 0, 0, 1, 1, 1, 1, 0, 1, 0, 1, 1, 0, 1, 1, 1, 0, 1, 0,\n",
       "       1, 0, 0, 1, 1, 1, 1, 1, 0, 1, 1, 1, 0, 1, 1, 0, 0, 1, 0, 1, 0, 0,\n",
       "       1, 1, 1, 1, 1, 1, 0, 0, 1, 1, 0, 0, 1, 0, 1, 0, 0, 1, 1, 1, 1, 1,\n",
       "       1, 1, 0, 1, 1, 1, 1, 1, 0, 1, 0, 1, 1, 1, 0, 0, 0, 0, 1, 0, 0, 1,\n",
       "       0, 1, 1, 0, 1, 0, 0, 1, 1, 0, 0, 1, 0, 0, 1, 1, 0, 0, 1, 1, 0, 1,\n",
       "       0, 0, 1, 1, 0, 0, 0, 0, 0, 0, 0, 0, 1, 0, 1, 1, 0, 1, 0, 1, 1, 0,\n",
       "       0, 1, 0, 0, 0, 0, 0, 0, 0, 1, 1, 0, 1, 0, 1, 1, 0, 0, 1, 1, 1, 1,\n",
       "       1, 0, 0, 0, 1, 0, 1, 0, 1, 0, 1, 0, 1, 1, 1, 0, 1, 1, 1, 0, 1, 0,\n",
       "       1, 1, 0, 1, 1, 0, 1, 0, 0, 0, 1, 0, 1, 1, 1, 1, 1, 1, 0, 0, 1, 1,\n",
       "       1, 0, 1, 1, 0, 1, 1, 0, 0, 1, 1, 1, 1, 0, 1, 1, 1, 0, 1, 0, 1, 1,\n",
       "       0, 1, 0, 0, 1, 0, 1, 0, 1, 1, 1, 0, 1, 1, 1, 1, 1, 0, 0, 1, 1, 0,\n",
       "       0, 0, 0, 1, 1, 1, 1, 1, 1, 1, 1, 0, 0, 1])"
      ]
     },
     "execution_count": 63,
     "metadata": {},
     "output_type": "execute_result"
    }
   ],
   "source": [
    "pred_5=pipe_f.predict(x_test)\n",
    "pred_5"
   ]
  },
  {
   "cell_type": "code",
   "execution_count": 64,
   "id": "1631e332",
   "metadata": {
    "execution": {
     "iopub.execute_input": "2023-01-25T05:21:03.841931Z",
     "iopub.status.busy": "2023-01-25T05:21:03.841171Z",
     "iopub.status.idle": "2023-01-25T05:21:03.844715Z",
     "shell.execute_reply": "2023-01-25T05:21:03.845235Z",
     "shell.execute_reply.started": "2022-01-31T12:27:46.673836Z"
    },
    "papermill": {
     "duration": 0.090317,
     "end_time": "2023-01-25T05:21:03.845414",
     "exception": false,
     "start_time": "2023-01-25T05:21:03.755097",
     "status": "completed"
    },
    "tags": []
   },
   "outputs": [
    {
     "data": {
      "text/plain": [
       "86.64596273291926"
      ]
     },
     "execution_count": 64,
     "metadata": {},
     "output_type": "execute_result"
    }
   ],
   "source": [
    "accuracy_score(pred_5,y_test)*100"
   ]
  },
  {
   "cell_type": "code",
   "execution_count": null,
   "id": "705fe674",
   "metadata": {
    "papermill": {
     "duration": 0.079884,
     "end_time": "2023-01-25T05:21:04.006123",
     "exception": false,
     "start_time": "2023-01-25T05:21:03.926239",
     "status": "completed"
    },
    "tags": []
   },
   "outputs": [],
   "source": []
  }
 ],
 "metadata": {
  "kernelspec": {
   "display_name": "Python 3",
   "language": "python",
   "name": "python3"
  },
  "language_info": {
   "codemirror_mode": {
    "name": "ipython",
    "version": 3
   },
   "file_extension": ".py",
   "mimetype": "text/x-python",
   "name": "python",
   "nbconvert_exporter": "python",
   "pygments_lexer": "ipython3",
   "version": "3.7.12"
  },
  "papermill": {
   "default_parameters": {},
   "duration": 26.27554,
   "end_time": "2023-01-25T05:21:04.898444",
   "environment_variables": {},
   "exception": null,
   "input_path": "__notebook__.ipynb",
   "output_path": "__notebook__.ipynb",
   "parameters": {},
   "start_time": "2023-01-25T05:20:38.622904",
   "version": "2.3.3"
  }
 },
 "nbformat": 4,
 "nbformat_minor": 5
}
