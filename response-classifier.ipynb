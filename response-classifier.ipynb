{
 "cells": [
  {
   "cell_type": "code",
   "execution_count": 1,
   "id": "3946bed9",
   "metadata": {
    "_cell_guid": "b1076dfc-b9ad-4769-8c92-a6c4dae69d19",
    "_uuid": "8f2839f25d086af736a60e9eeb907d3b93b6e0e5",
    "execution": {
     "iopub.execute_input": "2023-01-25T05:22:59.462913Z",
     "iopub.status.busy": "2023-01-25T05:22:59.461589Z",
     "iopub.status.idle": "2023-01-25T05:22:59.480792Z",
     "shell.execute_reply": "2023-01-25T05:22:59.481702Z",
     "shell.execute_reply.started": "2022-01-31T12:36:49.133687Z"
    },
    "papermill": {
     "duration": 0.098359,
     "end_time": "2023-01-25T05:22:59.482101",
     "exception": false,
     "start_time": "2023-01-25T05:22:59.383742",
     "status": "completed"
    },
    "tags": []
   },
   "outputs": [
    {
     "name": "stdout",
     "output_type": "stream",
     "text": [
      "/kaggle/input/arketing-campaign/marketing_campaign.csv\n",
      "/kaggle/input/arketing-campaign/marketing_campaign.xlsx\n"
     ]
    }
   ],
   "source": [
    "# This Python 3 environment comes with many helpful analytics libraries installed\n",
    "# It is defined by the kaggle/python Docker image: https://github.com/kaggle/docker-python\n",
    "# For example, here's several helpful packages to load\n",
    "\n",
    "import numpy as np # linear algebra\n",
    "import pandas as pd # data processing, CSV file I/O (e.g. pd.read_csv)\n",
    "\n",
    "# Input data files are available in the read-only \"../input/\" directory\n",
    "# For example, running this (by clicking run or pressing Shift+Enter) will list all files under the input directory\n",
    "\n",
    "import os\n",
    "for dirname, _, filenames in os.walk('/kaggle/input'):\n",
    "    for filename in filenames:\n",
    "        print(os.path.join(dirname, filename))\n",
    "\n",
    "# You can write up to 20GB to the current directory (/kaggle/working/) that gets preserved as output when you create a version using \"Save & Run All\" \n",
    "# You can also write temporary files to /kaggle/temp/, but they won't be saved outside of the current session"
   ]
  },
  {
   "cell_type": "code",
   "execution_count": 2,
   "id": "d3f84e14",
   "metadata": {
    "execution": {
     "iopub.execute_input": "2023-01-25T05:22:59.630120Z",
     "iopub.status.busy": "2023-01-25T05:22:59.629403Z",
     "iopub.status.idle": "2023-01-25T05:22:59.699647Z",
     "shell.execute_reply": "2023-01-25T05:22:59.700198Z",
     "shell.execute_reply.started": "2022-01-31T12:36:49.187812Z"
    },
    "papermill": {
     "duration": 0.144638,
     "end_time": "2023-01-25T05:22:59.700378",
     "exception": false,
     "start_time": "2023-01-25T05:22:59.555740",
     "status": "completed"
    },
    "tags": []
   },
   "outputs": [
    {
     "data": {
      "text/html": [
       "<div>\n",
       "<style scoped>\n",
       "    .dataframe tbody tr th:only-of-type {\n",
       "        vertical-align: middle;\n",
       "    }\n",
       "\n",
       "    .dataframe tbody tr th {\n",
       "        vertical-align: top;\n",
       "    }\n",
       "\n",
       "    .dataframe thead th {\n",
       "        text-align: right;\n",
       "    }\n",
       "</style>\n",
       "<table border=\"1\" class=\"dataframe\">\n",
       "  <thead>\n",
       "    <tr style=\"text-align: right;\">\n",
       "      <th></th>\n",
       "      <th>ID</th>\n",
       "      <th>Year_Birth</th>\n",
       "      <th>Education</th>\n",
       "      <th>Marital_Status</th>\n",
       "      <th>Income</th>\n",
       "      <th>Kidhome</th>\n",
       "      <th>Teenhome</th>\n",
       "      <th>Dt_Customer</th>\n",
       "      <th>Recency</th>\n",
       "      <th>MntWines</th>\n",
       "      <th>...</th>\n",
       "      <th>NumWebVisitsMonth</th>\n",
       "      <th>AcceptedCmp3</th>\n",
       "      <th>AcceptedCmp4</th>\n",
       "      <th>AcceptedCmp5</th>\n",
       "      <th>AcceptedCmp1</th>\n",
       "      <th>AcceptedCmp2</th>\n",
       "      <th>Complain</th>\n",
       "      <th>Z_CostContact</th>\n",
       "      <th>Z_Revenue</th>\n",
       "      <th>Response</th>\n",
       "    </tr>\n",
       "  </thead>\n",
       "  <tbody>\n",
       "    <tr>\n",
       "      <th>0</th>\n",
       "      <td>5524</td>\n",
       "      <td>1957</td>\n",
       "      <td>Graduation</td>\n",
       "      <td>Single</td>\n",
       "      <td>58138.0</td>\n",
       "      <td>0</td>\n",
       "      <td>0</td>\n",
       "      <td>2012-09-04</td>\n",
       "      <td>58</td>\n",
       "      <td>635</td>\n",
       "      <td>...</td>\n",
       "      <td>7</td>\n",
       "      <td>0</td>\n",
       "      <td>0</td>\n",
       "      <td>0</td>\n",
       "      <td>0</td>\n",
       "      <td>0</td>\n",
       "      <td>0</td>\n",
       "      <td>3</td>\n",
       "      <td>11</td>\n",
       "      <td>1</td>\n",
       "    </tr>\n",
       "    <tr>\n",
       "      <th>1</th>\n",
       "      <td>2174</td>\n",
       "      <td>1954</td>\n",
       "      <td>Graduation</td>\n",
       "      <td>Single</td>\n",
       "      <td>46344.0</td>\n",
       "      <td>1</td>\n",
       "      <td>1</td>\n",
       "      <td>2014-03-08</td>\n",
       "      <td>38</td>\n",
       "      <td>11</td>\n",
       "      <td>...</td>\n",
       "      <td>5</td>\n",
       "      <td>0</td>\n",
       "      <td>0</td>\n",
       "      <td>0</td>\n",
       "      <td>0</td>\n",
       "      <td>0</td>\n",
       "      <td>0</td>\n",
       "      <td>3</td>\n",
       "      <td>11</td>\n",
       "      <td>0</td>\n",
       "    </tr>\n",
       "    <tr>\n",
       "      <th>2</th>\n",
       "      <td>4141</td>\n",
       "      <td>1965</td>\n",
       "      <td>Graduation</td>\n",
       "      <td>Together</td>\n",
       "      <td>71613.0</td>\n",
       "      <td>0</td>\n",
       "      <td>0</td>\n",
       "      <td>2013-08-21</td>\n",
       "      <td>26</td>\n",
       "      <td>426</td>\n",
       "      <td>...</td>\n",
       "      <td>4</td>\n",
       "      <td>0</td>\n",
       "      <td>0</td>\n",
       "      <td>0</td>\n",
       "      <td>0</td>\n",
       "      <td>0</td>\n",
       "      <td>0</td>\n",
       "      <td>3</td>\n",
       "      <td>11</td>\n",
       "      <td>0</td>\n",
       "    </tr>\n",
       "    <tr>\n",
       "      <th>3</th>\n",
       "      <td>6182</td>\n",
       "      <td>1984</td>\n",
       "      <td>Graduation</td>\n",
       "      <td>Together</td>\n",
       "      <td>26646.0</td>\n",
       "      <td>1</td>\n",
       "      <td>0</td>\n",
       "      <td>2014-02-10</td>\n",
       "      <td>26</td>\n",
       "      <td>11</td>\n",
       "      <td>...</td>\n",
       "      <td>6</td>\n",
       "      <td>0</td>\n",
       "      <td>0</td>\n",
       "      <td>0</td>\n",
       "      <td>0</td>\n",
       "      <td>0</td>\n",
       "      <td>0</td>\n",
       "      <td>3</td>\n",
       "      <td>11</td>\n",
       "      <td>0</td>\n",
       "    </tr>\n",
       "    <tr>\n",
       "      <th>4</th>\n",
       "      <td>5324</td>\n",
       "      <td>1981</td>\n",
       "      <td>PhD</td>\n",
       "      <td>Married</td>\n",
       "      <td>58293.0</td>\n",
       "      <td>1</td>\n",
       "      <td>0</td>\n",
       "      <td>2014-01-19</td>\n",
       "      <td>94</td>\n",
       "      <td>173</td>\n",
       "      <td>...</td>\n",
       "      <td>5</td>\n",
       "      <td>0</td>\n",
       "      <td>0</td>\n",
       "      <td>0</td>\n",
       "      <td>0</td>\n",
       "      <td>0</td>\n",
       "      <td>0</td>\n",
       "      <td>3</td>\n",
       "      <td>11</td>\n",
       "      <td>0</td>\n",
       "    </tr>\n",
       "    <tr>\n",
       "      <th>...</th>\n",
       "      <td>...</td>\n",
       "      <td>...</td>\n",
       "      <td>...</td>\n",
       "      <td>...</td>\n",
       "      <td>...</td>\n",
       "      <td>...</td>\n",
       "      <td>...</td>\n",
       "      <td>...</td>\n",
       "      <td>...</td>\n",
       "      <td>...</td>\n",
       "      <td>...</td>\n",
       "      <td>...</td>\n",
       "      <td>...</td>\n",
       "      <td>...</td>\n",
       "      <td>...</td>\n",
       "      <td>...</td>\n",
       "      <td>...</td>\n",
       "      <td>...</td>\n",
       "      <td>...</td>\n",
       "      <td>...</td>\n",
       "      <td>...</td>\n",
       "    </tr>\n",
       "    <tr>\n",
       "      <th>2235</th>\n",
       "      <td>10870</td>\n",
       "      <td>1967</td>\n",
       "      <td>Graduation</td>\n",
       "      <td>Married</td>\n",
       "      <td>61223.0</td>\n",
       "      <td>0</td>\n",
       "      <td>1</td>\n",
       "      <td>2013-06-13</td>\n",
       "      <td>46</td>\n",
       "      <td>709</td>\n",
       "      <td>...</td>\n",
       "      <td>5</td>\n",
       "      <td>0</td>\n",
       "      <td>0</td>\n",
       "      <td>0</td>\n",
       "      <td>0</td>\n",
       "      <td>0</td>\n",
       "      <td>0</td>\n",
       "      <td>3</td>\n",
       "      <td>11</td>\n",
       "      <td>0</td>\n",
       "    </tr>\n",
       "    <tr>\n",
       "      <th>2236</th>\n",
       "      <td>4001</td>\n",
       "      <td>1946</td>\n",
       "      <td>PhD</td>\n",
       "      <td>Together</td>\n",
       "      <td>64014.0</td>\n",
       "      <td>2</td>\n",
       "      <td>1</td>\n",
       "      <td>2014-06-10</td>\n",
       "      <td>56</td>\n",
       "      <td>406</td>\n",
       "      <td>...</td>\n",
       "      <td>7</td>\n",
       "      <td>0</td>\n",
       "      <td>0</td>\n",
       "      <td>0</td>\n",
       "      <td>1</td>\n",
       "      <td>0</td>\n",
       "      <td>0</td>\n",
       "      <td>3</td>\n",
       "      <td>11</td>\n",
       "      <td>0</td>\n",
       "    </tr>\n",
       "    <tr>\n",
       "      <th>2237</th>\n",
       "      <td>7270</td>\n",
       "      <td>1981</td>\n",
       "      <td>Graduation</td>\n",
       "      <td>Divorced</td>\n",
       "      <td>56981.0</td>\n",
       "      <td>0</td>\n",
       "      <td>0</td>\n",
       "      <td>2014-01-25</td>\n",
       "      <td>91</td>\n",
       "      <td>908</td>\n",
       "      <td>...</td>\n",
       "      <td>6</td>\n",
       "      <td>0</td>\n",
       "      <td>1</td>\n",
       "      <td>0</td>\n",
       "      <td>0</td>\n",
       "      <td>0</td>\n",
       "      <td>0</td>\n",
       "      <td>3</td>\n",
       "      <td>11</td>\n",
       "      <td>0</td>\n",
       "    </tr>\n",
       "    <tr>\n",
       "      <th>2238</th>\n",
       "      <td>8235</td>\n",
       "      <td>1956</td>\n",
       "      <td>Master</td>\n",
       "      <td>Together</td>\n",
       "      <td>69245.0</td>\n",
       "      <td>0</td>\n",
       "      <td>1</td>\n",
       "      <td>2014-01-24</td>\n",
       "      <td>8</td>\n",
       "      <td>428</td>\n",
       "      <td>...</td>\n",
       "      <td>3</td>\n",
       "      <td>0</td>\n",
       "      <td>0</td>\n",
       "      <td>0</td>\n",
       "      <td>0</td>\n",
       "      <td>0</td>\n",
       "      <td>0</td>\n",
       "      <td>3</td>\n",
       "      <td>11</td>\n",
       "      <td>0</td>\n",
       "    </tr>\n",
       "    <tr>\n",
       "      <th>2239</th>\n",
       "      <td>9405</td>\n",
       "      <td>1954</td>\n",
       "      <td>PhD</td>\n",
       "      <td>Married</td>\n",
       "      <td>52869.0</td>\n",
       "      <td>1</td>\n",
       "      <td>1</td>\n",
       "      <td>2012-10-15</td>\n",
       "      <td>40</td>\n",
       "      <td>84</td>\n",
       "      <td>...</td>\n",
       "      <td>7</td>\n",
       "      <td>0</td>\n",
       "      <td>0</td>\n",
       "      <td>0</td>\n",
       "      <td>0</td>\n",
       "      <td>0</td>\n",
       "      <td>0</td>\n",
       "      <td>3</td>\n",
       "      <td>11</td>\n",
       "      <td>1</td>\n",
       "    </tr>\n",
       "  </tbody>\n",
       "</table>\n",
       "<p>2240 rows × 29 columns</p>\n",
       "</div>"
      ],
      "text/plain": [
       "         ID  Year_Birth   Education Marital_Status   Income  Kidhome  \\\n",
       "0      5524        1957  Graduation         Single  58138.0        0   \n",
       "1      2174        1954  Graduation         Single  46344.0        1   \n",
       "2      4141        1965  Graduation       Together  71613.0        0   \n",
       "3      6182        1984  Graduation       Together  26646.0        1   \n",
       "4      5324        1981         PhD        Married  58293.0        1   \n",
       "...     ...         ...         ...            ...      ...      ...   \n",
       "2235  10870        1967  Graduation        Married  61223.0        0   \n",
       "2236   4001        1946         PhD       Together  64014.0        2   \n",
       "2237   7270        1981  Graduation       Divorced  56981.0        0   \n",
       "2238   8235        1956      Master       Together  69245.0        0   \n",
       "2239   9405        1954         PhD        Married  52869.0        1   \n",
       "\n",
       "      Teenhome Dt_Customer  Recency  MntWines  ...  NumWebVisitsMonth  \\\n",
       "0            0  2012-09-04       58       635  ...                  7   \n",
       "1            1  2014-03-08       38        11  ...                  5   \n",
       "2            0  2013-08-21       26       426  ...                  4   \n",
       "3            0  2014-02-10       26        11  ...                  6   \n",
       "4            0  2014-01-19       94       173  ...                  5   \n",
       "...        ...         ...      ...       ...  ...                ...   \n",
       "2235         1  2013-06-13       46       709  ...                  5   \n",
       "2236         1  2014-06-10       56       406  ...                  7   \n",
       "2237         0  2014-01-25       91       908  ...                  6   \n",
       "2238         1  2014-01-24        8       428  ...                  3   \n",
       "2239         1  2012-10-15       40        84  ...                  7   \n",
       "\n",
       "      AcceptedCmp3  AcceptedCmp4  AcceptedCmp5  AcceptedCmp1  AcceptedCmp2  \\\n",
       "0                0             0             0             0             0   \n",
       "1                0             0             0             0             0   \n",
       "2                0             0             0             0             0   \n",
       "3                0             0             0             0             0   \n",
       "4                0             0             0             0             0   \n",
       "...            ...           ...           ...           ...           ...   \n",
       "2235             0             0             0             0             0   \n",
       "2236             0             0             0             1             0   \n",
       "2237             0             1             0             0             0   \n",
       "2238             0             0             0             0             0   \n",
       "2239             0             0             0             0             0   \n",
       "\n",
       "      Complain  Z_CostContact  Z_Revenue  Response  \n",
       "0            0              3         11         1  \n",
       "1            0              3         11         0  \n",
       "2            0              3         11         0  \n",
       "3            0              3         11         0  \n",
       "4            0              3         11         0  \n",
       "...        ...            ...        ...       ...  \n",
       "2235         0              3         11         0  \n",
       "2236         0              3         11         0  \n",
       "2237         0              3         11         0  \n",
       "2238         0              3         11         0  \n",
       "2239         0              3         11         1  \n",
       "\n",
       "[2240 rows x 29 columns]"
      ]
     },
     "execution_count": 2,
     "metadata": {},
     "output_type": "execute_result"
    }
   ],
   "source": [
    "data=pd.read_csv('/kaggle/input/arketing-campaign/marketing_campaign.csv',sep=';')\n",
    "data"
   ]
  },
  {
   "cell_type": "code",
   "execution_count": 3,
   "id": "3d62e1b9",
   "metadata": {
    "execution": {
     "iopub.execute_input": "2023-01-25T05:22:59.849722Z",
     "iopub.status.busy": "2023-01-25T05:22:59.848697Z",
     "iopub.status.idle": "2023-01-25T05:22:59.851197Z",
     "shell.execute_reply": "2023-01-25T05:22:59.851818Z",
     "shell.execute_reply.started": "2022-01-31T12:36:49.261520Z"
    },
    "papermill": {
     "duration": 0.080682,
     "end_time": "2023-01-25T05:22:59.852000",
     "exception": false,
     "start_time": "2023-01-25T05:22:59.771318",
     "status": "completed"
    },
    "tags": []
   },
   "outputs": [],
   "source": [
    "data.Income=data.Income.fillna(0)"
   ]
  },
  {
   "cell_type": "code",
   "execution_count": 4,
   "id": "0f01651b",
   "metadata": {
    "execution": {
     "iopub.execute_input": "2023-01-25T05:23:00.000201Z",
     "iopub.status.busy": "2023-01-25T05:22:59.999200Z",
     "iopub.status.idle": "2023-01-25T05:23:00.008342Z",
     "shell.execute_reply": "2023-01-25T05:23:00.008919Z",
     "shell.execute_reply.started": "2022-01-31T12:36:49.271742Z"
    },
    "papermill": {
     "duration": 0.08461,
     "end_time": "2023-01-25T05:23:00.009106",
     "exception": false,
     "start_time": "2023-01-25T05:22:59.924496",
     "status": "completed"
    },
    "tags": []
   },
   "outputs": [
    {
     "data": {
      "text/plain": [
       "ID                     0\n",
       "Year_Birth             0\n",
       "Education              0\n",
       "Marital_Status         0\n",
       "Income                 0\n",
       "Kidhome                0\n",
       "Teenhome               0\n",
       "Dt_Customer            0\n",
       "Recency                0\n",
       "MntWines               0\n",
       "MntFruits              0\n",
       "MntMeatProducts        0\n",
       "MntFishProducts        0\n",
       "MntSweetProducts       0\n",
       "MntGoldProds           0\n",
       "NumDealsPurchases      0\n",
       "NumWebPurchases        0\n",
       "NumCatalogPurchases    0\n",
       "NumStorePurchases      0\n",
       "NumWebVisitsMonth      0\n",
       "AcceptedCmp3           0\n",
       "AcceptedCmp4           0\n",
       "AcceptedCmp5           0\n",
       "AcceptedCmp1           0\n",
       "AcceptedCmp2           0\n",
       "Complain               0\n",
       "Z_CostContact          0\n",
       "Z_Revenue              0\n",
       "Response               0\n",
       "dtype: int64"
      ]
     },
     "execution_count": 4,
     "metadata": {},
     "output_type": "execute_result"
    }
   ],
   "source": [
    "data.isnull().sum()"
   ]
  },
  {
   "cell_type": "code",
   "execution_count": 5,
   "id": "f19609cf",
   "metadata": {
    "execution": {
     "iopub.execute_input": "2023-01-25T05:23:00.156136Z",
     "iopub.status.busy": "2023-01-25T05:23:00.155082Z",
     "iopub.status.idle": "2023-01-25T05:23:00.171486Z",
     "shell.execute_reply": "2023-01-25T05:23:00.170840Z",
     "shell.execute_reply.started": "2022-01-31T12:36:49.289056Z"
    },
    "papermill": {
     "duration": 0.091288,
     "end_time": "2023-01-25T05:23:00.171655",
     "exception": false,
     "start_time": "2023-01-25T05:23:00.080367",
     "status": "completed"
    },
    "tags": []
   },
   "outputs": [],
   "source": [
    "data.Dt_Customer=pd.to_datetime(data.Dt_Customer,dayfirst=False)\n",
    "data[['year']]=pd.DataFrame(data.Dt_Customer.dt.year)\n",
    "data[['month']]=pd.DataFrame(data.Dt_Customer.dt.month)\n",
    "data[['day']]=pd.DataFrame(data.Dt_Customer.dt.day)"
   ]
  },
  {
   "cell_type": "code",
   "execution_count": 6,
   "id": "70867d4e",
   "metadata": {
    "execution": {
     "iopub.execute_input": "2023-01-25T05:23:00.318624Z",
     "iopub.status.busy": "2023-01-25T05:23:00.317874Z",
     "iopub.status.idle": "2023-01-25T05:23:00.347414Z",
     "shell.execute_reply": "2023-01-25T05:23:00.346867Z",
     "shell.execute_reply.started": "2022-01-31T12:36:49.305979Z"
    },
    "papermill": {
     "duration": 0.104296,
     "end_time": "2023-01-25T05:23:00.347590",
     "exception": false,
     "start_time": "2023-01-25T05:23:00.243294",
     "status": "completed"
    },
    "tags": []
   },
   "outputs": [
    {
     "data": {
      "text/html": [
       "<div>\n",
       "<style scoped>\n",
       "    .dataframe tbody tr th:only-of-type {\n",
       "        vertical-align: middle;\n",
       "    }\n",
       "\n",
       "    .dataframe tbody tr th {\n",
       "        vertical-align: top;\n",
       "    }\n",
       "\n",
       "    .dataframe thead th {\n",
       "        text-align: right;\n",
       "    }\n",
       "</style>\n",
       "<table border=\"1\" class=\"dataframe\">\n",
       "  <thead>\n",
       "    <tr style=\"text-align: right;\">\n",
       "      <th></th>\n",
       "      <th>Year_Birth</th>\n",
       "      <th>Education</th>\n",
       "      <th>Marital_Status</th>\n",
       "      <th>Income</th>\n",
       "      <th>Kidhome</th>\n",
       "      <th>Teenhome</th>\n",
       "      <th>Recency</th>\n",
       "      <th>MntWines</th>\n",
       "      <th>MntFruits</th>\n",
       "      <th>MntMeatProducts</th>\n",
       "      <th>...</th>\n",
       "      <th>AcceptedCmp4</th>\n",
       "      <th>AcceptedCmp5</th>\n",
       "      <th>AcceptedCmp1</th>\n",
       "      <th>AcceptedCmp2</th>\n",
       "      <th>Complain</th>\n",
       "      <th>Z_CostContact</th>\n",
       "      <th>Z_Revenue</th>\n",
       "      <th>year</th>\n",
       "      <th>month</th>\n",
       "      <th>day</th>\n",
       "    </tr>\n",
       "  </thead>\n",
       "  <tbody>\n",
       "    <tr>\n",
       "      <th>0</th>\n",
       "      <td>1957</td>\n",
       "      <td>Graduation</td>\n",
       "      <td>Single</td>\n",
       "      <td>58138.0</td>\n",
       "      <td>0</td>\n",
       "      <td>0</td>\n",
       "      <td>58</td>\n",
       "      <td>635</td>\n",
       "      <td>88</td>\n",
       "      <td>546</td>\n",
       "      <td>...</td>\n",
       "      <td>0</td>\n",
       "      <td>0</td>\n",
       "      <td>0</td>\n",
       "      <td>0</td>\n",
       "      <td>0</td>\n",
       "      <td>3</td>\n",
       "      <td>11</td>\n",
       "      <td>2012</td>\n",
       "      <td>9</td>\n",
       "      <td>4</td>\n",
       "    </tr>\n",
       "    <tr>\n",
       "      <th>1</th>\n",
       "      <td>1954</td>\n",
       "      <td>Graduation</td>\n",
       "      <td>Single</td>\n",
       "      <td>46344.0</td>\n",
       "      <td>1</td>\n",
       "      <td>1</td>\n",
       "      <td>38</td>\n",
       "      <td>11</td>\n",
       "      <td>1</td>\n",
       "      <td>6</td>\n",
       "      <td>...</td>\n",
       "      <td>0</td>\n",
       "      <td>0</td>\n",
       "      <td>0</td>\n",
       "      <td>0</td>\n",
       "      <td>0</td>\n",
       "      <td>3</td>\n",
       "      <td>11</td>\n",
       "      <td>2014</td>\n",
       "      <td>3</td>\n",
       "      <td>8</td>\n",
       "    </tr>\n",
       "    <tr>\n",
       "      <th>2</th>\n",
       "      <td>1965</td>\n",
       "      <td>Graduation</td>\n",
       "      <td>Together</td>\n",
       "      <td>71613.0</td>\n",
       "      <td>0</td>\n",
       "      <td>0</td>\n",
       "      <td>26</td>\n",
       "      <td>426</td>\n",
       "      <td>49</td>\n",
       "      <td>127</td>\n",
       "      <td>...</td>\n",
       "      <td>0</td>\n",
       "      <td>0</td>\n",
       "      <td>0</td>\n",
       "      <td>0</td>\n",
       "      <td>0</td>\n",
       "      <td>3</td>\n",
       "      <td>11</td>\n",
       "      <td>2013</td>\n",
       "      <td>8</td>\n",
       "      <td>21</td>\n",
       "    </tr>\n",
       "    <tr>\n",
       "      <th>3</th>\n",
       "      <td>1984</td>\n",
       "      <td>Graduation</td>\n",
       "      <td>Together</td>\n",
       "      <td>26646.0</td>\n",
       "      <td>1</td>\n",
       "      <td>0</td>\n",
       "      <td>26</td>\n",
       "      <td>11</td>\n",
       "      <td>4</td>\n",
       "      <td>20</td>\n",
       "      <td>...</td>\n",
       "      <td>0</td>\n",
       "      <td>0</td>\n",
       "      <td>0</td>\n",
       "      <td>0</td>\n",
       "      <td>0</td>\n",
       "      <td>3</td>\n",
       "      <td>11</td>\n",
       "      <td>2014</td>\n",
       "      <td>2</td>\n",
       "      <td>10</td>\n",
       "    </tr>\n",
       "    <tr>\n",
       "      <th>4</th>\n",
       "      <td>1981</td>\n",
       "      <td>PhD</td>\n",
       "      <td>Married</td>\n",
       "      <td>58293.0</td>\n",
       "      <td>1</td>\n",
       "      <td>0</td>\n",
       "      <td>94</td>\n",
       "      <td>173</td>\n",
       "      <td>43</td>\n",
       "      <td>118</td>\n",
       "      <td>...</td>\n",
       "      <td>0</td>\n",
       "      <td>0</td>\n",
       "      <td>0</td>\n",
       "      <td>0</td>\n",
       "      <td>0</td>\n",
       "      <td>3</td>\n",
       "      <td>11</td>\n",
       "      <td>2014</td>\n",
       "      <td>1</td>\n",
       "      <td>19</td>\n",
       "    </tr>\n",
       "    <tr>\n",
       "      <th>...</th>\n",
       "      <td>...</td>\n",
       "      <td>...</td>\n",
       "      <td>...</td>\n",
       "      <td>...</td>\n",
       "      <td>...</td>\n",
       "      <td>...</td>\n",
       "      <td>...</td>\n",
       "      <td>...</td>\n",
       "      <td>...</td>\n",
       "      <td>...</td>\n",
       "      <td>...</td>\n",
       "      <td>...</td>\n",
       "      <td>...</td>\n",
       "      <td>...</td>\n",
       "      <td>...</td>\n",
       "      <td>...</td>\n",
       "      <td>...</td>\n",
       "      <td>...</td>\n",
       "      <td>...</td>\n",
       "      <td>...</td>\n",
       "      <td>...</td>\n",
       "    </tr>\n",
       "    <tr>\n",
       "      <th>2235</th>\n",
       "      <td>1967</td>\n",
       "      <td>Graduation</td>\n",
       "      <td>Married</td>\n",
       "      <td>61223.0</td>\n",
       "      <td>0</td>\n",
       "      <td>1</td>\n",
       "      <td>46</td>\n",
       "      <td>709</td>\n",
       "      <td>43</td>\n",
       "      <td>182</td>\n",
       "      <td>...</td>\n",
       "      <td>0</td>\n",
       "      <td>0</td>\n",
       "      <td>0</td>\n",
       "      <td>0</td>\n",
       "      <td>0</td>\n",
       "      <td>3</td>\n",
       "      <td>11</td>\n",
       "      <td>2013</td>\n",
       "      <td>6</td>\n",
       "      <td>13</td>\n",
       "    </tr>\n",
       "    <tr>\n",
       "      <th>2236</th>\n",
       "      <td>1946</td>\n",
       "      <td>PhD</td>\n",
       "      <td>Together</td>\n",
       "      <td>64014.0</td>\n",
       "      <td>2</td>\n",
       "      <td>1</td>\n",
       "      <td>56</td>\n",
       "      <td>406</td>\n",
       "      <td>0</td>\n",
       "      <td>30</td>\n",
       "      <td>...</td>\n",
       "      <td>0</td>\n",
       "      <td>0</td>\n",
       "      <td>1</td>\n",
       "      <td>0</td>\n",
       "      <td>0</td>\n",
       "      <td>3</td>\n",
       "      <td>11</td>\n",
       "      <td>2014</td>\n",
       "      <td>6</td>\n",
       "      <td>10</td>\n",
       "    </tr>\n",
       "    <tr>\n",
       "      <th>2237</th>\n",
       "      <td>1981</td>\n",
       "      <td>Graduation</td>\n",
       "      <td>Divorced</td>\n",
       "      <td>56981.0</td>\n",
       "      <td>0</td>\n",
       "      <td>0</td>\n",
       "      <td>91</td>\n",
       "      <td>908</td>\n",
       "      <td>48</td>\n",
       "      <td>217</td>\n",
       "      <td>...</td>\n",
       "      <td>1</td>\n",
       "      <td>0</td>\n",
       "      <td>0</td>\n",
       "      <td>0</td>\n",
       "      <td>0</td>\n",
       "      <td>3</td>\n",
       "      <td>11</td>\n",
       "      <td>2014</td>\n",
       "      <td>1</td>\n",
       "      <td>25</td>\n",
       "    </tr>\n",
       "    <tr>\n",
       "      <th>2238</th>\n",
       "      <td>1956</td>\n",
       "      <td>Master</td>\n",
       "      <td>Together</td>\n",
       "      <td>69245.0</td>\n",
       "      <td>0</td>\n",
       "      <td>1</td>\n",
       "      <td>8</td>\n",
       "      <td>428</td>\n",
       "      <td>30</td>\n",
       "      <td>214</td>\n",
       "      <td>...</td>\n",
       "      <td>0</td>\n",
       "      <td>0</td>\n",
       "      <td>0</td>\n",
       "      <td>0</td>\n",
       "      <td>0</td>\n",
       "      <td>3</td>\n",
       "      <td>11</td>\n",
       "      <td>2014</td>\n",
       "      <td>1</td>\n",
       "      <td>24</td>\n",
       "    </tr>\n",
       "    <tr>\n",
       "      <th>2239</th>\n",
       "      <td>1954</td>\n",
       "      <td>PhD</td>\n",
       "      <td>Married</td>\n",
       "      <td>52869.0</td>\n",
       "      <td>1</td>\n",
       "      <td>1</td>\n",
       "      <td>40</td>\n",
       "      <td>84</td>\n",
       "      <td>3</td>\n",
       "      <td>61</td>\n",
       "      <td>...</td>\n",
       "      <td>0</td>\n",
       "      <td>0</td>\n",
       "      <td>0</td>\n",
       "      <td>0</td>\n",
       "      <td>0</td>\n",
       "      <td>3</td>\n",
       "      <td>11</td>\n",
       "      <td>2012</td>\n",
       "      <td>10</td>\n",
       "      <td>15</td>\n",
       "    </tr>\n",
       "  </tbody>\n",
       "</table>\n",
       "<p>2240 rows × 29 columns</p>\n",
       "</div>"
      ],
      "text/plain": [
       "      Year_Birth   Education Marital_Status   Income  Kidhome  Teenhome  \\\n",
       "0           1957  Graduation         Single  58138.0        0         0   \n",
       "1           1954  Graduation         Single  46344.0        1         1   \n",
       "2           1965  Graduation       Together  71613.0        0         0   \n",
       "3           1984  Graduation       Together  26646.0        1         0   \n",
       "4           1981         PhD        Married  58293.0        1         0   \n",
       "...          ...         ...            ...      ...      ...       ...   \n",
       "2235        1967  Graduation        Married  61223.0        0         1   \n",
       "2236        1946         PhD       Together  64014.0        2         1   \n",
       "2237        1981  Graduation       Divorced  56981.0        0         0   \n",
       "2238        1956      Master       Together  69245.0        0         1   \n",
       "2239        1954         PhD        Married  52869.0        1         1   \n",
       "\n",
       "      Recency  MntWines  MntFruits  MntMeatProducts  ...  AcceptedCmp4  \\\n",
       "0          58       635         88              546  ...             0   \n",
       "1          38        11          1                6  ...             0   \n",
       "2          26       426         49              127  ...             0   \n",
       "3          26        11          4               20  ...             0   \n",
       "4          94       173         43              118  ...             0   \n",
       "...       ...       ...        ...              ...  ...           ...   \n",
       "2235       46       709         43              182  ...             0   \n",
       "2236       56       406          0               30  ...             0   \n",
       "2237       91       908         48              217  ...             1   \n",
       "2238        8       428         30              214  ...             0   \n",
       "2239       40        84          3               61  ...             0   \n",
       "\n",
       "      AcceptedCmp5  AcceptedCmp1  AcceptedCmp2  Complain  Z_CostContact  \\\n",
       "0                0             0             0         0              3   \n",
       "1                0             0             0         0              3   \n",
       "2                0             0             0         0              3   \n",
       "3                0             0             0         0              3   \n",
       "4                0             0             0         0              3   \n",
       "...            ...           ...           ...       ...            ...   \n",
       "2235             0             0             0         0              3   \n",
       "2236             0             1             0         0              3   \n",
       "2237             0             0             0         0              3   \n",
       "2238             0             0             0         0              3   \n",
       "2239             0             0             0         0              3   \n",
       "\n",
       "      Z_Revenue  year  month  day  \n",
       "0            11  2012      9    4  \n",
       "1            11  2014      3    8  \n",
       "2            11  2013      8   21  \n",
       "3            11  2014      2   10  \n",
       "4            11  2014      1   19  \n",
       "...         ...   ...    ...  ...  \n",
       "2235         11  2013      6   13  \n",
       "2236         11  2014      6   10  \n",
       "2237         11  2014      1   25  \n",
       "2238         11  2014      1   24  \n",
       "2239         11  2012     10   15  \n",
       "\n",
       "[2240 rows x 29 columns]"
      ]
     },
     "execution_count": 6,
     "metadata": {},
     "output_type": "execute_result"
    }
   ],
   "source": [
    "x=data.drop(columns=['ID','Response','Dt_Customer'])\n",
    "x"
   ]
  },
  {
   "cell_type": "code",
   "execution_count": 7,
   "id": "57e0ff46",
   "metadata": {
    "execution": {
     "iopub.execute_input": "2023-01-25T05:23:00.500092Z",
     "iopub.status.busy": "2023-01-25T05:23:00.499271Z",
     "iopub.status.idle": "2023-01-25T05:23:00.505633Z",
     "shell.execute_reply": "2023-01-25T05:23:00.506224Z",
     "shell.execute_reply.started": "2022-01-31T12:36:49.339950Z"
    },
    "papermill": {
     "duration": 0.085151,
     "end_time": "2023-01-25T05:23:00.506417",
     "exception": false,
     "start_time": "2023-01-25T05:23:00.421266",
     "status": "completed"
    },
    "tags": []
   },
   "outputs": [
    {
     "data": {
      "text/plain": [
       "0    1\n",
       "1    0\n",
       "2    0\n",
       "3    0\n",
       "4    0\n",
       "Name: Response, dtype: int64"
      ]
     },
     "execution_count": 7,
     "metadata": {},
     "output_type": "execute_result"
    }
   ],
   "source": [
    "y=data.Response\n",
    "y.head()"
   ]
  },
  {
   "cell_type": "code",
   "execution_count": 8,
   "id": "a0602390",
   "metadata": {
    "execution": {
     "iopub.execute_input": "2023-01-25T05:23:00.655692Z",
     "iopub.status.busy": "2023-01-25T05:23:00.654944Z",
     "iopub.status.idle": "2023-01-25T05:23:01.718018Z",
     "shell.execute_reply": "2023-01-25T05:23:01.718578Z",
     "shell.execute_reply.started": "2022-01-31T12:36:49.347998Z"
    },
    "papermill": {
     "duration": 1.139209,
     "end_time": "2023-01-25T05:23:01.718781",
     "exception": false,
     "start_time": "2023-01-25T05:23:00.579572",
     "status": "completed"
    },
    "tags": []
   },
   "outputs": [],
   "source": [
    "from sklearn.model_selection import train_test_split\n",
    "x_train,x_test,y_train,y_test=train_test_split(x,y,test_size=0.35)"
   ]
  },
  {
   "cell_type": "code",
   "execution_count": null,
   "id": "27b4a39e",
   "metadata": {
    "papermill": {
     "duration": 0.072392,
     "end_time": "2023-01-25T05:23:01.863953",
     "exception": false,
     "start_time": "2023-01-25T05:23:01.791561",
     "status": "completed"
    },
    "tags": []
   },
   "outputs": [],
   "source": []
  },
  {
   "cell_type": "code",
   "execution_count": null,
   "id": "68a5e7d6",
   "metadata": {
    "papermill": {
     "duration": 0.074306,
     "end_time": "2023-01-25T05:23:02.011902",
     "exception": false,
     "start_time": "2023-01-25T05:23:01.937596",
     "status": "completed"
    },
    "tags": []
   },
   "outputs": [],
   "source": []
  },
  {
   "cell_type": "code",
   "execution_count": 9,
   "id": "ee197cd6",
   "metadata": {
    "execution": {
     "iopub.execute_input": "2023-01-25T05:23:02.182374Z",
     "iopub.status.busy": "2023-01-25T05:23:02.173701Z",
     "iopub.status.idle": "2023-01-25T05:23:02.186563Z",
     "shell.execute_reply": "2023-01-25T05:23:02.186007Z",
     "shell.execute_reply.started": "2022-01-31T12:36:50.365469Z"
    },
    "papermill": {
     "duration": 0.098133,
     "end_time": "2023-01-25T05:23:02.186737",
     "exception": false,
     "start_time": "2023-01-25T05:23:02.088604",
     "status": "completed"
    },
    "tags": []
   },
   "outputs": [
    {
     "data": {
      "text/html": [
       "<div>\n",
       "<style scoped>\n",
       "    .dataframe tbody tr th:only-of-type {\n",
       "        vertical-align: middle;\n",
       "    }\n",
       "\n",
       "    .dataframe tbody tr th {\n",
       "        vertical-align: top;\n",
       "    }\n",
       "\n",
       "    .dataframe thead th {\n",
       "        text-align: right;\n",
       "    }\n",
       "</style>\n",
       "<table border=\"1\" class=\"dataframe\">\n",
       "  <thead>\n",
       "    <tr style=\"text-align: right;\">\n",
       "      <th></th>\n",
       "      <th>Year_Birth</th>\n",
       "      <th>Education</th>\n",
       "      <th>Marital_Status</th>\n",
       "      <th>Income</th>\n",
       "      <th>Kidhome</th>\n",
       "      <th>Teenhome</th>\n",
       "      <th>Recency</th>\n",
       "      <th>MntWines</th>\n",
       "      <th>MntFruits</th>\n",
       "      <th>MntMeatProducts</th>\n",
       "      <th>...</th>\n",
       "      <th>AcceptedCmp4</th>\n",
       "      <th>AcceptedCmp5</th>\n",
       "      <th>AcceptedCmp1</th>\n",
       "      <th>AcceptedCmp2</th>\n",
       "      <th>Complain</th>\n",
       "      <th>Z_CostContact</th>\n",
       "      <th>Z_Revenue</th>\n",
       "      <th>year</th>\n",
       "      <th>month</th>\n",
       "      <th>day</th>\n",
       "    </tr>\n",
       "  </thead>\n",
       "  <tbody>\n",
       "    <tr>\n",
       "      <th>0</th>\n",
       "      <td>1957</td>\n",
       "      <td>Graduation</td>\n",
       "      <td>Single</td>\n",
       "      <td>58138.0</td>\n",
       "      <td>0</td>\n",
       "      <td>0</td>\n",
       "      <td>58</td>\n",
       "      <td>635</td>\n",
       "      <td>88</td>\n",
       "      <td>546</td>\n",
       "      <td>...</td>\n",
       "      <td>0</td>\n",
       "      <td>0</td>\n",
       "      <td>0</td>\n",
       "      <td>0</td>\n",
       "      <td>0</td>\n",
       "      <td>3</td>\n",
       "      <td>11</td>\n",
       "      <td>2012</td>\n",
       "      <td>9</td>\n",
       "      <td>4</td>\n",
       "    </tr>\n",
       "    <tr>\n",
       "      <th>1</th>\n",
       "      <td>1954</td>\n",
       "      <td>Graduation</td>\n",
       "      <td>Single</td>\n",
       "      <td>46344.0</td>\n",
       "      <td>1</td>\n",
       "      <td>1</td>\n",
       "      <td>38</td>\n",
       "      <td>11</td>\n",
       "      <td>1</td>\n",
       "      <td>6</td>\n",
       "      <td>...</td>\n",
       "      <td>0</td>\n",
       "      <td>0</td>\n",
       "      <td>0</td>\n",
       "      <td>0</td>\n",
       "      <td>0</td>\n",
       "      <td>3</td>\n",
       "      <td>11</td>\n",
       "      <td>2014</td>\n",
       "      <td>3</td>\n",
       "      <td>8</td>\n",
       "    </tr>\n",
       "    <tr>\n",
       "      <th>2</th>\n",
       "      <td>1965</td>\n",
       "      <td>Graduation</td>\n",
       "      <td>Together</td>\n",
       "      <td>71613.0</td>\n",
       "      <td>0</td>\n",
       "      <td>0</td>\n",
       "      <td>26</td>\n",
       "      <td>426</td>\n",
       "      <td>49</td>\n",
       "      <td>127</td>\n",
       "      <td>...</td>\n",
       "      <td>0</td>\n",
       "      <td>0</td>\n",
       "      <td>0</td>\n",
       "      <td>0</td>\n",
       "      <td>0</td>\n",
       "      <td>3</td>\n",
       "      <td>11</td>\n",
       "      <td>2013</td>\n",
       "      <td>8</td>\n",
       "      <td>21</td>\n",
       "    </tr>\n",
       "    <tr>\n",
       "      <th>3</th>\n",
       "      <td>1984</td>\n",
       "      <td>Graduation</td>\n",
       "      <td>Together</td>\n",
       "      <td>26646.0</td>\n",
       "      <td>1</td>\n",
       "      <td>0</td>\n",
       "      <td>26</td>\n",
       "      <td>11</td>\n",
       "      <td>4</td>\n",
       "      <td>20</td>\n",
       "      <td>...</td>\n",
       "      <td>0</td>\n",
       "      <td>0</td>\n",
       "      <td>0</td>\n",
       "      <td>0</td>\n",
       "      <td>0</td>\n",
       "      <td>3</td>\n",
       "      <td>11</td>\n",
       "      <td>2014</td>\n",
       "      <td>2</td>\n",
       "      <td>10</td>\n",
       "    </tr>\n",
       "    <tr>\n",
       "      <th>4</th>\n",
       "      <td>1981</td>\n",
       "      <td>PhD</td>\n",
       "      <td>Married</td>\n",
       "      <td>58293.0</td>\n",
       "      <td>1</td>\n",
       "      <td>0</td>\n",
       "      <td>94</td>\n",
       "      <td>173</td>\n",
       "      <td>43</td>\n",
       "      <td>118</td>\n",
       "      <td>...</td>\n",
       "      <td>0</td>\n",
       "      <td>0</td>\n",
       "      <td>0</td>\n",
       "      <td>0</td>\n",
       "      <td>0</td>\n",
       "      <td>3</td>\n",
       "      <td>11</td>\n",
       "      <td>2014</td>\n",
       "      <td>1</td>\n",
       "      <td>19</td>\n",
       "    </tr>\n",
       "  </tbody>\n",
       "</table>\n",
       "<p>5 rows × 29 columns</p>\n",
       "</div>"
      ],
      "text/plain": [
       "   Year_Birth   Education Marital_Status   Income  Kidhome  Teenhome  Recency  \\\n",
       "0        1957  Graduation         Single  58138.0        0         0       58   \n",
       "1        1954  Graduation         Single  46344.0        1         1       38   \n",
       "2        1965  Graduation       Together  71613.0        0         0       26   \n",
       "3        1984  Graduation       Together  26646.0        1         0       26   \n",
       "4        1981         PhD        Married  58293.0        1         0       94   \n",
       "\n",
       "   MntWines  MntFruits  MntMeatProducts  ...  AcceptedCmp4  AcceptedCmp5  \\\n",
       "0       635         88              546  ...             0             0   \n",
       "1        11          1                6  ...             0             0   \n",
       "2       426         49              127  ...             0             0   \n",
       "3        11          4               20  ...             0             0   \n",
       "4       173         43              118  ...             0             0   \n",
       "\n",
       "   AcceptedCmp1  AcceptedCmp2  Complain  Z_CostContact  Z_Revenue  year  \\\n",
       "0             0             0         0              3         11  2012   \n",
       "1             0             0         0              3         11  2014   \n",
       "2             0             0         0              3         11  2013   \n",
       "3             0             0         0              3         11  2014   \n",
       "4             0             0         0              3         11  2014   \n",
       "\n",
       "   month  day  \n",
       "0      9    4  \n",
       "1      3    8  \n",
       "2      8   21  \n",
       "3      2   10  \n",
       "4      1   19  \n",
       "\n",
       "[5 rows x 29 columns]"
      ]
     },
     "execution_count": 9,
     "metadata": {},
     "output_type": "execute_result"
    }
   ],
   "source": [
    "x.head(5)"
   ]
  },
  {
   "cell_type": "code",
   "execution_count": 10,
   "id": "bb6f6178",
   "metadata": {
    "execution": {
     "iopub.execute_input": "2023-01-25T05:23:02.341888Z",
     "iopub.status.busy": "2023-01-25T05:23:02.341180Z",
     "iopub.status.idle": "2023-01-25T05:23:02.347661Z",
     "shell.execute_reply": "2023-01-25T05:23:02.348319Z",
     "shell.execute_reply.started": "2022-01-31T12:36:50.386858Z"
    },
    "papermill": {
     "duration": 0.085777,
     "end_time": "2023-01-25T05:23:02.348596",
     "exception": false,
     "start_time": "2023-01-25T05:23:02.262819",
     "status": "completed"
    },
    "tags": []
   },
   "outputs": [
    {
     "data": {
      "text/plain": [
       "Year_Birth               int64\n",
       "Education               object\n",
       "Marital_Status          object\n",
       "Income                 float64\n",
       "Kidhome                  int64\n",
       "Teenhome                 int64\n",
       "Recency                  int64\n",
       "MntWines                 int64\n",
       "MntFruits                int64\n",
       "MntMeatProducts          int64\n",
       "MntFishProducts          int64\n",
       "MntSweetProducts         int64\n",
       "MntGoldProds             int64\n",
       "NumDealsPurchases        int64\n",
       "NumWebPurchases          int64\n",
       "NumCatalogPurchases      int64\n",
       "NumStorePurchases        int64\n",
       "NumWebVisitsMonth        int64\n",
       "AcceptedCmp3             int64\n",
       "AcceptedCmp4             int64\n",
       "AcceptedCmp5             int64\n",
       "AcceptedCmp1             int64\n",
       "AcceptedCmp2             int64\n",
       "Complain                 int64\n",
       "Z_CostContact            int64\n",
       "Z_Revenue                int64\n",
       "year                     int64\n",
       "month                    int64\n",
       "day                      int64\n",
       "dtype: object"
      ]
     },
     "execution_count": 10,
     "metadata": {},
     "output_type": "execute_result"
    }
   ],
   "source": [
    "x.dtypes"
   ]
  },
  {
   "cell_type": "code",
   "execution_count": 11,
   "id": "beedbb1d",
   "metadata": {
    "execution": {
     "iopub.execute_input": "2023-01-25T05:23:02.501111Z",
     "iopub.status.busy": "2023-01-25T05:23:02.500353Z",
     "iopub.status.idle": "2023-01-25T05:23:02.514674Z",
     "shell.execute_reply": "2023-01-25T05:23:02.515152Z",
     "shell.execute_reply.started": "2022-01-31T12:36:50.401333Z"
    },
    "papermill": {
     "duration": 0.091403,
     "end_time": "2023-01-25T05:23:02.515341",
     "exception": false,
     "start_time": "2023-01-25T05:23:02.423938",
     "status": "completed"
    },
    "tags": []
   },
   "outputs": [
    {
     "data": {
      "text/html": [
       "<div>\n",
       "<style scoped>\n",
       "    .dataframe tbody tr th:only-of-type {\n",
       "        vertical-align: middle;\n",
       "    }\n",
       "\n",
       "    .dataframe tbody tr th {\n",
       "        vertical-align: top;\n",
       "    }\n",
       "\n",
       "    .dataframe thead th {\n",
       "        text-align: right;\n",
       "    }\n",
       "</style>\n",
       "<table border=\"1\" class=\"dataframe\">\n",
       "  <thead>\n",
       "    <tr style=\"text-align: right;\">\n",
       "      <th></th>\n",
       "      <th>MntFishProducts</th>\n",
       "      <th>MntSweetProducts</th>\n",
       "      <th>MntGoldProds</th>\n",
       "      <th>NumDealsPurchases</th>\n",
       "      <th>NumWebPurchases</th>\n",
       "      <th>NumCatalogPurchases</th>\n",
       "      <th>NumStorePurchases</th>\n",
       "      <th>NumWebVisitsMonth</th>\n",
       "      <th>AcceptedCmp3</th>\n",
       "    </tr>\n",
       "  </thead>\n",
       "  <tbody>\n",
       "    <tr>\n",
       "      <th>0</th>\n",
       "      <td>172</td>\n",
       "      <td>88</td>\n",
       "      <td>88</td>\n",
       "      <td>3</td>\n",
       "      <td>8</td>\n",
       "      <td>10</td>\n",
       "      <td>4</td>\n",
       "      <td>7</td>\n",
       "      <td>0</td>\n",
       "    </tr>\n",
       "    <tr>\n",
       "      <th>1</th>\n",
       "      <td>2</td>\n",
       "      <td>1</td>\n",
       "      <td>6</td>\n",
       "      <td>2</td>\n",
       "      <td>1</td>\n",
       "      <td>1</td>\n",
       "      <td>2</td>\n",
       "      <td>5</td>\n",
       "      <td>0</td>\n",
       "    </tr>\n",
       "    <tr>\n",
       "      <th>2</th>\n",
       "      <td>111</td>\n",
       "      <td>21</td>\n",
       "      <td>42</td>\n",
       "      <td>1</td>\n",
       "      <td>8</td>\n",
       "      <td>2</td>\n",
       "      <td>10</td>\n",
       "      <td>4</td>\n",
       "      <td>0</td>\n",
       "    </tr>\n",
       "    <tr>\n",
       "      <th>3</th>\n",
       "      <td>10</td>\n",
       "      <td>3</td>\n",
       "      <td>5</td>\n",
       "      <td>2</td>\n",
       "      <td>2</td>\n",
       "      <td>0</td>\n",
       "      <td>4</td>\n",
       "      <td>6</td>\n",
       "      <td>0</td>\n",
       "    </tr>\n",
       "    <tr>\n",
       "      <th>4</th>\n",
       "      <td>46</td>\n",
       "      <td>27</td>\n",
       "      <td>15</td>\n",
       "      <td>5</td>\n",
       "      <td>5</td>\n",
       "      <td>3</td>\n",
       "      <td>6</td>\n",
       "      <td>5</td>\n",
       "      <td>0</td>\n",
       "    </tr>\n",
       "    <tr>\n",
       "      <th>...</th>\n",
       "      <td>...</td>\n",
       "      <td>...</td>\n",
       "      <td>...</td>\n",
       "      <td>...</td>\n",
       "      <td>...</td>\n",
       "      <td>...</td>\n",
       "      <td>...</td>\n",
       "      <td>...</td>\n",
       "      <td>...</td>\n",
       "    </tr>\n",
       "    <tr>\n",
       "      <th>2235</th>\n",
       "      <td>42</td>\n",
       "      <td>118</td>\n",
       "      <td>247</td>\n",
       "      <td>2</td>\n",
       "      <td>9</td>\n",
       "      <td>3</td>\n",
       "      <td>4</td>\n",
       "      <td>5</td>\n",
       "      <td>0</td>\n",
       "    </tr>\n",
       "    <tr>\n",
       "      <th>2236</th>\n",
       "      <td>0</td>\n",
       "      <td>0</td>\n",
       "      <td>8</td>\n",
       "      <td>7</td>\n",
       "      <td>8</td>\n",
       "      <td>2</td>\n",
       "      <td>5</td>\n",
       "      <td>7</td>\n",
       "      <td>0</td>\n",
       "    </tr>\n",
       "    <tr>\n",
       "      <th>2237</th>\n",
       "      <td>32</td>\n",
       "      <td>12</td>\n",
       "      <td>24</td>\n",
       "      <td>1</td>\n",
       "      <td>2</td>\n",
       "      <td>3</td>\n",
       "      <td>13</td>\n",
       "      <td>6</td>\n",
       "      <td>0</td>\n",
       "    </tr>\n",
       "    <tr>\n",
       "      <th>2238</th>\n",
       "      <td>80</td>\n",
       "      <td>30</td>\n",
       "      <td>61</td>\n",
       "      <td>2</td>\n",
       "      <td>6</td>\n",
       "      <td>5</td>\n",
       "      <td>10</td>\n",
       "      <td>3</td>\n",
       "      <td>0</td>\n",
       "    </tr>\n",
       "    <tr>\n",
       "      <th>2239</th>\n",
       "      <td>2</td>\n",
       "      <td>1</td>\n",
       "      <td>21</td>\n",
       "      <td>3</td>\n",
       "      <td>3</td>\n",
       "      <td>1</td>\n",
       "      <td>4</td>\n",
       "      <td>7</td>\n",
       "      <td>0</td>\n",
       "    </tr>\n",
       "  </tbody>\n",
       "</table>\n",
       "<p>2240 rows × 9 columns</p>\n",
       "</div>"
      ],
      "text/plain": [
       "      MntFishProducts  MntSweetProducts  MntGoldProds  NumDealsPurchases  \\\n",
       "0                 172                88            88                  3   \n",
       "1                   2                 1             6                  2   \n",
       "2                 111                21            42                  1   \n",
       "3                  10                 3             5                  2   \n",
       "4                  46                27            15                  5   \n",
       "...               ...               ...           ...                ...   \n",
       "2235               42               118           247                  2   \n",
       "2236                0                 0             8                  7   \n",
       "2237               32                12            24                  1   \n",
       "2238               80                30            61                  2   \n",
       "2239                2                 1            21                  3   \n",
       "\n",
       "      NumWebPurchases  NumCatalogPurchases  NumStorePurchases  \\\n",
       "0                   8                   10                  4   \n",
       "1                   1                    1                  2   \n",
       "2                   8                    2                 10   \n",
       "3                   2                    0                  4   \n",
       "4                   5                    3                  6   \n",
       "...               ...                  ...                ...   \n",
       "2235                9                    3                  4   \n",
       "2236                8                    2                  5   \n",
       "2237                2                    3                 13   \n",
       "2238                6                    5                 10   \n",
       "2239                3                    1                  4   \n",
       "\n",
       "      NumWebVisitsMonth  AcceptedCmp3  \n",
       "0                     7             0  \n",
       "1                     5             0  \n",
       "2                     4             0  \n",
       "3                     6             0  \n",
       "4                     5             0  \n",
       "...                 ...           ...  \n",
       "2235                  5             0  \n",
       "2236                  7             0  \n",
       "2237                  6             0  \n",
       "2238                  3             0  \n",
       "2239                  7             0  \n",
       "\n",
       "[2240 rows x 9 columns]"
      ]
     },
     "execution_count": 11,
     "metadata": {},
     "output_type": "execute_result"
    }
   ],
   "source": [
    "x[['MntFishProducts','MntSweetProducts','MntGoldProds','NumDealsPurchases','NumWebPurchases','NumCatalogPurchases','NumStorePurchases','NumWebVisitsMonth','AcceptedCmp3']]"
   ]
  },
  {
   "cell_type": "code",
   "execution_count": 12,
   "id": "4f8ecc44",
   "metadata": {
    "execution": {
     "iopub.execute_input": "2023-01-25T05:23:02.666971Z",
     "iopub.status.busy": "2023-01-25T05:23:02.666298Z",
     "iopub.status.idle": "2023-01-25T05:23:02.669338Z",
     "shell.execute_reply": "2023-01-25T05:23:02.669891Z",
     "shell.execute_reply.started": "2022-01-31T12:36:50.423085Z"
    },
    "papermill": {
     "duration": 0.080952,
     "end_time": "2023-01-25T05:23:02.670072",
     "exception": false,
     "start_time": "2023-01-25T05:23:02.589120",
     "status": "completed"
    },
    "tags": []
   },
   "outputs": [],
   "source": [
    "nom_cols=[2]\n",
    "ord_cols=[1]"
   ]
  },
  {
   "cell_type": "code",
   "execution_count": 13,
   "id": "2cc9a7b8",
   "metadata": {
    "execution": {
     "iopub.execute_input": "2023-01-25T05:23:02.822436Z",
     "iopub.status.busy": "2023-01-25T05:23:02.821735Z",
     "iopub.status.idle": "2023-01-25T05:23:02.844976Z",
     "shell.execute_reply": "2023-01-25T05:23:02.845455Z",
     "shell.execute_reply.started": "2022-01-31T12:36:50.428228Z"
    },
    "papermill": {
     "duration": 0.10132,
     "end_time": "2023-01-25T05:23:02.845661",
     "exception": false,
     "start_time": "2023-01-25T05:23:02.744341",
     "status": "completed"
    },
    "tags": []
   },
   "outputs": [
    {
     "data": {
      "text/html": [
       "<style>div.sk-top-container {color: black;background-color: white;}div.sk-toggleable {background-color: white;}label.sk-toggleable__label {cursor: pointer;display: block;width: 100%;margin-bottom: 0;padding: 0.2em 0.3em;box-sizing: border-box;text-align: center;}div.sk-toggleable__content {max-height: 0;max-width: 0;overflow: hidden;text-align: left;background-color: #f0f8ff;}div.sk-toggleable__content pre {margin: 0.2em;color: black;border-radius: 0.25em;background-color: #f0f8ff;}input.sk-toggleable__control:checked~div.sk-toggleable__content {max-height: 200px;max-width: 100%;overflow: auto;}div.sk-estimator input.sk-toggleable__control:checked~label.sk-toggleable__label {background-color: #d4ebff;}div.sk-label input.sk-toggleable__control:checked~label.sk-toggleable__label {background-color: #d4ebff;}input.sk-hidden--visually {border: 0;clip: rect(1px 1px 1px 1px);clip: rect(1px, 1px, 1px, 1px);height: 1px;margin: -1px;overflow: hidden;padding: 0;position: absolute;width: 1px;}div.sk-estimator {font-family: monospace;background-color: #f0f8ff;margin: 0.25em 0.25em;border: 1px dotted black;border-radius: 0.25em;box-sizing: border-box;}div.sk-estimator:hover {background-color: #d4ebff;}div.sk-parallel-item::after {content: \"\";width: 100%;border-bottom: 1px solid gray;flex-grow: 1;}div.sk-label:hover label.sk-toggleable__label {background-color: #d4ebff;}div.sk-serial::before {content: \"\";position: absolute;border-left: 1px solid gray;box-sizing: border-box;top: 2em;bottom: 0;left: 50%;}div.sk-serial {display: flex;flex-direction: column;align-items: center;background-color: white;}div.sk-item {z-index: 1;}div.sk-parallel {display: flex;align-items: stretch;justify-content: center;background-color: white;}div.sk-parallel-item {display: flex;flex-direction: column;position: relative;background-color: white;}div.sk-parallel-item:first-child::after {align-self: flex-end;width: 50%;}div.sk-parallel-item:last-child::after {align-self: flex-start;width: 50%;}div.sk-parallel-item:only-child::after {width: 0;}div.sk-dashed-wrapped {border: 1px dashed gray;margin: 0.2em;box-sizing: border-box;padding-bottom: 0.1em;background-color: white;position: relative;}div.sk-label label {font-family: monospace;font-weight: bold;background-color: white;display: inline-block;line-height: 1.2em;}div.sk-label-container {position: relative;z-index: 2;text-align: center;}div.sk-container {display: inline-block;position: relative;}</style><div class=\"sk-top-container\"><div class=\"sk-container\"><div class=\"sk-item sk-dashed-wrapped\"><div class=\"sk-label-container\"><div class=\"sk-label sk-toggleable\"><input class=\"sk-toggleable__control sk-hidden--visually\" id=\"160dbf13-c301-48e4-8fc1-9677651cfe5d\" type=\"checkbox\" ><label class=\"sk-toggleable__label\" for=\"160dbf13-c301-48e4-8fc1-9677651cfe5d\">ColumnTransformer</label><div class=\"sk-toggleable__content\"><pre>ColumnTransformer(remainder='passthrough',\n",
       "                  transformers=[('onehotencoder', OneHotEncoder(sparse=False),\n",
       "                                 [2]),\n",
       "                                ('ordinalencoder', OrdinalEncoder(), [1])])</pre></div></div></div><div class=\"sk-parallel\"><div class=\"sk-parallel-item\"><div class=\"sk-item\"><div class=\"sk-label-container\"><div class=\"sk-label sk-toggleable\"><input class=\"sk-toggleable__control sk-hidden--visually\" id=\"55f19329-bb2b-499a-9dd3-3d81ecef376e\" type=\"checkbox\" ><label class=\"sk-toggleable__label\" for=\"55f19329-bb2b-499a-9dd3-3d81ecef376e\">onehotencoder</label><div class=\"sk-toggleable__content\"><pre>[2]</pre></div></div></div><div class=\"sk-serial\"><div class=\"sk-item\"><div class=\"sk-estimator sk-toggleable\"><input class=\"sk-toggleable__control sk-hidden--visually\" id=\"a6e7cc23-289e-4486-8f80-f1d56035655e\" type=\"checkbox\" ><label class=\"sk-toggleable__label\" for=\"a6e7cc23-289e-4486-8f80-f1d56035655e\">OneHotEncoder</label><div class=\"sk-toggleable__content\"><pre>OneHotEncoder(sparse=False)</pre></div></div></div></div></div></div><div class=\"sk-parallel-item\"><div class=\"sk-item\"><div class=\"sk-label-container\"><div class=\"sk-label sk-toggleable\"><input class=\"sk-toggleable__control sk-hidden--visually\" id=\"27f94ed9-8ae6-4cf5-82f6-a7cb9bd629e3\" type=\"checkbox\" ><label class=\"sk-toggleable__label\" for=\"27f94ed9-8ae6-4cf5-82f6-a7cb9bd629e3\">ordinalencoder</label><div class=\"sk-toggleable__content\"><pre>[1]</pre></div></div></div><div class=\"sk-serial\"><div class=\"sk-item\"><div class=\"sk-estimator sk-toggleable\"><input class=\"sk-toggleable__control sk-hidden--visually\" id=\"07bbfa57-1003-40b8-a7f2-583cd37e11e2\" type=\"checkbox\" ><label class=\"sk-toggleable__label\" for=\"07bbfa57-1003-40b8-a7f2-583cd37e11e2\">OrdinalEncoder</label><div class=\"sk-toggleable__content\"><pre>OrdinalEncoder()</pre></div></div></div></div></div></div></div></div></div></div>"
      ],
      "text/plain": [
       "ColumnTransformer(remainder='passthrough',\n",
       "                  transformers=[('onehotencoder', OneHotEncoder(sparse=False),\n",
       "                                 [2]),\n",
       "                                ('ordinalencoder', OrdinalEncoder(), [1])])"
      ]
     },
     "execution_count": 13,
     "metadata": {},
     "output_type": "execute_result"
    }
   ],
   "source": [
    "from sklearn.preprocessing import OneHotEncoder,OrdinalEncoder\n",
    "from sklearn.compose import make_column_transformer\n",
    "from sklearn import set_config\n",
    "trans=make_column_transformer((OneHotEncoder(sparse=False),nom_cols),(OrdinalEncoder(),ord_cols),remainder='passthrough')\n",
    "set_config(display='diagram')\n",
    "trans"
   ]
  },
  {
   "cell_type": "code",
   "execution_count": 14,
   "id": "0df69eaf",
   "metadata": {
    "execution": {
     "iopub.execute_input": "2023-01-25T05:23:02.999911Z",
     "iopub.status.busy": "2023-01-25T05:23:02.999094Z",
     "iopub.status.idle": "2023-01-25T05:23:03.149594Z",
     "shell.execute_reply": "2023-01-25T05:23:03.150164Z",
     "shell.execute_reply.started": "2022-01-31T12:36:50.458910Z"
    },
    "papermill": {
     "duration": 0.229108,
     "end_time": "2023-01-25T05:23:03.150347",
     "exception": false,
     "start_time": "2023-01-25T05:23:02.921239",
     "status": "completed"
    },
    "tags": []
   },
   "outputs": [
    {
     "data": {
      "text/html": [
       "<style>div.sk-top-container {color: black;background-color: white;}div.sk-toggleable {background-color: white;}label.sk-toggleable__label {cursor: pointer;display: block;width: 100%;margin-bottom: 0;padding: 0.2em 0.3em;box-sizing: border-box;text-align: center;}div.sk-toggleable__content {max-height: 0;max-width: 0;overflow: hidden;text-align: left;background-color: #f0f8ff;}div.sk-toggleable__content pre {margin: 0.2em;color: black;border-radius: 0.25em;background-color: #f0f8ff;}input.sk-toggleable__control:checked~div.sk-toggleable__content {max-height: 200px;max-width: 100%;overflow: auto;}div.sk-estimator input.sk-toggleable__control:checked~label.sk-toggleable__label {background-color: #d4ebff;}div.sk-label input.sk-toggleable__control:checked~label.sk-toggleable__label {background-color: #d4ebff;}input.sk-hidden--visually {border: 0;clip: rect(1px 1px 1px 1px);clip: rect(1px, 1px, 1px, 1px);height: 1px;margin: -1px;overflow: hidden;padding: 0;position: absolute;width: 1px;}div.sk-estimator {font-family: monospace;background-color: #f0f8ff;margin: 0.25em 0.25em;border: 1px dotted black;border-radius: 0.25em;box-sizing: border-box;}div.sk-estimator:hover {background-color: #d4ebff;}div.sk-parallel-item::after {content: \"\";width: 100%;border-bottom: 1px solid gray;flex-grow: 1;}div.sk-label:hover label.sk-toggleable__label {background-color: #d4ebff;}div.sk-serial::before {content: \"\";position: absolute;border-left: 1px solid gray;box-sizing: border-box;top: 2em;bottom: 0;left: 50%;}div.sk-serial {display: flex;flex-direction: column;align-items: center;background-color: white;}div.sk-item {z-index: 1;}div.sk-parallel {display: flex;align-items: stretch;justify-content: center;background-color: white;}div.sk-parallel-item {display: flex;flex-direction: column;position: relative;background-color: white;}div.sk-parallel-item:first-child::after {align-self: flex-end;width: 50%;}div.sk-parallel-item:last-child::after {align-self: flex-start;width: 50%;}div.sk-parallel-item:only-child::after {width: 0;}div.sk-dashed-wrapped {border: 1px dashed gray;margin: 0.2em;box-sizing: border-box;padding-bottom: 0.1em;background-color: white;position: relative;}div.sk-label label {font-family: monospace;font-weight: bold;background-color: white;display: inline-block;line-height: 1.2em;}div.sk-label-container {position: relative;z-index: 2;text-align: center;}div.sk-container {display: inline-block;position: relative;}</style><div class=\"sk-top-container\"><div class=\"sk-container\"><div class=\"sk-item\"><div class=\"sk-estimator sk-toggleable\"><input class=\"sk-toggleable__control sk-hidden--visually\" id=\"7689342d-149f-4508-a594-9adde187bf67\" type=\"checkbox\" checked><label class=\"sk-toggleable__label\" for=\"7689342d-149f-4508-a594-9adde187bf67\">KNeighborsClassifier</label><div class=\"sk-toggleable__content\"><pre>KNeighborsClassifier(n_neighbors=300)</pre></div></div></div></div></div>"
      ],
      "text/plain": [
       "KNeighborsClassifier(n_neighbors=300)"
      ]
     },
     "execution_count": 14,
     "metadata": {},
     "output_type": "execute_result"
    }
   ],
   "source": [
    "from sklearn.neighbors import KNeighborsClassifier\n",
    "algo=KNeighborsClassifier(n_neighbors=300)\n",
    "algo"
   ]
  },
  {
   "cell_type": "code",
   "execution_count": 15,
   "id": "f7acada4",
   "metadata": {
    "execution": {
     "iopub.execute_input": "2023-01-25T05:23:03.305121Z",
     "iopub.status.busy": "2023-01-25T05:23:03.304126Z",
     "iopub.status.idle": "2023-01-25T05:23:03.336828Z",
     "shell.execute_reply": "2023-01-25T05:23:03.337383Z",
     "shell.execute_reply.started": "2022-01-31T12:36:50.605832Z"
    },
    "papermill": {
     "duration": 0.111101,
     "end_time": "2023-01-25T05:23:03.337599",
     "exception": false,
     "start_time": "2023-01-25T05:23:03.226498",
     "status": "completed"
    },
    "tags": []
   },
   "outputs": [
    {
     "data": {
      "text/html": [
       "<style>div.sk-top-container {color: black;background-color: white;}div.sk-toggleable {background-color: white;}label.sk-toggleable__label {cursor: pointer;display: block;width: 100%;margin-bottom: 0;padding: 0.2em 0.3em;box-sizing: border-box;text-align: center;}div.sk-toggleable__content {max-height: 0;max-width: 0;overflow: hidden;text-align: left;background-color: #f0f8ff;}div.sk-toggleable__content pre {margin: 0.2em;color: black;border-radius: 0.25em;background-color: #f0f8ff;}input.sk-toggleable__control:checked~div.sk-toggleable__content {max-height: 200px;max-width: 100%;overflow: auto;}div.sk-estimator input.sk-toggleable__control:checked~label.sk-toggleable__label {background-color: #d4ebff;}div.sk-label input.sk-toggleable__control:checked~label.sk-toggleable__label {background-color: #d4ebff;}input.sk-hidden--visually {border: 0;clip: rect(1px 1px 1px 1px);clip: rect(1px, 1px, 1px, 1px);height: 1px;margin: -1px;overflow: hidden;padding: 0;position: absolute;width: 1px;}div.sk-estimator {font-family: monospace;background-color: #f0f8ff;margin: 0.25em 0.25em;border: 1px dotted black;border-radius: 0.25em;box-sizing: border-box;}div.sk-estimator:hover {background-color: #d4ebff;}div.sk-parallel-item::after {content: \"\";width: 100%;border-bottom: 1px solid gray;flex-grow: 1;}div.sk-label:hover label.sk-toggleable__label {background-color: #d4ebff;}div.sk-serial::before {content: \"\";position: absolute;border-left: 1px solid gray;box-sizing: border-box;top: 2em;bottom: 0;left: 50%;}div.sk-serial {display: flex;flex-direction: column;align-items: center;background-color: white;}div.sk-item {z-index: 1;}div.sk-parallel {display: flex;align-items: stretch;justify-content: center;background-color: white;}div.sk-parallel-item {display: flex;flex-direction: column;position: relative;background-color: white;}div.sk-parallel-item:first-child::after {align-self: flex-end;width: 50%;}div.sk-parallel-item:last-child::after {align-self: flex-start;width: 50%;}div.sk-parallel-item:only-child::after {width: 0;}div.sk-dashed-wrapped {border: 1px dashed gray;margin: 0.2em;box-sizing: border-box;padding-bottom: 0.1em;background-color: white;position: relative;}div.sk-label label {font-family: monospace;font-weight: bold;background-color: white;display: inline-block;line-height: 1.2em;}div.sk-label-container {position: relative;z-index: 2;text-align: center;}div.sk-container {display: inline-block;position: relative;}</style><div class=\"sk-top-container\"><div class=\"sk-container\"><div class=\"sk-item sk-dashed-wrapped\"><div class=\"sk-label-container\"><div class=\"sk-label sk-toggleable\"><input class=\"sk-toggleable__control sk-hidden--visually\" id=\"7e811e2d-405f-4ce2-8e54-774ad7e71dcb\" type=\"checkbox\" ><label class=\"sk-toggleable__label\" for=\"7e811e2d-405f-4ce2-8e54-774ad7e71dcb\">Pipeline</label><div class=\"sk-toggleable__content\"><pre>Pipeline(steps=[('columntransformer',\n",
       "                 ColumnTransformer(remainder='passthrough',\n",
       "                                   transformers=[('onehotencoder',\n",
       "                                                  OneHotEncoder(sparse=False),\n",
       "                                                  [2]),\n",
       "                                                 ('ordinalencoder',\n",
       "                                                  OrdinalEncoder(), [1])])),\n",
       "                ('kneighborsclassifier',\n",
       "                 KNeighborsClassifier(n_neighbors=300))])</pre></div></div></div><div class=\"sk-serial\"><div class=\"sk-item sk-dashed-wrapped\"><div class=\"sk-label-container\"><div class=\"sk-label sk-toggleable\"><input class=\"sk-toggleable__control sk-hidden--visually\" id=\"c0d959e6-39c1-4412-899d-e1bcf0ee6de8\" type=\"checkbox\" ><label class=\"sk-toggleable__label\" for=\"c0d959e6-39c1-4412-899d-e1bcf0ee6de8\">columntransformer: ColumnTransformer</label><div class=\"sk-toggleable__content\"><pre>ColumnTransformer(remainder='passthrough',\n",
       "                  transformers=[('onehotencoder', OneHotEncoder(sparse=False),\n",
       "                                 [2]),\n",
       "                                ('ordinalencoder', OrdinalEncoder(), [1])])</pre></div></div></div><div class=\"sk-parallel\"><div class=\"sk-parallel-item\"><div class=\"sk-item\"><div class=\"sk-label-container\"><div class=\"sk-label sk-toggleable\"><input class=\"sk-toggleable__control sk-hidden--visually\" id=\"96a9728b-d4dd-41f6-b332-3cbe0a8d3502\" type=\"checkbox\" ><label class=\"sk-toggleable__label\" for=\"96a9728b-d4dd-41f6-b332-3cbe0a8d3502\">onehotencoder</label><div class=\"sk-toggleable__content\"><pre>[2]</pre></div></div></div><div class=\"sk-serial\"><div class=\"sk-item\"><div class=\"sk-estimator sk-toggleable\"><input class=\"sk-toggleable__control sk-hidden--visually\" id=\"f1012e0b-82ee-4302-b65a-c711dbb3edb9\" type=\"checkbox\" ><label class=\"sk-toggleable__label\" for=\"f1012e0b-82ee-4302-b65a-c711dbb3edb9\">OneHotEncoder</label><div class=\"sk-toggleable__content\"><pre>OneHotEncoder(sparse=False)</pre></div></div></div></div></div></div><div class=\"sk-parallel-item\"><div class=\"sk-item\"><div class=\"sk-label-container\"><div class=\"sk-label sk-toggleable\"><input class=\"sk-toggleable__control sk-hidden--visually\" id=\"dac45419-c08c-4e01-96b8-1d6e96377ff2\" type=\"checkbox\" ><label class=\"sk-toggleable__label\" for=\"dac45419-c08c-4e01-96b8-1d6e96377ff2\">ordinalencoder</label><div class=\"sk-toggleable__content\"><pre>[1]</pre></div></div></div><div class=\"sk-serial\"><div class=\"sk-item\"><div class=\"sk-estimator sk-toggleable\"><input class=\"sk-toggleable__control sk-hidden--visually\" id=\"9fec1cc7-aac1-46d3-890a-c33087ed7357\" type=\"checkbox\" ><label class=\"sk-toggleable__label\" for=\"9fec1cc7-aac1-46d3-890a-c33087ed7357\">OrdinalEncoder</label><div class=\"sk-toggleable__content\"><pre>OrdinalEncoder()</pre></div></div></div></div></div></div></div></div><div class=\"sk-item\"><div class=\"sk-estimator sk-toggleable\"><input class=\"sk-toggleable__control sk-hidden--visually\" id=\"f05da87e-6526-47ff-8253-21e5384a1614\" type=\"checkbox\" ><label class=\"sk-toggleable__label\" for=\"f05da87e-6526-47ff-8253-21e5384a1614\">KNeighborsClassifier</label><div class=\"sk-toggleable__content\"><pre>KNeighborsClassifier(n_neighbors=300)</pre></div></div></div></div></div></div></div>"
      ],
      "text/plain": [
       "Pipeline(steps=[('columntransformer',\n",
       "                 ColumnTransformer(remainder='passthrough',\n",
       "                                   transformers=[('onehotencoder',\n",
       "                                                  OneHotEncoder(sparse=False),\n",
       "                                                  [2]),\n",
       "                                                 ('ordinalencoder',\n",
       "                                                  OrdinalEncoder(), [1])])),\n",
       "                ('kneighborsclassifier',\n",
       "                 KNeighborsClassifier(n_neighbors=300))])"
      ]
     },
     "execution_count": 15,
     "metadata": {},
     "output_type": "execute_result"
    }
   ],
   "source": [
    "from sklearn.pipeline import make_pipeline\n",
    "pipe=make_pipeline(trans,algo)\n",
    "pipe"
   ]
  },
  {
   "cell_type": "code",
   "execution_count": 16,
   "id": "750933f0",
   "metadata": {
    "execution": {
     "iopub.execute_input": "2023-01-25T05:23:03.496888Z",
     "iopub.status.busy": "2023-01-25T05:23:03.496161Z",
     "iopub.status.idle": "2023-01-25T05:23:03.537003Z",
     "shell.execute_reply": "2023-01-25T05:23:03.537552Z",
     "shell.execute_reply.started": "2022-01-31T12:36:50.642236Z"
    },
    "papermill": {
     "duration": 0.123445,
     "end_time": "2023-01-25T05:23:03.537735",
     "exception": false,
     "start_time": "2023-01-25T05:23:03.414290",
     "status": "completed"
    },
    "tags": []
   },
   "outputs": [
    {
     "data": {
      "text/html": [
       "<style>div.sk-top-container {color: black;background-color: white;}div.sk-toggleable {background-color: white;}label.sk-toggleable__label {cursor: pointer;display: block;width: 100%;margin-bottom: 0;padding: 0.2em 0.3em;box-sizing: border-box;text-align: center;}div.sk-toggleable__content {max-height: 0;max-width: 0;overflow: hidden;text-align: left;background-color: #f0f8ff;}div.sk-toggleable__content pre {margin: 0.2em;color: black;border-radius: 0.25em;background-color: #f0f8ff;}input.sk-toggleable__control:checked~div.sk-toggleable__content {max-height: 200px;max-width: 100%;overflow: auto;}div.sk-estimator input.sk-toggleable__control:checked~label.sk-toggleable__label {background-color: #d4ebff;}div.sk-label input.sk-toggleable__control:checked~label.sk-toggleable__label {background-color: #d4ebff;}input.sk-hidden--visually {border: 0;clip: rect(1px 1px 1px 1px);clip: rect(1px, 1px, 1px, 1px);height: 1px;margin: -1px;overflow: hidden;padding: 0;position: absolute;width: 1px;}div.sk-estimator {font-family: monospace;background-color: #f0f8ff;margin: 0.25em 0.25em;border: 1px dotted black;border-radius: 0.25em;box-sizing: border-box;}div.sk-estimator:hover {background-color: #d4ebff;}div.sk-parallel-item::after {content: \"\";width: 100%;border-bottom: 1px solid gray;flex-grow: 1;}div.sk-label:hover label.sk-toggleable__label {background-color: #d4ebff;}div.sk-serial::before {content: \"\";position: absolute;border-left: 1px solid gray;box-sizing: border-box;top: 2em;bottom: 0;left: 50%;}div.sk-serial {display: flex;flex-direction: column;align-items: center;background-color: white;}div.sk-item {z-index: 1;}div.sk-parallel {display: flex;align-items: stretch;justify-content: center;background-color: white;}div.sk-parallel-item {display: flex;flex-direction: column;position: relative;background-color: white;}div.sk-parallel-item:first-child::after {align-self: flex-end;width: 50%;}div.sk-parallel-item:last-child::after {align-self: flex-start;width: 50%;}div.sk-parallel-item:only-child::after {width: 0;}div.sk-dashed-wrapped {border: 1px dashed gray;margin: 0.2em;box-sizing: border-box;padding-bottom: 0.1em;background-color: white;position: relative;}div.sk-label label {font-family: monospace;font-weight: bold;background-color: white;display: inline-block;line-height: 1.2em;}div.sk-label-container {position: relative;z-index: 2;text-align: center;}div.sk-container {display: inline-block;position: relative;}</style><div class=\"sk-top-container\"><div class=\"sk-container\"><div class=\"sk-item sk-dashed-wrapped\"><div class=\"sk-label-container\"><div class=\"sk-label sk-toggleable\"><input class=\"sk-toggleable__control sk-hidden--visually\" id=\"3c404290-7f12-4925-9140-0129747632a6\" type=\"checkbox\" ><label class=\"sk-toggleable__label\" for=\"3c404290-7f12-4925-9140-0129747632a6\">Pipeline</label><div class=\"sk-toggleable__content\"><pre>Pipeline(steps=[('columntransformer',\n",
       "                 ColumnTransformer(remainder='passthrough',\n",
       "                                   transformers=[('onehotencoder',\n",
       "                                                  OneHotEncoder(sparse=False),\n",
       "                                                  [2]),\n",
       "                                                 ('ordinalencoder',\n",
       "                                                  OrdinalEncoder(), [1])])),\n",
       "                ('kneighborsclassifier',\n",
       "                 KNeighborsClassifier(n_neighbors=300))])</pre></div></div></div><div class=\"sk-serial\"><div class=\"sk-item sk-dashed-wrapped\"><div class=\"sk-label-container\"><div class=\"sk-label sk-toggleable\"><input class=\"sk-toggleable__control sk-hidden--visually\" id=\"9296713f-1844-49f8-a589-b82c3f3c5f1a\" type=\"checkbox\" ><label class=\"sk-toggleable__label\" for=\"9296713f-1844-49f8-a589-b82c3f3c5f1a\">columntransformer: ColumnTransformer</label><div class=\"sk-toggleable__content\"><pre>ColumnTransformer(remainder='passthrough',\n",
       "                  transformers=[('onehotencoder', OneHotEncoder(sparse=False),\n",
       "                                 [2]),\n",
       "                                ('ordinalencoder', OrdinalEncoder(), [1])])</pre></div></div></div><div class=\"sk-parallel\"><div class=\"sk-parallel-item\"><div class=\"sk-item\"><div class=\"sk-label-container\"><div class=\"sk-label sk-toggleable\"><input class=\"sk-toggleable__control sk-hidden--visually\" id=\"63b10af5-17f1-4649-bd40-f9570790d3a5\" type=\"checkbox\" ><label class=\"sk-toggleable__label\" for=\"63b10af5-17f1-4649-bd40-f9570790d3a5\">onehotencoder</label><div class=\"sk-toggleable__content\"><pre>[2]</pre></div></div></div><div class=\"sk-serial\"><div class=\"sk-item\"><div class=\"sk-estimator sk-toggleable\"><input class=\"sk-toggleable__control sk-hidden--visually\" id=\"5ffe50e1-c117-4615-879a-59e0d9504481\" type=\"checkbox\" ><label class=\"sk-toggleable__label\" for=\"5ffe50e1-c117-4615-879a-59e0d9504481\">OneHotEncoder</label><div class=\"sk-toggleable__content\"><pre>OneHotEncoder(sparse=False)</pre></div></div></div></div></div></div><div class=\"sk-parallel-item\"><div class=\"sk-item\"><div class=\"sk-label-container\"><div class=\"sk-label sk-toggleable\"><input class=\"sk-toggleable__control sk-hidden--visually\" id=\"53905588-2329-496d-a346-244ed95cf1cf\" type=\"checkbox\" ><label class=\"sk-toggleable__label\" for=\"53905588-2329-496d-a346-244ed95cf1cf\">ordinalencoder</label><div class=\"sk-toggleable__content\"><pre>[1]</pre></div></div></div><div class=\"sk-serial\"><div class=\"sk-item\"><div class=\"sk-estimator sk-toggleable\"><input class=\"sk-toggleable__control sk-hidden--visually\" id=\"2fef9d01-1b0d-4f11-a95b-0d1ba6f6da12\" type=\"checkbox\" ><label class=\"sk-toggleable__label\" for=\"2fef9d01-1b0d-4f11-a95b-0d1ba6f6da12\">OrdinalEncoder</label><div class=\"sk-toggleable__content\"><pre>OrdinalEncoder()</pre></div></div></div></div></div></div></div></div><div class=\"sk-item\"><div class=\"sk-estimator sk-toggleable\"><input class=\"sk-toggleable__control sk-hidden--visually\" id=\"f973d604-c452-4a52-b42d-23ab15043a69\" type=\"checkbox\" ><label class=\"sk-toggleable__label\" for=\"f973d604-c452-4a52-b42d-23ab15043a69\">KNeighborsClassifier</label><div class=\"sk-toggleable__content\"><pre>KNeighborsClassifier(n_neighbors=300)</pre></div></div></div></div></div></div></div>"
      ],
      "text/plain": [
       "Pipeline(steps=[('columntransformer',\n",
       "                 ColumnTransformer(remainder='passthrough',\n",
       "                                   transformers=[('onehotencoder',\n",
       "                                                  OneHotEncoder(sparse=False),\n",
       "                                                  [2]),\n",
       "                                                 ('ordinalencoder',\n",
       "                                                  OrdinalEncoder(), [1])])),\n",
       "                ('kneighborsclassifier',\n",
       "                 KNeighborsClassifier(n_neighbors=300))])"
      ]
     },
     "execution_count": 16,
     "metadata": {},
     "output_type": "execute_result"
    }
   ],
   "source": [
    "pipe.fit(x_train,y_train)"
   ]
  },
  {
   "cell_type": "code",
   "execution_count": 17,
   "id": "43a68b4f",
   "metadata": {
    "execution": {
     "iopub.execute_input": "2023-01-25T05:23:03.692251Z",
     "iopub.status.busy": "2023-01-25T05:23:03.691574Z",
     "iopub.status.idle": "2023-01-25T05:23:03.788799Z",
     "shell.execute_reply": "2023-01-25T05:23:03.789316Z",
     "shell.execute_reply.started": "2022-01-31T12:36:50.689550Z"
    },
    "papermill": {
     "duration": 0.176005,
     "end_time": "2023-01-25T05:23:03.789505",
     "exception": false,
     "start_time": "2023-01-25T05:23:03.613500",
     "status": "completed"
    },
    "tags": []
   },
   "outputs": [
    {
     "data": {
      "text/plain": [
       "array([0, 0, 0, 0, 0, 0, 0, 0, 0, 0, 0, 0, 0, 0, 0, 0, 0, 0, 0, 0, 0, 0,\n",
       "       0, 0, 0, 0, 0, 0, 0, 0, 0, 0, 0, 0, 0, 0, 0, 0, 0, 0, 0, 0, 0, 0,\n",
       "       0, 0, 0, 0, 0, 0, 0, 0, 0, 0, 0, 0, 0, 0, 0, 0, 0, 0, 0, 0, 0, 0,\n",
       "       0, 0, 0, 0, 0, 0, 0, 0, 0, 0, 0, 0, 0, 0, 0, 0, 0, 0, 0, 0, 0, 0,\n",
       "       0, 0, 0, 0, 0, 0, 0, 0, 0, 0, 0, 0, 0, 0, 0, 0, 0, 0, 0, 0, 0, 0,\n",
       "       0, 0, 0, 0, 0, 0, 0, 0, 0, 0, 0, 0, 0, 0, 0, 0, 0, 0, 0, 0, 0, 0,\n",
       "       0, 0, 0, 0, 0, 0, 0, 0, 0, 0, 0, 0, 0, 0, 0, 0, 0, 0, 0, 0, 0, 0,\n",
       "       0, 0, 0, 0, 0, 0, 0, 0, 0, 0, 0, 0, 0, 0, 0, 0, 0, 0, 0, 0, 0, 0,\n",
       "       0, 0, 0, 0, 0, 0, 0, 0, 0, 0, 0, 0, 0, 0, 0, 0, 0, 0, 0, 0, 0, 0,\n",
       "       0, 0, 0, 0, 0, 0, 0, 0, 0, 0, 0, 0, 0, 0, 0, 0, 0, 0, 0, 0, 0, 0,\n",
       "       0, 0, 0, 0, 0, 0, 0, 0, 0, 0, 0, 0, 0, 0, 0, 0, 0, 0, 0, 0, 0, 0,\n",
       "       0, 0, 0, 0, 0, 0, 0, 0, 0, 0, 0, 0, 0, 0, 0, 0, 0, 0, 0, 0, 0, 0,\n",
       "       0, 0, 0, 0, 0, 0, 0, 0, 0, 0, 0, 0, 0, 0, 0, 0, 0, 0, 0, 0, 0, 0,\n",
       "       0, 0, 0, 0, 0, 0, 0, 0, 0, 0, 0, 0, 0, 0, 0, 0, 0, 0, 0, 0, 0, 0,\n",
       "       0, 0, 0, 0, 0, 0, 0, 0, 0, 0, 0, 0, 0, 0, 0, 0, 0, 0, 0, 0, 0, 0,\n",
       "       0, 0, 0, 0, 0, 0, 0, 0, 0, 0, 0, 0, 0, 0, 0, 0, 0, 0, 0, 0, 0, 0,\n",
       "       0, 0, 0, 0, 0, 0, 0, 0, 0, 0, 0, 0, 0, 0, 0, 0, 0, 0, 0, 0, 0, 0,\n",
       "       0, 0, 0, 0, 0, 0, 0, 0, 0, 0, 0, 0, 0, 0, 0, 0, 0, 0, 0, 0, 0, 0,\n",
       "       0, 0, 0, 0, 0, 0, 0, 0, 0, 0, 0, 0, 0, 0, 0, 0, 0, 0, 0, 0, 0, 0,\n",
       "       0, 0, 0, 0, 0, 0, 0, 0, 0, 0, 0, 0, 0, 0, 0, 0, 0, 0, 0, 0, 0, 0,\n",
       "       0, 0, 0, 0, 0, 0, 0, 0, 0, 0, 0, 0, 0, 0, 0, 0, 0, 0, 0, 0, 0, 0,\n",
       "       0, 0, 0, 0, 0, 0, 0, 0, 0, 0, 0, 0, 0, 0, 0, 0, 0, 0, 0, 0, 0, 0,\n",
       "       0, 0, 0, 0, 0, 0, 0, 0, 0, 0, 0, 0, 0, 0, 0, 0, 0, 0, 0, 0, 0, 0,\n",
       "       0, 0, 0, 0, 0, 0, 0, 0, 0, 0, 0, 0, 0, 0, 0, 0, 0, 0, 0, 0, 0, 0,\n",
       "       0, 0, 0, 0, 0, 0, 0, 0, 0, 0, 0, 0, 0, 0, 0, 0, 0, 0, 0, 0, 0, 0,\n",
       "       0, 0, 0, 0, 0, 0, 0, 0, 0, 0, 0, 0, 0, 0, 0, 0, 0, 0, 0, 0, 0, 0,\n",
       "       0, 0, 0, 0, 0, 0, 0, 0, 0, 0, 0, 0, 0, 0, 0, 0, 0, 0, 0, 0, 0, 0,\n",
       "       0, 0, 0, 0, 0, 0, 0, 0, 0, 0, 0, 0, 0, 0, 0, 0, 0, 0, 0, 0, 0, 0,\n",
       "       0, 0, 0, 0, 0, 0, 0, 0, 0, 0, 0, 0, 0, 0, 0, 0, 0, 0, 0, 0, 0, 0,\n",
       "       0, 0, 0, 0, 0, 0, 0, 0, 0, 0, 0, 0, 0, 0, 0, 0, 0, 0, 0, 0, 0, 0,\n",
       "       0, 0, 0, 0, 0, 0, 0, 0, 0, 0, 0, 0, 0, 0, 0, 0, 0, 0, 0, 0, 0, 0,\n",
       "       0, 0, 0, 0, 0, 0, 0, 0, 0, 0, 0, 0, 0, 0, 0, 0, 0, 0, 0, 0, 0, 0,\n",
       "       0, 0, 0, 0, 0, 0, 0, 0, 0, 0, 0, 0, 0, 0, 0, 0, 0, 0, 0, 0, 0, 0,\n",
       "       0, 0, 0, 0, 0, 0, 0, 0, 0, 0, 0, 0, 0, 0, 0, 0, 0, 0, 0, 0, 0, 0,\n",
       "       0, 0, 0, 0, 0, 0, 0, 0, 0, 0, 0, 0, 0, 0, 0, 0, 0, 0, 0, 0, 0, 0,\n",
       "       0, 0, 0, 0, 0, 0, 0, 0, 0, 0, 0, 0, 0, 0])"
      ]
     },
     "execution_count": 17,
     "metadata": {},
     "output_type": "execute_result"
    }
   ],
   "source": [
    "pred=pipe.predict(x_test)\n",
    "pred"
   ]
  },
  {
   "cell_type": "code",
   "execution_count": 18,
   "id": "5ec0b917",
   "metadata": {
    "execution": {
     "iopub.execute_input": "2023-01-25T05:23:03.951190Z",
     "iopub.status.busy": "2023-01-25T05:23:03.949913Z",
     "iopub.status.idle": "2023-01-25T05:23:03.954352Z",
     "shell.execute_reply": "2023-01-25T05:23:03.954851Z",
     "shell.execute_reply.started": "2022-01-31T12:36:50.795469Z"
    },
    "papermill": {
     "duration": 0.08722,
     "end_time": "2023-01-25T05:23:03.955037",
     "exception": false,
     "start_time": "2023-01-25T05:23:03.867817",
     "status": "completed"
    },
    "tags": []
   },
   "outputs": [
    {
     "data": {
      "text/plain": [
       "85.96938775510205"
      ]
     },
     "execution_count": 18,
     "metadata": {},
     "output_type": "execute_result"
    }
   ],
   "source": [
    "from sklearn.metrics import accuracy_score\n",
    "accuracy_score(pred,y_test)*100"
   ]
  },
  {
   "cell_type": "code",
   "execution_count": 19,
   "id": "143ca371",
   "metadata": {
    "execution": {
     "iopub.execute_input": "2023-01-25T05:23:04.113155Z",
     "iopub.status.busy": "2023-01-25T05:23:04.112481Z",
     "iopub.status.idle": "2023-01-25T05:23:04.640365Z",
     "shell.execute_reply": "2023-01-25T05:23:04.640861Z",
     "shell.execute_reply.started": "2022-01-31T12:36:50.804176Z"
    },
    "papermill": {
     "duration": 0.608151,
     "end_time": "2023-01-25T05:23:04.641049",
     "exception": false,
     "start_time": "2023-01-25T05:23:04.032898",
     "status": "completed"
    },
    "tags": []
   },
   "outputs": [
    {
     "name": "stderr",
     "output_type": "stream",
     "text": [
      "/opt/conda/lib/python3.7/site-packages/seaborn/distributions.py:2619: FutureWarning: `distplot` is a deprecated function and will be removed in a future version. Please adapt your code to use either `displot` (a figure-level function with similar flexibility) or `histplot` (an axes-level function for histograms).\n",
      "  warnings.warn(msg, FutureWarning)\n"
     ]
    },
    {
     "data": {
      "text/plain": [
       "<AxesSubplot:xlabel='Response', ylabel='Density'>"
      ]
     },
     "execution_count": 19,
     "metadata": {},
     "output_type": "execute_result"
    },
    {
     "data": {
      "image/png": "[encoded data removed]",
      "text/plain": [
       "<Figure size 432x288 with 1 Axes>"
      ]
     },
     "metadata": {
      "needs_background": "light"
     },
     "output_type": "display_data"
    }
   ],
   "source": [
    "import seaborn as sns\n",
    "sns.distplot(data.Response)"
   ]
  },
  {
   "cell_type": "code",
   "execution_count": 20,
   "id": "e1ab3107",
   "metadata": {
    "execution": {
     "iopub.execute_input": "2023-01-25T05:23:04.803153Z",
     "iopub.status.busy": "2023-01-25T05:23:04.802135Z",
     "iopub.status.idle": "2023-01-25T05:23:05.014867Z",
     "shell.execute_reply": "2023-01-25T05:23:05.014280Z",
     "shell.execute_reply.started": "2022-01-31T12:36:51.330575Z"
    },
    "papermill": {
     "duration": 0.296259,
     "end_time": "2023-01-25T05:23:05.015018",
     "exception": false,
     "start_time": "2023-01-25T05:23:04.718759",
     "status": "completed"
    },
    "tags": []
   },
   "outputs": [
    {
     "data": {
      "text/plain": [
       "1    1906\n",
       "0    1906\n",
       "Name: Response, dtype: int64"
      ]
     },
     "execution_count": 20,
     "metadata": {},
     "output_type": "execute_result"
    }
   ],
   "source": [
    "from imblearn.over_sampling import RandomOverSampler\n",
    "over=RandomOverSampler()\n",
    "o_x,o_y=over.fit_resample(x,y)\n",
    "o_y.value_counts()"
   ]
  },
  {
   "cell_type": "code",
   "execution_count": 21,
   "id": "52202f18",
   "metadata": {
    "execution": {
     "iopub.execute_input": "2023-01-25T05:23:05.209844Z",
     "iopub.status.busy": "2023-01-25T05:23:05.208880Z",
     "iopub.status.idle": "2023-01-25T05:23:05.213463Z",
     "shell.execute_reply": "2023-01-25T05:23:05.212949Z",
     "shell.execute_reply.started": "2022-01-31T12:36:51.540525Z"
    },
    "papermill": {
     "duration": 0.118852,
     "end_time": "2023-01-25T05:23:05.213657",
     "exception": false,
     "start_time": "2023-01-25T05:23:05.094805",
     "status": "completed"
    },
    "tags": []
   },
   "outputs": [
    {
     "data": {
      "text/html": [
       "<style>div.sk-top-container {color: black;background-color: white;}div.sk-toggleable {background-color: white;}label.sk-toggleable__label {cursor: pointer;display: block;width: 100%;margin-bottom: 0;padding: 0.2em 0.3em;box-sizing: border-box;text-align: center;}div.sk-toggleable__content {max-height: 0;max-width: 0;overflow: hidden;text-align: left;background-color: #f0f8ff;}div.sk-toggleable__content pre {margin: 0.2em;color: black;border-radius: 0.25em;background-color: #f0f8ff;}input.sk-toggleable__control:checked~div.sk-toggleable__content {max-height: 200px;max-width: 100%;overflow: auto;}div.sk-estimator input.sk-toggleable__control:checked~label.sk-toggleable__label {background-color: #d4ebff;}div.sk-label input.sk-toggleable__control:checked~label.sk-toggleable__label {background-color: #d4ebff;}input.sk-hidden--visually {border: 0;clip: rect(1px 1px 1px 1px);clip: rect(1px, 1px, 1px, 1px);height: 1px;margin: -1px;overflow: hidden;padding: 0;position: absolute;width: 1px;}div.sk-estimator {font-family: monospace;background-color: #f0f8ff;margin: 0.25em 0.25em;border: 1px dotted black;border-radius: 0.25em;box-sizing: border-box;}div.sk-estimator:hover {background-color: #d4ebff;}div.sk-parallel-item::after {content: \"\";width: 100%;border-bottom: 1px solid gray;flex-grow: 1;}div.sk-label:hover label.sk-toggleable__label {background-color: #d4ebff;}div.sk-serial::before {content: \"\";position: absolute;border-left: 1px solid gray;box-sizing: border-box;top: 2em;bottom: 0;left: 50%;}div.sk-serial {display: flex;flex-direction: column;align-items: center;background-color: white;}div.sk-item {z-index: 1;}div.sk-parallel {display: flex;align-items: stretch;justify-content: center;background-color: white;}div.sk-parallel-item {display: flex;flex-direction: column;position: relative;background-color: white;}div.sk-parallel-item:first-child::after {align-self: flex-end;width: 50%;}div.sk-parallel-item:last-child::after {align-self: flex-start;width: 50%;}div.sk-parallel-item:only-child::after {width: 0;}div.sk-dashed-wrapped {border: 1px dashed gray;margin: 0.2em;box-sizing: border-box;padding-bottom: 0.1em;background-color: white;position: relative;}div.sk-label label {font-family: monospace;font-weight: bold;background-color: white;display: inline-block;line-height: 1.2em;}div.sk-label-container {position: relative;z-index: 2;text-align: center;}div.sk-container {display: inline-block;position: relative;}</style><div class=\"sk-top-container\"><div class=\"sk-container\"><div class=\"sk-item sk-dashed-wrapped\"><div class=\"sk-label-container\"><div class=\"sk-label sk-toggleable\"><input class=\"sk-toggleable__control sk-hidden--visually\" id=\"5a8c35c1-128c-4272-8d46-48414d9b5665\" type=\"checkbox\" ><label class=\"sk-toggleable__label\" for=\"5a8c35c1-128c-4272-8d46-48414d9b5665\">Pipeline</label><div class=\"sk-toggleable__content\"><pre>Pipeline(steps=[('columntransformer',\n",
       "                 ColumnTransformer(remainder='passthrough',\n",
       "                                   transformers=[('onehotencoder',\n",
       "                                                  OneHotEncoder(sparse=False),\n",
       "                                                  [2]),\n",
       "                                                 ('ordinalencoder',\n",
       "                                                  OrdinalEncoder(), [1])])),\n",
       "                ('smote', SMOTE()),\n",
       "                ('kneighborsclassifier',\n",
       "                 KNeighborsClassifier(n_neighbors=300))])</pre></div></div></div><div class=\"sk-serial\"><div class=\"sk-item sk-dashed-wrapped\"><div class=\"sk-label-container\"><div class=\"sk-label sk-toggleable\"><input class=\"sk-toggleable__control sk-hidden--visually\" id=\"9a558dc4-e7e1-42f7-b896-a8a92c2906ed\" type=\"checkbox\" ><label class=\"sk-toggleable__label\" for=\"9a558dc4-e7e1-42f7-b896-a8a92c2906ed\">columntransformer: ColumnTransformer</label><div class=\"sk-toggleable__content\"><pre>ColumnTransformer(remainder='passthrough',\n",
       "                  transformers=[('onehotencoder', OneHotEncoder(sparse=False),\n",
       "                                 [2]),\n",
       "                                ('ordinalencoder', OrdinalEncoder(), [1])])</pre></div></div></div><div class=\"sk-parallel\"><div class=\"sk-parallel-item\"><div class=\"sk-item\"><div class=\"sk-label-container\"><div class=\"sk-label sk-toggleable\"><input class=\"sk-toggleable__control sk-hidden--visually\" id=\"09972f70-f0e3-4e12-b6f8-45475168ae16\" type=\"checkbox\" ><label class=\"sk-toggleable__label\" for=\"09972f70-f0e3-4e12-b6f8-45475168ae16\">onehotencoder</label><div class=\"sk-toggleable__content\"><pre>[2]</pre></div></div></div><div class=\"sk-serial\"><div class=\"sk-item\"><div class=\"sk-estimator sk-toggleable\"><input class=\"sk-toggleable__control sk-hidden--visually\" id=\"11acd146-58ff-4fe4-b69a-53e7cc431d0e\" type=\"checkbox\" ><label class=\"sk-toggleable__label\" for=\"11acd146-58ff-4fe4-b69a-53e7cc431d0e\">OneHotEncoder</label><div class=\"sk-toggleable__content\"><pre>OneHotEncoder(sparse=False)</pre></div></div></div></div></div></div><div class=\"sk-parallel-item\"><div class=\"sk-item\"><div class=\"sk-label-container\"><div class=\"sk-label sk-toggleable\"><input class=\"sk-toggleable__control sk-hidden--visually\" id=\"f7faea47-f267-442e-ad20-f624b3459ce9\" type=\"checkbox\" ><label class=\"sk-toggleable__label\" for=\"f7faea47-f267-442e-ad20-f624b3459ce9\">ordinalencoder</label><div class=\"sk-toggleable__content\"><pre>[1]</pre></div></div></div><div class=\"sk-serial\"><div class=\"sk-item\"><div class=\"sk-estimator sk-toggleable\"><input class=\"sk-toggleable__control sk-hidden--visually\" id=\"c5e016a8-b9d4-4f11-9c0f-4554fcbe8942\" type=\"checkbox\" ><label class=\"sk-toggleable__label\" for=\"c5e016a8-b9d4-4f11-9c0f-4554fcbe8942\">OrdinalEncoder</label><div class=\"sk-toggleable__content\"><pre>OrdinalEncoder()</pre></div></div></div></div></div></div></div></div><div class=\"sk-item\"><div class=\"sk-estimator sk-toggleable\"><input class=\"sk-toggleable__control sk-hidden--visually\" id=\"e5b3a32e-1577-40af-8873-f45dcdf03fe0\" type=\"checkbox\" ><label class=\"sk-toggleable__label\" for=\"e5b3a32e-1577-40af-8873-f45dcdf03fe0\">SMOTE</label><div class=\"sk-toggleable__content\"><pre>SMOTE()</pre></div></div></div><div class=\"sk-item\"><div class=\"sk-estimator sk-toggleable\"><input class=\"sk-toggleable__control sk-hidden--visually\" id=\"117bbf0f-8c84-4031-812f-6ba09f37c1ec\" type=\"checkbox\" ><label class=\"sk-toggleable__label\" for=\"117bbf0f-8c84-4031-812f-6ba09f37c1ec\">KNeighborsClassifier</label><div class=\"sk-toggleable__content\"><pre>KNeighborsClassifier(n_neighbors=300)</pre></div></div></div></div></div></div></div>"
      ],
      "text/plain": [
       "Pipeline(steps=[('columntransformer',\n",
       "                 ColumnTransformer(remainder='passthrough',\n",
       "                                   transformers=[('onehotencoder',\n",
       "                                                  OneHotEncoder(sparse=False),\n",
       "                                                  [2]),\n",
       "                                                 ('ordinalencoder',\n",
       "                                                  OrdinalEncoder(), [1])])),\n",
       "                ('smote', SMOTE()),\n",
       "                ('kneighborsclassifier',\n",
       "                 KNeighborsClassifier(n_neighbors=300))])"
      ]
     },
     "execution_count": 21,
     "metadata": {},
     "output_type": "execute_result"
    }
   ],
   "source": [
    "from imblearn.over_sampling import SMOTE\n",
    "from imblearn.pipeline import make_pipeline\n",
    "s=SMOTE()\n",
    "n_pipe=make_pipeline(trans,s,algo)\n",
    "n_pipe"
   ]
  },
  {
   "cell_type": "code",
   "execution_count": 22,
   "id": "2e5114f9",
   "metadata": {
    "execution": {
     "iopub.execute_input": "2023-01-25T05:23:05.379257Z",
     "iopub.status.busy": "2023-01-25T05:23:05.378553Z",
     "iopub.status.idle": "2023-01-25T05:23:05.434235Z",
     "shell.execute_reply": "2023-01-25T05:23:05.433255Z",
     "shell.execute_reply.started": "2022-01-31T12:36:51.580074Z"
    },
    "papermill": {
     "duration": 0.141792,
     "end_time": "2023-01-25T05:23:05.434409",
     "exception": false,
     "start_time": "2023-01-25T05:23:05.292617",
     "status": "completed"
    },
    "tags": []
   },
   "outputs": [
    {
     "data": {
      "text/html": [
       "<style>div.sk-top-container {color: black;background-color: white;}div.sk-toggleable {background-color: white;}label.sk-toggleable__label {cursor: pointer;display: block;width: 100%;margin-bottom: 0;padding: 0.2em 0.3em;box-sizing: border-box;text-align: center;}div.sk-toggleable__content {max-height: 0;max-width: 0;overflow: hidden;text-align: left;background-color: #f0f8ff;}div.sk-toggleable__content pre {margin: 0.2em;color: black;border-radius: 0.25em;background-color: #f0f8ff;}input.sk-toggleable__control:checked~div.sk-toggleable__content {max-height: 200px;max-width: 100%;overflow: auto;}div.sk-estimator input.sk-toggleable__control:checked~label.sk-toggleable__label {background-color: #d4ebff;}div.sk-label input.sk-toggleable__control:checked~label.sk-toggleable__label {background-color: #d4ebff;}input.sk-hidden--visually {border: 0;clip: rect(1px 1px 1px 1px);clip: rect(1px, 1px, 1px, 1px);height: 1px;margin: -1px;overflow: hidden;padding: 0;position: absolute;width: 1px;}div.sk-estimator {font-family: monospace;background-color: #f0f8ff;margin: 0.25em 0.25em;border: 1px dotted black;border-radius: 0.25em;box-sizing: border-box;}div.sk-estimator:hover {background-color: #d4ebff;}div.sk-parallel-item::after {content: \"\";width: 100%;border-bottom: 1px solid gray;flex-grow: 1;}div.sk-label:hover label.sk-toggleable__label {background-color: #d4ebff;}div.sk-serial::before {content: \"\";position: absolute;border-left: 1px solid gray;box-sizing: border-box;top: 2em;bottom: 0;left: 50%;}div.sk-serial {display: flex;flex-direction: column;align-items: center;background-color: white;}div.sk-item {z-index: 1;}div.sk-parallel {display: flex;align-items: stretch;justify-content: center;background-color: white;}div.sk-parallel-item {display: flex;flex-direction: column;position: relative;background-color: white;}div.sk-parallel-item:first-child::after {align-self: flex-end;width: 50%;}div.sk-parallel-item:last-child::after {align-self: flex-start;width: 50%;}div.sk-parallel-item:only-child::after {width: 0;}div.sk-dashed-wrapped {border: 1px dashed gray;margin: 0.2em;box-sizing: border-box;padding-bottom: 0.1em;background-color: white;position: relative;}div.sk-label label {font-family: monospace;font-weight: bold;background-color: white;display: inline-block;line-height: 1.2em;}div.sk-label-container {position: relative;z-index: 2;text-align: center;}div.sk-container {display: inline-block;position: relative;}</style><div class=\"sk-top-container\"><div class=\"sk-container\"><div class=\"sk-item sk-dashed-wrapped\"><div class=\"sk-label-container\"><div class=\"sk-label sk-toggleable\"><input class=\"sk-toggleable__control sk-hidden--visually\" id=\"9b9dece8-bbb7-4a13-b695-44c25783d567\" type=\"checkbox\" ><label class=\"sk-toggleable__label\" for=\"9b9dece8-bbb7-4a13-b695-44c25783d567\">Pipeline</label><div class=\"sk-toggleable__content\"><pre>Pipeline(steps=[('columntransformer',\n",
       "                 ColumnTransformer(remainder='passthrough',\n",
       "                                   transformers=[('onehotencoder',\n",
       "                                                  OneHotEncoder(sparse=False),\n",
       "                                                  [2]),\n",
       "                                                 ('ordinalencoder',\n",
       "                                                  OrdinalEncoder(), [1])])),\n",
       "                ('smote', SMOTE()),\n",
       "                ('kneighborsclassifier',\n",
       "                 KNeighborsClassifier(n_neighbors=300))])</pre></div></div></div><div class=\"sk-serial\"><div class=\"sk-item sk-dashed-wrapped\"><div class=\"sk-label-container\"><div class=\"sk-label sk-toggleable\"><input class=\"sk-toggleable__control sk-hidden--visually\" id=\"032a9a44-6b82-4a32-a764-06a0812d547f\" type=\"checkbox\" ><label class=\"sk-toggleable__label\" for=\"032a9a44-6b82-4a32-a764-06a0812d547f\">columntransformer: ColumnTransformer</label><div class=\"sk-toggleable__content\"><pre>ColumnTransformer(remainder='passthrough',\n",
       "                  transformers=[('onehotencoder', OneHotEncoder(sparse=False),\n",
       "                                 [2]),\n",
       "                                ('ordinalencoder', OrdinalEncoder(), [1])])</pre></div></div></div><div class=\"sk-parallel\"><div class=\"sk-parallel-item\"><div class=\"sk-item\"><div class=\"sk-label-container\"><div class=\"sk-label sk-toggleable\"><input class=\"sk-toggleable__control sk-hidden--visually\" id=\"b9ec57fe-59e4-4542-ac30-470e49cd42c8\" type=\"checkbox\" ><label class=\"sk-toggleable__label\" for=\"b9ec57fe-59e4-4542-ac30-470e49cd42c8\">onehotencoder</label><div class=\"sk-toggleable__content\"><pre>[2]</pre></div></div></div><div class=\"sk-serial\"><div class=\"sk-item\"><div class=\"sk-estimator sk-toggleable\"><input class=\"sk-toggleable__control sk-hidden--visually\" id=\"d86049ab-9e7a-4873-bb13-6289e62ad75b\" type=\"checkbox\" ><label class=\"sk-toggleable__label\" for=\"d86049ab-9e7a-4873-bb13-6289e62ad75b\">OneHotEncoder</label><div class=\"sk-toggleable__content\"><pre>OneHotEncoder(sparse=False)</pre></div></div></div></div></div></div><div class=\"sk-parallel-item\"><div class=\"sk-item\"><div class=\"sk-label-container\"><div class=\"sk-label sk-toggleable\"><input class=\"sk-toggleable__control sk-hidden--visually\" id=\"df08e800-d320-4795-b2b5-44b886b20ec1\" type=\"checkbox\" ><label class=\"sk-toggleable__label\" for=\"df08e800-d320-4795-b2b5-44b886b20ec1\">ordinalencoder</label><div class=\"sk-toggleable__content\"><pre>[1]</pre></div></div></div><div class=\"sk-serial\"><div class=\"sk-item\"><div class=\"sk-estimator sk-toggleable\"><input class=\"sk-toggleable__control sk-hidden--visually\" id=\"dab5cace-6976-4714-9f9c-1aa390722ce3\" type=\"checkbox\" ><label class=\"sk-toggleable__label\" for=\"dab5cace-6976-4714-9f9c-1aa390722ce3\">OrdinalEncoder</label><div class=\"sk-toggleable__content\"><pre>OrdinalEncoder()</pre></div></div></div></div></div></div></div></div><div class=\"sk-item\"><div class=\"sk-estimator sk-toggleable\"><input class=\"sk-toggleable__control sk-hidden--visually\" id=\"bc599e80-fcfd-4d7e-8643-5714b6f247fc\" type=\"checkbox\" ><label class=\"sk-toggleable__label\" for=\"bc599e80-fcfd-4d7e-8643-5714b6f247fc\">SMOTE</label><div class=\"sk-toggleable__content\"><pre>SMOTE()</pre></div></div></div><div class=\"sk-item\"><div class=\"sk-estimator sk-toggleable\"><input class=\"sk-toggleable__control sk-hidden--visually\" id=\"35032aea-c0ba-4777-aa95-139810e59fd9\" type=\"checkbox\" ><label class=\"sk-toggleable__label\" for=\"35032aea-c0ba-4777-aa95-139810e59fd9\">KNeighborsClassifier</label><div class=\"sk-toggleable__content\"><pre>KNeighborsClassifier(n_neighbors=300)</pre></div></div></div></div></div></div></div>"
      ],
      "text/plain": [
       "Pipeline(steps=[('columntransformer',\n",
       "                 ColumnTransformer(remainder='passthrough',\n",
       "                                   transformers=[('onehotencoder',\n",
       "                                                  OneHotEncoder(sparse=False),\n",
       "                                                  [2]),\n",
       "                                                 ('ordinalencoder',\n",
       "                                                  OrdinalEncoder(), [1])])),\n",
       "                ('smote', SMOTE()),\n",
       "                ('kneighborsclassifier',\n",
       "                 KNeighborsClassifier(n_neighbors=300))])"
      ]
     },
     "execution_count": 22,
     "metadata": {},
     "output_type": "execute_result"
    }
   ],
   "source": [
    "n_pipe.fit(x_train,y_train)"
   ]
  },
  {
   "cell_type": "code",
   "execution_count": 23,
   "id": "ed42e52c",
   "metadata": {
    "execution": {
     "iopub.execute_input": "2023-01-25T05:23:05.600175Z",
     "iopub.status.busy": "2023-01-25T05:23:05.598859Z",
     "iopub.status.idle": "2023-01-25T05:23:05.720884Z",
     "shell.execute_reply": "2023-01-25T05:23:05.721550Z",
     "shell.execute_reply.started": "2022-01-31T12:36:51.635981Z"
    },
    "papermill": {
     "duration": 0.205683,
     "end_time": "2023-01-25T05:23:05.721737",
     "exception": false,
     "start_time": "2023-01-25T05:23:05.516054",
     "status": "completed"
    },
    "tags": []
   },
   "outputs": [
    {
     "data": {
      "text/plain": [
       "array([1, 0, 0, 0, 0, 0, 0, 0, 0, 1, 1, 0, 1, 0, 0, 1, 0, 0, 0, 0, 0, 0,\n",
       "       0, 0, 0, 1, 0, 0, 0, 0, 0, 0, 0, 0, 1, 0, 0, 0, 0, 0, 1, 0, 1, 0,\n",
       "       1, 1, 0, 0, 0, 0, 0, 1, 0, 0, 1, 1, 0, 0, 0, 1, 1, 1, 0, 1, 1, 0,\n",
       "       0, 0, 0, 1, 1, 1, 0, 0, 1, 0, 0, 0, 0, 0, 0, 0, 0, 0, 1, 0, 0, 1,\n",
       "       0, 1, 0, 1, 0, 1, 0, 0, 0, 1, 0, 0, 0, 0, 1, 0, 1, 0, 0, 1, 1, 0,\n",
       "       0, 0, 0, 0, 0, 0, 0, 0, 0, 0, 1, 0, 1, 0, 0, 0, 0, 1, 0, 1, 1, 0,\n",
       "       0, 0, 0, 0, 1, 0, 0, 1, 1, 1, 0, 0, 0, 0, 0, 1, 0, 0, 1, 1, 0, 0,\n",
       "       0, 0, 0, 0, 1, 0, 0, 0, 0, 0, 0, 0, 0, 1, 0, 0, 0, 1, 0, 0, 0, 1,\n",
       "       0, 0, 0, 0, 0, 0, 0, 0, 1, 0, 0, 0, 0, 0, 0, 0, 0, 1, 0, 0, 0, 0,\n",
       "       0, 0, 0, 1, 0, 0, 0, 0, 0, 1, 0, 0, 0, 1, 0, 0, 1, 0, 0, 0, 0, 0,\n",
       "       0, 1, 1, 0, 0, 1, 1, 0, 0, 1, 0, 0, 1, 0, 0, 0, 0, 1, 1, 0, 0, 0,\n",
       "       1, 0, 0, 1, 0, 0, 1, 1, 1, 0, 1, 0, 0, 0, 0, 0, 0, 0, 0, 1, 0, 0,\n",
       "       0, 0, 0, 1, 1, 0, 0, 0, 0, 1, 0, 1, 0, 0, 0, 0, 0, 0, 0, 0, 0, 0,\n",
       "       0, 0, 0, 1, 0, 0, 0, 0, 0, 0, 0, 0, 1, 0, 0, 0, 0, 0, 0, 0, 1, 0,\n",
       "       0, 0, 0, 1, 0, 0, 0, 0, 0, 0, 0, 0, 0, 1, 1, 0, 0, 0, 0, 0, 0, 0,\n",
       "       0, 0, 0, 1, 0, 0, 0, 0, 0, 1, 0, 0, 1, 0, 0, 0, 1, 0, 0, 0, 0, 0,\n",
       "       0, 0, 1, 0, 0, 0, 0, 0, 0, 0, 0, 0, 0, 0, 0, 0, 0, 0, 1, 0, 0, 1,\n",
       "       0, 1, 0, 0, 0, 1, 0, 0, 0, 0, 0, 0, 1, 0, 0, 0, 0, 0, 0, 0, 0, 0,\n",
       "       0, 0, 1, 1, 1, 0, 0, 0, 0, 0, 0, 0, 0, 1, 0, 0, 0, 0, 0, 0, 0, 1,\n",
       "       0, 1, 0, 0, 1, 0, 0, 0, 0, 0, 1, 0, 0, 0, 1, 0, 0, 0, 0, 0, 1, 1,\n",
       "       0, 0, 0, 0, 1, 0, 0, 0, 0, 0, 0, 0, 0, 0, 0, 1, 0, 0, 0, 1, 0, 0,\n",
       "       0, 0, 0, 0, 0, 0, 0, 1, 0, 0, 0, 0, 0, 0, 0, 1, 1, 1, 1, 0, 0, 1,\n",
       "       1, 0, 0, 0, 0, 0, 0, 0, 0, 1, 1, 1, 1, 0, 0, 0, 0, 0, 1, 0, 1, 0,\n",
       "       0, 0, 0, 0, 0, 0, 0, 0, 0, 0, 1, 1, 0, 1, 1, 0, 1, 0, 1, 0, 0, 0,\n",
       "       1, 0, 0, 0, 1, 0, 1, 0, 0, 0, 1, 0, 1, 0, 0, 0, 0, 0, 0, 0, 1, 0,\n",
       "       0, 0, 1, 1, 0, 0, 0, 0, 1, 1, 1, 0, 0, 1, 0, 0, 0, 0, 1, 1, 0, 0,\n",
       "       0, 0, 0, 0, 0, 1, 1, 0, 0, 0, 1, 0, 0, 1, 0, 0, 0, 0, 0, 0, 1, 0,\n",
       "       0, 0, 0, 0, 0, 1, 0, 0, 0, 0, 0, 0, 0, 0, 0, 0, 0, 0, 0, 0, 0, 0,\n",
       "       0, 0, 0, 0, 0, 0, 0, 1, 0, 0, 0, 1, 0, 0, 0, 0, 0, 1, 0, 0, 0, 0,\n",
       "       0, 1, 0, 0, 0, 0, 0, 1, 0, 1, 1, 1, 0, 1, 0, 1, 0, 0, 1, 0, 1, 0,\n",
       "       1, 0, 0, 0, 1, 0, 0, 0, 1, 0, 0, 0, 0, 0, 0, 0, 0, 1, 0, 0, 0, 0,\n",
       "       0, 0, 0, 0, 0, 0, 0, 0, 1, 1, 0, 0, 0, 1, 0, 0, 0, 1, 0, 0, 0, 0,\n",
       "       1, 0, 0, 0, 1, 0, 1, 1, 0, 0, 1, 0, 0, 0, 0, 0, 0, 0, 0, 0, 0, 1,\n",
       "       0, 0, 0, 1, 0, 0, 1, 1, 0, 0, 0, 1, 0, 1, 0, 0, 0, 0, 1, 1, 0, 0,\n",
       "       0, 1, 1, 0, 1, 0, 0, 0, 0, 0, 0, 0, 0, 0, 0, 0, 1, 1, 1, 0, 0, 0,\n",
       "       1, 1, 0, 0, 0, 0, 1, 0, 0, 0, 0, 0, 0, 0])"
      ]
     },
     "execution_count": 23,
     "metadata": {},
     "output_type": "execute_result"
    }
   ],
   "source": [
    "pred_n=n_pipe.predict(x_test)\n",
    "pred_n"
   ]
  },
  {
   "cell_type": "code",
   "execution_count": 24,
   "id": "f531f747",
   "metadata": {
    "execution": {
     "iopub.execute_input": "2023-01-25T05:23:05.907013Z",
     "iopub.status.busy": "2023-01-25T05:23:05.905952Z",
     "iopub.status.idle": "2023-01-25T05:23:05.913058Z",
     "shell.execute_reply": "2023-01-25T05:23:05.913552Z",
     "shell.execute_reply.started": "2022-01-31T12:36:51.745448Z"
    },
    "papermill": {
     "duration": 0.096958,
     "end_time": "2023-01-25T05:23:05.913742",
     "exception": false,
     "start_time": "2023-01-25T05:23:05.816784",
     "status": "completed"
    },
    "tags": []
   },
   "outputs": [
    {
     "data": {
      "text/plain": [
       "73.85204081632652"
      ]
     },
     "execution_count": 24,
     "metadata": {},
     "output_type": "execute_result"
    }
   ],
   "source": [
    "accuracy_score(pred_n,y_test)*100"
   ]
  },
  {
   "cell_type": "code",
   "execution_count": 25,
   "id": "18a1ba38",
   "metadata": {
    "execution": {
     "iopub.execute_input": "2023-01-25T05:23:06.084756Z",
     "iopub.status.busy": "2023-01-25T05:23:06.083727Z",
     "iopub.status.idle": "2023-01-25T05:23:06.091424Z",
     "shell.execute_reply": "2023-01-25T05:23:06.090738Z",
     "shell.execute_reply.started": "2022-01-31T12:36:51.753377Z"
    },
    "papermill": {
     "duration": 0.093146,
     "end_time": "2023-01-25T05:23:06.091589",
     "exception": false,
     "start_time": "2023-01-25T05:23:05.998443",
     "status": "completed"
    },
    "tags": []
   },
   "outputs": [
    {
     "data": {
      "text/html": [
       "<style>div.sk-top-container {color: black;background-color: white;}div.sk-toggleable {background-color: white;}label.sk-toggleable__label {cursor: pointer;display: block;width: 100%;margin-bottom: 0;padding: 0.2em 0.3em;box-sizing: border-box;text-align: center;}div.sk-toggleable__content {max-height: 0;max-width: 0;overflow: hidden;text-align: left;background-color: #f0f8ff;}div.sk-toggleable__content pre {margin: 0.2em;color: black;border-radius: 0.25em;background-color: #f0f8ff;}input.sk-toggleable__control:checked~div.sk-toggleable__content {max-height: 200px;max-width: 100%;overflow: auto;}div.sk-estimator input.sk-toggleable__control:checked~label.sk-toggleable__label {background-color: #d4ebff;}div.sk-label input.sk-toggleable__control:checked~label.sk-toggleable__label {background-color: #d4ebff;}input.sk-hidden--visually {border: 0;clip: rect(1px 1px 1px 1px);clip: rect(1px, 1px, 1px, 1px);height: 1px;margin: -1px;overflow: hidden;padding: 0;position: absolute;width: 1px;}div.sk-estimator {font-family: monospace;background-color: #f0f8ff;margin: 0.25em 0.25em;border: 1px dotted black;border-radius: 0.25em;box-sizing: border-box;}div.sk-estimator:hover {background-color: #d4ebff;}div.sk-parallel-item::after {content: \"\";width: 100%;border-bottom: 1px solid gray;flex-grow: 1;}div.sk-label:hover label.sk-toggleable__label {background-color: #d4ebff;}div.sk-serial::before {content: \"\";position: absolute;border-left: 1px solid gray;box-sizing: border-box;top: 2em;bottom: 0;left: 50%;}div.sk-serial {display: flex;flex-direction: column;align-items: center;background-color: white;}div.sk-item {z-index: 1;}div.sk-parallel {display: flex;align-items: stretch;justify-content: center;background-color: white;}div.sk-parallel-item {display: flex;flex-direction: column;position: relative;background-color: white;}div.sk-parallel-item:first-child::after {align-self: flex-end;width: 50%;}div.sk-parallel-item:last-child::after {align-self: flex-start;width: 50%;}div.sk-parallel-item:only-child::after {width: 0;}div.sk-dashed-wrapped {border: 1px dashed gray;margin: 0.2em;box-sizing: border-box;padding-bottom: 0.1em;background-color: white;position: relative;}div.sk-label label {font-family: monospace;font-weight: bold;background-color: white;display: inline-block;line-height: 1.2em;}div.sk-label-container {position: relative;z-index: 2;text-align: center;}div.sk-container {display: inline-block;position: relative;}</style><div class=\"sk-top-container\"><div class=\"sk-container\"><div class=\"sk-item\"><div class=\"sk-estimator sk-toggleable\"><input class=\"sk-toggleable__control sk-hidden--visually\" id=\"11d072a0-c7e4-402f-b2bd-174d9724feca\" type=\"checkbox\" checked><label class=\"sk-toggleable__label\" for=\"11d072a0-c7e4-402f-b2bd-174d9724feca\">LogisticRegression</label><div class=\"sk-toggleable__content\"><pre>LogisticRegression(solver='liblinear')</pre></div></div></div></div></div>"
      ],
      "text/plain": [
       "LogisticRegression(solver='liblinear')"
      ]
     },
     "execution_count": 25,
     "metadata": {},
     "output_type": "execute_result"
    }
   ],
   "source": [
    "from sklearn.linear_model import LogisticRegression\n",
    "algo_l=LogisticRegression(solver='liblinear')\n",
    "algo_l"
   ]
  },
  {
   "cell_type": "code",
   "execution_count": 26,
   "id": "b4d3effe",
   "metadata": {
    "execution": {
     "iopub.execute_input": "2023-01-25T05:23:06.255729Z",
     "iopub.status.busy": "2023-01-25T05:23:06.254987Z",
     "iopub.status.idle": "2023-01-25T05:23:06.287752Z",
     "shell.execute_reply": "2023-01-25T05:23:06.288327Z",
     "shell.execute_reply.started": "2022-01-31T12:36:51.766285Z"
    },
    "papermill": {
     "duration": 0.116389,
     "end_time": "2023-01-25T05:23:06.288518",
     "exception": false,
     "start_time": "2023-01-25T05:23:06.172129",
     "status": "completed"
    },
    "tags": []
   },
   "outputs": [
    {
     "data": {
      "text/html": [
       "<style>div.sk-top-container {color: black;background-color: white;}div.sk-toggleable {background-color: white;}label.sk-toggleable__label {cursor: pointer;display: block;width: 100%;margin-bottom: 0;padding: 0.2em 0.3em;box-sizing: border-box;text-align: center;}div.sk-toggleable__content {max-height: 0;max-width: 0;overflow: hidden;text-align: left;background-color: #f0f8ff;}div.sk-toggleable__content pre {margin: 0.2em;color: black;border-radius: 0.25em;background-color: #f0f8ff;}input.sk-toggleable__control:checked~div.sk-toggleable__content {max-height: 200px;max-width: 100%;overflow: auto;}div.sk-estimator input.sk-toggleable__control:checked~label.sk-toggleable__label {background-color: #d4ebff;}div.sk-label input.sk-toggleable__control:checked~label.sk-toggleable__label {background-color: #d4ebff;}input.sk-hidden--visually {border: 0;clip: rect(1px 1px 1px 1px);clip: rect(1px, 1px, 1px, 1px);height: 1px;margin: -1px;overflow: hidden;padding: 0;position: absolute;width: 1px;}div.sk-estimator {font-family: monospace;background-color: #f0f8ff;margin: 0.25em 0.25em;border: 1px dotted black;border-radius: 0.25em;box-sizing: border-box;}div.sk-estimator:hover {background-color: #d4ebff;}div.sk-parallel-item::after {content: \"\";width: 100%;border-bottom: 1px solid gray;flex-grow: 1;}div.sk-label:hover label.sk-toggleable__label {background-color: #d4ebff;}div.sk-serial::before {content: \"\";position: absolute;border-left: 1px solid gray;box-sizing: border-box;top: 2em;bottom: 0;left: 50%;}div.sk-serial {display: flex;flex-direction: column;align-items: center;background-color: white;}div.sk-item {z-index: 1;}div.sk-parallel {display: flex;align-items: stretch;justify-content: center;background-color: white;}div.sk-parallel-item {display: flex;flex-direction: column;position: relative;background-color: white;}div.sk-parallel-item:first-child::after {align-self: flex-end;width: 50%;}div.sk-parallel-item:last-child::after {align-self: flex-start;width: 50%;}div.sk-parallel-item:only-child::after {width: 0;}div.sk-dashed-wrapped {border: 1px dashed gray;margin: 0.2em;box-sizing: border-box;padding-bottom: 0.1em;background-color: white;position: relative;}div.sk-label label {font-family: monospace;font-weight: bold;background-color: white;display: inline-block;line-height: 1.2em;}div.sk-label-container {position: relative;z-index: 2;text-align: center;}div.sk-container {display: inline-block;position: relative;}</style><div class=\"sk-top-container\"><div class=\"sk-container\"><div class=\"sk-item sk-dashed-wrapped\"><div class=\"sk-label-container\"><div class=\"sk-label sk-toggleable\"><input class=\"sk-toggleable__control sk-hidden--visually\" id=\"3ef434f6-a62d-44ce-9c38-cd8f59862ccc\" type=\"checkbox\" ><label class=\"sk-toggleable__label\" for=\"3ef434f6-a62d-44ce-9c38-cd8f59862ccc\">Pipeline</label><div class=\"sk-toggleable__content\"><pre>Pipeline(steps=[('columntransformer',\n",
       "                 ColumnTransformer(remainder='passthrough',\n",
       "                                   transformers=[('onehotencoder',\n",
       "                                                  OneHotEncoder(sparse=False),\n",
       "                                                  [2]),\n",
       "                                                 ('ordinalencoder',\n",
       "                                                  OrdinalEncoder(), [1])])),\n",
       "                ('logisticregression', LogisticRegression(solver='liblinear'))])</pre></div></div></div><div class=\"sk-serial\"><div class=\"sk-item sk-dashed-wrapped\"><div class=\"sk-label-container\"><div class=\"sk-label sk-toggleable\"><input class=\"sk-toggleable__control sk-hidden--visually\" id=\"3b04119d-f559-4449-9a10-510b7d71f15a\" type=\"checkbox\" ><label class=\"sk-toggleable__label\" for=\"3b04119d-f559-4449-9a10-510b7d71f15a\">columntransformer: ColumnTransformer</label><div class=\"sk-toggleable__content\"><pre>ColumnTransformer(remainder='passthrough',\n",
       "                  transformers=[('onehotencoder', OneHotEncoder(sparse=False),\n",
       "                                 [2]),\n",
       "                                ('ordinalencoder', OrdinalEncoder(), [1])])</pre></div></div></div><div class=\"sk-parallel\"><div class=\"sk-parallel-item\"><div class=\"sk-item\"><div class=\"sk-label-container\"><div class=\"sk-label sk-toggleable\"><input class=\"sk-toggleable__control sk-hidden--visually\" id=\"bee7b36e-3589-4376-add8-948cf3c4174c\" type=\"checkbox\" ><label class=\"sk-toggleable__label\" for=\"bee7b36e-3589-4376-add8-948cf3c4174c\">onehotencoder</label><div class=\"sk-toggleable__content\"><pre>[2]</pre></div></div></div><div class=\"sk-serial\"><div class=\"sk-item\"><div class=\"sk-estimator sk-toggleable\"><input class=\"sk-toggleable__control sk-hidden--visually\" id=\"13e7d7eb-b932-4a24-a34d-f35ae7febc64\" type=\"checkbox\" ><label class=\"sk-toggleable__label\" for=\"13e7d7eb-b932-4a24-a34d-f35ae7febc64\">OneHotEncoder</label><div class=\"sk-toggleable__content\"><pre>OneHotEncoder(sparse=False)</pre></div></div></div></div></div></div><div class=\"sk-parallel-item\"><div class=\"sk-item\"><div class=\"sk-label-container\"><div class=\"sk-label sk-toggleable\"><input class=\"sk-toggleable__control sk-hidden--visually\" id=\"db5d27e0-a318-4d2c-a972-dc8d714d6345\" type=\"checkbox\" ><label class=\"sk-toggleable__label\" for=\"db5d27e0-a318-4d2c-a972-dc8d714d6345\">ordinalencoder</label><div class=\"sk-toggleable__content\"><pre>[1]</pre></div></div></div><div class=\"sk-serial\"><div class=\"sk-item\"><div class=\"sk-estimator sk-toggleable\"><input class=\"sk-toggleable__control sk-hidden--visually\" id=\"4fcdcb29-e61b-4b3b-85b6-12b6ab486426\" type=\"checkbox\" ><label class=\"sk-toggleable__label\" for=\"4fcdcb29-e61b-4b3b-85b6-12b6ab486426\">OrdinalEncoder</label><div class=\"sk-toggleable__content\"><pre>OrdinalEncoder()</pre></div></div></div></div></div></div></div></div><div class=\"sk-item\"><div class=\"sk-estimator sk-toggleable\"><input class=\"sk-toggleable__control sk-hidden--visually\" id=\"4e14b48c-1f40-431a-8b37-3d9aafa0d47d\" type=\"checkbox\" ><label class=\"sk-toggleable__label\" for=\"4e14b48c-1f40-431a-8b37-3d9aafa0d47d\">LogisticRegression</label><div class=\"sk-toggleable__content\"><pre>LogisticRegression(solver='liblinear')</pre></div></div></div></div></div></div></div>"
      ],
      "text/plain": [
       "Pipeline(steps=[('columntransformer',\n",
       "                 ColumnTransformer(remainder='passthrough',\n",
       "                                   transformers=[('onehotencoder',\n",
       "                                                  OneHotEncoder(sparse=False),\n",
       "                                                  [2]),\n",
       "                                                 ('ordinalencoder',\n",
       "                                                  OrdinalEncoder(), [1])])),\n",
       "                ('logisticregression', LogisticRegression(solver='liblinear'))])"
      ]
     },
     "execution_count": 26,
     "metadata": {},
     "output_type": "execute_result"
    }
   ],
   "source": [
    "pipe_l=make_pipeline(trans,algo_l)\n",
    "pipe_l"
   ]
  },
  {
   "cell_type": "code",
   "execution_count": 27,
   "id": "7ef5be8a",
   "metadata": {
    "execution": {
     "iopub.execute_input": "2023-01-25T05:23:06.454485Z",
     "iopub.status.busy": "2023-01-25T05:23:06.453809Z",
     "iopub.status.idle": "2023-01-25T05:23:06.530265Z",
     "shell.execute_reply": "2023-01-25T05:23:06.529570Z",
     "shell.execute_reply.started": "2022-01-31T12:36:51.808398Z"
    },
    "papermill": {
     "duration": 0.160731,
     "end_time": "2023-01-25T05:23:06.530412",
     "exception": false,
     "start_time": "2023-01-25T05:23:06.369681",
     "status": "completed"
    },
    "tags": []
   },
   "outputs": [
    {
     "data": {
      "text/html": [
       "<style>div.sk-top-container {color: black;background-color: white;}div.sk-toggleable {background-color: white;}label.sk-toggleable__label {cursor: pointer;display: block;width: 100%;margin-bottom: 0;padding: 0.2em 0.3em;box-sizing: border-box;text-align: center;}div.sk-toggleable__content {max-height: 0;max-width: 0;overflow: hidden;text-align: left;background-color: #f0f8ff;}div.sk-toggleable__content pre {margin: 0.2em;color: black;border-radius: 0.25em;background-color: #f0f8ff;}input.sk-toggleable__control:checked~div.sk-toggleable__content {max-height: 200px;max-width: 100%;overflow: auto;}div.sk-estimator input.sk-toggleable__control:checked~label.sk-toggleable__label {background-color: #d4ebff;}div.sk-label input.sk-toggleable__control:checked~label.sk-toggleable__label {background-color: #d4ebff;}input.sk-hidden--visually {border: 0;clip: rect(1px 1px 1px 1px);clip: rect(1px, 1px, 1px, 1px);height: 1px;margin: -1px;overflow: hidden;padding: 0;position: absolute;width: 1px;}div.sk-estimator {font-family: monospace;background-color: #f0f8ff;margin: 0.25em 0.25em;border: 1px dotted black;border-radius: 0.25em;box-sizing: border-box;}div.sk-estimator:hover {background-color: #d4ebff;}div.sk-parallel-item::after {content: \"\";width: 100%;border-bottom: 1px solid gray;flex-grow: 1;}div.sk-label:hover label.sk-toggleable__label {background-color: #d4ebff;}div.sk-serial::before {content: \"\";position: absolute;border-left: 1px solid gray;box-sizing: border-box;top: 2em;bottom: 0;left: 50%;}div.sk-serial {display: flex;flex-direction: column;align-items: center;background-color: white;}div.sk-item {z-index: 1;}div.sk-parallel {display: flex;align-items: stretch;justify-content: center;background-color: white;}div.sk-parallel-item {display: flex;flex-direction: column;position: relative;background-color: white;}div.sk-parallel-item:first-child::after {align-self: flex-end;width: 50%;}div.sk-parallel-item:last-child::after {align-self: flex-start;width: 50%;}div.sk-parallel-item:only-child::after {width: 0;}div.sk-dashed-wrapped {border: 1px dashed gray;margin: 0.2em;box-sizing: border-box;padding-bottom: 0.1em;background-color: white;position: relative;}div.sk-label label {font-family: monospace;font-weight: bold;background-color: white;display: inline-block;line-height: 1.2em;}div.sk-label-container {position: relative;z-index: 2;text-align: center;}div.sk-container {display: inline-block;position: relative;}</style><div class=\"sk-top-container\"><div class=\"sk-container\"><div class=\"sk-item sk-dashed-wrapped\"><div class=\"sk-label-container\"><div class=\"sk-label sk-toggleable\"><input class=\"sk-toggleable__control sk-hidden--visually\" id=\"b8fc3050-c39a-428e-9d5b-6cea02feb7e5\" type=\"checkbox\" ><label class=\"sk-toggleable__label\" for=\"b8fc3050-c39a-428e-9d5b-6cea02feb7e5\">Pipeline</label><div class=\"sk-toggleable__content\"><pre>Pipeline(steps=[('columntransformer',\n",
       "                 ColumnTransformer(remainder='passthrough',\n",
       "                                   transformers=[('onehotencoder',\n",
       "                                                  OneHotEncoder(sparse=False),\n",
       "                                                  [2]),\n",
       "                                                 ('ordinalencoder',\n",
       "                                                  OrdinalEncoder(), [1])])),\n",
       "                ('logisticregression', LogisticRegression(solver='liblinear'))])</pre></div></div></div><div class=\"sk-serial\"><div class=\"sk-item sk-dashed-wrapped\"><div class=\"sk-label-container\"><div class=\"sk-label sk-toggleable\"><input class=\"sk-toggleable__control sk-hidden--visually\" id=\"74c594aa-ddbf-4106-8d30-0026603c46ec\" type=\"checkbox\" ><label class=\"sk-toggleable__label\" for=\"74c594aa-ddbf-4106-8d30-0026603c46ec\">columntransformer: ColumnTransformer</label><div class=\"sk-toggleable__content\"><pre>ColumnTransformer(remainder='passthrough',\n",
       "                  transformers=[('onehotencoder', OneHotEncoder(sparse=False),\n",
       "                                 [2]),\n",
       "                                ('ordinalencoder', OrdinalEncoder(), [1])])</pre></div></div></div><div class=\"sk-parallel\"><div class=\"sk-parallel-item\"><div class=\"sk-item\"><div class=\"sk-label-container\"><div class=\"sk-label sk-toggleable\"><input class=\"sk-toggleable__control sk-hidden--visually\" id=\"416b5578-a037-4a76-82af-dc8d6759bd80\" type=\"checkbox\" ><label class=\"sk-toggleable__label\" for=\"416b5578-a037-4a76-82af-dc8d6759bd80\">onehotencoder</label><div class=\"sk-toggleable__content\"><pre>[2]</pre></div></div></div><div class=\"sk-serial\"><div class=\"sk-item\"><div class=\"sk-estimator sk-toggleable\"><input class=\"sk-toggleable__control sk-hidden--visually\" id=\"40bfb372-33ad-4175-beae-23e24e4c945a\" type=\"checkbox\" ><label class=\"sk-toggleable__label\" for=\"40bfb372-33ad-4175-beae-23e24e4c945a\">OneHotEncoder</label><div class=\"sk-toggleable__content\"><pre>OneHotEncoder(sparse=False)</pre></div></div></div></div></div></div><div class=\"sk-parallel-item\"><div class=\"sk-item\"><div class=\"sk-label-container\"><div class=\"sk-label sk-toggleable\"><input class=\"sk-toggleable__control sk-hidden--visually\" id=\"bc218e06-be15-4498-925c-bd5c5a441443\" type=\"checkbox\" ><label class=\"sk-toggleable__label\" for=\"bc218e06-be15-4498-925c-bd5c5a441443\">ordinalencoder</label><div class=\"sk-toggleable__content\"><pre>[1]</pre></div></div></div><div class=\"sk-serial\"><div class=\"sk-item\"><div class=\"sk-estimator sk-toggleable\"><input class=\"sk-toggleable__control sk-hidden--visually\" id=\"e8326d75-07e5-44f3-9087-f7f0b236e592\" type=\"checkbox\" ><label class=\"sk-toggleable__label\" for=\"e8326d75-07e5-44f3-9087-f7f0b236e592\">OrdinalEncoder</label><div class=\"sk-toggleable__content\"><pre>OrdinalEncoder()</pre></div></div></div></div></div></div></div></div><div class=\"sk-item\"><div class=\"sk-estimator sk-toggleable\"><input class=\"sk-toggleable__control sk-hidden--visually\" id=\"d33dce63-d476-4b4c-b3d1-41d689d85942\" type=\"checkbox\" ><label class=\"sk-toggleable__label\" for=\"d33dce63-d476-4b4c-b3d1-41d689d85942\">LogisticRegression</label><div class=\"sk-toggleable__content\"><pre>LogisticRegression(solver='liblinear')</pre></div></div></div></div></div></div></div>"
      ],
      "text/plain": [
       "Pipeline(steps=[('columntransformer',\n",
       "                 ColumnTransformer(remainder='passthrough',\n",
       "                                   transformers=[('onehotencoder',\n",
       "                                                  OneHotEncoder(sparse=False),\n",
       "                                                  [2]),\n",
       "                                                 ('ordinalencoder',\n",
       "                                                  OrdinalEncoder(), [1])])),\n",
       "                ('logisticregression', LogisticRegression(solver='liblinear'))])"
      ]
     },
     "execution_count": 27,
     "metadata": {},
     "output_type": "execute_result"
    }
   ],
   "source": [
    "pipe_l.fit(x_train,y_train)"
   ]
  },
  {
   "cell_type": "code",
   "execution_count": 28,
   "id": "c8fa4247",
   "metadata": {
    "execution": {
     "iopub.execute_input": "2023-01-25T05:23:06.700058Z",
     "iopub.status.busy": "2023-01-25T05:23:06.699314Z",
     "iopub.status.idle": "2023-01-25T05:23:06.719267Z",
     "shell.execute_reply": "2023-01-25T05:23:06.720301Z",
     "shell.execute_reply.started": "2022-01-31T12:36:51.872594Z"
    },
    "papermill": {
     "duration": 0.108472,
     "end_time": "2023-01-25T05:23:06.720675",
     "exception": false,
     "start_time": "2023-01-25T05:23:06.612203",
     "status": "completed"
    },
    "tags": []
   },
   "outputs": [
    {
     "data": {
      "text/plain": [
       "array([0, 0, 0, 0, 0, 0, 0, 0, 0, 0, 0, 0, 0, 0, 0, 0, 0, 0, 0, 0, 0, 0,\n",
       "       0, 0, 0, 0, 0, 0, 0, 0, 0, 0, 0, 0, 1, 0, 0, 0, 0, 0, 0, 0, 0, 0,\n",
       "       0, 1, 0, 0, 0, 0, 0, 0, 0, 0, 0, 0, 0, 0, 0, 1, 0, 0, 0, 1, 0, 0,\n",
       "       0, 0, 0, 0, 0, 0, 0, 0, 0, 0, 1, 0, 0, 0, 0, 0, 0, 0, 0, 0, 0, 0,\n",
       "       0, 0, 0, 0, 0, 0, 0, 0, 0, 0, 0, 0, 0, 0, 0, 0, 0, 0, 0, 0, 0, 0,\n",
       "       0, 0, 0, 1, 0, 0, 0, 0, 0, 0, 0, 0, 0, 0, 0, 0, 0, 0, 0, 0, 0, 0,\n",
       "       0, 0, 0, 0, 0, 0, 0, 0, 0, 0, 0, 0, 0, 0, 0, 0, 0, 0, 0, 1, 0, 0,\n",
       "       0, 0, 0, 0, 0, 0, 0, 0, 0, 1, 0, 0, 0, 0, 0, 0, 0, 0, 0, 0, 0, 0,\n",
       "       0, 1, 0, 0, 0, 0, 0, 0, 0, 0, 0, 0, 0, 0, 0, 0, 0, 0, 0, 0, 0, 0,\n",
       "       0, 0, 0, 1, 0, 0, 0, 0, 0, 0, 1, 0, 0, 0, 0, 0, 0, 0, 0, 0, 0, 0,\n",
       "       0, 0, 0, 1, 0, 0, 0, 0, 0, 0, 0, 0, 0, 0, 0, 0, 0, 0, 0, 0, 0, 0,\n",
       "       0, 0, 0, 0, 0, 0, 0, 0, 0, 0, 0, 0, 0, 0, 0, 0, 0, 0, 0, 0, 0, 1,\n",
       "       0, 0, 0, 0, 0, 0, 0, 0, 0, 0, 0, 0, 0, 0, 0, 0, 0, 0, 0, 0, 0, 0,\n",
       "       0, 0, 0, 0, 0, 0, 0, 0, 0, 0, 0, 0, 0, 0, 0, 0, 0, 0, 0, 0, 1, 0,\n",
       "       0, 0, 0, 0, 0, 0, 0, 0, 0, 0, 0, 0, 0, 0, 0, 0, 0, 0, 0, 0, 0, 0,\n",
       "       0, 0, 0, 0, 0, 0, 0, 0, 0, 0, 0, 0, 0, 0, 0, 1, 0, 0, 0, 0, 0, 0,\n",
       "       0, 0, 0, 0, 0, 0, 0, 0, 0, 0, 0, 0, 1, 0, 0, 0, 0, 0, 0, 0, 0, 1,\n",
       "       0, 0, 0, 0, 0, 0, 0, 0, 0, 0, 0, 0, 1, 0, 0, 0, 0, 0, 0, 0, 0, 0,\n",
       "       0, 0, 0, 0, 0, 0, 0, 0, 0, 0, 0, 0, 0, 0, 0, 0, 0, 0, 0, 0, 0, 0,\n",
       "       0, 0, 0, 0, 0, 0, 0, 0, 0, 0, 0, 0, 0, 0, 0, 0, 0, 0, 0, 0, 0, 0,\n",
       "       0, 0, 0, 0, 0, 0, 0, 0, 0, 0, 0, 0, 0, 0, 0, 0, 0, 0, 0, 1, 0, 0,\n",
       "       0, 0, 0, 0, 0, 0, 0, 0, 0, 0, 0, 0, 0, 0, 0, 0, 0, 0, 0, 0, 0, 0,\n",
       "       0, 0, 0, 0, 0, 0, 0, 0, 0, 0, 0, 0, 0, 0, 0, 0, 0, 0, 0, 0, 0, 0,\n",
       "       0, 0, 0, 0, 0, 0, 0, 0, 0, 0, 0, 0, 0, 0, 0, 0, 1, 0, 0, 0, 0, 0,\n",
       "       0, 0, 0, 0, 0, 0, 1, 0, 0, 0, 0, 0, 0, 0, 0, 0, 0, 0, 0, 0, 0, 0,\n",
       "       0, 0, 0, 0, 0, 0, 0, 0, 0, 0, 0, 0, 0, 0, 0, 0, 0, 0, 0, 0, 0, 0,\n",
       "       0, 0, 0, 0, 0, 0, 0, 0, 0, 0, 0, 0, 0, 0, 0, 0, 0, 0, 0, 0, 0, 0,\n",
       "       0, 0, 0, 0, 0, 0, 0, 0, 0, 0, 0, 0, 0, 0, 0, 0, 0, 0, 0, 0, 0, 1,\n",
       "       0, 0, 0, 0, 0, 0, 0, 0, 0, 0, 0, 0, 0, 0, 0, 0, 0, 0, 0, 0, 0, 0,\n",
       "       0, 1, 0, 0, 0, 0, 0, 0, 0, 0, 0, 0, 0, 0, 0, 0, 0, 0, 0, 0, 0, 0,\n",
       "       0, 0, 0, 0, 0, 0, 0, 0, 1, 0, 0, 0, 0, 0, 0, 0, 0, 0, 0, 0, 0, 0,\n",
       "       0, 0, 0, 0, 0, 0, 0, 0, 0, 0, 0, 0, 0, 0, 0, 0, 0, 0, 1, 0, 0, 0,\n",
       "       0, 0, 0, 0, 0, 0, 0, 0, 0, 0, 0, 0, 0, 0, 0, 0, 0, 0, 0, 0, 0, 0,\n",
       "       0, 0, 0, 1, 0, 0, 0, 0, 0, 0, 0, 0, 0, 1, 0, 0, 0, 0, 0, 0, 0, 0,\n",
       "       0, 0, 1, 1, 0, 0, 0, 0, 0, 0, 0, 0, 0, 0, 0, 0, 0, 0, 0, 0, 0, 0,\n",
       "       0, 0, 0, 0, 0, 0, 0, 0, 0, 0, 0, 0, 0, 0])"
      ]
     },
     "execution_count": 28,
     "metadata": {},
     "output_type": "execute_result"
    }
   ],
   "source": [
    "pred_l=pipe_l.predict(x_test)\n",
    "pred_l"
   ]
  },
  {
   "cell_type": "code",
   "execution_count": 29,
   "id": "fb9ea0b1",
   "metadata": {
    "execution": {
     "iopub.execute_input": "2023-01-25T05:23:06.956156Z",
     "iopub.status.busy": "2023-01-25T05:23:06.955414Z",
     "iopub.status.idle": "2023-01-25T05:23:06.958021Z",
     "shell.execute_reply": "2023-01-25T05:23:06.958509Z",
     "shell.execute_reply.started": "2022-01-31T12:36:51.898864Z"
    },
    "papermill": {
     "duration": 0.093882,
     "end_time": "2023-01-25T05:23:06.958712",
     "exception": false,
     "start_time": "2023-01-25T05:23:06.864830",
     "status": "completed"
    },
    "tags": []
   },
   "outputs": [
    {
     "data": {
      "text/plain": [
       "87.62755102040816"
      ]
     },
     "execution_count": 29,
     "metadata": {},
     "output_type": "execute_result"
    }
   ],
   "source": [
    "accuracy_score(pred_l,y_test)*100"
   ]
  },
  {
   "cell_type": "code",
   "execution_count": 30,
   "id": "366310b7",
   "metadata": {
    "execution": {
     "iopub.execute_input": "2023-01-25T05:23:07.127981Z",
     "iopub.status.busy": "2023-01-25T05:23:07.127113Z",
     "iopub.status.idle": "2023-01-25T05:23:07.132738Z",
     "shell.execute_reply": "2023-01-25T05:23:07.133239Z",
     "shell.execute_reply.started": "2022-01-31T12:36:51.910540Z"
    },
    "papermill": {
     "duration": 0.092422,
     "end_time": "2023-01-25T05:23:07.133416",
     "exception": false,
     "start_time": "2023-01-25T05:23:07.040994",
     "status": "completed"
    },
    "tags": []
   },
   "outputs": [
    {
     "data": {
      "text/html": [
       "<style>div.sk-top-container {color: black;background-color: white;}div.sk-toggleable {background-color: white;}label.sk-toggleable__label {cursor: pointer;display: block;width: 100%;margin-bottom: 0;padding: 0.2em 0.3em;box-sizing: border-box;text-align: center;}div.sk-toggleable__content {max-height: 0;max-width: 0;overflow: hidden;text-align: left;background-color: #f0f8ff;}div.sk-toggleable__content pre {margin: 0.2em;color: black;border-radius: 0.25em;background-color: #f0f8ff;}input.sk-toggleable__control:checked~div.sk-toggleable__content {max-height: 200px;max-width: 100%;overflow: auto;}div.sk-estimator input.sk-toggleable__control:checked~label.sk-toggleable__label {background-color: #d4ebff;}div.sk-label input.sk-toggleable__control:checked~label.sk-toggleable__label {background-color: #d4ebff;}input.sk-hidden--visually {border: 0;clip: rect(1px 1px 1px 1px);clip: rect(1px, 1px, 1px, 1px);height: 1px;margin: -1px;overflow: hidden;padding: 0;position: absolute;width: 1px;}div.sk-estimator {font-family: monospace;background-color: #f0f8ff;margin: 0.25em 0.25em;border: 1px dotted black;border-radius: 0.25em;box-sizing: border-box;}div.sk-estimator:hover {background-color: #d4ebff;}div.sk-parallel-item::after {content: \"\";width: 100%;border-bottom: 1px solid gray;flex-grow: 1;}div.sk-label:hover label.sk-toggleable__label {background-color: #d4ebff;}div.sk-serial::before {content: \"\";position: absolute;border-left: 1px solid gray;box-sizing: border-box;top: 2em;bottom: 0;left: 50%;}div.sk-serial {display: flex;flex-direction: column;align-items: center;background-color: white;}div.sk-item {z-index: 1;}div.sk-parallel {display: flex;align-items: stretch;justify-content: center;background-color: white;}div.sk-parallel-item {display: flex;flex-direction: column;position: relative;background-color: white;}div.sk-parallel-item:first-child::after {align-self: flex-end;width: 50%;}div.sk-parallel-item:last-child::after {align-self: flex-start;width: 50%;}div.sk-parallel-item:only-child::after {width: 0;}div.sk-dashed-wrapped {border: 1px dashed gray;margin: 0.2em;box-sizing: border-box;padding-bottom: 0.1em;background-color: white;position: relative;}div.sk-label label {font-family: monospace;font-weight: bold;background-color: white;display: inline-block;line-height: 1.2em;}div.sk-label-container {position: relative;z-index: 2;text-align: center;}div.sk-container {display: inline-block;position: relative;}</style><div class=\"sk-top-container\"><div class=\"sk-container\"><div class=\"sk-item\"><div class=\"sk-estimator sk-toggleable\"><input class=\"sk-toggleable__control sk-hidden--visually\" id=\"3f459e5c-ff71-489d-9179-a1dd997c9954\" type=\"checkbox\" checked><label class=\"sk-toggleable__label\" for=\"3f459e5c-ff71-489d-9179-a1dd997c9954\">LinearSVC</label><div class=\"sk-toggleable__content\"><pre>LinearSVC()</pre></div></div></div></div></div>"
      ],
      "text/plain": [
       "LinearSVC()"
      ]
     },
     "execution_count": 30,
     "metadata": {},
     "output_type": "execute_result"
    }
   ],
   "source": [
    "from sklearn.svm import LinearSVC\n",
    "algo_svc=LinearSVC()\n",
    "algo_svc"
   ]
  },
  {
   "cell_type": "code",
   "execution_count": 31,
   "id": "53125052",
   "metadata": {
    "execution": {
     "iopub.execute_input": "2023-01-25T05:23:07.307418Z",
     "iopub.status.busy": "2023-01-25T05:23:07.306338Z",
     "iopub.status.idle": "2023-01-25T05:23:07.336006Z",
     "shell.execute_reply": "2023-01-25T05:23:07.335323Z",
     "shell.execute_reply.started": "2022-01-31T12:36:51.925952Z"
    },
    "papermill": {
     "duration": 0.120831,
     "end_time": "2023-01-25T05:23:07.336160",
     "exception": false,
     "start_time": "2023-01-25T05:23:07.215329",
     "status": "completed"
    },
    "tags": []
   },
   "outputs": [
    {
     "data": {
      "text/html": [
       "<style>div.sk-top-container {color: black;background-color: white;}div.sk-toggleable {background-color: white;}label.sk-toggleable__label {cursor: pointer;display: block;width: 100%;margin-bottom: 0;padding: 0.2em 0.3em;box-sizing: border-box;text-align: center;}div.sk-toggleable__content {max-height: 0;max-width: 0;overflow: hidden;text-align: left;background-color: #f0f8ff;}div.sk-toggleable__content pre {margin: 0.2em;color: black;border-radius: 0.25em;background-color: #f0f8ff;}input.sk-toggleable__control:checked~div.sk-toggleable__content {max-height: 200px;max-width: 100%;overflow: auto;}div.sk-estimator input.sk-toggleable__control:checked~label.sk-toggleable__label {background-color: #d4ebff;}div.sk-label input.sk-toggleable__control:checked~label.sk-toggleable__label {background-color: #d4ebff;}input.sk-hidden--visually {border: 0;clip: rect(1px 1px 1px 1px);clip: rect(1px, 1px, 1px, 1px);height: 1px;margin: -1px;overflow: hidden;padding: 0;position: absolute;width: 1px;}div.sk-estimator {font-family: monospace;background-color: #f0f8ff;margin: 0.25em 0.25em;border: 1px dotted black;border-radius: 0.25em;box-sizing: border-box;}div.sk-estimator:hover {background-color: #d4ebff;}div.sk-parallel-item::after {content: \"\";width: 100%;border-bottom: 1px solid gray;flex-grow: 1;}div.sk-label:hover label.sk-toggleable__label {background-color: #d4ebff;}div.sk-serial::before {content: \"\";position: absolute;border-left: 1px solid gray;box-sizing: border-box;top: 2em;bottom: 0;left: 50%;}div.sk-serial {display: flex;flex-direction: column;align-items: center;background-color: white;}div.sk-item {z-index: 1;}div.sk-parallel {display: flex;align-items: stretch;justify-content: center;background-color: white;}div.sk-parallel-item {display: flex;flex-direction: column;position: relative;background-color: white;}div.sk-parallel-item:first-child::after {align-self: flex-end;width: 50%;}div.sk-parallel-item:last-child::after {align-self: flex-start;width: 50%;}div.sk-parallel-item:only-child::after {width: 0;}div.sk-dashed-wrapped {border: 1px dashed gray;margin: 0.2em;box-sizing: border-box;padding-bottom: 0.1em;background-color: white;position: relative;}div.sk-label label {font-family: monospace;font-weight: bold;background-color: white;display: inline-block;line-height: 1.2em;}div.sk-label-container {position: relative;z-index: 2;text-align: center;}div.sk-container {display: inline-block;position: relative;}</style><div class=\"sk-top-container\"><div class=\"sk-container\"><div class=\"sk-item sk-dashed-wrapped\"><div class=\"sk-label-container\"><div class=\"sk-label sk-toggleable\"><input class=\"sk-toggleable__control sk-hidden--visually\" id=\"e3cc9113-2e1c-43c6-a5bd-65b2162141c1\" type=\"checkbox\" ><label class=\"sk-toggleable__label\" for=\"e3cc9113-2e1c-43c6-a5bd-65b2162141c1\">Pipeline</label><div class=\"sk-toggleable__content\"><pre>Pipeline(steps=[('columntransformer',\n",
       "                 ColumnTransformer(remainder='passthrough',\n",
       "                                   transformers=[('onehotencoder',\n",
       "                                                  OneHotEncoder(sparse=False),\n",
       "                                                  [2]),\n",
       "                                                 ('ordinalencoder',\n",
       "                                                  OrdinalEncoder(), [1])])),\n",
       "                ('linearsvc', LinearSVC())])</pre></div></div></div><div class=\"sk-serial\"><div class=\"sk-item sk-dashed-wrapped\"><div class=\"sk-label-container\"><div class=\"sk-label sk-toggleable\"><input class=\"sk-toggleable__control sk-hidden--visually\" id=\"83a14d6e-eeb6-415b-ad2a-ee620375ddf7\" type=\"checkbox\" ><label class=\"sk-toggleable__label\" for=\"83a14d6e-eeb6-415b-ad2a-ee620375ddf7\">columntransformer: ColumnTransformer</label><div class=\"sk-toggleable__content\"><pre>ColumnTransformer(remainder='passthrough',\n",
       "                  transformers=[('onehotencoder', OneHotEncoder(sparse=False),\n",
       "                                 [2]),\n",
       "                                ('ordinalencoder', OrdinalEncoder(), [1])])</pre></div></div></div><div class=\"sk-parallel\"><div class=\"sk-parallel-item\"><div class=\"sk-item\"><div class=\"sk-label-container\"><div class=\"sk-label sk-toggleable\"><input class=\"sk-toggleable__control sk-hidden--visually\" id=\"0a14d7db-d1dc-4210-82d6-a2af62b68c10\" type=\"checkbox\" ><label class=\"sk-toggleable__label\" for=\"0a14d7db-d1dc-4210-82d6-a2af62b68c10\">onehotencoder</label><div class=\"sk-toggleable__content\"><pre>[2]</pre></div></div></div><div class=\"sk-serial\"><div class=\"sk-item\"><div class=\"sk-estimator sk-toggleable\"><input class=\"sk-toggleable__control sk-hidden--visually\" id=\"e838b9d4-7c46-47c3-8fcf-6a6c7ff1f787\" type=\"checkbox\" ><label class=\"sk-toggleable__label\" for=\"e838b9d4-7c46-47c3-8fcf-6a6c7ff1f787\">OneHotEncoder</label><div class=\"sk-toggleable__content\"><pre>OneHotEncoder(sparse=False)</pre></div></div></div></div></div></div><div class=\"sk-parallel-item\"><div class=\"sk-item\"><div class=\"sk-label-container\"><div class=\"sk-label sk-toggleable\"><input class=\"sk-toggleable__control sk-hidden--visually\" id=\"05211911-ab23-4022-8a7d-a77935c6cfb3\" type=\"checkbox\" ><label class=\"sk-toggleable__label\" for=\"05211911-ab23-4022-8a7d-a77935c6cfb3\">ordinalencoder</label><div class=\"sk-toggleable__content\"><pre>[1]</pre></div></div></div><div class=\"sk-serial\"><div class=\"sk-item\"><div class=\"sk-estimator sk-toggleable\"><input class=\"sk-toggleable__control sk-hidden--visually\" id=\"ec93b76c-921f-4ee0-a263-102c54897205\" type=\"checkbox\" ><label class=\"sk-toggleable__label\" for=\"ec93b76c-921f-4ee0-a263-102c54897205\">OrdinalEncoder</label><div class=\"sk-toggleable__content\"><pre>OrdinalEncoder()</pre></div></div></div></div></div></div></div></div><div class=\"sk-item\"><div class=\"sk-estimator sk-toggleable\"><input class=\"sk-toggleable__control sk-hidden--visually\" id=\"a81008b7-4479-451b-aa48-6105d4a66fdc\" type=\"checkbox\" ><label class=\"sk-toggleable__label\" for=\"a81008b7-4479-451b-aa48-6105d4a66fdc\">LinearSVC</label><div class=\"sk-toggleable__content\"><pre>LinearSVC()</pre></div></div></div></div></div></div></div>"
      ],
      "text/plain": [
       "Pipeline(steps=[('columntransformer',\n",
       "                 ColumnTransformer(remainder='passthrough',\n",
       "                                   transformers=[('onehotencoder',\n",
       "                                                  OneHotEncoder(sparse=False),\n",
       "                                                  [2]),\n",
       "                                                 ('ordinalencoder',\n",
       "                                                  OrdinalEncoder(), [1])])),\n",
       "                ('linearsvc', LinearSVC())])"
      ]
     },
     "execution_count": 31,
     "metadata": {},
     "output_type": "execute_result"
    }
   ],
   "source": [
    "pipe_svc=make_pipeline(trans,algo_svc)\n",
    "pipe_svc"
   ]
  },
  {
   "cell_type": "code",
   "execution_count": 32,
   "id": "b5827365",
   "metadata": {
    "execution": {
     "iopub.execute_input": "2023-01-25T05:23:07.514732Z",
     "iopub.status.busy": "2023-01-25T05:23:07.511036Z",
     "iopub.status.idle": "2023-01-25T05:23:07.757679Z",
     "shell.execute_reply": "2023-01-25T05:23:07.758655Z",
     "shell.execute_reply.started": "2022-01-31T12:36:51.998948Z"
    },
    "papermill": {
     "duration": 0.339217,
     "end_time": "2023-01-25T05:23:07.758913",
     "exception": false,
     "start_time": "2023-01-25T05:23:07.419696",
     "status": "completed"
    },
    "tags": []
   },
   "outputs": [
    {
     "name": "stderr",
     "output_type": "stream",
     "text": [
      "/opt/conda/lib/python3.7/site-packages/sklearn/svm/_base.py:977: ConvergenceWarning: Liblinear failed to converge, increase the number of iterations.\n",
      "  \"the number of iterations.\", ConvergenceWarning)\n"
     ]
    },
    {
     "data": {
      "text/html": [
       "<style>div.sk-top-container {color: black;background-color: white;}div.sk-toggleable {background-color: white;}label.sk-toggleable__label {cursor: pointer;display: block;width: 100%;margin-bottom: 0;padding: 0.2em 0.3em;box-sizing: border-box;text-align: center;}div.sk-toggleable__content {max-height: 0;max-width: 0;overflow: hidden;text-align: left;background-color: #f0f8ff;}div.sk-toggleable__content pre {margin: 0.2em;color: black;border-radius: 0.25em;background-color: #f0f8ff;}input.sk-toggleable__control:checked~div.sk-toggleable__content {max-height: 200px;max-width: 100%;overflow: auto;}div.sk-estimator input.sk-toggleable__control:checked~label.sk-toggleable__label {background-color: #d4ebff;}div.sk-label input.sk-toggleable__control:checked~label.sk-toggleable__label {background-color: #d4ebff;}input.sk-hidden--visually {border: 0;clip: rect(1px 1px 1px 1px);clip: rect(1px, 1px, 1px, 1px);height: 1px;margin: -1px;overflow: hidden;padding: 0;position: absolute;width: 1px;}div.sk-estimator {font-family: monospace;background-color: #f0f8ff;margin: 0.25em 0.25em;border: 1px dotted black;border-radius: 0.25em;box-sizing: border-box;}div.sk-estimator:hover {background-color: #d4ebff;}div.sk-parallel-item::after {content: \"\";width: 100%;border-bottom: 1px solid gray;flex-grow: 1;}div.sk-label:hover label.sk-toggleable__label {background-color: #d4ebff;}div.sk-serial::before {content: \"\";position: absolute;border-left: 1px solid gray;box-sizing: border-box;top: 2em;bottom: 0;left: 50%;}div.sk-serial {display: flex;flex-direction: column;align-items: center;background-color: white;}div.sk-item {z-index: 1;}div.sk-parallel {display: flex;align-items: stretch;justify-content: center;background-color: white;}div.sk-parallel-item {display: flex;flex-direction: column;position: relative;background-color: white;}div.sk-parallel-item:first-child::after {align-self: flex-end;width: 50%;}div.sk-parallel-item:last-child::after {align-self: flex-start;width: 50%;}div.sk-parallel-item:only-child::after {width: 0;}div.sk-dashed-wrapped {border: 1px dashed gray;margin: 0.2em;box-sizing: border-box;padding-bottom: 0.1em;background-color: white;position: relative;}div.sk-label label {font-family: monospace;font-weight: bold;background-color: white;display: inline-block;line-height: 1.2em;}div.sk-label-container {position: relative;z-index: 2;text-align: center;}div.sk-container {display: inline-block;position: relative;}</style><div class=\"sk-top-container\"><div class=\"sk-container\"><div class=\"sk-item sk-dashed-wrapped\"><div class=\"sk-label-container\"><div class=\"sk-label sk-toggleable\"><input class=\"sk-toggleable__control sk-hidden--visually\" id=\"5ee2c0f7-5816-49a1-812c-5c94cc2d4e5d\" type=\"checkbox\" ><label class=\"sk-toggleable__label\" for=\"5ee2c0f7-5816-49a1-812c-5c94cc2d4e5d\">Pipeline</label><div class=\"sk-toggleable__content\"><pre>Pipeline(steps=[('columntransformer',\n",
       "                 ColumnTransformer(remainder='passthrough',\n",
       "                                   transformers=[('onehotencoder',\n",
       "                                                  OneHotEncoder(sparse=False),\n",
       "                                                  [2]),\n",
       "                                                 ('ordinalencoder',\n",
       "                                                  OrdinalEncoder(), [1])])),\n",
       "                ('linearsvc', LinearSVC())])</pre></div></div></div><div class=\"sk-serial\"><div class=\"sk-item sk-dashed-wrapped\"><div class=\"sk-label-container\"><div class=\"sk-label sk-toggleable\"><input class=\"sk-toggleable__control sk-hidden--visually\" id=\"8d9dc172-b74c-498e-bafa-eb2a15b0d67d\" type=\"checkbox\" ><label class=\"sk-toggleable__label\" for=\"8d9dc172-b74c-498e-bafa-eb2a15b0d67d\">columntransformer: ColumnTransformer</label><div class=\"sk-toggleable__content\"><pre>ColumnTransformer(remainder='passthrough',\n",
       "                  transformers=[('onehotencoder', OneHotEncoder(sparse=False),\n",
       "                                 [2]),\n",
       "                                ('ordinalencoder', OrdinalEncoder(), [1])])</pre></div></div></div><div class=\"sk-parallel\"><div class=\"sk-parallel-item\"><div class=\"sk-item\"><div class=\"sk-label-container\"><div class=\"sk-label sk-toggleable\"><input class=\"sk-toggleable__control sk-hidden--visually\" id=\"e1c42612-43eb-4561-9791-a1ff0d8b78be\" type=\"checkbox\" ><label class=\"sk-toggleable__label\" for=\"e1c42612-43eb-4561-9791-a1ff0d8b78be\">onehotencoder</label><div class=\"sk-toggleable__content\"><pre>[2]</pre></div></div></div><div class=\"sk-serial\"><div class=\"sk-item\"><div class=\"sk-estimator sk-toggleable\"><input class=\"sk-toggleable__control sk-hidden--visually\" id=\"627509b3-754f-4ec0-9869-cc9a9a4c6287\" type=\"checkbox\" ><label class=\"sk-toggleable__label\" for=\"627509b3-754f-4ec0-9869-cc9a9a4c6287\">OneHotEncoder</label><div class=\"sk-toggleable__content\"><pre>OneHotEncoder(sparse=False)</pre></div></div></div></div></div></div><div class=\"sk-parallel-item\"><div class=\"sk-item\"><div class=\"sk-label-container\"><div class=\"sk-label sk-toggleable\"><input class=\"sk-toggleable__control sk-hidden--visually\" id=\"7b5990ec-9470-4bd9-bcdb-61d24c05a61d\" type=\"checkbox\" ><label class=\"sk-toggleable__label\" for=\"7b5990ec-9470-4bd9-bcdb-61d24c05a61d\">ordinalencoder</label><div class=\"sk-toggleable__content\"><pre>[1]</pre></div></div></div><div class=\"sk-serial\"><div class=\"sk-item\"><div class=\"sk-estimator sk-toggleable\"><input class=\"sk-toggleable__control sk-hidden--visually\" id=\"bc225109-5f2b-4dba-a5da-45ebdbb756e7\" type=\"checkbox\" ><label class=\"sk-toggleable__label\" for=\"bc225109-5f2b-4dba-a5da-45ebdbb756e7\">OrdinalEncoder</label><div class=\"sk-toggleable__content\"><pre>OrdinalEncoder()</pre></div></div></div></div></div></div></div></div><div class=\"sk-item\"><div class=\"sk-estimator sk-toggleable\"><input class=\"sk-toggleable__control sk-hidden--visually\" id=\"addb66cb-092a-453c-9532-6942e8c98c85\" type=\"checkbox\" ><label class=\"sk-toggleable__label\" for=\"addb66cb-092a-453c-9532-6942e8c98c85\">LinearSVC</label><div class=\"sk-toggleable__content\"><pre>LinearSVC()</pre></div></div></div></div></div></div></div>"
      ],
      "text/plain": [
       "Pipeline(steps=[('columntransformer',\n",
       "                 ColumnTransformer(remainder='passthrough',\n",
       "                                   transformers=[('onehotencoder',\n",
       "                                                  OneHotEncoder(sparse=False),\n",
       "                                                  [2]),\n",
       "                                                 ('ordinalencoder',\n",
       "                                                  OrdinalEncoder(), [1])])),\n",
       "                ('linearsvc', LinearSVC())])"
      ]
     },
     "execution_count": 32,
     "metadata": {},
     "output_type": "execute_result"
    }
   ],
   "source": [
    "pipe_svc.fit(x_train,y_train)"
   ]
  },
  {
   "cell_type": "code",
   "execution_count": 33,
   "id": "497dc85d",
   "metadata": {
    "execution": {
     "iopub.execute_input": "2023-01-25T05:23:07.933097Z",
     "iopub.status.busy": "2023-01-25T05:23:07.932079Z",
     "iopub.status.idle": "2023-01-25T05:23:07.948524Z",
     "shell.execute_reply": "2023-01-25T05:23:07.949811Z",
     "shell.execute_reply.started": "2022-01-31T12:36:52.177495Z"
    },
    "papermill": {
     "duration": 0.107665,
     "end_time": "2023-01-25T05:23:07.950154",
     "exception": false,
     "start_time": "2023-01-25T05:23:07.842489",
     "status": "completed"
    },
    "tags": []
   },
   "outputs": [
    {
     "data": {
      "text/plain": [
       "array([1, 0, 0, 0, 0, 0, 0, 0, 0, 0, 0, 0, 0, 1, 0, 0, 1, 0, 0, 0, 0, 0,\n",
       "       0, 0, 0, 0, 0, 0, 0, 0, 0, 0, 0, 0, 1, 0, 0, 0, 0, 0, 0, 0, 0, 0,\n",
       "       0, 0, 0, 0, 0, 0, 0, 0, 0, 0, 0, 0, 0, 0, 0, 0, 1, 1, 0, 0, 0, 0,\n",
       "       0, 0, 0, 1, 0, 0, 0, 0, 0, 0, 0, 0, 0, 0, 0, 0, 0, 0, 0, 0, 0, 0,\n",
       "       0, 0, 0, 0, 0, 0, 0, 0, 0, 0, 0, 0, 0, 0, 0, 0, 0, 0, 0, 0, 0, 0,\n",
       "       0, 0, 1, 0, 0, 0, 1, 0, 0, 0, 0, 0, 0, 0, 0, 0, 0, 0, 0, 0, 0, 0,\n",
       "       0, 0, 0, 0, 0, 0, 0, 0, 0, 0, 0, 0, 0, 0, 0, 0, 0, 0, 0, 0, 0, 0,\n",
       "       0, 0, 0, 0, 0, 0, 0, 0, 0, 0, 0, 0, 0, 1, 0, 0, 0, 0, 0, 0, 0, 0,\n",
       "       0, 0, 0, 0, 0, 0, 0, 0, 0, 0, 0, 0, 0, 0, 0, 0, 0, 0, 0, 0, 0, 0,\n",
       "       0, 0, 0, 0, 0, 0, 0, 0, 0, 0, 0, 0, 0, 0, 0, 0, 0, 0, 0, 0, 0, 0,\n",
       "       1, 0, 0, 0, 0, 0, 0, 0, 0, 0, 0, 0, 0, 0, 0, 0, 0, 1, 0, 0, 0, 0,\n",
       "       0, 0, 0, 0, 0, 0, 0, 0, 0, 0, 0, 0, 0, 0, 0, 0, 0, 0, 0, 1, 0, 0,\n",
       "       0, 0, 0, 0, 0, 0, 0, 0, 0, 1, 0, 0, 0, 0, 0, 0, 0, 0, 0, 0, 0, 1,\n",
       "       0, 0, 0, 0, 0, 0, 0, 0, 0, 0, 0, 0, 0, 1, 0, 0, 0, 0, 0, 0, 0, 0,\n",
       "       0, 0, 0, 0, 0, 0, 0, 0, 0, 0, 1, 0, 0, 0, 0, 0, 0, 0, 0, 0, 0, 0,\n",
       "       0, 0, 0, 0, 0, 0, 0, 0, 0, 0, 0, 0, 0, 0, 0, 0, 0, 0, 0, 0, 0, 0,\n",
       "       0, 0, 0, 0, 0, 0, 0, 0, 0, 0, 0, 0, 1, 0, 0, 0, 0, 0, 0, 0, 0, 0,\n",
       "       0, 0, 0, 0, 0, 0, 0, 0, 0, 0, 0, 0, 1, 0, 0, 0, 0, 0, 0, 0, 0, 0,\n",
       "       0, 0, 0, 0, 0, 0, 0, 0, 0, 0, 0, 0, 0, 0, 0, 0, 0, 0, 0, 0, 0, 0,\n",
       "       0, 0, 0, 0, 0, 0, 0, 0, 0, 0, 0, 0, 0, 0, 0, 0, 0, 0, 0, 0, 1, 1,\n",
       "       0, 0, 0, 0, 0, 0, 0, 0, 0, 0, 0, 0, 0, 0, 0, 0, 0, 0, 0, 0, 0, 0,\n",
       "       0, 0, 0, 0, 0, 0, 0, 0, 0, 0, 0, 0, 0, 0, 0, 0, 0, 0, 0, 0, 0, 0,\n",
       "       0, 0, 0, 0, 0, 0, 0, 0, 0, 0, 0, 0, 0, 0, 0, 0, 0, 0, 0, 0, 0, 0,\n",
       "       0, 0, 0, 0, 0, 0, 0, 0, 0, 0, 0, 0, 0, 0, 0, 0, 0, 0, 0, 0, 0, 0,\n",
       "       0, 0, 0, 0, 1, 0, 0, 0, 0, 0, 0, 0, 0, 0, 0, 0, 0, 0, 0, 0, 0, 0,\n",
       "       0, 0, 0, 0, 0, 1, 0, 0, 1, 1, 0, 0, 0, 0, 0, 0, 0, 0, 0, 0, 0, 1,\n",
       "       0, 0, 0, 0, 0, 0, 0, 0, 0, 0, 0, 0, 0, 0, 0, 0, 0, 0, 0, 0, 0, 0,\n",
       "       0, 0, 0, 0, 0, 0, 0, 0, 0, 0, 0, 0, 0, 0, 0, 0, 0, 0, 0, 0, 0, 0,\n",
       "       0, 0, 0, 0, 0, 0, 1, 0, 0, 0, 0, 0, 0, 0, 0, 0, 0, 0, 0, 1, 0, 0,\n",
       "       0, 0, 0, 0, 0, 0, 0, 0, 0, 0, 0, 0, 0, 0, 0, 0, 0, 0, 0, 0, 0, 0,\n",
       "       0, 0, 0, 0, 0, 0, 0, 0, 0, 0, 0, 0, 0, 0, 0, 0, 0, 0, 0, 0, 0, 0,\n",
       "       0, 0, 0, 0, 0, 0, 0, 0, 0, 0, 0, 0, 0, 1, 0, 0, 0, 0, 0, 0, 0, 0,\n",
       "       0, 0, 0, 0, 0, 0, 1, 0, 0, 0, 0, 0, 0, 0, 0, 0, 0, 0, 0, 0, 0, 0,\n",
       "       0, 0, 0, 0, 0, 0, 0, 0, 0, 0, 0, 0, 0, 0, 0, 0, 0, 0, 0, 0, 0, 0,\n",
       "       0, 0, 0, 0, 0, 0, 0, 0, 0, 0, 0, 0, 0, 0, 0, 0, 0, 0, 0, 0, 0, 0,\n",
       "       1, 0, 0, 0, 0, 0, 0, 0, 0, 0, 0, 0, 0, 0])"
      ]
     },
     "execution_count": 33,
     "metadata": {},
     "output_type": "execute_result"
    }
   ],
   "source": [
    "pred_svc=pipe_svc.predict(x_test)\n",
    "pred_svc"
   ]
  },
  {
   "cell_type": "code",
   "execution_count": 34,
   "id": "26df1f0c",
   "metadata": {
    "execution": {
     "iopub.execute_input": "2023-01-25T05:23:08.193614Z",
     "iopub.status.busy": "2023-01-25T05:23:08.192529Z",
     "iopub.status.idle": "2023-01-25T05:23:08.196459Z",
     "shell.execute_reply": "2023-01-25T05:23:08.197048Z",
     "shell.execute_reply.started": "2022-01-31T12:36:52.204557Z"
    },
    "papermill": {
     "duration": 0.094419,
     "end_time": "2023-01-25T05:23:08.197227",
     "exception": false,
     "start_time": "2023-01-25T05:23:08.102808",
     "status": "completed"
    },
    "tags": []
   },
   "outputs": [
    {
     "data": {
      "text/plain": [
       "83.80102040816327"
      ]
     },
     "execution_count": 34,
     "metadata": {},
     "output_type": "execute_result"
    }
   ],
   "source": [
    "accuracy_score(pred_svc,y_test)*100"
   ]
  },
  {
   "cell_type": "code",
   "execution_count": 35,
   "id": "f58e694a",
   "metadata": {
    "execution": {
     "iopub.execute_input": "2023-01-25T05:23:08.371501Z",
     "iopub.status.busy": "2023-01-25T05:23:08.370791Z",
     "iopub.status.idle": "2023-01-25T05:23:08.374560Z",
     "shell.execute_reply": "2023-01-25T05:23:08.375125Z",
     "shell.execute_reply.started": "2022-01-31T12:36:52.224981Z"
    },
    "papermill": {
     "duration": 0.091845,
     "end_time": "2023-01-25T05:23:08.375301",
     "exception": false,
     "start_time": "2023-01-25T05:23:08.283456",
     "status": "completed"
    },
    "tags": []
   },
   "outputs": [],
   "source": [
    "from sklearn.tree import DecisionTreeClassifier\n",
    "algo_d=DecisionTreeClassifier()"
   ]
  },
  {
   "cell_type": "code",
   "execution_count": 36,
   "id": "86ff9567",
   "metadata": {
    "execution": {
     "iopub.execute_input": "2023-01-25T05:23:08.548339Z",
     "iopub.status.busy": "2023-01-25T05:23:08.547656Z",
     "iopub.status.idle": "2023-01-25T05:23:08.598261Z",
     "shell.execute_reply": "2023-01-25T05:23:08.597676Z",
     "shell.execute_reply.started": "2022-01-31T12:36:52.239737Z"
    },
    "papermill": {
     "duration": 0.138242,
     "end_time": "2023-01-25T05:23:08.598464",
     "exception": false,
     "start_time": "2023-01-25T05:23:08.460222",
     "status": "completed"
    },
    "tags": []
   },
   "outputs": [
    {
     "data": {
      "text/html": [
       "<style>div.sk-top-container {color: black;background-color: white;}div.sk-toggleable {background-color: white;}label.sk-toggleable__label {cursor: pointer;display: block;width: 100%;margin-bottom: 0;padding: 0.2em 0.3em;box-sizing: border-box;text-align: center;}div.sk-toggleable__content {max-height: 0;max-width: 0;overflow: hidden;text-align: left;background-color: #f0f8ff;}div.sk-toggleable__content pre {margin: 0.2em;color: black;border-radius: 0.25em;background-color: #f0f8ff;}input.sk-toggleable__control:checked~div.sk-toggleable__content {max-height: 200px;max-width: 100%;overflow: auto;}div.sk-estimator input.sk-toggleable__control:checked~label.sk-toggleable__label {background-color: #d4ebff;}div.sk-label input.sk-toggleable__control:checked~label.sk-toggleable__label {background-color: #d4ebff;}input.sk-hidden--visually {border: 0;clip: rect(1px 1px 1px 1px);clip: rect(1px, 1px, 1px, 1px);height: 1px;margin: -1px;overflow: hidden;padding: 0;position: absolute;width: 1px;}div.sk-estimator {font-family: monospace;background-color: #f0f8ff;margin: 0.25em 0.25em;border: 1px dotted black;border-radius: 0.25em;box-sizing: border-box;}div.sk-estimator:hover {background-color: #d4ebff;}div.sk-parallel-item::after {content: \"\";width: 100%;border-bottom: 1px solid gray;flex-grow: 1;}div.sk-label:hover label.sk-toggleable__label {background-color: #d4ebff;}div.sk-serial::before {content: \"\";position: absolute;border-left: 1px solid gray;box-sizing: border-box;top: 2em;bottom: 0;left: 50%;}div.sk-serial {display: flex;flex-direction: column;align-items: center;background-color: white;}div.sk-item {z-index: 1;}div.sk-parallel {display: flex;align-items: stretch;justify-content: center;background-color: white;}div.sk-parallel-item {display: flex;flex-direction: column;position: relative;background-color: white;}div.sk-parallel-item:first-child::after {align-self: flex-end;width: 50%;}div.sk-parallel-item:last-child::after {align-self: flex-start;width: 50%;}div.sk-parallel-item:only-child::after {width: 0;}div.sk-dashed-wrapped {border: 1px dashed gray;margin: 0.2em;box-sizing: border-box;padding-bottom: 0.1em;background-color: white;position: relative;}div.sk-label label {font-family: monospace;font-weight: bold;background-color: white;display: inline-block;line-height: 1.2em;}div.sk-label-container {position: relative;z-index: 2;text-align: center;}div.sk-container {display: inline-block;position: relative;}</style><div class=\"sk-top-container\"><div class=\"sk-container\"><div class=\"sk-item sk-dashed-wrapped\"><div class=\"sk-label-container\"><div class=\"sk-label sk-toggleable\"><input class=\"sk-toggleable__control sk-hidden--visually\" id=\"bd9545c9-b1b4-4239-adfb-98818b93987b\" type=\"checkbox\" ><label class=\"sk-toggleable__label\" for=\"bd9545c9-b1b4-4239-adfb-98818b93987b\">Pipeline</label><div class=\"sk-toggleable__content\"><pre>Pipeline(steps=[('columntransformer',\n",
       "                 ColumnTransformer(remainder='passthrough',\n",
       "                                   transformers=[('onehotencoder',\n",
       "                                                  OneHotEncoder(sparse=False),\n",
       "                                                  [2]),\n",
       "                                                 ('ordinalencoder',\n",
       "                                                  OrdinalEncoder(), [1])])),\n",
       "                ('gridsearchcv',\n",
       "                 GridSearchCV(estimator=DecisionTreeClassifier(),\n",
       "                              param_grid={'criterion': ['gini', 'entropy'],\n",
       "                                          'max_depth': [None, 2, 5, 10],\n",
       "                                          'min_samples_split': [2, 10, 100]},\n",
       "                              verbose=3))])</pre></div></div></div><div class=\"sk-serial\"><div class=\"sk-item sk-dashed-wrapped\"><div class=\"sk-label-container\"><div class=\"sk-label sk-toggleable\"><input class=\"sk-toggleable__control sk-hidden--visually\" id=\"a376a4ab-6482-4a60-968f-53cd36c09572\" type=\"checkbox\" ><label class=\"sk-toggleable__label\" for=\"a376a4ab-6482-4a60-968f-53cd36c09572\">columntransformer: ColumnTransformer</label><div class=\"sk-toggleable__content\"><pre>ColumnTransformer(remainder='passthrough',\n",
       "                  transformers=[('onehotencoder', OneHotEncoder(sparse=False),\n",
       "                                 [2]),\n",
       "                                ('ordinalencoder', OrdinalEncoder(), [1])])</pre></div></div></div><div class=\"sk-parallel\"><div class=\"sk-parallel-item\"><div class=\"sk-item\"><div class=\"sk-label-container\"><div class=\"sk-label sk-toggleable\"><input class=\"sk-toggleable__control sk-hidden--visually\" id=\"be59264a-dd35-4ff2-8a6e-03d84fe05845\" type=\"checkbox\" ><label class=\"sk-toggleable__label\" for=\"be59264a-dd35-4ff2-8a6e-03d84fe05845\">onehotencoder</label><div class=\"sk-toggleable__content\"><pre>[2]</pre></div></div></div><div class=\"sk-serial\"><div class=\"sk-item\"><div class=\"sk-estimator sk-toggleable\"><input class=\"sk-toggleable__control sk-hidden--visually\" id=\"4d3a1b44-0a14-486d-a5a5-22776a02c0c2\" type=\"checkbox\" ><label class=\"sk-toggleable__label\" for=\"4d3a1b44-0a14-486d-a5a5-22776a02c0c2\">OneHotEncoder</label><div class=\"sk-toggleable__content\"><pre>OneHotEncoder(sparse=False)</pre></div></div></div></div></div></div><div class=\"sk-parallel-item\"><div class=\"sk-item\"><div class=\"sk-label-container\"><div class=\"sk-label sk-toggleable\"><input class=\"sk-toggleable__control sk-hidden--visually\" id=\"f7a7b67e-9602-46f3-a1c3-e1b0ab29b0af\" type=\"checkbox\" ><label class=\"sk-toggleable__label\" for=\"f7a7b67e-9602-46f3-a1c3-e1b0ab29b0af\">ordinalencoder</label><div class=\"sk-toggleable__content\"><pre>[1]</pre></div></div></div><div class=\"sk-serial\"><div class=\"sk-item\"><div class=\"sk-estimator sk-toggleable\"><input class=\"sk-toggleable__control sk-hidden--visually\" id=\"5962985e-f02c-491c-afcf-8e154fd9e821\" type=\"checkbox\" ><label class=\"sk-toggleable__label\" for=\"5962985e-f02c-491c-afcf-8e154fd9e821\">OrdinalEncoder</label><div class=\"sk-toggleable__content\"><pre>OrdinalEncoder()</pre></div></div></div></div></div></div></div></div><div class=\"sk-item sk-dashed-wrapped\"><div class=\"sk-label-container\"><div class=\"sk-label sk-toggleable\"><input class=\"sk-toggleable__control sk-hidden--visually\" id=\"9fd0f97d-3f2e-4910-8257-2f19fbe98a48\" type=\"checkbox\" ><label class=\"sk-toggleable__label\" for=\"9fd0f97d-3f2e-4910-8257-2f19fbe98a48\">gridsearchcv: GridSearchCV</label><div class=\"sk-toggleable__content\"><pre>GridSearchCV(estimator=DecisionTreeClassifier(),\n",
       "             param_grid={'criterion': ['gini', 'entropy'],\n",
       "                         'max_depth': [None, 2, 5, 10],\n",
       "                         'min_samples_split': [2, 10, 100]},\n",
       "             verbose=3)</pre></div></div></div><div class=\"sk-parallel\"><div class=\"sk-parallel-item\"><div class=\"sk-item\"><div class=\"sk-serial\"><div class=\"sk-item\"><div class=\"sk-estimator sk-toggleable\"><input class=\"sk-toggleable__control sk-hidden--visually\" id=\"eddb87d8-d61c-425c-8d82-0532738e5021\" type=\"checkbox\" ><label class=\"sk-toggleable__label\" for=\"eddb87d8-d61c-425c-8d82-0532738e5021\">DecisionTreeClassifier</label><div class=\"sk-toggleable__content\"><pre>DecisionTreeClassifier()</pre></div></div></div></div></div></div></div></div></div></div></div></div>"
      ],
      "text/plain": [
       "Pipeline(steps=[('columntransformer',\n",
       "                 ColumnTransformer(remainder='passthrough',\n",
       "                                   transformers=[('onehotencoder',\n",
       "                                                  OneHotEncoder(sparse=False),\n",
       "                                                  [2]),\n",
       "                                                 ('ordinalencoder',\n",
       "                                                  OrdinalEncoder(), [1])])),\n",
       "                ('gridsearchcv',\n",
       "                 GridSearchCV(estimator=DecisionTreeClassifier(),\n",
       "                              param_grid={'criterion': ['gini', 'entropy'],\n",
       "                                          'max_depth': [None, 2, 5, 10],\n",
       "                                          'min_samples_split': [2, 10, 100]},\n",
       "                              verbose=3))])"
      ]
     },
     "execution_count": 36,
     "metadata": {},
     "output_type": "execute_result"
    }
   ],
   "source": [
    "from sklearn.model_selection import GridSearchCV\n",
    "params={'criterion':['gini','entropy'],'max_depth':[None,2,5,10],'min_samples_split':[2,10,100]}\n",
    "pipe_g=make_pipeline(trans,GridSearchCV(algo_d,params,verbose=3,refit=True))\n",
    "pipe_g"
   ]
  },
  {
   "cell_type": "code",
   "execution_count": 37,
   "id": "799b854d",
   "metadata": {
    "execution": {
     "iopub.execute_input": "2023-01-25T05:23:08.803220Z",
     "iopub.status.busy": "2023-01-25T05:23:08.802501Z",
     "iopub.status.idle": "2023-01-25T05:23:10.221430Z",
     "shell.execute_reply": "2023-01-25T05:23:10.220885Z",
     "shell.execute_reply.started": "2022-01-31T12:36:52.323223Z"
    },
    "papermill": {
     "duration": 1.509658,
     "end_time": "2023-01-25T05:23:10.221588",
     "exception": false,
     "start_time": "2023-01-25T05:23:08.711930",
     "status": "completed"
    },
    "tags": []
   },
   "outputs": [
    {
     "name": "stdout",
     "output_type": "stream",
     "text": [
      "Fitting 5 folds for each of 24 candidates, totalling 120 fits\n",
      "[CV] criterion=gini, max_depth=None, min_samples_split=2 .............\n",
      "[CV]  criterion=gini, max_depth=None, min_samples_split=2, score=0.788, total=   0.0s\n",
      "[CV] criterion=gini, max_depth=None, min_samples_split=2 .............\n",
      "[CV]  criterion=gini, max_depth=None, min_samples_split=2, score=0.832, total=   0.0s\n",
      "[CV] criterion=gini, max_depth=None, min_samples_split=2 .............\n",
      "[CV]  criterion=gini, max_depth=None, min_samples_split=2, score=0.845, total=   0.0s\n",
      "[CV] criterion=gini, max_depth=None, min_samples_split=2 .............\n",
      "[CV]  criterion=gini, max_depth=None, min_samples_split=2, score=0.849, total=   0.0s\n",
      "[CV] criterion=gini, max_depth=None, min_samples_split=2 .............\n",
      "[CV]  criterion=gini, max_depth=None, min_samples_split=2, score=0.873, total=   0.0s\n",
      "[CV] criterion=gini, max_depth=None, min_samples_split=10 ............\n",
      "[CV]  criterion=gini, max_depth=None, min_samples_split=10, score=0.801, total=   0.0s\n",
      "[CV] criterion=gini, max_depth=None, min_samples_split=10 ............\n",
      "[CV]  criterion=gini, max_depth=None, min_samples_split=10, score=0.825, total=   0.0s\n",
      "[CV] criterion=gini, max_depth=None, min_samples_split=10 ............\n",
      "[CV]  criterion=gini, max_depth=None, min_samples_split=10, score=0.842, total=   0.0s\n",
      "[CV] criterion=gini, max_depth=None, min_samples_split=10 ............\n",
      "[CV]  criterion=gini, max_depth=None, min_samples_split=10, score=0.845, total=   0.0s\n",
      "[CV] criterion=gini, max_depth=None, min_samples_split=10 ............\n",
      "[CV]  criterion=gini, max_depth=None, min_samples_split=10, score=0.859, total=   0.0s\n",
      "[CV] criterion=gini, max_depth=None, min_samples_split=100 ...........\n",
      "[CV]  criterion=gini, max_depth=None, min_samples_split=100, score=0.822, total=   0.0s\n",
      "[CV] criterion=gini, max_depth=None, min_samples_split=100 ...........\n",
      "[CV]  criterion=gini, max_depth=None, min_samples_split=100, score=0.863, total=   0.0s\n",
      "[CV] criterion=gini, max_depth=None, min_samples_split=100 ...........\n"
     ]
    },
    {
     "name": "stderr",
     "output_type": "stream",
     "text": [
      "[Parallel(n_jobs=1)]: Using backend SequentialBackend with 1 concurrent workers.\n",
      "[Parallel(n_jobs=1)]: Done   1 out of   1 | elapsed:    0.0s remaining:    0.0s\n",
      "[Parallel(n_jobs=1)]: Done   2 out of   2 | elapsed:    0.0s remaining:    0.0s\n"
     ]
    },
    {
     "name": "stdout",
     "output_type": "stream",
     "text": [
      "[CV]  criterion=gini, max_depth=None, min_samples_split=100, score=0.835, total=   0.0s\n",
      "[CV] criterion=gini, max_depth=None, min_samples_split=100 ...........\n",
      "[CV]  criterion=gini, max_depth=None, min_samples_split=100, score=0.821, total=   0.0s\n",
      "[CV] criterion=gini, max_depth=None, min_samples_split=100 ...........\n",
      "[CV]  criterion=gini, max_depth=None, min_samples_split=100, score=0.849, total=   0.0s\n",
      "[CV] criterion=gini, max_depth=2, min_samples_split=2 ................\n",
      "[CV]  criterion=gini, max_depth=2, min_samples_split=2, score=0.856, total=   0.0s\n",
      "[CV] criterion=gini, max_depth=2, min_samples_split=2 ................\n",
      "[CV]  criterion=gini, max_depth=2, min_samples_split=2, score=0.859, total=   0.0s\n",
      "[CV] criterion=gini, max_depth=2, min_samples_split=2 ................\n",
      "[CV]  criterion=gini, max_depth=2, min_samples_split=2, score=0.842, total=   0.0s\n",
      "[CV] criterion=gini, max_depth=2, min_samples_split=2 ................\n",
      "[CV]  criterion=gini, max_depth=2, min_samples_split=2, score=0.859, total=   0.0s\n",
      "[CV] criterion=gini, max_depth=2, min_samples_split=2 ................\n",
      "[CV]  criterion=gini, max_depth=2, min_samples_split=2, score=0.859, total=   0.0s\n",
      "[CV] criterion=gini, max_depth=2, min_samples_split=10 ...............\n",
      "[CV]  criterion=gini, max_depth=2, min_samples_split=10, score=0.856, total=   0.0s\n",
      "[CV] criterion=gini, max_depth=2, min_samples_split=10 ...............\n",
      "[CV]  criterion=gini, max_depth=2, min_samples_split=10, score=0.859, total=   0.0s\n",
      "[CV] criterion=gini, max_depth=2, min_samples_split=10 ...............\n",
      "[CV]  criterion=gini, max_depth=2, min_samples_split=10, score=0.842, total=   0.0s\n",
      "[CV] criterion=gini, max_depth=2, min_samples_split=10 ...............\n",
      "[CV]  criterion=gini, max_depth=2, min_samples_split=10, score=0.859, total=   0.0s\n",
      "[CV] criterion=gini, max_depth=2, min_samples_split=10 ...............\n",
      "[CV]  criterion=gini, max_depth=2, min_samples_split=10, score=0.859, total=   0.0s\n",
      "[CV] criterion=gini, max_depth=2, min_samples_split=100 ..............\n",
      "[CV]  criterion=gini, max_depth=2, min_samples_split=100, score=0.863, total=   0.0s\n",
      "[CV] criterion=gini, max_depth=2, min_samples_split=100 ..............\n",
      "[CV]  criterion=gini, max_depth=2, min_samples_split=100, score=0.866, total=   0.0s\n",
      "[CV] criterion=gini, max_depth=2, min_samples_split=100 ..............\n",
      "[CV]  criterion=gini, max_depth=2, min_samples_split=100, score=0.852, total=   0.0s\n",
      "[CV] criterion=gini, max_depth=2, min_samples_split=100 ..............\n",
      "[CV]  criterion=gini, max_depth=2, min_samples_split=100, score=0.845, total=   0.0s\n",
      "[CV] criterion=gini, max_depth=2, min_samples_split=100 ..............\n",
      "[CV]  criterion=gini, max_depth=2, min_samples_split=100, score=0.852, total=   0.0s\n",
      "[CV] criterion=gini, max_depth=5, min_samples_split=2 ................\n",
      "[CV]  criterion=gini, max_depth=5, min_samples_split=2, score=0.839, total=   0.0s\n",
      "[CV] criterion=gini, max_depth=5, min_samples_split=2 ................\n",
      "[CV]  criterion=gini, max_depth=5, min_samples_split=2, score=0.873, total=   0.0s\n",
      "[CV] criterion=gini, max_depth=5, min_samples_split=2 ................\n",
      "[CV]  criterion=gini, max_depth=5, min_samples_split=2, score=0.859, total=   0.0s\n",
      "[CV] criterion=gini, max_depth=5, min_samples_split=2 ................\n",
      "[CV]  criterion=gini, max_depth=5, min_samples_split=2, score=0.849, total=   0.0s\n",
      "[CV] criterion=gini, max_depth=5, min_samples_split=2 ................\n",
      "[CV]  criterion=gini, max_depth=5, min_samples_split=2, score=0.887, total=   0.0s\n",
      "[CV] criterion=gini, max_depth=5, min_samples_split=10 ...............\n",
      "[CV]  criterion=gini, max_depth=5, min_samples_split=10, score=0.839, total=   0.0s\n",
      "[CV] criterion=gini, max_depth=5, min_samples_split=10 ...............\n",
      "[CV]  criterion=gini, max_depth=5, min_samples_split=10, score=0.866, total=   0.0s\n",
      "[CV] criterion=gini, max_depth=5, min_samples_split=10 ...............\n",
      "[CV]  criterion=gini, max_depth=5, min_samples_split=10, score=0.859, total=   0.0s\n",
      "[CV] criterion=gini, max_depth=5, min_samples_split=10 ...............\n",
      "[CV]  criterion=gini, max_depth=5, min_samples_split=10, score=0.859, total=   0.0s\n",
      "[CV] criterion=gini, max_depth=5, min_samples_split=10 ...............\n",
      "[CV]  criterion=gini, max_depth=5, min_samples_split=10, score=0.890, total=   0.0s\n",
      "[CV] criterion=gini, max_depth=5, min_samples_split=100 ..............\n",
      "[CV]  criterion=gini, max_depth=5, min_samples_split=100, score=0.839, total=   0.0s\n",
      "[CV] criterion=gini, max_depth=5, min_samples_split=100 ..............\n",
      "[CV]  criterion=gini, max_depth=5, min_samples_split=100, score=0.866, total=   0.0s\n",
      "[CV] criterion=gini, max_depth=5, min_samples_split=100 ..............\n",
      "[CV]  criterion=gini, max_depth=5, min_samples_split=100, score=0.835, total=   0.0s\n",
      "[CV] criterion=gini, max_depth=5, min_samples_split=100 ..............\n",
      "[CV]  criterion=gini, max_depth=5, min_samples_split=100, score=0.838, total=   0.0s\n",
      "[CV] criterion=gini, max_depth=5, min_samples_split=100 ..............\n",
      "[CV]  criterion=gini, max_depth=5, min_samples_split=100, score=0.852, total=   0.0s\n",
      "[CV] criterion=gini, max_depth=10, min_samples_split=2 ...............\n",
      "[CV]  criterion=gini, max_depth=10, min_samples_split=2, score=0.812, total=   0.0s\n",
      "[CV] criterion=gini, max_depth=10, min_samples_split=2 ...............\n",
      "[CV]  criterion=gini, max_depth=10, min_samples_split=2, score=0.814, total=   0.0s\n",
      "[CV] criterion=gini, max_depth=10, min_samples_split=2 ...............\n",
      "[CV]  criterion=gini, max_depth=10, min_samples_split=2, score=0.842, total=   0.0s\n",
      "[CV] criterion=gini, max_depth=10, min_samples_split=2 ...............\n",
      "[CV]  criterion=gini, max_depth=10, min_samples_split=2, score=0.845, total=   0.0s\n",
      "[CV] criterion=gini, max_depth=10, min_samples_split=2 ...............\n",
      "[CV]  criterion=gini, max_depth=10, min_samples_split=2, score=0.880, total=   0.0s\n",
      "[CV] criterion=gini, max_depth=10, min_samples_split=10 ..............\n",
      "[CV]  criterion=gini, max_depth=10, min_samples_split=10, score=0.798, total=   0.0s\n",
      "[CV] criterion=gini, max_depth=10, min_samples_split=10 ..............\n",
      "[CV]  criterion=gini, max_depth=10, min_samples_split=10, score=0.832, total=   0.0s\n",
      "[CV] criterion=gini, max_depth=10, min_samples_split=10 ..............\n",
      "[CV]  criterion=gini, max_depth=10, min_samples_split=10, score=0.838, total=   0.0s\n",
      "[CV] criterion=gini, max_depth=10, min_samples_split=10 ..............\n",
      "[CV]  criterion=gini, max_depth=10, min_samples_split=10, score=0.845, total=   0.0s\n",
      "[CV] criterion=gini, max_depth=10, min_samples_split=10 ..............\n",
      "[CV]  criterion=gini, max_depth=10, min_samples_split=10, score=0.876, total=   0.0s\n",
      "[CV] criterion=gini, max_depth=10, min_samples_split=100 .............\n",
      "[CV]  criterion=gini, max_depth=10, min_samples_split=100, score=0.822, total=   0.0s\n",
      "[CV] criterion=gini, max_depth=10, min_samples_split=100 .............\n",
      "[CV]  criterion=gini, max_depth=10, min_samples_split=100, score=0.863, total=   0.0s\n",
      "[CV] criterion=gini, max_depth=10, min_samples_split=100 .............\n",
      "[CV]  criterion=gini, max_depth=10, min_samples_split=100, score=0.835, total=   0.0s\n",
      "[CV] criterion=gini, max_depth=10, min_samples_split=100 .............\n",
      "[CV]  criterion=gini, max_depth=10, min_samples_split=100, score=0.821, total=   0.0s\n",
      "[CV] criterion=gini, max_depth=10, min_samples_split=100 .............\n",
      "[CV]  criterion=gini, max_depth=10, min_samples_split=100, score=0.852, total=   0.0s\n",
      "[CV] criterion=entropy, max_depth=None, min_samples_split=2 ..........\n",
      "[CV]  criterion=entropy, max_depth=None, min_samples_split=2, score=0.822, total=   0.0s\n",
      "[CV] criterion=entropy, max_depth=None, min_samples_split=2 ..........\n",
      "[CV]  criterion=entropy, max_depth=None, min_samples_split=2, score=0.804, total=   0.0s\n",
      "[CV] criterion=entropy, max_depth=None, min_samples_split=2 ..........\n",
      "[CV]  criterion=entropy, max_depth=None, min_samples_split=2, score=0.852, total=   0.0s\n",
      "[CV] criterion=entropy, max_depth=None, min_samples_split=2 ..........\n",
      "[CV]  criterion=entropy, max_depth=None, min_samples_split=2, score=0.835, total=   0.0s\n",
      "[CV] criterion=entropy, max_depth=None, min_samples_split=2 ..........\n",
      "[CV]  criterion=entropy, max_depth=None, min_samples_split=2, score=0.825, total=   0.0s\n",
      "[CV] criterion=entropy, max_depth=None, min_samples_split=10 .........\n",
      "[CV]  criterion=entropy, max_depth=None, min_samples_split=10, score=0.812, total=   0.0s\n",
      "[CV] criterion=entropy, max_depth=None, min_samples_split=10 .........\n",
      "[CV]  criterion=entropy, max_depth=None, min_samples_split=10, score=0.801, total=   0.0s\n",
      "[CV] criterion=entropy, max_depth=None, min_samples_split=10 .........\n",
      "[CV]  criterion=entropy, max_depth=None, min_samples_split=10, score=0.852, total=   0.0s\n",
      "[CV] criterion=entropy, max_depth=None, min_samples_split=10 .........\n",
      "[CV]  criterion=entropy, max_depth=None, min_samples_split=10, score=0.825, total=   0.0s\n",
      "[CV] criterion=entropy, max_depth=None, min_samples_split=10 .........\n",
      "[CV]  criterion=entropy, max_depth=None, min_samples_split=10, score=0.852, total=   0.0s\n",
      "[CV] criterion=entropy, max_depth=None, min_samples_split=100 ........\n",
      "[CV]  criterion=entropy, max_depth=None, min_samples_split=100, score=0.863, total=   0.0s\n",
      "[CV] criterion=entropy, max_depth=None, min_samples_split=100 ........\n",
      "[CV]  criterion=entropy, max_depth=None, min_samples_split=100, score=0.849, total=   0.0s\n",
      "[CV] criterion=entropy, max_depth=None, min_samples_split=100 ........\n",
      "[CV]  criterion=entropy, max_depth=None, min_samples_split=100, score=0.856, total=   0.0s\n",
      "[CV] criterion=entropy, max_depth=None, min_samples_split=100 ........\n",
      "[CV]  criterion=entropy, max_depth=None, min_samples_split=100, score=0.856, total=   0.0s\n",
      "[CV] criterion=entropy, max_depth=None, min_samples_split=100 ........\n",
      "[CV]  criterion=entropy, max_depth=None, min_samples_split=100, score=0.842, total=   0.0s\n",
      "[CV] criterion=entropy, max_depth=2, min_samples_split=2 .............\n",
      "[CV]  criterion=entropy, max_depth=2, min_samples_split=2, score=0.856, total=   0.0s\n",
      "[CV] criterion=entropy, max_depth=2, min_samples_split=2 .............\n",
      "[CV]  criterion=entropy, max_depth=2, min_samples_split=2, score=0.859, total=   0.0s\n",
      "[CV] criterion=entropy, max_depth=2, min_samples_split=2 .............\n",
      "[CV]  criterion=entropy, max_depth=2, min_samples_split=2, score=0.842, total=   0.0s\n",
      "[CV] criterion=entropy, max_depth=2, min_samples_split=2 .............\n",
      "[CV]  criterion=entropy, max_depth=2, min_samples_split=2, score=0.859, total=   0.0s\n",
      "[CV] criterion=entropy, max_depth=2, min_samples_split=2 .............\n",
      "[CV]  criterion=entropy, max_depth=2, min_samples_split=2, score=0.859, total=   0.0s\n",
      "[CV] criterion=entropy, max_depth=2, min_samples_split=10 ............\n",
      "[CV]  criterion=entropy, max_depth=2, min_samples_split=10, score=0.856, total=   0.0s\n",
      "[CV] criterion=entropy, max_depth=2, min_samples_split=10 ............\n",
      "[CV]  criterion=entropy, max_depth=2, min_samples_split=10, score=0.859, total=   0.0s\n",
      "[CV] criterion=entropy, max_depth=2, min_samples_split=10 ............\n",
      "[CV]  criterion=entropy, max_depth=2, min_samples_split=10, score=0.842, total=   0.0s\n",
      "[CV] criterion=entropy, max_depth=2, min_samples_split=10 ............\n",
      "[CV]  criterion=entropy, max_depth=2, min_samples_split=10, score=0.859, total=   0.0s\n",
      "[CV] criterion=entropy, max_depth=2, min_samples_split=10 ............\n",
      "[CV]  criterion=entropy, max_depth=2, min_samples_split=10, score=0.859, total=   0.0s\n",
      "[CV] criterion=entropy, max_depth=2, min_samples_split=100 ...........\n",
      "[CV]  criterion=entropy, max_depth=2, min_samples_split=100, score=0.863, total=   0.0s\n",
      "[CV] criterion=entropy, max_depth=2, min_samples_split=100 ...........\n",
      "[CV]  criterion=entropy, max_depth=2, min_samples_split=100, score=0.866, total=   0.0s\n",
      "[CV] criterion=entropy, max_depth=2, min_samples_split=100 ...........\n",
      "[CV]  criterion=entropy, max_depth=2, min_samples_split=100, score=0.852, total=   0.0s\n",
      "[CV] criterion=entropy, max_depth=2, min_samples_split=100 ...........\n",
      "[CV]  criterion=entropy, max_depth=2, min_samples_split=100, score=0.845, total=   0.0s\n",
      "[CV] criterion=entropy, max_depth=2, min_samples_split=100 ...........\n",
      "[CV]  criterion=entropy, max_depth=2, min_samples_split=100, score=0.852, total=   0.0s\n",
      "[CV] criterion=entropy, max_depth=5, min_samples_split=2 .............\n",
      "[CV]  criterion=entropy, max_depth=5, min_samples_split=2, score=0.853, total=   0.0s\n",
      "[CV] criterion=entropy, max_depth=5, min_samples_split=2 .............\n",
      "[CV]  criterion=entropy, max_depth=5, min_samples_split=2, score=0.869, total=   0.0s\n",
      "[CV] criterion=entropy, max_depth=5, min_samples_split=2 .............\n",
      "[CV]  criterion=entropy, max_depth=5, min_samples_split=2, score=0.887, total=   0.0s\n",
      "[CV] criterion=entropy, max_depth=5, min_samples_split=2 .............\n",
      "[CV]  criterion=entropy, max_depth=5, min_samples_split=2, score=0.866, total=   0.0s\n",
      "[CV] criterion=entropy, max_depth=5, min_samples_split=2 .............\n",
      "[CV]  criterion=entropy, max_depth=5, min_samples_split=2, score=0.856, total=   0.0s\n",
      "[CV] criterion=entropy, max_depth=5, min_samples_split=10 ............\n",
      "[CV]  criterion=entropy, max_depth=5, min_samples_split=10, score=0.853, total=   0.0s\n",
      "[CV] criterion=entropy, max_depth=5, min_samples_split=10 ............\n",
      "[CV]  criterion=entropy, max_depth=5, min_samples_split=10, score=0.866, total=   0.0s\n",
      "[CV] criterion=entropy, max_depth=5, min_samples_split=10 ............\n",
      "[CV]  criterion=entropy, max_depth=5, min_samples_split=10, score=0.883, total=   0.0s\n",
      "[CV] criterion=entropy, max_depth=5, min_samples_split=10 ............\n",
      "[CV]  criterion=entropy, max_depth=5, min_samples_split=10, score=0.866, total=   0.0s\n",
      "[CV] criterion=entropy, max_depth=5, min_samples_split=10 ............\n",
      "[CV]  criterion=entropy, max_depth=5, min_samples_split=10, score=0.859, total=   0.0s\n",
      "[CV] criterion=entropy, max_depth=5, min_samples_split=100 ...........\n",
      "[CV]  criterion=entropy, max_depth=5, min_samples_split=100, score=0.863, total=   0.0s\n",
      "[CV] criterion=entropy, max_depth=5, min_samples_split=100 ...........\n",
      "[CV]  criterion=entropy, max_depth=5, min_samples_split=100, score=0.863, total=   0.0s\n",
      "[CV] criterion=entropy, max_depth=5, min_samples_split=100 ...........\n",
      "[CV]  criterion=entropy, max_depth=5, min_samples_split=100, score=0.863, total=   0.0s\n",
      "[CV] criterion=entropy, max_depth=5, min_samples_split=100 ...........\n",
      "[CV]  criterion=entropy, max_depth=5, min_samples_split=100, score=0.856, total=   0.0s\n",
      "[CV] criterion=entropy, max_depth=5, min_samples_split=100 ...........\n",
      "[CV]  criterion=entropy, max_depth=5, min_samples_split=100, score=0.842, total=   0.0s\n",
      "[CV] criterion=entropy, max_depth=10, min_samples_split=2 ............\n",
      "[CV]  criterion=entropy, max_depth=10, min_samples_split=2, score=0.822, total=   0.0s\n",
      "[CV] criterion=entropy, max_depth=10, min_samples_split=2 ............\n",
      "[CV]  criterion=entropy, max_depth=10, min_samples_split=2, score=0.835, total=   0.0s\n",
      "[CV] criterion=entropy, max_depth=10, min_samples_split=2 ............\n",
      "[CV]  criterion=entropy, max_depth=10, min_samples_split=2, score=0.856, total=   0.0s\n",
      "[CV] criterion=entropy, max_depth=10, min_samples_split=2 ............\n",
      "[CV]  criterion=entropy, max_depth=10, min_samples_split=2, score=0.842, total=   0.0s\n",
      "[CV] criterion=entropy, max_depth=10, min_samples_split=2 ............\n",
      "[CV]  criterion=entropy, max_depth=10, min_samples_split=2, score=0.852, total=   0.0s\n",
      "[CV] criterion=entropy, max_depth=10, min_samples_split=10 ...........\n",
      "[CV]  criterion=entropy, max_depth=10, min_samples_split=10, score=0.832, total=   0.0s\n",
      "[CV] criterion=entropy, max_depth=10, min_samples_split=10 ...........\n",
      "[CV]  criterion=entropy, max_depth=10, min_samples_split=10, score=0.838, total=   0.0s\n",
      "[CV] criterion=entropy, max_depth=10, min_samples_split=10 ...........\n",
      "[CV]  criterion=entropy, max_depth=10, min_samples_split=10, score=0.863, total=   0.0s\n",
      "[CV] criterion=entropy, max_depth=10, min_samples_split=10 ...........\n",
      "[CV]  criterion=entropy, max_depth=10, min_samples_split=10, score=0.838, total=   0.0s\n",
      "[CV] criterion=entropy, max_depth=10, min_samples_split=10 ...........\n",
      "[CV]  criterion=entropy, max_depth=10, min_samples_split=10, score=0.873, total=   0.0s\n",
      "[CV] criterion=entropy, max_depth=10, min_samples_split=100 ..........\n",
      "[CV]  criterion=entropy, max_depth=10, min_samples_split=100, score=0.863, total=   0.0s\n",
      "[CV] criterion=entropy, max_depth=10, min_samples_split=100 ..........\n",
      "[CV]  criterion=entropy, max_depth=10, min_samples_split=100, score=0.849, total=   0.0s\n",
      "[CV] criterion=entropy, max_depth=10, min_samples_split=100 ..........\n",
      "[CV]  criterion=entropy, max_depth=10, min_samples_split=100, score=0.856, total=   0.0s\n",
      "[CV] criterion=entropy, max_depth=10, min_samples_split=100 ..........\n",
      "[CV]  criterion=entropy, max_depth=10, min_samples_split=100, score=0.856, total=   0.0s\n",
      "[CV] criterion=entropy, max_depth=10, min_samples_split=100 ..........\n",
      "[CV]  criterion=entropy, max_depth=10, min_samples_split=100, score=0.842, total=   0.0s\n"
     ]
    },
    {
     "name": "stderr",
     "output_type": "stream",
     "text": [
      "[Parallel(n_jobs=1)]: Done 120 out of 120 | elapsed:    1.3s finished\n"
     ]
    },
    {
     "data": {
      "text/html": [
       "<style>div.sk-top-container {color: black;background-color: white;}div.sk-toggleable {background-color: white;}label.sk-toggleable__label {cursor: pointer;display: block;width: 100%;margin-bottom: 0;padding: 0.2em 0.3em;box-sizing: border-box;text-align: center;}div.sk-toggleable__content {max-height: 0;max-width: 0;overflow: hidden;text-align: left;background-color: #f0f8ff;}div.sk-toggleable__content pre {margin: 0.2em;color: black;border-radius: 0.25em;background-color: #f0f8ff;}input.sk-toggleable__control:checked~div.sk-toggleable__content {max-height: 200px;max-width: 100%;overflow: auto;}div.sk-estimator input.sk-toggleable__control:checked~label.sk-toggleable__label {background-color: #d4ebff;}div.sk-label input.sk-toggleable__control:checked~label.sk-toggleable__label {background-color: #d4ebff;}input.sk-hidden--visually {border: 0;clip: rect(1px 1px 1px 1px);clip: rect(1px, 1px, 1px, 1px);height: 1px;margin: -1px;overflow: hidden;padding: 0;position: absolute;width: 1px;}div.sk-estimator {font-family: monospace;background-color: #f0f8ff;margin: 0.25em 0.25em;border: 1px dotted black;border-radius: 0.25em;box-sizing: border-box;}div.sk-estimator:hover {background-color: #d4ebff;}div.sk-parallel-item::after {content: \"\";width: 100%;border-bottom: 1px solid gray;flex-grow: 1;}div.sk-label:hover label.sk-toggleable__label {background-color: #d4ebff;}div.sk-serial::before {content: \"\";position: absolute;border-left: 1px solid gray;box-sizing: border-box;top: 2em;bottom: 0;left: 50%;}div.sk-serial {display: flex;flex-direction: column;align-items: center;background-color: white;}div.sk-item {z-index: 1;}div.sk-parallel {display: flex;align-items: stretch;justify-content: center;background-color: white;}div.sk-parallel-item {display: flex;flex-direction: column;position: relative;background-color: white;}div.sk-parallel-item:first-child::after {align-self: flex-end;width: 50%;}div.sk-parallel-item:last-child::after {align-self: flex-start;width: 50%;}div.sk-parallel-item:only-child::after {width: 0;}div.sk-dashed-wrapped {border: 1px dashed gray;margin: 0.2em;box-sizing: border-box;padding-bottom: 0.1em;background-color: white;position: relative;}div.sk-label label {font-family: monospace;font-weight: bold;background-color: white;display: inline-block;line-height: 1.2em;}div.sk-label-container {position: relative;z-index: 2;text-align: center;}div.sk-container {display: inline-block;position: relative;}</style><div class=\"sk-top-container\"><div class=\"sk-container\"><div class=\"sk-item sk-dashed-wrapped\"><div class=\"sk-label-container\"><div class=\"sk-label sk-toggleable\"><input class=\"sk-toggleable__control sk-hidden--visually\" id=\"79b286f4-ef8d-41a7-859a-bd1fe8e0c7ff\" type=\"checkbox\" ><label class=\"sk-toggleable__label\" for=\"79b286f4-ef8d-41a7-859a-bd1fe8e0c7ff\">Pipeline</label><div class=\"sk-toggleable__content\"><pre>Pipeline(steps=[('columntransformer',\n",
       "                 ColumnTransformer(remainder='passthrough',\n",
       "                                   transformers=[('onehotencoder',\n",
       "                                                  OneHotEncoder(sparse=False),\n",
       "                                                  [2]),\n",
       "                                                 ('ordinalencoder',\n",
       "                                                  OrdinalEncoder(), [1])])),\n",
       "                ('gridsearchcv',\n",
       "                 GridSearchCV(estimator=DecisionTreeClassifier(),\n",
       "                              param_grid={'criterion': ['gini', 'entropy'],\n",
       "                                          'max_depth': [None, 2, 5, 10],\n",
       "                                          'min_samples_split': [2, 10, 100]},\n",
       "                              verbose=3))])</pre></div></div></div><div class=\"sk-serial\"><div class=\"sk-item sk-dashed-wrapped\"><div class=\"sk-label-container\"><div class=\"sk-label sk-toggleable\"><input class=\"sk-toggleable__control sk-hidden--visually\" id=\"b7394d95-ed4e-45ca-a881-a403a7b81c95\" type=\"checkbox\" ><label class=\"sk-toggleable__label\" for=\"b7394d95-ed4e-45ca-a881-a403a7b81c95\">columntransformer: ColumnTransformer</label><div class=\"sk-toggleable__content\"><pre>ColumnTransformer(remainder='passthrough',\n",
       "                  transformers=[('onehotencoder', OneHotEncoder(sparse=False),\n",
       "                                 [2]),\n",
       "                                ('ordinalencoder', OrdinalEncoder(), [1])])</pre></div></div></div><div class=\"sk-parallel\"><div class=\"sk-parallel-item\"><div class=\"sk-item\"><div class=\"sk-label-container\"><div class=\"sk-label sk-toggleable\"><input class=\"sk-toggleable__control sk-hidden--visually\" id=\"be870bc9-3538-488b-8679-095179ea7288\" type=\"checkbox\" ><label class=\"sk-toggleable__label\" for=\"be870bc9-3538-488b-8679-095179ea7288\">onehotencoder</label><div class=\"sk-toggleable__content\"><pre>[2]</pre></div></div></div><div class=\"sk-serial\"><div class=\"sk-item\"><div class=\"sk-estimator sk-toggleable\"><input class=\"sk-toggleable__control sk-hidden--visually\" id=\"2f3b9bd5-c8ff-491d-b127-a9fc55eb63ff\" type=\"checkbox\" ><label class=\"sk-toggleable__label\" for=\"2f3b9bd5-c8ff-491d-b127-a9fc55eb63ff\">OneHotEncoder</label><div class=\"sk-toggleable__content\"><pre>OneHotEncoder(sparse=False)</pre></div></div></div></div></div></div><div class=\"sk-parallel-item\"><div class=\"sk-item\"><div class=\"sk-label-container\"><div class=\"sk-label sk-toggleable\"><input class=\"sk-toggleable__control sk-hidden--visually\" id=\"b83a49f5-2594-4cb9-8327-3a99ff01b8ee\" type=\"checkbox\" ><label class=\"sk-toggleable__label\" for=\"b83a49f5-2594-4cb9-8327-3a99ff01b8ee\">ordinalencoder</label><div class=\"sk-toggleable__content\"><pre>[1]</pre></div></div></div><div class=\"sk-serial\"><div class=\"sk-item\"><div class=\"sk-estimator sk-toggleable\"><input class=\"sk-toggleable__control sk-hidden--visually\" id=\"cbefa5d0-5015-4835-a537-1f46011fbde7\" type=\"checkbox\" ><label class=\"sk-toggleable__label\" for=\"cbefa5d0-5015-4835-a537-1f46011fbde7\">OrdinalEncoder</label><div class=\"sk-toggleable__content\"><pre>OrdinalEncoder()</pre></div></div></div></div></div></div></div></div><div class=\"sk-item sk-dashed-wrapped\"><div class=\"sk-label-container\"><div class=\"sk-label sk-toggleable\"><input class=\"sk-toggleable__control sk-hidden--visually\" id=\"22a39483-c9af-4c87-95a1-3107d5344619\" type=\"checkbox\" ><label class=\"sk-toggleable__label\" for=\"22a39483-c9af-4c87-95a1-3107d5344619\">gridsearchcv: GridSearchCV</label><div class=\"sk-toggleable__content\"><pre>GridSearchCV(estimator=DecisionTreeClassifier(),\n",
       "             param_grid={'criterion': ['gini', 'entropy'],\n",
       "                         'max_depth': [None, 2, 5, 10],\n",
       "                         'min_samples_split': [2, 10, 100]},\n",
       "             verbose=3)</pre></div></div></div><div class=\"sk-parallel\"><div class=\"sk-parallel-item\"><div class=\"sk-item\"><div class=\"sk-serial\"><div class=\"sk-item\"><div class=\"sk-estimator sk-toggleable\"><input class=\"sk-toggleable__control sk-hidden--visually\" id=\"0d75fe7d-75f9-4844-828c-8c45e93d4646\" type=\"checkbox\" ><label class=\"sk-toggleable__label\" for=\"0d75fe7d-75f9-4844-828c-8c45e93d4646\">DecisionTreeClassifier</label><div class=\"sk-toggleable__content\"><pre>DecisionTreeClassifier()</pre></div></div></div></div></div></div></div></div></div></div></div></div>"
      ],
      "text/plain": [
       "Pipeline(steps=[('columntransformer',\n",
       "                 ColumnTransformer(remainder='passthrough',\n",
       "                                   transformers=[('onehotencoder',\n",
       "                                                  OneHotEncoder(sparse=False),\n",
       "                                                  [2]),\n",
       "                                                 ('ordinalencoder',\n",
       "                                                  OrdinalEncoder(), [1])])),\n",
       "                ('gridsearchcv',\n",
       "                 GridSearchCV(estimator=DecisionTreeClassifier(),\n",
       "                              param_grid={'criterion': ['gini', 'entropy'],\n",
       "                                          'max_depth': [None, 2, 5, 10],\n",
       "                                          'min_samples_split': [2, 10, 100]},\n",
       "                              verbose=3))])"
      ]
     },
     "execution_count": 37,
     "metadata": {},
     "output_type": "execute_result"
    }
   ],
   "source": [
    "pipe_g.fit(x_train,y_train)"
   ]
  },
  {
   "cell_type": "code",
   "execution_count": 38,
   "id": "ae8aea9e",
   "metadata": {
    "execution": {
     "iopub.execute_input": "2023-01-25T05:23:10.406926Z",
     "iopub.status.busy": "2023-01-25T05:23:10.405903Z",
     "iopub.status.idle": "2023-01-25T05:23:10.414638Z",
     "shell.execute_reply": "2023-01-25T05:23:10.415112Z",
     "shell.execute_reply.started": "2022-01-31T12:36:53.568566Z"
    },
    "papermill": {
     "duration": 0.10481,
     "end_time": "2023-01-25T05:23:10.415293",
     "exception": false,
     "start_time": "2023-01-25T05:23:10.310483",
     "status": "completed"
    },
    "tags": []
   },
   "outputs": [
    {
     "data": {
      "text/plain": [
       "array([0, 0, 0, 0, 0, 0, 0, 0, 0, 0, 1, 0, 0, 0, 0, 0, 1, 0, 0, 0, 0, 0,\n",
       "       0, 0, 0, 0, 0, 0, 0, 0, 0, 0, 0, 0, 1, 0, 0, 0, 1, 0, 0, 0, 0, 0,\n",
       "       0, 0, 0, 0, 0, 0, 0, 0, 0, 0, 0, 0, 0, 0, 0, 1, 0, 0, 0, 0, 0, 0,\n",
       "       0, 0, 1, 0, 0, 0, 0, 0, 0, 0, 0, 0, 0, 0, 0, 0, 0, 0, 0, 0, 0, 0,\n",
       "       0, 0, 0, 0, 0, 0, 0, 0, 0, 0, 1, 0, 0, 0, 0, 0, 0, 0, 0, 0, 0, 0,\n",
       "       0, 0, 0, 1, 0, 0, 0, 0, 0, 0, 0, 0, 0, 0, 0, 0, 0, 0, 0, 0, 1, 0,\n",
       "       0, 0, 0, 0, 0, 0, 0, 0, 0, 0, 0, 0, 0, 0, 0, 1, 0, 0, 0, 1, 0, 0,\n",
       "       0, 0, 0, 0, 0, 0, 0, 0, 0, 0, 0, 0, 0, 1, 0, 0, 0, 0, 0, 0, 0, 0,\n",
       "       0, 0, 0, 0, 0, 0, 0, 0, 0, 0, 0, 0, 0, 0, 0, 0, 0, 1, 1, 0, 0, 0,\n",
       "       0, 0, 0, 1, 0, 0, 0, 0, 0, 0, 1, 0, 0, 0, 0, 0, 0, 0, 0, 0, 0, 0,\n",
       "       0, 0, 0, 0, 0, 0, 0, 0, 0, 0, 0, 0, 0, 0, 0, 0, 0, 0, 0, 0, 1, 0,\n",
       "       1, 0, 1, 0, 0, 0, 0, 0, 0, 0, 0, 0, 0, 0, 0, 0, 0, 0, 0, 0, 0, 0,\n",
       "       0, 0, 0, 0, 0, 0, 0, 0, 0, 0, 0, 0, 0, 0, 0, 1, 0, 0, 0, 0, 0, 0,\n",
       "       0, 0, 0, 0, 0, 0, 0, 1, 0, 0, 0, 0, 0, 0, 0, 0, 0, 0, 0, 0, 1, 0,\n",
       "       0, 0, 0, 0, 0, 0, 0, 0, 0, 0, 0, 0, 0, 0, 0, 0, 0, 0, 0, 0, 0, 0,\n",
       "       0, 0, 0, 0, 0, 0, 0, 0, 0, 1, 0, 0, 0, 0, 0, 0, 0, 0, 0, 1, 0, 0,\n",
       "       0, 0, 0, 0, 0, 0, 0, 0, 0, 0, 0, 0, 0, 0, 0, 1, 0, 1, 0, 0, 1, 1,\n",
       "       0, 0, 0, 0, 0, 0, 0, 0, 0, 0, 0, 0, 0, 0, 0, 0, 0, 0, 0, 0, 0, 0,\n",
       "       0, 1, 0, 0, 0, 0, 0, 0, 0, 0, 0, 0, 0, 0, 0, 0, 0, 0, 0, 1, 0, 0,\n",
       "       0, 1, 0, 0, 0, 0, 0, 0, 0, 0, 0, 0, 0, 0, 0, 0, 0, 1, 0, 0, 0, 1,\n",
       "       0, 0, 0, 0, 0, 0, 0, 0, 0, 0, 0, 0, 0, 0, 0, 0, 0, 0, 0, 1, 0, 0,\n",
       "       0, 0, 0, 0, 0, 1, 0, 0, 0, 0, 0, 0, 0, 0, 0, 0, 0, 0, 0, 0, 0, 0,\n",
       "       0, 0, 0, 0, 0, 0, 0, 0, 0, 0, 0, 0, 0, 0, 0, 0, 0, 0, 0, 0, 1, 0,\n",
       "       0, 0, 0, 0, 0, 0, 0, 0, 0, 0, 0, 0, 0, 0, 0, 0, 1, 0, 0, 0, 0, 0,\n",
       "       0, 0, 0, 1, 0, 0, 0, 0, 0, 0, 0, 0, 0, 0, 0, 1, 0, 0, 0, 1, 0, 0,\n",
       "       1, 0, 0, 0, 0, 0, 0, 0, 0, 0, 0, 0, 0, 1, 0, 0, 0, 0, 0, 1, 0, 0,\n",
       "       0, 0, 0, 0, 0, 0, 0, 0, 0, 0, 1, 0, 0, 0, 0, 0, 0, 0, 0, 0, 0, 0,\n",
       "       0, 0, 0, 0, 0, 0, 0, 0, 0, 0, 1, 0, 0, 0, 0, 0, 0, 0, 0, 0, 0, 1,\n",
       "       0, 0, 0, 0, 0, 0, 0, 0, 0, 0, 0, 0, 0, 0, 0, 0, 0, 0, 0, 0, 0, 0,\n",
       "       0, 1, 0, 0, 0, 0, 0, 0, 1, 1, 0, 1, 0, 0, 0, 0, 0, 0, 0, 0, 0, 0,\n",
       "       0, 0, 0, 0, 0, 0, 0, 0, 0, 0, 0, 0, 0, 0, 0, 0, 0, 0, 0, 0, 0, 0,\n",
       "       0, 1, 0, 0, 1, 0, 0, 0, 0, 1, 0, 0, 0, 1, 0, 0, 0, 0, 0, 0, 0, 0,\n",
       "       0, 0, 0, 0, 0, 0, 0, 0, 0, 0, 1, 0, 0, 0, 0, 0, 0, 0, 0, 0, 0, 0,\n",
       "       0, 0, 0, 0, 0, 0, 0, 1, 0, 0, 0, 1, 0, 1, 0, 0, 0, 0, 0, 0, 0, 0,\n",
       "       0, 0, 1, 0, 0, 0, 0, 0, 0, 0, 0, 0, 1, 0, 0, 0, 1, 0, 0, 1, 0, 0,\n",
       "       0, 0, 0, 0, 0, 0, 0, 0, 0, 0, 0, 0, 0, 0])"
      ]
     },
     "execution_count": 38,
     "metadata": {},
     "output_type": "execute_result"
    }
   ],
   "source": [
    "pred_g=pipe_g.predict(x_test)\n",
    "pred_g"
   ]
  },
  {
   "cell_type": "code",
   "execution_count": 39,
   "id": "c1cbaeda",
   "metadata": {
    "execution": {
     "iopub.execute_input": "2023-01-25T05:23:10.601697Z",
     "iopub.status.busy": "2023-01-25T05:23:10.600613Z",
     "iopub.status.idle": "2023-01-25T05:23:10.605693Z",
     "shell.execute_reply": "2023-01-25T05:23:10.606227Z",
     "shell.execute_reply.started": "2022-01-31T12:36:53.582308Z"
    },
    "papermill": {
     "duration": 0.101549,
     "end_time": "2023-01-25T05:23:10.606411",
     "exception": false,
     "start_time": "2023-01-25T05:23:10.504862",
     "status": "completed"
    },
    "tags": []
   },
   "outputs": [
    {
     "data": {
      "text/plain": [
       "87.75510204081633"
      ]
     },
     "execution_count": 39,
     "metadata": {},
     "output_type": "execute_result"
    }
   ],
   "source": [
    "accuracy_score(pred_g,y_test)*100"
   ]
  },
  {
   "cell_type": "code",
   "execution_count": 40,
   "id": "2dfa067d",
   "metadata": {
    "execution": {
     "iopub.execute_input": "2023-01-25T05:23:10.788378Z",
     "iopub.status.busy": "2023-01-25T05:23:10.787408Z",
     "iopub.status.idle": "2023-01-25T05:23:10.793050Z",
     "shell.execute_reply": "2023-01-25T05:23:10.793519Z",
     "shell.execute_reply.started": "2022-01-31T12:36:53.590931Z"
    },
    "papermill": {
     "duration": 0.09837,
     "end_time": "2023-01-25T05:23:10.793722",
     "exception": false,
     "start_time": "2023-01-25T05:23:10.695352",
     "status": "completed"
    },
    "tags": []
   },
   "outputs": [
    {
     "data": {
      "text/plain": [
       "{'criterion': 'entropy', 'max_depth': 5, 'min_samples_split': 2}"
      ]
     },
     "execution_count": 40,
     "metadata": {},
     "output_type": "execute_result"
    }
   ],
   "source": [
    "pipe_g.named_steps['gridsearchcv'].best_params_"
   ]
  },
  {
   "cell_type": "code",
   "execution_count": 41,
   "id": "04f5e2e4",
   "metadata": {
    "execution": {
     "iopub.execute_input": "2023-01-25T05:23:10.980559Z",
     "iopub.status.busy": "2023-01-25T05:23:10.979507Z",
     "iopub.status.idle": "2023-01-25T05:23:11.030330Z",
     "shell.execute_reply": "2023-01-25T05:23:11.029792Z",
     "shell.execute_reply.started": "2022-01-31T12:36:53.601771Z"
    },
    "papermill": {
     "duration": 0.144977,
     "end_time": "2023-01-25T05:23:11.030481",
     "exception": false,
     "start_time": "2023-01-25T05:23:10.885504",
     "status": "completed"
    },
    "tags": []
   },
   "outputs": [
    {
     "data": {
      "text/html": [
       "<style>div.sk-top-container {color: black;background-color: white;}div.sk-toggleable {background-color: white;}label.sk-toggleable__label {cursor: pointer;display: block;width: 100%;margin-bottom: 0;padding: 0.2em 0.3em;box-sizing: border-box;text-align: center;}div.sk-toggleable__content {max-height: 0;max-width: 0;overflow: hidden;text-align: left;background-color: #f0f8ff;}div.sk-toggleable__content pre {margin: 0.2em;color: black;border-radius: 0.25em;background-color: #f0f8ff;}input.sk-toggleable__control:checked~div.sk-toggleable__content {max-height: 200px;max-width: 100%;overflow: auto;}div.sk-estimator input.sk-toggleable__control:checked~label.sk-toggleable__label {background-color: #d4ebff;}div.sk-label input.sk-toggleable__control:checked~label.sk-toggleable__label {background-color: #d4ebff;}input.sk-hidden--visually {border: 0;clip: rect(1px 1px 1px 1px);clip: rect(1px, 1px, 1px, 1px);height: 1px;margin: -1px;overflow: hidden;padding: 0;position: absolute;width: 1px;}div.sk-estimator {font-family: monospace;background-color: #f0f8ff;margin: 0.25em 0.25em;border: 1px dotted black;border-radius: 0.25em;box-sizing: border-box;}div.sk-estimator:hover {background-color: #d4ebff;}div.sk-parallel-item::after {content: \"\";width: 100%;border-bottom: 1px solid gray;flex-grow: 1;}div.sk-label:hover label.sk-toggleable__label {background-color: #d4ebff;}div.sk-serial::before {content: \"\";position: absolute;border-left: 1px solid gray;box-sizing: border-box;top: 2em;bottom: 0;left: 50%;}div.sk-serial {display: flex;flex-direction: column;align-items: center;background-color: white;}div.sk-item {z-index: 1;}div.sk-parallel {display: flex;align-items: stretch;justify-content: center;background-color: white;}div.sk-parallel-item {display: flex;flex-direction: column;position: relative;background-color: white;}div.sk-parallel-item:first-child::after {align-self: flex-end;width: 50%;}div.sk-parallel-item:last-child::after {align-self: flex-start;width: 50%;}div.sk-parallel-item:only-child::after {width: 0;}div.sk-dashed-wrapped {border: 1px dashed gray;margin: 0.2em;box-sizing: border-box;padding-bottom: 0.1em;background-color: white;position: relative;}div.sk-label label {font-family: monospace;font-weight: bold;background-color: white;display: inline-block;line-height: 1.2em;}div.sk-label-container {position: relative;z-index: 2;text-align: center;}div.sk-container {display: inline-block;position: relative;}</style><div class=\"sk-top-container\"><div class=\"sk-container\"><div class=\"sk-item sk-dashed-wrapped\"><div class=\"sk-label-container\"><div class=\"sk-label sk-toggleable\"><input class=\"sk-toggleable__control sk-hidden--visually\" id=\"697be5bd-7b4f-44c1-80ba-99557e7f2c97\" type=\"checkbox\" ><label class=\"sk-toggleable__label\" for=\"697be5bd-7b4f-44c1-80ba-99557e7f2c97\">Pipeline</label><div class=\"sk-toggleable__content\"><pre>Pipeline(steps=[('columntransformer',\n",
       "                 ColumnTransformer(remainder='passthrough',\n",
       "                                   transformers=[('onehotencoder',\n",
       "                                                  OneHotEncoder(sparse=False),\n",
       "                                                  [2]),\n",
       "                                                 ('ordinalencoder',\n",
       "                                                  OrdinalEncoder(), [1])])),\n",
       "                ('gridsearchcv',\n",
       "                 GridSearchCV(estimator=DecisionTreeClassifier(),\n",
       "                              param_grid={'criterion': ['entropy'],\n",
       "                                          'max_depth': [5],\n",
       "                                          'min_samples_split': [10]},\n",
       "                              verbose=3))])</pre></div></div></div><div class=\"sk-serial\"><div class=\"sk-item sk-dashed-wrapped\"><div class=\"sk-label-container\"><div class=\"sk-label sk-toggleable\"><input class=\"sk-toggleable__control sk-hidden--visually\" id=\"e6cef88c-baa6-4e33-9a51-31330ff9006d\" type=\"checkbox\" ><label class=\"sk-toggleable__label\" for=\"e6cef88c-baa6-4e33-9a51-31330ff9006d\">columntransformer: ColumnTransformer</label><div class=\"sk-toggleable__content\"><pre>ColumnTransformer(remainder='passthrough',\n",
       "                  transformers=[('onehotencoder', OneHotEncoder(sparse=False),\n",
       "                                 [2]),\n",
       "                                ('ordinalencoder', OrdinalEncoder(), [1])])</pre></div></div></div><div class=\"sk-parallel\"><div class=\"sk-parallel-item\"><div class=\"sk-item\"><div class=\"sk-label-container\"><div class=\"sk-label sk-toggleable\"><input class=\"sk-toggleable__control sk-hidden--visually\" id=\"da2b1e75-1853-4c11-a451-00715f3266b8\" type=\"checkbox\" ><label class=\"sk-toggleable__label\" for=\"da2b1e75-1853-4c11-a451-00715f3266b8\">onehotencoder</label><div class=\"sk-toggleable__content\"><pre>[2]</pre></div></div></div><div class=\"sk-serial\"><div class=\"sk-item\"><div class=\"sk-estimator sk-toggleable\"><input class=\"sk-toggleable__control sk-hidden--visually\" id=\"326916b6-4e78-4584-9421-e9a320542b0a\" type=\"checkbox\" ><label class=\"sk-toggleable__label\" for=\"326916b6-4e78-4584-9421-e9a320542b0a\">OneHotEncoder</label><div class=\"sk-toggleable__content\"><pre>OneHotEncoder(sparse=False)</pre></div></div></div></div></div></div><div class=\"sk-parallel-item\"><div class=\"sk-item\"><div class=\"sk-label-container\"><div class=\"sk-label sk-toggleable\"><input class=\"sk-toggleable__control sk-hidden--visually\" id=\"ef7d24d2-4f33-4f85-a1cd-9f92b5e53559\" type=\"checkbox\" ><label class=\"sk-toggleable__label\" for=\"ef7d24d2-4f33-4f85-a1cd-9f92b5e53559\">ordinalencoder</label><div class=\"sk-toggleable__content\"><pre>[1]</pre></div></div></div><div class=\"sk-serial\"><div class=\"sk-item\"><div class=\"sk-estimator sk-toggleable\"><input class=\"sk-toggleable__control sk-hidden--visually\" id=\"43b107c4-1827-4641-b6ef-ce06b0e7c127\" type=\"checkbox\" ><label class=\"sk-toggleable__label\" for=\"43b107c4-1827-4641-b6ef-ce06b0e7c127\">OrdinalEncoder</label><div class=\"sk-toggleable__content\"><pre>OrdinalEncoder()</pre></div></div></div></div></div></div></div></div><div class=\"sk-item sk-dashed-wrapped\"><div class=\"sk-label-container\"><div class=\"sk-label sk-toggleable\"><input class=\"sk-toggleable__control sk-hidden--visually\" id=\"ad5a59b1-80f0-41ce-b07a-eb1170d98c87\" type=\"checkbox\" ><label class=\"sk-toggleable__label\" for=\"ad5a59b1-80f0-41ce-b07a-eb1170d98c87\">gridsearchcv: GridSearchCV</label><div class=\"sk-toggleable__content\"><pre>GridSearchCV(estimator=DecisionTreeClassifier(),\n",
       "             param_grid={'criterion': ['entropy'], 'max_depth': [5],\n",
       "                         'min_samples_split': [10]},\n",
       "             verbose=3)</pre></div></div></div><div class=\"sk-parallel\"><div class=\"sk-parallel-item\"><div class=\"sk-item\"><div class=\"sk-serial\"><div class=\"sk-item\"><div class=\"sk-estimator sk-toggleable\"><input class=\"sk-toggleable__control sk-hidden--visually\" id=\"f17014cd-a648-44ee-a511-aa7afbe24735\" type=\"checkbox\" ><label class=\"sk-toggleable__label\" for=\"f17014cd-a648-44ee-a511-aa7afbe24735\">DecisionTreeClassifier</label><div class=\"sk-toggleable__content\"><pre>DecisionTreeClassifier()</pre></div></div></div></div></div></div></div></div></div></div></div></div>"
      ],
      "text/plain": [
       "Pipeline(steps=[('columntransformer',\n",
       "                 ColumnTransformer(remainder='passthrough',\n",
       "                                   transformers=[('onehotencoder',\n",
       "                                                  OneHotEncoder(sparse=False),\n",
       "                                                  [2]),\n",
       "                                                 ('ordinalencoder',\n",
       "                                                  OrdinalEncoder(), [1])])),\n",
       "                ('gridsearchcv',\n",
       "                 GridSearchCV(estimator=DecisionTreeClassifier(),\n",
       "                              param_grid={'criterion': ['entropy'],\n",
       "                                          'max_depth': [5],\n",
       "                                          'min_samples_split': [10]},\n",
       "                              verbose=3))])"
      ]
     },
     "execution_count": 41,
     "metadata": {},
     "output_type": "execute_result"
    }
   ],
   "source": [
    "params_1={'criterion':['entropy'],'max_depth':[5],'min_samples_split':[10]}\n",
    "pipe_g1=make_pipeline(trans,GridSearchCV(algo_d,params_1,verbose=3,refit=True))\n",
    "pipe_g1"
   ]
  },
  {
   "cell_type": "code",
   "execution_count": 42,
   "id": "dd9917dc",
   "metadata": {
    "execution": {
     "iopub.execute_input": "2023-01-25T05:23:11.221221Z",
     "iopub.status.busy": "2023-01-25T05:23:11.220423Z",
     "iopub.status.idle": "2023-01-25T05:23:11.339154Z",
     "shell.execute_reply": "2023-01-25T05:23:11.338487Z",
     "shell.execute_reply.started": "2022-01-31T12:36:53.665465Z"
    },
    "papermill": {
     "duration": 0.217652,
     "end_time": "2023-01-25T05:23:11.339299",
     "exception": false,
     "start_time": "2023-01-25T05:23:11.121647",
     "status": "completed"
    },
    "tags": []
   },
   "outputs": [
    {
     "name": "stdout",
     "output_type": "stream",
     "text": [
      "Fitting 5 folds for each of 1 candidates, totalling 5 fits\n",
      "[CV] criterion=entropy, max_depth=5, min_samples_split=10 ............\n",
      "[CV]  criterion=entropy, max_depth=5, min_samples_split=10, score=0.853, total=   0.0s\n",
      "[CV] criterion=entropy, max_depth=5, min_samples_split=10 ............\n",
      "[CV]  criterion=entropy, max_depth=5, min_samples_split=10, score=0.866, total=   0.0s\n",
      "[CV] criterion=entropy, max_depth=5, min_samples_split=10 ............\n",
      "[CV]  criterion=entropy, max_depth=5, min_samples_split=10, score=0.883, total=   0.0s\n",
      "[CV] criterion=entropy, max_depth=5, min_samples_split=10 ............\n",
      "[CV]  criterion=entropy, max_depth=5, min_samples_split=10, score=0.873, total=   0.0s\n",
      "[CV] criterion=entropy, max_depth=5, min_samples_split=10 ............\n",
      "[CV]  criterion=entropy, max_depth=5, min_samples_split=10, score=0.859, total=   0.0s\n"
     ]
    },
    {
     "name": "stderr",
     "output_type": "stream",
     "text": [
      "[Parallel(n_jobs=1)]: Using backend SequentialBackend with 1 concurrent workers.\n",
      "[Parallel(n_jobs=1)]: Done   1 out of   1 | elapsed:    0.0s remaining:    0.0s\n",
      "[Parallel(n_jobs=1)]: Done   2 out of   2 | elapsed:    0.0s remaining:    0.0s\n",
      "[Parallel(n_jobs=1)]: Done   5 out of   5 | elapsed:    0.1s finished\n"
     ]
    },
    {
     "data": {
      "text/html": [
       "<style>div.sk-top-container {color: black;background-color: white;}div.sk-toggleable {background-color: white;}label.sk-toggleable__label {cursor: pointer;display: block;width: 100%;margin-bottom: 0;padding: 0.2em 0.3em;box-sizing: border-box;text-align: center;}div.sk-toggleable__content {max-height: 0;max-width: 0;overflow: hidden;text-align: left;background-color: #f0f8ff;}div.sk-toggleable__content pre {margin: 0.2em;color: black;border-radius: 0.25em;background-color: #f0f8ff;}input.sk-toggleable__control:checked~div.sk-toggleable__content {max-height: 200px;max-width: 100%;overflow: auto;}div.sk-estimator input.sk-toggleable__control:checked~label.sk-toggleable__label {background-color: #d4ebff;}div.sk-label input.sk-toggleable__control:checked~label.sk-toggleable__label {background-color: #d4ebff;}input.sk-hidden--visually {border: 0;clip: rect(1px 1px 1px 1px);clip: rect(1px, 1px, 1px, 1px);height: 1px;margin: -1px;overflow: hidden;padding: 0;position: absolute;width: 1px;}div.sk-estimator {font-family: monospace;background-color: #f0f8ff;margin: 0.25em 0.25em;border: 1px dotted black;border-radius: 0.25em;box-sizing: border-box;}div.sk-estimator:hover {background-color: #d4ebff;}div.sk-parallel-item::after {content: \"\";width: 100%;border-bottom: 1px solid gray;flex-grow: 1;}div.sk-label:hover label.sk-toggleable__label {background-color: #d4ebff;}div.sk-serial::before {content: \"\";position: absolute;border-left: 1px solid gray;box-sizing: border-box;top: 2em;bottom: 0;left: 50%;}div.sk-serial {display: flex;flex-direction: column;align-items: center;background-color: white;}div.sk-item {z-index: 1;}div.sk-parallel {display: flex;align-items: stretch;justify-content: center;background-color: white;}div.sk-parallel-item {display: flex;flex-direction: column;position: relative;background-color: white;}div.sk-parallel-item:first-child::after {align-self: flex-end;width: 50%;}div.sk-parallel-item:last-child::after {align-self: flex-start;width: 50%;}div.sk-parallel-item:only-child::after {width: 0;}div.sk-dashed-wrapped {border: 1px dashed gray;margin: 0.2em;box-sizing: border-box;padding-bottom: 0.1em;background-color: white;position: relative;}div.sk-label label {font-family: monospace;font-weight: bold;background-color: white;display: inline-block;line-height: 1.2em;}div.sk-label-container {position: relative;z-index: 2;text-align: center;}div.sk-container {display: inline-block;position: relative;}</style><div class=\"sk-top-container\"><div class=\"sk-container\"><div class=\"sk-item sk-dashed-wrapped\"><div class=\"sk-label-container\"><div class=\"sk-label sk-toggleable\"><input class=\"sk-toggleable__control sk-hidden--visually\" id=\"18b2fcae-8e44-4b50-a25b-2a1f86396f2a\" type=\"checkbox\" ><label class=\"sk-toggleable__label\" for=\"18b2fcae-8e44-4b50-a25b-2a1f86396f2a\">Pipeline</label><div class=\"sk-toggleable__content\"><pre>Pipeline(steps=[('columntransformer',\n",
       "                 ColumnTransformer(remainder='passthrough',\n",
       "                                   transformers=[('onehotencoder',\n",
       "                                                  OneHotEncoder(sparse=False),\n",
       "                                                  [2]),\n",
       "                                                 ('ordinalencoder',\n",
       "                                                  OrdinalEncoder(), [1])])),\n",
       "                ('gridsearchcv',\n",
       "                 GridSearchCV(estimator=DecisionTreeClassifier(),\n",
       "                              param_grid={'criterion': ['entropy'],\n",
       "                                          'max_depth': [5],\n",
       "                                          'min_samples_split': [10]},\n",
       "                              verbose=3))])</pre></div></div></div><div class=\"sk-serial\"><div class=\"sk-item sk-dashed-wrapped\"><div class=\"sk-label-container\"><div class=\"sk-label sk-toggleable\"><input class=\"sk-toggleable__control sk-hidden--visually\" id=\"56b411a9-2f9e-48e7-a9e6-5f25c59d5fed\" type=\"checkbox\" ><label class=\"sk-toggleable__label\" for=\"56b411a9-2f9e-48e7-a9e6-5f25c59d5fed\">columntransformer: ColumnTransformer</label><div class=\"sk-toggleable__content\"><pre>ColumnTransformer(remainder='passthrough',\n",
       "                  transformers=[('onehotencoder', OneHotEncoder(sparse=False),\n",
       "                                 [2]),\n",
       "                                ('ordinalencoder', OrdinalEncoder(), [1])])</pre></div></div></div><div class=\"sk-parallel\"><div class=\"sk-parallel-item\"><div class=\"sk-item\"><div class=\"sk-label-container\"><div class=\"sk-label sk-toggleable\"><input class=\"sk-toggleable__control sk-hidden--visually\" id=\"4da5c0b1-8dfc-46b5-9f32-e23a88f29c37\" type=\"checkbox\" ><label class=\"sk-toggleable__label\" for=\"4da5c0b1-8dfc-46b5-9f32-e23a88f29c37\">onehotencoder</label><div class=\"sk-toggleable__content\"><pre>[2]</pre></div></div></div><div class=\"sk-serial\"><div class=\"sk-item\"><div class=\"sk-estimator sk-toggleable\"><input class=\"sk-toggleable__control sk-hidden--visually\" id=\"d6ff7df3-489e-4c94-b42b-5296ffa91168\" type=\"checkbox\" ><label class=\"sk-toggleable__label\" for=\"d6ff7df3-489e-4c94-b42b-5296ffa91168\">OneHotEncoder</label><div class=\"sk-toggleable__content\"><pre>OneHotEncoder(sparse=False)</pre></div></div></div></div></div></div><div class=\"sk-parallel-item\"><div class=\"sk-item\"><div class=\"sk-label-container\"><div class=\"sk-label sk-toggleable\"><input class=\"sk-toggleable__control sk-hidden--visually\" id=\"d3cd3100-ce6d-4859-bd5d-7c237b363549\" type=\"checkbox\" ><label class=\"sk-toggleable__label\" for=\"d3cd3100-ce6d-4859-bd5d-7c237b363549\">ordinalencoder</label><div class=\"sk-toggleable__content\"><pre>[1]</pre></div></div></div><div class=\"sk-serial\"><div class=\"sk-item\"><div class=\"sk-estimator sk-toggleable\"><input class=\"sk-toggleable__control sk-hidden--visually\" id=\"d3edb70a-0374-4bb3-a57d-9ee928a87aa3\" type=\"checkbox\" ><label class=\"sk-toggleable__label\" for=\"d3edb70a-0374-4bb3-a57d-9ee928a87aa3\">OrdinalEncoder</label><div class=\"sk-toggleable__content\"><pre>OrdinalEncoder()</pre></div></div></div></div></div></div></div></div><div class=\"sk-item sk-dashed-wrapped\"><div class=\"sk-label-container\"><div class=\"sk-label sk-toggleable\"><input class=\"sk-toggleable__control sk-hidden--visually\" id=\"d64749c6-efe5-44b1-87f4-159e3f1386f7\" type=\"checkbox\" ><label class=\"sk-toggleable__label\" for=\"d64749c6-efe5-44b1-87f4-159e3f1386f7\">gridsearchcv: GridSearchCV</label><div class=\"sk-toggleable__content\"><pre>GridSearchCV(estimator=DecisionTreeClassifier(),\n",
       "             param_grid={'criterion': ['entropy'], 'max_depth': [5],\n",
       "                         'min_samples_split': [10]},\n",
       "             verbose=3)</pre></div></div></div><div class=\"sk-parallel\"><div class=\"sk-parallel-item\"><div class=\"sk-item\"><div class=\"sk-serial\"><div class=\"sk-item\"><div class=\"sk-estimator sk-toggleable\"><input class=\"sk-toggleable__control sk-hidden--visually\" id=\"816c4115-806a-41c6-a338-6333ca17f98d\" type=\"checkbox\" ><label class=\"sk-toggleable__label\" for=\"816c4115-806a-41c6-a338-6333ca17f98d\">DecisionTreeClassifier</label><div class=\"sk-toggleable__content\"><pre>DecisionTreeClassifier()</pre></div></div></div></div></div></div></div></div></div></div></div></div>"
      ],
      "text/plain": [
       "Pipeline(steps=[('columntransformer',\n",
       "                 ColumnTransformer(remainder='passthrough',\n",
       "                                   transformers=[('onehotencoder',\n",
       "                                                  OneHotEncoder(sparse=False),\n",
       "                                                  [2]),\n",
       "                                                 ('ordinalencoder',\n",
       "                                                  OrdinalEncoder(), [1])])),\n",
       "                ('gridsearchcv',\n",
       "                 GridSearchCV(estimator=DecisionTreeClassifier(),\n",
       "                              param_grid={'criterion': ['entropy'],\n",
       "                                          'max_depth': [5],\n",
       "                                          'min_samples_split': [10]},\n",
       "                              verbose=3))])"
      ]
     },
     "execution_count": 42,
     "metadata": {},
     "output_type": "execute_result"
    }
   ],
   "source": [
    "pipe_g1.fit(x_train,y_train)"
   ]
  },
  {
   "cell_type": "code",
   "execution_count": 43,
   "id": "ee3bc717",
   "metadata": {
    "execution": {
     "iopub.execute_input": "2023-01-25T05:23:11.528621Z",
     "iopub.status.busy": "2023-01-25T05:23:11.527947Z",
     "iopub.status.idle": "2023-01-25T05:23:11.538320Z",
     "shell.execute_reply": "2023-01-25T05:23:11.538887Z",
     "shell.execute_reply.started": "2022-01-31T12:36:53.783327Z"
    },
    "papermill": {
     "duration": 0.106244,
     "end_time": "2023-01-25T05:23:11.539071",
     "exception": false,
     "start_time": "2023-01-25T05:23:11.432827",
     "status": "completed"
    },
    "tags": []
   },
   "outputs": [
    {
     "data": {
      "text/plain": [
       "array([0, 0, 0, 0, 0, 0, 0, 0, 0, 0, 1, 0, 0, 0, 0, 0, 1, 0, 0, 0, 0, 0,\n",
       "       0, 0, 0, 0, 0, 0, 0, 0, 0, 0, 0, 0, 1, 0, 0, 0, 1, 0, 0, 0, 0, 0,\n",
       "       0, 1, 0, 0, 0, 0, 0, 0, 0, 0, 0, 0, 0, 0, 0, 1, 0, 0, 0, 1, 0, 0,\n",
       "       0, 0, 1, 0, 0, 0, 0, 0, 0, 0, 0, 0, 0, 0, 0, 0, 0, 0, 0, 0, 0, 0,\n",
       "       0, 0, 0, 0, 0, 0, 0, 0, 0, 0, 1, 0, 0, 0, 0, 0, 0, 0, 0, 0, 0, 0,\n",
       "       0, 0, 0, 1, 0, 0, 0, 0, 0, 0, 1, 0, 0, 0, 0, 0, 0, 0, 0, 0, 1, 0,\n",
       "       0, 0, 0, 0, 0, 0, 0, 0, 0, 0, 0, 0, 0, 0, 0, 1, 0, 0, 0, 1, 0, 0,\n",
       "       0, 0, 0, 0, 0, 0, 0, 0, 0, 0, 0, 0, 0, 1, 0, 0, 0, 0, 0, 0, 0, 0,\n",
       "       0, 0, 0, 0, 0, 0, 0, 0, 0, 0, 0, 0, 0, 0, 0, 0, 0, 1, 1, 0, 0, 0,\n",
       "       0, 0, 0, 1, 0, 0, 0, 0, 0, 0, 1, 0, 0, 0, 0, 0, 0, 0, 0, 0, 0, 0,\n",
       "       0, 0, 0, 0, 0, 0, 0, 0, 0, 0, 0, 0, 0, 0, 0, 0, 0, 0, 0, 0, 1, 0,\n",
       "       1, 0, 1, 0, 0, 0, 0, 0, 0, 0, 0, 0, 0, 0, 0, 0, 0, 0, 0, 0, 0, 0,\n",
       "       0, 0, 0, 0, 0, 0, 0, 0, 0, 0, 0, 0, 0, 0, 0, 1, 0, 0, 0, 0, 0, 0,\n",
       "       0, 0, 0, 0, 0, 0, 0, 1, 0, 0, 0, 0, 0, 0, 0, 0, 0, 0, 0, 0, 1, 0,\n",
       "       0, 0, 0, 0, 0, 0, 0, 0, 0, 0, 0, 0, 0, 0, 0, 0, 0, 0, 0, 0, 0, 0,\n",
       "       0, 0, 0, 0, 1, 0, 0, 0, 0, 1, 0, 0, 0, 0, 0, 0, 0, 0, 0, 1, 0, 0,\n",
       "       0, 0, 0, 0, 0, 0, 0, 0, 0, 0, 0, 0, 0, 0, 0, 1, 0, 1, 0, 0, 1, 1,\n",
       "       0, 0, 0, 0, 0, 0, 0, 0, 0, 0, 0, 0, 0, 0, 0, 0, 0, 0, 0, 0, 0, 0,\n",
       "       0, 1, 0, 0, 0, 0, 0, 0, 0, 0, 0, 0, 0, 0, 0, 0, 0, 0, 0, 1, 0, 0,\n",
       "       0, 1, 0, 0, 0, 0, 0, 0, 0, 0, 0, 0, 0, 0, 0, 0, 0, 1, 0, 0, 0, 1,\n",
       "       0, 0, 0, 0, 0, 0, 0, 0, 0, 0, 0, 0, 0, 0, 0, 0, 0, 0, 0, 1, 0, 0,\n",
       "       0, 0, 0, 0, 0, 1, 0, 0, 0, 0, 0, 0, 0, 0, 0, 0, 0, 0, 0, 0, 0, 0,\n",
       "       0, 0, 0, 0, 0, 0, 0, 0, 0, 0, 0, 0, 0, 0, 0, 0, 0, 0, 0, 0, 1, 0,\n",
       "       0, 0, 0, 0, 0, 0, 0, 0, 0, 0, 0, 0, 0, 0, 0, 0, 1, 0, 0, 0, 0, 0,\n",
       "       0, 0, 0, 1, 0, 0, 0, 0, 0, 0, 0, 0, 0, 0, 0, 1, 0, 0, 0, 1, 0, 0,\n",
       "       1, 0, 0, 0, 0, 0, 0, 0, 0, 0, 0, 0, 0, 0, 0, 0, 0, 0, 0, 1, 0, 0,\n",
       "       0, 0, 0, 0, 0, 0, 0, 0, 0, 0, 1, 0, 0, 0, 0, 0, 0, 0, 0, 0, 0, 0,\n",
       "       0, 0, 0, 0, 0, 0, 0, 0, 0, 0, 1, 0, 0, 0, 0, 0, 0, 0, 0, 0, 0, 1,\n",
       "       0, 0, 0, 0, 0, 0, 0, 0, 0, 0, 0, 0, 0, 0, 0, 0, 0, 0, 0, 0, 0, 0,\n",
       "       0, 1, 0, 0, 0, 0, 0, 0, 1, 1, 0, 1, 0, 0, 0, 0, 0, 0, 0, 0, 0, 0,\n",
       "       0, 0, 0, 0, 0, 0, 0, 0, 0, 0, 0, 0, 0, 0, 0, 0, 0, 0, 0, 0, 0, 0,\n",
       "       0, 1, 0, 0, 1, 0, 0, 0, 0, 1, 0, 0, 0, 1, 0, 0, 0, 0, 0, 0, 0, 0,\n",
       "       0, 0, 0, 0, 0, 0, 0, 0, 0, 0, 1, 0, 0, 0, 0, 0, 0, 0, 0, 0, 0, 0,\n",
       "       0, 0, 0, 0, 0, 0, 0, 1, 0, 0, 0, 1, 0, 1, 0, 0, 0, 0, 0, 0, 0, 0,\n",
       "       0, 0, 1, 0, 0, 0, 0, 0, 0, 0, 0, 0, 1, 0, 0, 0, 1, 0, 0, 1, 0, 0,\n",
       "       0, 0, 0, 0, 0, 0, 0, 0, 0, 0, 0, 0, 0, 0])"
      ]
     },
     "execution_count": 43,
     "metadata": {},
     "output_type": "execute_result"
    }
   ],
   "source": [
    "pred_g1=pipe_g1.predict(x_test)\n",
    "pred_g1"
   ]
  },
  {
   "cell_type": "code",
   "execution_count": 44,
   "id": "afdc8f53",
   "metadata": {
    "execution": {
     "iopub.execute_input": "2023-01-25T05:23:11.727288Z",
     "iopub.status.busy": "2023-01-25T05:23:11.726610Z",
     "iopub.status.idle": "2023-01-25T05:23:11.732183Z",
     "shell.execute_reply": "2023-01-25T05:23:11.732831Z",
     "shell.execute_reply.started": "2022-01-31T12:36:53.801667Z"
    },
    "papermill": {
     "duration": 0.101143,
     "end_time": "2023-01-25T05:23:11.733015",
     "exception": false,
     "start_time": "2023-01-25T05:23:11.631872",
     "status": "completed"
    },
    "tags": []
   },
   "outputs": [
    {
     "data": {
      "text/plain": [
       "87.88265306122449"
      ]
     },
     "execution_count": 44,
     "metadata": {},
     "output_type": "execute_result"
    }
   ],
   "source": [
    "accuracy_score(pred_g1,y_test)*100"
   ]
  },
  {
   "cell_type": "code",
   "execution_count": 45,
   "id": "7afef220",
   "metadata": {
    "execution": {
     "iopub.execute_input": "2023-01-25T05:23:11.951638Z",
     "iopub.status.busy": "2023-01-25T05:23:11.935988Z",
     "iopub.status.idle": "2023-01-25T05:23:11.975307Z",
     "shell.execute_reply": "2023-01-25T05:23:11.975869Z",
     "shell.execute_reply.started": "2022-01-31T12:36:53.809338Z"
    },
    "papermill": {
     "duration": 0.150626,
     "end_time": "2023-01-25T05:23:11.976074",
     "exception": false,
     "start_time": "2023-01-25T05:23:11.825448",
     "status": "completed"
    },
    "tags": []
   },
   "outputs": [
    {
     "data": {
      "text/html": [
       "<style>div.sk-top-container {color: black;background-color: white;}div.sk-toggleable {background-color: white;}label.sk-toggleable__label {cursor: pointer;display: block;width: 100%;margin-bottom: 0;padding: 0.2em 0.3em;box-sizing: border-box;text-align: center;}div.sk-toggleable__content {max-height: 0;max-width: 0;overflow: hidden;text-align: left;background-color: #f0f8ff;}div.sk-toggleable__content pre {margin: 0.2em;color: black;border-radius: 0.25em;background-color: #f0f8ff;}input.sk-toggleable__control:checked~div.sk-toggleable__content {max-height: 200px;max-width: 100%;overflow: auto;}div.sk-estimator input.sk-toggleable__control:checked~label.sk-toggleable__label {background-color: #d4ebff;}div.sk-label input.sk-toggleable__control:checked~label.sk-toggleable__label {background-color: #d4ebff;}input.sk-hidden--visually {border: 0;clip: rect(1px 1px 1px 1px);clip: rect(1px, 1px, 1px, 1px);height: 1px;margin: -1px;overflow: hidden;padding: 0;position: absolute;width: 1px;}div.sk-estimator {font-family: monospace;background-color: #f0f8ff;margin: 0.25em 0.25em;border: 1px dotted black;border-radius: 0.25em;box-sizing: border-box;}div.sk-estimator:hover {background-color: #d4ebff;}div.sk-parallel-item::after {content: \"\";width: 100%;border-bottom: 1px solid gray;flex-grow: 1;}div.sk-label:hover label.sk-toggleable__label {background-color: #d4ebff;}div.sk-serial::before {content: \"\";position: absolute;border-left: 1px solid gray;box-sizing: border-box;top: 2em;bottom: 0;left: 50%;}div.sk-serial {display: flex;flex-direction: column;align-items: center;background-color: white;}div.sk-item {z-index: 1;}div.sk-parallel {display: flex;align-items: stretch;justify-content: center;background-color: white;}div.sk-parallel-item {display: flex;flex-direction: column;position: relative;background-color: white;}div.sk-parallel-item:first-child::after {align-self: flex-end;width: 50%;}div.sk-parallel-item:last-child::after {align-self: flex-start;width: 50%;}div.sk-parallel-item:only-child::after {width: 0;}div.sk-dashed-wrapped {border: 1px dashed gray;margin: 0.2em;box-sizing: border-box;padding-bottom: 0.1em;background-color: white;position: relative;}div.sk-label label {font-family: monospace;font-weight: bold;background-color: white;display: inline-block;line-height: 1.2em;}div.sk-label-container {position: relative;z-index: 2;text-align: center;}div.sk-container {display: inline-block;position: relative;}</style><div class=\"sk-top-container\"><div class=\"sk-container\"><div class=\"sk-item sk-dashed-wrapped\"><div class=\"sk-label-container\"><div class=\"sk-label sk-toggleable\"><input class=\"sk-toggleable__control sk-hidden--visually\" id=\"66899c98-d484-4c16-bdb7-62db3c309a82\" type=\"checkbox\" ><label class=\"sk-toggleable__label\" for=\"66899c98-d484-4c16-bdb7-62db3c309a82\">Pipeline</label><div class=\"sk-toggleable__content\"><pre>Pipeline(steps=[('columntransformer',\n",
       "                 ColumnTransformer(remainder='passthrough',\n",
       "                                   transformers=[('onehotencoder',\n",
       "                                                  OneHotEncoder(sparse=False),\n",
       "                                                  [2]),\n",
       "                                                 ('ordinalencoder',\n",
       "                                                  OrdinalEncoder(), [1])])),\n",
       "                ('randomizedsearchcv',\n",
       "                 RandomizedSearchCV(estimator=DecisionTreeClassifier(),\n",
       "                                    param_distributions={'criterion': ['gini',\n",
       "                                                                       'entropy'],\n",
       "                                                         'max_depth': [None, 2,\n",
       "                                                                       5, 10],\n",
       "                                                         'min_samples_split': [2,\n",
       "                                                                               10,\n",
       "                                                                               100]},\n",
       "                                    verbose=3))])</pre></div></div></div><div class=\"sk-serial\"><div class=\"sk-item sk-dashed-wrapped\"><div class=\"sk-label-container\"><div class=\"sk-label sk-toggleable\"><input class=\"sk-toggleable__control sk-hidden--visually\" id=\"95bcd29a-345e-46bd-bce5-d5ea7d32c1e5\" type=\"checkbox\" ><label class=\"sk-toggleable__label\" for=\"95bcd29a-345e-46bd-bce5-d5ea7d32c1e5\">columntransformer: ColumnTransformer</label><div class=\"sk-toggleable__content\"><pre>ColumnTransformer(remainder='passthrough',\n",
       "                  transformers=[('onehotencoder', OneHotEncoder(sparse=False),\n",
       "                                 [2]),\n",
       "                                ('ordinalencoder', OrdinalEncoder(), [1])])</pre></div></div></div><div class=\"sk-parallel\"><div class=\"sk-parallel-item\"><div class=\"sk-item\"><div class=\"sk-label-container\"><div class=\"sk-label sk-toggleable\"><input class=\"sk-toggleable__control sk-hidden--visually\" id=\"21f4b209-b322-4b01-88be-9eeeb25b2a45\" type=\"checkbox\" ><label class=\"sk-toggleable__label\" for=\"21f4b209-b322-4b01-88be-9eeeb25b2a45\">onehotencoder</label><div class=\"sk-toggleable__content\"><pre>[2]</pre></div></div></div><div class=\"sk-serial\"><div class=\"sk-item\"><div class=\"sk-estimator sk-toggleable\"><input class=\"sk-toggleable__control sk-hidden--visually\" id=\"4c00afb3-9b0c-4bf9-8c36-fa42cdfc67a5\" type=\"checkbox\" ><label class=\"sk-toggleable__label\" for=\"4c00afb3-9b0c-4bf9-8c36-fa42cdfc67a5\">OneHotEncoder</label><div class=\"sk-toggleable__content\"><pre>OneHotEncoder(sparse=False)</pre></div></div></div></div></div></div><div class=\"sk-parallel-item\"><div class=\"sk-item\"><div class=\"sk-label-container\"><div class=\"sk-label sk-toggleable\"><input class=\"sk-toggleable__control sk-hidden--visually\" id=\"f379a4fb-b875-4efe-85e7-8c70ca1097c1\" type=\"checkbox\" ><label class=\"sk-toggleable__label\" for=\"f379a4fb-b875-4efe-85e7-8c70ca1097c1\">ordinalencoder</label><div class=\"sk-toggleable__content\"><pre>[1]</pre></div></div></div><div class=\"sk-serial\"><div class=\"sk-item\"><div class=\"sk-estimator sk-toggleable\"><input class=\"sk-toggleable__control sk-hidden--visually\" id=\"b291d772-4d7e-4892-830e-8bc85b3b7f15\" type=\"checkbox\" ><label class=\"sk-toggleable__label\" for=\"b291d772-4d7e-4892-830e-8bc85b3b7f15\">OrdinalEncoder</label><div class=\"sk-toggleable__content\"><pre>OrdinalEncoder()</pre></div></div></div></div></div></div></div></div><div class=\"sk-item sk-dashed-wrapped\"><div class=\"sk-label-container\"><div class=\"sk-label sk-toggleable\"><input class=\"sk-toggleable__control sk-hidden--visually\" id=\"3c27bdc2-a807-46c9-8496-e57f311ae599\" type=\"checkbox\" ><label class=\"sk-toggleable__label\" for=\"3c27bdc2-a807-46c9-8496-e57f311ae599\">randomizedsearchcv: RandomizedSearchCV</label><div class=\"sk-toggleable__content\"><pre>RandomizedSearchCV(estimator=DecisionTreeClassifier(),\n",
       "                   param_distributions={'criterion': ['gini', 'entropy'],\n",
       "                                        'max_depth': [None, 2, 5, 10],\n",
       "                                        'min_samples_split': [2, 10, 100]},\n",
       "                   verbose=3)</pre></div></div></div><div class=\"sk-parallel\"><div class=\"sk-parallel-item\"><div class=\"sk-item\"><div class=\"sk-serial\"><div class=\"sk-item\"><div class=\"sk-estimator sk-toggleable\"><input class=\"sk-toggleable__control sk-hidden--visually\" id=\"ca7cf49f-7e62-4c39-90c6-66ef8c563f90\" type=\"checkbox\" ><label class=\"sk-toggleable__label\" for=\"ca7cf49f-7e62-4c39-90c6-66ef8c563f90\">DecisionTreeClassifier</label><div class=\"sk-toggleable__content\"><pre>DecisionTreeClassifier()</pre></div></div></div></div></div></div></div></div></div></div></div></div>"
      ],
      "text/plain": [
       "Pipeline(steps=[('columntransformer',\n",
       "                 ColumnTransformer(remainder='passthrough',\n",
       "                                   transformers=[('onehotencoder',\n",
       "                                                  OneHotEncoder(sparse=False),\n",
       "                                                  [2]),\n",
       "                                                 ('ordinalencoder',\n",
       "                                                  OrdinalEncoder(), [1])])),\n",
       "                ('randomizedsearchcv',\n",
       "                 RandomizedSearchCV(estimator=DecisionTreeClassifier(),\n",
       "                                    param_distributions={'criterion': ['gini',\n",
       "                                                                       'entropy'],\n",
       "                                                         'max_depth': [None, 2,\n",
       "                                                                       5, 10],\n",
       "                                                         'min_samples_split': [2,\n",
       "                                                                               10,\n",
       "                                                                               100]},\n",
       "                                    verbose=3))])"
      ]
     },
     "execution_count": 45,
     "metadata": {},
     "output_type": "execute_result"
    }
   ],
   "source": [
    "from sklearn.model_selection import RandomizedSearchCV\n",
    "params_r={'criterion':['gini','entropy'],'max_depth':[None,2,5,10],'min_samples_split':[2,10,100]}\n",
    "pipe_r=make_pipeline(trans,RandomizedSearchCV(algo_d,params_r,verbose=3,refit=True))\n",
    "pipe_r"
   ]
  },
  {
   "cell_type": "code",
   "execution_count": 46,
   "id": "32e08d81",
   "metadata": {
    "execution": {
     "iopub.execute_input": "2023-01-25T05:23:12.169565Z",
     "iopub.status.busy": "2023-01-25T05:23:12.168893Z",
     "iopub.status.idle": "2023-01-25T05:23:12.709763Z",
     "shell.execute_reply": "2023-01-25T05:23:12.709163Z",
     "shell.execute_reply.started": "2022-01-31T12:36:53.867777Z"
    },
    "papermill": {
     "duration": 0.640642,
     "end_time": "2023-01-25T05:23:12.709923",
     "exception": false,
     "start_time": "2023-01-25T05:23:12.069281",
     "status": "completed"
    },
    "tags": []
   },
   "outputs": [
    {
     "name": "stdout",
     "output_type": "stream",
     "text": [
      "Fitting 5 folds for each of 10 candidates, totalling 50 fits\n",
      "[CV] min_samples_split=10, max_depth=5, criterion=gini ...............\n",
      "[CV]  min_samples_split=10, max_depth=5, criterion=gini, score=0.839, total=   0.0s\n",
      "[CV] min_samples_split=10, max_depth=5, criterion=gini ...............\n",
      "[CV]  min_samples_split=10, max_depth=5, criterion=gini, score=0.869, total=   0.0s\n",
      "[CV] min_samples_split=10, max_depth=5, criterion=gini ...............\n",
      "[CV]  min_samples_split=10, max_depth=5, criterion=gini, score=0.866, total=   0.0s\n",
      "[CV] min_samples_split=10, max_depth=5, criterion=gini ...............\n",
      "[CV]  min_samples_split=10, max_depth=5, criterion=gini, score=0.856, total=   0.0s\n",
      "[CV] min_samples_split=10, max_depth=5, criterion=gini ...............\n",
      "[CV]  min_samples_split=10, max_depth=5, criterion=gini, score=0.890, total=   0.0s\n",
      "[CV] min_samples_split=2, max_depth=5, criterion=entropy .............\n",
      "[CV]  min_samples_split=2, max_depth=5, criterion=entropy, score=0.853, total=   0.0s\n",
      "[CV] min_samples_split=2, max_depth=5, criterion=entropy .............\n",
      "[CV]  min_samples_split=2, max_depth=5, criterion=entropy, score=0.869, total=   0.0s\n",
      "[CV] min_samples_split=2, max_depth=5, criterion=entropy .............\n",
      "[CV]  min_samples_split=2, max_depth=5, criterion=entropy, score=0.887, total=   0.0s\n",
      "[CV] min_samples_split=2, max_depth=5, criterion=entropy .............\n",
      "[CV]  min_samples_split=2, max_depth=5, criterion=entropy, score=0.873, total=   0.0s\n",
      "[CV] min_samples_split=2, max_depth=5, criterion=entropy .............\n",
      "[CV]  min_samples_split=2, max_depth=5, criterion=entropy, score=0.856, total=   0.0s\n",
      "[CV] min_samples_split=2, max_depth=5, criterion=gini ................\n",
      "[CV]  min_samples_split=2, max_depth=5, criterion=gini, score=0.839, total=   0.0s\n",
      "[CV] min_samples_split=2, max_depth=5, criterion=gini ................\n",
      "[CV]  min_samples_split=2, max_depth=5, criterion=gini, score=0.869, total=   0.0s\n",
      "[CV] min_samples_split=2, max_depth=5, criterion=gini ................\n",
      "[CV]  min_samples_split=2, max_depth=5, criterion=gini, score=0.866, total=   0.0s\n",
      "[CV] min_samples_split=2, max_depth=5, criterion=gini ................\n",
      "[CV]  min_samples_split=2, max_depth=5, criterion=gini, score=0.856, total=   0.0s\n",
      "[CV] min_samples_split=2, max_depth=5, criterion=gini ................\n",
      "[CV]  min_samples_split=2, max_depth=5, criterion=gini, score=0.887, total=   0.0s\n",
      "[CV] min_samples_split=2, max_depth=2, criterion=gini ................\n",
      "[CV]  min_samples_split=2, max_depth=2, criterion=gini, score=0.856, total=   0.0s\n",
      "[CV] min_samples_split=2, max_depth=2, criterion=gini ................\n",
      "[CV]  min_samples_split=2, max_depth=2, criterion=gini, score=0.859, total=   0.0s\n",
      "[CV] min_samples_split=2, max_depth=2, criterion=gini ................\n",
      "[CV]  min_samples_split=2, max_depth=2, criterion=gini, score=0.842, total=   0.0s\n",
      "[CV] min_samples_split=2, max_depth=2, criterion=gini ................\n",
      "[CV]  min_samples_split=2, max_depth=2, criterion=gini, score=0.859, total=   0.0s\n",
      "[CV] min_samples_split=2, max_depth=2, criterion=gini ................\n",
      "[CV]  min_samples_split=2, max_depth=2, criterion=gini, score=0.859, total=   0.0s\n",
      "[CV] min_samples_split=100, max_depth=5, criterion=gini ..............\n",
      "[CV]  min_samples_split=100, max_depth=5, criterion=gini, score=0.839, total=   0.0s\n",
      "[CV] min_samples_split=100, max_depth=5, criterion=gini ..............\n",
      "[CV]  min_samples_split=100, max_depth=5, criterion=gini, score=0.866, total=   0.0s\n",
      "[CV] min_samples_split=100, max_depth=5, criterion=gini ..............\n",
      "[CV]  min_samples_split=100, max_depth=5, criterion=gini, score=0.835, total=   0.0s\n",
      "[CV] min_samples_split=100, max_depth=5, criterion=gini ..............\n"
     ]
    },
    {
     "name": "stderr",
     "output_type": "stream",
     "text": [
      "[Parallel(n_jobs=1)]: Using backend SequentialBackend with 1 concurrent workers.\n",
      "[Parallel(n_jobs=1)]: Done   1 out of   1 | elapsed:    0.0s remaining:    0.0s\n",
      "[Parallel(n_jobs=1)]: Done   2 out of   2 | elapsed:    0.0s remaining:    0.0s\n"
     ]
    },
    {
     "name": "stdout",
     "output_type": "stream",
     "text": [
      "[CV]  min_samples_split=100, max_depth=5, criterion=gini, score=0.838, total=   0.0s\n",
      "[CV] min_samples_split=100, max_depth=5, criterion=gini ..............\n",
      "[CV]  min_samples_split=100, max_depth=5, criterion=gini, score=0.852, total=   0.0s\n",
      "[CV] min_samples_split=2, max_depth=10, criterion=entropy ............\n",
      "[CV]  min_samples_split=2, max_depth=10, criterion=entropy, score=0.825, total=   0.0s\n",
      "[CV] min_samples_split=2, max_depth=10, criterion=entropy ............\n",
      "[CV]  min_samples_split=2, max_depth=10, criterion=entropy, score=0.842, total=   0.0s\n",
      "[CV] min_samples_split=2, max_depth=10, criterion=entropy ............\n",
      "[CV]  min_samples_split=2, max_depth=10, criterion=entropy, score=0.852, total=   0.0s\n",
      "[CV] min_samples_split=2, max_depth=10, criterion=entropy ............\n",
      "[CV]  min_samples_split=2, max_depth=10, criterion=entropy, score=0.845, total=   0.0s\n",
      "[CV] min_samples_split=2, max_depth=10, criterion=entropy ............\n",
      "[CV]  min_samples_split=2, max_depth=10, criterion=entropy, score=0.849, total=   0.0s\n",
      "[CV] min_samples_split=10, max_depth=2, criterion=entropy ............\n",
      "[CV]  min_samples_split=10, max_depth=2, criterion=entropy, score=0.856, total=   0.0s\n",
      "[CV] min_samples_split=10, max_depth=2, criterion=entropy ............\n",
      "[CV]  min_samples_split=10, max_depth=2, criterion=entropy, score=0.859, total=   0.0s\n",
      "[CV] min_samples_split=10, max_depth=2, criterion=entropy ............\n",
      "[CV]  min_samples_split=10, max_depth=2, criterion=entropy, score=0.842, total=   0.0s\n",
      "[CV] min_samples_split=10, max_depth=2, criterion=entropy ............\n",
      "[CV]  min_samples_split=10, max_depth=2, criterion=entropy, score=0.859, total=   0.0s\n",
      "[CV] min_samples_split=10, max_depth=2, criterion=entropy ............\n",
      "[CV]  min_samples_split=10, max_depth=2, criterion=entropy, score=0.859, total=   0.0s\n",
      "[CV] min_samples_split=10, max_depth=10, criterion=gini ..............\n",
      "[CV]  min_samples_split=10, max_depth=10, criterion=gini, score=0.781, total=   0.0s\n",
      "[CV] min_samples_split=10, max_depth=10, criterion=gini ..............\n",
      "[CV]  min_samples_split=10, max_depth=10, criterion=gini, score=0.845, total=   0.0s\n",
      "[CV] min_samples_split=10, max_depth=10, criterion=gini ..............\n",
      "[CV]  min_samples_split=10, max_depth=10, criterion=gini, score=0.842, total=   0.0s\n",
      "[CV] min_samples_split=10, max_depth=10, criterion=gini ..............\n",
      "[CV]  min_samples_split=10, max_depth=10, criterion=gini, score=0.852, total=   0.0s\n",
      "[CV] min_samples_split=10, max_depth=10, criterion=gini ..............\n",
      "[CV]  min_samples_split=10, max_depth=10, criterion=gini, score=0.869, total=   0.0s\n",
      "[CV] min_samples_split=100, max_depth=5, criterion=entropy ...........\n",
      "[CV]  min_samples_split=100, max_depth=5, criterion=entropy, score=0.863, total=   0.0s\n",
      "[CV] min_samples_split=100, max_depth=5, criterion=entropy ...........\n",
      "[CV]  min_samples_split=100, max_depth=5, criterion=entropy, score=0.863, total=   0.0s\n",
      "[CV] min_samples_split=100, max_depth=5, criterion=entropy ...........\n",
      "[CV]  min_samples_split=100, max_depth=5, criterion=entropy, score=0.863, total=   0.0s\n",
      "[CV] min_samples_split=100, max_depth=5, criterion=entropy ...........\n",
      "[CV]  min_samples_split=100, max_depth=5, criterion=entropy, score=0.856, total=   0.0s\n",
      "[CV] min_samples_split=100, max_depth=5, criterion=entropy ...........\n",
      "[CV]  min_samples_split=100, max_depth=5, criterion=entropy, score=0.842, total=   0.0s\n",
      "[CV] min_samples_split=100, max_depth=2, criterion=entropy ...........\n",
      "[CV]  min_samples_split=100, max_depth=2, criterion=entropy, score=0.863, total=   0.0s\n",
      "[CV] min_samples_split=100, max_depth=2, criterion=entropy ...........\n",
      "[CV]  min_samples_split=100, max_depth=2, criterion=entropy, score=0.866, total=   0.0s\n",
      "[CV] min_samples_split=100, max_depth=2, criterion=entropy ...........\n",
      "[CV]  min_samples_split=100, max_depth=2, criterion=entropy, score=0.852, total=   0.0s\n",
      "[CV] min_samples_split=100, max_depth=2, criterion=entropy ...........\n",
      "[CV]  min_samples_split=100, max_depth=2, criterion=entropy, score=0.845, total=   0.0s\n",
      "[CV] min_samples_split=100, max_depth=2, criterion=entropy ...........\n",
      "[CV]  min_samples_split=100, max_depth=2, criterion=entropy, score=0.852, total=   0.0s\n"
     ]
    },
    {
     "name": "stderr",
     "output_type": "stream",
     "text": [
      "[Parallel(n_jobs=1)]: Done  50 out of  50 | elapsed:    0.5s finished\n"
     ]
    },
    {
     "data": {
      "text/html": [
       "<style>div.sk-top-container {color: black;background-color: white;}div.sk-toggleable {background-color: white;}label.sk-toggleable__label {cursor: pointer;display: block;width: 100%;margin-bottom: 0;padding: 0.2em 0.3em;box-sizing: border-box;text-align: center;}div.sk-toggleable__content {max-height: 0;max-width: 0;overflow: hidden;text-align: left;background-color: #f0f8ff;}div.sk-toggleable__content pre {margin: 0.2em;color: black;border-radius: 0.25em;background-color: #f0f8ff;}input.sk-toggleable__control:checked~div.sk-toggleable__content {max-height: 200px;max-width: 100%;overflow: auto;}div.sk-estimator input.sk-toggleable__control:checked~label.sk-toggleable__label {background-color: #d4ebff;}div.sk-label input.sk-toggleable__control:checked~label.sk-toggleable__label {background-color: #d4ebff;}input.sk-hidden--visually {border: 0;clip: rect(1px 1px 1px 1px);clip: rect(1px, 1px, 1px, 1px);height: 1px;margin: -1px;overflow: hidden;padding: 0;position: absolute;width: 1px;}div.sk-estimator {font-family: monospace;background-color: #f0f8ff;margin: 0.25em 0.25em;border: 1px dotted black;border-radius: 0.25em;box-sizing: border-box;}div.sk-estimator:hover {background-color: #d4ebff;}div.sk-parallel-item::after {content: \"\";width: 100%;border-bottom: 1px solid gray;flex-grow: 1;}div.sk-label:hover label.sk-toggleable__label {background-color: #d4ebff;}div.sk-serial::before {content: \"\";position: absolute;border-left: 1px solid gray;box-sizing: border-box;top: 2em;bottom: 0;left: 50%;}div.sk-serial {display: flex;flex-direction: column;align-items: center;background-color: white;}div.sk-item {z-index: 1;}div.sk-parallel {display: flex;align-items: stretch;justify-content: center;background-color: white;}div.sk-parallel-item {display: flex;flex-direction: column;position: relative;background-color: white;}div.sk-parallel-item:first-child::after {align-self: flex-end;width: 50%;}div.sk-parallel-item:last-child::after {align-self: flex-start;width: 50%;}div.sk-parallel-item:only-child::after {width: 0;}div.sk-dashed-wrapped {border: 1px dashed gray;margin: 0.2em;box-sizing: border-box;padding-bottom: 0.1em;background-color: white;position: relative;}div.sk-label label {font-family: monospace;font-weight: bold;background-color: white;display: inline-block;line-height: 1.2em;}div.sk-label-container {position: relative;z-index: 2;text-align: center;}div.sk-container {display: inline-block;position: relative;}</style><div class=\"sk-top-container\"><div class=\"sk-container\"><div class=\"sk-item sk-dashed-wrapped\"><div class=\"sk-label-container\"><div class=\"sk-label sk-toggleable\"><input class=\"sk-toggleable__control sk-hidden--visually\" id=\"8391677c-8847-4a4f-adb3-8e78f220f715\" type=\"checkbox\" ><label class=\"sk-toggleable__label\" for=\"8391677c-8847-4a4f-adb3-8e78f220f715\">Pipeline</label><div class=\"sk-toggleable__content\"><pre>Pipeline(steps=[('columntransformer',\n",
       "                 ColumnTransformer(remainder='passthrough',\n",
       "                                   transformers=[('onehotencoder',\n",
       "                                                  OneHotEncoder(sparse=False),\n",
       "                                                  [2]),\n",
       "                                                 ('ordinalencoder',\n",
       "                                                  OrdinalEncoder(), [1])])),\n",
       "                ('randomizedsearchcv',\n",
       "                 RandomizedSearchCV(estimator=DecisionTreeClassifier(),\n",
       "                                    param_distributions={'criterion': ['gini',\n",
       "                                                                       'entropy'],\n",
       "                                                         'max_depth': [None, 2,\n",
       "                                                                       5, 10],\n",
       "                                                         'min_samples_split': [2,\n",
       "                                                                               10,\n",
       "                                                                               100]},\n",
       "                                    verbose=3))])</pre></div></div></div><div class=\"sk-serial\"><div class=\"sk-item sk-dashed-wrapped\"><div class=\"sk-label-container\"><div class=\"sk-label sk-toggleable\"><input class=\"sk-toggleable__control sk-hidden--visually\" id=\"4c059171-d975-4696-b5c1-0a27893ee7c6\" type=\"checkbox\" ><label class=\"sk-toggleable__label\" for=\"4c059171-d975-4696-b5c1-0a27893ee7c6\">columntransformer: ColumnTransformer</label><div class=\"sk-toggleable__content\"><pre>ColumnTransformer(remainder='passthrough',\n",
       "                  transformers=[('onehotencoder', OneHotEncoder(sparse=False),\n",
       "                                 [2]),\n",
       "                                ('ordinalencoder', OrdinalEncoder(), [1])])</pre></div></div></div><div class=\"sk-parallel\"><div class=\"sk-parallel-item\"><div class=\"sk-item\"><div class=\"sk-label-container\"><div class=\"sk-label sk-toggleable\"><input class=\"sk-toggleable__control sk-hidden--visually\" id=\"6c1fa4c6-71a9-499f-af65-2c897393b350\" type=\"checkbox\" ><label class=\"sk-toggleable__label\" for=\"6c1fa4c6-71a9-499f-af65-2c897393b350\">onehotencoder</label><div class=\"sk-toggleable__content\"><pre>[2]</pre></div></div></div><div class=\"sk-serial\"><div class=\"sk-item\"><div class=\"sk-estimator sk-toggleable\"><input class=\"sk-toggleable__control sk-hidden--visually\" id=\"4702553e-7679-49c1-ab78-cfc29d332d74\" type=\"checkbox\" ><label class=\"sk-toggleable__label\" for=\"4702553e-7679-49c1-ab78-cfc29d332d74\">OneHotEncoder</label><div class=\"sk-toggleable__content\"><pre>OneHotEncoder(sparse=False)</pre></div></div></div></div></div></div><div class=\"sk-parallel-item\"><div class=\"sk-item\"><div class=\"sk-label-container\"><div class=\"sk-label sk-toggleable\"><input class=\"sk-toggleable__control sk-hidden--visually\" id=\"8b8e4413-f425-4de3-afd0-8b9c39304ffe\" type=\"checkbox\" ><label class=\"sk-toggleable__label\" for=\"8b8e4413-f425-4de3-afd0-8b9c39304ffe\">ordinalencoder</label><div class=\"sk-toggleable__content\"><pre>[1]</pre></div></div></div><div class=\"sk-serial\"><div class=\"sk-item\"><div class=\"sk-estimator sk-toggleable\"><input class=\"sk-toggleable__control sk-hidden--visually\" id=\"2a95b4f0-10b8-492d-b6ac-78762dc63698\" type=\"checkbox\" ><label class=\"sk-toggleable__label\" for=\"2a95b4f0-10b8-492d-b6ac-78762dc63698\">OrdinalEncoder</label><div class=\"sk-toggleable__content\"><pre>OrdinalEncoder()</pre></div></div></div></div></div></div></div></div><div class=\"sk-item sk-dashed-wrapped\"><div class=\"sk-label-container\"><div class=\"sk-label sk-toggleable\"><input class=\"sk-toggleable__control sk-hidden--visually\" id=\"7ff7f4ff-71a2-47f4-9275-14ba74845944\" type=\"checkbox\" ><label class=\"sk-toggleable__label\" for=\"7ff7f4ff-71a2-47f4-9275-14ba74845944\">randomizedsearchcv: RandomizedSearchCV</label><div class=\"sk-toggleable__content\"><pre>RandomizedSearchCV(estimator=DecisionTreeClassifier(),\n",
       "                   param_distributions={'criterion': ['gini', 'entropy'],\n",
       "                                        'max_depth': [None, 2, 5, 10],\n",
       "                                        'min_samples_split': [2, 10, 100]},\n",
       "                   verbose=3)</pre></div></div></div><div class=\"sk-parallel\"><div class=\"sk-parallel-item\"><div class=\"sk-item\"><div class=\"sk-serial\"><div class=\"sk-item\"><div class=\"sk-estimator sk-toggleable\"><input class=\"sk-toggleable__control sk-hidden--visually\" id=\"3f177ae2-c71b-42fb-867e-3bc83ccea857\" type=\"checkbox\" ><label class=\"sk-toggleable__label\" for=\"3f177ae2-c71b-42fb-867e-3bc83ccea857\">DecisionTreeClassifier</label><div class=\"sk-toggleable__content\"><pre>DecisionTreeClassifier()</pre></div></div></div></div></div></div></div></div></div></div></div></div>"
      ],
      "text/plain": [
       "Pipeline(steps=[('columntransformer',\n",
       "                 ColumnTransformer(remainder='passthrough',\n",
       "                                   transformers=[('onehotencoder',\n",
       "                                                  OneHotEncoder(sparse=False),\n",
       "                                                  [2]),\n",
       "                                                 ('ordinalencoder',\n",
       "                                                  OrdinalEncoder(), [1])])),\n",
       "                ('randomizedsearchcv',\n",
       "                 RandomizedSearchCV(estimator=DecisionTreeClassifier(),\n",
       "                                    param_distributions={'criterion': ['gini',\n",
       "                                                                       'entropy'],\n",
       "                                                         'max_depth': [None, 2,\n",
       "                                                                       5, 10],\n",
       "                                                         'min_samples_split': [2,\n",
       "                                                                               10,\n",
       "                                                                               100]},\n",
       "                                    verbose=3))])"
      ]
     },
     "execution_count": 46,
     "metadata": {},
     "output_type": "execute_result"
    }
   ],
   "source": [
    "pipe_r.fit(x_train,y_train)"
   ]
  },
  {
   "cell_type": "code",
   "execution_count": 47,
   "id": "5f4a07f6",
   "metadata": {
    "execution": {
     "iopub.execute_input": "2023-01-25T05:23:12.905265Z",
     "iopub.status.busy": "2023-01-25T05:23:12.904480Z",
     "iopub.status.idle": "2023-01-25T05:23:12.915482Z",
     "shell.execute_reply": "2023-01-25T05:23:12.916087Z",
     "shell.execute_reply.started": "2022-01-31T12:36:54.426652Z"
    },
    "papermill": {
     "duration": 0.109382,
     "end_time": "2023-01-25T05:23:12.916272",
     "exception": false,
     "start_time": "2023-01-25T05:23:12.806890",
     "status": "completed"
    },
    "tags": []
   },
   "outputs": [
    {
     "data": {
      "text/plain": [
       "array([0, 0, 0, 0, 0, 0, 0, 0, 0, 0, 1, 0, 0, 0, 0, 0, 1, 0, 0, 0, 0, 0,\n",
       "       0, 0, 0, 0, 0, 0, 0, 0, 0, 0, 0, 0, 1, 0, 0, 0, 1, 0, 0, 0, 0, 0,\n",
       "       0, 0, 0, 0, 0, 0, 0, 0, 0, 0, 0, 0, 0, 0, 0, 1, 0, 0, 0, 0, 0, 0,\n",
       "       0, 0, 1, 0, 0, 0, 0, 0, 0, 0, 0, 0, 0, 0, 0, 0, 0, 0, 0, 0, 0, 0,\n",
       "       0, 0, 0, 0, 0, 0, 0, 0, 0, 0, 1, 0, 0, 0, 0, 0, 0, 0, 0, 0, 0, 0,\n",
       "       0, 0, 0, 1, 0, 0, 0, 0, 0, 0, 0, 0, 0, 0, 0, 0, 0, 0, 0, 0, 1, 0,\n",
       "       0, 0, 0, 0, 0, 0, 0, 0, 0, 0, 0, 0, 0, 0, 0, 1, 0, 0, 0, 1, 0, 0,\n",
       "       0, 0, 0, 0, 0, 0, 0, 0, 0, 0, 0, 0, 0, 1, 0, 0, 0, 0, 0, 0, 0, 0,\n",
       "       0, 0, 0, 0, 0, 0, 0, 0, 0, 0, 0, 0, 0, 0, 0, 0, 0, 1, 1, 0, 0, 0,\n",
       "       0, 0, 0, 1, 0, 0, 0, 0, 0, 0, 1, 0, 0, 0, 0, 0, 0, 0, 0, 0, 0, 0,\n",
       "       0, 0, 0, 0, 0, 0, 0, 0, 0, 0, 0, 0, 0, 0, 0, 0, 0, 0, 0, 0, 1, 0,\n",
       "       1, 0, 1, 0, 0, 0, 0, 0, 0, 0, 0, 0, 0, 0, 0, 0, 0, 0, 0, 0, 0, 0,\n",
       "       0, 0, 0, 0, 0, 0, 0, 0, 0, 0, 0, 0, 0, 0, 0, 1, 0, 0, 0, 0, 0, 0,\n",
       "       0, 0, 0, 0, 0, 0, 0, 1, 0, 0, 0, 0, 0, 0, 0, 0, 0, 0, 0, 0, 1, 0,\n",
       "       0, 0, 0, 0, 0, 0, 0, 0, 0, 0, 0, 0, 0, 0, 0, 0, 0, 0, 0, 0, 0, 0,\n",
       "       0, 0, 0, 0, 0, 0, 0, 0, 0, 1, 0, 0, 0, 0, 0, 0, 0, 0, 0, 1, 0, 0,\n",
       "       0, 0, 0, 0, 0, 0, 0, 0, 0, 0, 0, 0, 0, 0, 0, 1, 0, 1, 0, 0, 1, 1,\n",
       "       0, 0, 0, 0, 0, 0, 0, 0, 0, 0, 0, 0, 0, 0, 0, 0, 0, 0, 0, 0, 0, 0,\n",
       "       0, 1, 0, 0, 0, 0, 0, 0, 0, 0, 0, 0, 0, 0, 0, 0, 0, 0, 0, 1, 0, 0,\n",
       "       0, 1, 0, 0, 0, 0, 0, 0, 0, 0, 0, 0, 0, 0, 0, 0, 0, 1, 0, 0, 0, 1,\n",
       "       0, 0, 0, 0, 0, 0, 0, 0, 0, 0, 0, 0, 0, 0, 0, 0, 0, 0, 0, 1, 0, 0,\n",
       "       0, 0, 0, 0, 0, 1, 0, 0, 0, 0, 0, 0, 0, 0, 0, 0, 0, 0, 0, 0, 0, 0,\n",
       "       0, 0, 0, 0, 0, 0, 0, 0, 0, 0, 0, 0, 0, 0, 0, 0, 0, 0, 0, 0, 1, 0,\n",
       "       0, 0, 0, 0, 0, 0, 0, 0, 0, 0, 0, 0, 0, 0, 0, 0, 1, 0, 0, 0, 0, 0,\n",
       "       0, 0, 0, 1, 0, 0, 0, 0, 0, 0, 0, 0, 0, 0, 0, 1, 0, 0, 0, 1, 0, 0,\n",
       "       1, 0, 0, 0, 0, 0, 0, 0, 0, 0, 0, 0, 0, 1, 0, 0, 0, 0, 0, 1, 0, 0,\n",
       "       0, 0, 0, 0, 0, 0, 0, 0, 0, 0, 1, 0, 0, 0, 0, 0, 0, 0, 0, 0, 0, 0,\n",
       "       0, 0, 0, 0, 0, 0, 0, 0, 0, 0, 1, 0, 0, 0, 0, 0, 0, 0, 0, 0, 0, 1,\n",
       "       0, 0, 0, 0, 0, 0, 0, 0, 0, 0, 0, 0, 0, 0, 0, 0, 0, 0, 0, 0, 0, 0,\n",
       "       0, 1, 0, 0, 0, 0, 0, 0, 1, 1, 0, 1, 0, 0, 0, 0, 0, 0, 0, 0, 0, 0,\n",
       "       0, 0, 0, 0, 0, 0, 0, 0, 0, 0, 0, 0, 0, 0, 0, 0, 0, 0, 0, 0, 0, 0,\n",
       "       0, 1, 0, 0, 1, 0, 0, 0, 0, 1, 0, 0, 0, 1, 0, 0, 0, 0, 0, 0, 0, 0,\n",
       "       0, 0, 0, 0, 0, 0, 0, 0, 0, 0, 1, 0, 0, 0, 0, 0, 0, 0, 0, 0, 0, 0,\n",
       "       0, 0, 0, 0, 0, 0, 0, 1, 0, 0, 0, 1, 0, 1, 0, 0, 0, 0, 0, 0, 0, 0,\n",
       "       0, 0, 1, 0, 0, 0, 0, 0, 0, 0, 0, 0, 1, 0, 0, 0, 1, 0, 0, 1, 0, 0,\n",
       "       0, 0, 0, 0, 0, 0, 0, 0, 0, 0, 0, 0, 0, 0])"
      ]
     },
     "execution_count": 47,
     "metadata": {},
     "output_type": "execute_result"
    }
   ],
   "source": [
    "pred_r=pipe_r.predict(x_test)\n",
    "pred_r"
   ]
  },
  {
   "cell_type": "code",
   "execution_count": 48,
   "id": "0b3dcb6d",
   "metadata": {
    "execution": {
     "iopub.execute_input": "2023-01-25T05:23:13.116741Z",
     "iopub.status.busy": "2023-01-25T05:23:13.115984Z",
     "iopub.status.idle": "2023-01-25T05:23:13.121765Z",
     "shell.execute_reply": "2023-01-25T05:23:13.122262Z",
     "shell.execute_reply.started": "2022-01-31T12:36:54.443244Z"
    },
    "papermill": {
     "duration": 0.107587,
     "end_time": "2023-01-25T05:23:13.122454",
     "exception": false,
     "start_time": "2023-01-25T05:23:13.014867",
     "status": "completed"
    },
    "tags": []
   },
   "outputs": [
    {
     "data": {
      "text/plain": [
       "87.75510204081633"
      ]
     },
     "execution_count": 48,
     "metadata": {},
     "output_type": "execute_result"
    }
   ],
   "source": [
    "accuracy_score(pred_r,y_test)*100"
   ]
  },
  {
   "cell_type": "code",
   "execution_count": 49,
   "id": "71c04dc2",
   "metadata": {
    "execution": {
     "iopub.execute_input": "2023-01-25T05:23:13.319842Z",
     "iopub.status.busy": "2023-01-25T05:23:13.319120Z",
     "iopub.status.idle": "2023-01-25T05:23:13.323673Z",
     "shell.execute_reply": "2023-01-25T05:23:13.324128Z",
     "shell.execute_reply.started": "2022-01-31T12:36:54.452543Z"
    },
    "papermill": {
     "duration": 0.10352,
     "end_time": "2023-01-25T05:23:13.324323",
     "exception": false,
     "start_time": "2023-01-25T05:23:13.220803",
     "status": "completed"
    },
    "tags": []
   },
   "outputs": [
    {
     "data": {
      "text/plain": [
       "{'min_samples_split': 2, 'max_depth': 5, 'criterion': 'entropy'}"
      ]
     },
     "execution_count": 49,
     "metadata": {},
     "output_type": "execute_result"
    }
   ],
   "source": [
    "pipe_r.named_steps['randomizedsearchcv'].best_params_"
   ]
  },
  {
   "cell_type": "code",
   "execution_count": 50,
   "id": "f9fa7e4e",
   "metadata": {
    "execution": {
     "iopub.execute_input": "2023-01-25T05:23:13.520317Z",
     "iopub.status.busy": "2023-01-25T05:23:13.519610Z",
     "iopub.status.idle": "2023-01-25T05:23:13.570099Z",
     "shell.execute_reply": "2023-01-25T05:23:13.569564Z",
     "shell.execute_reply.started": "2022-01-31T12:36:54.464638Z"
    },
    "papermill": {
     "duration": 0.149446,
     "end_time": "2023-01-25T05:23:13.570247",
     "exception": false,
     "start_time": "2023-01-25T05:23:13.420801",
     "status": "completed"
    },
    "tags": []
   },
   "outputs": [
    {
     "data": {
      "text/html": [
       "<style>div.sk-top-container {color: black;background-color: white;}div.sk-toggleable {background-color: white;}label.sk-toggleable__label {cursor: pointer;display: block;width: 100%;margin-bottom: 0;padding: 0.2em 0.3em;box-sizing: border-box;text-align: center;}div.sk-toggleable__content {max-height: 0;max-width: 0;overflow: hidden;text-align: left;background-color: #f0f8ff;}div.sk-toggleable__content pre {margin: 0.2em;color: black;border-radius: 0.25em;background-color: #f0f8ff;}input.sk-toggleable__control:checked~div.sk-toggleable__content {max-height: 200px;max-width: 100%;overflow: auto;}div.sk-estimator input.sk-toggleable__control:checked~label.sk-toggleable__label {background-color: #d4ebff;}div.sk-label input.sk-toggleable__control:checked~label.sk-toggleable__label {background-color: #d4ebff;}input.sk-hidden--visually {border: 0;clip: rect(1px 1px 1px 1px);clip: rect(1px, 1px, 1px, 1px);height: 1px;margin: -1px;overflow: hidden;padding: 0;position: absolute;width: 1px;}div.sk-estimator {font-family: monospace;background-color: #f0f8ff;margin: 0.25em 0.25em;border: 1px dotted black;border-radius: 0.25em;box-sizing: border-box;}div.sk-estimator:hover {background-color: #d4ebff;}div.sk-parallel-item::after {content: \"\";width: 100%;border-bottom: 1px solid gray;flex-grow: 1;}div.sk-label:hover label.sk-toggleable__label {background-color: #d4ebff;}div.sk-serial::before {content: \"\";position: absolute;border-left: 1px solid gray;box-sizing: border-box;top: 2em;bottom: 0;left: 50%;}div.sk-serial {display: flex;flex-direction: column;align-items: center;background-color: white;}div.sk-item {z-index: 1;}div.sk-parallel {display: flex;align-items: stretch;justify-content: center;background-color: white;}div.sk-parallel-item {display: flex;flex-direction: column;position: relative;background-color: white;}div.sk-parallel-item:first-child::after {align-self: flex-end;width: 50%;}div.sk-parallel-item:last-child::after {align-self: flex-start;width: 50%;}div.sk-parallel-item:only-child::after {width: 0;}div.sk-dashed-wrapped {border: 1px dashed gray;margin: 0.2em;box-sizing: border-box;padding-bottom: 0.1em;background-color: white;position: relative;}div.sk-label label {font-family: monospace;font-weight: bold;background-color: white;display: inline-block;line-height: 1.2em;}div.sk-label-container {position: relative;z-index: 2;text-align: center;}div.sk-container {display: inline-block;position: relative;}</style><div class=\"sk-top-container\"><div class=\"sk-container\"><div class=\"sk-item sk-dashed-wrapped\"><div class=\"sk-label-container\"><div class=\"sk-label sk-toggleable\"><input class=\"sk-toggleable__control sk-hidden--visually\" id=\"0bc03ef4-b661-44a7-b695-518e5f4a3565\" type=\"checkbox\" ><label class=\"sk-toggleable__label\" for=\"0bc03ef4-b661-44a7-b695-518e5f4a3565\">Pipeline</label><div class=\"sk-toggleable__content\"><pre>Pipeline(steps=[('columntransformer',\n",
       "                 ColumnTransformer(remainder='passthrough',\n",
       "                                   transformers=[('onehotencoder',\n",
       "                                                  OneHotEncoder(sparse=False),\n",
       "                                                  [2]),\n",
       "                                                 ('ordinalencoder',\n",
       "                                                  OrdinalEncoder(), [1])])),\n",
       "                ('randomizedsearchcv',\n",
       "                 RandomizedSearchCV(estimator=DecisionTreeClassifier(),\n",
       "                                    param_distributions={'criterion': ['gini'],\n",
       "                                                         'max_depth': [5],\n",
       "                                                         'min_samples_split': [10]},\n",
       "                                    verbose=3))])</pre></div></div></div><div class=\"sk-serial\"><div class=\"sk-item sk-dashed-wrapped\"><div class=\"sk-label-container\"><div class=\"sk-label sk-toggleable\"><input class=\"sk-toggleable__control sk-hidden--visually\" id=\"ce82995f-4526-4c5f-86e0-4942e69c378d\" type=\"checkbox\" ><label class=\"sk-toggleable__label\" for=\"ce82995f-4526-4c5f-86e0-4942e69c378d\">columntransformer: ColumnTransformer</label><div class=\"sk-toggleable__content\"><pre>ColumnTransformer(remainder='passthrough',\n",
       "                  transformers=[('onehotencoder', OneHotEncoder(sparse=False),\n",
       "                                 [2]),\n",
       "                                ('ordinalencoder', OrdinalEncoder(), [1])])</pre></div></div></div><div class=\"sk-parallel\"><div class=\"sk-parallel-item\"><div class=\"sk-item\"><div class=\"sk-label-container\"><div class=\"sk-label sk-toggleable\"><input class=\"sk-toggleable__control sk-hidden--visually\" id=\"cb54582e-b0a4-44ce-9531-b9e57ab925bc\" type=\"checkbox\" ><label class=\"sk-toggleable__label\" for=\"cb54582e-b0a4-44ce-9531-b9e57ab925bc\">onehotencoder</label><div class=\"sk-toggleable__content\"><pre>[2]</pre></div></div></div><div class=\"sk-serial\"><div class=\"sk-item\"><div class=\"sk-estimator sk-toggleable\"><input class=\"sk-toggleable__control sk-hidden--visually\" id=\"644fbda6-a5a3-4acd-89e9-7eccec9935e3\" type=\"checkbox\" ><label class=\"sk-toggleable__label\" for=\"644fbda6-a5a3-4acd-89e9-7eccec9935e3\">OneHotEncoder</label><div class=\"sk-toggleable__content\"><pre>OneHotEncoder(sparse=False)</pre></div></div></div></div></div></div><div class=\"sk-parallel-item\"><div class=\"sk-item\"><div class=\"sk-label-container\"><div class=\"sk-label sk-toggleable\"><input class=\"sk-toggleable__control sk-hidden--visually\" id=\"d9738839-c537-4c43-8452-503c4f1af8f0\" type=\"checkbox\" ><label class=\"sk-toggleable__label\" for=\"d9738839-c537-4c43-8452-503c4f1af8f0\">ordinalencoder</label><div class=\"sk-toggleable__content\"><pre>[1]</pre></div></div></div><div class=\"sk-serial\"><div class=\"sk-item\"><div class=\"sk-estimator sk-toggleable\"><input class=\"sk-toggleable__control sk-hidden--visually\" id=\"f6535132-98cd-4ba6-afd4-6dde2504cb37\" type=\"checkbox\" ><label class=\"sk-toggleable__label\" for=\"f6535132-98cd-4ba6-afd4-6dde2504cb37\">OrdinalEncoder</label><div class=\"sk-toggleable__content\"><pre>OrdinalEncoder()</pre></div></div></div></div></div></div></div></div><div class=\"sk-item sk-dashed-wrapped\"><div class=\"sk-label-container\"><div class=\"sk-label sk-toggleable\"><input class=\"sk-toggleable__control sk-hidden--visually\" id=\"ec39902d-df4a-4a07-9e2c-2087d9cd22e9\" type=\"checkbox\" ><label class=\"sk-toggleable__label\" for=\"ec39902d-df4a-4a07-9e2c-2087d9cd22e9\">randomizedsearchcv: RandomizedSearchCV</label><div class=\"sk-toggleable__content\"><pre>RandomizedSearchCV(estimator=DecisionTreeClassifier(),\n",
       "                   param_distributions={'criterion': ['gini'], 'max_depth': [5],\n",
       "                                        'min_samples_split': [10]},\n",
       "                   verbose=3)</pre></div></div></div><div class=\"sk-parallel\"><div class=\"sk-parallel-item\"><div class=\"sk-item\"><div class=\"sk-serial\"><div class=\"sk-item\"><div class=\"sk-estimator sk-toggleable\"><input class=\"sk-toggleable__control sk-hidden--visually\" id=\"6e764159-d4eb-4ae8-931d-89fdc2ec21ed\" type=\"checkbox\" ><label class=\"sk-toggleable__label\" for=\"6e764159-d4eb-4ae8-931d-89fdc2ec21ed\">DecisionTreeClassifier</label><div class=\"sk-toggleable__content\"><pre>DecisionTreeClassifier()</pre></div></div></div></div></div></div></div></div></div></div></div></div>"
      ],
      "text/plain": [
       "Pipeline(steps=[('columntransformer',\n",
       "                 ColumnTransformer(remainder='passthrough',\n",
       "                                   transformers=[('onehotencoder',\n",
       "                                                  OneHotEncoder(sparse=False),\n",
       "                                                  [2]),\n",
       "                                                 ('ordinalencoder',\n",
       "                                                  OrdinalEncoder(), [1])])),\n",
       "                ('randomizedsearchcv',\n",
       "                 RandomizedSearchCV(estimator=DecisionTreeClassifier(),\n",
       "                                    param_distributions={'criterion': ['gini'],\n",
       "                                                         'max_depth': [5],\n",
       "                                                         'min_samples_split': [10]},\n",
       "                                    verbose=3))])"
      ]
     },
     "execution_count": 50,
     "metadata": {},
     "output_type": "execute_result"
    }
   ],
   "source": [
    "params_r1={'criterion':['gini'],'max_depth':[5],'min_samples_split':[10]}\n",
    "pipe_r1=make_pipeline(trans,RandomizedSearchCV(algo_d,params_r1,verbose=3,refit=True))\n",
    "pipe_r1"
   ]
  },
  {
   "cell_type": "code",
   "execution_count": 51,
   "id": "a6ac49bc",
   "metadata": {
    "execution": {
     "iopub.execute_input": "2023-01-25T05:23:13.773630Z",
     "iopub.status.busy": "2023-01-25T05:23:13.770692Z",
     "iopub.status.idle": "2023-01-25T05:23:13.917884Z",
     "shell.execute_reply": "2023-01-25T05:23:13.917327Z",
     "shell.execute_reply.started": "2022-01-31T12:36:54.524812Z"
    },
    "papermill": {
     "duration": 0.250345,
     "end_time": "2023-01-25T05:23:13.918027",
     "exception": false,
     "start_time": "2023-01-25T05:23:13.667682",
     "status": "completed"
    },
    "tags": []
   },
   "outputs": [
    {
     "name": "stdout",
     "output_type": "stream",
     "text": [
      "Fitting 5 folds for each of 1 candidates, totalling 5 fits\n",
      "[CV] min_samples_split=10, max_depth=5, criterion=gini ...............\n",
      "[CV]  min_samples_split=10, max_depth=5, criterion=gini, score=0.839, total=   0.0s\n",
      "[CV] min_samples_split=10, max_depth=5, criterion=gini ...............\n",
      "[CV]  min_samples_split=10, max_depth=5, criterion=gini, score=0.866, total=   0.0s\n",
      "[CV] min_samples_split=10, max_depth=5, criterion=gini ...............\n",
      "[CV]  min_samples_split=10, max_depth=5, criterion=gini, score=0.859, total=   0.0s\n",
      "[CV] min_samples_split=10, max_depth=5, criterion=gini ...............\n",
      "[CV]  min_samples_split=10, max_depth=5, criterion=gini, score=0.852, total=   0.0s\n",
      "[CV] min_samples_split=10, max_depth=5, criterion=gini ...............\n",
      "[CV]  min_samples_split=10, max_depth=5, criterion=gini, score=0.890, total=   0.0s\n"
     ]
    },
    {
     "name": "stderr",
     "output_type": "stream",
     "text": [
      "/opt/conda/lib/python3.7/site-packages/sklearn/model_selection/_search.py:282: UserWarning: The total space of parameters 1 is smaller than n_iter=10. Running 1 iterations. For exhaustive searches, use GridSearchCV.\n",
      "  % (grid_size, self.n_iter, grid_size), UserWarning)\n",
      "[Parallel(n_jobs=1)]: Using backend SequentialBackend with 1 concurrent workers.\n",
      "[Parallel(n_jobs=1)]: Done   1 out of   1 | elapsed:    0.0s remaining:    0.0s\n",
      "[Parallel(n_jobs=1)]: Done   2 out of   2 | elapsed:    0.0s remaining:    0.0s\n",
      "[Parallel(n_jobs=1)]: Done   5 out of   5 | elapsed:    0.1s finished\n"
     ]
    },
    {
     "data": {
      "text/html": [
       "<style>div.sk-top-container {color: black;background-color: white;}div.sk-toggleable {background-color: white;}label.sk-toggleable__label {cursor: pointer;display: block;width: 100%;margin-bottom: 0;padding: 0.2em 0.3em;box-sizing: border-box;text-align: center;}div.sk-toggleable__content {max-height: 0;max-width: 0;overflow: hidden;text-align: left;background-color: #f0f8ff;}div.sk-toggleable__content pre {margin: 0.2em;color: black;border-radius: 0.25em;background-color: #f0f8ff;}input.sk-toggleable__control:checked~div.sk-toggleable__content {max-height: 200px;max-width: 100%;overflow: auto;}div.sk-estimator input.sk-toggleable__control:checked~label.sk-toggleable__label {background-color: #d4ebff;}div.sk-label input.sk-toggleable__control:checked~label.sk-toggleable__label {background-color: #d4ebff;}input.sk-hidden--visually {border: 0;clip: rect(1px 1px 1px 1px);clip: rect(1px, 1px, 1px, 1px);height: 1px;margin: -1px;overflow: hidden;padding: 0;position: absolute;width: 1px;}div.sk-estimator {font-family: monospace;background-color: #f0f8ff;margin: 0.25em 0.25em;border: 1px dotted black;border-radius: 0.25em;box-sizing: border-box;}div.sk-estimator:hover {background-color: #d4ebff;}div.sk-parallel-item::after {content: \"\";width: 100%;border-bottom: 1px solid gray;flex-grow: 1;}div.sk-label:hover label.sk-toggleable__label {background-color: #d4ebff;}div.sk-serial::before {content: \"\";position: absolute;border-left: 1px solid gray;box-sizing: border-box;top: 2em;bottom: 0;left: 50%;}div.sk-serial {display: flex;flex-direction: column;align-items: center;background-color: white;}div.sk-item {z-index: 1;}div.sk-parallel {display: flex;align-items: stretch;justify-content: center;background-color: white;}div.sk-parallel-item {display: flex;flex-direction: column;position: relative;background-color: white;}div.sk-parallel-item:first-child::after {align-self: flex-end;width: 50%;}div.sk-parallel-item:last-child::after {align-self: flex-start;width: 50%;}div.sk-parallel-item:only-child::after {width: 0;}div.sk-dashed-wrapped {border: 1px dashed gray;margin: 0.2em;box-sizing: border-box;padding-bottom: 0.1em;background-color: white;position: relative;}div.sk-label label {font-family: monospace;font-weight: bold;background-color: white;display: inline-block;line-height: 1.2em;}div.sk-label-container {position: relative;z-index: 2;text-align: center;}div.sk-container {display: inline-block;position: relative;}</style><div class=\"sk-top-container\"><div class=\"sk-container\"><div class=\"sk-item sk-dashed-wrapped\"><div class=\"sk-label-container\"><div class=\"sk-label sk-toggleable\"><input class=\"sk-toggleable__control sk-hidden--visually\" id=\"86972a47-4979-40f5-9117-8d64b50362ce\" type=\"checkbox\" ><label class=\"sk-toggleable__label\" for=\"86972a47-4979-40f5-9117-8d64b50362ce\">Pipeline</label><div class=\"sk-toggleable__content\"><pre>Pipeline(steps=[('columntransformer',\n",
       "                 ColumnTransformer(remainder='passthrough',\n",
       "                                   transformers=[('onehotencoder',\n",
       "                                                  OneHotEncoder(sparse=False),\n",
       "                                                  [2]),\n",
       "                                                 ('ordinalencoder',\n",
       "                                                  OrdinalEncoder(), [1])])),\n",
       "                ('randomizedsearchcv',\n",
       "                 RandomizedSearchCV(estimator=DecisionTreeClassifier(),\n",
       "                                    param_distributions={'criterion': ['gini'],\n",
       "                                                         'max_depth': [5],\n",
       "                                                         'min_samples_split': [10]},\n",
       "                                    verbose=3))])</pre></div></div></div><div class=\"sk-serial\"><div class=\"sk-item sk-dashed-wrapped\"><div class=\"sk-label-container\"><div class=\"sk-label sk-toggleable\"><input class=\"sk-toggleable__control sk-hidden--visually\" id=\"45cbf7be-210b-41b9-9a85-aa24b565d059\" type=\"checkbox\" ><label class=\"sk-toggleable__label\" for=\"45cbf7be-210b-41b9-9a85-aa24b565d059\">columntransformer: ColumnTransformer</label><div class=\"sk-toggleable__content\"><pre>ColumnTransformer(remainder='passthrough',\n",
       "                  transformers=[('onehotencoder', OneHotEncoder(sparse=False),\n",
       "                                 [2]),\n",
       "                                ('ordinalencoder', OrdinalEncoder(), [1])])</pre></div></div></div><div class=\"sk-parallel\"><div class=\"sk-parallel-item\"><div class=\"sk-item\"><div class=\"sk-label-container\"><div class=\"sk-label sk-toggleable\"><input class=\"sk-toggleable__control sk-hidden--visually\" id=\"e29bba6d-b680-4f97-91eb-743857bb229c\" type=\"checkbox\" ><label class=\"sk-toggleable__label\" for=\"e29bba6d-b680-4f97-91eb-743857bb229c\">onehotencoder</label><div class=\"sk-toggleable__content\"><pre>[2]</pre></div></div></div><div class=\"sk-serial\"><div class=\"sk-item\"><div class=\"sk-estimator sk-toggleable\"><input class=\"sk-toggleable__control sk-hidden--visually\" id=\"19375c69-5309-415b-b7f4-0d6d498c1703\" type=\"checkbox\" ><label class=\"sk-toggleable__label\" for=\"19375c69-5309-415b-b7f4-0d6d498c1703\">OneHotEncoder</label><div class=\"sk-toggleable__content\"><pre>OneHotEncoder(sparse=False)</pre></div></div></div></div></div></div><div class=\"sk-parallel-item\"><div class=\"sk-item\"><div class=\"sk-label-container\"><div class=\"sk-label sk-toggleable\"><input class=\"sk-toggleable__control sk-hidden--visually\" id=\"2e2d6c34-0521-482d-8481-1e2c934f65c1\" type=\"checkbox\" ><label class=\"sk-toggleable__label\" for=\"2e2d6c34-0521-482d-8481-1e2c934f65c1\">ordinalencoder</label><div class=\"sk-toggleable__content\"><pre>[1]</pre></div></div></div><div class=\"sk-serial\"><div class=\"sk-item\"><div class=\"sk-estimator sk-toggleable\"><input class=\"sk-toggleable__control sk-hidden--visually\" id=\"eb7acadf-fabf-4073-88ab-caf3cbe5e129\" type=\"checkbox\" ><label class=\"sk-toggleable__label\" for=\"eb7acadf-fabf-4073-88ab-caf3cbe5e129\">OrdinalEncoder</label><div class=\"sk-toggleable__content\"><pre>OrdinalEncoder()</pre></div></div></div></div></div></div></div></div><div class=\"sk-item sk-dashed-wrapped\"><div class=\"sk-label-container\"><div class=\"sk-label sk-toggleable\"><input class=\"sk-toggleable__control sk-hidden--visually\" id=\"291d04b7-7224-4e0c-808f-f205362e0746\" type=\"checkbox\" ><label class=\"sk-toggleable__label\" for=\"291d04b7-7224-4e0c-808f-f205362e0746\">randomizedsearchcv: RandomizedSearchCV</label><div class=\"sk-toggleable__content\"><pre>RandomizedSearchCV(estimator=DecisionTreeClassifier(),\n",
       "                   param_distributions={'criterion': ['gini'], 'max_depth': [5],\n",
       "                                        'min_samples_split': [10]},\n",
       "                   verbose=3)</pre></div></div></div><div class=\"sk-parallel\"><div class=\"sk-parallel-item\"><div class=\"sk-item\"><div class=\"sk-serial\"><div class=\"sk-item\"><div class=\"sk-estimator sk-toggleable\"><input class=\"sk-toggleable__control sk-hidden--visually\" id=\"af99f452-6bf2-432a-b816-853800fd592a\" type=\"checkbox\" ><label class=\"sk-toggleable__label\" for=\"af99f452-6bf2-432a-b816-853800fd592a\">DecisionTreeClassifier</label><div class=\"sk-toggleable__content\"><pre>DecisionTreeClassifier()</pre></div></div></div></div></div></div></div></div></div></div></div></div>"
      ],
      "text/plain": [
       "Pipeline(steps=[('columntransformer',\n",
       "                 ColumnTransformer(remainder='passthrough',\n",
       "                                   transformers=[('onehotencoder',\n",
       "                                                  OneHotEncoder(sparse=False),\n",
       "                                                  [2]),\n",
       "                                                 ('ordinalencoder',\n",
       "                                                  OrdinalEncoder(), [1])])),\n",
       "                ('randomizedsearchcv',\n",
       "                 RandomizedSearchCV(estimator=DecisionTreeClassifier(),\n",
       "                                    param_distributions={'criterion': ['gini'],\n",
       "                                                         'max_depth': [5],\n",
       "                                                         'min_samples_split': [10]},\n",
       "                                    verbose=3))])"
      ]
     },
     "execution_count": 51,
     "metadata": {},
     "output_type": "execute_result"
    }
   ],
   "source": [
    "pipe_r1.fit(x_train,y_train)"
   ]
  },
  {
   "cell_type": "code",
   "execution_count": 52,
   "id": "7d83e17f",
   "metadata": {
    "execution": {
     "iopub.execute_input": "2023-01-25T05:23:14.136781Z",
     "iopub.status.busy": "2023-01-25T05:23:14.135729Z",
     "iopub.status.idle": "2023-01-25T05:23:14.143444Z",
     "shell.execute_reply": "2023-01-25T05:23:14.144500Z",
     "shell.execute_reply.started": "2022-01-31T12:36:54.641036Z"
    },
    "papermill": {
     "duration": 0.121673,
     "end_time": "2023-01-25T05:23:14.144790",
     "exception": false,
     "start_time": "2023-01-25T05:23:14.023117",
     "status": "completed"
    },
    "tags": []
   },
   "outputs": [
    {
     "data": {
      "text/plain": [
       "array([0, 0, 0, 0, 0, 0, 0, 0, 0, 0, 1, 0, 0, 0, 0, 0, 1, 0, 0, 0, 0, 0,\n",
       "       0, 0, 0, 0, 1, 0, 0, 0, 0, 0, 0, 0, 1, 0, 1, 0, 1, 0, 0, 0, 0, 0,\n",
       "       0, 1, 0, 0, 0, 0, 0, 0, 0, 0, 0, 0, 0, 0, 0, 1, 0, 0, 0, 1, 0, 0,\n",
       "       0, 0, 1, 0, 0, 0, 0, 0, 0, 0, 0, 0, 0, 0, 0, 0, 0, 0, 0, 0, 0, 0,\n",
       "       0, 0, 0, 0, 0, 0, 0, 0, 0, 0, 0, 0, 0, 0, 0, 0, 0, 0, 0, 1, 0, 0,\n",
       "       0, 0, 0, 1, 0, 0, 0, 0, 0, 0, 1, 0, 0, 0, 0, 0, 0, 0, 0, 0, 1, 0,\n",
       "       0, 0, 0, 0, 0, 0, 0, 0, 0, 0, 0, 0, 0, 0, 0, 1, 0, 0, 0, 1, 0, 0,\n",
       "       0, 0, 0, 0, 0, 0, 0, 0, 0, 0, 0, 0, 0, 1, 0, 0, 0, 0, 0, 0, 0, 0,\n",
       "       0, 0, 0, 0, 0, 0, 0, 0, 0, 0, 0, 0, 0, 0, 0, 0, 0, 1, 1, 0, 0, 0,\n",
       "       0, 0, 0, 1, 0, 0, 0, 0, 0, 0, 1, 0, 0, 0, 0, 0, 0, 0, 0, 0, 0, 0,\n",
       "       1, 0, 0, 0, 0, 0, 0, 0, 0, 0, 0, 0, 0, 0, 0, 0, 0, 0, 0, 0, 0, 0,\n",
       "       1, 0, 0, 0, 0, 0, 0, 0, 0, 0, 0, 0, 0, 0, 0, 0, 0, 0, 0, 0, 0, 0,\n",
       "       0, 0, 0, 0, 0, 0, 0, 0, 0, 0, 0, 0, 0, 0, 0, 1, 0, 0, 0, 0, 0, 0,\n",
       "       0, 0, 0, 0, 0, 0, 0, 1, 0, 0, 0, 0, 0, 0, 0, 0, 0, 0, 0, 0, 1, 0,\n",
       "       0, 0, 0, 0, 0, 0, 0, 0, 0, 0, 0, 0, 0, 0, 0, 0, 0, 0, 0, 0, 0, 0,\n",
       "       0, 0, 0, 0, 1, 0, 0, 0, 0, 1, 0, 0, 0, 0, 0, 0, 0, 0, 0, 1, 0, 0,\n",
       "       0, 0, 0, 0, 0, 0, 0, 0, 0, 0, 0, 0, 0, 0, 0, 0, 0, 1, 0, 0, 0, 1,\n",
       "       0, 0, 0, 0, 0, 0, 0, 0, 0, 0, 0, 0, 0, 0, 0, 0, 0, 0, 0, 0, 0, 0,\n",
       "       0, 0, 0, 0, 0, 0, 0, 0, 0, 0, 0, 0, 0, 0, 0, 0, 0, 0, 0, 1, 0, 0,\n",
       "       0, 1, 0, 0, 0, 0, 0, 0, 0, 0, 0, 0, 0, 0, 0, 0, 0, 1, 0, 0, 0, 1,\n",
       "       0, 0, 0, 0, 0, 0, 0, 0, 0, 0, 0, 0, 0, 0, 0, 0, 0, 0, 0, 1, 0, 0,\n",
       "       0, 0, 0, 0, 0, 0, 0, 0, 0, 0, 0, 0, 0, 0, 0, 0, 0, 0, 0, 0, 0, 0,\n",
       "       0, 0, 0, 0, 0, 0, 0, 0, 0, 0, 0, 0, 0, 0, 0, 0, 0, 0, 0, 0, 0, 0,\n",
       "       0, 0, 0, 0, 0, 1, 0, 0, 0, 0, 0, 0, 0, 0, 0, 0, 1, 0, 0, 0, 0, 0,\n",
       "       0, 0, 0, 1, 0, 0, 0, 0, 0, 0, 0, 0, 0, 0, 0, 1, 0, 0, 0, 1, 0, 0,\n",
       "       1, 0, 0, 0, 0, 0, 0, 0, 0, 0, 0, 0, 0, 0, 0, 0, 0, 0, 0, 0, 0, 0,\n",
       "       0, 1, 0, 0, 0, 0, 0, 0, 0, 0, 1, 0, 0, 0, 0, 0, 0, 0, 0, 0, 0, 0,\n",
       "       0, 0, 0, 0, 0, 0, 0, 0, 0, 0, 1, 0, 0, 0, 0, 0, 0, 0, 0, 0, 0, 1,\n",
       "       0, 0, 0, 0, 0, 0, 0, 0, 0, 0, 0, 0, 0, 0, 0, 0, 0, 0, 0, 0, 0, 0,\n",
       "       0, 1, 0, 0, 0, 0, 0, 0, 1, 0, 0, 1, 0, 0, 0, 0, 0, 0, 0, 0, 0, 0,\n",
       "       0, 0, 0, 0, 0, 0, 0, 0, 0, 0, 0, 0, 0, 0, 0, 0, 0, 0, 0, 0, 0, 0,\n",
       "       0, 0, 0, 0, 1, 0, 0, 0, 0, 1, 0, 0, 0, 1, 0, 0, 0, 0, 0, 0, 0, 0,\n",
       "       0, 0, 0, 0, 0, 0, 0, 0, 0, 0, 0, 0, 0, 0, 0, 0, 0, 0, 0, 0, 0, 0,\n",
       "       0, 0, 0, 0, 0, 0, 0, 1, 0, 0, 0, 0, 0, 1, 0, 0, 0, 0, 0, 0, 0, 0,\n",
       "       0, 0, 1, 0, 0, 0, 0, 1, 0, 0, 0, 0, 1, 0, 0, 0, 1, 0, 0, 1, 0, 0,\n",
       "       0, 0, 0, 0, 0, 0, 0, 0, 0, 0, 0, 0, 0, 0])"
      ]
     },
     "execution_count": 52,
     "metadata": {},
     "output_type": "execute_result"
    }
   ],
   "source": [
    "pred_r1=pipe_r1.predict(x_test)\n",
    "pred_r1"
   ]
  },
  {
   "cell_type": "code",
   "execution_count": 53,
   "id": "236abdb8",
   "metadata": {
    "execution": {
     "iopub.execute_input": "2023-01-25T05:23:14.364436Z",
     "iopub.status.busy": "2023-01-25T05:23:14.363754Z",
     "iopub.status.idle": "2023-01-25T05:23:14.368664Z",
     "shell.execute_reply": "2023-01-25T05:23:14.369456Z",
     "shell.execute_reply.started": "2022-01-31T12:36:54.657997Z"
    },
    "papermill": {
     "duration": 0.113576,
     "end_time": "2023-01-25T05:23:14.369714",
     "exception": false,
     "start_time": "2023-01-25T05:23:14.256138",
     "status": "completed"
    },
    "tags": []
   },
   "outputs": [
    {
     "data": {
      "text/plain": [
       "88.9030612244898"
      ]
     },
     "execution_count": 53,
     "metadata": {},
     "output_type": "execute_result"
    }
   ],
   "source": [
    "accuracy_score(pred_r1,y_test)*100"
   ]
  },
  {
   "cell_type": "code",
   "execution_count": 54,
   "id": "2983ffeb",
   "metadata": {
    "execution": {
     "iopub.execute_input": "2023-01-25T05:23:14.574453Z",
     "iopub.status.busy": "2023-01-25T05:23:14.573267Z",
     "iopub.status.idle": "2023-01-25T05:23:14.575992Z",
     "shell.execute_reply": "2023-01-25T05:23:14.575340Z",
     "shell.execute_reply.started": "2022-01-31T12:36:54.667374Z"
    },
    "papermill": {
     "duration": 0.104167,
     "end_time": "2023-01-25T05:23:14.576140",
     "exception": false,
     "start_time": "2023-01-25T05:23:14.471973",
     "status": "completed"
    },
    "tags": []
   },
   "outputs": [],
   "source": [
    "from sklearn.ensemble import RandomForestClassifier\n",
    "forest=RandomForestClassifier()"
   ]
  },
  {
   "cell_type": "code",
   "execution_count": 55,
   "id": "58e3667c",
   "metadata": {
    "execution": {
     "iopub.execute_input": "2023-01-25T05:23:14.780161Z",
     "iopub.status.busy": "2023-01-25T05:23:14.779145Z",
     "iopub.status.idle": "2023-01-25T05:23:14.813737Z",
     "shell.execute_reply": "2023-01-25T05:23:14.813111Z",
     "shell.execute_reply.started": "2022-01-31T12:36:54.676789Z"
    },
    "papermill": {
     "duration": 0.139804,
     "end_time": "2023-01-25T05:23:14.813896",
     "exception": false,
     "start_time": "2023-01-25T05:23:14.674092",
     "status": "completed"
    },
    "tags": []
   },
   "outputs": [
    {
     "data": {
      "text/html": [
       "<style>div.sk-top-container {color: black;background-color: white;}div.sk-toggleable {background-color: white;}label.sk-toggleable__label {cursor: pointer;display: block;width: 100%;margin-bottom: 0;padding: 0.2em 0.3em;box-sizing: border-box;text-align: center;}div.sk-toggleable__content {max-height: 0;max-width: 0;overflow: hidden;text-align: left;background-color: #f0f8ff;}div.sk-toggleable__content pre {margin: 0.2em;color: black;border-radius: 0.25em;background-color: #f0f8ff;}input.sk-toggleable__control:checked~div.sk-toggleable__content {max-height: 200px;max-width: 100%;overflow: auto;}div.sk-estimator input.sk-toggleable__control:checked~label.sk-toggleable__label {background-color: #d4ebff;}div.sk-label input.sk-toggleable__control:checked~label.sk-toggleable__label {background-color: #d4ebff;}input.sk-hidden--visually {border: 0;clip: rect(1px 1px 1px 1px);clip: rect(1px, 1px, 1px, 1px);height: 1px;margin: -1px;overflow: hidden;padding: 0;position: absolute;width: 1px;}div.sk-estimator {font-family: monospace;background-color: #f0f8ff;margin: 0.25em 0.25em;border: 1px dotted black;border-radius: 0.25em;box-sizing: border-box;}div.sk-estimator:hover {background-color: #d4ebff;}div.sk-parallel-item::after {content: \"\";width: 100%;border-bottom: 1px solid gray;flex-grow: 1;}div.sk-label:hover label.sk-toggleable__label {background-color: #d4ebff;}div.sk-serial::before {content: \"\";position: absolute;border-left: 1px solid gray;box-sizing: border-box;top: 2em;bottom: 0;left: 50%;}div.sk-serial {display: flex;flex-direction: column;align-items: center;background-color: white;}div.sk-item {z-index: 1;}div.sk-parallel {display: flex;align-items: stretch;justify-content: center;background-color: white;}div.sk-parallel-item {display: flex;flex-direction: column;position: relative;background-color: white;}div.sk-parallel-item:first-child::after {align-self: flex-end;width: 50%;}div.sk-parallel-item:last-child::after {align-self: flex-start;width: 50%;}div.sk-parallel-item:only-child::after {width: 0;}div.sk-dashed-wrapped {border: 1px dashed gray;margin: 0.2em;box-sizing: border-box;padding-bottom: 0.1em;background-color: white;position: relative;}div.sk-label label {font-family: monospace;font-weight: bold;background-color: white;display: inline-block;line-height: 1.2em;}div.sk-label-container {position: relative;z-index: 2;text-align: center;}div.sk-container {display: inline-block;position: relative;}</style><div class=\"sk-top-container\"><div class=\"sk-container\"><div class=\"sk-item sk-dashed-wrapped\"><div class=\"sk-label-container\"><div class=\"sk-label sk-toggleable\"><input class=\"sk-toggleable__control sk-hidden--visually\" id=\"129a9cc9-f5de-47a8-ae7e-af5a977ffbe0\" type=\"checkbox\" ><label class=\"sk-toggleable__label\" for=\"129a9cc9-f5de-47a8-ae7e-af5a977ffbe0\">Pipeline</label><div class=\"sk-toggleable__content\"><pre>Pipeline(steps=[('columntransformer',\n",
       "                 ColumnTransformer(remainder='passthrough',\n",
       "                                   transformers=[('onehotencoder',\n",
       "                                                  OneHotEncoder(sparse=False),\n",
       "                                                  [2]),\n",
       "                                                 ('ordinalencoder',\n",
       "                                                  OrdinalEncoder(), [1])])),\n",
       "                ('randomforestclassifier', RandomForestClassifier())])</pre></div></div></div><div class=\"sk-serial\"><div class=\"sk-item sk-dashed-wrapped\"><div class=\"sk-label-container\"><div class=\"sk-label sk-toggleable\"><input class=\"sk-toggleable__control sk-hidden--visually\" id=\"d6f0e8bd-2307-4e1f-b76a-25c289a6998f\" type=\"checkbox\" ><label class=\"sk-toggleable__label\" for=\"d6f0e8bd-2307-4e1f-b76a-25c289a6998f\">columntransformer: ColumnTransformer</label><div class=\"sk-toggleable__content\"><pre>ColumnTransformer(remainder='passthrough',\n",
       "                  transformers=[('onehotencoder', OneHotEncoder(sparse=False),\n",
       "                                 [2]),\n",
       "                                ('ordinalencoder', OrdinalEncoder(), [1])])</pre></div></div></div><div class=\"sk-parallel\"><div class=\"sk-parallel-item\"><div class=\"sk-item\"><div class=\"sk-label-container\"><div class=\"sk-label sk-toggleable\"><input class=\"sk-toggleable__control sk-hidden--visually\" id=\"58037053-e53c-4d1a-be4a-e87608d43161\" type=\"checkbox\" ><label class=\"sk-toggleable__label\" for=\"58037053-e53c-4d1a-be4a-e87608d43161\">onehotencoder</label><div class=\"sk-toggleable__content\"><pre>[2]</pre></div></div></div><div class=\"sk-serial\"><div class=\"sk-item\"><div class=\"sk-estimator sk-toggleable\"><input class=\"sk-toggleable__control sk-hidden--visually\" id=\"839bcb3f-10ea-4e46-ba48-b199b333a34d\" type=\"checkbox\" ><label class=\"sk-toggleable__label\" for=\"839bcb3f-10ea-4e46-ba48-b199b333a34d\">OneHotEncoder</label><div class=\"sk-toggleable__content\"><pre>OneHotEncoder(sparse=False)</pre></div></div></div></div></div></div><div class=\"sk-parallel-item\"><div class=\"sk-item\"><div class=\"sk-label-container\"><div class=\"sk-label sk-toggleable\"><input class=\"sk-toggleable__control sk-hidden--visually\" id=\"ffbce5f4-d17a-49dd-888a-12b699aac948\" type=\"checkbox\" ><label class=\"sk-toggleable__label\" for=\"ffbce5f4-d17a-49dd-888a-12b699aac948\">ordinalencoder</label><div class=\"sk-toggleable__content\"><pre>[1]</pre></div></div></div><div class=\"sk-serial\"><div class=\"sk-item\"><div class=\"sk-estimator sk-toggleable\"><input class=\"sk-toggleable__control sk-hidden--visually\" id=\"5143617b-41e3-4b56-9eb9-c81a6b6cbd1b\" type=\"checkbox\" ><label class=\"sk-toggleable__label\" for=\"5143617b-41e3-4b56-9eb9-c81a6b6cbd1b\">OrdinalEncoder</label><div class=\"sk-toggleable__content\"><pre>OrdinalEncoder()</pre></div></div></div></div></div></div></div></div><div class=\"sk-item\"><div class=\"sk-estimator sk-toggleable\"><input class=\"sk-toggleable__control sk-hidden--visually\" id=\"b8548692-7f93-4ffc-9ca7-70b359b52010\" type=\"checkbox\" ><label class=\"sk-toggleable__label\" for=\"b8548692-7f93-4ffc-9ca7-70b359b52010\">RandomForestClassifier</label><div class=\"sk-toggleable__content\"><pre>RandomForestClassifier()</pre></div></div></div></div></div></div></div>"
      ],
      "text/plain": [
       "Pipeline(steps=[('columntransformer',\n",
       "                 ColumnTransformer(remainder='passthrough',\n",
       "                                   transformers=[('onehotencoder',\n",
       "                                                  OneHotEncoder(sparse=False),\n",
       "                                                  [2]),\n",
       "                                                 ('ordinalencoder',\n",
       "                                                  OrdinalEncoder(), [1])])),\n",
       "                ('randomforestclassifier', RandomForestClassifier())])"
      ]
     },
     "execution_count": 55,
     "metadata": {},
     "output_type": "execute_result"
    }
   ],
   "source": [
    "pipe_f=make_pipeline(trans,forest)\n",
    "pipe_f"
   ]
  },
  {
   "cell_type": "code",
   "execution_count": 56,
   "id": "10f8f2fc",
   "metadata": {
    "execution": {
     "iopub.execute_input": "2023-01-25T05:23:15.023461Z",
     "iopub.status.busy": "2023-01-25T05:23:15.022765Z",
     "iopub.status.idle": "2023-01-25T05:23:15.424336Z",
     "shell.execute_reply": "2023-01-25T05:23:15.423787Z",
     "shell.execute_reply.started": "2022-01-31T12:36:54.719256Z"
    },
    "papermill": {
     "duration": 0.509338,
     "end_time": "2023-01-25T05:23:15.424487",
     "exception": false,
     "start_time": "2023-01-25T05:23:14.915149",
     "status": "completed"
    },
    "tags": []
   },
   "outputs": [
    {
     "data": {
      "text/html": [
       "<style>div.sk-top-container {color: black;background-color: white;}div.sk-toggleable {background-color: white;}label.sk-toggleable__label {cursor: pointer;display: block;width: 100%;margin-bottom: 0;padding: 0.2em 0.3em;box-sizing: border-box;text-align: center;}div.sk-toggleable__content {max-height: 0;max-width: 0;overflow: hidden;text-align: left;background-color: #f0f8ff;}div.sk-toggleable__content pre {margin: 0.2em;color: black;border-radius: 0.25em;background-color: #f0f8ff;}input.sk-toggleable__control:checked~div.sk-toggleable__content {max-height: 200px;max-width: 100%;overflow: auto;}div.sk-estimator input.sk-toggleable__control:checked~label.sk-toggleable__label {background-color: #d4ebff;}div.sk-label input.sk-toggleable__control:checked~label.sk-toggleable__label {background-color: #d4ebff;}input.sk-hidden--visually {border: 0;clip: rect(1px 1px 1px 1px);clip: rect(1px, 1px, 1px, 1px);height: 1px;margin: -1px;overflow: hidden;padding: 0;position: absolute;width: 1px;}div.sk-estimator {font-family: monospace;background-color: #f0f8ff;margin: 0.25em 0.25em;border: 1px dotted black;border-radius: 0.25em;box-sizing: border-box;}div.sk-estimator:hover {background-color: #d4ebff;}div.sk-parallel-item::after {content: \"\";width: 100%;border-bottom: 1px solid gray;flex-grow: 1;}div.sk-label:hover label.sk-toggleable__label {background-color: #d4ebff;}div.sk-serial::before {content: \"\";position: absolute;border-left: 1px solid gray;box-sizing: border-box;top: 2em;bottom: 0;left: 50%;}div.sk-serial {display: flex;flex-direction: column;align-items: center;background-color: white;}div.sk-item {z-index: 1;}div.sk-parallel {display: flex;align-items: stretch;justify-content: center;background-color: white;}div.sk-parallel-item {display: flex;flex-direction: column;position: relative;background-color: white;}div.sk-parallel-item:first-child::after {align-self: flex-end;width: 50%;}div.sk-parallel-item:last-child::after {align-self: flex-start;width: 50%;}div.sk-parallel-item:only-child::after {width: 0;}div.sk-dashed-wrapped {border: 1px dashed gray;margin: 0.2em;box-sizing: border-box;padding-bottom: 0.1em;background-color: white;position: relative;}div.sk-label label {font-family: monospace;font-weight: bold;background-color: white;display: inline-block;line-height: 1.2em;}div.sk-label-container {position: relative;z-index: 2;text-align: center;}div.sk-container {display: inline-block;position: relative;}</style><div class=\"sk-top-container\"><div class=\"sk-container\"><div class=\"sk-item sk-dashed-wrapped\"><div class=\"sk-label-container\"><div class=\"sk-label sk-toggleable\"><input class=\"sk-toggleable__control sk-hidden--visually\" id=\"b61e7b8b-660e-4412-8365-f3995c7df578\" type=\"checkbox\" ><label class=\"sk-toggleable__label\" for=\"b61e7b8b-660e-4412-8365-f3995c7df578\">Pipeline</label><div class=\"sk-toggleable__content\"><pre>Pipeline(steps=[('columntransformer',\n",
       "                 ColumnTransformer(remainder='passthrough',\n",
       "                                   transformers=[('onehotencoder',\n",
       "                                                  OneHotEncoder(sparse=False),\n",
       "                                                  [2]),\n",
       "                                                 ('ordinalencoder',\n",
       "                                                  OrdinalEncoder(), [1])])),\n",
       "                ('randomforestclassifier', RandomForestClassifier())])</pre></div></div></div><div class=\"sk-serial\"><div class=\"sk-item sk-dashed-wrapped\"><div class=\"sk-label-container\"><div class=\"sk-label sk-toggleable\"><input class=\"sk-toggleable__control sk-hidden--visually\" id=\"e205aef2-5a74-4642-8ba3-c066b43d8ac2\" type=\"checkbox\" ><label class=\"sk-toggleable__label\" for=\"e205aef2-5a74-4642-8ba3-c066b43d8ac2\">columntransformer: ColumnTransformer</label><div class=\"sk-toggleable__content\"><pre>ColumnTransformer(remainder='passthrough',\n",
       "                  transformers=[('onehotencoder', OneHotEncoder(sparse=False),\n",
       "                                 [2]),\n",
       "                                ('ordinalencoder', OrdinalEncoder(), [1])])</pre></div></div></div><div class=\"sk-parallel\"><div class=\"sk-parallel-item\"><div class=\"sk-item\"><div class=\"sk-label-container\"><div class=\"sk-label sk-toggleable\"><input class=\"sk-toggleable__control sk-hidden--visually\" id=\"df3f64ad-326d-4530-a917-81862b54b16d\" type=\"checkbox\" ><label class=\"sk-toggleable__label\" for=\"df3f64ad-326d-4530-a917-81862b54b16d\">onehotencoder</label><div class=\"sk-toggleable__content\"><pre>[2]</pre></div></div></div><div class=\"sk-serial\"><div class=\"sk-item\"><div class=\"sk-estimator sk-toggleable\"><input class=\"sk-toggleable__control sk-hidden--visually\" id=\"c5452b41-0ed1-4c6f-af6d-9efb925b8a0e\" type=\"checkbox\" ><label class=\"sk-toggleable__label\" for=\"c5452b41-0ed1-4c6f-af6d-9efb925b8a0e\">OneHotEncoder</label><div class=\"sk-toggleable__content\"><pre>OneHotEncoder(sparse=False)</pre></div></div></div></div></div></div><div class=\"sk-parallel-item\"><div class=\"sk-item\"><div class=\"sk-label-container\"><div class=\"sk-label sk-toggleable\"><input class=\"sk-toggleable__control sk-hidden--visually\" id=\"9bf33360-890a-494e-b82e-34f6f9f4a7a4\" type=\"checkbox\" ><label class=\"sk-toggleable__label\" for=\"9bf33360-890a-494e-b82e-34f6f9f4a7a4\">ordinalencoder</label><div class=\"sk-toggleable__content\"><pre>[1]</pre></div></div></div><div class=\"sk-serial\"><div class=\"sk-item\"><div class=\"sk-estimator sk-toggleable\"><input class=\"sk-toggleable__control sk-hidden--visually\" id=\"67971d5a-6179-4f82-a878-00245767e09f\" type=\"checkbox\" ><label class=\"sk-toggleable__label\" for=\"67971d5a-6179-4f82-a878-00245767e09f\">OrdinalEncoder</label><div class=\"sk-toggleable__content\"><pre>OrdinalEncoder()</pre></div></div></div></div></div></div></div></div><div class=\"sk-item\"><div class=\"sk-estimator sk-toggleable\"><input class=\"sk-toggleable__control sk-hidden--visually\" id=\"5e4bb1b0-b11e-47e7-a38c-ba6104ed8e42\" type=\"checkbox\" ><label class=\"sk-toggleable__label\" for=\"5e4bb1b0-b11e-47e7-a38c-ba6104ed8e42\">RandomForestClassifier</label><div class=\"sk-toggleable__content\"><pre>RandomForestClassifier()</pre></div></div></div></div></div></div></div>"
      ],
      "text/plain": [
       "Pipeline(steps=[('columntransformer',\n",
       "                 ColumnTransformer(remainder='passthrough',\n",
       "                                   transformers=[('onehotencoder',\n",
       "                                                  OneHotEncoder(sparse=False),\n",
       "                                                  [2]),\n",
       "                                                 ('ordinalencoder',\n",
       "                                                  OrdinalEncoder(), [1])])),\n",
       "                ('randomforestclassifier', RandomForestClassifier())])"
      ]
     },
     "execution_count": 56,
     "metadata": {},
     "output_type": "execute_result"
    }
   ],
   "source": [
    "pipe_f.fit(x_train,y_train)"
   ]
  },
  {
   "cell_type": "code",
   "execution_count": 57,
   "id": "70146475",
   "metadata": {
    "execution": {
     "iopub.execute_input": "2023-01-25T05:23:15.647383Z",
     "iopub.status.busy": "2023-01-25T05:23:15.646424Z",
     "iopub.status.idle": "2023-01-25T05:23:15.681833Z",
     "shell.execute_reply": "2023-01-25T05:23:15.682574Z",
     "shell.execute_reply.started": "2022-01-31T12:36:55.129530Z"
    },
    "papermill": {
     "duration": 0.155022,
     "end_time": "2023-01-25T05:23:15.682813",
     "exception": false,
     "start_time": "2023-01-25T05:23:15.527791",
     "status": "completed"
    },
    "tags": []
   },
   "outputs": [
    {
     "data": {
      "text/plain": [
       "array([0, 0, 0, 0, 0, 0, 0, 0, 0, 0, 1, 0, 0, 0, 0, 0, 0, 0, 0, 0, 0, 0,\n",
       "       0, 0, 0, 0, 0, 0, 0, 0, 0, 0, 0, 0, 1, 0, 0, 0, 0, 1, 0, 0, 0, 0,\n",
       "       0, 1, 0, 0, 0, 0, 0, 0, 0, 0, 0, 0, 0, 0, 0, 1, 0, 0, 0, 1, 0, 0,\n",
       "       0, 0, 1, 0, 0, 0, 0, 0, 0, 0, 0, 0, 0, 0, 0, 0, 0, 0, 0, 0, 0, 0,\n",
       "       0, 0, 0, 0, 0, 0, 0, 0, 0, 0, 0, 0, 0, 0, 1, 0, 0, 1, 0, 0, 0, 0,\n",
       "       0, 0, 0, 1, 0, 0, 0, 0, 0, 0, 0, 0, 0, 0, 0, 0, 0, 0, 0, 0, 0, 0,\n",
       "       0, 0, 0, 0, 0, 0, 0, 0, 0, 0, 0, 0, 0, 0, 0, 1, 0, 0, 0, 1, 0, 0,\n",
       "       0, 0, 0, 0, 0, 0, 0, 0, 0, 0, 0, 0, 0, 1, 0, 0, 0, 0, 0, 0, 0, 0,\n",
       "       0, 0, 0, 0, 0, 0, 0, 0, 0, 0, 0, 0, 0, 0, 0, 0, 0, 1, 0, 0, 0, 0,\n",
       "       0, 0, 0, 1, 0, 0, 0, 0, 0, 0, 0, 0, 0, 0, 0, 0, 1, 0, 0, 0, 0, 0,\n",
       "       0, 0, 0, 0, 0, 0, 0, 0, 0, 0, 0, 0, 1, 0, 0, 0, 0, 0, 0, 0, 0, 0,\n",
       "       1, 0, 0, 0, 0, 0, 0, 0, 0, 0, 0, 0, 0, 0, 0, 0, 0, 0, 0, 0, 0, 0,\n",
       "       0, 0, 0, 0, 0, 0, 0, 0, 0, 0, 0, 0, 0, 0, 0, 1, 0, 0, 0, 0, 0, 0,\n",
       "       0, 0, 0, 0, 0, 0, 0, 1, 0, 0, 0, 0, 0, 0, 0, 0, 0, 0, 0, 0, 1, 0,\n",
       "       0, 0, 0, 0, 0, 0, 0, 0, 0, 0, 0, 0, 0, 0, 0, 0, 0, 0, 0, 0, 0, 0,\n",
       "       0, 0, 0, 1, 1, 0, 0, 0, 0, 1, 0, 0, 0, 0, 0, 0, 0, 0, 0, 0, 0, 0,\n",
       "       0, 0, 0, 0, 0, 0, 0, 0, 0, 0, 0, 0, 0, 0, 0, 0, 0, 0, 0, 0, 0, 1,\n",
       "       0, 0, 0, 0, 0, 0, 0, 0, 0, 0, 0, 0, 1, 0, 0, 0, 0, 0, 0, 0, 0, 0,\n",
       "       0, 0, 0, 0, 0, 0, 0, 0, 0, 0, 0, 0, 0, 0, 0, 0, 0, 0, 0, 0, 0, 0,\n",
       "       0, 1, 0, 0, 0, 0, 0, 0, 0, 0, 0, 0, 0, 0, 0, 0, 0, 0, 0, 0, 0, 0,\n",
       "       0, 0, 0, 0, 0, 0, 0, 0, 0, 0, 0, 0, 0, 0, 0, 0, 0, 0, 0, 0, 0, 0,\n",
       "       0, 0, 0, 0, 0, 0, 0, 0, 0, 0, 0, 0, 0, 0, 0, 0, 0, 0, 0, 0, 0, 0,\n",
       "       0, 0, 0, 0, 0, 0, 0, 0, 0, 0, 0, 0, 0, 0, 0, 0, 0, 0, 0, 0, 0, 0,\n",
       "       0, 0, 0, 0, 0, 1, 0, 0, 0, 0, 1, 0, 0, 0, 0, 0, 0, 0, 0, 0, 0, 0,\n",
       "       0, 0, 0, 0, 0, 0, 0, 0, 0, 0, 0, 0, 0, 0, 0, 1, 0, 0, 0, 0, 0, 0,\n",
       "       0, 0, 0, 0, 0, 0, 0, 0, 0, 0, 1, 0, 0, 1, 0, 0, 0, 0, 0, 0, 0, 0,\n",
       "       0, 0, 0, 0, 0, 0, 0, 0, 0, 0, 0, 0, 0, 0, 0, 0, 0, 0, 0, 0, 0, 0,\n",
       "       0, 0, 0, 0, 0, 1, 0, 0, 0, 0, 0, 0, 0, 0, 0, 0, 0, 0, 0, 0, 0, 1,\n",
       "       0, 0, 0, 0, 0, 0, 0, 0, 0, 0, 0, 0, 0, 0, 0, 0, 0, 0, 0, 0, 0, 0,\n",
       "       0, 1, 0, 0, 0, 0, 0, 0, 1, 0, 0, 1, 0, 0, 0, 0, 0, 0, 0, 0, 0, 0,\n",
       "       0, 0, 0, 0, 0, 0, 0, 0, 0, 0, 0, 0, 0, 0, 0, 0, 0, 0, 0, 0, 0, 0,\n",
       "       0, 0, 0, 0, 1, 0, 0, 0, 0, 1, 0, 0, 0, 1, 0, 0, 0, 0, 0, 0, 0, 0,\n",
       "       0, 0, 0, 0, 0, 0, 0, 0, 0, 0, 0, 0, 0, 0, 0, 0, 0, 0, 0, 0, 0, 0,\n",
       "       0, 0, 0, 0, 0, 0, 0, 1, 0, 0, 0, 0, 0, 1, 0, 0, 0, 0, 0, 0, 0, 0,\n",
       "       0, 0, 1, 0, 0, 0, 0, 0, 0, 0, 0, 0, 0, 0, 0, 0, 0, 0, 0, 1, 0, 0,\n",
       "       0, 0, 0, 0, 0, 0, 0, 0, 0, 0, 0, 0, 0, 0])"
      ]
     },
     "execution_count": 57,
     "metadata": {},
     "output_type": "execute_result"
    }
   ],
   "source": [
    "pred_f=pipe_f.predict(x_test)\n",
    "pred_f"
   ]
  },
  {
   "cell_type": "code",
   "execution_count": 58,
   "id": "faa5f18e",
   "metadata": {
    "execution": {
     "iopub.execute_input": "2023-01-25T05:23:15.894506Z",
     "iopub.status.busy": "2023-01-25T05:23:15.893796Z",
     "iopub.status.idle": "2023-01-25T05:23:15.899933Z",
     "shell.execute_reply": "2023-01-25T05:23:15.900500Z",
     "shell.execute_reply.started": "2022-01-31T12:36:55.164921Z"
    },
    "papermill": {
     "duration": 0.109282,
     "end_time": "2023-01-25T05:23:15.900718",
     "exception": false,
     "start_time": "2023-01-25T05:23:15.791436",
     "status": "completed"
    },
    "tags": []
   },
   "outputs": [
    {
     "data": {
      "text/plain": [
       "89.28571428571429"
      ]
     },
     "execution_count": 58,
     "metadata": {},
     "output_type": "execute_result"
    }
   ],
   "source": [
    "accuracy_score(pred_f,y_test)*100"
   ]
  },
  {
   "cell_type": "code",
   "execution_count": 59,
   "id": "3000c7c8",
   "metadata": {
    "execution": {
     "iopub.execute_input": "2023-01-25T05:23:16.110160Z",
     "iopub.status.busy": "2023-01-25T05:23:16.109428Z",
     "iopub.status.idle": "2023-01-25T05:23:16.142883Z",
     "shell.execute_reply": "2023-01-25T05:23:16.143378Z",
     "shell.execute_reply.started": "2022-01-31T12:36:55.174209Z"
    },
    "papermill": {
     "duration": 0.139713,
     "end_time": "2023-01-25T05:23:16.143582",
     "exception": false,
     "start_time": "2023-01-25T05:23:16.003869",
     "status": "completed"
    },
    "tags": []
   },
   "outputs": [
    {
     "data": {
      "text/html": [
       "<style>div.sk-top-container {color: black;background-color: white;}div.sk-toggleable {background-color: white;}label.sk-toggleable__label {cursor: pointer;display: block;width: 100%;margin-bottom: 0;padding: 0.2em 0.3em;box-sizing: border-box;text-align: center;}div.sk-toggleable__content {max-height: 0;max-width: 0;overflow: hidden;text-align: left;background-color: #f0f8ff;}div.sk-toggleable__content pre {margin: 0.2em;color: black;border-radius: 0.25em;background-color: #f0f8ff;}input.sk-toggleable__control:checked~div.sk-toggleable__content {max-height: 200px;max-width: 100%;overflow: auto;}div.sk-estimator input.sk-toggleable__control:checked~label.sk-toggleable__label {background-color: #d4ebff;}div.sk-label input.sk-toggleable__control:checked~label.sk-toggleable__label {background-color: #d4ebff;}input.sk-hidden--visually {border: 0;clip: rect(1px 1px 1px 1px);clip: rect(1px, 1px, 1px, 1px);height: 1px;margin: -1px;overflow: hidden;padding: 0;position: absolute;width: 1px;}div.sk-estimator {font-family: monospace;background-color: #f0f8ff;margin: 0.25em 0.25em;border: 1px dotted black;border-radius: 0.25em;box-sizing: border-box;}div.sk-estimator:hover {background-color: #d4ebff;}div.sk-parallel-item::after {content: \"\";width: 100%;border-bottom: 1px solid gray;flex-grow: 1;}div.sk-label:hover label.sk-toggleable__label {background-color: #d4ebff;}div.sk-serial::before {content: \"\";position: absolute;border-left: 1px solid gray;box-sizing: border-box;top: 2em;bottom: 0;left: 50%;}div.sk-serial {display: flex;flex-direction: column;align-items: center;background-color: white;}div.sk-item {z-index: 1;}div.sk-parallel {display: flex;align-items: stretch;justify-content: center;background-color: white;}div.sk-parallel-item {display: flex;flex-direction: column;position: relative;background-color: white;}div.sk-parallel-item:first-child::after {align-self: flex-end;width: 50%;}div.sk-parallel-item:last-child::after {align-self: flex-start;width: 50%;}div.sk-parallel-item:only-child::after {width: 0;}div.sk-dashed-wrapped {border: 1px dashed gray;margin: 0.2em;box-sizing: border-box;padding-bottom: 0.1em;background-color: white;position: relative;}div.sk-label label {font-family: monospace;font-weight: bold;background-color: white;display: inline-block;line-height: 1.2em;}div.sk-label-container {position: relative;z-index: 2;text-align: center;}div.sk-container {display: inline-block;position: relative;}</style><div class=\"sk-top-container\"><div class=\"sk-container\"><div class=\"sk-item sk-dashed-wrapped\"><div class=\"sk-label-container\"><div class=\"sk-label sk-toggleable\"><input class=\"sk-toggleable__control sk-hidden--visually\" id=\"cd96c29f-5293-4490-850d-c4f60bf7973a\" type=\"checkbox\" ><label class=\"sk-toggleable__label\" for=\"cd96c29f-5293-4490-850d-c4f60bf7973a\">Pipeline</label><div class=\"sk-toggleable__content\"><pre>Pipeline(steps=[('columntransformer',\n",
       "                 ColumnTransformer(remainder='passthrough',\n",
       "                                   transformers=[('onehotencoder',\n",
       "                                                  OneHotEncoder(sparse=False),\n",
       "                                                  [2]),\n",
       "                                                 ('ordinalencoder',\n",
       "                                                  OrdinalEncoder(), [1])])),\n",
       "                ('adaboostclassifier',\n",
       "                 AdaBoostClassifier(learning_rate=0.2, n_estimators=25))])</pre></div></div></div><div class=\"sk-serial\"><div class=\"sk-item sk-dashed-wrapped\"><div class=\"sk-label-container\"><div class=\"sk-label sk-toggleable\"><input class=\"sk-toggleable__control sk-hidden--visually\" id=\"e2daa69d-d9bc-4c34-9473-0d97b571dc0f\" type=\"checkbox\" ><label class=\"sk-toggleable__label\" for=\"e2daa69d-d9bc-4c34-9473-0d97b571dc0f\">columntransformer: ColumnTransformer</label><div class=\"sk-toggleable__content\"><pre>ColumnTransformer(remainder='passthrough',\n",
       "                  transformers=[('onehotencoder', OneHotEncoder(sparse=False),\n",
       "                                 [2]),\n",
       "                                ('ordinalencoder', OrdinalEncoder(), [1])])</pre></div></div></div><div class=\"sk-parallel\"><div class=\"sk-parallel-item\"><div class=\"sk-item\"><div class=\"sk-label-container\"><div class=\"sk-label sk-toggleable\"><input class=\"sk-toggleable__control sk-hidden--visually\" id=\"98aeffba-f79e-45c9-962d-0fc78c7ab608\" type=\"checkbox\" ><label class=\"sk-toggleable__label\" for=\"98aeffba-f79e-45c9-962d-0fc78c7ab608\">onehotencoder</label><div class=\"sk-toggleable__content\"><pre>[2]</pre></div></div></div><div class=\"sk-serial\"><div class=\"sk-item\"><div class=\"sk-estimator sk-toggleable\"><input class=\"sk-toggleable__control sk-hidden--visually\" id=\"a1880294-4c7a-4a63-a4a4-e52f41793586\" type=\"checkbox\" ><label class=\"sk-toggleable__label\" for=\"a1880294-4c7a-4a63-a4a4-e52f41793586\">OneHotEncoder</label><div class=\"sk-toggleable__content\"><pre>OneHotEncoder(sparse=False)</pre></div></div></div></div></div></div><div class=\"sk-parallel-item\"><div class=\"sk-item\"><div class=\"sk-label-container\"><div class=\"sk-label sk-toggleable\"><input class=\"sk-toggleable__control sk-hidden--visually\" id=\"ea86da53-47cd-46e4-8a54-24527dee084b\" type=\"checkbox\" ><label class=\"sk-toggleable__label\" for=\"ea86da53-47cd-46e4-8a54-24527dee084b\">ordinalencoder</label><div class=\"sk-toggleable__content\"><pre>[1]</pre></div></div></div><div class=\"sk-serial\"><div class=\"sk-item\"><div class=\"sk-estimator sk-toggleable\"><input class=\"sk-toggleable__control sk-hidden--visually\" id=\"42e21c35-9a2d-4094-b3c2-ab98b87307a4\" type=\"checkbox\" ><label class=\"sk-toggleable__label\" for=\"42e21c35-9a2d-4094-b3c2-ab98b87307a4\">OrdinalEncoder</label><div class=\"sk-toggleable__content\"><pre>OrdinalEncoder()</pre></div></div></div></div></div></div></div></div><div class=\"sk-item\"><div class=\"sk-estimator sk-toggleable\"><input class=\"sk-toggleable__control sk-hidden--visually\" id=\"3006f5b8-7f2b-4ed3-aef2-41aa48fffc64\" type=\"checkbox\" ><label class=\"sk-toggleable__label\" for=\"3006f5b8-7f2b-4ed3-aef2-41aa48fffc64\">AdaBoostClassifier</label><div class=\"sk-toggleable__content\"><pre>AdaBoostClassifier(learning_rate=0.2, n_estimators=25)</pre></div></div></div></div></div></div></div>"
      ],
      "text/plain": [
       "Pipeline(steps=[('columntransformer',\n",
       "                 ColumnTransformer(remainder='passthrough',\n",
       "                                   transformers=[('onehotencoder',\n",
       "                                                  OneHotEncoder(sparse=False),\n",
       "                                                  [2]),\n",
       "                                                 ('ordinalencoder',\n",
       "                                                  OrdinalEncoder(), [1])])),\n",
       "                ('adaboostclassifier',\n",
       "                 AdaBoostClassifier(learning_rate=0.2, n_estimators=25))])"
      ]
     },
     "execution_count": 59,
     "metadata": {},
     "output_type": "execute_result"
    }
   ],
   "source": [
    "from sklearn.ensemble import AdaBoostClassifier\n",
    "ADC=AdaBoostClassifier(n_estimators=25,learning_rate=0.2)\n",
    "pipe_adc=make_pipeline(trans,ADC)\n",
    "pipe_adc"
   ]
  },
  {
   "cell_type": "code",
   "execution_count": 60,
   "id": "ad5bad24",
   "metadata": {
    "execution": {
     "iopub.execute_input": "2023-01-25T05:23:16.352386Z",
     "iopub.status.busy": "2023-01-25T05:23:16.351654Z",
     "iopub.status.idle": "2023-01-25T05:23:16.480614Z",
     "shell.execute_reply": "2023-01-25T05:23:16.481125Z",
     "shell.execute_reply.started": "2022-01-31T12:36:55.215203Z"
    },
    "papermill": {
     "duration": 0.234335,
     "end_time": "2023-01-25T05:23:16.481312",
     "exception": false,
     "start_time": "2023-01-25T05:23:16.246977",
     "status": "completed"
    },
    "tags": []
   },
   "outputs": [
    {
     "data": {
      "text/html": [
       "<style>div.sk-top-container {color: black;background-color: white;}div.sk-toggleable {background-color: white;}label.sk-toggleable__label {cursor: pointer;display: block;width: 100%;margin-bottom: 0;padding: 0.2em 0.3em;box-sizing: border-box;text-align: center;}div.sk-toggleable__content {max-height: 0;max-width: 0;overflow: hidden;text-align: left;background-color: #f0f8ff;}div.sk-toggleable__content pre {margin: 0.2em;color: black;border-radius: 0.25em;background-color: #f0f8ff;}input.sk-toggleable__control:checked~div.sk-toggleable__content {max-height: 200px;max-width: 100%;overflow: auto;}div.sk-estimator input.sk-toggleable__control:checked~label.sk-toggleable__label {background-color: #d4ebff;}div.sk-label input.sk-toggleable__control:checked~label.sk-toggleable__label {background-color: #d4ebff;}input.sk-hidden--visually {border: 0;clip: rect(1px 1px 1px 1px);clip: rect(1px, 1px, 1px, 1px);height: 1px;margin: -1px;overflow: hidden;padding: 0;position: absolute;width: 1px;}div.sk-estimator {font-family: monospace;background-color: #f0f8ff;margin: 0.25em 0.25em;border: 1px dotted black;border-radius: 0.25em;box-sizing: border-box;}div.sk-estimator:hover {background-color: #d4ebff;}div.sk-parallel-item::after {content: \"\";width: 100%;border-bottom: 1px solid gray;flex-grow: 1;}div.sk-label:hover label.sk-toggleable__label {background-color: #d4ebff;}div.sk-serial::before {content: \"\";position: absolute;border-left: 1px solid gray;box-sizing: border-box;top: 2em;bottom: 0;left: 50%;}div.sk-serial {display: flex;flex-direction: column;align-items: center;background-color: white;}div.sk-item {z-index: 1;}div.sk-parallel {display: flex;align-items: stretch;justify-content: center;background-color: white;}div.sk-parallel-item {display: flex;flex-direction: column;position: relative;background-color: white;}div.sk-parallel-item:first-child::after {align-self: flex-end;width: 50%;}div.sk-parallel-item:last-child::after {align-self: flex-start;width: 50%;}div.sk-parallel-item:only-child::after {width: 0;}div.sk-dashed-wrapped {border: 1px dashed gray;margin: 0.2em;box-sizing: border-box;padding-bottom: 0.1em;background-color: white;position: relative;}div.sk-label label {font-family: monospace;font-weight: bold;background-color: white;display: inline-block;line-height: 1.2em;}div.sk-label-container {position: relative;z-index: 2;text-align: center;}div.sk-container {display: inline-block;position: relative;}</style><div class=\"sk-top-container\"><div class=\"sk-container\"><div class=\"sk-item sk-dashed-wrapped\"><div class=\"sk-label-container\"><div class=\"sk-label sk-toggleable\"><input class=\"sk-toggleable__control sk-hidden--visually\" id=\"43552a35-c1ac-40d1-a98e-8ea50984b13d\" type=\"checkbox\" ><label class=\"sk-toggleable__label\" for=\"43552a35-c1ac-40d1-a98e-8ea50984b13d\">Pipeline</label><div class=\"sk-toggleable__content\"><pre>Pipeline(steps=[('columntransformer',\n",
       "                 ColumnTransformer(remainder='passthrough',\n",
       "                                   transformers=[('onehotencoder',\n",
       "                                                  OneHotEncoder(sparse=False),\n",
       "                                                  [2]),\n",
       "                                                 ('ordinalencoder',\n",
       "                                                  OrdinalEncoder(), [1])])),\n",
       "                ('adaboostclassifier',\n",
       "                 AdaBoostClassifier(learning_rate=0.2, n_estimators=25))])</pre></div></div></div><div class=\"sk-serial\"><div class=\"sk-item sk-dashed-wrapped\"><div class=\"sk-label-container\"><div class=\"sk-label sk-toggleable\"><input class=\"sk-toggleable__control sk-hidden--visually\" id=\"cb61a2f4-ad21-471e-bdbd-6d07aaa5854c\" type=\"checkbox\" ><label class=\"sk-toggleable__label\" for=\"cb61a2f4-ad21-471e-bdbd-6d07aaa5854c\">columntransformer: ColumnTransformer</label><div class=\"sk-toggleable__content\"><pre>ColumnTransformer(remainder='passthrough',\n",
       "                  transformers=[('onehotencoder', OneHotEncoder(sparse=False),\n",
       "                                 [2]),\n",
       "                                ('ordinalencoder', OrdinalEncoder(), [1])])</pre></div></div></div><div class=\"sk-parallel\"><div class=\"sk-parallel-item\"><div class=\"sk-item\"><div class=\"sk-label-container\"><div class=\"sk-label sk-toggleable\"><input class=\"sk-toggleable__control sk-hidden--visually\" id=\"eb124d08-a40f-4e7d-bca9-076577a23759\" type=\"checkbox\" ><label class=\"sk-toggleable__label\" for=\"eb124d08-a40f-4e7d-bca9-076577a23759\">onehotencoder</label><div class=\"sk-toggleable__content\"><pre>[2]</pre></div></div></div><div class=\"sk-serial\"><div class=\"sk-item\"><div class=\"sk-estimator sk-toggleable\"><input class=\"sk-toggleable__control sk-hidden--visually\" id=\"51bb57a3-0d4d-4f1b-a96a-17059f929abd\" type=\"checkbox\" ><label class=\"sk-toggleable__label\" for=\"51bb57a3-0d4d-4f1b-a96a-17059f929abd\">OneHotEncoder</label><div class=\"sk-toggleable__content\"><pre>OneHotEncoder(sparse=False)</pre></div></div></div></div></div></div><div class=\"sk-parallel-item\"><div class=\"sk-item\"><div class=\"sk-label-container\"><div class=\"sk-label sk-toggleable\"><input class=\"sk-toggleable__control sk-hidden--visually\" id=\"de78a1ce-6234-48d8-983f-e3a5a5d9e5df\" type=\"checkbox\" ><label class=\"sk-toggleable__label\" for=\"de78a1ce-6234-48d8-983f-e3a5a5d9e5df\">ordinalencoder</label><div class=\"sk-toggleable__content\"><pre>[1]</pre></div></div></div><div class=\"sk-serial\"><div class=\"sk-item\"><div class=\"sk-estimator sk-toggleable\"><input class=\"sk-toggleable__control sk-hidden--visually\" id=\"47b12171-22c6-4c11-bc1c-ecc8f7e3b309\" type=\"checkbox\" ><label class=\"sk-toggleable__label\" for=\"47b12171-22c6-4c11-bc1c-ecc8f7e3b309\">OrdinalEncoder</label><div class=\"sk-toggleable__content\"><pre>OrdinalEncoder()</pre></div></div></div></div></div></div></div></div><div class=\"sk-item\"><div class=\"sk-estimator sk-toggleable\"><input class=\"sk-toggleable__control sk-hidden--visually\" id=\"78f99027-66be-43e9-b0fd-2ab91553ed45\" type=\"checkbox\" ><label class=\"sk-toggleable__label\" for=\"78f99027-66be-43e9-b0fd-2ab91553ed45\">AdaBoostClassifier</label><div class=\"sk-toggleable__content\"><pre>AdaBoostClassifier(learning_rate=0.2, n_estimators=25)</pre></div></div></div></div></div></div></div>"
      ],
      "text/plain": [
       "Pipeline(steps=[('columntransformer',\n",
       "                 ColumnTransformer(remainder='passthrough',\n",
       "                                   transformers=[('onehotencoder',\n",
       "                                                  OneHotEncoder(sparse=False),\n",
       "                                                  [2]),\n",
       "                                                 ('ordinalencoder',\n",
       "                                                  OrdinalEncoder(), [1])])),\n",
       "                ('adaboostclassifier',\n",
       "                 AdaBoostClassifier(learning_rate=0.2, n_estimators=25))])"
      ]
     },
     "execution_count": 60,
     "metadata": {},
     "output_type": "execute_result"
    }
   ],
   "source": [
    "pipe_adc.fit(x_train,y_train)"
   ]
  },
  {
   "cell_type": "code",
   "execution_count": 61,
   "id": "8ab66c89",
   "metadata": {
    "execution": {
     "iopub.execute_input": "2023-01-25T05:23:16.689904Z",
     "iopub.status.busy": "2023-01-25T05:23:16.689166Z",
     "iopub.status.idle": "2023-01-25T05:23:16.708404Z",
     "shell.execute_reply": "2023-01-25T05:23:16.707698Z",
     "shell.execute_reply.started": "2022-01-31T12:36:55.347369Z"
    },
    "papermill": {
     "duration": 0.125951,
     "end_time": "2023-01-25T05:23:16.708579",
     "exception": false,
     "start_time": "2023-01-25T05:23:16.582628",
     "status": "completed"
    },
    "tags": []
   },
   "outputs": [
    {
     "data": {
      "text/plain": [
       "array([0, 0, 0, 0, 0, 0, 0, 0, 0, 0, 1, 0, 0, 0, 0, 0, 0, 0, 0, 0, 0, 0,\n",
       "       0, 0, 0, 0, 0, 0, 0, 0, 0, 0, 0, 0, 1, 0, 0, 0, 1, 0, 0, 0, 0, 0,\n",
       "       0, 1, 0, 0, 0, 0, 0, 0, 0, 0, 0, 0, 0, 0, 0, 1, 0, 0, 0, 1, 0, 0,\n",
       "       0, 0, 0, 0, 0, 0, 0, 0, 0, 0, 0, 0, 0, 0, 0, 0, 0, 0, 0, 0, 0, 0,\n",
       "       0, 0, 0, 0, 0, 0, 0, 0, 0, 0, 0, 0, 0, 0, 1, 0, 0, 0, 0, 0, 0, 0,\n",
       "       0, 0, 0, 1, 0, 0, 0, 0, 0, 0, 0, 0, 0, 0, 0, 0, 0, 0, 0, 0, 1, 0,\n",
       "       0, 0, 0, 0, 0, 0, 0, 0, 0, 0, 0, 0, 0, 0, 0, 0, 0, 0, 0, 0, 0, 0,\n",
       "       0, 0, 0, 0, 0, 0, 0, 0, 0, 0, 0, 0, 0, 1, 0, 0, 0, 0, 0, 0, 0, 0,\n",
       "       0, 0, 0, 0, 0, 0, 0, 0, 0, 0, 0, 0, 0, 0, 0, 0, 0, 0, 0, 0, 0, 0,\n",
       "       0, 0, 0, 0, 0, 0, 0, 0, 0, 0, 0, 0, 0, 0, 0, 0, 0, 0, 0, 0, 0, 0,\n",
       "       0, 0, 0, 0, 0, 0, 0, 0, 0, 0, 0, 0, 0, 0, 0, 0, 0, 0, 0, 0, 0, 0,\n",
       "       0, 0, 0, 0, 0, 0, 0, 0, 0, 0, 0, 0, 0, 0, 0, 0, 0, 0, 0, 0, 0, 0,\n",
       "       0, 0, 0, 0, 0, 0, 0, 0, 0, 0, 0, 0, 0, 0, 0, 0, 0, 0, 0, 0, 0, 0,\n",
       "       0, 0, 0, 0, 0, 0, 0, 0, 0, 0, 0, 0, 0, 0, 0, 0, 0, 0, 0, 0, 1, 0,\n",
       "       0, 0, 0, 0, 0, 0, 0, 0, 0, 0, 0, 0, 0, 0, 0, 0, 0, 0, 0, 0, 0, 0,\n",
       "       0, 0, 0, 0, 0, 0, 0, 0, 0, 0, 0, 0, 0, 0, 0, 0, 0, 0, 0, 0, 0, 0,\n",
       "       0, 0, 0, 0, 0, 0, 0, 0, 0, 0, 0, 0, 0, 0, 0, 0, 0, 0, 0, 0, 0, 0,\n",
       "       0, 0, 0, 0, 0, 0, 0, 0, 0, 0, 0, 0, 1, 0, 0, 0, 0, 0, 0, 0, 0, 0,\n",
       "       0, 0, 0, 0, 0, 0, 0, 0, 0, 0, 0, 0, 0, 0, 0, 0, 0, 0, 0, 0, 0, 0,\n",
       "       0, 1, 0, 0, 0, 0, 0, 0, 0, 0, 0, 0, 0, 0, 0, 0, 0, 0, 0, 0, 0, 0,\n",
       "       0, 0, 0, 0, 0, 0, 0, 0, 0, 0, 0, 0, 0, 0, 0, 0, 0, 0, 0, 0, 0, 0,\n",
       "       0, 0, 0, 0, 0, 0, 0, 0, 0, 0, 0, 0, 0, 0, 0, 0, 0, 0, 0, 0, 0, 0,\n",
       "       0, 0, 0, 0, 0, 0, 0, 0, 0, 0, 0, 0, 0, 0, 0, 0, 0, 0, 0, 0, 0, 0,\n",
       "       0, 0, 0, 0, 0, 0, 0, 0, 0, 0, 0, 0, 0, 0, 0, 0, 0, 0, 0, 0, 0, 0,\n",
       "       0, 0, 0, 0, 0, 0, 0, 0, 0, 0, 0, 0, 0, 0, 0, 0, 0, 0, 0, 0, 0, 0,\n",
       "       0, 0, 0, 0, 0, 0, 0, 0, 0, 0, 0, 0, 0, 1, 0, 0, 0, 0, 0, 0, 0, 0,\n",
       "       0, 0, 0, 0, 0, 0, 0, 0, 0, 0, 0, 0, 0, 0, 0, 0, 0, 0, 0, 0, 0, 0,\n",
       "       0, 0, 0, 0, 0, 0, 0, 0, 0, 0, 0, 0, 0, 0, 0, 0, 0, 0, 0, 0, 0, 0,\n",
       "       0, 0, 0, 0, 0, 0, 0, 0, 0, 0, 0, 0, 0, 0, 0, 0, 0, 0, 0, 0, 0, 0,\n",
       "       0, 1, 0, 0, 0, 0, 0, 0, 0, 0, 0, 0, 0, 0, 0, 0, 0, 0, 0, 0, 0, 0,\n",
       "       0, 0, 0, 0, 0, 0, 0, 0, 0, 0, 0, 0, 0, 0, 0, 0, 0, 0, 0, 0, 0, 0,\n",
       "       0, 0, 0, 0, 0, 0, 0, 0, 0, 1, 0, 0, 0, 0, 0, 0, 0, 0, 0, 0, 0, 0,\n",
       "       0, 0, 0, 0, 0, 0, 0, 0, 0, 0, 0, 0, 0, 0, 0, 0, 0, 0, 0, 0, 0, 0,\n",
       "       0, 0, 0, 0, 0, 0, 0, 1, 0, 0, 0, 0, 0, 0, 0, 0, 0, 0, 0, 0, 0, 0,\n",
       "       0, 0, 0, 0, 0, 0, 0, 0, 0, 0, 0, 0, 0, 0, 0, 0, 0, 0, 0, 0, 0, 0,\n",
       "       0, 0, 0, 0, 0, 0, 0, 0, 0, 0, 0, 0, 0, 0])"
      ]
     },
     "execution_count": 61,
     "metadata": {},
     "output_type": "execute_result"
    }
   ],
   "source": [
    "pred_adc=pipe_adc.predict(x_test)\n",
    "pred_adc"
   ]
  },
  {
   "cell_type": "code",
   "execution_count": 62,
   "id": "4ded76c8",
   "metadata": {
    "execution": {
     "iopub.execute_input": "2023-01-25T05:23:16.918471Z",
     "iopub.status.busy": "2023-01-25T05:23:16.917759Z",
     "iopub.status.idle": "2023-01-25T05:23:16.921530Z",
     "shell.execute_reply": "2023-01-25T05:23:16.922167Z",
     "shell.execute_reply.started": "2022-01-31T12:36:55.369439Z"
    },
    "papermill": {
     "duration": 0.110177,
     "end_time": "2023-01-25T05:23:16.922361",
     "exception": false,
     "start_time": "2023-01-25T05:23:16.812184",
     "status": "completed"
    },
    "tags": []
   },
   "outputs": [
    {
     "data": {
      "text/plain": [
       "87.88265306122449"
      ]
     },
     "execution_count": 62,
     "metadata": {},
     "output_type": "execute_result"
    }
   ],
   "source": [
    "accuracy_score(pred_adc,y_test)*100"
   ]
  },
  {
   "cell_type": "code",
   "execution_count": 63,
   "id": "8f1d14d6",
   "metadata": {
    "execution": {
     "iopub.execute_input": "2023-01-25T05:23:17.137568Z",
     "iopub.status.busy": "2023-01-25T05:23:17.131643Z",
     "iopub.status.idle": "2023-01-25T05:23:17.184588Z",
     "shell.execute_reply": "2023-01-25T05:23:17.183987Z",
     "shell.execute_reply.started": "2022-01-31T12:36:55.377210Z"
    },
    "papermill": {
     "duration": 0.158118,
     "end_time": "2023-01-25T05:23:17.184752",
     "exception": false,
     "start_time": "2023-01-25T05:23:17.026634",
     "status": "completed"
    },
    "tags": []
   },
   "outputs": [
    {
     "data": {
      "text/html": [
       "<style>div.sk-top-container {color: black;background-color: white;}div.sk-toggleable {background-color: white;}label.sk-toggleable__label {cursor: pointer;display: block;width: 100%;margin-bottom: 0;padding: 0.2em 0.3em;box-sizing: border-box;text-align: center;}div.sk-toggleable__content {max-height: 0;max-width: 0;overflow: hidden;text-align: left;background-color: #f0f8ff;}div.sk-toggleable__content pre {margin: 0.2em;color: black;border-radius: 0.25em;background-color: #f0f8ff;}input.sk-toggleable__control:checked~div.sk-toggleable__content {max-height: 200px;max-width: 100%;overflow: auto;}div.sk-estimator input.sk-toggleable__control:checked~label.sk-toggleable__label {background-color: #d4ebff;}div.sk-label input.sk-toggleable__control:checked~label.sk-toggleable__label {background-color: #d4ebff;}input.sk-hidden--visually {border: 0;clip: rect(1px 1px 1px 1px);clip: rect(1px, 1px, 1px, 1px);height: 1px;margin: -1px;overflow: hidden;padding: 0;position: absolute;width: 1px;}div.sk-estimator {font-family: monospace;background-color: #f0f8ff;margin: 0.25em 0.25em;border: 1px dotted black;border-radius: 0.25em;box-sizing: border-box;}div.sk-estimator:hover {background-color: #d4ebff;}div.sk-parallel-item::after {content: \"\";width: 100%;border-bottom: 1px solid gray;flex-grow: 1;}div.sk-label:hover label.sk-toggleable__label {background-color: #d4ebff;}div.sk-serial::before {content: \"\";position: absolute;border-left: 1px solid gray;box-sizing: border-box;top: 2em;bottom: 0;left: 50%;}div.sk-serial {display: flex;flex-direction: column;align-items: center;background-color: white;}div.sk-item {z-index: 1;}div.sk-parallel {display: flex;align-items: stretch;justify-content: center;background-color: white;}div.sk-parallel-item {display: flex;flex-direction: column;position: relative;background-color: white;}div.sk-parallel-item:first-child::after {align-self: flex-end;width: 50%;}div.sk-parallel-item:last-child::after {align-self: flex-start;width: 50%;}div.sk-parallel-item:only-child::after {width: 0;}div.sk-dashed-wrapped {border: 1px dashed gray;margin: 0.2em;box-sizing: border-box;padding-bottom: 0.1em;background-color: white;position: relative;}div.sk-label label {font-family: monospace;font-weight: bold;background-color: white;display: inline-block;line-height: 1.2em;}div.sk-label-container {position: relative;z-index: 2;text-align: center;}div.sk-container {display: inline-block;position: relative;}</style><div class=\"sk-top-container\"><div class=\"sk-container\"><div class=\"sk-item sk-dashed-wrapped\"><div class=\"sk-label-container\"><div class=\"sk-label sk-toggleable\"><input class=\"sk-toggleable__control sk-hidden--visually\" id=\"ec8c1e42-69c1-4d93-9531-e19a657b3d7a\" type=\"checkbox\" ><label class=\"sk-toggleable__label\" for=\"ec8c1e42-69c1-4d93-9531-e19a657b3d7a\">Pipeline</label><div class=\"sk-toggleable__content\"><pre>Pipeline(steps=[('columntransformer',\n",
       "                 ColumnTransformer(remainder='passthrough',\n",
       "                                   transformers=[('onehotencoder',\n",
       "                                                  OneHotEncoder(sparse=False),\n",
       "                                                  [2]),\n",
       "                                                 ('ordinalencoder',\n",
       "                                                  OrdinalEncoder(), [1])])),\n",
       "                ('randomizedsearchcv',\n",
       "                 RandomizedSearchCV(estimator=AdaBoostClassifier(learning_rate=0.2,\n",
       "                                                                 n_estimators=25),\n",
       "                                    param_distributions={'learning_rate': [0.2,\n",
       "                                                                           0.4,\n",
       "                                                                           0.6,\n",
       "                                                                           0.8],\n",
       "                                                         'n_estimators': [25,\n",
       "                                                                          50,\n",
       "                                                                          75,\n",
       "                                                                          100]},\n",
       "                                    verbose=3))])</pre></div></div></div><div class=\"sk-serial\"><div class=\"sk-item sk-dashed-wrapped\"><div class=\"sk-label-container\"><div class=\"sk-label sk-toggleable\"><input class=\"sk-toggleable__control sk-hidden--visually\" id=\"26b1349a-3579-48b5-85ef-050c21634d39\" type=\"checkbox\" ><label class=\"sk-toggleable__label\" for=\"26b1349a-3579-48b5-85ef-050c21634d39\">columntransformer: ColumnTransformer</label><div class=\"sk-toggleable__content\"><pre>ColumnTransformer(remainder='passthrough',\n",
       "                  transformers=[('onehotencoder', OneHotEncoder(sparse=False),\n",
       "                                 [2]),\n",
       "                                ('ordinalencoder', OrdinalEncoder(), [1])])</pre></div></div></div><div class=\"sk-parallel\"><div class=\"sk-parallel-item\"><div class=\"sk-item\"><div class=\"sk-label-container\"><div class=\"sk-label sk-toggleable\"><input class=\"sk-toggleable__control sk-hidden--visually\" id=\"712aa8c3-f8a6-416a-8c0c-1189e67d08b9\" type=\"checkbox\" ><label class=\"sk-toggleable__label\" for=\"712aa8c3-f8a6-416a-8c0c-1189e67d08b9\">onehotencoder</label><div class=\"sk-toggleable__content\"><pre>[2]</pre></div></div></div><div class=\"sk-serial\"><div class=\"sk-item\"><div class=\"sk-estimator sk-toggleable\"><input class=\"sk-toggleable__control sk-hidden--visually\" id=\"4db36aa0-024a-4a19-95b2-72d91b2f358c\" type=\"checkbox\" ><label class=\"sk-toggleable__label\" for=\"4db36aa0-024a-4a19-95b2-72d91b2f358c\">OneHotEncoder</label><div class=\"sk-toggleable__content\"><pre>OneHotEncoder(sparse=False)</pre></div></div></div></div></div></div><div class=\"sk-parallel-item\"><div class=\"sk-item\"><div class=\"sk-label-container\"><div class=\"sk-label sk-toggleable\"><input class=\"sk-toggleable__control sk-hidden--visually\" id=\"b7b4fb81-b96a-4f33-b943-9dbc7a346bae\" type=\"checkbox\" ><label class=\"sk-toggleable__label\" for=\"b7b4fb81-b96a-4f33-b943-9dbc7a346bae\">ordinalencoder</label><div class=\"sk-toggleable__content\"><pre>[1]</pre></div></div></div><div class=\"sk-serial\"><div class=\"sk-item\"><div class=\"sk-estimator sk-toggleable\"><input class=\"sk-toggleable__control sk-hidden--visually\" id=\"6b45039b-b5b5-4d85-bcd1-773e9cb60064\" type=\"checkbox\" ><label class=\"sk-toggleable__label\" for=\"6b45039b-b5b5-4d85-bcd1-773e9cb60064\">OrdinalEncoder</label><div class=\"sk-toggleable__content\"><pre>OrdinalEncoder()</pre></div></div></div></div></div></div></div></div><div class=\"sk-item sk-dashed-wrapped\"><div class=\"sk-label-container\"><div class=\"sk-label sk-toggleable\"><input class=\"sk-toggleable__control sk-hidden--visually\" id=\"e4eee286-1d8d-4c15-8fdd-7a061b477875\" type=\"checkbox\" ><label class=\"sk-toggleable__label\" for=\"e4eee286-1d8d-4c15-8fdd-7a061b477875\">randomizedsearchcv: RandomizedSearchCV</label><div class=\"sk-toggleable__content\"><pre>RandomizedSearchCV(estimator=AdaBoostClassifier(learning_rate=0.2,\n",
       "                                                n_estimators=25),\n",
       "                   param_distributions={'learning_rate': [0.2, 0.4, 0.6, 0.8],\n",
       "                                        'n_estimators': [25, 50, 75, 100]},\n",
       "                   verbose=3)</pre></div></div></div><div class=\"sk-parallel\"><div class=\"sk-parallel-item\"><div class=\"sk-item\"><div class=\"sk-serial\"><div class=\"sk-item\"><div class=\"sk-estimator sk-toggleable\"><input class=\"sk-toggleable__control sk-hidden--visually\" id=\"d5f36933-7276-4e55-a356-02ad98418b62\" type=\"checkbox\" ><label class=\"sk-toggleable__label\" for=\"d5f36933-7276-4e55-a356-02ad98418b62\">AdaBoostClassifier</label><div class=\"sk-toggleable__content\"><pre>AdaBoostClassifier(learning_rate=0.2, n_estimators=25)</pre></div></div></div></div></div></div></div></div></div></div></div></div>"
      ],
      "text/plain": [
       "Pipeline(steps=[('columntransformer',\n",
       "                 ColumnTransformer(remainder='passthrough',\n",
       "                                   transformers=[('onehotencoder',\n",
       "                                                  OneHotEncoder(sparse=False),\n",
       "                                                  [2]),\n",
       "                                                 ('ordinalencoder',\n",
       "                                                  OrdinalEncoder(), [1])])),\n",
       "                ('randomizedsearchcv',\n",
       "                 RandomizedSearchCV(estimator=AdaBoostClassifier(learning_rate=0.2,\n",
       "                                                                 n_estimators=25),\n",
       "                                    param_distributions={'learning_rate': [0.2,\n",
       "                                                                           0.4,\n",
       "                                                                           0.6,\n",
       "                                                                           0.8],\n",
       "                                                         'n_estimators': [25,\n",
       "                                                                          50,\n",
       "                                                                          75,\n",
       "                                                                          100]},\n",
       "                                    verbose=3))])"
      ]
     },
     "execution_count": 63,
     "metadata": {},
     "output_type": "execute_result"
    }
   ],
   "source": [
    "from sklearn.model_selection import RandomizedSearchCV\n",
    "params_adc={'n_estimators':[25,50,75,100],'learning_rate':[0.2,0.4,0.6,0.8]}\n",
    "pipe_adc=make_pipeline(trans,RandomizedSearchCV(ADC,params_adc,verbose=3,refit=True))\n",
    "pipe_adc"
   ]
  },
  {
   "cell_type": "code",
   "execution_count": 64,
   "id": "0d6a19b6",
   "metadata": {
    "execution": {
     "iopub.execute_input": "2023-01-25T05:23:17.398990Z",
     "iopub.status.busy": "2023-01-25T05:23:17.395884Z",
     "iopub.status.idle": "2023-01-25T05:23:27.824762Z",
     "shell.execute_reply": "2023-01-25T05:23:27.824055Z",
     "shell.execute_reply.started": "2022-01-31T12:36:55.434069Z"
    },
    "papermill": {
     "duration": 10.538398,
     "end_time": "2023-01-25T05:23:27.825002",
     "exception": false,
     "start_time": "2023-01-25T05:23:17.286604",
     "status": "completed"
    },
    "tags": []
   },
   "outputs": [
    {
     "name": "stdout",
     "output_type": "stream",
     "text": [
      "Fitting 5 folds for each of 10 candidates, totalling 50 fits\n",
      "[CV] n_estimators=100, learning_rate=0.4 .............................\n"
     ]
    },
    {
     "name": "stderr",
     "output_type": "stream",
     "text": [
      "[Parallel(n_jobs=1)]: Using backend SequentialBackend with 1 concurrent workers.\n"
     ]
    },
    {
     "name": "stdout",
     "output_type": "stream",
     "text": [
      "[CV] . n_estimators=100, learning_rate=0.4, score=0.884, total=   0.3s\n",
      "[CV] n_estimators=100, learning_rate=0.4 .............................\n"
     ]
    },
    {
     "name": "stderr",
     "output_type": "stream",
     "text": [
      "[Parallel(n_jobs=1)]: Done   1 out of   1 | elapsed:    0.3s remaining:    0.0s\n"
     ]
    },
    {
     "name": "stdout",
     "output_type": "stream",
     "text": [
      "[CV] . n_estimators=100, learning_rate=0.4, score=0.863, total=   0.3s\n",
      "[CV] n_estimators=100, learning_rate=0.4 .............................\n"
     ]
    },
    {
     "name": "stderr",
     "output_type": "stream",
     "text": [
      "[Parallel(n_jobs=1)]: Done   2 out of   2 | elapsed:    0.7s remaining:    0.0s\n"
     ]
    },
    {
     "name": "stdout",
     "output_type": "stream",
     "text": [
      "[CV] . n_estimators=100, learning_rate=0.4, score=0.893, total=   0.3s\n",
      "[CV] n_estimators=100, learning_rate=0.4 .............................\n",
      "[CV] . n_estimators=100, learning_rate=0.4, score=0.873, total=   0.3s\n",
      "[CV] n_estimators=100, learning_rate=0.4 .............................\n",
      "[CV] . n_estimators=100, learning_rate=0.4, score=0.893, total=   0.3s\n",
      "[CV] n_estimators=25, learning_rate=0.2 ..............................\n",
      "[CV] .. n_estimators=25, learning_rate=0.2, score=0.853, total=   0.1s\n",
      "[CV] n_estimators=25, learning_rate=0.2 ..............................\n",
      "[CV] .. n_estimators=25, learning_rate=0.2, score=0.849, total=   0.1s\n",
      "[CV] n_estimators=25, learning_rate=0.2 ..............................\n",
      "[CV] .. n_estimators=25, learning_rate=0.2, score=0.845, total=   0.1s\n",
      "[CV] n_estimators=25, learning_rate=0.2 ..............................\n",
      "[CV] .. n_estimators=25, learning_rate=0.2, score=0.859, total=   0.1s\n",
      "[CV] n_estimators=25, learning_rate=0.2 ..............................\n",
      "[CV] .. n_estimators=25, learning_rate=0.2, score=0.856, total=   0.1s\n",
      "[CV] n_estimators=50, learning_rate=0.8 ..............................\n",
      "[CV] .. n_estimators=50, learning_rate=0.8, score=0.870, total=   0.2s\n",
      "[CV] n_estimators=50, learning_rate=0.8 ..............................\n",
      "[CV] .. n_estimators=50, learning_rate=0.8, score=0.890, total=   0.2s\n",
      "[CV] n_estimators=50, learning_rate=0.8 ..............................\n",
      "[CV] .. n_estimators=50, learning_rate=0.8, score=0.883, total=   0.2s\n",
      "[CV] n_estimators=50, learning_rate=0.8 ..............................\n",
      "[CV] .. n_estimators=50, learning_rate=0.8, score=0.869, total=   0.2s\n",
      "[CV] n_estimators=50, learning_rate=0.8 ..............................\n",
      "[CV] .. n_estimators=50, learning_rate=0.8, score=0.897, total=   0.2s\n",
      "[CV] n_estimators=25, learning_rate=0.8 ..............................\n",
      "[CV] .. n_estimators=25, learning_rate=0.8, score=0.887, total=   0.1s\n",
      "[CV] n_estimators=25, learning_rate=0.8 ..............................\n",
      "[CV] .. n_estimators=25, learning_rate=0.8, score=0.883, total=   0.1s\n",
      "[CV] n_estimators=25, learning_rate=0.8 ..............................\n",
      "[CV] .. n_estimators=25, learning_rate=0.8, score=0.890, total=   0.1s\n",
      "[CV] n_estimators=25, learning_rate=0.8 ..............................\n",
      "[CV] .. n_estimators=25, learning_rate=0.8, score=0.869, total=   0.1s\n",
      "[CV] n_estimators=25, learning_rate=0.8 ..............................\n",
      "[CV] .. n_estimators=25, learning_rate=0.8, score=0.897, total=   0.1s\n",
      "[CV] n_estimators=100, learning_rate=0.8 .............................\n",
      "[CV] . n_estimators=100, learning_rate=0.8, score=0.873, total=   0.3s\n",
      "[CV] n_estimators=100, learning_rate=0.8 .............................\n",
      "[CV] . n_estimators=100, learning_rate=0.8, score=0.863, total=   0.3s\n",
      "[CV] n_estimators=100, learning_rate=0.8 .............................\n",
      "[CV] . n_estimators=100, learning_rate=0.8, score=0.866, total=   0.3s\n",
      "[CV] n_estimators=100, learning_rate=0.8 .............................\n",
      "[CV] . n_estimators=100, learning_rate=0.8, score=0.869, total=   0.3s\n",
      "[CV] n_estimators=100, learning_rate=0.8 .............................\n",
      "[CV] . n_estimators=100, learning_rate=0.8, score=0.873, total=   0.3s\n",
      "[CV] n_estimators=75, learning_rate=0.4 ..............................\n",
      "[CV] .. n_estimators=75, learning_rate=0.4, score=0.873, total=   0.3s\n",
      "[CV] n_estimators=75, learning_rate=0.4 ..............................\n",
      "[CV] .. n_estimators=75, learning_rate=0.4, score=0.876, total=   0.3s\n",
      "[CV] n_estimators=75, learning_rate=0.4 ..............................\n",
      "[CV] .. n_estimators=75, learning_rate=0.4, score=0.883, total=   0.3s\n",
      "[CV] n_estimators=75, learning_rate=0.4 ..............................\n",
      "[CV] .. n_estimators=75, learning_rate=0.4, score=0.869, total=   0.3s\n",
      "[CV] n_estimators=75, learning_rate=0.4 ..............................\n",
      "[CV] .. n_estimators=75, learning_rate=0.4, score=0.897, total=   0.3s\n",
      "[CV] n_estimators=50, learning_rate=0.6 ..............................\n",
      "[CV] .. n_estimators=50, learning_rate=0.6, score=0.877, total=   0.2s\n",
      "[CV] n_estimators=50, learning_rate=0.6 ..............................\n",
      "[CV] .. n_estimators=50, learning_rate=0.6, score=0.866, total=   0.2s\n",
      "[CV] n_estimators=50, learning_rate=0.6 ..............................\n",
      "[CV] .. n_estimators=50, learning_rate=0.6, score=0.887, total=   0.2s\n",
      "[CV] n_estimators=50, learning_rate=0.6 ..............................\n",
      "[CV] .. n_estimators=50, learning_rate=0.6, score=0.856, total=   0.2s\n",
      "[CV] n_estimators=50, learning_rate=0.6 ..............................\n",
      "[CV] .. n_estimators=50, learning_rate=0.6, score=0.904, total=   0.2s\n",
      "[CV] n_estimators=50, learning_rate=0.4 ..............................\n",
      "[CV] .. n_estimators=50, learning_rate=0.4, score=0.866, total=   0.2s\n",
      "[CV] n_estimators=50, learning_rate=0.4 ..............................\n",
      "[CV] .. n_estimators=50, learning_rate=0.4, score=0.876, total=   0.2s\n",
      "[CV] n_estimators=50, learning_rate=0.4 ..............................\n",
      "[CV] .. n_estimators=50, learning_rate=0.4, score=0.883, total=   0.2s\n",
      "[CV] n_estimators=50, learning_rate=0.4 ..............................\n",
      "[CV] .. n_estimators=50, learning_rate=0.4, score=0.859, total=   0.2s\n",
      "[CV] n_estimators=50, learning_rate=0.4 ..............................\n",
      "[CV] .. n_estimators=50, learning_rate=0.4, score=0.900, total=   0.2s\n",
      "[CV] n_estimators=50, learning_rate=0.2 ..............................\n",
      "[CV] .. n_estimators=50, learning_rate=0.2, score=0.873, total=   0.2s\n",
      "[CV] n_estimators=50, learning_rate=0.2 ..............................\n",
      "[CV] .. n_estimators=50, learning_rate=0.2, score=0.866, total=   0.2s\n",
      "[CV] n_estimators=50, learning_rate=0.2 ..............................\n",
      "[CV] .. n_estimators=50, learning_rate=0.2, score=0.863, total=   0.2s\n",
      "[CV] n_estimators=50, learning_rate=0.2 ..............................\n",
      "[CV] .. n_estimators=50, learning_rate=0.2, score=0.873, total=   0.2s\n",
      "[CV] n_estimators=50, learning_rate=0.2 ..............................\n",
      "[CV] .. n_estimators=50, learning_rate=0.2, score=0.880, total=   0.2s\n",
      "[CV] n_estimators=75, learning_rate=0.2 ..............................\n",
      "[CV] .. n_estimators=75, learning_rate=0.2, score=0.873, total=   0.3s\n",
      "[CV] n_estimators=75, learning_rate=0.2 ..............................\n",
      "[CV] .. n_estimators=75, learning_rate=0.2, score=0.873, total=   0.3s\n",
      "[CV] n_estimators=75, learning_rate=0.2 ..............................\n",
      "[CV] .. n_estimators=75, learning_rate=0.2, score=0.873, total=   0.3s\n",
      "[CV] n_estimators=75, learning_rate=0.2 ..............................\n",
      "[CV] .. n_estimators=75, learning_rate=0.2, score=0.859, total=   0.3s\n",
      "[CV] n_estimators=75, learning_rate=0.2 ..............................\n",
      "[CV] .. n_estimators=75, learning_rate=0.2, score=0.890, total=   0.3s\n"
     ]
    },
    {
     "name": "stderr",
     "output_type": "stream",
     "text": [
      "[Parallel(n_jobs=1)]: Done  50 out of  50 | elapsed:   10.3s finished\n"
     ]
    },
    {
     "data": {
      "text/html": [
       "<style>div.sk-top-container {color: black;background-color: white;}div.sk-toggleable {background-color: white;}label.sk-toggleable__label {cursor: pointer;display: block;width: 100%;margin-bottom: 0;padding: 0.2em 0.3em;box-sizing: border-box;text-align: center;}div.sk-toggleable__content {max-height: 0;max-width: 0;overflow: hidden;text-align: left;background-color: #f0f8ff;}div.sk-toggleable__content pre {margin: 0.2em;color: black;border-radius: 0.25em;background-color: #f0f8ff;}input.sk-toggleable__control:checked~div.sk-toggleable__content {max-height: 200px;max-width: 100%;overflow: auto;}div.sk-estimator input.sk-toggleable__control:checked~label.sk-toggleable__label {background-color: #d4ebff;}div.sk-label input.sk-toggleable__control:checked~label.sk-toggleable__label {background-color: #d4ebff;}input.sk-hidden--visually {border: 0;clip: rect(1px 1px 1px 1px);clip: rect(1px, 1px, 1px, 1px);height: 1px;margin: -1px;overflow: hidden;padding: 0;position: absolute;width: 1px;}div.sk-estimator {font-family: monospace;background-color: #f0f8ff;margin: 0.25em 0.25em;border: 1px dotted black;border-radius: 0.25em;box-sizing: border-box;}div.sk-estimator:hover {background-color: #d4ebff;}div.sk-parallel-item::after {content: \"\";width: 100%;border-bottom: 1px solid gray;flex-grow: 1;}div.sk-label:hover label.sk-toggleable__label {background-color: #d4ebff;}div.sk-serial::before {content: \"\";position: absolute;border-left: 1px solid gray;box-sizing: border-box;top: 2em;bottom: 0;left: 50%;}div.sk-serial {display: flex;flex-direction: column;align-items: center;background-color: white;}div.sk-item {z-index: 1;}div.sk-parallel {display: flex;align-items: stretch;justify-content: center;background-color: white;}div.sk-parallel-item {display: flex;flex-direction: column;position: relative;background-color: white;}div.sk-parallel-item:first-child::after {align-self: flex-end;width: 50%;}div.sk-parallel-item:last-child::after {align-self: flex-start;width: 50%;}div.sk-parallel-item:only-child::after {width: 0;}div.sk-dashed-wrapped {border: 1px dashed gray;margin: 0.2em;box-sizing: border-box;padding-bottom: 0.1em;background-color: white;position: relative;}div.sk-label label {font-family: monospace;font-weight: bold;background-color: white;display: inline-block;line-height: 1.2em;}div.sk-label-container {position: relative;z-index: 2;text-align: center;}div.sk-container {display: inline-block;position: relative;}</style><div class=\"sk-top-container\"><div class=\"sk-container\"><div class=\"sk-item sk-dashed-wrapped\"><div class=\"sk-label-container\"><div class=\"sk-label sk-toggleable\"><input class=\"sk-toggleable__control sk-hidden--visually\" id=\"6be86959-f36b-4141-82c1-2ded9bc3de10\" type=\"checkbox\" ><label class=\"sk-toggleable__label\" for=\"6be86959-f36b-4141-82c1-2ded9bc3de10\">Pipeline</label><div class=\"sk-toggleable__content\"><pre>Pipeline(steps=[('columntransformer',\n",
       "                 ColumnTransformer(remainder='passthrough',\n",
       "                                   transformers=[('onehotencoder',\n",
       "                                                  OneHotEncoder(sparse=False),\n",
       "                                                  [2]),\n",
       "                                                 ('ordinalencoder',\n",
       "                                                  OrdinalEncoder(), [1])])),\n",
       "                ('randomizedsearchcv',\n",
       "                 RandomizedSearchCV(estimator=AdaBoostClassifier(learning_rate=0.2,\n",
       "                                                                 n_estimators=25),\n",
       "                                    param_distributions={'learning_rate': [0.2,\n",
       "                                                                           0.4,\n",
       "                                                                           0.6,\n",
       "                                                                           0.8],\n",
       "                                                         'n_estimators': [25,\n",
       "                                                                          50,\n",
       "                                                                          75,\n",
       "                                                                          100]},\n",
       "                                    verbose=3))])</pre></div></div></div><div class=\"sk-serial\"><div class=\"sk-item sk-dashed-wrapped\"><div class=\"sk-label-container\"><div class=\"sk-label sk-toggleable\"><input class=\"sk-toggleable__control sk-hidden--visually\" id=\"12cad92a-0972-4c6b-a09b-5b73a9baae36\" type=\"checkbox\" ><label class=\"sk-toggleable__label\" for=\"12cad92a-0972-4c6b-a09b-5b73a9baae36\">columntransformer: ColumnTransformer</label><div class=\"sk-toggleable__content\"><pre>ColumnTransformer(remainder='passthrough',\n",
       "                  transformers=[('onehotencoder', OneHotEncoder(sparse=False),\n",
       "                                 [2]),\n",
       "                                ('ordinalencoder', OrdinalEncoder(), [1])])</pre></div></div></div><div class=\"sk-parallel\"><div class=\"sk-parallel-item\"><div class=\"sk-item\"><div class=\"sk-label-container\"><div class=\"sk-label sk-toggleable\"><input class=\"sk-toggleable__control sk-hidden--visually\" id=\"bf2074ed-4b12-4f45-a2aa-834b8534aa74\" type=\"checkbox\" ><label class=\"sk-toggleable__label\" for=\"bf2074ed-4b12-4f45-a2aa-834b8534aa74\">onehotencoder</label><div class=\"sk-toggleable__content\"><pre>[2]</pre></div></div></div><div class=\"sk-serial\"><div class=\"sk-item\"><div class=\"sk-estimator sk-toggleable\"><input class=\"sk-toggleable__control sk-hidden--visually\" id=\"15f467fa-b9c1-462a-9686-93cee90581fa\" type=\"checkbox\" ><label class=\"sk-toggleable__label\" for=\"15f467fa-b9c1-462a-9686-93cee90581fa\">OneHotEncoder</label><div class=\"sk-toggleable__content\"><pre>OneHotEncoder(sparse=False)</pre></div></div></div></div></div></div><div class=\"sk-parallel-item\"><div class=\"sk-item\"><div class=\"sk-label-container\"><div class=\"sk-label sk-toggleable\"><input class=\"sk-toggleable__control sk-hidden--visually\" id=\"a12de9ef-ee97-4d27-8d3b-e4ab6bdab3e3\" type=\"checkbox\" ><label class=\"sk-toggleable__label\" for=\"a12de9ef-ee97-4d27-8d3b-e4ab6bdab3e3\">ordinalencoder</label><div class=\"sk-toggleable__content\"><pre>[1]</pre></div></div></div><div class=\"sk-serial\"><div class=\"sk-item\"><div class=\"sk-estimator sk-toggleable\"><input class=\"sk-toggleable__control sk-hidden--visually\" id=\"936a50ec-f10a-4c3e-ab92-8443a873727d\" type=\"checkbox\" ><label class=\"sk-toggleable__label\" for=\"936a50ec-f10a-4c3e-ab92-8443a873727d\">OrdinalEncoder</label><div class=\"sk-toggleable__content\"><pre>OrdinalEncoder()</pre></div></div></div></div></div></div></div></div><div class=\"sk-item sk-dashed-wrapped\"><div class=\"sk-label-container\"><div class=\"sk-label sk-toggleable\"><input class=\"sk-toggleable__control sk-hidden--visually\" id=\"9675d66a-a8b3-404a-b642-ed54ca3d243e\" type=\"checkbox\" ><label class=\"sk-toggleable__label\" for=\"9675d66a-a8b3-404a-b642-ed54ca3d243e\">randomizedsearchcv: RandomizedSearchCV</label><div class=\"sk-toggleable__content\"><pre>RandomizedSearchCV(estimator=AdaBoostClassifier(learning_rate=0.2,\n",
       "                                                n_estimators=25),\n",
       "                   param_distributions={'learning_rate': [0.2, 0.4, 0.6, 0.8],\n",
       "                                        'n_estimators': [25, 50, 75, 100]},\n",
       "                   verbose=3)</pre></div></div></div><div class=\"sk-parallel\"><div class=\"sk-parallel-item\"><div class=\"sk-item\"><div class=\"sk-serial\"><div class=\"sk-item\"><div class=\"sk-estimator sk-toggleable\"><input class=\"sk-toggleable__control sk-hidden--visually\" id=\"0d238bf1-fa79-43da-8225-cdbec97ee373\" type=\"checkbox\" ><label class=\"sk-toggleable__label\" for=\"0d238bf1-fa79-43da-8225-cdbec97ee373\">AdaBoostClassifier</label><div class=\"sk-toggleable__content\"><pre>AdaBoostClassifier(learning_rate=0.2, n_estimators=25)</pre></div></div></div></div></div></div></div></div></div></div></div></div>"
      ],
      "text/plain": [
       "Pipeline(steps=[('columntransformer',\n",
       "                 ColumnTransformer(remainder='passthrough',\n",
       "                                   transformers=[('onehotencoder',\n",
       "                                                  OneHotEncoder(sparse=False),\n",
       "                                                  [2]),\n",
       "                                                 ('ordinalencoder',\n",
       "                                                  OrdinalEncoder(), [1])])),\n",
       "                ('randomizedsearchcv',\n",
       "                 RandomizedSearchCV(estimator=AdaBoostClassifier(learning_rate=0.2,\n",
       "                                                                 n_estimators=25),\n",
       "                                    param_distributions={'learning_rate': [0.2,\n",
       "                                                                           0.4,\n",
       "                                                                           0.6,\n",
       "                                                                           0.8],\n",
       "                                                         'n_estimators': [25,\n",
       "                                                                          50,\n",
       "                                                                          75,\n",
       "                                                                          100]},\n",
       "                                    verbose=3))])"
      ]
     },
     "execution_count": 64,
     "metadata": {},
     "output_type": "execute_result"
    }
   ],
   "source": [
    "pipe_adc.fit(x_train,y_train)"
   ]
  },
  {
   "cell_type": "code",
   "execution_count": 65,
   "id": "59a84b30",
   "metadata": {
    "execution": {
     "iopub.execute_input": "2023-01-25T05:23:28.066203Z",
     "iopub.status.busy": "2023-01-25T05:23:28.065452Z",
     "iopub.status.idle": "2023-01-25T05:23:28.085065Z",
     "shell.execute_reply": "2023-01-25T05:23:28.084478Z",
     "shell.execute_reply.started": "2022-01-31T12:37:05.445353Z"
    },
    "papermill": {
     "duration": 0.142089,
     "end_time": "2023-01-25T05:23:28.085276",
     "exception": false,
     "start_time": "2023-01-25T05:23:27.943187",
     "status": "completed"
    },
    "tags": []
   },
   "outputs": [
    {
     "data": {
      "text/plain": [
       "array([0, 0, 0, 0, 0, 0, 0, 0, 0, 0, 1, 0, 0, 0, 0, 0, 0, 0, 0, 0, 0, 0,\n",
       "       0, 0, 0, 0, 0, 0, 0, 0, 0, 0, 0, 0, 1, 0, 0, 0, 1, 0, 0, 0, 0, 0,\n",
       "       0, 1, 0, 0, 0, 0, 0, 1, 0, 0, 0, 0, 0, 0, 0, 1, 1, 0, 0, 1, 0, 0,\n",
       "       0, 0, 0, 0, 0, 0, 0, 0, 0, 0, 1, 0, 0, 0, 0, 0, 0, 0, 0, 0, 0, 0,\n",
       "       0, 0, 0, 0, 0, 0, 0, 0, 0, 0, 0, 0, 0, 0, 1, 0, 0, 0, 0, 0, 0, 0,\n",
       "       0, 0, 0, 1, 0, 0, 0, 1, 0, 0, 0, 0, 0, 0, 0, 0, 0, 0, 0, 0, 1, 0,\n",
       "       0, 0, 0, 0, 0, 0, 0, 0, 0, 0, 0, 0, 0, 0, 0, 1, 0, 0, 1, 1, 0, 0,\n",
       "       0, 0, 0, 0, 0, 0, 0, 0, 0, 1, 0, 0, 0, 1, 0, 0, 0, 1, 0, 0, 0, 0,\n",
       "       0, 0, 0, 0, 0, 0, 0, 0, 0, 0, 0, 0, 0, 0, 0, 0, 0, 1, 0, 0, 0, 0,\n",
       "       0, 0, 0, 1, 0, 0, 0, 0, 0, 0, 0, 0, 0, 0, 0, 0, 1, 0, 0, 0, 0, 0,\n",
       "       0, 0, 0, 0, 1, 0, 0, 0, 0, 0, 0, 0, 1, 0, 0, 0, 0, 0, 0, 0, 0, 0,\n",
       "       1, 0, 0, 0, 0, 0, 0, 0, 0, 0, 0, 0, 0, 0, 0, 0, 0, 0, 0, 1, 0, 0,\n",
       "       0, 0, 0, 0, 0, 0, 1, 0, 0, 0, 0, 0, 0, 0, 0, 1, 0, 0, 0, 0, 0, 0,\n",
       "       0, 0, 0, 0, 0, 0, 0, 1, 1, 0, 0, 0, 0, 0, 0, 0, 0, 0, 1, 0, 1, 0,\n",
       "       0, 0, 0, 0, 0, 0, 0, 0, 0, 0, 0, 0, 0, 0, 0, 0, 0, 0, 1, 0, 0, 0,\n",
       "       0, 0, 0, 0, 1, 0, 0, 0, 0, 0, 0, 0, 0, 0, 0, 0, 0, 0, 0, 0, 0, 0,\n",
       "       0, 0, 0, 0, 0, 0, 0, 0, 0, 0, 0, 0, 1, 0, 0, 0, 0, 0, 0, 0, 0, 1,\n",
       "       0, 1, 0, 0, 0, 0, 0, 0, 0, 0, 0, 0, 1, 0, 0, 0, 0, 0, 0, 0, 0, 0,\n",
       "       0, 1, 0, 0, 0, 0, 0, 0, 0, 0, 0, 1, 1, 0, 0, 0, 0, 0, 0, 1, 0, 0,\n",
       "       0, 1, 0, 0, 0, 0, 0, 0, 0, 0, 0, 0, 0, 0, 0, 0, 0, 0, 0, 0, 0, 0,\n",
       "       0, 0, 0, 0, 0, 0, 0, 0, 0, 0, 0, 0, 0, 0, 0, 0, 0, 0, 0, 0, 0, 0,\n",
       "       0, 0, 0, 0, 0, 0, 0, 0, 0, 0, 0, 0, 0, 0, 0, 0, 0, 0, 1, 0, 0, 0,\n",
       "       0, 0, 0, 0, 0, 0, 0, 0, 0, 0, 0, 0, 0, 0, 0, 0, 0, 0, 0, 0, 0, 0,\n",
       "       0, 0, 0, 0, 0, 1, 0, 0, 0, 0, 1, 0, 0, 0, 0, 0, 1, 0, 0, 0, 0, 0,\n",
       "       0, 0, 0, 1, 0, 0, 0, 0, 0, 0, 0, 0, 0, 0, 0, 1, 0, 0, 0, 1, 0, 0,\n",
       "       0, 0, 0, 0, 0, 0, 0, 0, 0, 0, 1, 0, 0, 1, 0, 0, 0, 0, 0, 0, 0, 0,\n",
       "       0, 0, 0, 0, 0, 0, 0, 0, 0, 0, 1, 0, 0, 0, 0, 0, 0, 0, 1, 0, 0, 0,\n",
       "       0, 0, 0, 0, 0, 0, 0, 0, 0, 0, 0, 0, 0, 0, 0, 0, 0, 0, 0, 0, 0, 1,\n",
       "       0, 0, 0, 0, 0, 0, 0, 0, 0, 0, 0, 0, 0, 0, 0, 0, 0, 0, 0, 0, 0, 0,\n",
       "       0, 1, 0, 0, 0, 0, 0, 0, 0, 0, 0, 1, 0, 0, 0, 0, 0, 0, 0, 0, 0, 0,\n",
       "       0, 0, 0, 0, 0, 0, 0, 0, 0, 0, 0, 0, 0, 0, 0, 0, 0, 0, 0, 0, 1, 0,\n",
       "       0, 0, 0, 0, 1, 0, 0, 0, 0, 1, 0, 0, 0, 1, 0, 0, 0, 0, 0, 0, 0, 0,\n",
       "       0, 0, 0, 0, 0, 0, 0, 0, 0, 0, 0, 0, 0, 0, 0, 0, 0, 0, 0, 1, 0, 0,\n",
       "       0, 0, 0, 0, 1, 0, 0, 1, 0, 0, 0, 0, 0, 1, 0, 0, 0, 0, 0, 0, 0, 0,\n",
       "       0, 0, 1, 0, 0, 0, 0, 0, 0, 0, 0, 0, 0, 0, 0, 0, 1, 0, 0, 1, 0, 0,\n",
       "       0, 0, 0, 0, 0, 0, 0, 0, 0, 0, 0, 0, 0, 0])"
      ]
     },
     "execution_count": 65,
     "metadata": {},
     "output_type": "execute_result"
    }
   ],
   "source": [
    "pred_adc=pipe_adc.predict(x_test)\n",
    "pred_adc"
   ]
  },
  {
   "cell_type": "code",
   "execution_count": 66,
   "id": "195199a0",
   "metadata": {
    "execution": {
     "iopub.execute_input": "2023-01-25T05:23:28.341134Z",
     "iopub.status.busy": "2023-01-25T05:23:28.340355Z",
     "iopub.status.idle": "2023-01-25T05:23:28.346118Z",
     "shell.execute_reply": "2023-01-25T05:23:28.346687Z",
     "shell.execute_reply.started": "2022-01-31T12:37:05.483455Z"
    },
    "papermill": {
     "duration": 0.137849,
     "end_time": "2023-01-25T05:23:28.346866",
     "exception": false,
     "start_time": "2023-01-25T05:23:28.209017",
     "status": "completed"
    },
    "tags": []
   },
   "outputs": [
    {
     "data": {
      "text/plain": [
       "89.03061224489795"
      ]
     },
     "execution_count": 66,
     "metadata": {},
     "output_type": "execute_result"
    }
   ],
   "source": [
    "accuracy_score(pred_adc,y_test)*100"
   ]
  },
  {
   "cell_type": "code",
   "execution_count": 67,
   "id": "98285f44",
   "metadata": {
    "execution": {
     "iopub.execute_input": "2023-01-25T05:23:28.577761Z",
     "iopub.status.busy": "2023-01-25T05:23:28.576993Z",
     "iopub.status.idle": "2023-01-25T05:23:28.582132Z",
     "shell.execute_reply": "2023-01-25T05:23:28.582769Z",
     "shell.execute_reply.started": "2022-01-31T12:37:05.492059Z"
    },
    "papermill": {
     "duration": 0.122582,
     "end_time": "2023-01-25T05:23:28.583077",
     "exception": false,
     "start_time": "2023-01-25T05:23:28.460495",
     "status": "completed"
    },
    "tags": []
   },
   "outputs": [
    {
     "data": {
      "text/plain": [
       "{'n_estimators': 25, 'learning_rate': 0.8}"
      ]
     },
     "execution_count": 67,
     "metadata": {},
     "output_type": "execute_result"
    }
   ],
   "source": [
    "pipe_adc.named_steps['randomizedsearchcv'].best_params_"
   ]
  },
  {
   "cell_type": "code",
   "execution_count": 68,
   "id": "d313c1ac",
   "metadata": {
    "execution": {
     "iopub.execute_input": "2023-01-25T05:23:28.823984Z",
     "iopub.status.busy": "2023-01-25T05:23:28.822946Z",
     "iopub.status.idle": "2023-01-25T05:23:28.871582Z",
     "shell.execute_reply": "2023-01-25T05:23:28.872208Z",
     "shell.execute_reply.started": "2022-01-31T12:37:05.506638Z"
    },
    "papermill": {
     "duration": 0.171539,
     "end_time": "2023-01-25T05:23:28.872394",
     "exception": false,
     "start_time": "2023-01-25T05:23:28.700855",
     "status": "completed"
    },
    "tags": []
   },
   "outputs": [
    {
     "data": {
      "text/html": [
       "<style>div.sk-top-container {color: black;background-color: white;}div.sk-toggleable {background-color: white;}label.sk-toggleable__label {cursor: pointer;display: block;width: 100%;margin-bottom: 0;padding: 0.2em 0.3em;box-sizing: border-box;text-align: center;}div.sk-toggleable__content {max-height: 0;max-width: 0;overflow: hidden;text-align: left;background-color: #f0f8ff;}div.sk-toggleable__content pre {margin: 0.2em;color: black;border-radius: 0.25em;background-color: #f0f8ff;}input.sk-toggleable__control:checked~div.sk-toggleable__content {max-height: 200px;max-width: 100%;overflow: auto;}div.sk-estimator input.sk-toggleable__control:checked~label.sk-toggleable__label {background-color: #d4ebff;}div.sk-label input.sk-toggleable__control:checked~label.sk-toggleable__label {background-color: #d4ebff;}input.sk-hidden--visually {border: 0;clip: rect(1px 1px 1px 1px);clip: rect(1px, 1px, 1px, 1px);height: 1px;margin: -1px;overflow: hidden;padding: 0;position: absolute;width: 1px;}div.sk-estimator {font-family: monospace;background-color: #f0f8ff;margin: 0.25em 0.25em;border: 1px dotted black;border-radius: 0.25em;box-sizing: border-box;}div.sk-estimator:hover {background-color: #d4ebff;}div.sk-parallel-item::after {content: \"\";width: 100%;border-bottom: 1px solid gray;flex-grow: 1;}div.sk-label:hover label.sk-toggleable__label {background-color: #d4ebff;}div.sk-serial::before {content: \"\";position: absolute;border-left: 1px solid gray;box-sizing: border-box;top: 2em;bottom: 0;left: 50%;}div.sk-serial {display: flex;flex-direction: column;align-items: center;background-color: white;}div.sk-item {z-index: 1;}div.sk-parallel {display: flex;align-items: stretch;justify-content: center;background-color: white;}div.sk-parallel-item {display: flex;flex-direction: column;position: relative;background-color: white;}div.sk-parallel-item:first-child::after {align-self: flex-end;width: 50%;}div.sk-parallel-item:last-child::after {align-self: flex-start;width: 50%;}div.sk-parallel-item:only-child::after {width: 0;}div.sk-dashed-wrapped {border: 1px dashed gray;margin: 0.2em;box-sizing: border-box;padding-bottom: 0.1em;background-color: white;position: relative;}div.sk-label label {font-family: monospace;font-weight: bold;background-color: white;display: inline-block;line-height: 1.2em;}div.sk-label-container {position: relative;z-index: 2;text-align: center;}div.sk-container {display: inline-block;position: relative;}</style><div class=\"sk-top-container\"><div class=\"sk-container\"><div class=\"sk-item sk-dashed-wrapped\"><div class=\"sk-label-container\"><div class=\"sk-label sk-toggleable\"><input class=\"sk-toggleable__control sk-hidden--visually\" id=\"6fe92557-b211-4388-b1ad-c23ac3b79d29\" type=\"checkbox\" ><label class=\"sk-toggleable__label\" for=\"6fe92557-b211-4388-b1ad-c23ac3b79d29\">Pipeline</label><div class=\"sk-toggleable__content\"><pre>Pipeline(steps=[('columntransformer',\n",
       "                 ColumnTransformer(remainder='passthrough',\n",
       "                                   transformers=[('onehotencoder',\n",
       "                                                  OneHotEncoder(sparse=False),\n",
       "                                                  [2]),\n",
       "                                                 ('ordinalencoder',\n",
       "                                                  OrdinalEncoder(), [1])])),\n",
       "                ('randomizedsearchcv',\n",
       "                 RandomizedSearchCV(estimator=AdaBoostClassifier(learning_rate=0.2,\n",
       "                                                                 n_estimators=25),\n",
       "                                    param_distributions={'learning_rate': [0.4],\n",
       "                                                         'n_estimators': [75]},\n",
       "                                    verbose=3))])</pre></div></div></div><div class=\"sk-serial\"><div class=\"sk-item sk-dashed-wrapped\"><div class=\"sk-label-container\"><div class=\"sk-label sk-toggleable\"><input class=\"sk-toggleable__control sk-hidden--visually\" id=\"09acbb3f-5b76-47c7-a01e-307184222e6e\" type=\"checkbox\" ><label class=\"sk-toggleable__label\" for=\"09acbb3f-5b76-47c7-a01e-307184222e6e\">columntransformer: ColumnTransformer</label><div class=\"sk-toggleable__content\"><pre>ColumnTransformer(remainder='passthrough',\n",
       "                  transformers=[('onehotencoder', OneHotEncoder(sparse=False),\n",
       "                                 [2]),\n",
       "                                ('ordinalencoder', OrdinalEncoder(), [1])])</pre></div></div></div><div class=\"sk-parallel\"><div class=\"sk-parallel-item\"><div class=\"sk-item\"><div class=\"sk-label-container\"><div class=\"sk-label sk-toggleable\"><input class=\"sk-toggleable__control sk-hidden--visually\" id=\"fc88b96b-f2c4-4101-b7f8-af20e1d97f99\" type=\"checkbox\" ><label class=\"sk-toggleable__label\" for=\"fc88b96b-f2c4-4101-b7f8-af20e1d97f99\">onehotencoder</label><div class=\"sk-toggleable__content\"><pre>[2]</pre></div></div></div><div class=\"sk-serial\"><div class=\"sk-item\"><div class=\"sk-estimator sk-toggleable\"><input class=\"sk-toggleable__control sk-hidden--visually\" id=\"359981ef-4d63-4642-be0b-155ef1570fbe\" type=\"checkbox\" ><label class=\"sk-toggleable__label\" for=\"359981ef-4d63-4642-be0b-155ef1570fbe\">OneHotEncoder</label><div class=\"sk-toggleable__content\"><pre>OneHotEncoder(sparse=False)</pre></div></div></div></div></div></div><div class=\"sk-parallel-item\"><div class=\"sk-item\"><div class=\"sk-label-container\"><div class=\"sk-label sk-toggleable\"><input class=\"sk-toggleable__control sk-hidden--visually\" id=\"60e2b255-9a86-499f-b5a7-9dabc39bbb00\" type=\"checkbox\" ><label class=\"sk-toggleable__label\" for=\"60e2b255-9a86-499f-b5a7-9dabc39bbb00\">ordinalencoder</label><div class=\"sk-toggleable__content\"><pre>[1]</pre></div></div></div><div class=\"sk-serial\"><div class=\"sk-item\"><div class=\"sk-estimator sk-toggleable\"><input class=\"sk-toggleable__control sk-hidden--visually\" id=\"7c97d720-a12a-4f76-ba75-24eca14f45fd\" type=\"checkbox\" ><label class=\"sk-toggleable__label\" for=\"7c97d720-a12a-4f76-ba75-24eca14f45fd\">OrdinalEncoder</label><div class=\"sk-toggleable__content\"><pre>OrdinalEncoder()</pre></div></div></div></div></div></div></div></div><div class=\"sk-item sk-dashed-wrapped\"><div class=\"sk-label-container\"><div class=\"sk-label sk-toggleable\"><input class=\"sk-toggleable__control sk-hidden--visually\" id=\"2cc46227-4480-4c88-a225-b77952c95807\" type=\"checkbox\" ><label class=\"sk-toggleable__label\" for=\"2cc46227-4480-4c88-a225-b77952c95807\">randomizedsearchcv: RandomizedSearchCV</label><div class=\"sk-toggleable__content\"><pre>RandomizedSearchCV(estimator=AdaBoostClassifier(learning_rate=0.2,\n",
       "                                                n_estimators=25),\n",
       "                   param_distributions={'learning_rate': [0.4],\n",
       "                                        'n_estimators': [75]},\n",
       "                   verbose=3)</pre></div></div></div><div class=\"sk-parallel\"><div class=\"sk-parallel-item\"><div class=\"sk-item\"><div class=\"sk-serial\"><div class=\"sk-item\"><div class=\"sk-estimator sk-toggleable\"><input class=\"sk-toggleable__control sk-hidden--visually\" id=\"3e993cee-3db0-44a6-ba1a-bc24821018b6\" type=\"checkbox\" ><label class=\"sk-toggleable__label\" for=\"3e993cee-3db0-44a6-ba1a-bc24821018b6\">AdaBoostClassifier</label><div class=\"sk-toggleable__content\"><pre>AdaBoostClassifier(learning_rate=0.2, n_estimators=25)</pre></div></div></div></div></div></div></div></div></div></div></div></div>"
      ],
      "text/plain": [
       "Pipeline(steps=[('columntransformer',\n",
       "                 ColumnTransformer(remainder='passthrough',\n",
       "                                   transformers=[('onehotencoder',\n",
       "                                                  OneHotEncoder(sparse=False),\n",
       "                                                  [2]),\n",
       "                                                 ('ordinalencoder',\n",
       "                                                  OrdinalEncoder(), [1])])),\n",
       "                ('randomizedsearchcv',\n",
       "                 RandomizedSearchCV(estimator=AdaBoostClassifier(learning_rate=0.2,\n",
       "                                                                 n_estimators=25),\n",
       "                                    param_distributions={'learning_rate': [0.4],\n",
       "                                                         'n_estimators': [75]},\n",
       "                                    verbose=3))])"
      ]
     },
     "execution_count": 68,
     "metadata": {},
     "output_type": "execute_result"
    }
   ],
   "source": [
    "params_adc1={'n_estimators': [75],'learning_rate': [0.4]}\n",
    "pipe_adc1=make_pipeline(trans,RandomizedSearchCV(ADC,params_adc1,verbose=3,refit=True))\n",
    "pipe_adc1"
   ]
  },
  {
   "cell_type": "code",
   "execution_count": 69,
   "id": "894a5b23",
   "metadata": {
    "execution": {
     "iopub.execute_input": "2023-01-25T05:23:29.120289Z",
     "iopub.status.busy": "2023-01-25T05:23:29.119495Z",
     "iopub.status.idle": "2023-01-25T05:23:30.815230Z",
     "shell.execute_reply": "2023-01-25T05:23:30.814585Z",
     "shell.execute_reply.started": "2022-01-31T12:37:05.565597Z"
    },
    "papermill": {
     "duration": 1.815436,
     "end_time": "2023-01-25T05:23:30.815399",
     "exception": false,
     "start_time": "2023-01-25T05:23:28.999963",
     "status": "completed"
    },
    "tags": []
   },
   "outputs": [
    {
     "name": "stderr",
     "output_type": "stream",
     "text": [
      "/opt/conda/lib/python3.7/site-packages/sklearn/model_selection/_search.py:282: UserWarning: The total space of parameters 1 is smaller than n_iter=10. Running 1 iterations. For exhaustive searches, use GridSearchCV.\n",
      "  % (grid_size, self.n_iter, grid_size), UserWarning)\n",
      "[Parallel(n_jobs=1)]: Using backend SequentialBackend with 1 concurrent workers.\n"
     ]
    },
    {
     "name": "stdout",
     "output_type": "stream",
     "text": [
      "Fitting 5 folds for each of 1 candidates, totalling 5 fits\n",
      "[CV] n_estimators=75, learning_rate=0.4 ..............................\n",
      "[CV] .. n_estimators=75, learning_rate=0.4, score=0.873, total=   0.3s\n",
      "[CV] n_estimators=75, learning_rate=0.4 ..............................\n"
     ]
    },
    {
     "name": "stderr",
     "output_type": "stream",
     "text": [
      "[Parallel(n_jobs=1)]: Done   1 out of   1 | elapsed:    0.3s remaining:    0.0s\n"
     ]
    },
    {
     "name": "stdout",
     "output_type": "stream",
     "text": [
      "[CV] .. n_estimators=75, learning_rate=0.4, score=0.876, total=   0.3s\n",
      "[CV] n_estimators=75, learning_rate=0.4 ..............................\n"
     ]
    },
    {
     "name": "stderr",
     "output_type": "stream",
     "text": [
      "[Parallel(n_jobs=1)]: Done   2 out of   2 | elapsed:    0.5s remaining:    0.0s\n"
     ]
    },
    {
     "name": "stdout",
     "output_type": "stream",
     "text": [
      "[CV] .. n_estimators=75, learning_rate=0.4, score=0.883, total=   0.3s\n",
      "[CV] n_estimators=75, learning_rate=0.4 ..............................\n",
      "[CV] .. n_estimators=75, learning_rate=0.4, score=0.869, total=   0.3s\n",
      "[CV] n_estimators=75, learning_rate=0.4 ..............................\n",
      "[CV] .. n_estimators=75, learning_rate=0.4, score=0.897, total=   0.3s\n"
     ]
    },
    {
     "name": "stderr",
     "output_type": "stream",
     "text": [
      "[Parallel(n_jobs=1)]: Done   5 out of   5 | elapsed:    1.3s finished\n"
     ]
    },
    {
     "data": {
      "text/html": [
       "<style>div.sk-top-container {color: black;background-color: white;}div.sk-toggleable {background-color: white;}label.sk-toggleable__label {cursor: pointer;display: block;width: 100%;margin-bottom: 0;padding: 0.2em 0.3em;box-sizing: border-box;text-align: center;}div.sk-toggleable__content {max-height: 0;max-width: 0;overflow: hidden;text-align: left;background-color: #f0f8ff;}div.sk-toggleable__content pre {margin: 0.2em;color: black;border-radius: 0.25em;background-color: #f0f8ff;}input.sk-toggleable__control:checked~div.sk-toggleable__content {max-height: 200px;max-width: 100%;overflow: auto;}div.sk-estimator input.sk-toggleable__control:checked~label.sk-toggleable__label {background-color: #d4ebff;}div.sk-label input.sk-toggleable__control:checked~label.sk-toggleable__label {background-color: #d4ebff;}input.sk-hidden--visually {border: 0;clip: rect(1px 1px 1px 1px);clip: rect(1px, 1px, 1px, 1px);height: 1px;margin: -1px;overflow: hidden;padding: 0;position: absolute;width: 1px;}div.sk-estimator {font-family: monospace;background-color: #f0f8ff;margin: 0.25em 0.25em;border: 1px dotted black;border-radius: 0.25em;box-sizing: border-box;}div.sk-estimator:hover {background-color: #d4ebff;}div.sk-parallel-item::after {content: \"\";width: 100%;border-bottom: 1px solid gray;flex-grow: 1;}div.sk-label:hover label.sk-toggleable__label {background-color: #d4ebff;}div.sk-serial::before {content: \"\";position: absolute;border-left: 1px solid gray;box-sizing: border-box;top: 2em;bottom: 0;left: 50%;}div.sk-serial {display: flex;flex-direction: column;align-items: center;background-color: white;}div.sk-item {z-index: 1;}div.sk-parallel {display: flex;align-items: stretch;justify-content: center;background-color: white;}div.sk-parallel-item {display: flex;flex-direction: column;position: relative;background-color: white;}div.sk-parallel-item:first-child::after {align-self: flex-end;width: 50%;}div.sk-parallel-item:last-child::after {align-self: flex-start;width: 50%;}div.sk-parallel-item:only-child::after {width: 0;}div.sk-dashed-wrapped {border: 1px dashed gray;margin: 0.2em;box-sizing: border-box;padding-bottom: 0.1em;background-color: white;position: relative;}div.sk-label label {font-family: monospace;font-weight: bold;background-color: white;display: inline-block;line-height: 1.2em;}div.sk-label-container {position: relative;z-index: 2;text-align: center;}div.sk-container {display: inline-block;position: relative;}</style><div class=\"sk-top-container\"><div class=\"sk-container\"><div class=\"sk-item sk-dashed-wrapped\"><div class=\"sk-label-container\"><div class=\"sk-label sk-toggleable\"><input class=\"sk-toggleable__control sk-hidden--visually\" id=\"a7532c5d-09d6-4403-8016-61fa3c0fae8b\" type=\"checkbox\" ><label class=\"sk-toggleable__label\" for=\"a7532c5d-09d6-4403-8016-61fa3c0fae8b\">Pipeline</label><div class=\"sk-toggleable__content\"><pre>Pipeline(steps=[('columntransformer',\n",
       "                 ColumnTransformer(remainder='passthrough',\n",
       "                                   transformers=[('onehotencoder',\n",
       "                                                  OneHotEncoder(sparse=False),\n",
       "                                                  [2]),\n",
       "                                                 ('ordinalencoder',\n",
       "                                                  OrdinalEncoder(), [1])])),\n",
       "                ('randomizedsearchcv',\n",
       "                 RandomizedSearchCV(estimator=AdaBoostClassifier(learning_rate=0.2,\n",
       "                                                                 n_estimators=25),\n",
       "                                    param_distributions={'learning_rate': [0.4],\n",
       "                                                         'n_estimators': [75]},\n",
       "                                    verbose=3))])</pre></div></div></div><div class=\"sk-serial\"><div class=\"sk-item sk-dashed-wrapped\"><div class=\"sk-label-container\"><div class=\"sk-label sk-toggleable\"><input class=\"sk-toggleable__control sk-hidden--visually\" id=\"17deef6b-7d1c-4dbc-b326-c93a96603bba\" type=\"checkbox\" ><label class=\"sk-toggleable__label\" for=\"17deef6b-7d1c-4dbc-b326-c93a96603bba\">columntransformer: ColumnTransformer</label><div class=\"sk-toggleable__content\"><pre>ColumnTransformer(remainder='passthrough',\n",
       "                  transformers=[('onehotencoder', OneHotEncoder(sparse=False),\n",
       "                                 [2]),\n",
       "                                ('ordinalencoder', OrdinalEncoder(), [1])])</pre></div></div></div><div class=\"sk-parallel\"><div class=\"sk-parallel-item\"><div class=\"sk-item\"><div class=\"sk-label-container\"><div class=\"sk-label sk-toggleable\"><input class=\"sk-toggleable__control sk-hidden--visually\" id=\"5ee7a196-fd52-400b-9fda-8889cf84935b\" type=\"checkbox\" ><label class=\"sk-toggleable__label\" for=\"5ee7a196-fd52-400b-9fda-8889cf84935b\">onehotencoder</label><div class=\"sk-toggleable__content\"><pre>[2]</pre></div></div></div><div class=\"sk-serial\"><div class=\"sk-item\"><div class=\"sk-estimator sk-toggleable\"><input class=\"sk-toggleable__control sk-hidden--visually\" id=\"5bdd63f6-a15f-4ba4-8f1d-afe38079cb58\" type=\"checkbox\" ><label class=\"sk-toggleable__label\" for=\"5bdd63f6-a15f-4ba4-8f1d-afe38079cb58\">OneHotEncoder</label><div class=\"sk-toggleable__content\"><pre>OneHotEncoder(sparse=False)</pre></div></div></div></div></div></div><div class=\"sk-parallel-item\"><div class=\"sk-item\"><div class=\"sk-label-container\"><div class=\"sk-label sk-toggleable\"><input class=\"sk-toggleable__control sk-hidden--visually\" id=\"79bf075a-5ac0-4d64-843d-798d19242c2f\" type=\"checkbox\" ><label class=\"sk-toggleable__label\" for=\"79bf075a-5ac0-4d64-843d-798d19242c2f\">ordinalencoder</label><div class=\"sk-toggleable__content\"><pre>[1]</pre></div></div></div><div class=\"sk-serial\"><div class=\"sk-item\"><div class=\"sk-estimator sk-toggleable\"><input class=\"sk-toggleable__control sk-hidden--visually\" id=\"a4fd3681-4169-45f0-9a7d-733c07c728e1\" type=\"checkbox\" ><label class=\"sk-toggleable__label\" for=\"a4fd3681-4169-45f0-9a7d-733c07c728e1\">OrdinalEncoder</label><div class=\"sk-toggleable__content\"><pre>OrdinalEncoder()</pre></div></div></div></div></div></div></div></div><div class=\"sk-item sk-dashed-wrapped\"><div class=\"sk-label-container\"><div class=\"sk-label sk-toggleable\"><input class=\"sk-toggleable__control sk-hidden--visually\" id=\"cb2c21ba-cc6a-45bd-b7ed-3a67e785c722\" type=\"checkbox\" ><label class=\"sk-toggleable__label\" for=\"cb2c21ba-cc6a-45bd-b7ed-3a67e785c722\">randomizedsearchcv: RandomizedSearchCV</label><div class=\"sk-toggleable__content\"><pre>RandomizedSearchCV(estimator=AdaBoostClassifier(learning_rate=0.2,\n",
       "                                                n_estimators=25),\n",
       "                   param_distributions={'learning_rate': [0.4],\n",
       "                                        'n_estimators': [75]},\n",
       "                   verbose=3)</pre></div></div></div><div class=\"sk-parallel\"><div class=\"sk-parallel-item\"><div class=\"sk-item\"><div class=\"sk-serial\"><div class=\"sk-item\"><div class=\"sk-estimator sk-toggleable\"><input class=\"sk-toggleable__control sk-hidden--visually\" id=\"d3dcde72-0d29-4f4c-909e-7dc9ac755eb6\" type=\"checkbox\" ><label class=\"sk-toggleable__label\" for=\"d3dcde72-0d29-4f4c-909e-7dc9ac755eb6\">AdaBoostClassifier</label><div class=\"sk-toggleable__content\"><pre>AdaBoostClassifier(learning_rate=0.2, n_estimators=25)</pre></div></div></div></div></div></div></div></div></div></div></div></div>"
      ],
      "text/plain": [
       "Pipeline(steps=[('columntransformer',\n",
       "                 ColumnTransformer(remainder='passthrough',\n",
       "                                   transformers=[('onehotencoder',\n",
       "                                                  OneHotEncoder(sparse=False),\n",
       "                                                  [2]),\n",
       "                                                 ('ordinalencoder',\n",
       "                                                  OrdinalEncoder(), [1])])),\n",
       "                ('randomizedsearchcv',\n",
       "                 RandomizedSearchCV(estimator=AdaBoostClassifier(learning_rate=0.2,\n",
       "                                                                 n_estimators=25),\n",
       "                                    param_distributions={'learning_rate': [0.4],\n",
       "                                                         'n_estimators': [75]},\n",
       "                                    verbose=3))])"
      ]
     },
     "execution_count": 69,
     "metadata": {},
     "output_type": "execute_result"
    }
   ],
   "source": [
    "pipe_adc1.fit(x_train,y_train)"
   ]
  },
  {
   "cell_type": "code",
   "execution_count": 70,
   "id": "0eccf8c4",
   "metadata": {
    "execution": {
     "iopub.execute_input": "2023-01-25T05:23:31.077503Z",
     "iopub.status.busy": "2023-01-25T05:23:31.076532Z",
     "iopub.status.idle": "2023-01-25T05:23:31.109419Z",
     "shell.execute_reply": "2023-01-25T05:23:31.108710Z",
     "shell.execute_reply.started": "2022-01-31T12:37:07.144756Z"
    },
    "papermill": {
     "duration": 0.172008,
     "end_time": "2023-01-25T05:23:31.109605",
     "exception": false,
     "start_time": "2023-01-25T05:23:30.937597",
     "status": "completed"
    },
    "tags": []
   },
   "outputs": [
    {
     "data": {
      "text/plain": [
       "array([0, 0, 0, 0, 0, 0, 0, 0, 0, 0, 1, 0, 0, 0, 0, 0, 0, 0, 0, 0, 0, 0,\n",
       "       0, 0, 0, 0, 0, 0, 0, 0, 0, 0, 0, 0, 1, 0, 0, 0, 1, 0, 0, 0, 0, 0,\n",
       "       0, 1, 0, 0, 0, 0, 0, 0, 0, 0, 0, 0, 0, 0, 0, 1, 1, 0, 0, 1, 0, 0,\n",
       "       0, 0, 1, 0, 0, 0, 0, 0, 0, 0, 1, 0, 0, 0, 0, 0, 0, 0, 0, 0, 0, 0,\n",
       "       0, 0, 0, 0, 0, 0, 0, 0, 0, 0, 0, 0, 0, 0, 1, 0, 0, 0, 0, 0, 0, 0,\n",
       "       0, 0, 0, 1, 0, 0, 0, 0, 0, 0, 0, 0, 1, 0, 0, 0, 0, 0, 0, 0, 1, 0,\n",
       "       0, 0, 0, 0, 0, 0, 0, 0, 0, 0, 0, 0, 0, 0, 0, 1, 0, 0, 1, 1, 1, 0,\n",
       "       0, 0, 0, 0, 0, 0, 0, 0, 0, 1, 0, 0, 0, 1, 0, 0, 0, 1, 0, 0, 0, 0,\n",
       "       0, 0, 0, 0, 0, 0, 0, 0, 0, 0, 0, 0, 0, 0, 0, 0, 0, 1, 0, 0, 0, 0,\n",
       "       0, 0, 0, 1, 0, 0, 0, 0, 0, 0, 0, 0, 0, 0, 0, 0, 1, 0, 0, 0, 0, 0,\n",
       "       0, 0, 0, 0, 0, 0, 0, 0, 0, 0, 0, 0, 1, 0, 0, 0, 0, 0, 0, 0, 0, 0,\n",
       "       1, 0, 0, 0, 0, 0, 0, 0, 0, 0, 0, 0, 0, 0, 0, 0, 0, 0, 0, 1, 0, 1,\n",
       "       0, 0, 0, 0, 0, 0, 1, 0, 0, 0, 0, 0, 0, 0, 0, 1, 0, 0, 0, 0, 0, 0,\n",
       "       0, 0, 0, 0, 0, 0, 0, 1, 0, 0, 0, 0, 0, 0, 0, 0, 0, 0, 0, 0, 1, 0,\n",
       "       0, 0, 0, 0, 0, 0, 0, 0, 0, 0, 0, 0, 0, 0, 0, 0, 0, 0, 0, 0, 0, 0,\n",
       "       0, 0, 0, 0, 1, 0, 0, 0, 0, 0, 0, 0, 0, 0, 0, 0, 0, 0, 0, 0, 0, 0,\n",
       "       0, 0, 0, 0, 0, 0, 0, 0, 0, 0, 0, 0, 1, 0, 0, 0, 0, 0, 0, 0, 0, 1,\n",
       "       0, 0, 0, 0, 0, 0, 0, 0, 0, 0, 0, 0, 1, 0, 0, 0, 0, 0, 0, 0, 0, 0,\n",
       "       0, 1, 0, 0, 0, 0, 0, 0, 0, 0, 0, 0, 0, 0, 0, 0, 0, 0, 0, 0, 0, 1,\n",
       "       0, 1, 0, 0, 0, 0, 0, 0, 0, 0, 0, 0, 0, 0, 0, 0, 0, 0, 0, 0, 0, 0,\n",
       "       0, 0, 0, 0, 0, 0, 0, 0, 0, 0, 0, 0, 0, 0, 0, 0, 0, 0, 0, 0, 0, 0,\n",
       "       0, 0, 0, 0, 0, 0, 0, 0, 0, 0, 0, 0, 0, 0, 0, 0, 0, 0, 0, 0, 0, 0,\n",
       "       0, 0, 0, 0, 0, 0, 0, 0, 0, 0, 0, 0, 0, 0, 0, 0, 0, 0, 0, 0, 0, 0,\n",
       "       0, 0, 0, 0, 0, 1, 0, 0, 0, 0, 1, 0, 0, 0, 0, 0, 1, 0, 0, 0, 0, 0,\n",
       "       0, 0, 0, 1, 0, 0, 0, 0, 0, 0, 0, 0, 0, 0, 0, 1, 0, 0, 0, 0, 0, 0,\n",
       "       0, 0, 0, 0, 0, 0, 0, 0, 0, 0, 0, 0, 0, 1, 0, 0, 0, 0, 0, 0, 0, 0,\n",
       "       0, 0, 0, 0, 0, 0, 0, 0, 0, 0, 1, 0, 0, 0, 0, 0, 0, 0, 0, 0, 0, 0,\n",
       "       0, 0, 0, 0, 0, 0, 0, 0, 0, 0, 0, 0, 0, 0, 0, 0, 0, 0, 0, 0, 0, 1,\n",
       "       0, 0, 0, 0, 0, 0, 0, 0, 0, 0, 0, 0, 0, 0, 0, 0, 0, 0, 0, 0, 0, 0,\n",
       "       0, 1, 0, 0, 0, 0, 0, 0, 0, 0, 0, 1, 0, 0, 0, 0, 0, 0, 0, 0, 0, 0,\n",
       "       0, 0, 0, 0, 0, 0, 0, 0, 1, 0, 0, 0, 0, 0, 0, 0, 0, 0, 1, 0, 0, 0,\n",
       "       0, 0, 0, 0, 1, 0, 0, 0, 0, 1, 0, 0, 0, 0, 0, 0, 0, 0, 0, 0, 0, 0,\n",
       "       0, 0, 0, 0, 0, 0, 0, 0, 0, 0, 0, 0, 0, 0, 0, 0, 0, 0, 0, 0, 0, 0,\n",
       "       0, 0, 0, 0, 1, 0, 0, 1, 0, 0, 0, 0, 0, 1, 0, 0, 0, 0, 0, 0, 0, 0,\n",
       "       0, 0, 1, 0, 0, 0, 0, 0, 0, 0, 0, 0, 0, 0, 0, 0, 1, 0, 0, 0, 0, 0,\n",
       "       0, 0, 0, 0, 0, 0, 0, 0, 0, 0, 0, 0, 0, 0])"
      ]
     },
     "execution_count": 70,
     "metadata": {},
     "output_type": "execute_result"
    }
   ],
   "source": [
    "pred_adc1=pipe_adc1.predict(x_test)\n",
    "pred_adc1"
   ]
  },
  {
   "cell_type": "code",
   "execution_count": 71,
   "id": "b674b825",
   "metadata": {
    "execution": {
     "iopub.execute_input": "2023-01-25T05:23:31.374111Z",
     "iopub.status.busy": "2023-01-25T05:23:31.373173Z",
     "iopub.status.idle": "2023-01-25T05:23:31.376376Z",
     "shell.execute_reply": "2023-01-25T05:23:31.377097Z",
     "shell.execute_reply.started": "2022-01-31T12:37:07.181456Z"
    },
    "papermill": {
     "duration": 0.14337,
     "end_time": "2023-01-25T05:23:31.377308",
     "exception": false,
     "start_time": "2023-01-25T05:23:31.233938",
     "status": "completed"
    },
    "tags": []
   },
   "outputs": [
    {
     "data": {
      "text/plain": [
       "90.17857142857143"
      ]
     },
     "execution_count": 71,
     "metadata": {},
     "output_type": "execute_result"
    }
   ],
   "source": [
    "accuracy_score(pred_adc1,y_test)*100"
   ]
  },
  {
   "cell_type": "code",
   "execution_count": 72,
   "id": "10f3f5e1",
   "metadata": {
    "execution": {
     "iopub.execute_input": "2023-01-25T05:23:31.658978Z",
     "iopub.status.busy": "2023-01-25T05:23:31.653842Z",
     "iopub.status.idle": "2023-01-25T05:23:31.680790Z",
     "shell.execute_reply": "2023-01-25T05:23:31.680186Z",
     "shell.execute_reply.started": "2022-01-31T12:37:07.189955Z"
    },
    "papermill": {
     "duration": 0.171906,
     "end_time": "2023-01-25T05:23:31.680962",
     "exception": false,
     "start_time": "2023-01-25T05:23:31.509056",
     "status": "completed"
    },
    "tags": []
   },
   "outputs": [
    {
     "data": {
      "text/html": [
       "<style>div.sk-top-container {color: black;background-color: white;}div.sk-toggleable {background-color: white;}label.sk-toggleable__label {cursor: pointer;display: block;width: 100%;margin-bottom: 0;padding: 0.2em 0.3em;box-sizing: border-box;text-align: center;}div.sk-toggleable__content {max-height: 0;max-width: 0;overflow: hidden;text-align: left;background-color: #f0f8ff;}div.sk-toggleable__content pre {margin: 0.2em;color: black;border-radius: 0.25em;background-color: #f0f8ff;}input.sk-toggleable__control:checked~div.sk-toggleable__content {max-height: 200px;max-width: 100%;overflow: auto;}div.sk-estimator input.sk-toggleable__control:checked~label.sk-toggleable__label {background-color: #d4ebff;}div.sk-label input.sk-toggleable__control:checked~label.sk-toggleable__label {background-color: #d4ebff;}input.sk-hidden--visually {border: 0;clip: rect(1px 1px 1px 1px);clip: rect(1px, 1px, 1px, 1px);height: 1px;margin: -1px;overflow: hidden;padding: 0;position: absolute;width: 1px;}div.sk-estimator {font-family: monospace;background-color: #f0f8ff;margin: 0.25em 0.25em;border: 1px dotted black;border-radius: 0.25em;box-sizing: border-box;}div.sk-estimator:hover {background-color: #d4ebff;}div.sk-parallel-item::after {content: \"\";width: 100%;border-bottom: 1px solid gray;flex-grow: 1;}div.sk-label:hover label.sk-toggleable__label {background-color: #d4ebff;}div.sk-serial::before {content: \"\";position: absolute;border-left: 1px solid gray;box-sizing: border-box;top: 2em;bottom: 0;left: 50%;}div.sk-serial {display: flex;flex-direction: column;align-items: center;background-color: white;}div.sk-item {z-index: 1;}div.sk-parallel {display: flex;align-items: stretch;justify-content: center;background-color: white;}div.sk-parallel-item {display: flex;flex-direction: column;position: relative;background-color: white;}div.sk-parallel-item:first-child::after {align-self: flex-end;width: 50%;}div.sk-parallel-item:last-child::after {align-self: flex-start;width: 50%;}div.sk-parallel-item:only-child::after {width: 0;}div.sk-dashed-wrapped {border: 1px dashed gray;margin: 0.2em;box-sizing: border-box;padding-bottom: 0.1em;background-color: white;position: relative;}div.sk-label label {font-family: monospace;font-weight: bold;background-color: white;display: inline-block;line-height: 1.2em;}div.sk-label-container {position: relative;z-index: 2;text-align: center;}div.sk-container {display: inline-block;position: relative;}</style><div class=\"sk-top-container\"><div class=\"sk-container\"><div class=\"sk-item sk-dashed-wrapped\"><div class=\"sk-label-container\"><div class=\"sk-label sk-toggleable\"><input class=\"sk-toggleable__control sk-hidden--visually\" id=\"e2ba86d5-6c31-4a11-881f-8c2db968fc3d\" type=\"checkbox\" ><label class=\"sk-toggleable__label\" for=\"e2ba86d5-6c31-4a11-881f-8c2db968fc3d\">Pipeline</label><div class=\"sk-toggleable__content\"><pre>Pipeline(steps=[('columntransformer',\n",
       "                 ColumnTransformer(remainder='passthrough',\n",
       "                                   transformers=[('onehotencoder',\n",
       "                                                  OneHotEncoder(sparse=False),\n",
       "                                                  [2]),\n",
       "                                                 ('ordinalencoder',\n",
       "                                                  OrdinalEncoder(), [1])])),\n",
       "                ('gradientboostingclassifier',\n",
       "                 GradientBoostingClassifier(learning_rate=0.2,\n",
       "                                            n_estimators=50))])</pre></div></div></div><div class=\"sk-serial\"><div class=\"sk-item sk-dashed-wrapped\"><div class=\"sk-label-container\"><div class=\"sk-label sk-toggleable\"><input class=\"sk-toggleable__control sk-hidden--visually\" id=\"90658e61-ff96-4f54-a626-b7d7106361ef\" type=\"checkbox\" ><label class=\"sk-toggleable__label\" for=\"90658e61-ff96-4f54-a626-b7d7106361ef\">columntransformer: ColumnTransformer</label><div class=\"sk-toggleable__content\"><pre>ColumnTransformer(remainder='passthrough',\n",
       "                  transformers=[('onehotencoder', OneHotEncoder(sparse=False),\n",
       "                                 [2]),\n",
       "                                ('ordinalencoder', OrdinalEncoder(), [1])])</pre></div></div></div><div class=\"sk-parallel\"><div class=\"sk-parallel-item\"><div class=\"sk-item\"><div class=\"sk-label-container\"><div class=\"sk-label sk-toggleable\"><input class=\"sk-toggleable__control sk-hidden--visually\" id=\"0eae368f-ffc3-4a0d-9f54-a72a864e5de7\" type=\"checkbox\" ><label class=\"sk-toggleable__label\" for=\"0eae368f-ffc3-4a0d-9f54-a72a864e5de7\">onehotencoder</label><div class=\"sk-toggleable__content\"><pre>[2]</pre></div></div></div><div class=\"sk-serial\"><div class=\"sk-item\"><div class=\"sk-estimator sk-toggleable\"><input class=\"sk-toggleable__control sk-hidden--visually\" id=\"ce5af121-37d5-4e22-87df-abf51f61a3c7\" type=\"checkbox\" ><label class=\"sk-toggleable__label\" for=\"ce5af121-37d5-4e22-87df-abf51f61a3c7\">OneHotEncoder</label><div class=\"sk-toggleable__content\"><pre>OneHotEncoder(sparse=False)</pre></div></div></div></div></div></div><div class=\"sk-parallel-item\"><div class=\"sk-item\"><div class=\"sk-label-container\"><div class=\"sk-label sk-toggleable\"><input class=\"sk-toggleable__control sk-hidden--visually\" id=\"f247d54c-f12c-41bb-a04a-ef309d3f8764\" type=\"checkbox\" ><label class=\"sk-toggleable__label\" for=\"f247d54c-f12c-41bb-a04a-ef309d3f8764\">ordinalencoder</label><div class=\"sk-toggleable__content\"><pre>[1]</pre></div></div></div><div class=\"sk-serial\"><div class=\"sk-item\"><div class=\"sk-estimator sk-toggleable\"><input class=\"sk-toggleable__control sk-hidden--visually\" id=\"b0df99bc-a087-4dbc-abc2-9a99acb2589c\" type=\"checkbox\" ><label class=\"sk-toggleable__label\" for=\"b0df99bc-a087-4dbc-abc2-9a99acb2589c\">OrdinalEncoder</label><div class=\"sk-toggleable__content\"><pre>OrdinalEncoder()</pre></div></div></div></div></div></div></div></div><div class=\"sk-item\"><div class=\"sk-estimator sk-toggleable\"><input class=\"sk-toggleable__control sk-hidden--visually\" id=\"227df7b7-93fa-4fb9-8001-3e6964a6e3d4\" type=\"checkbox\" ><label class=\"sk-toggleable__label\" for=\"227df7b7-93fa-4fb9-8001-3e6964a6e3d4\">GradientBoostingClassifier</label><div class=\"sk-toggleable__content\"><pre>GradientBoostingClassifier(learning_rate=0.2, n_estimators=50)</pre></div></div></div></div></div></div></div>"
      ],
      "text/plain": [
       "Pipeline(steps=[('columntransformer',\n",
       "                 ColumnTransformer(remainder='passthrough',\n",
       "                                   transformers=[('onehotencoder',\n",
       "                                                  OneHotEncoder(sparse=False),\n",
       "                                                  [2]),\n",
       "                                                 ('ordinalencoder',\n",
       "                                                  OrdinalEncoder(), [1])])),\n",
       "                ('gradientboostingclassifier',\n",
       "                 GradientBoostingClassifier(learning_rate=0.2,\n",
       "                                            n_estimators=50))])"
      ]
     },
     "execution_count": 72,
     "metadata": {},
     "output_type": "execute_result"
    }
   ],
   "source": [
    "from sklearn.ensemble import GradientBoostingClassifier\n",
    "GDC=GradientBoostingClassifier(learning_rate=0.2, n_estimators=50)\n",
    "pipe_gdc=make_pipeline(trans,GDC)\n",
    "pipe_gdc"
   ]
  },
  {
   "cell_type": "code",
   "execution_count": 73,
   "id": "6a35bbc4",
   "metadata": {
    "execution": {
     "iopub.execute_input": "2023-01-25T05:23:31.933645Z",
     "iopub.status.busy": "2023-01-25T05:23:31.932910Z",
     "iopub.status.idle": "2023-01-25T05:23:32.226351Z",
     "shell.execute_reply": "2023-01-25T05:23:32.226896Z",
     "shell.execute_reply.started": "2022-01-31T12:37:07.235303Z"
    },
    "papermill": {
     "duration": 0.421201,
     "end_time": "2023-01-25T05:23:32.227092",
     "exception": false,
     "start_time": "2023-01-25T05:23:31.805891",
     "status": "completed"
    },
    "tags": []
   },
   "outputs": [
    {
     "data": {
      "text/html": [
       "<style>div.sk-top-container {color: black;background-color: white;}div.sk-toggleable {background-color: white;}label.sk-toggleable__label {cursor: pointer;display: block;width: 100%;margin-bottom: 0;padding: 0.2em 0.3em;box-sizing: border-box;text-align: center;}div.sk-toggleable__content {max-height: 0;max-width: 0;overflow: hidden;text-align: left;background-color: #f0f8ff;}div.sk-toggleable__content pre {margin: 0.2em;color: black;border-radius: 0.25em;background-color: #f0f8ff;}input.sk-toggleable__control:checked~div.sk-toggleable__content {max-height: 200px;max-width: 100%;overflow: auto;}div.sk-estimator input.sk-toggleable__control:checked~label.sk-toggleable__label {background-color: #d4ebff;}div.sk-label input.sk-toggleable__control:checked~label.sk-toggleable__label {background-color: #d4ebff;}input.sk-hidden--visually {border: 0;clip: rect(1px 1px 1px 1px);clip: rect(1px, 1px, 1px, 1px);height: 1px;margin: -1px;overflow: hidden;padding: 0;position: absolute;width: 1px;}div.sk-estimator {font-family: monospace;background-color: #f0f8ff;margin: 0.25em 0.25em;border: 1px dotted black;border-radius: 0.25em;box-sizing: border-box;}div.sk-estimator:hover {background-color: #d4ebff;}div.sk-parallel-item::after {content: \"\";width: 100%;border-bottom: 1px solid gray;flex-grow: 1;}div.sk-label:hover label.sk-toggleable__label {background-color: #d4ebff;}div.sk-serial::before {content: \"\";position: absolute;border-left: 1px solid gray;box-sizing: border-box;top: 2em;bottom: 0;left: 50%;}div.sk-serial {display: flex;flex-direction: column;align-items: center;background-color: white;}div.sk-item {z-index: 1;}div.sk-parallel {display: flex;align-items: stretch;justify-content: center;background-color: white;}div.sk-parallel-item {display: flex;flex-direction: column;position: relative;background-color: white;}div.sk-parallel-item:first-child::after {align-self: flex-end;width: 50%;}div.sk-parallel-item:last-child::after {align-self: flex-start;width: 50%;}div.sk-parallel-item:only-child::after {width: 0;}div.sk-dashed-wrapped {border: 1px dashed gray;margin: 0.2em;box-sizing: border-box;padding-bottom: 0.1em;background-color: white;position: relative;}div.sk-label label {font-family: monospace;font-weight: bold;background-color: white;display: inline-block;line-height: 1.2em;}div.sk-label-container {position: relative;z-index: 2;text-align: center;}div.sk-container {display: inline-block;position: relative;}</style><div class=\"sk-top-container\"><div class=\"sk-container\"><div class=\"sk-item sk-dashed-wrapped\"><div class=\"sk-label-container\"><div class=\"sk-label sk-toggleable\"><input class=\"sk-toggleable__control sk-hidden--visually\" id=\"d40d647b-fcb9-4529-a3c4-27ab70ca8119\" type=\"checkbox\" ><label class=\"sk-toggleable__label\" for=\"d40d647b-fcb9-4529-a3c4-27ab70ca8119\">Pipeline</label><div class=\"sk-toggleable__content\"><pre>Pipeline(steps=[('columntransformer',\n",
       "                 ColumnTransformer(remainder='passthrough',\n",
       "                                   transformers=[('onehotencoder',\n",
       "                                                  OneHotEncoder(sparse=False),\n",
       "                                                  [2]),\n",
       "                                                 ('ordinalencoder',\n",
       "                                                  OrdinalEncoder(), [1])])),\n",
       "                ('gradientboostingclassifier',\n",
       "                 GradientBoostingClassifier(learning_rate=0.2,\n",
       "                                            n_estimators=50))])</pre></div></div></div><div class=\"sk-serial\"><div class=\"sk-item sk-dashed-wrapped\"><div class=\"sk-label-container\"><div class=\"sk-label sk-toggleable\"><input class=\"sk-toggleable__control sk-hidden--visually\" id=\"2a8a6472-9291-419b-948d-15ce36523532\" type=\"checkbox\" ><label class=\"sk-toggleable__label\" for=\"2a8a6472-9291-419b-948d-15ce36523532\">columntransformer: ColumnTransformer</label><div class=\"sk-toggleable__content\"><pre>ColumnTransformer(remainder='passthrough',\n",
       "                  transformers=[('onehotencoder', OneHotEncoder(sparse=False),\n",
       "                                 [2]),\n",
       "                                ('ordinalencoder', OrdinalEncoder(), [1])])</pre></div></div></div><div class=\"sk-parallel\"><div class=\"sk-parallel-item\"><div class=\"sk-item\"><div class=\"sk-label-container\"><div class=\"sk-label sk-toggleable\"><input class=\"sk-toggleable__control sk-hidden--visually\" id=\"25e9e250-4832-4b55-8cbf-b09441c82328\" type=\"checkbox\" ><label class=\"sk-toggleable__label\" for=\"25e9e250-4832-4b55-8cbf-b09441c82328\">onehotencoder</label><div class=\"sk-toggleable__content\"><pre>[2]</pre></div></div></div><div class=\"sk-serial\"><div class=\"sk-item\"><div class=\"sk-estimator sk-toggleable\"><input class=\"sk-toggleable__control sk-hidden--visually\" id=\"e38aa8e6-e50b-4cb4-a67a-f09362f60f62\" type=\"checkbox\" ><label class=\"sk-toggleable__label\" for=\"e38aa8e6-e50b-4cb4-a67a-f09362f60f62\">OneHotEncoder</label><div class=\"sk-toggleable__content\"><pre>OneHotEncoder(sparse=False)</pre></div></div></div></div></div></div><div class=\"sk-parallel-item\"><div class=\"sk-item\"><div class=\"sk-label-container\"><div class=\"sk-label sk-toggleable\"><input class=\"sk-toggleable__control sk-hidden--visually\" id=\"4d652079-acd7-405c-b0d4-99b28ecb702a\" type=\"checkbox\" ><label class=\"sk-toggleable__label\" for=\"4d652079-acd7-405c-b0d4-99b28ecb702a\">ordinalencoder</label><div class=\"sk-toggleable__content\"><pre>[1]</pre></div></div></div><div class=\"sk-serial\"><div class=\"sk-item\"><div class=\"sk-estimator sk-toggleable\"><input class=\"sk-toggleable__control sk-hidden--visually\" id=\"09f9d12c-ba50-411d-93a1-af4c39d1ce55\" type=\"checkbox\" ><label class=\"sk-toggleable__label\" for=\"09f9d12c-ba50-411d-93a1-af4c39d1ce55\">OrdinalEncoder</label><div class=\"sk-toggleable__content\"><pre>OrdinalEncoder()</pre></div></div></div></div></div></div></div></div><div class=\"sk-item\"><div class=\"sk-estimator sk-toggleable\"><input class=\"sk-toggleable__control sk-hidden--visually\" id=\"5fed696d-4978-4702-a486-c07181cb1e65\" type=\"checkbox\" ><label class=\"sk-toggleable__label\" for=\"5fed696d-4978-4702-a486-c07181cb1e65\">GradientBoostingClassifier</label><div class=\"sk-toggleable__content\"><pre>GradientBoostingClassifier(learning_rate=0.2, n_estimators=50)</pre></div></div></div></div></div></div></div>"
      ],
      "text/plain": [
       "Pipeline(steps=[('columntransformer',\n",
       "                 ColumnTransformer(remainder='passthrough',\n",
       "                                   transformers=[('onehotencoder',\n",
       "                                                  OneHotEncoder(sparse=False),\n",
       "                                                  [2]),\n",
       "                                                 ('ordinalencoder',\n",
       "                                                  OrdinalEncoder(), [1])])),\n",
       "                ('gradientboostingclassifier',\n",
       "                 GradientBoostingClassifier(learning_rate=0.2,\n",
       "                                            n_estimators=50))])"
      ]
     },
     "execution_count": 73,
     "metadata": {},
     "output_type": "execute_result"
    }
   ],
   "source": [
    "pipe_gdc.fit(x_train,y_train)"
   ]
  },
  {
   "cell_type": "code",
   "execution_count": 74,
   "id": "b850f194",
   "metadata": {
    "execution": {
     "iopub.execute_input": "2023-01-25T05:23:32.481118Z",
     "iopub.status.busy": "2023-01-25T05:23:32.480381Z",
     "iopub.status.idle": "2023-01-25T05:23:32.493999Z",
     "shell.execute_reply": "2023-01-25T05:23:32.493109Z",
     "shell.execute_reply.started": "2022-01-31T12:37:07.529973Z"
    },
    "papermill": {
     "duration": 0.146516,
     "end_time": "2023-01-25T05:23:32.494190",
     "exception": false,
     "start_time": "2023-01-25T05:23:32.347674",
     "status": "completed"
    },
    "tags": []
   },
   "outputs": [
    {
     "data": {
      "text/plain": [
       "array([0, 0, 0, 0, 0, 0, 0, 0, 0, 0, 1, 0, 0, 0, 0, 0, 0, 0, 0, 0, 0, 0,\n",
       "       0, 0, 0, 0, 0, 0, 0, 0, 0, 0, 0, 0, 1, 0, 1, 0, 1, 0, 0, 0, 0, 0,\n",
       "       0, 1, 0, 0, 0, 0, 0, 0, 0, 0, 0, 0, 0, 0, 0, 1, 1, 0, 0, 1, 0, 0,\n",
       "       0, 0, 1, 0, 0, 0, 0, 0, 0, 0, 1, 0, 0, 0, 0, 0, 0, 0, 0, 0, 0, 0,\n",
       "       0, 0, 0, 0, 0, 0, 0, 0, 0, 0, 0, 0, 0, 0, 1, 0, 0, 0, 0, 0, 0, 0,\n",
       "       0, 0, 0, 1, 0, 0, 0, 0, 0, 0, 0, 0, 1, 0, 0, 0, 0, 0, 0, 0, 1, 0,\n",
       "       0, 0, 0, 0, 0, 0, 0, 0, 0, 0, 0, 0, 0, 0, 0, 1, 0, 0, 0, 1, 0, 0,\n",
       "       0, 0, 0, 0, 0, 0, 0, 0, 0, 1, 0, 0, 0, 1, 0, 0, 0, 0, 0, 0, 0, 0,\n",
       "       0, 0, 0, 0, 0, 0, 0, 0, 0, 0, 0, 0, 1, 0, 0, 0, 0, 1, 0, 0, 0, 0,\n",
       "       0, 0, 0, 1, 0, 0, 0, 0, 0, 0, 1, 0, 0, 0, 0, 0, 1, 0, 0, 0, 0, 0,\n",
       "       0, 0, 0, 1, 0, 0, 0, 1, 0, 1, 0, 0, 1, 0, 0, 0, 0, 0, 0, 0, 0, 0,\n",
       "       1, 0, 0, 0, 0, 0, 0, 0, 0, 0, 0, 0, 0, 0, 0, 0, 0, 0, 0, 0, 0, 0,\n",
       "       0, 0, 0, 0, 0, 0, 1, 0, 0, 0, 0, 0, 0, 0, 0, 1, 0, 0, 0, 0, 0, 0,\n",
       "       0, 0, 0, 0, 0, 0, 0, 1, 0, 0, 0, 0, 0, 0, 0, 0, 0, 0, 0, 0, 1, 0,\n",
       "       0, 0, 0, 0, 0, 0, 0, 0, 0, 0, 0, 0, 0, 0, 0, 0, 0, 0, 1, 0, 0, 0,\n",
       "       0, 0, 0, 0, 1, 0, 0, 0, 0, 1, 0, 0, 0, 0, 0, 0, 0, 0, 0, 1, 0, 0,\n",
       "       0, 0, 0, 0, 0, 0, 0, 0, 0, 0, 0, 0, 1, 0, 0, 0, 0, 0, 0, 0, 0, 1,\n",
       "       0, 0, 0, 0, 0, 0, 0, 0, 0, 0, 0, 0, 1, 0, 0, 0, 0, 0, 0, 0, 0, 0,\n",
       "       0, 1, 0, 0, 0, 0, 0, 0, 0, 0, 0, 1, 1, 0, 0, 0, 0, 0, 0, 1, 0, 0,\n",
       "       0, 1, 0, 0, 0, 0, 0, 0, 0, 0, 0, 0, 0, 0, 0, 0, 0, 0, 0, 0, 0, 0,\n",
       "       0, 0, 0, 0, 0, 0, 0, 0, 0, 0, 0, 0, 0, 0, 0, 0, 0, 0, 0, 0, 0, 0,\n",
       "       0, 0, 0, 0, 0, 1, 0, 0, 0, 0, 0, 0, 0, 0, 0, 0, 0, 0, 0, 0, 0, 0,\n",
       "       0, 0, 0, 0, 0, 0, 0, 0, 0, 0, 0, 0, 0, 0, 0, 0, 0, 0, 0, 0, 0, 0,\n",
       "       0, 0, 0, 0, 0, 1, 0, 0, 0, 0, 1, 0, 0, 0, 0, 0, 0, 0, 0, 0, 0, 0,\n",
       "       0, 0, 0, 1, 0, 0, 1, 0, 0, 0, 0, 0, 0, 0, 0, 1, 0, 0, 0, 1, 0, 0,\n",
       "       0, 0, 0, 0, 0, 0, 0, 0, 0, 0, 1, 0, 0, 1, 0, 0, 0, 0, 0, 0, 0, 0,\n",
       "       0, 0, 0, 0, 0, 0, 0, 0, 0, 0, 1, 0, 0, 0, 0, 0, 0, 0, 0, 0, 0, 0,\n",
       "       0, 0, 0, 0, 0, 1, 0, 0, 0, 0, 1, 0, 0, 0, 0, 0, 0, 0, 0, 0, 0, 1,\n",
       "       0, 0, 0, 0, 0, 0, 0, 1, 0, 0, 0, 0, 0, 0, 0, 0, 0, 0, 0, 0, 0, 0,\n",
       "       0, 1, 0, 0, 0, 0, 0, 0, 0, 0, 0, 1, 0, 0, 0, 0, 0, 0, 0, 0, 0, 0,\n",
       "       0, 0, 0, 0, 0, 0, 0, 0, 0, 0, 0, 0, 0, 0, 0, 0, 0, 0, 0, 0, 0, 0,\n",
       "       0, 0, 0, 0, 1, 0, 0, 0, 0, 1, 0, 0, 0, 1, 0, 0, 0, 0, 0, 0, 0, 0,\n",
       "       0, 0, 0, 0, 0, 0, 0, 0, 0, 0, 0, 0, 0, 0, 0, 0, 0, 0, 0, 1, 0, 0,\n",
       "       0, 0, 0, 0, 1, 0, 0, 1, 0, 0, 0, 0, 0, 1, 0, 0, 0, 0, 0, 0, 0, 0,\n",
       "       0, 0, 1, 0, 0, 0, 0, 0, 0, 0, 0, 0, 1, 0, 0, 0, 1, 0, 0, 1, 0, 0,\n",
       "       0, 0, 0, 0, 0, 0, 0, 0, 0, 0, 0, 0, 0, 0])"
      ]
     },
     "execution_count": 74,
     "metadata": {},
     "output_type": "execute_result"
    }
   ],
   "source": [
    "pred_gdc=pipe_gdc.predict(x_test)\n",
    "pred_gdc"
   ]
  },
  {
   "cell_type": "code",
   "execution_count": 75,
   "id": "6c07fc8f",
   "metadata": {
    "execution": {
     "iopub.execute_input": "2023-01-25T05:23:32.745528Z",
     "iopub.status.busy": "2023-01-25T05:23:32.744417Z",
     "iopub.status.idle": "2023-01-25T05:23:32.750244Z",
     "shell.execute_reply": "2023-01-25T05:23:32.750728Z",
     "shell.execute_reply.started": "2022-01-31T12:37:07.546229Z"
    },
    "papermill": {
     "duration": 0.13454,
     "end_time": "2023-01-25T05:23:32.750915",
     "exception": false,
     "start_time": "2023-01-25T05:23:32.616375",
     "status": "completed"
    },
    "tags": []
   },
   "outputs": [
    {
     "data": {
      "text/plain": [
       "89.15816326530613"
      ]
     },
     "execution_count": 75,
     "metadata": {},
     "output_type": "execute_result"
    }
   ],
   "source": [
    "accuracy_score(pred_gdc,y_test)*100"
   ]
  },
  {
   "cell_type": "code",
   "execution_count": 76,
   "id": "e3f6f11a",
   "metadata": {
    "execution": {
     "iopub.execute_input": "2023-01-25T05:23:32.998137Z",
     "iopub.status.busy": "2023-01-25T05:23:32.996935Z",
     "iopub.status.idle": "2023-01-25T05:23:33.065523Z",
     "shell.execute_reply": "2023-01-25T05:23:33.064957Z",
     "shell.execute_reply.started": "2022-01-31T12:37:07.554052Z"
    },
    "papermill": {
     "duration": 0.193582,
     "end_time": "2023-01-25T05:23:33.065701",
     "exception": false,
     "start_time": "2023-01-25T05:23:32.872119",
     "status": "completed"
    },
    "tags": []
   },
   "outputs": [
    {
     "data": {
      "text/html": [
       "<style>div.sk-top-container {color: black;background-color: white;}div.sk-toggleable {background-color: white;}label.sk-toggleable__label {cursor: pointer;display: block;width: 100%;margin-bottom: 0;padding: 0.2em 0.3em;box-sizing: border-box;text-align: center;}div.sk-toggleable__content {max-height: 0;max-width: 0;overflow: hidden;text-align: left;background-color: #f0f8ff;}div.sk-toggleable__content pre {margin: 0.2em;color: black;border-radius: 0.25em;background-color: #f0f8ff;}input.sk-toggleable__control:checked~div.sk-toggleable__content {max-height: 200px;max-width: 100%;overflow: auto;}div.sk-estimator input.sk-toggleable__control:checked~label.sk-toggleable__label {background-color: #d4ebff;}div.sk-label input.sk-toggleable__control:checked~label.sk-toggleable__label {background-color: #d4ebff;}input.sk-hidden--visually {border: 0;clip: rect(1px 1px 1px 1px);clip: rect(1px, 1px, 1px, 1px);height: 1px;margin: -1px;overflow: hidden;padding: 0;position: absolute;width: 1px;}div.sk-estimator {font-family: monospace;background-color: #f0f8ff;margin: 0.25em 0.25em;border: 1px dotted black;border-radius: 0.25em;box-sizing: border-box;}div.sk-estimator:hover {background-color: #d4ebff;}div.sk-parallel-item::after {content: \"\";width: 100%;border-bottom: 1px solid gray;flex-grow: 1;}div.sk-label:hover label.sk-toggleable__label {background-color: #d4ebff;}div.sk-serial::before {content: \"\";position: absolute;border-left: 1px solid gray;box-sizing: border-box;top: 2em;bottom: 0;left: 50%;}div.sk-serial {display: flex;flex-direction: column;align-items: center;background-color: white;}div.sk-item {z-index: 1;}div.sk-parallel {display: flex;align-items: stretch;justify-content: center;background-color: white;}div.sk-parallel-item {display: flex;flex-direction: column;position: relative;background-color: white;}div.sk-parallel-item:first-child::after {align-self: flex-end;width: 50%;}div.sk-parallel-item:last-child::after {align-self: flex-start;width: 50%;}div.sk-parallel-item:only-child::after {width: 0;}div.sk-dashed-wrapped {border: 1px dashed gray;margin: 0.2em;box-sizing: border-box;padding-bottom: 0.1em;background-color: white;position: relative;}div.sk-label label {font-family: monospace;font-weight: bold;background-color: white;display: inline-block;line-height: 1.2em;}div.sk-label-container {position: relative;z-index: 2;text-align: center;}div.sk-container {display: inline-block;position: relative;}</style><div class=\"sk-top-container\"><div class=\"sk-container\"><div class=\"sk-item sk-dashed-wrapped\"><div class=\"sk-label-container\"><div class=\"sk-label sk-toggleable\"><input class=\"sk-toggleable__control sk-hidden--visually\" id=\"71c59b76-53e2-4094-a507-27cfafe9d786\" type=\"checkbox\" ><label class=\"sk-toggleable__label\" for=\"71c59b76-53e2-4094-a507-27cfafe9d786\">Pipeline</label><div class=\"sk-toggleable__content\"><pre>Pipeline(steps=[('columntransformer',\n",
       "                 ColumnTransformer(remainder='passthrough',\n",
       "                                   transformers=[('onehotencoder',\n",
       "                                                  OneHotEncoder(sparse=False),\n",
       "                                                  [2]),\n",
       "                                                 ('ordinalencoder',\n",
       "                                                  OrdinalEncoder(), [1])])),\n",
       "                ('randomizedsearchcv',\n",
       "                 RandomizedSearchCV(estimator=GradientBoostingClassifier(learning_rate=0.2,\n",
       "                                                                         n_estimators=50),\n",
       "                                    param_distributions={'learning_rate': [0.2,\n",
       "                                                                           0.4,\n",
       "                                                                           0.6,\n",
       "                                                                           0.8],\n",
       "                                                         'n_estimators': [25,\n",
       "                                                                          50,\n",
       "                                                                          75,\n",
       "                                                                          100]},\n",
       "                                    verbose=3))])</pre></div></div></div><div class=\"sk-serial\"><div class=\"sk-item sk-dashed-wrapped\"><div class=\"sk-label-container\"><div class=\"sk-label sk-toggleable\"><input class=\"sk-toggleable__control sk-hidden--visually\" id=\"6057fa34-e2a3-4ab6-8319-068071534a01\" type=\"checkbox\" ><label class=\"sk-toggleable__label\" for=\"6057fa34-e2a3-4ab6-8319-068071534a01\">columntransformer: ColumnTransformer</label><div class=\"sk-toggleable__content\"><pre>ColumnTransformer(remainder='passthrough',\n",
       "                  transformers=[('onehotencoder', OneHotEncoder(sparse=False),\n",
       "                                 [2]),\n",
       "                                ('ordinalencoder', OrdinalEncoder(), [1])])</pre></div></div></div><div class=\"sk-parallel\"><div class=\"sk-parallel-item\"><div class=\"sk-item\"><div class=\"sk-label-container\"><div class=\"sk-label sk-toggleable\"><input class=\"sk-toggleable__control sk-hidden--visually\" id=\"2a3e86b5-4baa-4311-a515-1831c3f7737a\" type=\"checkbox\" ><label class=\"sk-toggleable__label\" for=\"2a3e86b5-4baa-4311-a515-1831c3f7737a\">onehotencoder</label><div class=\"sk-toggleable__content\"><pre>[2]</pre></div></div></div><div class=\"sk-serial\"><div class=\"sk-item\"><div class=\"sk-estimator sk-toggleable\"><input class=\"sk-toggleable__control sk-hidden--visually\" id=\"dce3b373-8eeb-493f-bbb6-2407428d0f53\" type=\"checkbox\" ><label class=\"sk-toggleable__label\" for=\"dce3b373-8eeb-493f-bbb6-2407428d0f53\">OneHotEncoder</label><div class=\"sk-toggleable__content\"><pre>OneHotEncoder(sparse=False)</pre></div></div></div></div></div></div><div class=\"sk-parallel-item\"><div class=\"sk-item\"><div class=\"sk-label-container\"><div class=\"sk-label sk-toggleable\"><input class=\"sk-toggleable__control sk-hidden--visually\" id=\"916d46a2-3f7a-41b2-b60f-e0da5e3d3ec5\" type=\"checkbox\" ><label class=\"sk-toggleable__label\" for=\"916d46a2-3f7a-41b2-b60f-e0da5e3d3ec5\">ordinalencoder</label><div class=\"sk-toggleable__content\"><pre>[1]</pre></div></div></div><div class=\"sk-serial\"><div class=\"sk-item\"><div class=\"sk-estimator sk-toggleable\"><input class=\"sk-toggleable__control sk-hidden--visually\" id=\"2f15519e-2733-45f5-aafc-1b23077a6883\" type=\"checkbox\" ><label class=\"sk-toggleable__label\" for=\"2f15519e-2733-45f5-aafc-1b23077a6883\">OrdinalEncoder</label><div class=\"sk-toggleable__content\"><pre>OrdinalEncoder()</pre></div></div></div></div></div></div></div></div><div class=\"sk-item sk-dashed-wrapped\"><div class=\"sk-label-container\"><div class=\"sk-label sk-toggleable\"><input class=\"sk-toggleable__control sk-hidden--visually\" id=\"d2ac9398-4d1a-4a25-93e7-fcdfd17cbb39\" type=\"checkbox\" ><label class=\"sk-toggleable__label\" for=\"d2ac9398-4d1a-4a25-93e7-fcdfd17cbb39\">randomizedsearchcv: RandomizedSearchCV</label><div class=\"sk-toggleable__content\"><pre>RandomizedSearchCV(estimator=GradientBoostingClassifier(learning_rate=0.2,\n",
       "                                                        n_estimators=50),\n",
       "                   param_distributions={'learning_rate': [0.2, 0.4, 0.6, 0.8],\n",
       "                                        'n_estimators': [25, 50, 75, 100]},\n",
       "                   verbose=3)</pre></div></div></div><div class=\"sk-parallel\"><div class=\"sk-parallel-item\"><div class=\"sk-item\"><div class=\"sk-serial\"><div class=\"sk-item\"><div class=\"sk-estimator sk-toggleable\"><input class=\"sk-toggleable__control sk-hidden--visually\" id=\"63cde7ef-20c0-4174-bb33-c6a67c1ba9d2\" type=\"checkbox\" ><label class=\"sk-toggleable__label\" for=\"63cde7ef-20c0-4174-bb33-c6a67c1ba9d2\">GradientBoostingClassifier</label><div class=\"sk-toggleable__content\"><pre>GradientBoostingClassifier(learning_rate=0.2, n_estimators=50)</pre></div></div></div></div></div></div></div></div></div></div></div></div>"
      ],
      "text/plain": [
       "Pipeline(steps=[('columntransformer',\n",
       "                 ColumnTransformer(remainder='passthrough',\n",
       "                                   transformers=[('onehotencoder',\n",
       "                                                  OneHotEncoder(sparse=False),\n",
       "                                                  [2]),\n",
       "                                                 ('ordinalencoder',\n",
       "                                                  OrdinalEncoder(), [1])])),\n",
       "                ('randomizedsearchcv',\n",
       "                 RandomizedSearchCV(estimator=GradientBoostingClassifier(learning_rate=0.2,\n",
       "                                                                         n_estimators=50),\n",
       "                                    param_distributions={'learning_rate': [0.2,\n",
       "                                                                           0.4,\n",
       "                                                                           0.6,\n",
       "                                                                           0.8],\n",
       "                                                         'n_estimators': [25,\n",
       "                                                                          50,\n",
       "                                                                          75,\n",
       "                                                                          100]},\n",
       "                                    verbose=3))])"
      ]
     },
     "execution_count": 76,
     "metadata": {},
     "output_type": "execute_result"
    }
   ],
   "source": [
    "from sklearn.model_selection import RandomizedSearchCV\n",
    "params_gdc={'n_estimators':[25,50,75,100],'learning_rate':[0.2,0.4,0.6,0.8]}\n",
    "pipe_gdc=make_pipeline(trans,RandomizedSearchCV(GDC,params_gdc,verbose=3,refit=True))\n",
    "pipe_gdc"
   ]
  },
  {
   "cell_type": "code",
   "execution_count": 77,
   "id": "7589227a",
   "metadata": {
    "execution": {
     "iopub.execute_input": "2023-01-25T05:23:33.319150Z",
     "iopub.status.busy": "2023-01-25T05:23:33.318463Z",
     "iopub.status.idle": "2023-01-25T05:23:46.700396Z",
     "shell.execute_reply": "2023-01-25T05:23:46.700969Z",
     "shell.execute_reply.started": "2022-01-31T12:37:07.628667Z"
    },
    "papermill": {
     "duration": 13.510182,
     "end_time": "2023-01-25T05:23:46.701162",
     "exception": false,
     "start_time": "2023-01-25T05:23:33.190980",
     "status": "completed"
    },
    "tags": []
   },
   "outputs": [
    {
     "name": "stdout",
     "output_type": "stream",
     "text": [
      "Fitting 5 folds for each of 10 candidates, totalling 50 fits\n",
      "[CV] n_estimators=75, learning_rate=0.4 ..............................\n"
     ]
    },
    {
     "name": "stderr",
     "output_type": "stream",
     "text": [
      "[Parallel(n_jobs=1)]: Using backend SequentialBackend with 1 concurrent workers.\n"
     ]
    },
    {
     "name": "stdout",
     "output_type": "stream",
     "text": [
      "[CV] .. n_estimators=75, learning_rate=0.4, score=0.863, total=   0.3s\n",
      "[CV] n_estimators=75, learning_rate=0.4 ..............................\n"
     ]
    },
    {
     "name": "stderr",
     "output_type": "stream",
     "text": [
      "[Parallel(n_jobs=1)]: Done   1 out of   1 | elapsed:    0.3s remaining:    0.0s\n"
     ]
    },
    {
     "name": "stdout",
     "output_type": "stream",
     "text": [
      "[CV] .. n_estimators=75, learning_rate=0.4, score=0.883, total=   0.3s\n",
      "[CV] n_estimators=75, learning_rate=0.4 ..............................\n"
     ]
    },
    {
     "name": "stderr",
     "output_type": "stream",
     "text": [
      "[Parallel(n_jobs=1)]: Done   2 out of   2 | elapsed:    0.6s remaining:    0.0s\n"
     ]
    },
    {
     "name": "stdout",
     "output_type": "stream",
     "text": [
      "[CV] .. n_estimators=75, learning_rate=0.4, score=0.873, total=   0.3s\n",
      "[CV] n_estimators=75, learning_rate=0.4 ..............................\n",
      "[CV] .. n_estimators=75, learning_rate=0.4, score=0.856, total=   0.3s\n",
      "[CV] n_estimators=75, learning_rate=0.4 ..............................\n",
      "[CV] .. n_estimators=75, learning_rate=0.4, score=0.897, total=   0.3s\n",
      "[CV] n_estimators=50, learning_rate=0.4 ..............................\n",
      "[CV] .. n_estimators=50, learning_rate=0.4, score=0.856, total=   0.2s\n",
      "[CV] n_estimators=50, learning_rate=0.4 ..............................\n",
      "[CV] .. n_estimators=50, learning_rate=0.4, score=0.873, total=   0.2s\n",
      "[CV] n_estimators=50, learning_rate=0.4 ..............................\n",
      "[CV] .. n_estimators=50, learning_rate=0.4, score=0.876, total=   0.2s\n",
      "[CV] n_estimators=50, learning_rate=0.4 ..............................\n",
      "[CV] .. n_estimators=50, learning_rate=0.4, score=0.856, total=   0.2s\n",
      "[CV] n_estimators=50, learning_rate=0.4 ..............................\n",
      "[CV] .. n_estimators=50, learning_rate=0.4, score=0.897, total=   0.2s\n",
      "[CV] n_estimators=100, learning_rate=0.6 .............................\n",
      "[CV] . n_estimators=100, learning_rate=0.6, score=0.842, total=   0.4s\n",
      "[CV] n_estimators=100, learning_rate=0.6 .............................\n",
      "[CV] . n_estimators=100, learning_rate=0.6, score=0.863, total=   0.4s\n",
      "[CV] n_estimators=100, learning_rate=0.6 .............................\n",
      "[CV] . n_estimators=100, learning_rate=0.6, score=0.890, total=   0.4s\n",
      "[CV] n_estimators=100, learning_rate=0.6 .............................\n",
      "[CV] . n_estimators=100, learning_rate=0.6, score=0.859, total=   0.4s\n",
      "[CV] n_estimators=100, learning_rate=0.6 .............................\n",
      "[CV] . n_estimators=100, learning_rate=0.6, score=0.890, total=   0.4s\n",
      "[CV] n_estimators=100, learning_rate=0.2 .............................\n",
      "[CV] . n_estimators=100, learning_rate=0.2, score=0.863, total=   0.4s\n",
      "[CV] n_estimators=100, learning_rate=0.2 .............................\n",
      "[CV] . n_estimators=100, learning_rate=0.2, score=0.866, total=   0.4s\n",
      "[CV] n_estimators=100, learning_rate=0.2 .............................\n",
      "[CV] . n_estimators=100, learning_rate=0.2, score=0.876, total=   0.4s\n",
      "[CV] n_estimators=100, learning_rate=0.2 .............................\n",
      "[CV] . n_estimators=100, learning_rate=0.2, score=0.880, total=   0.4s\n",
      "[CV] n_estimators=100, learning_rate=0.2 .............................\n",
      "[CV] . n_estimators=100, learning_rate=0.2, score=0.900, total=   0.4s\n",
      "[CV] n_estimators=50, learning_rate=0.2 ..............................\n",
      "[CV] .. n_estimators=50, learning_rate=0.2, score=0.866, total=   0.2s\n",
      "[CV] n_estimators=50, learning_rate=0.2 ..............................\n",
      "[CV] .. n_estimators=50, learning_rate=0.2, score=0.876, total=   0.2s\n",
      "[CV] n_estimators=50, learning_rate=0.2 ..............................\n",
      "[CV] .. n_estimators=50, learning_rate=0.2, score=0.887, total=   0.2s\n",
      "[CV] n_estimators=50, learning_rate=0.2 ..............................\n",
      "[CV] .. n_estimators=50, learning_rate=0.2, score=0.880, total=   0.2s\n",
      "[CV] n_estimators=50, learning_rate=0.2 ..............................\n",
      "[CV] .. n_estimators=50, learning_rate=0.2, score=0.914, total=   0.2s\n",
      "[CV] n_estimators=50, learning_rate=0.6 ..............................\n",
      "[CV] .. n_estimators=50, learning_rate=0.6, score=0.846, total=   0.2s\n",
      "[CV] n_estimators=50, learning_rate=0.6 ..............................\n",
      "[CV] .. n_estimators=50, learning_rate=0.6, score=0.869, total=   0.2s\n",
      "[CV] n_estimators=50, learning_rate=0.6 ..............................\n",
      "[CV] .. n_estimators=50, learning_rate=0.6, score=0.876, total=   0.2s\n",
      "[CV] n_estimators=50, learning_rate=0.6 ..............................\n",
      "[CV] .. n_estimators=50, learning_rate=0.6, score=0.849, total=   0.2s\n",
      "[CV] n_estimators=50, learning_rate=0.6 ..............................\n",
      "[CV] .. n_estimators=50, learning_rate=0.6, score=0.904, total=   0.2s\n",
      "[CV] n_estimators=25, learning_rate=0.2 ..............................\n",
      "[CV] .. n_estimators=25, learning_rate=0.2, score=0.853, total=   0.1s\n",
      "[CV] n_estimators=25, learning_rate=0.2 ..............................\n",
      "[CV] .. n_estimators=25, learning_rate=0.2, score=0.856, total=   0.1s\n",
      "[CV] n_estimators=25, learning_rate=0.2 ..............................\n",
      "[CV] .. n_estimators=25, learning_rate=0.2, score=0.887, total=   0.1s\n",
      "[CV] n_estimators=25, learning_rate=0.2 ..............................\n",
      "[CV] .. n_estimators=25, learning_rate=0.2, score=0.873, total=   0.1s\n",
      "[CV] n_estimators=25, learning_rate=0.2 ..............................\n",
      "[CV] .. n_estimators=25, learning_rate=0.2, score=0.904, total=   0.1s\n",
      "[CV] n_estimators=100, learning_rate=0.8 .............................\n",
      "[CV] . n_estimators=100, learning_rate=0.8, score=0.846, total=   0.4s\n",
      "[CV] n_estimators=100, learning_rate=0.8 .............................\n",
      "[CV] . n_estimators=100, learning_rate=0.8, score=0.883, total=   0.4s\n",
      "[CV] n_estimators=100, learning_rate=0.8 .............................\n",
      "[CV] . n_estimators=100, learning_rate=0.8, score=0.869, total=   0.4s\n",
      "[CV] n_estimators=100, learning_rate=0.8 .............................\n",
      "[CV] . n_estimators=100, learning_rate=0.8, score=0.866, total=   0.4s\n",
      "[CV] n_estimators=100, learning_rate=0.8 .............................\n",
      "[CV] . n_estimators=100, learning_rate=0.8, score=0.880, total=   0.4s\n",
      "[CV] n_estimators=25, learning_rate=0.4 ..............................\n",
      "[CV] .. n_estimators=25, learning_rate=0.4, score=0.860, total=   0.1s\n",
      "[CV] n_estimators=25, learning_rate=0.4 ..............................\n",
      "[CV] .. n_estimators=25, learning_rate=0.4, score=0.859, total=   0.1s\n",
      "[CV] n_estimators=25, learning_rate=0.4 ..............................\n",
      "[CV] .. n_estimators=25, learning_rate=0.4, score=0.873, total=   0.1s\n",
      "[CV] n_estimators=25, learning_rate=0.4 ..............................\n",
      "[CV] .. n_estimators=25, learning_rate=0.4, score=0.838, total=   0.1s\n",
      "[CV] n_estimators=25, learning_rate=0.4 ..............................\n",
      "[CV] .. n_estimators=25, learning_rate=0.4, score=0.918, total=   0.1s\n",
      "[CV] n_estimators=50, learning_rate=0.8 ..............................\n",
      "[CV] .. n_estimators=50, learning_rate=0.8, score=0.846, total=   0.2s\n",
      "[CV] n_estimators=50, learning_rate=0.8 ..............................\n",
      "[CV] .. n_estimators=50, learning_rate=0.8, score=0.866, total=   0.2s\n",
      "[CV] n_estimators=50, learning_rate=0.8 ..............................\n",
      "[CV] .. n_estimators=50, learning_rate=0.8, score=0.866, total=   0.2s\n",
      "[CV] n_estimators=50, learning_rate=0.8 ..............................\n",
      "[CV] .. n_estimators=50, learning_rate=0.8, score=0.866, total=   0.2s\n",
      "[CV] n_estimators=50, learning_rate=0.8 ..............................\n",
      "[CV] .. n_estimators=50, learning_rate=0.8, score=0.876, total=   0.2s\n"
     ]
    },
    {
     "name": "stderr",
     "output_type": "stream",
     "text": [
      "[Parallel(n_jobs=1)]: Done  50 out of  50 | elapsed:   13.1s finished\n"
     ]
    },
    {
     "data": {
      "text/html": [
       "<style>div.sk-top-container {color: black;background-color: white;}div.sk-toggleable {background-color: white;}label.sk-toggleable__label {cursor: pointer;display: block;width: 100%;margin-bottom: 0;padding: 0.2em 0.3em;box-sizing: border-box;text-align: center;}div.sk-toggleable__content {max-height: 0;max-width: 0;overflow: hidden;text-align: left;background-color: #f0f8ff;}div.sk-toggleable__content pre {margin: 0.2em;color: black;border-radius: 0.25em;background-color: #f0f8ff;}input.sk-toggleable__control:checked~div.sk-toggleable__content {max-height: 200px;max-width: 100%;overflow: auto;}div.sk-estimator input.sk-toggleable__control:checked~label.sk-toggleable__label {background-color: #d4ebff;}div.sk-label input.sk-toggleable__control:checked~label.sk-toggleable__label {background-color: #d4ebff;}input.sk-hidden--visually {border: 0;clip: rect(1px 1px 1px 1px);clip: rect(1px, 1px, 1px, 1px);height: 1px;margin: -1px;overflow: hidden;padding: 0;position: absolute;width: 1px;}div.sk-estimator {font-family: monospace;background-color: #f0f8ff;margin: 0.25em 0.25em;border: 1px dotted black;border-radius: 0.25em;box-sizing: border-box;}div.sk-estimator:hover {background-color: #d4ebff;}div.sk-parallel-item::after {content: \"\";width: 100%;border-bottom: 1px solid gray;flex-grow: 1;}div.sk-label:hover label.sk-toggleable__label {background-color: #d4ebff;}div.sk-serial::before {content: \"\";position: absolute;border-left: 1px solid gray;box-sizing: border-box;top: 2em;bottom: 0;left: 50%;}div.sk-serial {display: flex;flex-direction: column;align-items: center;background-color: white;}div.sk-item {z-index: 1;}div.sk-parallel {display: flex;align-items: stretch;justify-content: center;background-color: white;}div.sk-parallel-item {display: flex;flex-direction: column;position: relative;background-color: white;}div.sk-parallel-item:first-child::after {align-self: flex-end;width: 50%;}div.sk-parallel-item:last-child::after {align-self: flex-start;width: 50%;}div.sk-parallel-item:only-child::after {width: 0;}div.sk-dashed-wrapped {border: 1px dashed gray;margin: 0.2em;box-sizing: border-box;padding-bottom: 0.1em;background-color: white;position: relative;}div.sk-label label {font-family: monospace;font-weight: bold;background-color: white;display: inline-block;line-height: 1.2em;}div.sk-label-container {position: relative;z-index: 2;text-align: center;}div.sk-container {display: inline-block;position: relative;}</style><div class=\"sk-top-container\"><div class=\"sk-container\"><div class=\"sk-item sk-dashed-wrapped\"><div class=\"sk-label-container\"><div class=\"sk-label sk-toggleable\"><input class=\"sk-toggleable__control sk-hidden--visually\" id=\"f970f815-c636-42c9-a5e6-268bcd056da1\" type=\"checkbox\" ><label class=\"sk-toggleable__label\" for=\"f970f815-c636-42c9-a5e6-268bcd056da1\">Pipeline</label><div class=\"sk-toggleable__content\"><pre>Pipeline(steps=[('columntransformer',\n",
       "                 ColumnTransformer(remainder='passthrough',\n",
       "                                   transformers=[('onehotencoder',\n",
       "                                                  OneHotEncoder(sparse=False),\n",
       "                                                  [2]),\n",
       "                                                 ('ordinalencoder',\n",
       "                                                  OrdinalEncoder(), [1])])),\n",
       "                ('randomizedsearchcv',\n",
       "                 RandomizedSearchCV(estimator=GradientBoostingClassifier(learning_rate=0.2,\n",
       "                                                                         n_estimators=50),\n",
       "                                    param_distributions={'learning_rate': [0.2,\n",
       "                                                                           0.4,\n",
       "                                                                           0.6,\n",
       "                                                                           0.8],\n",
       "                                                         'n_estimators': [25,\n",
       "                                                                          50,\n",
       "                                                                          75,\n",
       "                                                                          100]},\n",
       "                                    verbose=3))])</pre></div></div></div><div class=\"sk-serial\"><div class=\"sk-item sk-dashed-wrapped\"><div class=\"sk-label-container\"><div class=\"sk-label sk-toggleable\"><input class=\"sk-toggleable__control sk-hidden--visually\" id=\"6c387a3e-4246-469d-9498-3880dc13f70d\" type=\"checkbox\" ><label class=\"sk-toggleable__label\" for=\"6c387a3e-4246-469d-9498-3880dc13f70d\">columntransformer: ColumnTransformer</label><div class=\"sk-toggleable__content\"><pre>ColumnTransformer(remainder='passthrough',\n",
       "                  transformers=[('onehotencoder', OneHotEncoder(sparse=False),\n",
       "                                 [2]),\n",
       "                                ('ordinalencoder', OrdinalEncoder(), [1])])</pre></div></div></div><div class=\"sk-parallel\"><div class=\"sk-parallel-item\"><div class=\"sk-item\"><div class=\"sk-label-container\"><div class=\"sk-label sk-toggleable\"><input class=\"sk-toggleable__control sk-hidden--visually\" id=\"fdfa91c8-dc20-4c3a-8379-7fd313a61690\" type=\"checkbox\" ><label class=\"sk-toggleable__label\" for=\"fdfa91c8-dc20-4c3a-8379-7fd313a61690\">onehotencoder</label><div class=\"sk-toggleable__content\"><pre>[2]</pre></div></div></div><div class=\"sk-serial\"><div class=\"sk-item\"><div class=\"sk-estimator sk-toggleable\"><input class=\"sk-toggleable__control sk-hidden--visually\" id=\"a41543be-494d-4373-8baf-b21721a693b7\" type=\"checkbox\" ><label class=\"sk-toggleable__label\" for=\"a41543be-494d-4373-8baf-b21721a693b7\">OneHotEncoder</label><div class=\"sk-toggleable__content\"><pre>OneHotEncoder(sparse=False)</pre></div></div></div></div></div></div><div class=\"sk-parallel-item\"><div class=\"sk-item\"><div class=\"sk-label-container\"><div class=\"sk-label sk-toggleable\"><input class=\"sk-toggleable__control sk-hidden--visually\" id=\"cb63fada-6ab8-4266-b43d-1cf05aec8bf9\" type=\"checkbox\" ><label class=\"sk-toggleable__label\" for=\"cb63fada-6ab8-4266-b43d-1cf05aec8bf9\">ordinalencoder</label><div class=\"sk-toggleable__content\"><pre>[1]</pre></div></div></div><div class=\"sk-serial\"><div class=\"sk-item\"><div class=\"sk-estimator sk-toggleable\"><input class=\"sk-toggleable__control sk-hidden--visually\" id=\"db6af2db-b8a6-4f47-8c13-61c727719282\" type=\"checkbox\" ><label class=\"sk-toggleable__label\" for=\"db6af2db-b8a6-4f47-8c13-61c727719282\">OrdinalEncoder</label><div class=\"sk-toggleable__content\"><pre>OrdinalEncoder()</pre></div></div></div></div></div></div></div></div><div class=\"sk-item sk-dashed-wrapped\"><div class=\"sk-label-container\"><div class=\"sk-label sk-toggleable\"><input class=\"sk-toggleable__control sk-hidden--visually\" id=\"a528d76c-676c-4550-b802-a69aa80e2b95\" type=\"checkbox\" ><label class=\"sk-toggleable__label\" for=\"a528d76c-676c-4550-b802-a69aa80e2b95\">randomizedsearchcv: RandomizedSearchCV</label><div class=\"sk-toggleable__content\"><pre>RandomizedSearchCV(estimator=GradientBoostingClassifier(learning_rate=0.2,\n",
       "                                                        n_estimators=50),\n",
       "                   param_distributions={'learning_rate': [0.2, 0.4, 0.6, 0.8],\n",
       "                                        'n_estimators': [25, 50, 75, 100]},\n",
       "                   verbose=3)</pre></div></div></div><div class=\"sk-parallel\"><div class=\"sk-parallel-item\"><div class=\"sk-item\"><div class=\"sk-serial\"><div class=\"sk-item\"><div class=\"sk-estimator sk-toggleable\"><input class=\"sk-toggleable__control sk-hidden--visually\" id=\"99388f73-1443-4d89-9324-98520582e367\" type=\"checkbox\" ><label class=\"sk-toggleable__label\" for=\"99388f73-1443-4d89-9324-98520582e367\">GradientBoostingClassifier</label><div class=\"sk-toggleable__content\"><pre>GradientBoostingClassifier(learning_rate=0.2, n_estimators=50)</pre></div></div></div></div></div></div></div></div></div></div></div></div>"
      ],
      "text/plain": [
       "Pipeline(steps=[('columntransformer',\n",
       "                 ColumnTransformer(remainder='passthrough',\n",
       "                                   transformers=[('onehotencoder',\n",
       "                                                  OneHotEncoder(sparse=False),\n",
       "                                                  [2]),\n",
       "                                                 ('ordinalencoder',\n",
       "                                                  OrdinalEncoder(), [1])])),\n",
       "                ('randomizedsearchcv',\n",
       "                 RandomizedSearchCV(estimator=GradientBoostingClassifier(learning_rate=0.2,\n",
       "                                                                         n_estimators=50),\n",
       "                                    param_distributions={'learning_rate': [0.2,\n",
       "                                                                           0.4,\n",
       "                                                                           0.6,\n",
       "                                                                           0.8],\n",
       "                                                         'n_estimators': [25,\n",
       "                                                                          50,\n",
       "                                                                          75,\n",
       "                                                                          100]},\n",
       "                                    verbose=3))])"
      ]
     },
     "execution_count": 77,
     "metadata": {},
     "output_type": "execute_result"
    }
   ],
   "source": [
    "pipe_gdc.fit(x_train,y_train)"
   ]
  },
  {
   "cell_type": "code",
   "execution_count": 78,
   "id": "fee29603",
   "metadata": {
    "execution": {
     "iopub.execute_input": "2023-01-25T05:23:46.985112Z",
     "iopub.status.busy": "2023-01-25T05:23:46.978942Z",
     "iopub.status.idle": "2023-01-25T05:23:46.989955Z",
     "shell.execute_reply": "2023-01-25T05:23:46.989287Z",
     "shell.execute_reply.started": "2022-01-31T12:37:21.293936Z"
    },
    "papermill": {
     "duration": 0.154116,
     "end_time": "2023-01-25T05:23:46.990104",
     "exception": false,
     "start_time": "2023-01-25T05:23:46.835988",
     "status": "completed"
    },
    "tags": []
   },
   "outputs": [
    {
     "data": {
      "text/plain": [
       "array([0, 0, 0, 0, 0, 0, 0, 0, 0, 0, 1, 0, 0, 0, 0, 0, 0, 0, 0, 0, 0, 0,\n",
       "       0, 0, 0, 0, 0, 0, 0, 0, 0, 0, 0, 0, 1, 0, 1, 0, 1, 0, 0, 0, 0, 0,\n",
       "       0, 1, 0, 0, 0, 0, 0, 0, 0, 0, 0, 0, 0, 0, 0, 1, 1, 0, 0, 1, 0, 0,\n",
       "       0, 0, 1, 0, 0, 0, 0, 0, 0, 0, 1, 0, 0, 0, 0, 0, 0, 0, 0, 0, 0, 0,\n",
       "       0, 0, 0, 0, 0, 0, 0, 0, 0, 0, 0, 0, 0, 0, 1, 0, 0, 0, 0, 0, 0, 0,\n",
       "       0, 0, 0, 1, 0, 0, 0, 0, 0, 0, 0, 0, 1, 0, 0, 0, 0, 0, 0, 0, 1, 0,\n",
       "       0, 0, 0, 0, 0, 0, 0, 0, 0, 0, 0, 0, 0, 0, 0, 1, 0, 0, 0, 1, 0, 0,\n",
       "       0, 0, 0, 0, 0, 0, 0, 0, 0, 1, 0, 0, 0, 1, 0, 0, 0, 0, 0, 0, 0, 0,\n",
       "       0, 0, 0, 0, 0, 0, 0, 0, 0, 0, 0, 0, 1, 0, 0, 0, 0, 1, 0, 0, 0, 0,\n",
       "       0, 0, 0, 1, 0, 0, 0, 0, 0, 0, 1, 0, 0, 0, 0, 0, 1, 0, 0, 0, 0, 0,\n",
       "       0, 0, 0, 1, 0, 0, 0, 1, 0, 1, 0, 0, 1, 0, 0, 0, 0, 0, 0, 0, 0, 0,\n",
       "       1, 0, 0, 0, 0, 0, 0, 0, 0, 0, 0, 0, 0, 0, 0, 0, 0, 0, 0, 0, 0, 0,\n",
       "       0, 0, 0, 0, 0, 0, 1, 0, 0, 0, 0, 0, 0, 0, 0, 1, 0, 0, 0, 0, 0, 0,\n",
       "       0, 0, 0, 0, 0, 0, 0, 1, 0, 0, 0, 0, 0, 0, 0, 0, 0, 0, 0, 0, 1, 0,\n",
       "       0, 0, 0, 0, 0, 0, 0, 0, 0, 0, 0, 0, 0, 0, 0, 0, 0, 0, 1, 0, 0, 0,\n",
       "       0, 0, 0, 0, 1, 0, 0, 0, 0, 1, 0, 0, 0, 0, 0, 0, 0, 0, 0, 1, 0, 0,\n",
       "       0, 0, 0, 0, 0, 0, 0, 0, 0, 0, 0, 0, 1, 0, 0, 0, 0, 0, 0, 0, 0, 1,\n",
       "       0, 0, 0, 0, 0, 0, 0, 0, 0, 0, 0, 0, 1, 0, 0, 0, 0, 0, 0, 0, 0, 0,\n",
       "       0, 1, 0, 0, 0, 0, 0, 0, 0, 0, 0, 1, 1, 0, 0, 0, 0, 0, 0, 1, 0, 0,\n",
       "       0, 1, 0, 0, 0, 0, 0, 0, 0, 0, 0, 0, 0, 0, 0, 0, 0, 0, 0, 0, 0, 0,\n",
       "       0, 0, 0, 0, 0, 0, 0, 0, 0, 0, 0, 0, 0, 0, 0, 0, 0, 0, 0, 0, 0, 0,\n",
       "       0, 0, 0, 0, 0, 1, 0, 0, 0, 0, 0, 0, 0, 0, 0, 0, 0, 0, 0, 0, 0, 0,\n",
       "       0, 0, 0, 0, 0, 0, 0, 0, 0, 0, 0, 0, 0, 0, 0, 0, 0, 0, 0, 0, 0, 0,\n",
       "       0, 0, 0, 0, 0, 1, 0, 0, 0, 0, 1, 0, 0, 0, 0, 0, 0, 0, 0, 0, 0, 0,\n",
       "       0, 0, 0, 1, 0, 0, 1, 0, 0, 0, 0, 0, 0, 0, 0, 1, 0, 0, 0, 1, 0, 0,\n",
       "       0, 0, 0, 0, 0, 0, 0, 0, 0, 0, 1, 0, 0, 1, 0, 0, 0, 0, 0, 0, 0, 0,\n",
       "       0, 0, 0, 0, 0, 0, 0, 0, 0, 0, 1, 0, 0, 0, 0, 0, 0, 0, 0, 0, 0, 0,\n",
       "       0, 0, 0, 0, 0, 1, 0, 0, 0, 0, 1, 0, 0, 0, 0, 0, 0, 0, 0, 0, 0, 1,\n",
       "       0, 0, 0, 0, 0, 0, 0, 1, 0, 0, 0, 0, 0, 0, 0, 0, 0, 0, 0, 0, 0, 0,\n",
       "       0, 1, 0, 0, 0, 0, 0, 0, 0, 0, 0, 1, 0, 0, 0, 0, 0, 0, 0, 0, 0, 0,\n",
       "       0, 0, 0, 0, 0, 0, 0, 0, 0, 0, 0, 0, 0, 0, 0, 0, 0, 0, 0, 0, 0, 0,\n",
       "       0, 0, 0, 0, 1, 0, 0, 0, 0, 1, 0, 0, 0, 1, 0, 0, 0, 0, 0, 0, 0, 0,\n",
       "       0, 0, 0, 0, 0, 0, 0, 0, 0, 0, 0, 0, 0, 0, 0, 0, 0, 0, 0, 1, 0, 0,\n",
       "       0, 0, 0, 0, 1, 0, 0, 1, 0, 0, 0, 0, 0, 1, 0, 0, 0, 0, 0, 0, 0, 0,\n",
       "       0, 0, 1, 0, 0, 0, 0, 0, 0, 0, 0, 0, 1, 0, 0, 0, 1, 0, 0, 1, 0, 0,\n",
       "       0, 0, 0, 0, 0, 0, 0, 0, 0, 0, 0, 0, 0, 0])"
      ]
     },
     "execution_count": 78,
     "metadata": {},
     "output_type": "execute_result"
    }
   ],
   "source": [
    "pred_gdc=pipe_gdc.predict(x_test)\n",
    "pred_gdc"
   ]
  },
  {
   "cell_type": "code",
   "execution_count": 79,
   "id": "ec9055ca",
   "metadata": {
    "execution": {
     "iopub.execute_input": "2023-01-25T05:23:47.274995Z",
     "iopub.status.busy": "2023-01-25T05:23:47.273423Z",
     "iopub.status.idle": "2023-01-25T05:23:47.279163Z",
     "shell.execute_reply": "2023-01-25T05:23:47.278411Z",
     "shell.execute_reply.started": "2022-01-31T12:37:21.310986Z"
    },
    "papermill": {
     "duration": 0.149429,
     "end_time": "2023-01-25T05:23:47.279316",
     "exception": false,
     "start_time": "2023-01-25T05:23:47.129887",
     "status": "completed"
    },
    "tags": []
   },
   "outputs": [
    {
     "data": {
      "text/plain": [
       "89.15816326530613"
      ]
     },
     "execution_count": 79,
     "metadata": {},
     "output_type": "execute_result"
    }
   ],
   "source": [
    "accuracy_score(pred_gdc,y_test)*100"
   ]
  },
  {
   "cell_type": "code",
   "execution_count": 80,
   "id": "e3fe8716",
   "metadata": {
    "execution": {
     "iopub.execute_input": "2023-01-25T05:23:47.558795Z",
     "iopub.status.busy": "2023-01-25T05:23:47.556494Z",
     "iopub.status.idle": "2023-01-25T05:23:47.562851Z",
     "shell.execute_reply": "2023-01-25T05:23:47.562293Z",
     "shell.execute_reply.started": "2022-01-31T12:37:21.330013Z"
    },
    "papermill": {
     "duration": 0.145686,
     "end_time": "2023-01-25T05:23:47.562998",
     "exception": false,
     "start_time": "2023-01-25T05:23:47.417312",
     "status": "completed"
    },
    "tags": []
   },
   "outputs": [
    {
     "data": {
      "text/plain": [
       "{'n_estimators': 50, 'learning_rate': 0.2}"
      ]
     },
     "execution_count": 80,
     "metadata": {},
     "output_type": "execute_result"
    }
   ],
   "source": [
    "pipe_gdc.named_steps['randomizedsearchcv'].best_params_"
   ]
  },
  {
   "cell_type": "code",
   "execution_count": 81,
   "id": "882e2c60",
   "metadata": {
    "execution": {
     "iopub.execute_input": "2023-01-25T05:23:47.862760Z",
     "iopub.status.busy": "2023-01-25T05:23:47.857480Z",
     "iopub.status.idle": "2023-01-25T05:23:47.906108Z",
     "shell.execute_reply": "2023-01-25T05:23:47.905582Z",
     "shell.execute_reply.started": "2022-01-31T12:37:21.337459Z"
    },
    "papermill": {
     "duration": 0.206702,
     "end_time": "2023-01-25T05:23:47.906267",
     "exception": false,
     "start_time": "2023-01-25T05:23:47.699565",
     "status": "completed"
    },
    "tags": []
   },
   "outputs": [
    {
     "data": {
      "text/html": [
       "<style>div.sk-top-container {color: black;background-color: white;}div.sk-toggleable {background-color: white;}label.sk-toggleable__label {cursor: pointer;display: block;width: 100%;margin-bottom: 0;padding: 0.2em 0.3em;box-sizing: border-box;text-align: center;}div.sk-toggleable__content {max-height: 0;max-width: 0;overflow: hidden;text-align: left;background-color: #f0f8ff;}div.sk-toggleable__content pre {margin: 0.2em;color: black;border-radius: 0.25em;background-color: #f0f8ff;}input.sk-toggleable__control:checked~div.sk-toggleable__content {max-height: 200px;max-width: 100%;overflow: auto;}div.sk-estimator input.sk-toggleable__control:checked~label.sk-toggleable__label {background-color: #d4ebff;}div.sk-label input.sk-toggleable__control:checked~label.sk-toggleable__label {background-color: #d4ebff;}input.sk-hidden--visually {border: 0;clip: rect(1px 1px 1px 1px);clip: rect(1px, 1px, 1px, 1px);height: 1px;margin: -1px;overflow: hidden;padding: 0;position: absolute;width: 1px;}div.sk-estimator {font-family: monospace;background-color: #f0f8ff;margin: 0.25em 0.25em;border: 1px dotted black;border-radius: 0.25em;box-sizing: border-box;}div.sk-estimator:hover {background-color: #d4ebff;}div.sk-parallel-item::after {content: \"\";width: 100%;border-bottom: 1px solid gray;flex-grow: 1;}div.sk-label:hover label.sk-toggleable__label {background-color: #d4ebff;}div.sk-serial::before {content: \"\";position: absolute;border-left: 1px solid gray;box-sizing: border-box;top: 2em;bottom: 0;left: 50%;}div.sk-serial {display: flex;flex-direction: column;align-items: center;background-color: white;}div.sk-item {z-index: 1;}div.sk-parallel {display: flex;align-items: stretch;justify-content: center;background-color: white;}div.sk-parallel-item {display: flex;flex-direction: column;position: relative;background-color: white;}div.sk-parallel-item:first-child::after {align-self: flex-end;width: 50%;}div.sk-parallel-item:last-child::after {align-self: flex-start;width: 50%;}div.sk-parallel-item:only-child::after {width: 0;}div.sk-dashed-wrapped {border: 1px dashed gray;margin: 0.2em;box-sizing: border-box;padding-bottom: 0.1em;background-color: white;position: relative;}div.sk-label label {font-family: monospace;font-weight: bold;background-color: white;display: inline-block;line-height: 1.2em;}div.sk-label-container {position: relative;z-index: 2;text-align: center;}div.sk-container {display: inline-block;position: relative;}</style><div class=\"sk-top-container\"><div class=\"sk-container\"><div class=\"sk-item sk-dashed-wrapped\"><div class=\"sk-label-container\"><div class=\"sk-label sk-toggleable\"><input class=\"sk-toggleable__control sk-hidden--visually\" id=\"dcdf1ced-a25d-458f-b172-b2a38e5a6391\" type=\"checkbox\" ><label class=\"sk-toggleable__label\" for=\"dcdf1ced-a25d-458f-b172-b2a38e5a6391\">Pipeline</label><div class=\"sk-toggleable__content\"><pre>Pipeline(steps=[('columntransformer',\n",
       "                 ColumnTransformer(remainder='passthrough',\n",
       "                                   transformers=[('onehotencoder',\n",
       "                                                  OneHotEncoder(sparse=False),\n",
       "                                                  [2]),\n",
       "                                                 ('ordinalencoder',\n",
       "                                                  OrdinalEncoder(), [1])])),\n",
       "                ('randomizedsearchcv',\n",
       "                 RandomizedSearchCV(estimator=GradientBoostingClassifier(learning_rate=0.2,\n",
       "                                                                         n_estimators=50),\n",
       "                                    param_distributions={'learning_rate': [0.2],\n",
       "                                                         'n_estimators': [100]},\n",
       "                                    verbose=3))])</pre></div></div></div><div class=\"sk-serial\"><div class=\"sk-item sk-dashed-wrapped\"><div class=\"sk-label-container\"><div class=\"sk-label sk-toggleable\"><input class=\"sk-toggleable__control sk-hidden--visually\" id=\"878f65ad-8c8b-485f-b4c0-2707f2018b7b\" type=\"checkbox\" ><label class=\"sk-toggleable__label\" for=\"878f65ad-8c8b-485f-b4c0-2707f2018b7b\">columntransformer: ColumnTransformer</label><div class=\"sk-toggleable__content\"><pre>ColumnTransformer(remainder='passthrough',\n",
       "                  transformers=[('onehotencoder', OneHotEncoder(sparse=False),\n",
       "                                 [2]),\n",
       "                                ('ordinalencoder', OrdinalEncoder(), [1])])</pre></div></div></div><div class=\"sk-parallel\"><div class=\"sk-parallel-item\"><div class=\"sk-item\"><div class=\"sk-label-container\"><div class=\"sk-label sk-toggleable\"><input class=\"sk-toggleable__control sk-hidden--visually\" id=\"088437d8-df1e-4664-bc27-ba8f5b65f5ff\" type=\"checkbox\" ><label class=\"sk-toggleable__label\" for=\"088437d8-df1e-4664-bc27-ba8f5b65f5ff\">onehotencoder</label><div class=\"sk-toggleable__content\"><pre>[2]</pre></div></div></div><div class=\"sk-serial\"><div class=\"sk-item\"><div class=\"sk-estimator sk-toggleable\"><input class=\"sk-toggleable__control sk-hidden--visually\" id=\"a153797c-d1e0-4969-869a-17774a403573\" type=\"checkbox\" ><label class=\"sk-toggleable__label\" for=\"a153797c-d1e0-4969-869a-17774a403573\">OneHotEncoder</label><div class=\"sk-toggleable__content\"><pre>OneHotEncoder(sparse=False)</pre></div></div></div></div></div></div><div class=\"sk-parallel-item\"><div class=\"sk-item\"><div class=\"sk-label-container\"><div class=\"sk-label sk-toggleable\"><input class=\"sk-toggleable__control sk-hidden--visually\" id=\"d114eeaa-23a2-4bec-abe4-d9f13257aa0f\" type=\"checkbox\" ><label class=\"sk-toggleable__label\" for=\"d114eeaa-23a2-4bec-abe4-d9f13257aa0f\">ordinalencoder</label><div class=\"sk-toggleable__content\"><pre>[1]</pre></div></div></div><div class=\"sk-serial\"><div class=\"sk-item\"><div class=\"sk-estimator sk-toggleable\"><input class=\"sk-toggleable__control sk-hidden--visually\" id=\"8b60f312-ba75-4401-b4f7-aa0cc438df4c\" type=\"checkbox\" ><label class=\"sk-toggleable__label\" for=\"8b60f312-ba75-4401-b4f7-aa0cc438df4c\">OrdinalEncoder</label><div class=\"sk-toggleable__content\"><pre>OrdinalEncoder()</pre></div></div></div></div></div></div></div></div><div class=\"sk-item sk-dashed-wrapped\"><div class=\"sk-label-container\"><div class=\"sk-label sk-toggleable\"><input class=\"sk-toggleable__control sk-hidden--visually\" id=\"f1ed05b2-4554-496c-b294-1e7a1b54a58d\" type=\"checkbox\" ><label class=\"sk-toggleable__label\" for=\"f1ed05b2-4554-496c-b294-1e7a1b54a58d\">randomizedsearchcv: RandomizedSearchCV</label><div class=\"sk-toggleable__content\"><pre>RandomizedSearchCV(estimator=GradientBoostingClassifier(learning_rate=0.2,\n",
       "                                                        n_estimators=50),\n",
       "                   param_distributions={'learning_rate': [0.2],\n",
       "                                        'n_estimators': [100]},\n",
       "                   verbose=3)</pre></div></div></div><div class=\"sk-parallel\"><div class=\"sk-parallel-item\"><div class=\"sk-item\"><div class=\"sk-serial\"><div class=\"sk-item\"><div class=\"sk-estimator sk-toggleable\"><input class=\"sk-toggleable__control sk-hidden--visually\" id=\"d7039b0a-853c-438f-9ad0-a6d57a8a593c\" type=\"checkbox\" ><label class=\"sk-toggleable__label\" for=\"d7039b0a-853c-438f-9ad0-a6d57a8a593c\">GradientBoostingClassifier</label><div class=\"sk-toggleable__content\"><pre>GradientBoostingClassifier(learning_rate=0.2, n_estimators=50)</pre></div></div></div></div></div></div></div></div></div></div></div></div>"
      ],
      "text/plain": [
       "Pipeline(steps=[('columntransformer',\n",
       "                 ColumnTransformer(remainder='passthrough',\n",
       "                                   transformers=[('onehotencoder',\n",
       "                                                  OneHotEncoder(sparse=False),\n",
       "                                                  [2]),\n",
       "                                                 ('ordinalencoder',\n",
       "                                                  OrdinalEncoder(), [1])])),\n",
       "                ('randomizedsearchcv',\n",
       "                 RandomizedSearchCV(estimator=GradientBoostingClassifier(learning_rate=0.2,\n",
       "                                                                         n_estimators=50),\n",
       "                                    param_distributions={'learning_rate': [0.2],\n",
       "                                                         'n_estimators': [100]},\n",
       "                                    verbose=3))])"
      ]
     },
     "execution_count": 81,
     "metadata": {},
     "output_type": "execute_result"
    }
   ],
   "source": [
    "params_gdc1={'n_estimators': [100],'learning_rate': [0.2]}\n",
    "pipe_gdc1=make_pipeline(trans,RandomizedSearchCV(GDC,params_gdc1,verbose=3,refit=True))\n",
    "pipe_gdc1"
   ]
  },
  {
   "cell_type": "code",
   "execution_count": 82,
   "id": "c6ee64fc",
   "metadata": {
    "execution": {
     "iopub.execute_input": "2023-01-25T05:23:48.190481Z",
     "iopub.status.busy": "2023-01-25T05:23:48.189752Z",
     "iopub.status.idle": "2023-01-25T05:23:50.813725Z",
     "shell.execute_reply": "2023-01-25T05:23:50.814275Z",
     "shell.execute_reply.started": "2022-01-31T12:37:21.414386Z"
    },
    "papermill": {
     "duration": 2.77089,
     "end_time": "2023-01-25T05:23:50.814459",
     "exception": false,
     "start_time": "2023-01-25T05:23:48.043569",
     "status": "completed"
    },
    "tags": []
   },
   "outputs": [
    {
     "name": "stderr",
     "output_type": "stream",
     "text": [
      "/opt/conda/lib/python3.7/site-packages/sklearn/model_selection/_search.py:282: UserWarning: The total space of parameters 1 is smaller than n_iter=10. Running 1 iterations. For exhaustive searches, use GridSearchCV.\n",
      "  % (grid_size, self.n_iter, grid_size), UserWarning)\n",
      "[Parallel(n_jobs=1)]: Using backend SequentialBackend with 1 concurrent workers.\n"
     ]
    },
    {
     "name": "stdout",
     "output_type": "stream",
     "text": [
      "Fitting 5 folds for each of 1 candidates, totalling 5 fits\n",
      "[CV] n_estimators=100, learning_rate=0.2 .............................\n",
      "[CV] . n_estimators=100, learning_rate=0.2, score=0.860, total=   0.4s\n",
      "[CV] n_estimators=100, learning_rate=0.2 .............................\n"
     ]
    },
    {
     "name": "stderr",
     "output_type": "stream",
     "text": [
      "[Parallel(n_jobs=1)]: Done   1 out of   1 | elapsed:    0.4s remaining:    0.0s\n"
     ]
    },
    {
     "name": "stdout",
     "output_type": "stream",
     "text": [
      "[CV] . n_estimators=100, learning_rate=0.2, score=0.876, total=   0.4s\n",
      "[CV] n_estimators=100, learning_rate=0.2 .............................\n"
     ]
    },
    {
     "name": "stderr",
     "output_type": "stream",
     "text": [
      "[Parallel(n_jobs=1)]: Done   2 out of   2 | elapsed:    0.8s remaining:    0.0s\n"
     ]
    },
    {
     "name": "stdout",
     "output_type": "stream",
     "text": [
      "[CV] . n_estimators=100, learning_rate=0.2, score=0.880, total=   0.4s\n",
      "[CV] n_estimators=100, learning_rate=0.2 .............................\n",
      "[CV] . n_estimators=100, learning_rate=0.2, score=0.880, total=   0.4s\n",
      "[CV] n_estimators=100, learning_rate=0.2 .............................\n",
      "[CV] . n_estimators=100, learning_rate=0.2, score=0.897, total=   0.4s\n"
     ]
    },
    {
     "name": "stderr",
     "output_type": "stream",
     "text": [
      "[Parallel(n_jobs=1)]: Done   5 out of   5 | elapsed:    2.1s finished\n"
     ]
    },
    {
     "data": {
      "text/html": [
       "<style>div.sk-top-container {color: black;background-color: white;}div.sk-toggleable {background-color: white;}label.sk-toggleable__label {cursor: pointer;display: block;width: 100%;margin-bottom: 0;padding: 0.2em 0.3em;box-sizing: border-box;text-align: center;}div.sk-toggleable__content {max-height: 0;max-width: 0;overflow: hidden;text-align: left;background-color: #f0f8ff;}div.sk-toggleable__content pre {margin: 0.2em;color: black;border-radius: 0.25em;background-color: #f0f8ff;}input.sk-toggleable__control:checked~div.sk-toggleable__content {max-height: 200px;max-width: 100%;overflow: auto;}div.sk-estimator input.sk-toggleable__control:checked~label.sk-toggleable__label {background-color: #d4ebff;}div.sk-label input.sk-toggleable__control:checked~label.sk-toggleable__label {background-color: #d4ebff;}input.sk-hidden--visually {border: 0;clip: rect(1px 1px 1px 1px);clip: rect(1px, 1px, 1px, 1px);height: 1px;margin: -1px;overflow: hidden;padding: 0;position: absolute;width: 1px;}div.sk-estimator {font-family: monospace;background-color: #f0f8ff;margin: 0.25em 0.25em;border: 1px dotted black;border-radius: 0.25em;box-sizing: border-box;}div.sk-estimator:hover {background-color: #d4ebff;}div.sk-parallel-item::after {content: \"\";width: 100%;border-bottom: 1px solid gray;flex-grow: 1;}div.sk-label:hover label.sk-toggleable__label {background-color: #d4ebff;}div.sk-serial::before {content: \"\";position: absolute;border-left: 1px solid gray;box-sizing: border-box;top: 2em;bottom: 0;left: 50%;}div.sk-serial {display: flex;flex-direction: column;align-items: center;background-color: white;}div.sk-item {z-index: 1;}div.sk-parallel {display: flex;align-items: stretch;justify-content: center;background-color: white;}div.sk-parallel-item {display: flex;flex-direction: column;position: relative;background-color: white;}div.sk-parallel-item:first-child::after {align-self: flex-end;width: 50%;}div.sk-parallel-item:last-child::after {align-self: flex-start;width: 50%;}div.sk-parallel-item:only-child::after {width: 0;}div.sk-dashed-wrapped {border: 1px dashed gray;margin: 0.2em;box-sizing: border-box;padding-bottom: 0.1em;background-color: white;position: relative;}div.sk-label label {font-family: monospace;font-weight: bold;background-color: white;display: inline-block;line-height: 1.2em;}div.sk-label-container {position: relative;z-index: 2;text-align: center;}div.sk-container {display: inline-block;position: relative;}</style><div class=\"sk-top-container\"><div class=\"sk-container\"><div class=\"sk-item sk-dashed-wrapped\"><div class=\"sk-label-container\"><div class=\"sk-label sk-toggleable\"><input class=\"sk-toggleable__control sk-hidden--visually\" id=\"dee9eab8-fa2a-427d-8897-2a77aa1d7796\" type=\"checkbox\" ><label class=\"sk-toggleable__label\" for=\"dee9eab8-fa2a-427d-8897-2a77aa1d7796\">Pipeline</label><div class=\"sk-toggleable__content\"><pre>Pipeline(steps=[('columntransformer',\n",
       "                 ColumnTransformer(remainder='passthrough',\n",
       "                                   transformers=[('onehotencoder',\n",
       "                                                  OneHotEncoder(sparse=False),\n",
       "                                                  [2]),\n",
       "                                                 ('ordinalencoder',\n",
       "                                                  OrdinalEncoder(), [1])])),\n",
       "                ('randomizedsearchcv',\n",
       "                 RandomizedSearchCV(estimator=GradientBoostingClassifier(learning_rate=0.2,\n",
       "                                                                         n_estimators=50),\n",
       "                                    param_distributions={'learning_rate': [0.2],\n",
       "                                                         'n_estimators': [100]},\n",
       "                                    verbose=3))])</pre></div></div></div><div class=\"sk-serial\"><div class=\"sk-item sk-dashed-wrapped\"><div class=\"sk-label-container\"><div class=\"sk-label sk-toggleable\"><input class=\"sk-toggleable__control sk-hidden--visually\" id=\"94bfafb5-715a-40c8-a35f-ced2ba0846d8\" type=\"checkbox\" ><label class=\"sk-toggleable__label\" for=\"94bfafb5-715a-40c8-a35f-ced2ba0846d8\">columntransformer: ColumnTransformer</label><div class=\"sk-toggleable__content\"><pre>ColumnTransformer(remainder='passthrough',\n",
       "                  transformers=[('onehotencoder', OneHotEncoder(sparse=False),\n",
       "                                 [2]),\n",
       "                                ('ordinalencoder', OrdinalEncoder(), [1])])</pre></div></div></div><div class=\"sk-parallel\"><div class=\"sk-parallel-item\"><div class=\"sk-item\"><div class=\"sk-label-container\"><div class=\"sk-label sk-toggleable\"><input class=\"sk-toggleable__control sk-hidden--visually\" id=\"ddecae75-935f-41dd-99a5-abf662c38228\" type=\"checkbox\" ><label class=\"sk-toggleable__label\" for=\"ddecae75-935f-41dd-99a5-abf662c38228\">onehotencoder</label><div class=\"sk-toggleable__content\"><pre>[2]</pre></div></div></div><div class=\"sk-serial\"><div class=\"sk-item\"><div class=\"sk-estimator sk-toggleable\"><input class=\"sk-toggleable__control sk-hidden--visually\" id=\"a2c0edc2-7f19-4724-adc1-a4d03338cd02\" type=\"checkbox\" ><label class=\"sk-toggleable__label\" for=\"a2c0edc2-7f19-4724-adc1-a4d03338cd02\">OneHotEncoder</label><div class=\"sk-toggleable__content\"><pre>OneHotEncoder(sparse=False)</pre></div></div></div></div></div></div><div class=\"sk-parallel-item\"><div class=\"sk-item\"><div class=\"sk-label-container\"><div class=\"sk-label sk-toggleable\"><input class=\"sk-toggleable__control sk-hidden--visually\" id=\"0abd2d46-36c4-4955-b130-52424c82c084\" type=\"checkbox\" ><label class=\"sk-toggleable__label\" for=\"0abd2d46-36c4-4955-b130-52424c82c084\">ordinalencoder</label><div class=\"sk-toggleable__content\"><pre>[1]</pre></div></div></div><div class=\"sk-serial\"><div class=\"sk-item\"><div class=\"sk-estimator sk-toggleable\"><input class=\"sk-toggleable__control sk-hidden--visually\" id=\"6ad1c66a-d0a9-41b8-bfee-7fac5c40409b\" type=\"checkbox\" ><label class=\"sk-toggleable__label\" for=\"6ad1c66a-d0a9-41b8-bfee-7fac5c40409b\">OrdinalEncoder</label><div class=\"sk-toggleable__content\"><pre>OrdinalEncoder()</pre></div></div></div></div></div></div></div></div><div class=\"sk-item sk-dashed-wrapped\"><div class=\"sk-label-container\"><div class=\"sk-label sk-toggleable\"><input class=\"sk-toggleable__control sk-hidden--visually\" id=\"0b0ffdf4-feaf-4206-afb1-3374ed623982\" type=\"checkbox\" ><label class=\"sk-toggleable__label\" for=\"0b0ffdf4-feaf-4206-afb1-3374ed623982\">randomizedsearchcv: RandomizedSearchCV</label><div class=\"sk-toggleable__content\"><pre>RandomizedSearchCV(estimator=GradientBoostingClassifier(learning_rate=0.2,\n",
       "                                                        n_estimators=50),\n",
       "                   param_distributions={'learning_rate': [0.2],\n",
       "                                        'n_estimators': [100]},\n",
       "                   verbose=3)</pre></div></div></div><div class=\"sk-parallel\"><div class=\"sk-parallel-item\"><div class=\"sk-item\"><div class=\"sk-serial\"><div class=\"sk-item\"><div class=\"sk-estimator sk-toggleable\"><input class=\"sk-toggleable__control sk-hidden--visually\" id=\"e70be28c-d164-49ba-92ec-fb5b0f3f9c29\" type=\"checkbox\" ><label class=\"sk-toggleable__label\" for=\"e70be28c-d164-49ba-92ec-fb5b0f3f9c29\">GradientBoostingClassifier</label><div class=\"sk-toggleable__content\"><pre>GradientBoostingClassifier(learning_rate=0.2, n_estimators=50)</pre></div></div></div></div></div></div></div></div></div></div></div></div>"
      ],
      "text/plain": [
       "Pipeline(steps=[('columntransformer',\n",
       "                 ColumnTransformer(remainder='passthrough',\n",
       "                                   transformers=[('onehotencoder',\n",
       "                                                  OneHotEncoder(sparse=False),\n",
       "                                                  [2]),\n",
       "                                                 ('ordinalencoder',\n",
       "                                                  OrdinalEncoder(), [1])])),\n",
       "                ('randomizedsearchcv',\n",
       "                 RandomizedSearchCV(estimator=GradientBoostingClassifier(learning_rate=0.2,\n",
       "                                                                         n_estimators=50),\n",
       "                                    param_distributions={'learning_rate': [0.2],\n",
       "                                                         'n_estimators': [100]},\n",
       "                                    verbose=3))])"
      ]
     },
     "execution_count": 82,
     "metadata": {},
     "output_type": "execute_result"
    }
   ],
   "source": [
    "pipe_gdc1.fit(x_train,y_train)"
   ]
  },
  {
   "cell_type": "code",
   "execution_count": 83,
   "id": "0403b792",
   "metadata": {
    "execution": {
     "iopub.execute_input": "2023-01-25T05:23:51.103659Z",
     "iopub.status.busy": "2023-01-25T05:23:51.102788Z",
     "iopub.status.idle": "2023-01-25T05:23:51.113185Z",
     "shell.execute_reply": "2023-01-25T05:23:51.112518Z",
     "shell.execute_reply.started": "2022-01-31T12:37:24.051644Z"
    },
    "papermill": {
     "duration": 0.15781,
     "end_time": "2023-01-25T05:23:51.113338",
     "exception": false,
     "start_time": "2023-01-25T05:23:50.955528",
     "status": "completed"
    },
    "tags": []
   },
   "outputs": [
    {
     "data": {
      "text/plain": [
       "array([0, 0, 0, 0, 0, 0, 0, 0, 0, 0, 1, 0, 0, 0, 0, 0, 0, 0, 0, 0, 0, 0,\n",
       "       0, 0, 0, 0, 0, 0, 0, 0, 0, 0, 0, 0, 1, 0, 1, 0, 0, 1, 0, 0, 0, 0,\n",
       "       0, 1, 0, 0, 0, 0, 0, 0, 0, 0, 0, 0, 0, 0, 0, 1, 1, 0, 0, 1, 0, 0,\n",
       "       0, 0, 1, 0, 0, 0, 0, 0, 0, 0, 1, 0, 0, 0, 0, 0, 0, 0, 0, 0, 0, 0,\n",
       "       0, 0, 0, 0, 0, 0, 0, 0, 0, 0, 0, 0, 0, 0, 1, 0, 0, 1, 0, 0, 0, 0,\n",
       "       0, 1, 0, 1, 0, 0, 0, 0, 0, 0, 0, 0, 1, 0, 0, 0, 0, 0, 0, 0, 1, 0,\n",
       "       0, 0, 0, 0, 0, 0, 0, 0, 0, 0, 0, 0, 0, 0, 0, 1, 0, 0, 0, 1, 0, 0,\n",
       "       0, 0, 0, 0, 0, 0, 0, 0, 0, 1, 0, 0, 0, 1, 0, 0, 0, 0, 0, 0, 0, 0,\n",
       "       0, 0, 0, 0, 0, 0, 0, 0, 0, 0, 0, 0, 1, 0, 0, 0, 0, 1, 0, 0, 0, 0,\n",
       "       0, 0, 0, 1, 0, 0, 1, 0, 0, 0, 0, 0, 0, 0, 0, 0, 1, 0, 0, 0, 0, 0,\n",
       "       0, 0, 0, 1, 0, 0, 0, 1, 0, 1, 0, 0, 1, 0, 0, 0, 0, 0, 0, 0, 0, 0,\n",
       "       1, 0, 0, 0, 0, 0, 0, 0, 0, 0, 0, 0, 0, 1, 0, 0, 0, 0, 0, 0, 0, 0,\n",
       "       0, 0, 0, 0, 0, 0, 1, 0, 0, 1, 0, 0, 0, 0, 0, 1, 0, 0, 0, 0, 0, 0,\n",
       "       0, 0, 0, 0, 0, 0, 0, 1, 0, 0, 0, 0, 0, 0, 0, 0, 0, 0, 0, 0, 1, 0,\n",
       "       0, 0, 0, 0, 0, 0, 0, 0, 0, 0, 0, 0, 0, 0, 0, 0, 0, 0, 0, 0, 0, 0,\n",
       "       0, 0, 0, 0, 1, 0, 0, 0, 0, 1, 0, 0, 0, 0, 0, 0, 0, 0, 0, 1, 0, 0,\n",
       "       0, 0, 0, 0, 0, 0, 0, 0, 0, 0, 0, 0, 1, 0, 0, 0, 0, 0, 0, 0, 0, 1,\n",
       "       0, 0, 0, 0, 0, 0, 0, 0, 0, 0, 0, 0, 1, 0, 0, 0, 0, 0, 0, 0, 0, 0,\n",
       "       0, 1, 0, 0, 0, 0, 0, 0, 0, 0, 0, 1, 1, 0, 0, 0, 0, 0, 0, 1, 0, 0,\n",
       "       0, 1, 0, 0, 0, 0, 0, 0, 0, 0, 0, 0, 0, 0, 0, 0, 0, 0, 0, 0, 0, 0,\n",
       "       0, 0, 0, 0, 0, 0, 0, 0, 0, 0, 0, 0, 0, 0, 0, 0, 0, 0, 0, 0, 0, 0,\n",
       "       0, 0, 0, 0, 0, 1, 0, 0, 0, 0, 0, 0, 0, 0, 0, 0, 0, 0, 0, 0, 0, 0,\n",
       "       0, 0, 0, 0, 0, 0, 0, 0, 0, 0, 0, 0, 0, 0, 0, 0, 0, 0, 0, 0, 0, 0,\n",
       "       0, 0, 0, 0, 0, 1, 0, 0, 0, 0, 1, 0, 0, 0, 0, 0, 0, 0, 0, 0, 0, 0,\n",
       "       0, 0, 0, 1, 0, 0, 1, 0, 0, 0, 0, 0, 0, 0, 0, 1, 0, 0, 0, 1, 0, 0,\n",
       "       0, 0, 0, 0, 0, 0, 0, 0, 0, 0, 1, 0, 0, 1, 0, 0, 0, 0, 0, 0, 0, 0,\n",
       "       0, 0, 0, 0, 0, 0, 0, 0, 0, 0, 1, 0, 0, 0, 0, 0, 0, 0, 0, 0, 0, 0,\n",
       "       0, 0, 0, 0, 0, 1, 0, 0, 0, 0, 1, 0, 0, 0, 0, 0, 0, 0, 0, 0, 0, 1,\n",
       "       0, 0, 0, 0, 0, 0, 0, 1, 0, 0, 0, 0, 0, 0, 0, 0, 0, 0, 0, 0, 0, 0,\n",
       "       0, 1, 0, 0, 0, 0, 0, 0, 0, 0, 0, 1, 0, 0, 0, 0, 0, 0, 0, 0, 0, 0,\n",
       "       0, 0, 0, 0, 0, 0, 0, 0, 0, 0, 0, 0, 0, 0, 1, 0, 0, 0, 0, 0, 0, 0,\n",
       "       0, 1, 0, 0, 1, 0, 0, 0, 0, 1, 0, 0, 0, 1, 0, 0, 0, 0, 0, 0, 0, 0,\n",
       "       0, 0, 0, 0, 0, 0, 0, 0, 0, 1, 0, 0, 0, 0, 0, 0, 0, 0, 0, 1, 0, 0,\n",
       "       0, 0, 0, 0, 0, 0, 0, 1, 0, 0, 0, 0, 0, 1, 0, 0, 0, 0, 0, 0, 0, 0,\n",
       "       0, 0, 1, 0, 0, 0, 0, 1, 0, 0, 0, 0, 1, 0, 0, 0, 1, 0, 0, 1, 0, 0,\n",
       "       0, 0, 0, 0, 0, 0, 0, 0, 0, 0, 0, 0, 0, 0])"
      ]
     },
     "execution_count": 83,
     "metadata": {},
     "output_type": "execute_result"
    }
   ],
   "source": [
    "pred_gdc1=pipe_gdc1.predict(x_test)\n",
    "pred_gdc1"
   ]
  },
  {
   "cell_type": "code",
   "execution_count": 84,
   "id": "d18ccecc",
   "metadata": {
    "execution": {
     "iopub.execute_input": "2023-01-25T05:23:51.402113Z",
     "iopub.status.busy": "2023-01-25T05:23:51.401194Z",
     "iopub.status.idle": "2023-01-25T05:23:51.404355Z",
     "shell.execute_reply": "2023-01-25T05:23:51.405001Z",
     "shell.execute_reply.started": "2022-01-31T12:37:24.070437Z"
    },
    "papermill": {
     "duration": 0.149588,
     "end_time": "2023-01-25T05:23:51.405212",
     "exception": false,
     "start_time": "2023-01-25T05:23:51.255624",
     "status": "completed"
    },
    "tags": []
   },
   "outputs": [
    {
     "data": {
      "text/plain": [
       "88.9030612244898"
      ]
     },
     "execution_count": 84,
     "metadata": {},
     "output_type": "execute_result"
    }
   ],
   "source": [
    "accuracy_score(pred_gdc1,y_test)*100"
   ]
  },
  {
   "cell_type": "code",
   "execution_count": 85,
   "id": "75f15d4a",
   "metadata": {
    "execution": {
     "iopub.execute_input": "2023-01-25T05:23:51.696288Z",
     "iopub.status.busy": "2023-01-25T05:23:51.695569Z",
     "iopub.status.idle": "2023-01-25T05:23:51.868395Z",
     "shell.execute_reply": "2023-01-25T05:23:51.867379Z",
     "shell.execute_reply.started": "2022-01-31T12:37:24.080188Z"
    },
    "papermill": {
     "duration": 0.322811,
     "end_time": "2023-01-25T05:23:51.868588",
     "exception": false,
     "start_time": "2023-01-25T05:23:51.545777",
     "status": "completed"
    },
    "tags": []
   },
   "outputs": [
    {
     "data": {
      "text/html": [
       "<style>div.sk-top-container {color: black;background-color: white;}div.sk-toggleable {background-color: white;}label.sk-toggleable__label {cursor: pointer;display: block;width: 100%;margin-bottom: 0;padding: 0.2em 0.3em;box-sizing: border-box;text-align: center;}div.sk-toggleable__content {max-height: 0;max-width: 0;overflow: hidden;text-align: left;background-color: #f0f8ff;}div.sk-toggleable__content pre {margin: 0.2em;color: black;border-radius: 0.25em;background-color: #f0f8ff;}input.sk-toggleable__control:checked~div.sk-toggleable__content {max-height: 200px;max-width: 100%;overflow: auto;}div.sk-estimator input.sk-toggleable__control:checked~label.sk-toggleable__label {background-color: #d4ebff;}div.sk-label input.sk-toggleable__control:checked~label.sk-toggleable__label {background-color: #d4ebff;}input.sk-hidden--visually {border: 0;clip: rect(1px 1px 1px 1px);clip: rect(1px, 1px, 1px, 1px);height: 1px;margin: -1px;overflow: hidden;padding: 0;position: absolute;width: 1px;}div.sk-estimator {font-family: monospace;background-color: #f0f8ff;margin: 0.25em 0.25em;border: 1px dotted black;border-radius: 0.25em;box-sizing: border-box;}div.sk-estimator:hover {background-color: #d4ebff;}div.sk-parallel-item::after {content: \"\";width: 100%;border-bottom: 1px solid gray;flex-grow: 1;}div.sk-label:hover label.sk-toggleable__label {background-color: #d4ebff;}div.sk-serial::before {content: \"\";position: absolute;border-left: 1px solid gray;box-sizing: border-box;top: 2em;bottom: 0;left: 50%;}div.sk-serial {display: flex;flex-direction: column;align-items: center;background-color: white;}div.sk-item {z-index: 1;}div.sk-parallel {display: flex;align-items: stretch;justify-content: center;background-color: white;}div.sk-parallel-item {display: flex;flex-direction: column;position: relative;background-color: white;}div.sk-parallel-item:first-child::after {align-self: flex-end;width: 50%;}div.sk-parallel-item:last-child::after {align-self: flex-start;width: 50%;}div.sk-parallel-item:only-child::after {width: 0;}div.sk-dashed-wrapped {border: 1px dashed gray;margin: 0.2em;box-sizing: border-box;padding-bottom: 0.1em;background-color: white;position: relative;}div.sk-label label {font-family: monospace;font-weight: bold;background-color: white;display: inline-block;line-height: 1.2em;}div.sk-label-container {position: relative;z-index: 2;text-align: center;}div.sk-container {display: inline-block;position: relative;}</style><div class=\"sk-top-container\"><div class=\"sk-container\"><div class=\"sk-item sk-dashed-wrapped\"><div class=\"sk-label-container\"><div class=\"sk-label sk-toggleable\"><input class=\"sk-toggleable__control sk-hidden--visually\" id=\"dfff0b98-4325-4735-bf5e-e9d873ac1903\" type=\"checkbox\" ><label class=\"sk-toggleable__label\" for=\"dfff0b98-4325-4735-bf5e-e9d873ac1903\">Pipeline</label><div class=\"sk-toggleable__content\"><pre>Pipeline(steps=[('columntransformer',\n",
       "                 ColumnTransformer(remainder='passthrough',\n",
       "                                   transformers=[('onehotencoder',\n",
       "                                                  OneHotEncoder(sparse=False),\n",
       "                                                  [2]),\n",
       "                                                 ('ordinalencoder',\n",
       "                                                  OrdinalEncoder(), [1])])),\n",
       "                ('xgbclassifier',\n",
       "                 XGBClassifier(base_score=None, booster=None,\n",
       "                               colsample_bylevel=None, colsample_bynode=None,\n",
       "                               colsample_bytree=None, enable_categorical=False,\n",
       "                               gamma=3, gpu_...\n",
       "                               interaction_constraints=None, learning_rate=0.2,\n",
       "                               max_delta_step=None, max_depth=None,\n",
       "                               min_child_weight=None, missing=nan,\n",
       "                               monotone_constraints=None, n_estimators=100,\n",
       "                               n_jobs=None, num_parallel_tree=None,\n",
       "                               predictor=None, random_state=None,\n",
       "                               reg_alpha=None, reg_lambda=None,\n",
       "                               scale_pos_weight=None, subsample=None,\n",
       "                               tree_method=None, validate_parameters=None,\n",
       "                               verbosity=None))])</pre></div></div></div><div class=\"sk-serial\"><div class=\"sk-item sk-dashed-wrapped\"><div class=\"sk-label-container\"><div class=\"sk-label sk-toggleable\"><input class=\"sk-toggleable__control sk-hidden--visually\" id=\"8adf4e3a-b5ea-44f7-a514-57da6fe186d3\" type=\"checkbox\" ><label class=\"sk-toggleable__label\" for=\"8adf4e3a-b5ea-44f7-a514-57da6fe186d3\">columntransformer: ColumnTransformer</label><div class=\"sk-toggleable__content\"><pre>ColumnTransformer(remainder='passthrough',\n",
       "                  transformers=[('onehotencoder', OneHotEncoder(sparse=False),\n",
       "                                 [2]),\n",
       "                                ('ordinalencoder', OrdinalEncoder(), [1])])</pre></div></div></div><div class=\"sk-parallel\"><div class=\"sk-parallel-item\"><div class=\"sk-item\"><div class=\"sk-label-container\"><div class=\"sk-label sk-toggleable\"><input class=\"sk-toggleable__control sk-hidden--visually\" id=\"9c24f7fc-3f42-4cef-b11d-a7f159d1fd57\" type=\"checkbox\" ><label class=\"sk-toggleable__label\" for=\"9c24f7fc-3f42-4cef-b11d-a7f159d1fd57\">onehotencoder</label><div class=\"sk-toggleable__content\"><pre>[2]</pre></div></div></div><div class=\"sk-serial\"><div class=\"sk-item\"><div class=\"sk-estimator sk-toggleable\"><input class=\"sk-toggleable__control sk-hidden--visually\" id=\"c3e6afc3-ccd9-4c38-ac8d-c5a3b416f36e\" type=\"checkbox\" ><label class=\"sk-toggleable__label\" for=\"c3e6afc3-ccd9-4c38-ac8d-c5a3b416f36e\">OneHotEncoder</label><div class=\"sk-toggleable__content\"><pre>OneHotEncoder(sparse=False)</pre></div></div></div></div></div></div><div class=\"sk-parallel-item\"><div class=\"sk-item\"><div class=\"sk-label-container\"><div class=\"sk-label sk-toggleable\"><input class=\"sk-toggleable__control sk-hidden--visually\" id=\"a96a6353-1fe2-4049-bd9c-23886a391b35\" type=\"checkbox\" ><label class=\"sk-toggleable__label\" for=\"a96a6353-1fe2-4049-bd9c-23886a391b35\">ordinalencoder</label><div class=\"sk-toggleable__content\"><pre>[1]</pre></div></div></div><div class=\"sk-serial\"><div class=\"sk-item\"><div class=\"sk-estimator sk-toggleable\"><input class=\"sk-toggleable__control sk-hidden--visually\" id=\"ad0800cf-fa22-4c30-ab3a-ded87b44efc4\" type=\"checkbox\" ><label class=\"sk-toggleable__label\" for=\"ad0800cf-fa22-4c30-ab3a-ded87b44efc4\">OrdinalEncoder</label><div class=\"sk-toggleable__content\"><pre>OrdinalEncoder()</pre></div></div></div></div></div></div></div></div><div class=\"sk-item\"><div class=\"sk-estimator sk-toggleable\"><input class=\"sk-toggleable__control sk-hidden--visually\" id=\"370b444c-68cf-47d0-9a79-0a87eed230a0\" type=\"checkbox\" ><label class=\"sk-toggleable__label\" for=\"370b444c-68cf-47d0-9a79-0a87eed230a0\">XGBClassifier</label><div class=\"sk-toggleable__content\"><pre>XGBClassifier(base_score=None, booster=None, colsample_bylevel=None,\n",
       "              colsample_bynode=None, colsample_bytree=None,\n",
       "              enable_categorical=False, gamma=3, gpu_id=None,\n",
       "              importance_type=None, interaction_constraints=None,\n",
       "              learning_rate=0.2, max_delta_step=None, max_depth=None,\n",
       "              min_child_weight=None, missing=nan, monotone_constraints=None,\n",
       "              n_estimators=100, n_jobs=None, num_parallel_tree=None,\n",
       "              predictor=None, random_state=None, reg_alpha=None,\n",
       "              reg_lambda=None, scale_pos_weight=None, subsample=None,\n",
       "              tree_method=None, validate_parameters=None, verbosity=None)</pre></div></div></div></div></div></div></div>"
      ],
      "text/plain": [
       "Pipeline(steps=[('columntransformer',\n",
       "                 ColumnTransformer(remainder='passthrough',\n",
       "                                   transformers=[('onehotencoder',\n",
       "                                                  OneHotEncoder(sparse=False),\n",
       "                                                  [2]),\n",
       "                                                 ('ordinalencoder',\n",
       "                                                  OrdinalEncoder(), [1])])),\n",
       "                ('xgbclassifier',\n",
       "                 XGBClassifier(base_score=None, booster=None,\n",
       "                               colsample_bylevel=None, colsample_bynode=None,\n",
       "                               colsample_bytree=None, enable_categorical=False,\n",
       "                               gamma=3, gpu_...\n",
       "                               interaction_constraints=None, learning_rate=0.2,\n",
       "                               max_delta_step=None, max_depth=None,\n",
       "                               min_child_weight=None, missing=nan,\n",
       "                               monotone_constraints=None, n_estimators=100,\n",
       "                               n_jobs=None, num_parallel_tree=None,\n",
       "                               predictor=None, random_state=None,\n",
       "                               reg_alpha=None, reg_lambda=None,\n",
       "                               scale_pos_weight=None, subsample=None,\n",
       "                               tree_method=None, validate_parameters=None,\n",
       "                               verbosity=None))])"
      ]
     },
     "execution_count": 85,
     "metadata": {},
     "output_type": "execute_result"
    }
   ],
   "source": [
    "import xgboost as xgb\n",
    "xgbc=xgb.XGBClassifier(gamma=3,learning_rate=0.2)\n",
    "pipe_xgbc=make_pipeline(trans,xgbc)\n",
    "pipe_xgbc"
   ]
  },
  {
   "cell_type": "code",
   "execution_count": 86,
   "id": "aedc8335",
   "metadata": {
    "execution": {
     "iopub.execute_input": "2023-01-25T05:23:52.164894Z",
     "iopub.status.busy": "2023-01-25T05:23:52.164153Z",
     "iopub.status.idle": "2023-01-25T05:23:52.970965Z",
     "shell.execute_reply": "2023-01-25T05:23:52.971708Z",
     "shell.execute_reply.started": "2022-01-31T12:37:24.212040Z"
    },
    "papermill": {
     "duration": 0.959853,
     "end_time": "2023-01-25T05:23:52.971905",
     "exception": false,
     "start_time": "2023-01-25T05:23:52.012052",
     "status": "completed"
    },
    "tags": []
   },
   "outputs": [
    {
     "name": "stderr",
     "output_type": "stream",
     "text": [
      "/opt/conda/lib/python3.7/site-packages/xgboost/sklearn.py:1224: UserWarning: The use of label encoder in XGBClassifier is deprecated and will be removed in a future release. To remove this warning, do the following: 1) Pass option use_label_encoder=False when constructing XGBClassifier object; and 2) Encode your labels (y) as integers starting with 0, i.e. 0, 1, 2, ..., [num_class - 1].\n",
      "  warnings.warn(label_encoder_deprecation_msg, UserWarning)\n"
     ]
    },
    {
     "name": "stdout",
     "output_type": "stream",
     "text": [
      "[05:23:52] WARNING: ../src/learner.cc:1115: Starting in XGBoost 1.3.0, the default evaluation metric used with the objective 'binary:logistic' was changed from 'error' to 'logloss'. Explicitly set eval_metric if you'd like to restore the old behavior.\n"
     ]
    },
    {
     "data": {
      "text/html": [
       "<style>div.sk-top-container {color: black;background-color: white;}div.sk-toggleable {background-color: white;}label.sk-toggleable__label {cursor: pointer;display: block;width: 100%;margin-bottom: 0;padding: 0.2em 0.3em;box-sizing: border-box;text-align: center;}div.sk-toggleable__content {max-height: 0;max-width: 0;overflow: hidden;text-align: left;background-color: #f0f8ff;}div.sk-toggleable__content pre {margin: 0.2em;color: black;border-radius: 0.25em;background-color: #f0f8ff;}input.sk-toggleable__control:checked~div.sk-toggleable__content {max-height: 200px;max-width: 100%;overflow: auto;}div.sk-estimator input.sk-toggleable__control:checked~label.sk-toggleable__label {background-color: #d4ebff;}div.sk-label input.sk-toggleable__control:checked~label.sk-toggleable__label {background-color: #d4ebff;}input.sk-hidden--visually {border: 0;clip: rect(1px 1px 1px 1px);clip: rect(1px, 1px, 1px, 1px);height: 1px;margin: -1px;overflow: hidden;padding: 0;position: absolute;width: 1px;}div.sk-estimator {font-family: monospace;background-color: #f0f8ff;margin: 0.25em 0.25em;border: 1px dotted black;border-radius: 0.25em;box-sizing: border-box;}div.sk-estimator:hover {background-color: #d4ebff;}div.sk-parallel-item::after {content: \"\";width: 100%;border-bottom: 1px solid gray;flex-grow: 1;}div.sk-label:hover label.sk-toggleable__label {background-color: #d4ebff;}div.sk-serial::before {content: \"\";position: absolute;border-left: 1px solid gray;box-sizing: border-box;top: 2em;bottom: 0;left: 50%;}div.sk-serial {display: flex;flex-direction: column;align-items: center;background-color: white;}div.sk-item {z-index: 1;}div.sk-parallel {display: flex;align-items: stretch;justify-content: center;background-color: white;}div.sk-parallel-item {display: flex;flex-direction: column;position: relative;background-color: white;}div.sk-parallel-item:first-child::after {align-self: flex-end;width: 50%;}div.sk-parallel-item:last-child::after {align-self: flex-start;width: 50%;}div.sk-parallel-item:only-child::after {width: 0;}div.sk-dashed-wrapped {border: 1px dashed gray;margin: 0.2em;box-sizing: border-box;padding-bottom: 0.1em;background-color: white;position: relative;}div.sk-label label {font-family: monospace;font-weight: bold;background-color: white;display: inline-block;line-height: 1.2em;}div.sk-label-container {position: relative;z-index: 2;text-align: center;}div.sk-container {display: inline-block;position: relative;}</style><div class=\"sk-top-container\"><div class=\"sk-container\"><div class=\"sk-item sk-dashed-wrapped\"><div class=\"sk-label-container\"><div class=\"sk-label sk-toggleable\"><input class=\"sk-toggleable__control sk-hidden--visually\" id=\"9c2b44b0-05c4-4a10-9253-6866ca45050c\" type=\"checkbox\" ><label class=\"sk-toggleable__label\" for=\"9c2b44b0-05c4-4a10-9253-6866ca45050c\">Pipeline</label><div class=\"sk-toggleable__content\"><pre>Pipeline(steps=[('columntransformer',\n",
       "                 ColumnTransformer(remainder='passthrough',\n",
       "                                   transformers=[('onehotencoder',\n",
       "                                                  OneHotEncoder(sparse=False),\n",
       "                                                  [2]),\n",
       "                                                 ('ordinalencoder',\n",
       "                                                  OrdinalEncoder(), [1])])),\n",
       "                ('xgbclassifier',\n",
       "                 XGBClassifier(base_score=0.5, booster='gbtree',\n",
       "                               colsample_bylevel=1, colsample_bynode=1,\n",
       "                               colsample_bytree=1, enable_categorical=False,\n",
       "                               gamma=3, gpu_id=-1, importance_type=None,\n",
       "                               interaction_constraints='', learning_rate=0.2,\n",
       "                               max_delta_step=0, max_depth=6,\n",
       "                               min_child_weight=1, missing=nan,\n",
       "                               monotone_constraints='()', n_estimators=100,\n",
       "                               n_jobs=4, num_parallel_tree=1, predictor='auto',\n",
       "                               random_state=0, reg_alpha=0, reg_lambda=1,\n",
       "                               scale_pos_weight=1, subsample=1,\n",
       "                               tree_method='exact', validate_parameters=1,\n",
       "                               verbosity=None))])</pre></div></div></div><div class=\"sk-serial\"><div class=\"sk-item sk-dashed-wrapped\"><div class=\"sk-label-container\"><div class=\"sk-label sk-toggleable\"><input class=\"sk-toggleable__control sk-hidden--visually\" id=\"0acd3b7b-9b65-4e73-8393-4bb2f676d29d\" type=\"checkbox\" ><label class=\"sk-toggleable__label\" for=\"0acd3b7b-9b65-4e73-8393-4bb2f676d29d\">columntransformer: ColumnTransformer</label><div class=\"sk-toggleable__content\"><pre>ColumnTransformer(remainder='passthrough',\n",
       "                  transformers=[('onehotencoder', OneHotEncoder(sparse=False),\n",
       "                                 [2]),\n",
       "                                ('ordinalencoder', OrdinalEncoder(), [1])])</pre></div></div></div><div class=\"sk-parallel\"><div class=\"sk-parallel-item\"><div class=\"sk-item\"><div class=\"sk-label-container\"><div class=\"sk-label sk-toggleable\"><input class=\"sk-toggleable__control sk-hidden--visually\" id=\"a22e69e7-36a3-4795-97f3-1f08639846d8\" type=\"checkbox\" ><label class=\"sk-toggleable__label\" for=\"a22e69e7-36a3-4795-97f3-1f08639846d8\">onehotencoder</label><div class=\"sk-toggleable__content\"><pre>[2]</pre></div></div></div><div class=\"sk-serial\"><div class=\"sk-item\"><div class=\"sk-estimator sk-toggleable\"><input class=\"sk-toggleable__control sk-hidden--visually\" id=\"d6ee3e82-1d53-478a-a4c3-b29cc37f6dac\" type=\"checkbox\" ><label class=\"sk-toggleable__label\" for=\"d6ee3e82-1d53-478a-a4c3-b29cc37f6dac\">OneHotEncoder</label><div class=\"sk-toggleable__content\"><pre>OneHotEncoder(sparse=False)</pre></div></div></div></div></div></div><div class=\"sk-parallel-item\"><div class=\"sk-item\"><div class=\"sk-label-container\"><div class=\"sk-label sk-toggleable\"><input class=\"sk-toggleable__control sk-hidden--visually\" id=\"c631f0da-dcfb-435f-9c35-6a622c7a8016\" type=\"checkbox\" ><label class=\"sk-toggleable__label\" for=\"c631f0da-dcfb-435f-9c35-6a622c7a8016\">ordinalencoder</label><div class=\"sk-toggleable__content\"><pre>[1]</pre></div></div></div><div class=\"sk-serial\"><div class=\"sk-item\"><div class=\"sk-estimator sk-toggleable\"><input class=\"sk-toggleable__control sk-hidden--visually\" id=\"a86fbe62-e1fc-4e02-8f85-847beceb4c98\" type=\"checkbox\" ><label class=\"sk-toggleable__label\" for=\"a86fbe62-e1fc-4e02-8f85-847beceb4c98\">OrdinalEncoder</label><div class=\"sk-toggleable__content\"><pre>OrdinalEncoder()</pre></div></div></div></div></div></div></div></div><div class=\"sk-item\"><div class=\"sk-estimator sk-toggleable\"><input class=\"sk-toggleable__control sk-hidden--visually\" id=\"ba46e38c-4302-4d23-bb2b-eca777819751\" type=\"checkbox\" ><label class=\"sk-toggleable__label\" for=\"ba46e38c-4302-4d23-bb2b-eca777819751\">XGBClassifier</label><div class=\"sk-toggleable__content\"><pre>XGBClassifier(base_score=0.5, booster='gbtree', colsample_bylevel=1,\n",
       "              colsample_bynode=1, colsample_bytree=1, enable_categorical=False,\n",
       "              gamma=3, gpu_id=-1, importance_type=None,\n",
       "              interaction_constraints='', learning_rate=0.2, max_delta_step=0,\n",
       "              max_depth=6, min_child_weight=1, missing=nan,\n",
       "              monotone_constraints='()', n_estimators=100, n_jobs=4,\n",
       "              num_parallel_tree=1, predictor='auto', random_state=0,\n",
       "              reg_alpha=0, reg_lambda=1, scale_pos_weight=1, subsample=1,\n",
       "              tree_method='exact', validate_parameters=1, verbosity=None)</pre></div></div></div></div></div></div></div>"
      ],
      "text/plain": [
       "Pipeline(steps=[('columntransformer',\n",
       "                 ColumnTransformer(remainder='passthrough',\n",
       "                                   transformers=[('onehotencoder',\n",
       "                                                  OneHotEncoder(sparse=False),\n",
       "                                                  [2]),\n",
       "                                                 ('ordinalencoder',\n",
       "                                                  OrdinalEncoder(), [1])])),\n",
       "                ('xgbclassifier',\n",
       "                 XGBClassifier(base_score=0.5, booster='gbtree',\n",
       "                               colsample_bylevel=1, colsample_bynode=1,\n",
       "                               colsample_bytree=1, enable_categorical=False,\n",
       "                               gamma=3, gpu_id=-1, importance_type=None,\n",
       "                               interaction_constraints='', learning_rate=0.2,\n",
       "                               max_delta_step=0, max_depth=6,\n",
       "                               min_child_weight=1, missing=nan,\n",
       "                               monotone_constraints='()', n_estimators=100,\n",
       "                               n_jobs=4, num_parallel_tree=1, predictor='auto',\n",
       "                               random_state=0, reg_alpha=0, reg_lambda=1,\n",
       "                               scale_pos_weight=1, subsample=1,\n",
       "                               tree_method='exact', validate_parameters=1,\n",
       "                               verbosity=None))])"
      ]
     },
     "execution_count": 86,
     "metadata": {},
     "output_type": "execute_result"
    }
   ],
   "source": [
    "pipe_xgbc.fit(x_train,y_train)"
   ]
  },
  {
   "cell_type": "code",
   "execution_count": 87,
   "id": "0a8cd469",
   "metadata": {
    "execution": {
     "iopub.execute_input": "2023-01-25T05:23:53.283496Z",
     "iopub.status.busy": "2023-01-25T05:23:53.280935Z",
     "iopub.status.idle": "2023-01-25T05:23:53.299786Z",
     "shell.execute_reply": "2023-01-25T05:23:53.300347Z",
     "shell.execute_reply.started": "2022-01-31T12:37:24.909195Z"
    },
    "papermill": {
     "duration": 0.174707,
     "end_time": "2023-01-25T05:23:53.300561",
     "exception": false,
     "start_time": "2023-01-25T05:23:53.125854",
     "status": "completed"
    },
    "tags": []
   },
   "outputs": [
    {
     "data": {
      "text/plain": [
       "array([0, 0, 0, 0, 0, 0, 0, 0, 0, 0, 1, 0, 0, 0, 0, 0, 0, 0, 0, 0, 0, 0,\n",
       "       0, 0, 0, 0, 0, 0, 0, 0, 0, 0, 0, 0, 1, 0, 1, 0, 1, 0, 0, 0, 0, 0,\n",
       "       0, 1, 0, 0, 0, 0, 0, 0, 0, 0, 0, 0, 0, 0, 0, 1, 1, 0, 0, 1, 0, 0,\n",
       "       0, 0, 1, 0, 0, 0, 0, 0, 0, 0, 1, 0, 0, 0, 0, 0, 0, 0, 0, 0, 0, 0,\n",
       "       0, 0, 0, 0, 0, 0, 0, 0, 0, 0, 0, 0, 0, 0, 1, 0, 0, 0, 0, 0, 0, 0,\n",
       "       0, 0, 0, 1, 0, 0, 0, 0, 0, 0, 0, 0, 0, 0, 0, 0, 0, 0, 0, 0, 1, 0,\n",
       "       0, 0, 0, 0, 0, 0, 0, 0, 0, 0, 0, 0, 0, 0, 0, 1, 0, 0, 1, 1, 0, 0,\n",
       "       0, 0, 0, 0, 0, 0, 0, 0, 0, 1, 0, 0, 0, 1, 0, 0, 0, 0, 0, 0, 0, 0,\n",
       "       0, 0, 0, 0, 0, 0, 0, 0, 0, 0, 0, 0, 1, 0, 0, 0, 0, 1, 0, 0, 0, 0,\n",
       "       0, 0, 0, 1, 0, 0, 1, 0, 0, 0, 1, 1, 0, 0, 0, 0, 1, 0, 0, 0, 0, 0,\n",
       "       0, 0, 0, 1, 0, 0, 0, 1, 0, 1, 0, 0, 1, 0, 0, 0, 0, 0, 0, 0, 0, 0,\n",
       "       1, 0, 0, 0, 0, 0, 0, 0, 0, 0, 0, 0, 0, 0, 0, 0, 0, 0, 0, 0, 0, 0,\n",
       "       0, 0, 0, 0, 0, 0, 1, 0, 0, 0, 0, 0, 0, 0, 0, 1, 0, 0, 0, 0, 0, 0,\n",
       "       0, 0, 0, 0, 0, 0, 0, 1, 0, 0, 0, 0, 0, 0, 0, 0, 0, 0, 0, 0, 1, 0,\n",
       "       0, 0, 0, 0, 0, 0, 0, 0, 0, 0, 0, 0, 0, 0, 0, 0, 0, 0, 0, 0, 0, 0,\n",
       "       0, 0, 0, 1, 1, 0, 0, 0, 0, 0, 0, 0, 0, 0, 0, 0, 0, 0, 0, 1, 0, 0,\n",
       "       0, 0, 0, 0, 0, 0, 0, 0, 0, 0, 0, 0, 1, 0, 0, 0, 0, 0, 0, 0, 0, 1,\n",
       "       0, 1, 0, 0, 0, 0, 0, 0, 0, 0, 0, 0, 1, 0, 0, 0, 0, 0, 0, 0, 0, 0,\n",
       "       0, 1, 0, 0, 0, 0, 0, 0, 0, 0, 0, 0, 0, 0, 0, 0, 0, 0, 0, 1, 0, 0,\n",
       "       0, 0, 0, 0, 0, 0, 0, 0, 0, 0, 0, 0, 0, 0, 0, 0, 0, 1, 0, 0, 0, 0,\n",
       "       0, 0, 0, 0, 0, 0, 0, 0, 0, 0, 0, 0, 0, 0, 0, 0, 0, 0, 0, 1, 0, 0,\n",
       "       0, 0, 0, 0, 0, 1, 0, 0, 0, 0, 0, 0, 0, 0, 0, 0, 0, 0, 0, 0, 0, 0,\n",
       "       0, 0, 0, 0, 0, 0, 0, 0, 0, 0, 0, 0, 0, 0, 0, 0, 0, 0, 0, 0, 0, 0,\n",
       "       0, 0, 0, 0, 0, 1, 0, 0, 0, 0, 1, 0, 0, 0, 0, 0, 0, 0, 0, 0, 0, 0,\n",
       "       0, 0, 0, 0, 0, 0, 0, 0, 0, 0, 0, 0, 0, 0, 0, 1, 0, 0, 0, 1, 0, 0,\n",
       "       0, 0, 0, 0, 0, 0, 0, 0, 0, 1, 1, 0, 0, 1, 0, 0, 0, 0, 0, 0, 0, 0,\n",
       "       0, 0, 0, 0, 0, 0, 0, 0, 0, 0, 1, 0, 0, 0, 0, 0, 0, 0, 0, 0, 0, 0,\n",
       "       0, 0, 0, 0, 0, 1, 0, 0, 0, 0, 1, 0, 0, 0, 0, 0, 0, 0, 0, 0, 0, 1,\n",
       "       0, 0, 0, 0, 0, 0, 0, 0, 0, 0, 0, 0, 0, 0, 0, 0, 0, 0, 0, 0, 0, 0,\n",
       "       0, 1, 0, 0, 0, 0, 0, 0, 0, 0, 0, 1, 0, 0, 0, 0, 0, 0, 0, 0, 0, 0,\n",
       "       0, 0, 0, 0, 0, 0, 0, 0, 0, 0, 0, 0, 0, 0, 0, 0, 0, 0, 0, 0, 0, 0,\n",
       "       0, 0, 0, 0, 1, 0, 0, 0, 0, 1, 0, 0, 0, 1, 0, 0, 0, 0, 0, 0, 0, 0,\n",
       "       0, 0, 0, 0, 0, 0, 0, 0, 0, 0, 0, 0, 0, 0, 0, 0, 0, 0, 0, 0, 0, 0,\n",
       "       0, 0, 0, 0, 1, 0, 0, 0, 0, 0, 0, 0, 0, 1, 0, 0, 0, 0, 0, 0, 0, 0,\n",
       "       0, 0, 1, 0, 0, 0, 0, 1, 0, 0, 0, 0, 0, 0, 0, 0, 1, 0, 0, 1, 0, 0,\n",
       "       0, 0, 0, 0, 0, 0, 0, 0, 0, 0, 0, 0, 0, 0])"
      ]
     },
     "execution_count": 87,
     "metadata": {},
     "output_type": "execute_result"
    }
   ],
   "source": [
    "pred_xgbc=pipe_xgbc.predict(x_test)\n",
    "pred_xgbc"
   ]
  },
  {
   "cell_type": "code",
   "execution_count": 88,
   "id": "dc34acb6",
   "metadata": {
    "execution": {
     "iopub.execute_input": "2023-01-25T05:23:53.598026Z",
     "iopub.status.busy": "2023-01-25T05:23:53.596928Z",
     "iopub.status.idle": "2023-01-25T05:23:53.602778Z",
     "shell.execute_reply": "2023-01-25T05:23:53.603249Z",
     "shell.execute_reply.started": "2022-01-31T12:37:24.931844Z"
    },
    "papermill": {
     "duration": 0.155436,
     "end_time": "2023-01-25T05:23:53.603459",
     "exception": false,
     "start_time": "2023-01-25T05:23:53.448023",
     "status": "completed"
    },
    "tags": []
   },
   "outputs": [
    {
     "data": {
      "text/plain": [
       "89.03061224489795"
      ]
     },
     "execution_count": 88,
     "metadata": {},
     "output_type": "execute_result"
    }
   ],
   "source": [
    "accuracy_score(pred_xgbc,y_test)*100"
   ]
  },
  {
   "cell_type": "code",
   "execution_count": 89,
   "id": "6faf4d4a",
   "metadata": {
    "execution": {
     "iopub.execute_input": "2023-01-25T05:23:53.907056Z",
     "iopub.status.busy": "2023-01-25T05:23:53.906323Z",
     "iopub.status.idle": "2023-01-25T05:23:54.187149Z",
     "shell.execute_reply": "2023-01-25T05:23:54.186510Z",
     "shell.execute_reply.started": "2022-01-31T12:37:24.941808Z"
    },
    "papermill": {
     "duration": 0.434815,
     "end_time": "2023-01-25T05:23:54.187301",
     "exception": false,
     "start_time": "2023-01-25T05:23:53.752486",
     "status": "completed"
    },
    "tags": []
   },
   "outputs": [
    {
     "data": {
      "text/html": [
       "<style>div.sk-top-container {color: black;background-color: white;}div.sk-toggleable {background-color: white;}label.sk-toggleable__label {cursor: pointer;display: block;width: 100%;margin-bottom: 0;padding: 0.2em 0.3em;box-sizing: border-box;text-align: center;}div.sk-toggleable__content {max-height: 0;max-width: 0;overflow: hidden;text-align: left;background-color: #f0f8ff;}div.sk-toggleable__content pre {margin: 0.2em;color: black;border-radius: 0.25em;background-color: #f0f8ff;}input.sk-toggleable__control:checked~div.sk-toggleable__content {max-height: 200px;max-width: 100%;overflow: auto;}div.sk-estimator input.sk-toggleable__control:checked~label.sk-toggleable__label {background-color: #d4ebff;}div.sk-label input.sk-toggleable__control:checked~label.sk-toggleable__label {background-color: #d4ebff;}input.sk-hidden--visually {border: 0;clip: rect(1px 1px 1px 1px);clip: rect(1px, 1px, 1px, 1px);height: 1px;margin: -1px;overflow: hidden;padding: 0;position: absolute;width: 1px;}div.sk-estimator {font-family: monospace;background-color: #f0f8ff;margin: 0.25em 0.25em;border: 1px dotted black;border-radius: 0.25em;box-sizing: border-box;}div.sk-estimator:hover {background-color: #d4ebff;}div.sk-parallel-item::after {content: \"\";width: 100%;border-bottom: 1px solid gray;flex-grow: 1;}div.sk-label:hover label.sk-toggleable__label {background-color: #d4ebff;}div.sk-serial::before {content: \"\";position: absolute;border-left: 1px solid gray;box-sizing: border-box;top: 2em;bottom: 0;left: 50%;}div.sk-serial {display: flex;flex-direction: column;align-items: center;background-color: white;}div.sk-item {z-index: 1;}div.sk-parallel {display: flex;align-items: stretch;justify-content: center;background-color: white;}div.sk-parallel-item {display: flex;flex-direction: column;position: relative;background-color: white;}div.sk-parallel-item:first-child::after {align-self: flex-end;width: 50%;}div.sk-parallel-item:last-child::after {align-self: flex-start;width: 50%;}div.sk-parallel-item:only-child::after {width: 0;}div.sk-dashed-wrapped {border: 1px dashed gray;margin: 0.2em;box-sizing: border-box;padding-bottom: 0.1em;background-color: white;position: relative;}div.sk-label label {font-family: monospace;font-weight: bold;background-color: white;display: inline-block;line-height: 1.2em;}div.sk-label-container {position: relative;z-index: 2;text-align: center;}div.sk-container {display: inline-block;position: relative;}</style><div class=\"sk-top-container\"><div class=\"sk-container\"><div class=\"sk-item sk-dashed-wrapped\"><div class=\"sk-label-container\"><div class=\"sk-label sk-toggleable\"><input class=\"sk-toggleable__control sk-hidden--visually\" id=\"db027b02-8321-41e5-87bf-7e28335126fd\" type=\"checkbox\" ><label class=\"sk-toggleable__label\" for=\"db027b02-8321-41e5-87bf-7e28335126fd\">Pipeline</label><div class=\"sk-toggleable__content\"><pre>Pipeline(steps=[('columntransformer',\n",
       "                 ColumnTransformer(remainder='passthrough',\n",
       "                                   transformers=[('onehotencoder',\n",
       "                                                  OneHotEncoder(sparse=False),\n",
       "                                                  [2]),\n",
       "                                                 ('ordinalencoder',\n",
       "                                                  OrdinalEncoder(), [1])])),\n",
       "                ('randomizedsearchcv',\n",
       "                 RandomizedSearchCV(estimator=XGBClassifier(base_score=0.5,\n",
       "                                                            booster='gbtree',\n",
       "                                                            colsample_bylevel=1,\n",
       "                                                            colsample_bynode=1,\n",
       "                                                            colsample_bytree=1,\n",
       "                                                            enable_ca...\n",
       "                                                            max_delta_step=0,\n",
       "                                                            max_depth=6,\n",
       "                                                            min_child_weight=1,\n",
       "                                                            missing=nan,\n",
       "                                                            monotone_constraints='()',\n",
       "                                                            n_estimators=100,\n",
       "                                                            n_jobs=4,\n",
       "                                                            num_parallel_tree=1,\n",
       "                                                            predictor='auto',\n",
       "                                                            random_state=0,\n",
       "                                                            reg_alpha=0,\n",
       "                                                            reg_lambda=1,\n",
       "                                                            scale_pos_weight=1,\n",
       "                                                            subsample=1,\n",
       "                                                            tree_method='exact',\n",
       "                                                            validate_parameters=1,\n",
       "                                                            verbosity=None),\n",
       "                                    param_distributions={'gamma': [3, 6, 9, 12],\n",
       "                                                         'learning_rate': [0.2,\n",
       "                                                                           0.4,\n",
       "                                                                           0.6,\n",
       "                                                                           0.8]},\n",
       "                                    verbose=3))])</pre></div></div></div><div class=\"sk-serial\"><div class=\"sk-item sk-dashed-wrapped\"><div class=\"sk-label-container\"><div class=\"sk-label sk-toggleable\"><input class=\"sk-toggleable__control sk-hidden--visually\" id=\"9712968c-f9d4-4404-a090-407c848852f9\" type=\"checkbox\" ><label class=\"sk-toggleable__label\" for=\"9712968c-f9d4-4404-a090-407c848852f9\">columntransformer: ColumnTransformer</label><div class=\"sk-toggleable__content\"><pre>ColumnTransformer(remainder='passthrough',\n",
       "                  transformers=[('onehotencoder', OneHotEncoder(sparse=False),\n",
       "                                 [2]),\n",
       "                                ('ordinalencoder', OrdinalEncoder(), [1])])</pre></div></div></div><div class=\"sk-parallel\"><div class=\"sk-parallel-item\"><div class=\"sk-item\"><div class=\"sk-label-container\"><div class=\"sk-label sk-toggleable\"><input class=\"sk-toggleable__control sk-hidden--visually\" id=\"f0a17442-a520-4038-b726-779fe75e9dfd\" type=\"checkbox\" ><label class=\"sk-toggleable__label\" for=\"f0a17442-a520-4038-b726-779fe75e9dfd\">onehotencoder</label><div class=\"sk-toggleable__content\"><pre>[2]</pre></div></div></div><div class=\"sk-serial\"><div class=\"sk-item\"><div class=\"sk-estimator sk-toggleable\"><input class=\"sk-toggleable__control sk-hidden--visually\" id=\"ba371fb2-db4c-4cec-8e9f-96385f472891\" type=\"checkbox\" ><label class=\"sk-toggleable__label\" for=\"ba371fb2-db4c-4cec-8e9f-96385f472891\">OneHotEncoder</label><div class=\"sk-toggleable__content\"><pre>OneHotEncoder(sparse=False)</pre></div></div></div></div></div></div><div class=\"sk-parallel-item\"><div class=\"sk-item\"><div class=\"sk-label-container\"><div class=\"sk-label sk-toggleable\"><input class=\"sk-toggleable__control sk-hidden--visually\" id=\"dbe5e5bd-b7ed-4207-bce0-b0a7e666cdfd\" type=\"checkbox\" ><label class=\"sk-toggleable__label\" for=\"dbe5e5bd-b7ed-4207-bce0-b0a7e666cdfd\">ordinalencoder</label><div class=\"sk-toggleable__content\"><pre>[1]</pre></div></div></div><div class=\"sk-serial\"><div class=\"sk-item\"><div class=\"sk-estimator sk-toggleable\"><input class=\"sk-toggleable__control sk-hidden--visually\" id=\"08e4d560-7c4a-4d2f-b35e-6af993857f4a\" type=\"checkbox\" ><label class=\"sk-toggleable__label\" for=\"08e4d560-7c4a-4d2f-b35e-6af993857f4a\">OrdinalEncoder</label><div class=\"sk-toggleable__content\"><pre>OrdinalEncoder()</pre></div></div></div></div></div></div></div></div><div class=\"sk-item sk-dashed-wrapped\"><div class=\"sk-label-container\"><div class=\"sk-label sk-toggleable\"><input class=\"sk-toggleable__control sk-hidden--visually\" id=\"6e2574ae-0102-4a95-b109-2f683dc29ebc\" type=\"checkbox\" ><label class=\"sk-toggleable__label\" for=\"6e2574ae-0102-4a95-b109-2f683dc29ebc\">randomizedsearchcv: RandomizedSearchCV</label><div class=\"sk-toggleable__content\"><pre>RandomizedSearchCV(estimator=XGBClassifier(base_score=0.5, booster='gbtree',\n",
       "                                           colsample_bylevel=1,\n",
       "                                           colsample_bynode=1,\n",
       "                                           colsample_bytree=1,\n",
       "                                           enable_categorical=False, gamma=3,\n",
       "                                           gpu_id=-1, importance_type=None,\n",
       "                                           interaction_constraints='',\n",
       "                                           learning_rate=0.2, max_delta_step=0,\n",
       "                                           max_depth=6, min_child_weight=1,\n",
       "                                           missing=nan,\n",
       "                                           monotone_constraints='()',\n",
       "                                           n_estimators=100, n_jobs=4,\n",
       "                                           num_parallel_tree=1,\n",
       "                                           predictor='auto', random_state=0,\n",
       "                                           reg_alpha=0, reg_lambda=1,\n",
       "                                           scale_pos_weight=1, subsample=1,\n",
       "                                           tree_method='exact',\n",
       "                                           validate_parameters=1,\n",
       "                                           verbosity=None),\n",
       "                   param_distributions={'gamma': [3, 6, 9, 12],\n",
       "                                        'learning_rate': [0.2, 0.4, 0.6, 0.8]},\n",
       "                   verbose=3)</pre></div></div></div><div class=\"sk-parallel\"><div class=\"sk-parallel-item\"><div class=\"sk-item\"><div class=\"sk-serial\"><div class=\"sk-item\"><div class=\"sk-estimator sk-toggleable\"><input class=\"sk-toggleable__control sk-hidden--visually\" id=\"47a10dc2-bba3-46f9-a13c-25f1c1d477f4\" type=\"checkbox\" ><label class=\"sk-toggleable__label\" for=\"47a10dc2-bba3-46f9-a13c-25f1c1d477f4\">XGBClassifier</label><div class=\"sk-toggleable__content\"><pre>XGBClassifier(base_score=0.5, booster='gbtree', colsample_bylevel=1,\n",
       "              colsample_bynode=1, colsample_bytree=1, enable_categorical=False,\n",
       "              gamma=3, gpu_id=-1, importance_type=None,\n",
       "              interaction_constraints='', learning_rate=0.2, max_delta_step=0,\n",
       "              max_depth=6, min_child_weight=1, missing=nan,\n",
       "              monotone_constraints='()', n_estimators=100, n_jobs=4,\n",
       "              num_parallel_tree=1, predictor='auto', random_state=0,\n",
       "              reg_alpha=0, reg_lambda=1, scale_pos_weight=1, subsample=1,\n",
       "              tree_method='exact', validate_parameters=1, verbosity=None)</pre></div></div></div></div></div></div></div></div></div></div></div></div>"
      ],
      "text/plain": [
       "Pipeline(steps=[('columntransformer',\n",
       "                 ColumnTransformer(remainder='passthrough',\n",
       "                                   transformers=[('onehotencoder',\n",
       "                                                  OneHotEncoder(sparse=False),\n",
       "                                                  [2]),\n",
       "                                                 ('ordinalencoder',\n",
       "                                                  OrdinalEncoder(), [1])])),\n",
       "                ('randomizedsearchcv',\n",
       "                 RandomizedSearchCV(estimator=XGBClassifier(base_score=0.5,\n",
       "                                                            booster='gbtree',\n",
       "                                                            colsample_bylevel=1,\n",
       "                                                            colsample_bynode=1,\n",
       "                                                            colsample_bytree=1,\n",
       "                                                            enable_ca...\n",
       "                                                            max_delta_step=0,\n",
       "                                                            max_depth=6,\n",
       "                                                            min_child_weight=1,\n",
       "                                                            missing=nan,\n",
       "                                                            monotone_constraints='()',\n",
       "                                                            n_estimators=100,\n",
       "                                                            n_jobs=4,\n",
       "                                                            num_parallel_tree=1,\n",
       "                                                            predictor='auto',\n",
       "                                                            random_state=0,\n",
       "                                                            reg_alpha=0,\n",
       "                                                            reg_lambda=1,\n",
       "                                                            scale_pos_weight=1,\n",
       "                                                            subsample=1,\n",
       "                                                            tree_method='exact',\n",
       "                                                            validate_parameters=1,\n",
       "                                                            verbosity=None),\n",
       "                                    param_distributions={'gamma': [3, 6, 9, 12],\n",
       "                                                         'learning_rate': [0.2,\n",
       "                                                                           0.4,\n",
       "                                                                           0.6,\n",
       "                                                                           0.8]},\n",
       "                                    verbose=3))])"
      ]
     },
     "execution_count": 89,
     "metadata": {},
     "output_type": "execute_result"
    }
   ],
   "source": [
    "from sklearn.model_selection import RandomizedSearchCV\n",
    "params_xgbc={'gamma':[3,6,9,12],'learning_rate':[0.2,0.4,0.6,0.8]}\n",
    "pipe_xgbc=make_pipeline(trans,RandomizedSearchCV(xgbc,params_xgbc,verbose=3,refit=True))\n",
    "pipe_xgbc"
   ]
  },
  {
   "cell_type": "code",
   "execution_count": 90,
   "id": "9d5ee29a",
   "metadata": {
    "execution": {
     "iopub.execute_input": "2023-01-25T05:23:54.486089Z",
     "iopub.status.busy": "2023-01-25T05:23:54.485286Z",
     "iopub.status.idle": "2023-01-25T05:24:24.477521Z",
     "shell.execute_reply": "2023-01-25T05:24:24.478053Z",
     "shell.execute_reply.started": "2022-01-31T12:37:25.221395Z"
    },
    "papermill": {
     "duration": 30.141508,
     "end_time": "2023-01-25T05:24:24.478239",
     "exception": false,
     "start_time": "2023-01-25T05:23:54.336731",
     "status": "completed"
    },
    "tags": []
   },
   "outputs": [
    {
     "name": "stdout",
     "output_type": "stream",
     "text": [
      "Fitting 5 folds for each of 10 candidates, totalling 50 fits\n",
      "[CV] learning_rate=0.6, gamma=6 ......................................\n",
      "[05:23:54] WARNING: ../src/learner.cc:1115: Starting in XGBoost 1.3.0, the default evaluation metric used with the objective 'binary:logistic' was changed from 'error' to 'logloss'. Explicitly set eval_metric if you'd like to restore the old behavior.\n"
     ]
    },
    {
     "name": "stderr",
     "output_type": "stream",
     "text": [
      "[Parallel(n_jobs=1)]: Using backend SequentialBackend with 1 concurrent workers.\n",
      "/opt/conda/lib/python3.7/site-packages/xgboost/sklearn.py:1224: UserWarning: The use of label encoder in XGBClassifier is deprecated and will be removed in a future release. To remove this warning, do the following: 1) Pass option use_label_encoder=False when constructing XGBClassifier object; and 2) Encode your labels (y) as integers starting with 0, i.e. 0, 1, 2, ..., [num_class - 1].\n",
      "  warnings.warn(label_encoder_deprecation_msg, UserWarning)\n"
     ]
    },
    {
     "name": "stdout",
     "output_type": "stream",
     "text": [
      "[CV] .......... learning_rate=0.6, gamma=6, score=0.849, total=   0.6s\n",
      "[CV] learning_rate=0.6, gamma=6 ......................................\n",
      "[05:23:55] WARNING: ../src/learner.cc:1115: Starting in XGBoost 1.3.0, the default evaluation metric used with the objective 'binary:logistic' was changed from 'error' to 'logloss'. Explicitly set eval_metric if you'd like to restore the old behavior.\n"
     ]
    },
    {
     "name": "stderr",
     "output_type": "stream",
     "text": [
      "[Parallel(n_jobs=1)]: Done   1 out of   1 | elapsed:    0.6s remaining:    0.0s\n"
     ]
    },
    {
     "name": "stdout",
     "output_type": "stream",
     "text": [
      "[CV] .......... learning_rate=0.6, gamma=6, score=0.876, total=   0.6s\n",
      "[CV] learning_rate=0.6, gamma=6 ......................................\n",
      "[05:23:55] WARNING: ../src/learner.cc:1115: Starting in XGBoost 1.3.0, the default evaluation metric used with the objective 'binary:logistic' was changed from 'error' to 'logloss'. Explicitly set eval_metric if you'd like to restore the old behavior.\n"
     ]
    },
    {
     "name": "stderr",
     "output_type": "stream",
     "text": [
      "[Parallel(n_jobs=1)]: Done   2 out of   2 | elapsed:    1.2s remaining:    0.0s\n"
     ]
    },
    {
     "name": "stdout",
     "output_type": "stream",
     "text": [
      "[CV] .......... learning_rate=0.6, gamma=6, score=0.859, total=   0.6s\n",
      "[CV] learning_rate=0.6, gamma=6 ......................................\n",
      "[05:23:56] WARNING: ../src/learner.cc:1115: Starting in XGBoost 1.3.0, the default evaluation metric used with the objective 'binary:logistic' was changed from 'error' to 'logloss'. Explicitly set eval_metric if you'd like to restore the old behavior.\n",
      "[CV] .......... learning_rate=0.6, gamma=6, score=0.866, total=   0.6s\n",
      "[CV] learning_rate=0.6, gamma=6 ......................................\n",
      "[05:23:56] WARNING: ../src/learner.cc:1115: Starting in XGBoost 1.3.0, the default evaluation metric used with the objective 'binary:logistic' was changed from 'error' to 'logloss'. Explicitly set eval_metric if you'd like to restore the old behavior.\n",
      "[CV] .......... learning_rate=0.6, gamma=6, score=0.900, total=   0.6s\n",
      "[CV] learning_rate=0.6, gamma=3 ......................................\n",
      "[05:23:57] WARNING: ../src/learner.cc:1115: Starting in XGBoost 1.3.0, the default evaluation metric used with the objective 'binary:logistic' was changed from 'error' to 'logloss'. Explicitly set eval_metric if you'd like to restore the old behavior.\n",
      "[CV] .......... learning_rate=0.6, gamma=3, score=0.849, total=   0.5s\n",
      "[CV] learning_rate=0.6, gamma=3 ......................................\n",
      "[05:23:58] WARNING: ../src/learner.cc:1115: Starting in XGBoost 1.3.0, the default evaluation metric used with the objective 'binary:logistic' was changed from 'error' to 'logloss'. Explicitly set eval_metric if you'd like to restore the old behavior.\n",
      "[CV] .......... learning_rate=0.6, gamma=3, score=0.876, total=   0.5s\n",
      "[CV] learning_rate=0.6, gamma=3 ......................................\n",
      "[05:23:58] WARNING: ../src/learner.cc:1115: Starting in XGBoost 1.3.0, the default evaluation metric used with the objective 'binary:logistic' was changed from 'error' to 'logloss'. Explicitly set eval_metric if you'd like to restore the old behavior.\n",
      "[CV] .......... learning_rate=0.6, gamma=3, score=0.880, total=   0.5s\n",
      "[CV] learning_rate=0.6, gamma=3 ......................................\n",
      "[05:23:59] WARNING: ../src/learner.cc:1115: Starting in XGBoost 1.3.0, the default evaluation metric used with the objective 'binary:logistic' was changed from 'error' to 'logloss'. Explicitly set eval_metric if you'd like to restore the old behavior.\n",
      "[CV] .......... learning_rate=0.6, gamma=3, score=0.863, total=   0.5s\n",
      "[CV] learning_rate=0.6, gamma=3 ......................................\n",
      "[05:23:59] WARNING: ../src/learner.cc:1115: Starting in XGBoost 1.3.0, the default evaluation metric used with the objective 'binary:logistic' was changed from 'error' to 'logloss'. Explicitly set eval_metric if you'd like to restore the old behavior.\n",
      "[CV] .......... learning_rate=0.6, gamma=3, score=0.883, total=   0.5s\n",
      "[CV] learning_rate=0.4, gamma=3 ......................................\n",
      "[05:24:00] WARNING: ../src/learner.cc:1115: Starting in XGBoost 1.3.0, the default evaluation metric used with the objective 'binary:logistic' was changed from 'error' to 'logloss'. Explicitly set eval_metric if you'd like to restore the old behavior.\n",
      "[CV] .......... learning_rate=0.4, gamma=3, score=0.866, total=   0.5s\n",
      "[CV] learning_rate=0.4, gamma=3 ......................................\n",
      "[05:24:00] WARNING: ../src/learner.cc:1115: Starting in XGBoost 1.3.0, the default evaluation metric used with the objective 'binary:logistic' was changed from 'error' to 'logloss'. Explicitly set eval_metric if you'd like to restore the old behavior.\n",
      "[CV] .......... learning_rate=0.4, gamma=3, score=0.887, total=   0.6s\n",
      "[CV] learning_rate=0.4, gamma=3 ......................................\n",
      "[05:24:01] WARNING: ../src/learner.cc:1115: Starting in XGBoost 1.3.0, the default evaluation metric used with the objective 'binary:logistic' was changed from 'error' to 'logloss'. Explicitly set eval_metric if you'd like to restore the old behavior.\n",
      "[CV] .......... learning_rate=0.4, gamma=3, score=0.866, total=   0.5s\n",
      "[CV] learning_rate=0.4, gamma=3 ......................................\n",
      "[05:24:01] WARNING: ../src/learner.cc:1115: Starting in XGBoost 1.3.0, the default evaluation metric used with the objective 'binary:logistic' was changed from 'error' to 'logloss'. Explicitly set eval_metric if you'd like to restore the old behavior.\n",
      "[CV] .......... learning_rate=0.4, gamma=3, score=0.856, total=   0.5s\n",
      "[CV] learning_rate=0.4, gamma=3 ......................................\n",
      "[05:24:02] WARNING: ../src/learner.cc:1115: Starting in XGBoost 1.3.0, the default evaluation metric used with the objective 'binary:logistic' was changed from 'error' to 'logloss'. Explicitly set eval_metric if you'd like to restore the old behavior.\n",
      "[CV] .......... learning_rate=0.4, gamma=3, score=0.904, total=   0.5s\n",
      "[CV] learning_rate=0.2, gamma=6 ......................................\n",
      "[05:24:02] WARNING: ../src/learner.cc:1115: Starting in XGBoost 1.3.0, the default evaluation metric used with the objective 'binary:logistic' was changed from 'error' to 'logloss'. Explicitly set eval_metric if you'd like to restore the old behavior.\n",
      "[CV] .......... learning_rate=0.2, gamma=6, score=0.856, total=   0.5s\n",
      "[CV] learning_rate=0.2, gamma=6 ......................................\n",
      "[05:24:03] WARNING: ../src/learner.cc:1115: Starting in XGBoost 1.3.0, the default evaluation metric used with the objective 'binary:logistic' was changed from 'error' to 'logloss'. Explicitly set eval_metric if you'd like to restore the old behavior.\n",
      "[CV] .......... learning_rate=0.2, gamma=6, score=0.887, total=   0.6s\n",
      "[CV] learning_rate=0.2, gamma=6 ......................................\n",
      "[05:24:04] WARNING: ../src/learner.cc:1115: Starting in XGBoost 1.3.0, the default evaluation metric used with the objective 'binary:logistic' was changed from 'error' to 'logloss'. Explicitly set eval_metric if you'd like to restore the old behavior.\n",
      "[CV] .......... learning_rate=0.2, gamma=6, score=0.876, total=   0.5s\n",
      "[CV] learning_rate=0.2, gamma=6 ......................................\n",
      "[05:24:04] WARNING: ../src/learner.cc:1115: Starting in XGBoost 1.3.0, the default evaluation metric used with the objective 'binary:logistic' was changed from 'error' to 'logloss'. Explicitly set eval_metric if you'd like to restore the old behavior.\n",
      "[CV] .......... learning_rate=0.2, gamma=6, score=0.856, total=   0.5s\n",
      "[CV] learning_rate=0.2, gamma=6 ......................................\n",
      "[05:24:05] WARNING: ../src/learner.cc:1115: Starting in XGBoost 1.3.0, the default evaluation metric used with the objective 'binary:logistic' was changed from 'error' to 'logloss'. Explicitly set eval_metric if you'd like to restore the old behavior.\n",
      "[CV] .......... learning_rate=0.2, gamma=6, score=0.890, total=   0.5s\n",
      "[CV] learning_rate=0.8, gamma=12 .....................................\n",
      "[05:24:05] WARNING: ../src/learner.cc:1115: Starting in XGBoost 1.3.0, the default evaluation metric used with the objective 'binary:logistic' was changed from 'error' to 'logloss'. Explicitly set eval_metric if you'd like to restore the old behavior.\n",
      "[CV] ......... learning_rate=0.8, gamma=12, score=0.842, total=   0.5s\n",
      "[CV] learning_rate=0.8, gamma=12 .....................................\n",
      "[05:24:06] WARNING: ../src/learner.cc:1115: Starting in XGBoost 1.3.0, the default evaluation metric used with the objective 'binary:logistic' was changed from 'error' to 'logloss'. Explicitly set eval_metric if you'd like to restore the old behavior.\n",
      "[CV] ......... learning_rate=0.8, gamma=12, score=0.863, total=   0.5s\n",
      "[CV] learning_rate=0.8, gamma=12 .....................................\n",
      "[05:24:06] WARNING: ../src/learner.cc:1115: Starting in XGBoost 1.3.0, the default evaluation metric used with the objective 'binary:logistic' was changed from 'error' to 'logloss'. Explicitly set eval_metric if you'd like to restore the old behavior.\n",
      "[CV] ......... learning_rate=0.8, gamma=12, score=0.832, total=   0.6s\n",
      "[CV] learning_rate=0.8, gamma=12 .....................................\n",
      "[05:24:07] WARNING: ../src/learner.cc:1115: Starting in XGBoost 1.3.0, the default evaluation metric used with the objective 'binary:logistic' was changed from 'error' to 'logloss'. Explicitly set eval_metric if you'd like to restore the old behavior.\n",
      "[CV] ......... learning_rate=0.8, gamma=12, score=0.845, total=   0.5s\n",
      "[CV] learning_rate=0.8, gamma=12 .....................................\n",
      "[05:24:07] WARNING: ../src/learner.cc:1115: Starting in XGBoost 1.3.0, the default evaluation metric used with the objective 'binary:logistic' was changed from 'error' to 'logloss'. Explicitly set eval_metric if you'd like to restore the old behavior.\n",
      "[CV] ......... learning_rate=0.8, gamma=12, score=0.890, total=   0.5s\n",
      "[CV] learning_rate=0.4, gamma=12 .....................................\n",
      "[05:24:08] WARNING: ../src/learner.cc:1115: Starting in XGBoost 1.3.0, the default evaluation metric used with the objective 'binary:logistic' was changed from 'error' to 'logloss'. Explicitly set eval_metric if you'd like to restore the old behavior.\n",
      "[CV] ......... learning_rate=0.4, gamma=12, score=0.860, total=   0.5s\n",
      "[CV] learning_rate=0.4, gamma=12 .....................................\n",
      "[05:24:08] WARNING: ../src/learner.cc:1115: Starting in XGBoost 1.3.0, the default evaluation metric used with the objective 'binary:logistic' was changed from 'error' to 'logloss'. Explicitly set eval_metric if you'd like to restore the old behavior.\n",
      "[CV] ......... learning_rate=0.4, gamma=12, score=0.863, total=   0.5s\n",
      "[CV] learning_rate=0.4, gamma=12 .....................................\n",
      "[05:24:09] WARNING: ../src/learner.cc:1115: Starting in XGBoost 1.3.0, the default evaluation metric used with the objective 'binary:logistic' was changed from 'error' to 'logloss'. Explicitly set eval_metric if you'd like to restore the old behavior.\n",
      "[CV] ......... learning_rate=0.4, gamma=12, score=0.869, total=   0.6s\n",
      "[CV] learning_rate=0.4, gamma=12 .....................................\n",
      "[05:24:10] WARNING: ../src/learner.cc:1115: Starting in XGBoost 1.3.0, the default evaluation metric used with the objective 'binary:logistic' was changed from 'error' to 'logloss'. Explicitly set eval_metric if you'd like to restore the old behavior.\n",
      "[CV] ......... learning_rate=0.4, gamma=12, score=0.863, total=   0.5s\n",
      "[CV] learning_rate=0.4, gamma=12 .....................................\n",
      "[05:24:10] WARNING: ../src/learner.cc:1115: Starting in XGBoost 1.3.0, the default evaluation metric used with the objective 'binary:logistic' was changed from 'error' to 'logloss'. Explicitly set eval_metric if you'd like to restore the old behavior.\n",
      "[CV] ......... learning_rate=0.4, gamma=12, score=0.876, total=   0.5s\n",
      "[CV] learning_rate=0.2, gamma=12 .....................................\n",
      "[05:24:11] WARNING: ../src/learner.cc:1115: Starting in XGBoost 1.3.0, the default evaluation metric used with the objective 'binary:logistic' was changed from 'error' to 'logloss'. Explicitly set eval_metric if you'd like to restore the old behavior.\n",
      "[CV] ......... learning_rate=0.2, gamma=12, score=0.860, total=   0.5s\n",
      "[CV] learning_rate=0.2, gamma=12 .....................................\n",
      "[05:24:11] WARNING: ../src/learner.cc:1115: Starting in XGBoost 1.3.0, the default evaluation metric used with the objective 'binary:logistic' was changed from 'error' to 'logloss'. Explicitly set eval_metric if you'd like to restore the old behavior.\n",
      "[CV] ......... learning_rate=0.2, gamma=12, score=0.869, total=   0.6s\n",
      "[CV] learning_rate=0.2, gamma=12 .....................................\n",
      "[05:24:12] WARNING: ../src/learner.cc:1115: Starting in XGBoost 1.3.0, the default evaluation metric used with the objective 'binary:logistic' was changed from 'error' to 'logloss'. Explicitly set eval_metric if you'd like to restore the old behavior.\n",
      "[CV] ......... learning_rate=0.2, gamma=12, score=0.849, total=   0.6s\n",
      "[CV] learning_rate=0.2, gamma=12 .....................................\n",
      "[05:24:12] WARNING: ../src/learner.cc:1115: Starting in XGBoost 1.3.0, the default evaluation metric used with the objective 'binary:logistic' was changed from 'error' to 'logloss'. Explicitly set eval_metric if you'd like to restore the old behavior.\n",
      "[CV] ......... learning_rate=0.2, gamma=12, score=0.863, total=   0.6s\n",
      "[CV] learning_rate=0.2, gamma=12 .....................................\n",
      "[05:24:13] WARNING: ../src/learner.cc:1115: Starting in XGBoost 1.3.0, the default evaluation metric used with the objective 'binary:logistic' was changed from 'error' to 'logloss'. Explicitly set eval_metric if you'd like to restore the old behavior.\n",
      "[CV] ......... learning_rate=0.2, gamma=12, score=0.856, total=   0.6s\n",
      "[CV] learning_rate=0.4, gamma=6 ......................................\n",
      "[05:24:13] WARNING: ../src/learner.cc:1115: Starting in XGBoost 1.3.0, the default evaluation metric used with the objective 'binary:logistic' was changed from 'error' to 'logloss'. Explicitly set eval_metric if you'd like to restore the old behavior.\n",
      "[CV] .......... learning_rate=0.4, gamma=6, score=0.870, total=   0.6s\n",
      "[CV] learning_rate=0.4, gamma=6 ......................................\n",
      "[05:24:14] WARNING: ../src/learner.cc:1115: Starting in XGBoost 1.3.0, the default evaluation metric used with the objective 'binary:logistic' was changed from 'error' to 'logloss'. Explicitly set eval_metric if you'd like to restore the old behavior.\n",
      "[CV] .......... learning_rate=0.4, gamma=6, score=0.883, total=   0.6s\n",
      "[CV] learning_rate=0.4, gamma=6 ......................................\n",
      "[05:24:15] WARNING: ../src/learner.cc:1115: Starting in XGBoost 1.3.0, the default evaluation metric used with the objective 'binary:logistic' was changed from 'error' to 'logloss'. Explicitly set eval_metric if you'd like to restore the old behavior.\n",
      "[CV] .......... learning_rate=0.4, gamma=6, score=0.863, total=   0.6s\n",
      "[CV] learning_rate=0.4, gamma=6 ......................................\n",
      "[05:24:15] WARNING: ../src/learner.cc:1115: Starting in XGBoost 1.3.0, the default evaluation metric used with the objective 'binary:logistic' was changed from 'error' to 'logloss'. Explicitly set eval_metric if you'd like to restore the old behavior.\n",
      "[CV] .......... learning_rate=0.4, gamma=6, score=0.866, total=   1.5s\n",
      "[CV] learning_rate=0.4, gamma=6 ......................................\n",
      "[05:24:17] WARNING: ../src/learner.cc:1115: Starting in XGBoost 1.3.0, the default evaluation metric used with the objective 'binary:logistic' was changed from 'error' to 'logloss'. Explicitly set eval_metric if you'd like to restore the old behavior.\n",
      "[CV] .......... learning_rate=0.4, gamma=6, score=0.900, total=   0.6s\n",
      "[CV] learning_rate=0.4, gamma=9 ......................................\n",
      "[05:24:17] WARNING: ../src/learner.cc:1115: Starting in XGBoost 1.3.0, the default evaluation metric used with the objective 'binary:logistic' was changed from 'error' to 'logloss'. Explicitly set eval_metric if you'd like to restore the old behavior.\n",
      "[CV] .......... learning_rate=0.4, gamma=9, score=0.877, total=   0.6s\n",
      "[CV] learning_rate=0.4, gamma=9 ......................................\n",
      "[05:24:18] WARNING: ../src/learner.cc:1115: Starting in XGBoost 1.3.0, the default evaluation metric used with the objective 'binary:logistic' was changed from 'error' to 'logloss'. Explicitly set eval_metric if you'd like to restore the old behavior.\n",
      "[CV] .......... learning_rate=0.4, gamma=9, score=0.863, total=   0.6s\n",
      "[CV] learning_rate=0.4, gamma=9 ......................................\n",
      "[05:24:19] WARNING: ../src/learner.cc:1115: Starting in XGBoost 1.3.0, the default evaluation metric used with the objective 'binary:logistic' was changed from 'error' to 'logloss'. Explicitly set eval_metric if you'd like to restore the old behavior.\n",
      "[CV] .......... learning_rate=0.4, gamma=9, score=0.852, total=   0.6s\n",
      "[CV] learning_rate=0.4, gamma=9 ......................................\n",
      "[05:24:19] WARNING: ../src/learner.cc:1115: Starting in XGBoost 1.3.0, the default evaluation metric used with the objective 'binary:logistic' was changed from 'error' to 'logloss'. Explicitly set eval_metric if you'd like to restore the old behavior.\n",
      "[CV] .......... learning_rate=0.4, gamma=9, score=0.866, total=   0.6s\n",
      "[CV] learning_rate=0.4, gamma=9 ......................................\n",
      "[05:24:20] WARNING: ../src/learner.cc:1115: Starting in XGBoost 1.3.0, the default evaluation metric used with the objective 'binary:logistic' was changed from 'error' to 'logloss'. Explicitly set eval_metric if you'd like to restore the old behavior.\n",
      "[CV] .......... learning_rate=0.4, gamma=9, score=0.873, total=   0.6s\n",
      "[CV] learning_rate=0.8, gamma=6 ......................................\n",
      "[05:24:20] WARNING: ../src/learner.cc:1115: Starting in XGBoost 1.3.0, the default evaluation metric used with the objective 'binary:logistic' was changed from 'error' to 'logloss'. Explicitly set eval_metric if you'd like to restore the old behavior.\n",
      "[CV] .......... learning_rate=0.8, gamma=6, score=0.856, total=   0.6s\n",
      "[CV] learning_rate=0.8, gamma=6 ......................................\n",
      "[05:24:21] WARNING: ../src/learner.cc:1115: Starting in XGBoost 1.3.0, the default evaluation metric used with the objective 'binary:logistic' was changed from 'error' to 'logloss'. Explicitly set eval_metric if you'd like to restore the old behavior.\n",
      "[CV] .......... learning_rate=0.8, gamma=6, score=0.873, total=   0.6s\n",
      "[CV] learning_rate=0.8, gamma=6 ......................................\n",
      "[05:24:21] WARNING: ../src/learner.cc:1115: Starting in XGBoost 1.3.0, the default evaluation metric used with the objective 'binary:logistic' was changed from 'error' to 'logloss'. Explicitly set eval_metric if you'd like to restore the old behavior.\n",
      "[CV] .......... learning_rate=0.8, gamma=6, score=0.869, total=   0.6s\n",
      "[CV] learning_rate=0.8, gamma=6 ......................................\n",
      "[05:24:22] WARNING: ../src/learner.cc:1115: Starting in XGBoost 1.3.0, the default evaluation metric used with the objective 'binary:logistic' was changed from 'error' to 'logloss'. Explicitly set eval_metric if you'd like to restore the old behavior.\n",
      "[CV] .......... learning_rate=0.8, gamma=6, score=0.866, total=   0.5s\n",
      "[CV] learning_rate=0.8, gamma=6 ......................................\n",
      "[05:24:23] WARNING: ../src/learner.cc:1115: Starting in XGBoost 1.3.0, the default evaluation metric used with the objective 'binary:logistic' was changed from 'error' to 'logloss'. Explicitly set eval_metric if you'd like to restore the old behavior.\n",
      "[CV] .......... learning_rate=0.8, gamma=6, score=0.900, total=   0.5s\n",
      "[05:24:23] WARNING: ../src/learner.cc:1115: Starting in XGBoost 1.3.0, the default evaluation metric used with the objective 'binary:logistic' was changed from 'error' to 'logloss'. Explicitly set eval_metric if you'd like to restore the old behavior.\n"
     ]
    },
    {
     "name": "stderr",
     "output_type": "stream",
     "text": [
      "[Parallel(n_jobs=1)]: Done  50 out of  50 | elapsed:   29.2s finished\n"
     ]
    },
    {
     "data": {
      "text/html": [
       "<style>div.sk-top-container {color: black;background-color: white;}div.sk-toggleable {background-color: white;}label.sk-toggleable__label {cursor: pointer;display: block;width: 100%;margin-bottom: 0;padding: 0.2em 0.3em;box-sizing: border-box;text-align: center;}div.sk-toggleable__content {max-height: 0;max-width: 0;overflow: hidden;text-align: left;background-color: #f0f8ff;}div.sk-toggleable__content pre {margin: 0.2em;color: black;border-radius: 0.25em;background-color: #f0f8ff;}input.sk-toggleable__control:checked~div.sk-toggleable__content {max-height: 200px;max-width: 100%;overflow: auto;}div.sk-estimator input.sk-toggleable__control:checked~label.sk-toggleable__label {background-color: #d4ebff;}div.sk-label input.sk-toggleable__control:checked~label.sk-toggleable__label {background-color: #d4ebff;}input.sk-hidden--visually {border: 0;clip: rect(1px 1px 1px 1px);clip: rect(1px, 1px, 1px, 1px);height: 1px;margin: -1px;overflow: hidden;padding: 0;position: absolute;width: 1px;}div.sk-estimator {font-family: monospace;background-color: #f0f8ff;margin: 0.25em 0.25em;border: 1px dotted black;border-radius: 0.25em;box-sizing: border-box;}div.sk-estimator:hover {background-color: #d4ebff;}div.sk-parallel-item::after {content: \"\";width: 100%;border-bottom: 1px solid gray;flex-grow: 1;}div.sk-label:hover label.sk-toggleable__label {background-color: #d4ebff;}div.sk-serial::before {content: \"\";position: absolute;border-left: 1px solid gray;box-sizing: border-box;top: 2em;bottom: 0;left: 50%;}div.sk-serial {display: flex;flex-direction: column;align-items: center;background-color: white;}div.sk-item {z-index: 1;}div.sk-parallel {display: flex;align-items: stretch;justify-content: center;background-color: white;}div.sk-parallel-item {display: flex;flex-direction: column;position: relative;background-color: white;}div.sk-parallel-item:first-child::after {align-self: flex-end;width: 50%;}div.sk-parallel-item:last-child::after {align-self: flex-start;width: 50%;}div.sk-parallel-item:only-child::after {width: 0;}div.sk-dashed-wrapped {border: 1px dashed gray;margin: 0.2em;box-sizing: border-box;padding-bottom: 0.1em;background-color: white;position: relative;}div.sk-label label {font-family: monospace;font-weight: bold;background-color: white;display: inline-block;line-height: 1.2em;}div.sk-label-container {position: relative;z-index: 2;text-align: center;}div.sk-container {display: inline-block;position: relative;}</style><div class=\"sk-top-container\"><div class=\"sk-container\"><div class=\"sk-item sk-dashed-wrapped\"><div class=\"sk-label-container\"><div class=\"sk-label sk-toggleable\"><input class=\"sk-toggleable__control sk-hidden--visually\" id=\"56db1700-1488-4edc-8d50-84f6de9c659a\" type=\"checkbox\" ><label class=\"sk-toggleable__label\" for=\"56db1700-1488-4edc-8d50-84f6de9c659a\">Pipeline</label><div class=\"sk-toggleable__content\"><pre>Pipeline(steps=[('columntransformer',\n",
       "                 ColumnTransformer(remainder='passthrough',\n",
       "                                   transformers=[('onehotencoder',\n",
       "                                                  OneHotEncoder(sparse=False),\n",
       "                                                  [2]),\n",
       "                                                 ('ordinalencoder',\n",
       "                                                  OrdinalEncoder(), [1])])),\n",
       "                ('randomizedsearchcv',\n",
       "                 RandomizedSearchCV(estimator=XGBClassifier(base_score=0.5,\n",
       "                                                            booster='gbtree',\n",
       "                                                            colsample_bylevel=1,\n",
       "                                                            colsample_bynode=1,\n",
       "                                                            colsample_bytree=1,\n",
       "                                                            enable_ca...\n",
       "                                                            max_delta_step=0,\n",
       "                                                            max_depth=6,\n",
       "                                                            min_child_weight=1,\n",
       "                                                            missing=nan,\n",
       "                                                            monotone_constraints='()',\n",
       "                                                            n_estimators=100,\n",
       "                                                            n_jobs=4,\n",
       "                                                            num_parallel_tree=1,\n",
       "                                                            predictor='auto',\n",
       "                                                            random_state=0,\n",
       "                                                            reg_alpha=0,\n",
       "                                                            reg_lambda=1,\n",
       "                                                            scale_pos_weight=1,\n",
       "                                                            subsample=1,\n",
       "                                                            tree_method='exact',\n",
       "                                                            validate_parameters=1,\n",
       "                                                            verbosity=None),\n",
       "                                    param_distributions={'gamma': [3, 6, 9, 12],\n",
       "                                                         'learning_rate': [0.2,\n",
       "                                                                           0.4,\n",
       "                                                                           0.6,\n",
       "                                                                           0.8]},\n",
       "                                    verbose=3))])</pre></div></div></div><div class=\"sk-serial\"><div class=\"sk-item sk-dashed-wrapped\"><div class=\"sk-label-container\"><div class=\"sk-label sk-toggleable\"><input class=\"sk-toggleable__control sk-hidden--visually\" id=\"79937bf8-2eea-42ce-9cf7-6b5f2f5edd4b\" type=\"checkbox\" ><label class=\"sk-toggleable__label\" for=\"79937bf8-2eea-42ce-9cf7-6b5f2f5edd4b\">columntransformer: ColumnTransformer</label><div class=\"sk-toggleable__content\"><pre>ColumnTransformer(remainder='passthrough',\n",
       "                  transformers=[('onehotencoder', OneHotEncoder(sparse=False),\n",
       "                                 [2]),\n",
       "                                ('ordinalencoder', OrdinalEncoder(), [1])])</pre></div></div></div><div class=\"sk-parallel\"><div class=\"sk-parallel-item\"><div class=\"sk-item\"><div class=\"sk-label-container\"><div class=\"sk-label sk-toggleable\"><input class=\"sk-toggleable__control sk-hidden--visually\" id=\"4eac007c-8b53-4a2a-984d-f9a391af067d\" type=\"checkbox\" ><label class=\"sk-toggleable__label\" for=\"4eac007c-8b53-4a2a-984d-f9a391af067d\">onehotencoder</label><div class=\"sk-toggleable__content\"><pre>[2]</pre></div></div></div><div class=\"sk-serial\"><div class=\"sk-item\"><div class=\"sk-estimator sk-toggleable\"><input class=\"sk-toggleable__control sk-hidden--visually\" id=\"3e68c68e-3a23-46b2-966c-df341f825122\" type=\"checkbox\" ><label class=\"sk-toggleable__label\" for=\"3e68c68e-3a23-46b2-966c-df341f825122\">OneHotEncoder</label><div class=\"sk-toggleable__content\"><pre>OneHotEncoder(sparse=False)</pre></div></div></div></div></div></div><div class=\"sk-parallel-item\"><div class=\"sk-item\"><div class=\"sk-label-container\"><div class=\"sk-label sk-toggleable\"><input class=\"sk-toggleable__control sk-hidden--visually\" id=\"26d3da44-1610-439a-ada2-a365a354dcaf\" type=\"checkbox\" ><label class=\"sk-toggleable__label\" for=\"26d3da44-1610-439a-ada2-a365a354dcaf\">ordinalencoder</label><div class=\"sk-toggleable__content\"><pre>[1]</pre></div></div></div><div class=\"sk-serial\"><div class=\"sk-item\"><div class=\"sk-estimator sk-toggleable\"><input class=\"sk-toggleable__control sk-hidden--visually\" id=\"3dff4d29-82cc-4cea-9d81-a2e8aef2cadc\" type=\"checkbox\" ><label class=\"sk-toggleable__label\" for=\"3dff4d29-82cc-4cea-9d81-a2e8aef2cadc\">OrdinalEncoder</label><div class=\"sk-toggleable__content\"><pre>OrdinalEncoder()</pre></div></div></div></div></div></div></div></div><div class=\"sk-item sk-dashed-wrapped\"><div class=\"sk-label-container\"><div class=\"sk-label sk-toggleable\"><input class=\"sk-toggleable__control sk-hidden--visually\" id=\"8535ec6d-4604-4120-a5af-9f4b7870befb\" type=\"checkbox\" ><label class=\"sk-toggleable__label\" for=\"8535ec6d-4604-4120-a5af-9f4b7870befb\">randomizedsearchcv: RandomizedSearchCV</label><div class=\"sk-toggleable__content\"><pre>RandomizedSearchCV(estimator=XGBClassifier(base_score=0.5, booster='gbtree',\n",
       "                                           colsample_bylevel=1,\n",
       "                                           colsample_bynode=1,\n",
       "                                           colsample_bytree=1,\n",
       "                                           enable_categorical=False, gamma=3,\n",
       "                                           gpu_id=-1, importance_type=None,\n",
       "                                           interaction_constraints='',\n",
       "                                           learning_rate=0.2, max_delta_step=0,\n",
       "                                           max_depth=6, min_child_weight=1,\n",
       "                                           missing=nan,\n",
       "                                           monotone_constraints='()',\n",
       "                                           n_estimators=100, n_jobs=4,\n",
       "                                           num_parallel_tree=1,\n",
       "                                           predictor='auto', random_state=0,\n",
       "                                           reg_alpha=0, reg_lambda=1,\n",
       "                                           scale_pos_weight=1, subsample=1,\n",
       "                                           tree_method='exact',\n",
       "                                           validate_parameters=1,\n",
       "                                           verbosity=None),\n",
       "                   param_distributions={'gamma': [3, 6, 9, 12],\n",
       "                                        'learning_rate': [0.2, 0.4, 0.6, 0.8]},\n",
       "                   verbose=3)</pre></div></div></div><div class=\"sk-parallel\"><div class=\"sk-parallel-item\"><div class=\"sk-item\"><div class=\"sk-serial\"><div class=\"sk-item\"><div class=\"sk-estimator sk-toggleable\"><input class=\"sk-toggleable__control sk-hidden--visually\" id=\"3101e564-fa44-4d24-a633-ba0abd45d095\" type=\"checkbox\" ><label class=\"sk-toggleable__label\" for=\"3101e564-fa44-4d24-a633-ba0abd45d095\">XGBClassifier</label><div class=\"sk-toggleable__content\"><pre>XGBClassifier(base_score=0.5, booster='gbtree', colsample_bylevel=1,\n",
       "              colsample_bynode=1, colsample_bytree=1, enable_categorical=False,\n",
       "              gamma=3, gpu_id=-1, importance_type=None,\n",
       "              interaction_constraints='', learning_rate=0.2, max_delta_step=0,\n",
       "              max_depth=6, min_child_weight=1, missing=nan,\n",
       "              monotone_constraints='()', n_estimators=100, n_jobs=4,\n",
       "              num_parallel_tree=1, predictor='auto', random_state=0,\n",
       "              reg_alpha=0, reg_lambda=1, scale_pos_weight=1, subsample=1,\n",
       "              tree_method='exact', validate_parameters=1, verbosity=None)</pre></div></div></div></div></div></div></div></div></div></div></div></div>"
      ],
      "text/plain": [
       "Pipeline(steps=[('columntransformer',\n",
       "                 ColumnTransformer(remainder='passthrough',\n",
       "                                   transformers=[('onehotencoder',\n",
       "                                                  OneHotEncoder(sparse=False),\n",
       "                                                  [2]),\n",
       "                                                 ('ordinalencoder',\n",
       "                                                  OrdinalEncoder(), [1])])),\n",
       "                ('randomizedsearchcv',\n",
       "                 RandomizedSearchCV(estimator=XGBClassifier(base_score=0.5,\n",
       "                                                            booster='gbtree',\n",
       "                                                            colsample_bylevel=1,\n",
       "                                                            colsample_bynode=1,\n",
       "                                                            colsample_bytree=1,\n",
       "                                                            enable_ca...\n",
       "                                                            max_delta_step=0,\n",
       "                                                            max_depth=6,\n",
       "                                                            min_child_weight=1,\n",
       "                                                            missing=nan,\n",
       "                                                            monotone_constraints='()',\n",
       "                                                            n_estimators=100,\n",
       "                                                            n_jobs=4,\n",
       "                                                            num_parallel_tree=1,\n",
       "                                                            predictor='auto',\n",
       "                                                            random_state=0,\n",
       "                                                            reg_alpha=0,\n",
       "                                                            reg_lambda=1,\n",
       "                                                            scale_pos_weight=1,\n",
       "                                                            subsample=1,\n",
       "                                                            tree_method='exact',\n",
       "                                                            validate_parameters=1,\n",
       "                                                            verbosity=None),\n",
       "                                    param_distributions={'gamma': [3, 6, 9, 12],\n",
       "                                                         'learning_rate': [0.2,\n",
       "                                                                           0.4,\n",
       "                                                                           0.6,\n",
       "                                                                           0.8]},\n",
       "                                    verbose=3))])"
      ]
     },
     "execution_count": 90,
     "metadata": {},
     "output_type": "execute_result"
    }
   ],
   "source": [
    "pipe_xgbc.fit(x_train,y_train)"
   ]
  },
  {
   "cell_type": "code",
   "execution_count": 91,
   "id": "99dc0e59",
   "metadata": {
    "execution": {
     "iopub.execute_input": "2023-01-25T05:24:24.806059Z",
     "iopub.status.busy": "2023-01-25T05:24:24.803329Z",
     "iopub.status.idle": "2023-01-25T05:24:24.824096Z",
     "shell.execute_reply": "2023-01-25T05:24:24.824633Z",
     "shell.execute_reply.started": "2022-01-31T12:37:54.354852Z"
    },
    "papermill": {
     "duration": 0.183741,
     "end_time": "2023-01-25T05:24:24.824837",
     "exception": false,
     "start_time": "2023-01-25T05:24:24.641096",
     "status": "completed"
    },
    "tags": []
   },
   "outputs": [
    {
     "data": {
      "text/plain": [
       "array([1, 0, 0, 0, 0, 0, 0, 0, 0, 0, 1, 0, 0, 0, 0, 0, 0, 0, 0, 0, 0, 0,\n",
       "       0, 0, 0, 0, 0, 0, 0, 0, 0, 0, 0, 0, 1, 0, 1, 0, 1, 0, 0, 0, 0, 0,\n",
       "       0, 1, 0, 0, 0, 0, 0, 0, 0, 0, 0, 0, 0, 0, 0, 1, 0, 0, 0, 1, 0, 0,\n",
       "       0, 0, 1, 0, 0, 0, 0, 0, 0, 0, 0, 0, 0, 0, 0, 1, 0, 0, 0, 0, 0, 0,\n",
       "       0, 0, 0, 0, 0, 0, 0, 0, 0, 0, 0, 0, 0, 0, 1, 0, 0, 0, 0, 0, 0, 0,\n",
       "       0, 0, 0, 1, 0, 0, 0, 0, 0, 0, 0, 0, 0, 0, 0, 0, 0, 0, 0, 0, 1, 0,\n",
       "       0, 0, 0, 0, 0, 0, 0, 0, 0, 0, 0, 0, 0, 0, 0, 1, 0, 0, 0, 1, 0, 0,\n",
       "       0, 0, 0, 0, 0, 0, 0, 0, 0, 1, 0, 0, 0, 1, 0, 0, 0, 1, 0, 0, 0, 0,\n",
       "       0, 0, 0, 0, 0, 0, 0, 0, 0, 0, 0, 0, 1, 0, 0, 0, 0, 1, 0, 0, 0, 0,\n",
       "       0, 0, 0, 0, 0, 0, 1, 0, 0, 0, 1, 0, 0, 0, 0, 0, 1, 0, 0, 0, 0, 0,\n",
       "       0, 0, 0, 1, 0, 0, 0, 1, 0, 1, 0, 0, 0, 0, 0, 0, 0, 0, 0, 0, 0, 0,\n",
       "       1, 0, 0, 0, 0, 0, 0, 0, 0, 0, 0, 0, 0, 0, 0, 0, 0, 0, 0, 0, 0, 0,\n",
       "       0, 0, 0, 0, 1, 0, 1, 0, 0, 0, 0, 0, 0, 0, 0, 1, 0, 0, 0, 0, 0, 0,\n",
       "       0, 0, 0, 0, 0, 0, 0, 1, 0, 0, 0, 0, 0, 0, 0, 0, 0, 0, 0, 0, 1, 0,\n",
       "       0, 0, 0, 0, 0, 0, 0, 0, 0, 0, 0, 0, 0, 0, 0, 0, 0, 0, 1, 0, 0, 0,\n",
       "       0, 0, 0, 0, 1, 0, 0, 0, 0, 0, 0, 0, 0, 0, 0, 0, 0, 0, 0, 1, 0, 0,\n",
       "       0, 0, 0, 0, 0, 0, 0, 0, 0, 0, 0, 0, 1, 0, 0, 0, 0, 1, 0, 0, 0, 1,\n",
       "       0, 1, 0, 0, 0, 0, 0, 0, 0, 0, 0, 0, 1, 0, 0, 0, 0, 0, 0, 0, 0, 0,\n",
       "       0, 1, 0, 0, 0, 0, 0, 0, 0, 0, 0, 0, 0, 0, 0, 0, 0, 0, 0, 1, 0, 0,\n",
       "       0, 1, 0, 0, 0, 0, 0, 0, 0, 0, 0, 0, 0, 0, 0, 0, 0, 0, 0, 0, 0, 1,\n",
       "       0, 0, 0, 0, 0, 0, 0, 0, 0, 0, 0, 0, 0, 0, 0, 0, 0, 0, 0, 1, 0, 0,\n",
       "       0, 0, 0, 0, 0, 1, 0, 0, 0, 0, 0, 0, 0, 0, 0, 0, 0, 0, 0, 0, 0, 0,\n",
       "       0, 0, 0, 0, 0, 0, 0, 0, 0, 0, 0, 0, 0, 0, 0, 0, 0, 0, 0, 0, 0, 0,\n",
       "       0, 0, 0, 0, 0, 1, 0, 0, 0, 0, 0, 0, 0, 0, 0, 0, 1, 0, 0, 0, 0, 0,\n",
       "       0, 0, 0, 0, 0, 0, 0, 0, 0, 0, 0, 0, 0, 0, 0, 1, 0, 0, 0, 1, 0, 0,\n",
       "       0, 0, 0, 0, 0, 0, 0, 0, 0, 0, 0, 0, 0, 0, 0, 0, 0, 0, 0, 0, 0, 0,\n",
       "       0, 0, 0, 0, 0, 0, 0, 0, 0, 0, 1, 0, 0, 0, 0, 0, 0, 0, 0, 0, 0, 0,\n",
       "       0, 0, 0, 0, 0, 1, 0, 0, 0, 0, 1, 0, 0, 0, 0, 0, 0, 0, 0, 0, 0, 1,\n",
       "       0, 0, 0, 0, 0, 0, 0, 0, 0, 0, 0, 0, 0, 0, 0, 0, 0, 0, 0, 0, 0, 0,\n",
       "       0, 1, 0, 0, 0, 0, 0, 0, 1, 0, 0, 1, 0, 0, 0, 0, 0, 0, 0, 0, 0, 0,\n",
       "       0, 0, 0, 0, 0, 0, 0, 0, 0, 0, 0, 0, 0, 0, 0, 0, 0, 0, 0, 0, 0, 0,\n",
       "       0, 0, 0, 0, 1, 0, 0, 0, 0, 1, 0, 0, 0, 1, 0, 0, 0, 0, 1, 0, 0, 0,\n",
       "       0, 0, 0, 0, 0, 0, 0, 0, 0, 0, 0, 0, 0, 0, 0, 0, 0, 0, 0, 1, 0, 0,\n",
       "       0, 0, 0, 0, 0, 0, 0, 0, 0, 0, 0, 0, 0, 1, 0, 0, 0, 0, 0, 0, 0, 0,\n",
       "       0, 0, 1, 1, 0, 0, 0, 1, 0, 0, 0, 0, 0, 0, 0, 0, 1, 0, 0, 1, 0, 0,\n",
       "       0, 0, 0, 0, 0, 0, 0, 0, 0, 0, 0, 0, 0, 0])"
      ]
     },
     "execution_count": 91,
     "metadata": {},
     "output_type": "execute_result"
    }
   ],
   "source": [
    "pred_xgbc=pipe_xgbc.predict(x_test)\n",
    "pred_xgbc"
   ]
  },
  {
   "cell_type": "code",
   "execution_count": 92,
   "id": "98462cc3",
   "metadata": {
    "execution": {
     "iopub.execute_input": "2023-01-25T05:24:25.165855Z",
     "iopub.status.busy": "2023-01-25T05:24:25.164842Z",
     "iopub.status.idle": "2023-01-25T05:24:25.169657Z",
     "shell.execute_reply": "2023-01-25T05:24:25.169120Z",
     "shell.execute_reply.started": "2022-01-31T12:37:54.384403Z"
    },
    "papermill": {
     "duration": 0.175091,
     "end_time": "2023-01-25T05:24:25.169814",
     "exception": false,
     "start_time": "2023-01-25T05:24:24.994723",
     "status": "completed"
    },
    "tags": []
   },
   "outputs": [
    {
     "data": {
      "text/plain": [
       "88.26530612244898"
      ]
     },
     "execution_count": 92,
     "metadata": {},
     "output_type": "execute_result"
    }
   ],
   "source": [
    "accuracy_score(pred_xgbc,y_test)*100"
   ]
  },
  {
   "cell_type": "code",
   "execution_count": 93,
   "id": "e62d158c",
   "metadata": {
    "execution": {
     "iopub.execute_input": "2023-01-25T05:24:25.499209Z",
     "iopub.status.busy": "2023-01-25T05:24:25.498437Z",
     "iopub.status.idle": "2023-01-25T05:24:25.503103Z",
     "shell.execute_reply": "2023-01-25T05:24:25.503766Z",
     "shell.execute_reply.started": "2022-01-31T12:37:54.391687Z"
    },
    "papermill": {
     "duration": 0.17085,
     "end_time": "2023-01-25T05:24:25.503948",
     "exception": false,
     "start_time": "2023-01-25T05:24:25.333098",
     "status": "completed"
    },
    "tags": []
   },
   "outputs": [
    {
     "data": {
      "text/plain": [
       "{'learning_rate': 0.4, 'gamma': 6}"
      ]
     },
     "execution_count": 93,
     "metadata": {},
     "output_type": "execute_result"
    }
   ],
   "source": [
    "pipe_xgbc.named_steps['randomizedsearchcv'].best_params_"
   ]
  },
  {
   "cell_type": "code",
   "execution_count": 94,
   "id": "41fa07d2",
   "metadata": {
    "execution": {
     "iopub.execute_input": "2023-01-25T05:24:25.862185Z",
     "iopub.status.busy": "2023-01-25T05:24:25.861477Z",
     "iopub.status.idle": "2023-01-25T05:24:26.132486Z",
     "shell.execute_reply": "2023-01-25T05:24:26.133128Z",
     "shell.execute_reply.started": "2022-01-31T12:37:54.406642Z"
    },
    "papermill": {
     "duration": 0.441904,
     "end_time": "2023-01-25T05:24:26.133310",
     "exception": false,
     "start_time": "2023-01-25T05:24:25.691406",
     "status": "completed"
    },
    "tags": []
   },
   "outputs": [
    {
     "data": {
      "text/html": [
       "<style>div.sk-top-container {color: black;background-color: white;}div.sk-toggleable {background-color: white;}label.sk-toggleable__label {cursor: pointer;display: block;width: 100%;margin-bottom: 0;padding: 0.2em 0.3em;box-sizing: border-box;text-align: center;}div.sk-toggleable__content {max-height: 0;max-width: 0;overflow: hidden;text-align: left;background-color: #f0f8ff;}div.sk-toggleable__content pre {margin: 0.2em;color: black;border-radius: 0.25em;background-color: #f0f8ff;}input.sk-toggleable__control:checked~div.sk-toggleable__content {max-height: 200px;max-width: 100%;overflow: auto;}div.sk-estimator input.sk-toggleable__control:checked~label.sk-toggleable__label {background-color: #d4ebff;}div.sk-label input.sk-toggleable__control:checked~label.sk-toggleable__label {background-color: #d4ebff;}input.sk-hidden--visually {border: 0;clip: rect(1px 1px 1px 1px);clip: rect(1px, 1px, 1px, 1px);height: 1px;margin: -1px;overflow: hidden;padding: 0;position: absolute;width: 1px;}div.sk-estimator {font-family: monospace;background-color: #f0f8ff;margin: 0.25em 0.25em;border: 1px dotted black;border-radius: 0.25em;box-sizing: border-box;}div.sk-estimator:hover {background-color: #d4ebff;}div.sk-parallel-item::after {content: \"\";width: 100%;border-bottom: 1px solid gray;flex-grow: 1;}div.sk-label:hover label.sk-toggleable__label {background-color: #d4ebff;}div.sk-serial::before {content: \"\";position: absolute;border-left: 1px solid gray;box-sizing: border-box;top: 2em;bottom: 0;left: 50%;}div.sk-serial {display: flex;flex-direction: column;align-items: center;background-color: white;}div.sk-item {z-index: 1;}div.sk-parallel {display: flex;align-items: stretch;justify-content: center;background-color: white;}div.sk-parallel-item {display: flex;flex-direction: column;position: relative;background-color: white;}div.sk-parallel-item:first-child::after {align-self: flex-end;width: 50%;}div.sk-parallel-item:last-child::after {align-self: flex-start;width: 50%;}div.sk-parallel-item:only-child::after {width: 0;}div.sk-dashed-wrapped {border: 1px dashed gray;margin: 0.2em;box-sizing: border-box;padding-bottom: 0.1em;background-color: white;position: relative;}div.sk-label label {font-family: monospace;font-weight: bold;background-color: white;display: inline-block;line-height: 1.2em;}div.sk-label-container {position: relative;z-index: 2;text-align: center;}div.sk-container {display: inline-block;position: relative;}</style><div class=\"sk-top-container\"><div class=\"sk-container\"><div class=\"sk-item sk-dashed-wrapped\"><div class=\"sk-label-container\"><div class=\"sk-label sk-toggleable\"><input class=\"sk-toggleable__control sk-hidden--visually\" id=\"1f1e42a8-0e94-446b-a005-489749b39e1e\" type=\"checkbox\" ><label class=\"sk-toggleable__label\" for=\"1f1e42a8-0e94-446b-a005-489749b39e1e\">Pipeline</label><div class=\"sk-toggleable__content\"><pre>Pipeline(steps=[('columntransformer',\n",
       "                 ColumnTransformer(remainder='passthrough',\n",
       "                                   transformers=[('onehotencoder',\n",
       "                                                  OneHotEncoder(sparse=False),\n",
       "                                                  [2]),\n",
       "                                                 ('ordinalencoder',\n",
       "                                                  OrdinalEncoder(), [1])])),\n",
       "                ('randomizedsearchcv',\n",
       "                 RandomizedSearchCV(estimator=XGBClassifier(base_score=0.5,\n",
       "                                                            booster='gbtree',\n",
       "                                                            colsample_bylevel=1,\n",
       "                                                            colsample_bynode=1,\n",
       "                                                            colsample_bytree=1,\n",
       "                                                            enable_ca...\n",
       "                                                            learning_rate=0.2,\n",
       "                                                            max_delta_step=0,\n",
       "                                                            max_depth=6,\n",
       "                                                            min_child_weight=1,\n",
       "                                                            missing=nan,\n",
       "                                                            monotone_constraints='()',\n",
       "                                                            n_estimators=100,\n",
       "                                                            n_jobs=4,\n",
       "                                                            num_parallel_tree=1,\n",
       "                                                            predictor='auto',\n",
       "                                                            random_state=0,\n",
       "                                                            reg_alpha=0,\n",
       "                                                            reg_lambda=1,\n",
       "                                                            scale_pos_weight=1,\n",
       "                                                            subsample=1,\n",
       "                                                            tree_method='exact',\n",
       "                                                            validate_parameters=1,\n",
       "                                                            verbosity=None),\n",
       "                                    param_distributions={'gamma': [6],\n",
       "                                                         'learning_rate': [0.4]},\n",
       "                                    verbose=3))])</pre></div></div></div><div class=\"sk-serial\"><div class=\"sk-item sk-dashed-wrapped\"><div class=\"sk-label-container\"><div class=\"sk-label sk-toggleable\"><input class=\"sk-toggleable__control sk-hidden--visually\" id=\"c56d0a4b-22cb-4813-a9f2-7254a00e2d09\" type=\"checkbox\" ><label class=\"sk-toggleable__label\" for=\"c56d0a4b-22cb-4813-a9f2-7254a00e2d09\">columntransformer: ColumnTransformer</label><div class=\"sk-toggleable__content\"><pre>ColumnTransformer(remainder='passthrough',\n",
       "                  transformers=[('onehotencoder', OneHotEncoder(sparse=False),\n",
       "                                 [2]),\n",
       "                                ('ordinalencoder', OrdinalEncoder(), [1])])</pre></div></div></div><div class=\"sk-parallel\"><div class=\"sk-parallel-item\"><div class=\"sk-item\"><div class=\"sk-label-container\"><div class=\"sk-label sk-toggleable\"><input class=\"sk-toggleable__control sk-hidden--visually\" id=\"323fcbae-b663-45b9-84a2-c3676dd5bae7\" type=\"checkbox\" ><label class=\"sk-toggleable__label\" for=\"323fcbae-b663-45b9-84a2-c3676dd5bae7\">onehotencoder</label><div class=\"sk-toggleable__content\"><pre>[2]</pre></div></div></div><div class=\"sk-serial\"><div class=\"sk-item\"><div class=\"sk-estimator sk-toggleable\"><input class=\"sk-toggleable__control sk-hidden--visually\" id=\"9a995469-6669-4db4-9032-39bac17f5782\" type=\"checkbox\" ><label class=\"sk-toggleable__label\" for=\"9a995469-6669-4db4-9032-39bac17f5782\">OneHotEncoder</label><div class=\"sk-toggleable__content\"><pre>OneHotEncoder(sparse=False)</pre></div></div></div></div></div></div><div class=\"sk-parallel-item\"><div class=\"sk-item\"><div class=\"sk-label-container\"><div class=\"sk-label sk-toggleable\"><input class=\"sk-toggleable__control sk-hidden--visually\" id=\"76b271c0-9a83-4603-a961-88e234ce6f2c\" type=\"checkbox\" ><label class=\"sk-toggleable__label\" for=\"76b271c0-9a83-4603-a961-88e234ce6f2c\">ordinalencoder</label><div class=\"sk-toggleable__content\"><pre>[1]</pre></div></div></div><div class=\"sk-serial\"><div class=\"sk-item\"><div class=\"sk-estimator sk-toggleable\"><input class=\"sk-toggleable__control sk-hidden--visually\" id=\"7354861f-61a2-45d5-9a1c-192f3bfc0381\" type=\"checkbox\" ><label class=\"sk-toggleable__label\" for=\"7354861f-61a2-45d5-9a1c-192f3bfc0381\">OrdinalEncoder</label><div class=\"sk-toggleable__content\"><pre>OrdinalEncoder()</pre></div></div></div></div></div></div></div></div><div class=\"sk-item sk-dashed-wrapped\"><div class=\"sk-label-container\"><div class=\"sk-label sk-toggleable\"><input class=\"sk-toggleable__control sk-hidden--visually\" id=\"84bd8707-32b4-4005-8357-9acd2259dd23\" type=\"checkbox\" ><label class=\"sk-toggleable__label\" for=\"84bd8707-32b4-4005-8357-9acd2259dd23\">randomizedsearchcv: RandomizedSearchCV</label><div class=\"sk-toggleable__content\"><pre>RandomizedSearchCV(estimator=XGBClassifier(base_score=0.5, booster='gbtree',\n",
       "                                           colsample_bylevel=1,\n",
       "                                           colsample_bynode=1,\n",
       "                                           colsample_bytree=1,\n",
       "                                           enable_categorical=False, gamma=3,\n",
       "                                           gpu_id=-1, importance_type=None,\n",
       "                                           interaction_constraints='',\n",
       "                                           learning_rate=0.2, max_delta_step=0,\n",
       "                                           max_depth=6, min_child_weight=1,\n",
       "                                           missing=nan,\n",
       "                                           monotone_constraints='()',\n",
       "                                           n_estimators=100, n_jobs=4,\n",
       "                                           num_parallel_tree=1,\n",
       "                                           predictor='auto', random_state=0,\n",
       "                                           reg_alpha=0, reg_lambda=1,\n",
       "                                           scale_pos_weight=1, subsample=1,\n",
       "                                           tree_method='exact',\n",
       "                                           validate_parameters=1,\n",
       "                                           verbosity=None),\n",
       "                   param_distributions={'gamma': [6], 'learning_rate': [0.4]},\n",
       "                   verbose=3)</pre></div></div></div><div class=\"sk-parallel\"><div class=\"sk-parallel-item\"><div class=\"sk-item\"><div class=\"sk-serial\"><div class=\"sk-item\"><div class=\"sk-estimator sk-toggleable\"><input class=\"sk-toggleable__control sk-hidden--visually\" id=\"8bcc42a5-d706-45df-a049-0680857e3a5b\" type=\"checkbox\" ><label class=\"sk-toggleable__label\" for=\"8bcc42a5-d706-45df-a049-0680857e3a5b\">XGBClassifier</label><div class=\"sk-toggleable__content\"><pre>XGBClassifier(base_score=0.5, booster='gbtree', colsample_bylevel=1,\n",
       "              colsample_bynode=1, colsample_bytree=1, enable_categorical=False,\n",
       "              gamma=3, gpu_id=-1, importance_type=None,\n",
       "              interaction_constraints='', learning_rate=0.2, max_delta_step=0,\n",
       "              max_depth=6, min_child_weight=1, missing=nan,\n",
       "              monotone_constraints='()', n_estimators=100, n_jobs=4,\n",
       "              num_parallel_tree=1, predictor='auto', random_state=0,\n",
       "              reg_alpha=0, reg_lambda=1, scale_pos_weight=1, subsample=1,\n",
       "              tree_method='exact', validate_parameters=1, verbosity=None)</pre></div></div></div></div></div></div></div></div></div></div></div></div>"
      ],
      "text/plain": [
       "Pipeline(steps=[('columntransformer',\n",
       "                 ColumnTransformer(remainder='passthrough',\n",
       "                                   transformers=[('onehotencoder',\n",
       "                                                  OneHotEncoder(sparse=False),\n",
       "                                                  [2]),\n",
       "                                                 ('ordinalencoder',\n",
       "                                                  OrdinalEncoder(), [1])])),\n",
       "                ('randomizedsearchcv',\n",
       "                 RandomizedSearchCV(estimator=XGBClassifier(base_score=0.5,\n",
       "                                                            booster='gbtree',\n",
       "                                                            colsample_bylevel=1,\n",
       "                                                            colsample_bynode=1,\n",
       "                                                            colsample_bytree=1,\n",
       "                                                            enable_ca...\n",
       "                                                            learning_rate=0.2,\n",
       "                                                            max_delta_step=0,\n",
       "                                                            max_depth=6,\n",
       "                                                            min_child_weight=1,\n",
       "                                                            missing=nan,\n",
       "                                                            monotone_constraints='()',\n",
       "                                                            n_estimators=100,\n",
       "                                                            n_jobs=4,\n",
       "                                                            num_parallel_tree=1,\n",
       "                                                            predictor='auto',\n",
       "                                                            random_state=0,\n",
       "                                                            reg_alpha=0,\n",
       "                                                            reg_lambda=1,\n",
       "                                                            scale_pos_weight=1,\n",
       "                                                            subsample=1,\n",
       "                                                            tree_method='exact',\n",
       "                                                            validate_parameters=1,\n",
       "                                                            verbosity=None),\n",
       "                                    param_distributions={'gamma': [6],\n",
       "                                                         'learning_rate': [0.4]},\n",
       "                                    verbose=3))])"
      ]
     },
     "execution_count": 94,
     "metadata": {},
     "output_type": "execute_result"
    }
   ],
   "source": [
    "params_xgbc1={'gamma':[6],'learning_rate':[0.4]}\n",
    "pipe_xgbc1=make_pipeline(trans,RandomizedSearchCV(xgbc,params_xgbc1,verbose=3,refit=True))\n",
    "pipe_xgbc1"
   ]
  },
  {
   "cell_type": "code",
   "execution_count": 95,
   "id": "5e1f78b8",
   "metadata": {
    "execution": {
     "iopub.execute_input": "2023-01-25T05:24:26.468947Z",
     "iopub.status.busy": "2023-01-25T05:24:26.464194Z",
     "iopub.status.idle": "2023-01-25T05:24:30.048311Z",
     "shell.execute_reply": "2023-01-25T05:24:30.048990Z",
     "shell.execute_reply.started": "2022-01-31T12:37:54.684444Z"
    },
    "papermill": {
     "duration": 3.752206,
     "end_time": "2023-01-25T05:24:30.049171",
     "exception": false,
     "start_time": "2023-01-25T05:24:26.296965",
     "status": "completed"
    },
    "tags": []
   },
   "outputs": [
    {
     "name": "stderr",
     "output_type": "stream",
     "text": [
      "/opt/conda/lib/python3.7/site-packages/sklearn/model_selection/_search.py:282: UserWarning: The total space of parameters 1 is smaller than n_iter=10. Running 1 iterations. For exhaustive searches, use GridSearchCV.\n",
      "  % (grid_size, self.n_iter, grid_size), UserWarning)\n",
      "[Parallel(n_jobs=1)]: Using backend SequentialBackend with 1 concurrent workers.\n",
      "/opt/conda/lib/python3.7/site-packages/xgboost/sklearn.py:1224: UserWarning: The use of label encoder in XGBClassifier is deprecated and will be removed in a future release. To remove this warning, do the following: 1) Pass option use_label_encoder=False when constructing XGBClassifier object; and 2) Encode your labels (y) as integers starting with 0, i.e. 0, 1, 2, ..., [num_class - 1].\n",
      "  warnings.warn(label_encoder_deprecation_msg, UserWarning)\n"
     ]
    },
    {
     "name": "stdout",
     "output_type": "stream",
     "text": [
      "Fitting 5 folds for each of 1 candidates, totalling 5 fits\n",
      "[CV] learning_rate=0.4, gamma=6 ......................................\n",
      "[05:24:26] WARNING: ../src/learner.cc:1115: Starting in XGBoost 1.3.0, the default evaluation metric used with the objective 'binary:logistic' was changed from 'error' to 'logloss'. Explicitly set eval_metric if you'd like to restore the old behavior.\n",
      "[CV] .......... learning_rate=0.4, gamma=6, score=0.870, total=   0.6s\n",
      "[CV] learning_rate=0.4, gamma=6 ......................................\n",
      "[05:24:27] WARNING: ../src/learner.cc:1115: Starting in XGBoost 1.3.0, the default evaluation metric used with the objective 'binary:logistic' was changed from 'error' to 'logloss'. Explicitly set eval_metric if you'd like to restore the old behavior.\n"
     ]
    },
    {
     "name": "stderr",
     "output_type": "stream",
     "text": [
      "[Parallel(n_jobs=1)]: Done   1 out of   1 | elapsed:    0.6s remaining:    0.0s\n"
     ]
    },
    {
     "name": "stdout",
     "output_type": "stream",
     "text": [
      "[CV] .......... learning_rate=0.4, gamma=6, score=0.883, total=   0.6s\n",
      "[CV] learning_rate=0.4, gamma=6 ......................................\n",
      "[05:24:27] WARNING: ../src/learner.cc:1115: Starting in XGBoost 1.3.0, the default evaluation metric used with the objective 'binary:logistic' was changed from 'error' to 'logloss'. Explicitly set eval_metric if you'd like to restore the old behavior.\n"
     ]
    },
    {
     "name": "stderr",
     "output_type": "stream",
     "text": [
      "[Parallel(n_jobs=1)]: Done   2 out of   2 | elapsed:    1.1s remaining:    0.0s\n"
     ]
    },
    {
     "name": "stdout",
     "output_type": "stream",
     "text": [
      "[CV] .......... learning_rate=0.4, gamma=6, score=0.863, total=   0.5s\n",
      "[CV] learning_rate=0.4, gamma=6 ......................................\n",
      "[05:24:28] WARNING: ../src/learner.cc:1115: Starting in XGBoost 1.3.0, the default evaluation metric used with the objective 'binary:logistic' was changed from 'error' to 'logloss'. Explicitly set eval_metric if you'd like to restore the old behavior.\n",
      "[CV] .......... learning_rate=0.4, gamma=6, score=0.866, total=   0.5s\n",
      "[CV] learning_rate=0.4, gamma=6 ......................................\n",
      "[05:24:28] WARNING: ../src/learner.cc:1115: Starting in XGBoost 1.3.0, the default evaluation metric used with the objective 'binary:logistic' was changed from 'error' to 'logloss'. Explicitly set eval_metric if you'd like to restore the old behavior.\n",
      "[CV] .......... learning_rate=0.4, gamma=6, score=0.900, total=   0.5s\n",
      "[05:24:29] WARNING: ../src/learner.cc:1115: Starting in XGBoost 1.3.0, the default evaluation metric used with the objective 'binary:logistic' was changed from 'error' to 'logloss'. Explicitly set eval_metric if you'd like to restore the old behavior.\n"
     ]
    },
    {
     "name": "stderr",
     "output_type": "stream",
     "text": [
      "[Parallel(n_jobs=1)]: Done   5 out of   5 | elapsed:    2.7s finished\n"
     ]
    },
    {
     "data": {
      "text/html": [
       "<style>div.sk-top-container {color: black;background-color: white;}div.sk-toggleable {background-color: white;}label.sk-toggleable__label {cursor: pointer;display: block;width: 100%;margin-bottom: 0;padding: 0.2em 0.3em;box-sizing: border-box;text-align: center;}div.sk-toggleable__content {max-height: 0;max-width: 0;overflow: hidden;text-align: left;background-color: #f0f8ff;}div.sk-toggleable__content pre {margin: 0.2em;color: black;border-radius: 0.25em;background-color: #f0f8ff;}input.sk-toggleable__control:checked~div.sk-toggleable__content {max-height: 200px;max-width: 100%;overflow: auto;}div.sk-estimator input.sk-toggleable__control:checked~label.sk-toggleable__label {background-color: #d4ebff;}div.sk-label input.sk-toggleable__control:checked~label.sk-toggleable__label {background-color: #d4ebff;}input.sk-hidden--visually {border: 0;clip: rect(1px 1px 1px 1px);clip: rect(1px, 1px, 1px, 1px);height: 1px;margin: -1px;overflow: hidden;padding: 0;position: absolute;width: 1px;}div.sk-estimator {font-family: monospace;background-color: #f0f8ff;margin: 0.25em 0.25em;border: 1px dotted black;border-radius: 0.25em;box-sizing: border-box;}div.sk-estimator:hover {background-color: #d4ebff;}div.sk-parallel-item::after {content: \"\";width: 100%;border-bottom: 1px solid gray;flex-grow: 1;}div.sk-label:hover label.sk-toggleable__label {background-color: #d4ebff;}div.sk-serial::before {content: \"\";position: absolute;border-left: 1px solid gray;box-sizing: border-box;top: 2em;bottom: 0;left: 50%;}div.sk-serial {display: flex;flex-direction: column;align-items: center;background-color: white;}div.sk-item {z-index: 1;}div.sk-parallel {display: flex;align-items: stretch;justify-content: center;background-color: white;}div.sk-parallel-item {display: flex;flex-direction: column;position: relative;background-color: white;}div.sk-parallel-item:first-child::after {align-self: flex-end;width: 50%;}div.sk-parallel-item:last-child::after {align-self: flex-start;width: 50%;}div.sk-parallel-item:only-child::after {width: 0;}div.sk-dashed-wrapped {border: 1px dashed gray;margin: 0.2em;box-sizing: border-box;padding-bottom: 0.1em;background-color: white;position: relative;}div.sk-label label {font-family: monospace;font-weight: bold;background-color: white;display: inline-block;line-height: 1.2em;}div.sk-label-container {position: relative;z-index: 2;text-align: center;}div.sk-container {display: inline-block;position: relative;}</style><div class=\"sk-top-container\"><div class=\"sk-container\"><div class=\"sk-item sk-dashed-wrapped\"><div class=\"sk-label-container\"><div class=\"sk-label sk-toggleable\"><input class=\"sk-toggleable__control sk-hidden--visually\" id=\"59973618-bc5a-4897-b3fa-f1d4faa1715a\" type=\"checkbox\" ><label class=\"sk-toggleable__label\" for=\"59973618-bc5a-4897-b3fa-f1d4faa1715a\">Pipeline</label><div class=\"sk-toggleable__content\"><pre>Pipeline(steps=[('columntransformer',\n",
       "                 ColumnTransformer(remainder='passthrough',\n",
       "                                   transformers=[('onehotencoder',\n",
       "                                                  OneHotEncoder(sparse=False),\n",
       "                                                  [2]),\n",
       "                                                 ('ordinalencoder',\n",
       "                                                  OrdinalEncoder(), [1])])),\n",
       "                ('randomizedsearchcv',\n",
       "                 RandomizedSearchCV(estimator=XGBClassifier(base_score=0.5,\n",
       "                                                            booster='gbtree',\n",
       "                                                            colsample_bylevel=1,\n",
       "                                                            colsample_bynode=1,\n",
       "                                                            colsample_bytree=1,\n",
       "                                                            enable_ca...\n",
       "                                                            learning_rate=0.2,\n",
       "                                                            max_delta_step=0,\n",
       "                                                            max_depth=6,\n",
       "                                                            min_child_weight=1,\n",
       "                                                            missing=nan,\n",
       "                                                            monotone_constraints='()',\n",
       "                                                            n_estimators=100,\n",
       "                                                            n_jobs=4,\n",
       "                                                            num_parallel_tree=1,\n",
       "                                                            predictor='auto',\n",
       "                                                            random_state=0,\n",
       "                                                            reg_alpha=0,\n",
       "                                                            reg_lambda=1,\n",
       "                                                            scale_pos_weight=1,\n",
       "                                                            subsample=1,\n",
       "                                                            tree_method='exact',\n",
       "                                                            validate_parameters=1,\n",
       "                                                            verbosity=None),\n",
       "                                    param_distributions={'gamma': [6],\n",
       "                                                         'learning_rate': [0.4]},\n",
       "                                    verbose=3))])</pre></div></div></div><div class=\"sk-serial\"><div class=\"sk-item sk-dashed-wrapped\"><div class=\"sk-label-container\"><div class=\"sk-label sk-toggleable\"><input class=\"sk-toggleable__control sk-hidden--visually\" id=\"6b134b45-6510-42f7-bd03-707c66ac2175\" type=\"checkbox\" ><label class=\"sk-toggleable__label\" for=\"6b134b45-6510-42f7-bd03-707c66ac2175\">columntransformer: ColumnTransformer</label><div class=\"sk-toggleable__content\"><pre>ColumnTransformer(remainder='passthrough',\n",
       "                  transformers=[('onehotencoder', OneHotEncoder(sparse=False),\n",
       "                                 [2]),\n",
       "                                ('ordinalencoder', OrdinalEncoder(), [1])])</pre></div></div></div><div class=\"sk-parallel\"><div class=\"sk-parallel-item\"><div class=\"sk-item\"><div class=\"sk-label-container\"><div class=\"sk-label sk-toggleable\"><input class=\"sk-toggleable__control sk-hidden--visually\" id=\"c5a9cf23-cf68-4141-99c0-6714653fb38e\" type=\"checkbox\" ><label class=\"sk-toggleable__label\" for=\"c5a9cf23-cf68-4141-99c0-6714653fb38e\">onehotencoder</label><div class=\"sk-toggleable__content\"><pre>[2]</pre></div></div></div><div class=\"sk-serial\"><div class=\"sk-item\"><div class=\"sk-estimator sk-toggleable\"><input class=\"sk-toggleable__control sk-hidden--visually\" id=\"fe720e25-2640-4805-b5a6-f63849fd3008\" type=\"checkbox\" ><label class=\"sk-toggleable__label\" for=\"fe720e25-2640-4805-b5a6-f63849fd3008\">OneHotEncoder</label><div class=\"sk-toggleable__content\"><pre>OneHotEncoder(sparse=False)</pre></div></div></div></div></div></div><div class=\"sk-parallel-item\"><div class=\"sk-item\"><div class=\"sk-label-container\"><div class=\"sk-label sk-toggleable\"><input class=\"sk-toggleable__control sk-hidden--visually\" id=\"ac2e443c-916c-448e-a14b-1f9da5940950\" type=\"checkbox\" ><label class=\"sk-toggleable__label\" for=\"ac2e443c-916c-448e-a14b-1f9da5940950\">ordinalencoder</label><div class=\"sk-toggleable__content\"><pre>[1]</pre></div></div></div><div class=\"sk-serial\"><div class=\"sk-item\"><div class=\"sk-estimator sk-toggleable\"><input class=\"sk-toggleable__control sk-hidden--visually\" id=\"b11aed1b-fddf-47fd-a5b3-daaea5ed4d36\" type=\"checkbox\" ><label class=\"sk-toggleable__label\" for=\"b11aed1b-fddf-47fd-a5b3-daaea5ed4d36\">OrdinalEncoder</label><div class=\"sk-toggleable__content\"><pre>OrdinalEncoder()</pre></div></div></div></div></div></div></div></div><div class=\"sk-item sk-dashed-wrapped\"><div class=\"sk-label-container\"><div class=\"sk-label sk-toggleable\"><input class=\"sk-toggleable__control sk-hidden--visually\" id=\"b97d1899-f93f-4277-956a-eec4cd886d27\" type=\"checkbox\" ><label class=\"sk-toggleable__label\" for=\"b97d1899-f93f-4277-956a-eec4cd886d27\">randomizedsearchcv: RandomizedSearchCV</label><div class=\"sk-toggleable__content\"><pre>RandomizedSearchCV(estimator=XGBClassifier(base_score=0.5, booster='gbtree',\n",
       "                                           colsample_bylevel=1,\n",
       "                                           colsample_bynode=1,\n",
       "                                           colsample_bytree=1,\n",
       "                                           enable_categorical=False, gamma=3,\n",
       "                                           gpu_id=-1, importance_type=None,\n",
       "                                           interaction_constraints='',\n",
       "                                           learning_rate=0.2, max_delta_step=0,\n",
       "                                           max_depth=6, min_child_weight=1,\n",
       "                                           missing=nan,\n",
       "                                           monotone_constraints='()',\n",
       "                                           n_estimators=100, n_jobs=4,\n",
       "                                           num_parallel_tree=1,\n",
       "                                           predictor='auto', random_state=0,\n",
       "                                           reg_alpha=0, reg_lambda=1,\n",
       "                                           scale_pos_weight=1, subsample=1,\n",
       "                                           tree_method='exact',\n",
       "                                           validate_parameters=1,\n",
       "                                           verbosity=None),\n",
       "                   param_distributions={'gamma': [6], 'learning_rate': [0.4]},\n",
       "                   verbose=3)</pre></div></div></div><div class=\"sk-parallel\"><div class=\"sk-parallel-item\"><div class=\"sk-item\"><div class=\"sk-serial\"><div class=\"sk-item\"><div class=\"sk-estimator sk-toggleable\"><input class=\"sk-toggleable__control sk-hidden--visually\" id=\"c92b2079-b474-4e80-ac49-0511e63c7f08\" type=\"checkbox\" ><label class=\"sk-toggleable__label\" for=\"c92b2079-b474-4e80-ac49-0511e63c7f08\">XGBClassifier</label><div class=\"sk-toggleable__content\"><pre>XGBClassifier(base_score=0.5, booster='gbtree', colsample_bylevel=1,\n",
       "              colsample_bynode=1, colsample_bytree=1, enable_categorical=False,\n",
       "              gamma=3, gpu_id=-1, importance_type=None,\n",
       "              interaction_constraints='', learning_rate=0.2, max_delta_step=0,\n",
       "              max_depth=6, min_child_weight=1, missing=nan,\n",
       "              monotone_constraints='()', n_estimators=100, n_jobs=4,\n",
       "              num_parallel_tree=1, predictor='auto', random_state=0,\n",
       "              reg_alpha=0, reg_lambda=1, scale_pos_weight=1, subsample=1,\n",
       "              tree_method='exact', validate_parameters=1, verbosity=None)</pre></div></div></div></div></div></div></div></div></div></div></div></div>"
      ],
      "text/plain": [
       "Pipeline(steps=[('columntransformer',\n",
       "                 ColumnTransformer(remainder='passthrough',\n",
       "                                   transformers=[('onehotencoder',\n",
       "                                                  OneHotEncoder(sparse=False),\n",
       "                                                  [2]),\n",
       "                                                 ('ordinalencoder',\n",
       "                                                  OrdinalEncoder(), [1])])),\n",
       "                ('randomizedsearchcv',\n",
       "                 RandomizedSearchCV(estimator=XGBClassifier(base_score=0.5,\n",
       "                                                            booster='gbtree',\n",
       "                                                            colsample_bylevel=1,\n",
       "                                                            colsample_bynode=1,\n",
       "                                                            colsample_bytree=1,\n",
       "                                                            enable_ca...\n",
       "                                                            learning_rate=0.2,\n",
       "                                                            max_delta_step=0,\n",
       "                                                            max_depth=6,\n",
       "                                                            min_child_weight=1,\n",
       "                                                            missing=nan,\n",
       "                                                            monotone_constraints='()',\n",
       "                                                            n_estimators=100,\n",
       "                                                            n_jobs=4,\n",
       "                                                            num_parallel_tree=1,\n",
       "                                                            predictor='auto',\n",
       "                                                            random_state=0,\n",
       "                                                            reg_alpha=0,\n",
       "                                                            reg_lambda=1,\n",
       "                                                            scale_pos_weight=1,\n",
       "                                                            subsample=1,\n",
       "                                                            tree_method='exact',\n",
       "                                                            validate_parameters=1,\n",
       "                                                            verbosity=None),\n",
       "                                    param_distributions={'gamma': [6],\n",
       "                                                         'learning_rate': [0.4]},\n",
       "                                    verbose=3))])"
      ]
     },
     "execution_count": 95,
     "metadata": {},
     "output_type": "execute_result"
    }
   ],
   "source": [
    "pipe_xgbc1.fit(x_train,y_train)"
   ]
  },
  {
   "cell_type": "code",
   "execution_count": 96,
   "id": "f8b8a346",
   "metadata": {
    "execution": {
     "iopub.execute_input": "2023-01-25T05:24:30.388258Z",
     "iopub.status.busy": "2023-01-25T05:24:30.387617Z",
     "iopub.status.idle": "2023-01-25T05:24:30.405887Z",
     "shell.execute_reply": "2023-01-25T05:24:30.406444Z",
     "shell.execute_reply.started": "2022-01-31T12:37:58.261027Z"
    },
    "papermill": {
     "duration": 0.190452,
     "end_time": "2023-01-25T05:24:30.406684",
     "exception": false,
     "start_time": "2023-01-25T05:24:30.216232",
     "status": "completed"
    },
    "tags": []
   },
   "outputs": [
    {
     "data": {
      "text/plain": [
       "array([1, 0, 0, 0, 0, 0, 0, 0, 0, 0, 1, 0, 0, 0, 0, 0, 0, 0, 0, 0, 0, 0,\n",
       "       0, 0, 0, 0, 0, 0, 0, 0, 0, 0, 0, 0, 1, 0, 1, 0, 1, 0, 0, 0, 0, 0,\n",
       "       0, 1, 0, 0, 0, 0, 0, 0, 0, 0, 0, 0, 0, 0, 0, 1, 0, 0, 0, 1, 0, 0,\n",
       "       0, 0, 1, 0, 0, 0, 0, 0, 0, 0, 0, 0, 0, 0, 0, 1, 0, 0, 0, 0, 0, 0,\n",
       "       0, 0, 0, 0, 0, 0, 0, 0, 0, 0, 0, 0, 0, 0, 1, 0, 0, 0, 0, 0, 0, 0,\n",
       "       0, 0, 0, 1, 0, 0, 0, 0, 0, 0, 0, 0, 0, 0, 0, 0, 0, 0, 0, 0, 1, 0,\n",
       "       0, 0, 0, 0, 0, 0, 0, 0, 0, 0, 0, 0, 0, 0, 0, 1, 0, 0, 0, 1, 0, 0,\n",
       "       0, 0, 0, 0, 0, 0, 0, 0, 0, 1, 0, 0, 0, 1, 0, 0, 0, 1, 0, 0, 0, 0,\n",
       "       0, 0, 0, 0, 0, 0, 0, 0, 0, 0, 0, 0, 1, 0, 0, 0, 0, 1, 0, 0, 0, 0,\n",
       "       0, 0, 0, 0, 0, 0, 1, 0, 0, 0, 1, 0, 0, 0, 0, 0, 1, 0, 0, 0, 0, 0,\n",
       "       0, 0, 0, 1, 0, 0, 0, 1, 0, 1, 0, 0, 0, 0, 0, 0, 0, 0, 0, 0, 0, 0,\n",
       "       1, 0, 0, 0, 0, 0, 0, 0, 0, 0, 0, 0, 0, 0, 0, 0, 0, 0, 0, 0, 0, 0,\n",
       "       0, 0, 0, 0, 1, 0, 1, 0, 0, 0, 0, 0, 0, 0, 0, 1, 0, 0, 0, 0, 0, 0,\n",
       "       0, 0, 0, 0, 0, 0, 0, 1, 0, 0, 0, 0, 0, 0, 0, 0, 0, 0, 0, 0, 1, 0,\n",
       "       0, 0, 0, 0, 0, 0, 0, 0, 0, 0, 0, 0, 0, 0, 0, 0, 0, 0, 1, 0, 0, 0,\n",
       "       0, 0, 0, 0, 1, 0, 0, 0, 0, 0, 0, 0, 0, 0, 0, 0, 0, 0, 0, 1, 0, 0,\n",
       "       0, 0, 0, 0, 0, 0, 0, 0, 0, 0, 0, 0, 1, 0, 0, 0, 0, 1, 0, 0, 0, 1,\n",
       "       0, 1, 0, 0, 0, 0, 0, 0, 0, 0, 0, 0, 1, 0, 0, 0, 0, 0, 0, 0, 0, 0,\n",
       "       0, 1, 0, 0, 0, 0, 0, 0, 0, 0, 0, 0, 0, 0, 0, 0, 0, 0, 0, 1, 0, 0,\n",
       "       0, 1, 0, 0, 0, 0, 0, 0, 0, 0, 0, 0, 0, 0, 0, 0, 0, 0, 0, 0, 0, 1,\n",
       "       0, 0, 0, 0, 0, 0, 0, 0, 0, 0, 0, 0, 0, 0, 0, 0, 0, 0, 0, 1, 0, 0,\n",
       "       0, 0, 0, 0, 0, 1, 0, 0, 0, 0, 0, 0, 0, 0, 0, 0, 0, 0, 0, 0, 0, 0,\n",
       "       0, 0, 0, 0, 0, 0, 0, 0, 0, 0, 0, 0, 0, 0, 0, 0, 0, 0, 0, 0, 0, 0,\n",
       "       0, 0, 0, 0, 0, 1, 0, 0, 0, 0, 0, 0, 0, 0, 0, 0, 1, 0, 0, 0, 0, 0,\n",
       "       0, 0, 0, 0, 0, 0, 0, 0, 0, 0, 0, 0, 0, 0, 0, 1, 0, 0, 0, 1, 0, 0,\n",
       "       0, 0, 0, 0, 0, 0, 0, 0, 0, 0, 0, 0, 0, 0, 0, 0, 0, 0, 0, 0, 0, 0,\n",
       "       0, 0, 0, 0, 0, 0, 0, 0, 0, 0, 1, 0, 0, 0, 0, 0, 0, 0, 0, 0, 0, 0,\n",
       "       0, 0, 0, 0, 0, 1, 0, 0, 0, 0, 1, 0, 0, 0, 0, 0, 0, 0, 0, 0, 0, 1,\n",
       "       0, 0, 0, 0, 0, 0, 0, 0, 0, 0, 0, 0, 0, 0, 0, 0, 0, 0, 0, 0, 0, 0,\n",
       "       0, 1, 0, 0, 0, 0, 0, 0, 1, 0, 0, 1, 0, 0, 0, 0, 0, 0, 0, 0, 0, 0,\n",
       "       0, 0, 0, 0, 0, 0, 0, 0, 0, 0, 0, 0, 0, 0, 0, 0, 0, 0, 0, 0, 0, 0,\n",
       "       0, 0, 0, 0, 1, 0, 0, 0, 0, 1, 0, 0, 0, 1, 0, 0, 0, 0, 1, 0, 0, 0,\n",
       "       0, 0, 0, 0, 0, 0, 0, 0, 0, 0, 0, 0, 0, 0, 0, 0, 0, 0, 0, 1, 0, 0,\n",
       "       0, 0, 0, 0, 0, 0, 0, 0, 0, 0, 0, 0, 0, 1, 0, 0, 0, 0, 0, 0, 0, 0,\n",
       "       0, 0, 1, 1, 0, 0, 0, 1, 0, 0, 0, 0, 0, 0, 0, 0, 1, 0, 0, 1, 0, 0,\n",
       "       0, 0, 0, 0, 0, 0, 0, 0, 0, 0, 0, 0, 0, 0])"
      ]
     },
     "execution_count": 96,
     "metadata": {},
     "output_type": "execute_result"
    }
   ],
   "source": [
    "pred_xgbc1=pipe_xgbc1.predict(x_test)\n",
    "pred_xgbc1"
   ]
  },
  {
   "cell_type": "code",
   "execution_count": 97,
   "id": "ed5edbc8",
   "metadata": {
    "execution": {
     "iopub.execute_input": "2023-01-25T05:24:30.751037Z",
     "iopub.status.busy": "2023-01-25T05:24:30.750192Z",
     "iopub.status.idle": "2023-01-25T05:24:30.753442Z",
     "shell.execute_reply": "2023-01-25T05:24:30.753977Z",
     "shell.execute_reply.started": "2022-01-31T12:37:58.282960Z"
    },
    "papermill": {
     "duration": 0.17636,
     "end_time": "2023-01-25T05:24:30.754158",
     "exception": false,
     "start_time": "2023-01-25T05:24:30.577798",
     "status": "completed"
    },
    "tags": []
   },
   "outputs": [
    {
     "data": {
      "text/plain": [
       "88.26530612244898"
      ]
     },
     "execution_count": 97,
     "metadata": {},
     "output_type": "execute_result"
    }
   ],
   "source": [
    "accuracy_score(pred_xgbc1,y_test)*100"
   ]
  },
  {
   "cell_type": "code",
   "execution_count": null,
   "id": "cc0bada1",
   "metadata": {
    "papermill": {
     "duration": 0.169274,
     "end_time": "2023-01-25T05:24:31.091233",
     "exception": false,
     "start_time": "2023-01-25T05:24:30.921959",
     "status": "completed"
    },
    "tags": []
   },
   "outputs": [],
   "source": []
  }
 ],
 "metadata": {
  "kernelspec": {
   "display_name": "Python 3",
   "language": "python",
   "name": "python3"
  },
  "language_info": {
   "codemirror_mode": {
    "name": "ipython",
    "version": 3
   },
   "file_extension": ".py",
   "mimetype": "text/x-python",
   "name": "python",
   "nbconvert_exporter": "python",
   "pygments_lexer": "ipython3",
   "version": "3.7.12"
  },
  "papermill": {
   "default_parameters": {},
   "duration": 102.919325,
   "end_time": "2023-01-25T05:24:32.077125",
   "environment_variables": {},
   "exception": null,
   "input_path": "__notebook__.ipynb",
   "output_path": "__notebook__.ipynb",
   "parameters": {},
   "start_time": "2023-01-25T05:22:49.157800",
   "version": "2.3.3"
  }
 },
 "nbformat": 4,
 "nbformat_minor": 5
}
